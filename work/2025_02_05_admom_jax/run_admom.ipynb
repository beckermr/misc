{
 "cells": [
  {
   "cell_type": "code",
   "execution_count": 1,
   "metadata": {},
   "outputs": [],
   "source": [
    "# %load_ext autoreload\n",
    "# %autoreload 2\n",
    "\n",
    "import jax\n",
    "jax.config.update(\"jax_enable_x64\", True)\n",
    "\n",
    "import jax.numpy as jnp\n",
    "import jax.random as jrandom\n",
    "\n",
    "import galsim"
   ]
  },
  {
   "cell_type": "code",
   "execution_count": 2,
   "metadata": {},
   "outputs": [],
   "source": [
    "# gal = galsim.Gaussian(fwhm=0.5)\n",
    "gal = galsim.Exponential(half_light_radius=0.1)\n",
    "gal = gal.shear(e1=-0.2, e2=0.1)\n",
    "psf_fwhm = 0.4\n",
    "\n",
    "img = galsim.Convolve(\n",
    "    gal,\n",
    "    galsim.Gaussian(fwhm=psf_fwhm),\n",
    ").shift(-0.1, 0.1).drawImage(scale=0.2, nx=51, ny=51)\n",
    "\n",
    "img_gal_only = gal.shift(-0.1, 0.1).drawImage(scale=0.2, nx=51, ny=51)"
   ]
  },
  {
   "cell_type": "code",
   "execution_count": 3,
   "metadata": {},
   "outputs": [
    {
     "name": "stdout",
     "output_type": "stream",
     "text": [
      "gal+psf  [v,y,e1,e2,T,f] flags: [ 0.09872239 -0.09882295 -0.13427564  0.06917057  0.02587661  0.49674432] \n",
      "gal only [v,y,e1,e2,T,f] flags: [ 0.1        -0.1        -0.02652265  0.11469315  0.04306725  0.56283145] \n"
     ]
    }
   ],
   "source": [
    "from ngmix.flags import get_flags_str\n",
    "from admom_jax import admom, _fwhm_to_T, gen_guess_admom\n",
    "\n",
    "cenonly = False\n",
    "\n",
    "# image,\n",
    "# weight,\n",
    "# cen_x, cen_y,\n",
    "# dudx, dudy, dvdx, dvdy,\n",
    "# rng_key,\n",
    "# maxitr=200,\n",
    "# etol=1e-5,\n",
    "# ttol=1e-5,\n",
    "# maxshift=5.0,\n",
    "# unroll=1,\n",
    "\n",
    "cen = (img.array.shape[0] - 1) / 2\n",
    "\n",
    "res = admom(\n",
    "    jnp.array(img.array),\n",
    "    jnp.ones_like(img.array),\n",
    "    cen,\n",
    "    cen,\n",
    "    0.2, 0.0, 0.0, 0.2,\n",
    "    gen_guess_admom(jrandom.key(0), guess_T=0.7, jac_scale=0, rng_scale=0),\n",
    "    _fwhm_to_T(psf_fwhm),\n",
    "    unroll=10,\n",
    "    cenonly=cenonly,\n",
    "    maxitr=200,\n",
    ")\n",
    "\n",
    "res_gal_only = admom(\n",
    "    jnp.array(img_gal_only.array),\n",
    "    jnp.ones_like(img_gal_only.array),\n",
    "    cen,\n",
    "    cen,\n",
    "    0.2, 0.0, 0.0, 0.2,\n",
    "    gen_guess_admom(jrandom.key(0), guess_T=0.7, jac_scale=0, rng_scale=0),\n",
    "    _fwhm_to_T(0.0),\n",
    "    unroll=10,\n",
    "    cenonly=cenonly,\n",
    "    maxitr=200,\n",
    ")\n",
    "\n",
    "print(\"gal+psf  [v,y,e1,e2,T,f] flags:\", res[0], get_flags_str(res[1]))\n",
    "print(\"gal only [v,y,e1,e2,T,f] flags:\", res_gal_only[0], get_flags_str(res_gal_only[1]))"
   ]
  },
  {
   "cell_type": "code",
   "execution_count": 4,
   "metadata": {},
   "outputs": [
    {
     "name": "stdout",
     "output_type": "stream",
     "text": [
      "0.5628027012923615 0 46\n"
     ]
    }
   ],
   "source": [
    "import numpy as np\n",
    "import ngmix\n",
    "\n",
    "from ngmix.admom import run_admom, find_cen_admom\n",
    "\n",
    "obs = ngmix.Observation(\n",
    "    image=np.array(img_gal_only.array),\n",
    "    weight=np.ones_like(img_gal_only.array),\n",
    "    jacobian=ngmix.DiagonalJacobian(scale=0.2, row=cen, col=cen),\n",
    ")\n",
    "\n",
    "if cenonly:\n",
    "    ngres = find_cen_admom(obs, 0.7, maxiter=200)\n",
    "else:\n",
    "    ngres = run_admom(obs, 0.7, cenonly=cenonly, maxiter=200)\n",
    "print(ngres[\"flux\"], ngres[\"flags\"], ngres[\"numiter\"])"
   ]
  },
  {
   "cell_type": "code",
   "execution_count": null,
   "metadata": {},
   "outputs": [],
   "source": []
  }
 ],
 "metadata": {
  "kernelspec": {
   "display_name": "jax-galsim",
   "language": "python",
   "name": "python3"
  },
  "language_info": {
   "codemirror_mode": {
    "name": "ipython",
    "version": 3
   },
   "file_extension": ".py",
   "mimetype": "text/x-python",
   "name": "python",
   "nbconvert_exporter": "python",
   "pygments_lexer": "ipython3",
   "version": "3.10.15"
  }
 },
 "nbformat": 4,
 "nbformat_minor": 2
}
