{
 "cells": [
  {
   "cell_type": "code",
   "execution_count": 2,
   "metadata": {},
   "outputs": [],
   "source": [
    "%load_ext autoreload\n",
    "%autoreload 2\n",
    "\n",
    "import jax\n",
    "jax.config.update(\"jax_enable_x64\", True)\n",
    "\n",
    "import jax.numpy as jnp\n",
    "import jax.random as jrandom\n",
    "\n",
    "import galsim"
   ]
  },
  {
   "cell_type": "code",
   "execution_count": 3,
   "metadata": {},
   "outputs": [],
   "source": [
    "gal = galsim.Gaussian(fwhm=0.5)\n",
    "# gal = galsim.Exponential(half_light_radius=0.5)\n",
    "gal = gal.shear(e1=-0.2, e2=0.1)\n",
    "psf_fwhm = 0.9\n",
    "\n",
    "img = galsim.Convolve(\n",
    "    gal,\n",
    "    galsim.Gaussian(fwhm=psf_fwhm),\n",
    ").shift(-0.1, 0.1).drawImage(scale=0.2, nx=51, ny=51)\n",
    "\n",
    "img_gal_only = gal.shift(-0.1, 0.1).drawImage(scale=0.2, nx=51, ny=51)"
   ]
  },
  {
   "cell_type": "code",
   "execution_count": 4,
   "metadata": {},
   "outputs": [
    {
     "name": "stdout",
     "output_type": "stream",
     "text": [
      "gal+psf  [v,y,e1,e2,T,f] flags: [ 0.09281231 -0.09329191 -0.18647416  0.09324537  0.09921244  0.49975894] \n",
      "gal only [v,y,e1,e2,T,f] flags: [ 0.09832833 -0.0988329  -0.18438229  0.09331477  0.09946821  0.50055251] \n"
     ]
    }
   ],
   "source": [
    "from ngmix.flags import get_flags_str\n",
    "from admom_jax import admom\n",
    "from admom_core import Obs, fwhm_to_T, gen_guess_admom, obs_to_admom_obs\n",
    "\n",
    "cenonly = False\n",
    "cen = (img.array.shape[0] - 1) / 2\n",
    "\n",
    "obs = Obs(\n",
    "    image=img.array,\n",
    "    weight=jnp.ones_like(img.array),\n",
    "    cen_x=cen,\n",
    "    cen_y=cen,\n",
    "    dudx=0.2,\n",
    "    dudy=0.0,\n",
    "    dvdx=0.0,\n",
    "    dvdy=0.2,\n",
    "    psf_T=fwhm_to_T(psf_fwhm),\n",
    ")\n",
    "\n",
    "res = admom(\n",
    "    [obs],\n",
    "    gen_guess_admom(jrandom.key(0), guess_T=0.7, jac_scale=0, rng_scale=0),\n",
    "    unroll=10,\n",
    "    cenonly=cenonly,\n",
    "    maxitr=200,\n",
    ")\n",
    "\n",
    "obs_gal_only = Obs(\n",
    "    image=img_gal_only.array,\n",
    "    weight=jnp.ones_like(img_gal_only.array),\n",
    "    cen_x=cen,\n",
    "    cen_y=cen,\n",
    "    dudx=0.2,\n",
    "    dudy=0.0,\n",
    "    dvdx=0.0,\n",
    "    dvdy=0.2,\n",
    "    psf_T=0.0,\n",
    ")\n",
    "\n",
    "res_gal_only = admom(\n",
    "    [obs_gal_only],\n",
    "    gen_guess_admom(jrandom.key(0), guess_T=0.7, jac_scale=0, rng_scale=0),\n",
    "    unroll=10,\n",
    "    cenonly=cenonly,\n",
    "    maxitr=200,\n",
    ")\n",
    "\n",
    "print(\"gal+psf  [v,y,e1,e2,T,f] flags:\", res[0], get_flags_str(res[1]))\n",
    "print(\"gal only [v,y,e1,e2,T,f] flags:\", res_gal_only[0], get_flags_str(res_gal_only[1]))"
   ]
  },
  {
   "cell_type": "code",
   "execution_count": 9,
   "metadata": {},
   "outputs": [
    {
     "name": "stdout",
     "output_type": "stream",
     "text": [
      "gal+psf  [v,y,e1,e2,T,f0,...,fn] flags: [ 0.09208565 -0.09248379 -0.18649318  0.09325204  0.0992054   0.49969545\n",
      "  0.99911226  1.49934406] \n"
     ]
    }
   ],
   "source": [
    "gal = galsim.Gaussian(fwhm=0.5)\n",
    "# gal = galsim.Exponential(half_light_radius=0.5)\n",
    "gal = gal.shear(e1=-0.2, e2=0.1)\n",
    "obs_list = []\n",
    "\n",
    "for i, psf_fwhm in enumerate([0.9, 0.7, 1.1]):\n",
    "    img = galsim.Convolve(\n",
    "        gal,\n",
    "        galsim.Gaussian(fwhm=psf_fwhm),\n",
    "    ).shift(-0.1, 0.1).drawImage(scale=0.2, nx=51, ny=51)\n",
    "\n",
    "    obs_list.append(Obs(\n",
    "        image=img.array * (i + 1),\n",
    "        weight=jnp.ones_like(img.array) * 10 ** (i - 1),\n",
    "        cen_x=cen,\n",
    "        cen_y=cen,\n",
    "        dudx=0.2,\n",
    "        dudy=0.0,\n",
    "        dvdx=0.0,\n",
    "        dvdy=0.2,\n",
    "        psf_T=fwhm_to_T(psf_fwhm),\n",
    "    ))\n",
    "\n",
    "res = admom(\n",
    "    obs_list,\n",
    "    gen_guess_admom(jrandom.key(0), n_obs=len(obs_list), guess_T=0.7, jac_scale=0, rng_scale=0),\n",
    "    unroll=10,\n",
    "    cenonly=cenonly,\n",
    "    maxitr=20,\n",
    ")\n",
    "\n",
    "print(\"gal+psf  [v,y,e1,e2,T,f0,...,fn] flags:\", res[0], get_flags_str(res[1]))"
   ]
  },
  {
   "cell_type": "code",
   "execution_count": null,
   "metadata": {},
   "outputs": [],
   "source": []
  }
 ],
 "metadata": {
  "kernelspec": {
   "display_name": "jax-galsim",
   "language": "python",
   "name": "python3"
  },
  "language_info": {
   "codemirror_mode": {
    "name": "ipython",
    "version": 3
   },
   "file_extension": ".py",
   "mimetype": "text/x-python",
   "name": "python",
   "nbconvert_exporter": "python",
   "pygments_lexer": "ipython3",
   "version": "3.10.15"
  }
 },
 "nbformat": 4,
 "nbformat_minor": 2
}
