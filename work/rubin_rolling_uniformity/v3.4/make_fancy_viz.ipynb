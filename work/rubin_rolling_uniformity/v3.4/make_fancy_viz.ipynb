{
 "cells": [
  {
   "cell_type": "code",
   "execution_count": 1,
   "id": "3e12aa8a-f151-48a2-92a6-b999e6b6ae5c",
   "metadata": {},
   "outputs": [],
   "source": [
    "import os\n",
    "\n",
    "# import healpy as hp\n",
    "import numpy as np\n",
    "import skyproj\n",
    "import skyproj.hpx_utils\n",
    "import proplot as pplt\n",
    "# import matplotlib.pyplot as plt\n",
    "import fitsio\n",
    "\n",
    "import rubin_sim\n",
    "from rubin_sim import maf\n",
    "from rubin_sim.scheduler.utils import SkyAreaGenerator\n",
    "# from rubin_sim.utils import raDec2Hpid\n",
    "\n",
    "from rubin_sim import maf"
   ]
  },
  {
   "cell_type": "code",
   "execution_count": 2,
   "id": "85fe8206",
   "metadata": {},
   "outputs": [],
   "source": [
    "nside = 128\n",
    "\n",
    "sm = SkyAreaGenerator(nside=nside)\n",
    "footprints_hp_array, labels = sm.return_maps()\n",
    "wfd_indx = np.where((labels == 'lowdust') | (labels == 'virgo'))[0]"
   ]
  },
  {
   "cell_type": "code",
   "execution_count": 3,
   "id": "62dc096f-4a63-4a3d-962f-b34228935184",
   "metadata": {
    "scrolled": true
   },
   "outputs": [
    {
     "name": "stdout",
     "output_type": "stream",
     "text": [
      "[Parallel(n_jobs=8)]: Using backend LokyBackend with 8 concurrent workers.\n"
     ]
    },
    {
     "name": "stderr",
     "output_type": "stream",
     "text": [
      "/Users/beckermr/mambaforge/envs/rubin-sims/lib/python3.10/site-packages/cartopy/mpl/geoaxes.py:403: UserWarning: The `map_projection` keyword argument is deprecated, use `projection` to instantiate a GeoAxes instead.\n",
      "  warnings.warn(\"The `map_projection` keyword argument is \"\n",
      "/Users/beckermr/mambaforge/envs/rubin-sims/lib/python3.10/site-packages/cartopy/mpl/geoaxes.py:403: UserWarning: The `map_projection` keyword argument is deprecated, use `projection` to instantiate a GeoAxes instead.\n",
      "  warnings.warn(\"The `map_projection` keyword argument is \"\n",
      "/Users/beckermr/mambaforge/envs/rubin-sims/lib/python3.10/site-packages/cartopy/mpl/geoaxes.py:403: UserWarning: The `map_projection` keyword argument is deprecated, use `projection` to instantiate a GeoAxes instead.\n",
      "  warnings.warn(\"The `map_projection` keyword argument is \"\n",
      "/Users/beckermr/mambaforge/envs/rubin-sims/lib/python3.10/site-packages/cartopy/mpl/geoaxes.py:403: UserWarning: The `map_projection` keyword argument is deprecated, use `projection` to instantiate a GeoAxes instead.\n",
      "  warnings.warn(\"The `map_projection` keyword argument is \"\n",
      "/Users/beckermr/mambaforge/envs/rubin-sims/lib/python3.10/site-packages/cartopy/mpl/geoaxes.py:403: UserWarning: The `map_projection` keyword argument is deprecated, use `projection` to instantiate a GeoAxes instead.\n",
      "  warnings.warn(\"The `map_projection` keyword argument is \"\n",
      "/Users/beckermr/mambaforge/envs/rubin-sims/lib/python3.10/site-packages/cartopy/mpl/geoaxes.py:403: UserWarning: The `map_projection` keyword argument is deprecated, use `projection` to instantiate a GeoAxes instead.\n",
      "  warnings.warn(\"The `map_projection` keyword argument is \"\n",
      "/Users/beckermr/mambaforge/envs/rubin-sims/lib/python3.10/site-packages/cartopy/mpl/geoaxes.py:403: UserWarning: The `map_projection` keyword argument is deprecated, use `projection` to instantiate a GeoAxes instead.\n",
      "  warnings.warn(\"The `map_projection` keyword argument is \"\n",
      "/Users/beckermr/mambaforge/envs/rubin-sims/lib/python3.10/site-packages/cartopy/mpl/geoaxes.py:403: UserWarning: The `map_projection` keyword argument is deprecated, use `projection` to instantiate a GeoAxes instead.\n",
      "  warnings.warn(\"The `map_projection` keyword argument is \"\n",
      "/Users/beckermr/mambaforge/envs/rubin-sims/lib/python3.10/site-packages/cartopy/mpl/geoaxes.py:403: UserWarning: The `map_projection` keyword argument is deprecated, use `projection` to instantiate a GeoAxes instead.\n",
      "  warnings.warn(\"The `map_projection` keyword argument is \"\n",
      "/Users/beckermr/mambaforge/envs/rubin-sims/lib/python3.10/site-packages/cartopy/mpl/geoaxes.py:403: UserWarning: The `map_projection` keyword argument is deprecated, use `projection` to instantiate a GeoAxes instead.\n",
      "  warnings.warn(\"The `map_projection` keyword argument is \"\n",
      "/Users/beckermr/mambaforge/envs/rubin-sims/lib/python3.10/site-packages/cartopy/mpl/geoaxes.py:403: UserWarning: The `map_projection` keyword argument is deprecated, use `projection` to instantiate a GeoAxes instead.\n",
      "  warnings.warn(\"The `map_projection` keyword argument is \"\n",
      "/Users/beckermr/mambaforge/envs/rubin-sims/lib/python3.10/site-packages/cartopy/mpl/geoaxes.py:403: UserWarning: The `map_projection` keyword argument is deprecated, use `projection` to instantiate a GeoAxes instead.\n",
      "  warnings.warn(\"The `map_projection` keyword argument is \"\n",
      "/Users/beckermr/mambaforge/envs/rubin-sims/lib/python3.10/site-packages/cartopy/mpl/geoaxes.py:403: UserWarning: The `map_projection` keyword argument is deprecated, use `projection` to instantiate a GeoAxes instead.\n",
      "  warnings.warn(\"The `map_projection` keyword argument is \"\n",
      "/Users/beckermr/mambaforge/envs/rubin-sims/lib/python3.10/site-packages/cartopy/mpl/geoaxes.py:403: UserWarning: The `map_projection` keyword argument is deprecated, use `projection` to instantiate a GeoAxes instead.\n",
      "  warnings.warn(\"The `map_projection` keyword argument is \"\n",
      "/Users/beckermr/mambaforge/envs/rubin-sims/lib/python3.10/site-packages/cartopy/mpl/geoaxes.py:403: UserWarning: The `map_projection` keyword argument is deprecated, use `projection` to instantiate a GeoAxes instead.\n",
      "  warnings.warn(\"The `map_projection` keyword argument is \"\n",
      "/Users/beckermr/mambaforge/envs/rubin-sims/lib/python3.10/site-packages/cartopy/mpl/geoaxes.py:403: UserWarning: The `map_projection` keyword argument is deprecated, use `projection` to instantiate a GeoAxes instead.\n",
      "  warnings.warn(\"The `map_projection` keyword argument is \"\n"
     ]
    },
    {
     "name": "stdout",
     "output_type": "stream",
     "text": [
      "[Parallel(n_jobs=8)]: Done   1 tasks      | elapsed:   32.8s\n",
      "[Parallel(n_jobs=8)]: Done   2 tasks      | elapsed:   32.9s\n"
     ]
    },
    {
     "name": "stderr",
     "output_type": "stream",
     "text": [
      "/Users/beckermr/mambaforge/envs/rubin-sims/lib/python3.10/site-packages/cartopy/mpl/geoaxes.py:403: UserWarning: The `map_projection` keyword argument is deprecated, use `projection` to instantiate a GeoAxes instead.\n",
      "  warnings.warn(\"The `map_projection` keyword argument is \"\n",
      "/Users/beckermr/mambaforge/envs/rubin-sims/lib/python3.10/site-packages/cartopy/mpl/geoaxes.py:403: UserWarning: The `map_projection` keyword argument is deprecated, use `projection` to instantiate a GeoAxes instead.\n",
      "  warnings.warn(\"The `map_projection` keyword argument is \"\n",
      "/Users/beckermr/mambaforge/envs/rubin-sims/lib/python3.10/site-packages/cartopy/mpl/geoaxes.py:403: UserWarning: The `map_projection` keyword argument is deprecated, use `projection` to instantiate a GeoAxes instead.\n",
      "  warnings.warn(\"The `map_projection` keyword argument is \"\n",
      "/Users/beckermr/mambaforge/envs/rubin-sims/lib/python3.10/site-packages/cartopy/mpl/geoaxes.py:403: UserWarning: The `map_projection` keyword argument is deprecated, use `projection` to instantiate a GeoAxes instead.\n",
      "  warnings.warn(\"The `map_projection` keyword argument is \"\n",
      "/Users/beckermr/mambaforge/envs/rubin-sims/lib/python3.10/site-packages/cartopy/mpl/geoaxes.py:403: UserWarning: The `map_projection` keyword argument is deprecated, use `projection` to instantiate a GeoAxes instead.\n",
      "  warnings.warn(\"The `map_projection` keyword argument is \"\n"
     ]
    },
    {
     "name": "stdout",
     "output_type": "stream",
     "text": [
      "[Parallel(n_jobs=8)]: Done   3 tasks      | elapsed:   33.1s\n"
     ]
    },
    {
     "name": "stderr",
     "output_type": "stream",
     "text": [
      "/Users/beckermr/mambaforge/envs/rubin-sims/lib/python3.10/site-packages/cartopy/mpl/geoaxes.py:403: UserWarning: The `map_projection` keyword argument is deprecated, use `projection` to instantiate a GeoAxes instead.\n",
      "  warnings.warn(\"The `map_projection` keyword argument is \"\n"
     ]
    },
    {
     "name": "stdout",
     "output_type": "stream",
     "text": [
      "[Parallel(n_jobs=8)]: Done   4 tasks      | elapsed:   33.7s\n",
      "[Parallel(n_jobs=8)]: Done   5 tasks      | elapsed:   33.8s\n"
     ]
    },
    {
     "name": "stderr",
     "output_type": "stream",
     "text": [
      "/Users/beckermr/mambaforge/envs/rubin-sims/lib/python3.10/site-packages/cartopy/mpl/geoaxes.py:403: UserWarning: The `map_projection` keyword argument is deprecated, use `projection` to instantiate a GeoAxes instead.\n",
      "  warnings.warn(\"The `map_projection` keyword argument is \"\n",
      "/Users/beckermr/mambaforge/envs/rubin-sims/lib/python3.10/site-packages/cartopy/mpl/geoaxes.py:403: UserWarning: The `map_projection` keyword argument is deprecated, use `projection` to instantiate a GeoAxes instead.\n",
      "  warnings.warn(\"The `map_projection` keyword argument is \"\n",
      "/Users/beckermr/mambaforge/envs/rubin-sims/lib/python3.10/site-packages/cartopy/mpl/geoaxes.py:403: UserWarning: The `map_projection` keyword argument is deprecated, use `projection` to instantiate a GeoAxes instead.\n",
      "  warnings.warn(\"The `map_projection` keyword argument is \"\n",
      "/Users/beckermr/mambaforge/envs/rubin-sims/lib/python3.10/site-packages/cartopy/mpl/geoaxes.py:403: UserWarning: The `map_projection` keyword argument is deprecated, use `projection` to instantiate a GeoAxes instead.\n",
      "  warnings.warn(\"The `map_projection` keyword argument is \"\n"
     ]
    },
    {
     "name": "stdout",
     "output_type": "stream",
     "text": [
      "[Parallel(n_jobs=8)]: Done   6 tasks      | elapsed:   34.0s\n",
      "[Parallel(n_jobs=8)]: Done   7 tasks      | elapsed:   34.2s\n"
     ]
    },
    {
     "name": "stderr",
     "output_type": "stream",
     "text": [
      "/Users/beckermr/mambaforge/envs/rubin-sims/lib/python3.10/site-packages/cartopy/mpl/geoaxes.py:403: UserWarning: The `map_projection` keyword argument is deprecated, use `projection` to instantiate a GeoAxes instead.\n",
      "  warnings.warn(\"The `map_projection` keyword argument is \"\n",
      "/Users/beckermr/mambaforge/envs/rubin-sims/lib/python3.10/site-packages/cartopy/mpl/geoaxes.py:403: UserWarning: The `map_projection` keyword argument is deprecated, use `projection` to instantiate a GeoAxes instead.\n",
      "  warnings.warn(\"The `map_projection` keyword argument is \"\n",
      "/Users/beckermr/mambaforge/envs/rubin-sims/lib/python3.10/site-packages/cartopy/mpl/geoaxes.py:403: UserWarning: The `map_projection` keyword argument is deprecated, use `projection` to instantiate a GeoAxes instead.\n",
      "  warnings.warn(\"The `map_projection` keyword argument is \"\n",
      "/Users/beckermr/mambaforge/envs/rubin-sims/lib/python3.10/site-packages/cartopy/mpl/geoaxes.py:403: UserWarning: The `map_projection` keyword argument is deprecated, use `projection` to instantiate a GeoAxes instead.\n",
      "  warnings.warn(\"The `map_projection` keyword argument is \"\n"
     ]
    },
    {
     "name": "stdout",
     "output_type": "stream",
     "text": [
      "[Parallel(n_jobs=8)]: Done   8 tasks      | elapsed:   35.1s\n"
     ]
    },
    {
     "name": "stderr",
     "output_type": "stream",
     "text": [
      "/Users/beckermr/mambaforge/envs/rubin-sims/lib/python3.10/site-packages/cartopy/mpl/geoaxes.py:403: UserWarning: The `map_projection` keyword argument is deprecated, use `projection` to instantiate a GeoAxes instead.\n",
      "  warnings.warn(\"The `map_projection` keyword argument is \"\n",
      "/Users/beckermr/mambaforge/envs/rubin-sims/lib/python3.10/site-packages/cartopy/mpl/geoaxes.py:403: UserWarning: The `map_projection` keyword argument is deprecated, use `projection` to instantiate a GeoAxes instead.\n",
      "  warnings.warn(\"The `map_projection` keyword argument is \"\n"
     ]
    },
    {
     "name": "stdout",
     "output_type": "stream",
     "text": [
      "[Parallel(n_jobs=8)]: Done   9 tasks      | elapsed:  1.0min\n"
     ]
    },
    {
     "name": "stderr",
     "output_type": "stream",
     "text": [
      "/Users/beckermr/mambaforge/envs/rubin-sims/lib/python3.10/site-packages/cartopy/mpl/geoaxes.py:403: UserWarning: The `map_projection` keyword argument is deprecated, use `projection` to instantiate a GeoAxes instead.\n",
      "  warnings.warn(\"The `map_projection` keyword argument is \"\n",
      "/Users/beckermr/mambaforge/envs/rubin-sims/lib/python3.10/site-packages/cartopy/mpl/geoaxes.py:403: UserWarning: The `map_projection` keyword argument is deprecated, use `projection` to instantiate a GeoAxes instead.\n",
      "  warnings.warn(\"The `map_projection` keyword argument is \"\n"
     ]
    },
    {
     "name": "stdout",
     "output_type": "stream",
     "text": [
      "[Parallel(n_jobs=8)]: Done  10 tasks      | elapsed:  1.0min\n"
     ]
    },
    {
     "name": "stderr",
     "output_type": "stream",
     "text": [
      "/Users/beckermr/mambaforge/envs/rubin-sims/lib/python3.10/site-packages/cartopy/mpl/geoaxes.py:403: UserWarning: The `map_projection` keyword argument is deprecated, use `projection` to instantiate a GeoAxes instead.\n",
      "  warnings.warn(\"The `map_projection` keyword argument is \"\n",
      "/Users/beckermr/mambaforge/envs/rubin-sims/lib/python3.10/site-packages/cartopy/mpl/geoaxes.py:403: UserWarning: The `map_projection` keyword argument is deprecated, use `projection` to instantiate a GeoAxes instead.\n",
      "  warnings.warn(\"The `map_projection` keyword argument is \"\n"
     ]
    },
    {
     "name": "stdout",
     "output_type": "stream",
     "text": [
      "[Parallel(n_jobs=8)]: Done  11 tasks      | elapsed:  1.1min\n"
     ]
    },
    {
     "name": "stderr",
     "output_type": "stream",
     "text": [
      "/Users/beckermr/mambaforge/envs/rubin-sims/lib/python3.10/site-packages/cartopy/mpl/geoaxes.py:403: UserWarning: The `map_projection` keyword argument is deprecated, use `projection` to instantiate a GeoAxes instead.\n",
      "  warnings.warn(\"The `map_projection` keyword argument is \"\n",
      "/Users/beckermr/mambaforge/envs/rubin-sims/lib/python3.10/site-packages/cartopy/mpl/geoaxes.py:403: UserWarning: The `map_projection` keyword argument is deprecated, use `projection` to instantiate a GeoAxes instead.\n",
      "  warnings.warn(\"The `map_projection` keyword argument is \"\n"
     ]
    },
    {
     "name": "stdout",
     "output_type": "stream",
     "text": [
      "[Parallel(n_jobs=8)]: Done  12 tasks      | elapsed:  1.1min\n",
      "[Parallel(n_jobs=8)]: Done  13 tasks      | elapsed:  1.1min\n"
     ]
    },
    {
     "name": "stderr",
     "output_type": "stream",
     "text": [
      "/Users/beckermr/mambaforge/envs/rubin-sims/lib/python3.10/site-packages/cartopy/mpl/geoaxes.py:403: UserWarning: The `map_projection` keyword argument is deprecated, use `projection` to instantiate a GeoAxes instead.\n",
      "  warnings.warn(\"The `map_projection` keyword argument is \"\n",
      "/Users/beckermr/mambaforge/envs/rubin-sims/lib/python3.10/site-packages/cartopy/mpl/geoaxes.py:403: UserWarning: The `map_projection` keyword argument is deprecated, use `projection` to instantiate a GeoAxes instead.\n",
      "  warnings.warn(\"The `map_projection` keyword argument is \"\n",
      "/Users/beckermr/mambaforge/envs/rubin-sims/lib/python3.10/site-packages/cartopy/mpl/geoaxes.py:403: UserWarning: The `map_projection` keyword argument is deprecated, use `projection` to instantiate a GeoAxes instead.\n",
      "  warnings.warn(\"The `map_projection` keyword argument is \"\n",
      "/Users/beckermr/mambaforge/envs/rubin-sims/lib/python3.10/site-packages/cartopy/mpl/geoaxes.py:403: UserWarning: The `map_projection` keyword argument is deprecated, use `projection` to instantiate a GeoAxes instead.\n",
      "  warnings.warn(\"The `map_projection` keyword argument is \"\n",
      "/Users/beckermr/mambaforge/envs/rubin-sims/lib/python3.10/site-packages/cartopy/mpl/geoaxes.py:403: UserWarning: The `map_projection` keyword argument is deprecated, use `projection` to instantiate a GeoAxes instead.\n",
      "  warnings.warn(\"The `map_projection` keyword argument is \"\n",
      "/Users/beckermr/mambaforge/envs/rubin-sims/lib/python3.10/site-packages/cartopy/mpl/geoaxes.py:403: UserWarning: The `map_projection` keyword argument is deprecated, use `projection` to instantiate a GeoAxes instead.\n",
      "  warnings.warn(\"The `map_projection` keyword argument is \"\n"
     ]
    },
    {
     "name": "stdout",
     "output_type": "stream",
     "text": [
      "[Parallel(n_jobs=8)]: Done  14 tasks      | elapsed:  1.1min\n",
      "[Parallel(n_jobs=8)]: Done  15 tasks      | elapsed:  1.1min\n"
     ]
    },
    {
     "name": "stderr",
     "output_type": "stream",
     "text": [
      "/Users/beckermr/mambaforge/envs/rubin-sims/lib/python3.10/site-packages/cartopy/mpl/geoaxes.py:403: UserWarning: The `map_projection` keyword argument is deprecated, use `projection` to instantiate a GeoAxes instead.\n",
      "  warnings.warn(\"The `map_projection` keyword argument is \"\n",
      "/Users/beckermr/mambaforge/envs/rubin-sims/lib/python3.10/site-packages/cartopy/mpl/geoaxes.py:403: UserWarning: The `map_projection` keyword argument is deprecated, use `projection` to instantiate a GeoAxes instead.\n",
      "  warnings.warn(\"The `map_projection` keyword argument is \"\n"
     ]
    },
    {
     "name": "stdout",
     "output_type": "stream",
     "text": [
      "[Parallel(n_jobs=8)]: Done  16 tasks      | elapsed:  1.1min\n"
     ]
    },
    {
     "name": "stderr",
     "output_type": "stream",
     "text": [
      "/Users/beckermr/mambaforge/envs/rubin-sims/lib/python3.10/site-packages/cartopy/mpl/geoaxes.py:403: UserWarning: The `map_projection` keyword argument is deprecated, use `projection` to instantiate a GeoAxes instead.\n",
      "  warnings.warn(\"The `map_projection` keyword argument is \"\n",
      "/Users/beckermr/mambaforge/envs/rubin-sims/lib/python3.10/site-packages/cartopy/mpl/geoaxes.py:403: UserWarning: The `map_projection` keyword argument is deprecated, use `projection` to instantiate a GeoAxes instead.\n",
      "  warnings.warn(\"The `map_projection` keyword argument is \"\n"
     ]
    },
    {
     "name": "stdout",
     "output_type": "stream",
     "text": [
      "[Parallel(n_jobs=8)]: Done  17 tasks      | elapsed:  1.5min\n"
     ]
    },
    {
     "name": "stderr",
     "output_type": "stream",
     "text": [
      "/Users/beckermr/mambaforge/envs/rubin-sims/lib/python3.10/site-packages/cartopy/mpl/geoaxes.py:403: UserWarning: The `map_projection` keyword argument is deprecated, use `projection` to instantiate a GeoAxes instead.\n",
      "  warnings.warn(\"The `map_projection` keyword argument is \"\n",
      "/Users/beckermr/mambaforge/envs/rubin-sims/lib/python3.10/site-packages/cartopy/mpl/geoaxes.py:403: UserWarning: The `map_projection` keyword argument is deprecated, use `projection` to instantiate a GeoAxes instead.\n",
      "  warnings.warn(\"The `map_projection` keyword argument is \"\n"
     ]
    },
    {
     "name": "stdout",
     "output_type": "stream",
     "text": [
      "[Parallel(n_jobs=8)]: Done  18 tasks      | elapsed:  1.5min\n",
      "[Parallel(n_jobs=8)]: Done  19 tasks      | elapsed:  1.5min\n"
     ]
    },
    {
     "name": "stderr",
     "output_type": "stream",
     "text": [
      "/Users/beckermr/mambaforge/envs/rubin-sims/lib/python3.10/site-packages/cartopy/mpl/geoaxes.py:403: UserWarning: The `map_projection` keyword argument is deprecated, use `projection` to instantiate a GeoAxes instead.\n",
      "  warnings.warn(\"The `map_projection` keyword argument is \"\n",
      "/Users/beckermr/mambaforge/envs/rubin-sims/lib/python3.10/site-packages/cartopy/mpl/geoaxes.py:403: UserWarning: The `map_projection` keyword argument is deprecated, use `projection` to instantiate a GeoAxes instead.\n",
      "  warnings.warn(\"The `map_projection` keyword argument is \"\n"
     ]
    },
    {
     "name": "stdout",
     "output_type": "stream",
     "text": [
      "[Parallel(n_jobs=8)]: Done  20 tasks      | elapsed:  1.5min\n",
      "[Parallel(n_jobs=8)]: Done  21 tasks      | elapsed:  1.5min\n"
     ]
    },
    {
     "name": "stderr",
     "output_type": "stream",
     "text": [
      "/Users/beckermr/mambaforge/envs/rubin-sims/lib/python3.10/site-packages/cartopy/mpl/geoaxes.py:403: UserWarning: The `map_projection` keyword argument is deprecated, use `projection` to instantiate a GeoAxes instead.\n",
      "  warnings.warn(\"The `map_projection` keyword argument is \"\n",
      "/Users/beckermr/mambaforge/envs/rubin-sims/lib/python3.10/site-packages/cartopy/mpl/geoaxes.py:403: UserWarning: The `map_projection` keyword argument is deprecated, use `projection` to instantiate a GeoAxes instead.\n",
      "  warnings.warn(\"The `map_projection` keyword argument is \"\n",
      "/Users/beckermr/mambaforge/envs/rubin-sims/lib/python3.10/site-packages/cartopy/mpl/geoaxes.py:403: UserWarning: The `map_projection` keyword argument is deprecated, use `projection` to instantiate a GeoAxes instead.\n",
      "  warnings.warn(\"The `map_projection` keyword argument is \"\n",
      "/Users/beckermr/mambaforge/envs/rubin-sims/lib/python3.10/site-packages/cartopy/mpl/geoaxes.py:403: UserWarning: The `map_projection` keyword argument is deprecated, use `projection` to instantiate a GeoAxes instead.\n",
      "  warnings.warn(\"The `map_projection` keyword argument is \"\n",
      "/Users/beckermr/mambaforge/envs/rubin-sims/lib/python3.10/site-packages/cartopy/mpl/geoaxes.py:403: UserWarning: The `map_projection` keyword argument is deprecated, use `projection` to instantiate a GeoAxes instead.\n",
      "  warnings.warn(\"The `map_projection` keyword argument is \"\n",
      "/Users/beckermr/mambaforge/envs/rubin-sims/lib/python3.10/site-packages/cartopy/mpl/geoaxes.py:403: UserWarning: The `map_projection` keyword argument is deprecated, use `projection` to instantiate a GeoAxes instead.\n",
      "  warnings.warn(\"The `map_projection` keyword argument is \"\n"
     ]
    },
    {
     "name": "stdout",
     "output_type": "stream",
     "text": [
      "[Parallel(n_jobs=8)]: Done  22 tasks      | elapsed:  1.5min\n",
      "[Parallel(n_jobs=8)]: Done  23 tasks      | elapsed:  1.5min\n"
     ]
    },
    {
     "name": "stderr",
     "output_type": "stream",
     "text": [
      "/Users/beckermr/mambaforge/envs/rubin-sims/lib/python3.10/site-packages/cartopy/mpl/geoaxes.py:403: UserWarning: The `map_projection` keyword argument is deprecated, use `projection` to instantiate a GeoAxes instead.\n",
      "  warnings.warn(\"The `map_projection` keyword argument is \"\n",
      "/Users/beckermr/mambaforge/envs/rubin-sims/lib/python3.10/site-packages/cartopy/mpl/geoaxes.py:403: UserWarning: The `map_projection` keyword argument is deprecated, use `projection` to instantiate a GeoAxes instead.\n",
      "  warnings.warn(\"The `map_projection` keyword argument is \"\n",
      "/Users/beckermr/mambaforge/envs/rubin-sims/lib/python3.10/site-packages/cartopy/mpl/geoaxes.py:403: UserWarning: The `map_projection` keyword argument is deprecated, use `projection` to instantiate a GeoAxes instead.\n",
      "  warnings.warn(\"The `map_projection` keyword argument is \"\n",
      "/Users/beckermr/mambaforge/envs/rubin-sims/lib/python3.10/site-packages/cartopy/mpl/geoaxes.py:403: UserWarning: The `map_projection` keyword argument is deprecated, use `projection` to instantiate a GeoAxes instead.\n",
      "  warnings.warn(\"The `map_projection` keyword argument is \"\n"
     ]
    },
    {
     "name": "stdout",
     "output_type": "stream",
     "text": [
      "[Parallel(n_jobs=8)]: Done  24 tasks      | elapsed:  1.6min\n"
     ]
    },
    {
     "name": "stderr",
     "output_type": "stream",
     "text": [
      "/Users/beckermr/mambaforge/envs/rubin-sims/lib/python3.10/site-packages/cartopy/mpl/geoaxes.py:403: UserWarning: The `map_projection` keyword argument is deprecated, use `projection` to instantiate a GeoAxes instead.\n",
      "  warnings.warn(\"The `map_projection` keyword argument is \"\n",
      "/Users/beckermr/mambaforge/envs/rubin-sims/lib/python3.10/site-packages/cartopy/mpl/geoaxes.py:403: UserWarning: The `map_projection` keyword argument is deprecated, use `projection` to instantiate a GeoAxes instead.\n",
      "  warnings.warn(\"The `map_projection` keyword argument is \"\n"
     ]
    },
    {
     "name": "stdout",
     "output_type": "stream",
     "text": [
      "[Parallel(n_jobs=8)]: Done  25 tasks      | elapsed:  2.0min\n"
     ]
    },
    {
     "name": "stderr",
     "output_type": "stream",
     "text": [
      "/Users/beckermr/mambaforge/envs/rubin-sims/lib/python3.10/site-packages/cartopy/mpl/geoaxes.py:403: UserWarning: The `map_projection` keyword argument is deprecated, use `projection` to instantiate a GeoAxes instead.\n",
      "  warnings.warn(\"The `map_projection` keyword argument is \"\n",
      "/Users/beckermr/mambaforge/envs/rubin-sims/lib/python3.10/site-packages/cartopy/mpl/geoaxes.py:403: UserWarning: The `map_projection` keyword argument is deprecated, use `projection` to instantiate a GeoAxes instead.\n",
      "  warnings.warn(\"The `map_projection` keyword argument is \"\n"
     ]
    },
    {
     "name": "stdout",
     "output_type": "stream",
     "text": [
      "[Parallel(n_jobs=8)]: Done  26 tasks      | elapsed:  2.0min\n"
     ]
    },
    {
     "name": "stderr",
     "output_type": "stream",
     "text": [
      "/Users/beckermr/mambaforge/envs/rubin-sims/lib/python3.10/site-packages/cartopy/mpl/geoaxes.py:403: UserWarning: The `map_projection` keyword argument is deprecated, use `projection` to instantiate a GeoAxes instead.\n",
      "  warnings.warn(\"The `map_projection` keyword argument is \"\n",
      "/Users/beckermr/mambaforge/envs/rubin-sims/lib/python3.10/site-packages/cartopy/mpl/geoaxes.py:403: UserWarning: The `map_projection` keyword argument is deprecated, use `projection` to instantiate a GeoAxes instead.\n",
      "  warnings.warn(\"The `map_projection` keyword argument is \"\n"
     ]
    },
    {
     "name": "stdout",
     "output_type": "stream",
     "text": [
      "[Parallel(n_jobs=8)]: Done  27 tasks      | elapsed:  2.0min\n",
      "[Parallel(n_jobs=8)]: Done  28 tasks      | elapsed:  2.0min\n"
     ]
    },
    {
     "name": "stderr",
     "output_type": "stream",
     "text": [
      "/Users/beckermr/mambaforge/envs/rubin-sims/lib/python3.10/site-packages/cartopy/mpl/geoaxes.py:403: UserWarning: The `map_projection` keyword argument is deprecated, use `projection` to instantiate a GeoAxes instead.\n",
      "  warnings.warn(\"The `map_projection` keyword argument is \"\n",
      "/Users/beckermr/mambaforge/envs/rubin-sims/lib/python3.10/site-packages/cartopy/mpl/geoaxes.py:403: UserWarning: The `map_projection` keyword argument is deprecated, use `projection` to instantiate a GeoAxes instead.\n",
      "  warnings.warn(\"The `map_projection` keyword argument is \"\n",
      "/Users/beckermr/mambaforge/envs/rubin-sims/lib/python3.10/site-packages/cartopy/mpl/geoaxes.py:403: UserWarning: The `map_projection` keyword argument is deprecated, use `projection` to instantiate a GeoAxes instead.\n",
      "  warnings.warn(\"The `map_projection` keyword argument is \"\n",
      "/Users/beckermr/mambaforge/envs/rubin-sims/lib/python3.10/site-packages/cartopy/mpl/geoaxes.py:403: UserWarning: The `map_projection` keyword argument is deprecated, use `projection` to instantiate a GeoAxes instead.\n",
      "  warnings.warn(\"The `map_projection` keyword argument is \"\n",
      "/Users/beckermr/mambaforge/envs/rubin-sims/lib/python3.10/site-packages/cartopy/mpl/geoaxes.py:403: UserWarning: The `map_projection` keyword argument is deprecated, use `projection` to instantiate a GeoAxes instead.\n",
      "  warnings.warn(\"The `map_projection` keyword argument is \"\n",
      "/Users/beckermr/mambaforge/envs/rubin-sims/lib/python3.10/site-packages/cartopy/mpl/geoaxes.py:403: UserWarning: The `map_projection` keyword argument is deprecated, use `projection` to instantiate a GeoAxes instead.\n",
      "  warnings.warn(\"The `map_projection` keyword argument is \"\n"
     ]
    },
    {
     "name": "stdout",
     "output_type": "stream",
     "text": [
      "[Parallel(n_jobs=8)]: Done  29 tasks      | elapsed:  2.0min\n",
      "[Parallel(n_jobs=8)]: Done  30 tasks      | elapsed:  2.0min\n",
      "[Parallel(n_jobs=8)]: Done  31 tasks      | elapsed:  2.0min\n"
     ]
    },
    {
     "name": "stderr",
     "output_type": "stream",
     "text": [
      "/Users/beckermr/mambaforge/envs/rubin-sims/lib/python3.10/site-packages/cartopy/mpl/geoaxes.py:403: UserWarning: The `map_projection` keyword argument is deprecated, use `projection` to instantiate a GeoAxes instead.\n",
      "  warnings.warn(\"The `map_projection` keyword argument is \"\n",
      "/Users/beckermr/mambaforge/envs/rubin-sims/lib/python3.10/site-packages/cartopy/mpl/geoaxes.py:403: UserWarning: The `map_projection` keyword argument is deprecated, use `projection` to instantiate a GeoAxes instead.\n",
      "  warnings.warn(\"The `map_projection` keyword argument is \"\n",
      "/Users/beckermr/mambaforge/envs/rubin-sims/lib/python3.10/site-packages/cartopy/mpl/geoaxes.py:403: UserWarning: The `map_projection` keyword argument is deprecated, use `projection` to instantiate a GeoAxes instead.\n",
      "  warnings.warn(\"The `map_projection` keyword argument is \"\n",
      "/Users/beckermr/mambaforge/envs/rubin-sims/lib/python3.10/site-packages/cartopy/mpl/geoaxes.py:403: UserWarning: The `map_projection` keyword argument is deprecated, use `projection` to instantiate a GeoAxes instead.\n",
      "  warnings.warn(\"The `map_projection` keyword argument is \"\n"
     ]
    },
    {
     "name": "stdout",
     "output_type": "stream",
     "text": [
      "[Parallel(n_jobs=8)]: Done  32 tasks      | elapsed:  2.0min\n"
     ]
    },
    {
     "name": "stderr",
     "output_type": "stream",
     "text": [
      "/Users/beckermr/mambaforge/envs/rubin-sims/lib/python3.10/site-packages/cartopy/mpl/geoaxes.py:403: UserWarning: The `map_projection` keyword argument is deprecated, use `projection` to instantiate a GeoAxes instead.\n",
      "  warnings.warn(\"The `map_projection` keyword argument is \"\n",
      "/Users/beckermr/mambaforge/envs/rubin-sims/lib/python3.10/site-packages/cartopy/mpl/geoaxes.py:403: UserWarning: The `map_projection` keyword argument is deprecated, use `projection` to instantiate a GeoAxes instead.\n",
      "  warnings.warn(\"The `map_projection` keyword argument is \"\n"
     ]
    },
    {
     "name": "stdout",
     "output_type": "stream",
     "text": [
      "[Parallel(n_jobs=8)]: Done  33 tasks      | elapsed:  2.4min\n"
     ]
    },
    {
     "name": "stderr",
     "output_type": "stream",
     "text": [
      "/Users/beckermr/mambaforge/envs/rubin-sims/lib/python3.10/site-packages/cartopy/mpl/geoaxes.py:403: UserWarning: The `map_projection` keyword argument is deprecated, use `projection` to instantiate a GeoAxes instead.\n",
      "  warnings.warn(\"The `map_projection` keyword argument is \"\n",
      "/Users/beckermr/mambaforge/envs/rubin-sims/lib/python3.10/site-packages/cartopy/mpl/geoaxes.py:403: UserWarning: The `map_projection` keyword argument is deprecated, use `projection` to instantiate a GeoAxes instead.\n",
      "  warnings.warn(\"The `map_projection` keyword argument is \"\n"
     ]
    },
    {
     "name": "stdout",
     "output_type": "stream",
     "text": [
      "[Parallel(n_jobs=8)]: Done  34 tasks      | elapsed:  2.4min\n"
     ]
    },
    {
     "name": "stderr",
     "output_type": "stream",
     "text": [
      "/Users/beckermr/mambaforge/envs/rubin-sims/lib/python3.10/site-packages/cartopy/mpl/geoaxes.py:403: UserWarning: The `map_projection` keyword argument is deprecated, use `projection` to instantiate a GeoAxes instead.\n",
      "  warnings.warn(\"The `map_projection` keyword argument is \"\n",
      "/Users/beckermr/mambaforge/envs/rubin-sims/lib/python3.10/site-packages/cartopy/mpl/geoaxes.py:403: UserWarning: The `map_projection` keyword argument is deprecated, use `projection` to instantiate a GeoAxes instead.\n",
      "  warnings.warn(\"The `map_projection` keyword argument is \"\n"
     ]
    },
    {
     "name": "stdout",
     "output_type": "stream",
     "text": [
      "[Parallel(n_jobs=8)]: Done  35 tasks      | elapsed:  2.5min\n"
     ]
    },
    {
     "name": "stderr",
     "output_type": "stream",
     "text": [
      "/Users/beckermr/mambaforge/envs/rubin-sims/lib/python3.10/site-packages/cartopy/mpl/geoaxes.py:403: UserWarning: The `map_projection` keyword argument is deprecated, use `projection` to instantiate a GeoAxes instead.\n",
      "  warnings.warn(\"The `map_projection` keyword argument is \"\n",
      "/Users/beckermr/mambaforge/envs/rubin-sims/lib/python3.10/site-packages/cartopy/mpl/geoaxes.py:403: UserWarning: The `map_projection` keyword argument is deprecated, use `projection` to instantiate a GeoAxes instead.\n",
      "  warnings.warn(\"The `map_projection` keyword argument is \"\n"
     ]
    },
    {
     "name": "stdout",
     "output_type": "stream",
     "text": [
      "[Parallel(n_jobs=8)]: Done  36 tasks      | elapsed:  2.5min\n"
     ]
    },
    {
     "name": "stderr",
     "output_type": "stream",
     "text": [
      "/Users/beckermr/mambaforge/envs/rubin-sims/lib/python3.10/site-packages/cartopy/mpl/geoaxes.py:403: UserWarning: The `map_projection` keyword argument is deprecated, use `projection` to instantiate a GeoAxes instead.\n",
      "  warnings.warn(\"The `map_projection` keyword argument is \"\n",
      "/Users/beckermr/mambaforge/envs/rubin-sims/lib/python3.10/site-packages/cartopy/mpl/geoaxes.py:403: UserWarning: The `map_projection` keyword argument is deprecated, use `projection` to instantiate a GeoAxes instead.\n",
      "  warnings.warn(\"The `map_projection` keyword argument is \"\n"
     ]
    },
    {
     "name": "stdout",
     "output_type": "stream",
     "text": [
      "[Parallel(n_jobs=8)]: Done  37 tasks      | elapsed:  2.5min\n"
     ]
    },
    {
     "name": "stderr",
     "output_type": "stream",
     "text": [
      "/Users/beckermr/mambaforge/envs/rubin-sims/lib/python3.10/site-packages/cartopy/mpl/geoaxes.py:403: UserWarning: The `map_projection` keyword argument is deprecated, use `projection` to instantiate a GeoAxes instead.\n",
      "  warnings.warn(\"The `map_projection` keyword argument is \"\n",
      "/Users/beckermr/mambaforge/envs/rubin-sims/lib/python3.10/site-packages/cartopy/mpl/geoaxes.py:403: UserWarning: The `map_projection` keyword argument is deprecated, use `projection` to instantiate a GeoAxes instead.\n",
      "  warnings.warn(\"The `map_projection` keyword argument is \"\n"
     ]
    },
    {
     "name": "stdout",
     "output_type": "stream",
     "text": [
      "[Parallel(n_jobs=8)]: Done  38 tasks      | elapsed:  2.5min\n"
     ]
    },
    {
     "name": "stderr",
     "output_type": "stream",
     "text": [
      "/Users/beckermr/mambaforge/envs/rubin-sims/lib/python3.10/site-packages/cartopy/mpl/geoaxes.py:403: UserWarning: The `map_projection` keyword argument is deprecated, use `projection` to instantiate a GeoAxes instead.\n",
      "  warnings.warn(\"The `map_projection` keyword argument is \"\n",
      "/Users/beckermr/mambaforge/envs/rubin-sims/lib/python3.10/site-packages/cartopy/mpl/geoaxes.py:403: UserWarning: The `map_projection` keyword argument is deprecated, use `projection` to instantiate a GeoAxes instead.\n",
      "  warnings.warn(\"The `map_projection` keyword argument is \"\n"
     ]
    },
    {
     "name": "stdout",
     "output_type": "stream",
     "text": [
      "[Parallel(n_jobs=8)]: Done  39 tasks      | elapsed:  2.5min\n"
     ]
    },
    {
     "name": "stderr",
     "output_type": "stream",
     "text": [
      "/Users/beckermr/mambaforge/envs/rubin-sims/lib/python3.10/site-packages/cartopy/mpl/geoaxes.py:403: UserWarning: The `map_projection` keyword argument is deprecated, use `projection` to instantiate a GeoAxes instead.\n",
      "  warnings.warn(\"The `map_projection` keyword argument is \"\n",
      "/Users/beckermr/mambaforge/envs/rubin-sims/lib/python3.10/site-packages/cartopy/mpl/geoaxes.py:403: UserWarning: The `map_projection` keyword argument is deprecated, use `projection` to instantiate a GeoAxes instead.\n",
      "  warnings.warn(\"The `map_projection` keyword argument is \"\n"
     ]
    },
    {
     "name": "stdout",
     "output_type": "stream",
     "text": [
      "[Parallel(n_jobs=8)]: Done  40 tasks      | elapsed:  2.5min\n"
     ]
    },
    {
     "name": "stderr",
     "output_type": "stream",
     "text": [
      "/Users/beckermr/mambaforge/envs/rubin-sims/lib/python3.10/site-packages/cartopy/mpl/geoaxes.py:403: UserWarning: The `map_projection` keyword argument is deprecated, use `projection` to instantiate a GeoAxes instead.\n",
      "  warnings.warn(\"The `map_projection` keyword argument is \"\n",
      "/Users/beckermr/mambaforge/envs/rubin-sims/lib/python3.10/site-packages/cartopy/mpl/geoaxes.py:403: UserWarning: The `map_projection` keyword argument is deprecated, use `projection` to instantiate a GeoAxes instead.\n",
      "  warnings.warn(\"The `map_projection` keyword argument is \"\n"
     ]
    },
    {
     "name": "stdout",
     "output_type": "stream",
     "text": [
      "[Parallel(n_jobs=8)]: Done  41 tasks      | elapsed:  2.9min\n",
      "[Parallel(n_jobs=8)]: Done  42 tasks      | elapsed:  2.9min\n"
     ]
    },
    {
     "name": "stderr",
     "output_type": "stream",
     "text": [
      "/Users/beckermr/mambaforge/envs/rubin-sims/lib/python3.10/site-packages/cartopy/mpl/geoaxes.py:403: UserWarning: The `map_projection` keyword argument is deprecated, use `projection` to instantiate a GeoAxes instead.\n",
      "  warnings.warn(\"The `map_projection` keyword argument is \"\n",
      "/Users/beckermr/mambaforge/envs/rubin-sims/lib/python3.10/site-packages/cartopy/mpl/geoaxes.py:403: UserWarning: The `map_projection` keyword argument is deprecated, use `projection` to instantiate a GeoAxes instead.\n",
      "  warnings.warn(\"The `map_projection` keyword argument is \"\n",
      "/Users/beckermr/mambaforge/envs/rubin-sims/lib/python3.10/site-packages/cartopy/mpl/geoaxes.py:403: UserWarning: The `map_projection` keyword argument is deprecated, use `projection` to instantiate a GeoAxes instead.\n",
      "  warnings.warn(\"The `map_projection` keyword argument is \"\n",
      "/Users/beckermr/mambaforge/envs/rubin-sims/lib/python3.10/site-packages/cartopy/mpl/geoaxes.py:403: UserWarning: The `map_projection` keyword argument is deprecated, use `projection` to instantiate a GeoAxes instead.\n",
      "  warnings.warn(\"The `map_projection` keyword argument is \"\n"
     ]
    },
    {
     "name": "stdout",
     "output_type": "stream",
     "text": [
      "[Parallel(n_jobs=8)]: Done  43 tasks      | elapsed:  2.9min\n"
     ]
    },
    {
     "name": "stderr",
     "output_type": "stream",
     "text": [
      "/Users/beckermr/mambaforge/envs/rubin-sims/lib/python3.10/site-packages/cartopy/mpl/geoaxes.py:403: UserWarning: The `map_projection` keyword argument is deprecated, use `projection` to instantiate a GeoAxes instead.\n",
      "  warnings.warn(\"The `map_projection` keyword argument is \"\n",
      "/Users/beckermr/mambaforge/envs/rubin-sims/lib/python3.10/site-packages/cartopy/mpl/geoaxes.py:403: UserWarning: The `map_projection` keyword argument is deprecated, use `projection` to instantiate a GeoAxes instead.\n",
      "  warnings.warn(\"The `map_projection` keyword argument is \"\n"
     ]
    },
    {
     "name": "stdout",
     "output_type": "stream",
     "text": [
      "[Parallel(n_jobs=8)]: Done  44 tasks      | elapsed:  3.0min\n"
     ]
    },
    {
     "name": "stderr",
     "output_type": "stream",
     "text": [
      "/Users/beckermr/mambaforge/envs/rubin-sims/lib/python3.10/site-packages/cartopy/mpl/geoaxes.py:403: UserWarning: The `map_projection` keyword argument is deprecated, use `projection` to instantiate a GeoAxes instead.\n",
      "  warnings.warn(\"The `map_projection` keyword argument is \"\n",
      "/Users/beckermr/mambaforge/envs/rubin-sims/lib/python3.10/site-packages/cartopy/mpl/geoaxes.py:403: UserWarning: The `map_projection` keyword argument is deprecated, use `projection` to instantiate a GeoAxes instead.\n",
      "  warnings.warn(\"The `map_projection` keyword argument is \"\n"
     ]
    },
    {
     "name": "stdout",
     "output_type": "stream",
     "text": [
      "[Parallel(n_jobs=8)]: Done  45 tasks      | elapsed:  3.0min\n"
     ]
    },
    {
     "name": "stderr",
     "output_type": "stream",
     "text": [
      "/Users/beckermr/mambaforge/envs/rubin-sims/lib/python3.10/site-packages/cartopy/mpl/geoaxes.py:403: UserWarning: The `map_projection` keyword argument is deprecated, use `projection` to instantiate a GeoAxes instead.\n",
      "  warnings.warn(\"The `map_projection` keyword argument is \"\n",
      "/Users/beckermr/mambaforge/envs/rubin-sims/lib/python3.10/site-packages/cartopy/mpl/geoaxes.py:403: UserWarning: The `map_projection` keyword argument is deprecated, use `projection` to instantiate a GeoAxes instead.\n",
      "  warnings.warn(\"The `map_projection` keyword argument is \"\n"
     ]
    },
    {
     "name": "stdout",
     "output_type": "stream",
     "text": [
      "[Parallel(n_jobs=8)]: Done  46 tasks      | elapsed:  3.0min\n",
      "[Parallel(n_jobs=8)]: Done  47 tasks      | elapsed:  3.0min\n"
     ]
    },
    {
     "name": "stderr",
     "output_type": "stream",
     "text": [
      "/Users/beckermr/mambaforge/envs/rubin-sims/lib/python3.10/site-packages/cartopy/mpl/geoaxes.py:403: UserWarning: The `map_projection` keyword argument is deprecated, use `projection` to instantiate a GeoAxes instead.\n",
      "  warnings.warn(\"The `map_projection` keyword argument is \"\n",
      "/Users/beckermr/mambaforge/envs/rubin-sims/lib/python3.10/site-packages/cartopy/mpl/geoaxes.py:403: UserWarning: The `map_projection` keyword argument is deprecated, use `projection` to instantiate a GeoAxes instead.\n",
      "  warnings.warn(\"The `map_projection` keyword argument is \"\n",
      "/Users/beckermr/mambaforge/envs/rubin-sims/lib/python3.10/site-packages/cartopy/mpl/geoaxes.py:403: UserWarning: The `map_projection` keyword argument is deprecated, use `projection` to instantiate a GeoAxes instead.\n",
      "  warnings.warn(\"The `map_projection` keyword argument is \"\n",
      "/Users/beckermr/mambaforge/envs/rubin-sims/lib/python3.10/site-packages/cartopy/mpl/geoaxes.py:403: UserWarning: The `map_projection` keyword argument is deprecated, use `projection` to instantiate a GeoAxes instead.\n",
      "  warnings.warn(\"The `map_projection` keyword argument is \"\n"
     ]
    },
    {
     "name": "stdout",
     "output_type": "stream",
     "text": [
      "[Parallel(n_jobs=8)]: Done  48 tasks      | elapsed:  3.0min\n"
     ]
    },
    {
     "name": "stderr",
     "output_type": "stream",
     "text": [
      "/Users/beckermr/mambaforge/envs/rubin-sims/lib/python3.10/site-packages/cartopy/mpl/geoaxes.py:403: UserWarning: The `map_projection` keyword argument is deprecated, use `projection` to instantiate a GeoAxes instead.\n",
      "  warnings.warn(\"The `map_projection` keyword argument is \"\n",
      "/Users/beckermr/mambaforge/envs/rubin-sims/lib/python3.10/site-packages/cartopy/mpl/geoaxes.py:403: UserWarning: The `map_projection` keyword argument is deprecated, use `projection` to instantiate a GeoAxes instead.\n",
      "  warnings.warn(\"The `map_projection` keyword argument is \"\n"
     ]
    },
    {
     "name": "stdout",
     "output_type": "stream",
     "text": [
      "[Parallel(n_jobs=8)]: Done  49 tasks      | elapsed:  3.4min\n"
     ]
    },
    {
     "name": "stderr",
     "output_type": "stream",
     "text": [
      "/Users/beckermr/mambaforge/envs/rubin-sims/lib/python3.10/site-packages/joblib/externals/loky/process_executor.py:752: UserWarning: A worker stopped while some jobs were given to the executor. This can be caused by a too short worker timeout or by a memory leak.\n",
      "  warnings.warn(\n"
     ]
    },
    {
     "name": "stdout",
     "output_type": "stream",
     "text": [
      "[Parallel(n_jobs=8)]: Done  50 tasks      | elapsed:  3.4min\n",
      "[Parallel(n_jobs=8)]: Done  51 tasks      | elapsed:  3.4min\n"
     ]
    },
    {
     "name": "stderr",
     "output_type": "stream",
     "text": [
      "/Users/beckermr/mambaforge/envs/rubin-sims/lib/python3.10/site-packages/cartopy/mpl/geoaxes.py:403: UserWarning: The `map_projection` keyword argument is deprecated, use `projection` to instantiate a GeoAxes instead.\n",
      "  warnings.warn(\"The `map_projection` keyword argument is \"\n",
      "/Users/beckermr/mambaforge/envs/rubin-sims/lib/python3.10/site-packages/cartopy/mpl/geoaxes.py:403: UserWarning: The `map_projection` keyword argument is deprecated, use `projection` to instantiate a GeoAxes instead.\n",
      "  warnings.warn(\"The `map_projection` keyword argument is \"\n"
     ]
    },
    {
     "name": "stdout",
     "output_type": "stream",
     "text": [
      "[Parallel(n_jobs=8)]: Done  52 tasks      | elapsed:  3.4min\n",
      "[Parallel(n_jobs=8)]: Done  53 tasks      | elapsed:  3.4min\n"
     ]
    },
    {
     "name": "stderr",
     "output_type": "stream",
     "text": [
      "/Users/beckermr/mambaforge/envs/rubin-sims/lib/python3.10/site-packages/cartopy/mpl/geoaxes.py:403: UserWarning: The `map_projection` keyword argument is deprecated, use `projection` to instantiate a GeoAxes instead.\n",
      "  warnings.warn(\"The `map_projection` keyword argument is \"\n",
      "/Users/beckermr/mambaforge/envs/rubin-sims/lib/python3.10/site-packages/cartopy/mpl/geoaxes.py:403: UserWarning: The `map_projection` keyword argument is deprecated, use `projection` to instantiate a GeoAxes instead.\n",
      "  warnings.warn(\"The `map_projection` keyword argument is \"\n"
     ]
    },
    {
     "name": "stdout",
     "output_type": "stream",
     "text": [
      "[Parallel(n_jobs=8)]: Done  54 tasks      | elapsed:  3.5min\n"
     ]
    },
    {
     "name": "stderr",
     "output_type": "stream",
     "text": [
      "/Users/beckermr/mambaforge/envs/rubin-sims/lib/python3.10/site-packages/cartopy/mpl/geoaxes.py:403: UserWarning: The `map_projection` keyword argument is deprecated, use `projection` to instantiate a GeoAxes instead.\n",
      "  warnings.warn(\"The `map_projection` keyword argument is \"\n",
      "/Users/beckermr/mambaforge/envs/rubin-sims/lib/python3.10/site-packages/cartopy/mpl/geoaxes.py:403: UserWarning: The `map_projection` keyword argument is deprecated, use `projection` to instantiate a GeoAxes instead.\n",
      "  warnings.warn(\"The `map_projection` keyword argument is \"\n"
     ]
    },
    {
     "name": "stdout",
     "output_type": "stream",
     "text": [
      "[Parallel(n_jobs=8)]: Done  55 tasks      | elapsed:  3.5min\n"
     ]
    },
    {
     "name": "stderr",
     "output_type": "stream",
     "text": [
      "/Users/beckermr/mambaforge/envs/rubin-sims/lib/python3.10/site-packages/cartopy/mpl/geoaxes.py:403: UserWarning: The `map_projection` keyword argument is deprecated, use `projection` to instantiate a GeoAxes instead.\n",
      "  warnings.warn(\"The `map_projection` keyword argument is \"\n",
      "/Users/beckermr/mambaforge/envs/rubin-sims/lib/python3.10/site-packages/cartopy/mpl/geoaxes.py:403: UserWarning: The `map_projection` keyword argument is deprecated, use `projection` to instantiate a GeoAxes instead.\n",
      "  warnings.warn(\"The `map_projection` keyword argument is \"\n",
      "/Users/beckermr/mambaforge/envs/rubin-sims/lib/python3.10/site-packages/cartopy/mpl/geoaxes.py:403: UserWarning: The `map_projection` keyword argument is deprecated, use `projection` to instantiate a GeoAxes instead.\n",
      "  warnings.warn(\"The `map_projection` keyword argument is \"\n"
     ]
    },
    {
     "name": "stdout",
     "output_type": "stream",
     "text": [
      "[Parallel(n_jobs=8)]: Done  56 tasks      | elapsed:  3.5min\n"
     ]
    },
    {
     "name": "stderr",
     "output_type": "stream",
     "text": [
      "/Users/beckermr/mambaforge/envs/rubin-sims/lib/python3.10/site-packages/cartopy/mpl/geoaxes.py:403: UserWarning: The `map_projection` keyword argument is deprecated, use `projection` to instantiate a GeoAxes instead.\n",
      "  warnings.warn(\"The `map_projection` keyword argument is \"\n",
      "/Users/beckermr/mambaforge/envs/rubin-sims/lib/python3.10/site-packages/cartopy/mpl/geoaxes.py:403: UserWarning: The `map_projection` keyword argument is deprecated, use `projection` to instantiate a GeoAxes instead.\n",
      "  warnings.warn(\"The `map_projection` keyword argument is \"\n",
      "/Users/beckermr/mambaforge/envs/rubin-sims/lib/python3.10/site-packages/cartopy/mpl/geoaxes.py:403: UserWarning: The `map_projection` keyword argument is deprecated, use `projection` to instantiate a GeoAxes instead.\n",
      "  warnings.warn(\"The `map_projection` keyword argument is \"\n",
      "/Users/beckermr/mambaforge/envs/rubin-sims/lib/python3.10/site-packages/cartopy/mpl/geoaxes.py:403: UserWarning: The `map_projection` keyword argument is deprecated, use `projection` to instantiate a GeoAxes instead.\n",
      "  warnings.warn(\"The `map_projection` keyword argument is \"\n",
      "/Users/beckermr/mambaforge/envs/rubin-sims/lib/python3.10/site-packages/cartopy/mpl/geoaxes.py:403: UserWarning: The `map_projection` keyword argument is deprecated, use `projection` to instantiate a GeoAxes instead.\n",
      "  warnings.warn(\"The `map_projection` keyword argument is \"\n",
      "/Users/beckermr/mambaforge/envs/rubin-sims/lib/python3.10/site-packages/cartopy/mpl/geoaxes.py:403: UserWarning: The `map_projection` keyword argument is deprecated, use `projection` to instantiate a GeoAxes instead.\n",
      "  warnings.warn(\"The `map_projection` keyword argument is \"\n",
      "/Users/beckermr/mambaforge/envs/rubin-sims/lib/python3.10/site-packages/cartopy/mpl/geoaxes.py:403: UserWarning: The `map_projection` keyword argument is deprecated, use `projection` to instantiate a GeoAxes instead.\n",
      "  warnings.warn(\"The `map_projection` keyword argument is \"\n"
     ]
    },
    {
     "name": "stdout",
     "output_type": "stream",
     "text": [
      "[Parallel(n_jobs=8)]: Done  57 tasks      | elapsed:  3.9min\n"
     ]
    },
    {
     "name": "stderr",
     "output_type": "stream",
     "text": [
      "/Users/beckermr/mambaforge/envs/rubin-sims/lib/python3.10/site-packages/cartopy/mpl/geoaxes.py:403: UserWarning: The `map_projection` keyword argument is deprecated, use `projection` to instantiate a GeoAxes instead.\n",
      "  warnings.warn(\"The `map_projection` keyword argument is \"\n",
      "/Users/beckermr/mambaforge/envs/rubin-sims/lib/python3.10/site-packages/cartopy/mpl/geoaxes.py:403: UserWarning: The `map_projection` keyword argument is deprecated, use `projection` to instantiate a GeoAxes instead.\n",
      "  warnings.warn(\"The `map_projection` keyword argument is \"\n"
     ]
    },
    {
     "name": "stdout",
     "output_type": "stream",
     "text": [
      "[Parallel(n_jobs=8)]: Done  58 tasks      | elapsed:  3.9min\n"
     ]
    },
    {
     "name": "stderr",
     "output_type": "stream",
     "text": [
      "/Users/beckermr/mambaforge/envs/rubin-sims/lib/python3.10/site-packages/cartopy/mpl/geoaxes.py:403: UserWarning: The `map_projection` keyword argument is deprecated, use `projection` to instantiate a GeoAxes instead.\n",
      "  warnings.warn(\"The `map_projection` keyword argument is \"\n",
      "/Users/beckermr/mambaforge/envs/rubin-sims/lib/python3.10/site-packages/cartopy/mpl/geoaxes.py:403: UserWarning: The `map_projection` keyword argument is deprecated, use `projection` to instantiate a GeoAxes instead.\n",
      "  warnings.warn(\"The `map_projection` keyword argument is \"\n"
     ]
    },
    {
     "name": "stdout",
     "output_type": "stream",
     "text": [
      "[Parallel(n_jobs=8)]: Done  59 tasks      | elapsed:  4.0min\n"
     ]
    },
    {
     "name": "stderr",
     "output_type": "stream",
     "text": [
      "/Users/beckermr/mambaforge/envs/rubin-sims/lib/python3.10/site-packages/cartopy/mpl/geoaxes.py:403: UserWarning: The `map_projection` keyword argument is deprecated, use `projection` to instantiate a GeoAxes instead.\n",
      "  warnings.warn(\"The `map_projection` keyword argument is \"\n",
      "/Users/beckermr/mambaforge/envs/rubin-sims/lib/python3.10/site-packages/cartopy/mpl/geoaxes.py:403: UserWarning: The `map_projection` keyword argument is deprecated, use `projection` to instantiate a GeoAxes instead.\n",
      "  warnings.warn(\"The `map_projection` keyword argument is \"\n"
     ]
    },
    {
     "name": "stdout",
     "output_type": "stream",
     "text": [
      "[Parallel(n_jobs=8)]: Done  60 tasks      | elapsed:  4.0min\n"
     ]
    },
    {
     "name": "stderr",
     "output_type": "stream",
     "text": [
      "/Users/beckermr/mambaforge/envs/rubin-sims/lib/python3.10/site-packages/cartopy/mpl/geoaxes.py:403: UserWarning: The `map_projection` keyword argument is deprecated, use `projection` to instantiate a GeoAxes instead.\n",
      "  warnings.warn(\"The `map_projection` keyword argument is \"\n",
      "/Users/beckermr/mambaforge/envs/rubin-sims/lib/python3.10/site-packages/cartopy/mpl/geoaxes.py:403: UserWarning: The `map_projection` keyword argument is deprecated, use `projection` to instantiate a GeoAxes instead.\n",
      "  warnings.warn(\"The `map_projection` keyword argument is \"\n"
     ]
    },
    {
     "name": "stdout",
     "output_type": "stream",
     "text": [
      "[Parallel(n_jobs=8)]: Done  61 tasks      | elapsed:  4.0min\n"
     ]
    },
    {
     "name": "stderr",
     "output_type": "stream",
     "text": [
      "/Users/beckermr/mambaforge/envs/rubin-sims/lib/python3.10/site-packages/cartopy/mpl/geoaxes.py:403: UserWarning: The `map_projection` keyword argument is deprecated, use `projection` to instantiate a GeoAxes instead.\n",
      "  warnings.warn(\"The `map_projection` keyword argument is \"\n",
      "/Users/beckermr/mambaforge/envs/rubin-sims/lib/python3.10/site-packages/cartopy/mpl/geoaxes.py:403: UserWarning: The `map_projection` keyword argument is deprecated, use `projection` to instantiate a GeoAxes instead.\n",
      "  warnings.warn(\"The `map_projection` keyword argument is \"\n"
     ]
    },
    {
     "name": "stdout",
     "output_type": "stream",
     "text": [
      "[Parallel(n_jobs=8)]: Done  62 tasks      | elapsed:  4.0min\n",
      "[Parallel(n_jobs=8)]: Done  63 tasks      | elapsed:  4.0min\n"
     ]
    },
    {
     "name": "stderr",
     "output_type": "stream",
     "text": [
      "/Users/beckermr/mambaforge/envs/rubin-sims/lib/python3.10/site-packages/cartopy/mpl/geoaxes.py:403: UserWarning: The `map_projection` keyword argument is deprecated, use `projection` to instantiate a GeoAxes instead.\n",
      "  warnings.warn(\"The `map_projection` keyword argument is \"\n",
      "/Users/beckermr/mambaforge/envs/rubin-sims/lib/python3.10/site-packages/cartopy/mpl/geoaxes.py:403: UserWarning: The `map_projection` keyword argument is deprecated, use `projection` to instantiate a GeoAxes instead.\n",
      "  warnings.warn(\"The `map_projection` keyword argument is \"\n",
      "/Users/beckermr/mambaforge/envs/rubin-sims/lib/python3.10/site-packages/cartopy/mpl/geoaxes.py:403: UserWarning: The `map_projection` keyword argument is deprecated, use `projection` to instantiate a GeoAxes instead.\n",
      "  warnings.warn(\"The `map_projection` keyword argument is \"\n",
      "/Users/beckermr/mambaforge/envs/rubin-sims/lib/python3.10/site-packages/cartopy/mpl/geoaxes.py:403: UserWarning: The `map_projection` keyword argument is deprecated, use `projection` to instantiate a GeoAxes instead.\n",
      "  warnings.warn(\"The `map_projection` keyword argument is \"\n"
     ]
    },
    {
     "name": "stdout",
     "output_type": "stream",
     "text": [
      "[Parallel(n_jobs=8)]: Done  64 tasks      | elapsed:  4.0min\n"
     ]
    },
    {
     "name": "stderr",
     "output_type": "stream",
     "text": [
      "/Users/beckermr/mambaforge/envs/rubin-sims/lib/python3.10/site-packages/cartopy/mpl/geoaxes.py:403: UserWarning: The `map_projection` keyword argument is deprecated, use `projection` to instantiate a GeoAxes instead.\n",
      "  warnings.warn(\"The `map_projection` keyword argument is \"\n",
      "/Users/beckermr/mambaforge/envs/rubin-sims/lib/python3.10/site-packages/cartopy/mpl/geoaxes.py:403: UserWarning: The `map_projection` keyword argument is deprecated, use `projection` to instantiate a GeoAxes instead.\n",
      "  warnings.warn(\"The `map_projection` keyword argument is \"\n"
     ]
    },
    {
     "name": "stdout",
     "output_type": "stream",
     "text": [
      "[Parallel(n_jobs=8)]: Done  65 tasks      | elapsed:  4.4min\n"
     ]
    },
    {
     "name": "stderr",
     "output_type": "stream",
     "text": [
      "/Users/beckermr/mambaforge/envs/rubin-sims/lib/python3.10/site-packages/cartopy/mpl/geoaxes.py:403: UserWarning: The `map_projection` keyword argument is deprecated, use `projection` to instantiate a GeoAxes instead.\n",
      "  warnings.warn(\"The `map_projection` keyword argument is \"\n",
      "/Users/beckermr/mambaforge/envs/rubin-sims/lib/python3.10/site-packages/cartopy/mpl/geoaxes.py:403: UserWarning: The `map_projection` keyword argument is deprecated, use `projection` to instantiate a GeoAxes instead.\n",
      "  warnings.warn(\"The `map_projection` keyword argument is \"\n"
     ]
    },
    {
     "name": "stdout",
     "output_type": "stream",
     "text": [
      "[Parallel(n_jobs=8)]: Done  66 tasks      | elapsed:  4.4min\n"
     ]
    },
    {
     "name": "stderr",
     "output_type": "stream",
     "text": [
      "/Users/beckermr/mambaforge/envs/rubin-sims/lib/python3.10/site-packages/cartopy/mpl/geoaxes.py:403: UserWarning: The `map_projection` keyword argument is deprecated, use `projection` to instantiate a GeoAxes instead.\n",
      "  warnings.warn(\"The `map_projection` keyword argument is \"\n",
      "/Users/beckermr/mambaforge/envs/rubin-sims/lib/python3.10/site-packages/cartopy/mpl/geoaxes.py:403: UserWarning: The `map_projection` keyword argument is deprecated, use `projection` to instantiate a GeoAxes instead.\n",
      "  warnings.warn(\"The `map_projection` keyword argument is \"\n"
     ]
    },
    {
     "name": "stdout",
     "output_type": "stream",
     "text": [
      "[Parallel(n_jobs=8)]: Done  67 tasks      | elapsed:  4.4min\n"
     ]
    },
    {
     "name": "stderr",
     "output_type": "stream",
     "text": [
      "/Users/beckermr/mambaforge/envs/rubin-sims/lib/python3.10/site-packages/cartopy/mpl/geoaxes.py:403: UserWarning: The `map_projection` keyword argument is deprecated, use `projection` to instantiate a GeoAxes instead.\n",
      "  warnings.warn(\"The `map_projection` keyword argument is \"\n",
      "/Users/beckermr/mambaforge/envs/rubin-sims/lib/python3.10/site-packages/cartopy/mpl/geoaxes.py:403: UserWarning: The `map_projection` keyword argument is deprecated, use `projection` to instantiate a GeoAxes instead.\n",
      "  warnings.warn(\"The `map_projection` keyword argument is \"\n"
     ]
    },
    {
     "name": "stdout",
     "output_type": "stream",
     "text": [
      "[Parallel(n_jobs=8)]: Done  68 tasks      | elapsed:  4.4min\n"
     ]
    },
    {
     "name": "stderr",
     "output_type": "stream",
     "text": [
      "/Users/beckermr/mambaforge/envs/rubin-sims/lib/python3.10/site-packages/cartopy/mpl/geoaxes.py:403: UserWarning: The `map_projection` keyword argument is deprecated, use `projection` to instantiate a GeoAxes instead.\n",
      "  warnings.warn(\"The `map_projection` keyword argument is \"\n",
      "/Users/beckermr/mambaforge/envs/rubin-sims/lib/python3.10/site-packages/cartopy/mpl/geoaxes.py:403: UserWarning: The `map_projection` keyword argument is deprecated, use `projection` to instantiate a GeoAxes instead.\n",
      "  warnings.warn(\"The `map_projection` keyword argument is \"\n"
     ]
    },
    {
     "name": "stdout",
     "output_type": "stream",
     "text": [
      "[Parallel(n_jobs=8)]: Done  69 tasks      | elapsed:  4.5min\n",
      "[Parallel(n_jobs=8)]: Done  70 tasks      | elapsed:  4.5min\n"
     ]
    },
    {
     "name": "stderr",
     "output_type": "stream",
     "text": [
      "/Users/beckermr/mambaforge/envs/rubin-sims/lib/python3.10/site-packages/cartopy/mpl/geoaxes.py:403: UserWarning: The `map_projection` keyword argument is deprecated, use `projection` to instantiate a GeoAxes instead.\n",
      "  warnings.warn(\"The `map_projection` keyword argument is \"\n",
      "/Users/beckermr/mambaforge/envs/rubin-sims/lib/python3.10/site-packages/cartopy/mpl/geoaxes.py:403: UserWarning: The `map_projection` keyword argument is deprecated, use `projection` to instantiate a GeoAxes instead.\n",
      "  warnings.warn(\"The `map_projection` keyword argument is \"\n",
      "/Users/beckermr/mambaforge/envs/rubin-sims/lib/python3.10/site-packages/cartopy/mpl/geoaxes.py:403: UserWarning: The `map_projection` keyword argument is deprecated, use `projection` to instantiate a GeoAxes instead.\n",
      "  warnings.warn(\"The `map_projection` keyword argument is \"\n",
      "/Users/beckermr/mambaforge/envs/rubin-sims/lib/python3.10/site-packages/cartopy/mpl/geoaxes.py:403: UserWarning: The `map_projection` keyword argument is deprecated, use `projection` to instantiate a GeoAxes instead.\n",
      "  warnings.warn(\"The `map_projection` keyword argument is \"\n"
     ]
    },
    {
     "name": "stdout",
     "output_type": "stream",
     "text": [
      "[Parallel(n_jobs=8)]: Done  71 tasks      | elapsed:  4.5min\n"
     ]
    },
    {
     "name": "stderr",
     "output_type": "stream",
     "text": [
      "/Users/beckermr/mambaforge/envs/rubin-sims/lib/python3.10/site-packages/cartopy/mpl/geoaxes.py:403: UserWarning: The `map_projection` keyword argument is deprecated, use `projection` to instantiate a GeoAxes instead.\n",
      "  warnings.warn(\"The `map_projection` keyword argument is \"\n",
      "/Users/beckermr/mambaforge/envs/rubin-sims/lib/python3.10/site-packages/cartopy/mpl/geoaxes.py:403: UserWarning: The `map_projection` keyword argument is deprecated, use `projection` to instantiate a GeoAxes instead.\n",
      "  warnings.warn(\"The `map_projection` keyword argument is \"\n"
     ]
    },
    {
     "name": "stdout",
     "output_type": "stream",
     "text": [
      "[Parallel(n_jobs=8)]: Done  72 tasks      | elapsed:  4.5min\n"
     ]
    },
    {
     "name": "stderr",
     "output_type": "stream",
     "text": [
      "/Users/beckermr/mambaforge/envs/rubin-sims/lib/python3.10/site-packages/cartopy/mpl/geoaxes.py:403: UserWarning: The `map_projection` keyword argument is deprecated, use `projection` to instantiate a GeoAxes instead.\n",
      "  warnings.warn(\"The `map_projection` keyword argument is \"\n",
      "/Users/beckermr/mambaforge/envs/rubin-sims/lib/python3.10/site-packages/cartopy/mpl/geoaxes.py:403: UserWarning: The `map_projection` keyword argument is deprecated, use `projection` to instantiate a GeoAxes instead.\n",
      "  warnings.warn(\"The `map_projection` keyword argument is \"\n"
     ]
    },
    {
     "name": "stdout",
     "output_type": "stream",
     "text": [
      "[Parallel(n_jobs=8)]: Done  73 tasks      | elapsed:  4.9min\n"
     ]
    },
    {
     "name": "stderr",
     "output_type": "stream",
     "text": [
      "/Users/beckermr/mambaforge/envs/rubin-sims/lib/python3.10/site-packages/cartopy/mpl/geoaxes.py:403: UserWarning: The `map_projection` keyword argument is deprecated, use `projection` to instantiate a GeoAxes instead.\n",
      "  warnings.warn(\"The `map_projection` keyword argument is \"\n",
      "/Users/beckermr/mambaforge/envs/rubin-sims/lib/python3.10/site-packages/cartopy/mpl/geoaxes.py:403: UserWarning: The `map_projection` keyword argument is deprecated, use `projection` to instantiate a GeoAxes instead.\n",
      "  warnings.warn(\"The `map_projection` keyword argument is \"\n"
     ]
    },
    {
     "name": "stdout",
     "output_type": "stream",
     "text": [
      "[Parallel(n_jobs=8)]: Done  74 tasks      | elapsed:  4.9min\n"
     ]
    },
    {
     "name": "stderr",
     "output_type": "stream",
     "text": [
      "/Users/beckermr/mambaforge/envs/rubin-sims/lib/python3.10/site-packages/cartopy/mpl/geoaxes.py:403: UserWarning: The `map_projection` keyword argument is deprecated, use `projection` to instantiate a GeoAxes instead.\n",
      "  warnings.warn(\"The `map_projection` keyword argument is \"\n",
      "/Users/beckermr/mambaforge/envs/rubin-sims/lib/python3.10/site-packages/cartopy/mpl/geoaxes.py:403: UserWarning: The `map_projection` keyword argument is deprecated, use `projection` to instantiate a GeoAxes instead.\n",
      "  warnings.warn(\"The `map_projection` keyword argument is \"\n"
     ]
    },
    {
     "name": "stdout",
     "output_type": "stream",
     "text": [
      "[Parallel(n_jobs=8)]: Done  75 tasks      | elapsed:  4.9min\n"
     ]
    },
    {
     "name": "stderr",
     "output_type": "stream",
     "text": [
      "/Users/beckermr/mambaforge/envs/rubin-sims/lib/python3.10/site-packages/cartopy/mpl/geoaxes.py:403: UserWarning: The `map_projection` keyword argument is deprecated, use `projection` to instantiate a GeoAxes instead.\n",
      "  warnings.warn(\"The `map_projection` keyword argument is \"\n",
      "/Users/beckermr/mambaforge/envs/rubin-sims/lib/python3.10/site-packages/cartopy/mpl/geoaxes.py:403: UserWarning: The `map_projection` keyword argument is deprecated, use `projection` to instantiate a GeoAxes instead.\n",
      "  warnings.warn(\"The `map_projection` keyword argument is \"\n"
     ]
    },
    {
     "name": "stdout",
     "output_type": "stream",
     "text": [
      "[Parallel(n_jobs=8)]: Done  76 tasks      | elapsed:  4.9min\n"
     ]
    },
    {
     "name": "stderr",
     "output_type": "stream",
     "text": [
      "/Users/beckermr/mambaforge/envs/rubin-sims/lib/python3.10/site-packages/cartopy/mpl/geoaxes.py:403: UserWarning: The `map_projection` keyword argument is deprecated, use `projection` to instantiate a GeoAxes instead.\n",
      "  warnings.warn(\"The `map_projection` keyword argument is \"\n",
      "/Users/beckermr/mambaforge/envs/rubin-sims/lib/python3.10/site-packages/cartopy/mpl/geoaxes.py:403: UserWarning: The `map_projection` keyword argument is deprecated, use `projection` to instantiate a GeoAxes instead.\n",
      "  warnings.warn(\"The `map_projection` keyword argument is \"\n"
     ]
    },
    {
     "name": "stdout",
     "output_type": "stream",
     "text": [
      "[Parallel(n_jobs=8)]: Done  77 tasks      | elapsed:  4.9min\n"
     ]
    },
    {
     "name": "stderr",
     "output_type": "stream",
     "text": [
      "/Users/beckermr/mambaforge/envs/rubin-sims/lib/python3.10/site-packages/cartopy/mpl/geoaxes.py:403: UserWarning: The `map_projection` keyword argument is deprecated, use `projection` to instantiate a GeoAxes instead.\n",
      "  warnings.warn(\"The `map_projection` keyword argument is \"\n",
      "/Users/beckermr/mambaforge/envs/rubin-sims/lib/python3.10/site-packages/cartopy/mpl/geoaxes.py:403: UserWarning: The `map_projection` keyword argument is deprecated, use `projection` to instantiate a GeoAxes instead.\n",
      "  warnings.warn(\"The `map_projection` keyword argument is \"\n"
     ]
    },
    {
     "name": "stdout",
     "output_type": "stream",
     "text": [
      "[Parallel(n_jobs=8)]: Done  78 tasks      | elapsed:  5.0min\n"
     ]
    },
    {
     "name": "stderr",
     "output_type": "stream",
     "text": [
      "/Users/beckermr/mambaforge/envs/rubin-sims/lib/python3.10/site-packages/cartopy/mpl/geoaxes.py:403: UserWarning: The `map_projection` keyword argument is deprecated, use `projection` to instantiate a GeoAxes instead.\n",
      "  warnings.warn(\"The `map_projection` keyword argument is \"\n",
      "/Users/beckermr/mambaforge/envs/rubin-sims/lib/python3.10/site-packages/cartopy/mpl/geoaxes.py:403: UserWarning: The `map_projection` keyword argument is deprecated, use `projection` to instantiate a GeoAxes instead.\n",
      "  warnings.warn(\"The `map_projection` keyword argument is \"\n"
     ]
    },
    {
     "name": "stdout",
     "output_type": "stream",
     "text": [
      "[Parallel(n_jobs=8)]: Done  79 tasks      | elapsed:  5.0min\n"
     ]
    },
    {
     "name": "stderr",
     "output_type": "stream",
     "text": [
      "/Users/beckermr/mambaforge/envs/rubin-sims/lib/python3.10/site-packages/cartopy/mpl/geoaxes.py:403: UserWarning: The `map_projection` keyword argument is deprecated, use `projection` to instantiate a GeoAxes instead.\n",
      "  warnings.warn(\"The `map_projection` keyword argument is \"\n",
      "/Users/beckermr/mambaforge/envs/rubin-sims/lib/python3.10/site-packages/cartopy/mpl/geoaxes.py:403: UserWarning: The `map_projection` keyword argument is deprecated, use `projection` to instantiate a GeoAxes instead.\n",
      "  warnings.warn(\"The `map_projection` keyword argument is \"\n"
     ]
    },
    {
     "name": "stdout",
     "output_type": "stream",
     "text": [
      "[Parallel(n_jobs=8)]: Done  80 tasks      | elapsed:  5.0min\n"
     ]
    },
    {
     "name": "stderr",
     "output_type": "stream",
     "text": [
      "/Users/beckermr/mambaforge/envs/rubin-sims/lib/python3.10/site-packages/cartopy/mpl/geoaxes.py:403: UserWarning: The `map_projection` keyword argument is deprecated, use `projection` to instantiate a GeoAxes instead.\n",
      "  warnings.warn(\"The `map_projection` keyword argument is \"\n",
      "/Users/beckermr/mambaforge/envs/rubin-sims/lib/python3.10/site-packages/cartopy/mpl/geoaxes.py:403: UserWarning: The `map_projection` keyword argument is deprecated, use `projection` to instantiate a GeoAxes instead.\n",
      "  warnings.warn(\"The `map_projection` keyword argument is \"\n"
     ]
    },
    {
     "name": "stdout",
     "output_type": "stream",
     "text": [
      "[Parallel(n_jobs=8)]: Done  81 tasks      | elapsed:  5.3min\n"
     ]
    },
    {
     "name": "stderr",
     "output_type": "stream",
     "text": [
      "/Users/beckermr/mambaforge/envs/rubin-sims/lib/python3.10/site-packages/cartopy/mpl/geoaxes.py:403: UserWarning: The `map_projection` keyword argument is deprecated, use `projection` to instantiate a GeoAxes instead.\n",
      "  warnings.warn(\"The `map_projection` keyword argument is \"\n",
      "/Users/beckermr/mambaforge/envs/rubin-sims/lib/python3.10/site-packages/cartopy/mpl/geoaxes.py:403: UserWarning: The `map_projection` keyword argument is deprecated, use `projection` to instantiate a GeoAxes instead.\n",
      "  warnings.warn(\"The `map_projection` keyword argument is \"\n"
     ]
    },
    {
     "name": "stdout",
     "output_type": "stream",
     "text": [
      "[Parallel(n_jobs=8)]: Done  82 tasks      | elapsed:  5.4min\n"
     ]
    },
    {
     "name": "stderr",
     "output_type": "stream",
     "text": [
      "/Users/beckermr/mambaforge/envs/rubin-sims/lib/python3.10/site-packages/cartopy/mpl/geoaxes.py:403: UserWarning: The `map_projection` keyword argument is deprecated, use `projection` to instantiate a GeoAxes instead.\n",
      "  warnings.warn(\"The `map_projection` keyword argument is \"\n",
      "/Users/beckermr/mambaforge/envs/rubin-sims/lib/python3.10/site-packages/cartopy/mpl/geoaxes.py:403: UserWarning: The `map_projection` keyword argument is deprecated, use `projection` to instantiate a GeoAxes instead.\n",
      "  warnings.warn(\"The `map_projection` keyword argument is \"\n"
     ]
    },
    {
     "name": "stdout",
     "output_type": "stream",
     "text": [
      "[Parallel(n_jobs=8)]: Done  83 tasks      | elapsed:  5.4min\n"
     ]
    },
    {
     "name": "stderr",
     "output_type": "stream",
     "text": [
      "/Users/beckermr/mambaforge/envs/rubin-sims/lib/python3.10/site-packages/cartopy/mpl/geoaxes.py:403: UserWarning: The `map_projection` keyword argument is deprecated, use `projection` to instantiate a GeoAxes instead.\n",
      "  warnings.warn(\"The `map_projection` keyword argument is \"\n",
      "/Users/beckermr/mambaforge/envs/rubin-sims/lib/python3.10/site-packages/cartopy/mpl/geoaxes.py:403: UserWarning: The `map_projection` keyword argument is deprecated, use `projection` to instantiate a GeoAxes instead.\n",
      "  warnings.warn(\"The `map_projection` keyword argument is \"\n"
     ]
    },
    {
     "name": "stdout",
     "output_type": "stream",
     "text": [
      "[Parallel(n_jobs=8)]: Done  84 tasks      | elapsed:  5.4min\n"
     ]
    },
    {
     "name": "stderr",
     "output_type": "stream",
     "text": [
      "/Users/beckermr/mambaforge/envs/rubin-sims/lib/python3.10/site-packages/cartopy/mpl/geoaxes.py:403: UserWarning: The `map_projection` keyword argument is deprecated, use `projection` to instantiate a GeoAxes instead.\n",
      "  warnings.warn(\"The `map_projection` keyword argument is \"\n",
      "/Users/beckermr/mambaforge/envs/rubin-sims/lib/python3.10/site-packages/cartopy/mpl/geoaxes.py:403: UserWarning: The `map_projection` keyword argument is deprecated, use `projection` to instantiate a GeoAxes instead.\n",
      "  warnings.warn(\"The `map_projection` keyword argument is \"\n"
     ]
    },
    {
     "name": "stdout",
     "output_type": "stream",
     "text": [
      "[Parallel(n_jobs=8)]: Done  85 tasks      | elapsed:  5.4min\n",
      "[Parallel(n_jobs=8)]: Done  86 tasks      | elapsed:  5.4min\n"
     ]
    },
    {
     "name": "stderr",
     "output_type": "stream",
     "text": [
      "/Users/beckermr/mambaforge/envs/rubin-sims/lib/python3.10/site-packages/cartopy/mpl/geoaxes.py:403: UserWarning: The `map_projection` keyword argument is deprecated, use `projection` to instantiate a GeoAxes instead.\n",
      "  warnings.warn(\"The `map_projection` keyword argument is \"\n",
      "/Users/beckermr/mambaforge/envs/rubin-sims/lib/python3.10/site-packages/cartopy/mpl/geoaxes.py:403: UserWarning: The `map_projection` keyword argument is deprecated, use `projection` to instantiate a GeoAxes instead.\n",
      "  warnings.warn(\"The `map_projection` keyword argument is \"\n",
      "/Users/beckermr/mambaforge/envs/rubin-sims/lib/python3.10/site-packages/cartopy/mpl/geoaxes.py:403: UserWarning: The `map_projection` keyword argument is deprecated, use `projection` to instantiate a GeoAxes instead.\n",
      "  warnings.warn(\"The `map_projection` keyword argument is \"\n",
      "/Users/beckermr/mambaforge/envs/rubin-sims/lib/python3.10/site-packages/cartopy/mpl/geoaxes.py:403: UserWarning: The `map_projection` keyword argument is deprecated, use `projection` to instantiate a GeoAxes instead.\n",
      "  warnings.warn(\"The `map_projection` keyword argument is \"\n"
     ]
    },
    {
     "name": "stdout",
     "output_type": "stream",
     "text": [
      "[Parallel(n_jobs=8)]: Done  87 tasks      | elapsed:  5.4min\n"
     ]
    },
    {
     "name": "stderr",
     "output_type": "stream",
     "text": [
      "/Users/beckermr/mambaforge/envs/rubin-sims/lib/python3.10/site-packages/cartopy/mpl/geoaxes.py:403: UserWarning: The `map_projection` keyword argument is deprecated, use `projection` to instantiate a GeoAxes instead.\n",
      "  warnings.warn(\"The `map_projection` keyword argument is \"\n",
      "/Users/beckermr/mambaforge/envs/rubin-sims/lib/python3.10/site-packages/cartopy/mpl/geoaxes.py:403: UserWarning: The `map_projection` keyword argument is deprecated, use `projection` to instantiate a GeoAxes instead.\n",
      "  warnings.warn(\"The `map_projection` keyword argument is \"\n"
     ]
    },
    {
     "name": "stdout",
     "output_type": "stream",
     "text": [
      "[Parallel(n_jobs=8)]: Done  88 tasks      | elapsed:  5.5min\n"
     ]
    },
    {
     "name": "stderr",
     "output_type": "stream",
     "text": [
      "/Users/beckermr/mambaforge/envs/rubin-sims/lib/python3.10/site-packages/cartopy/mpl/geoaxes.py:403: UserWarning: The `map_projection` keyword argument is deprecated, use `projection` to instantiate a GeoAxes instead.\n",
      "  warnings.warn(\"The `map_projection` keyword argument is \"\n",
      "/Users/beckermr/mambaforge/envs/rubin-sims/lib/python3.10/site-packages/cartopy/mpl/geoaxes.py:403: UserWarning: The `map_projection` keyword argument is deprecated, use `projection` to instantiate a GeoAxes instead.\n",
      "  warnings.warn(\"The `map_projection` keyword argument is \"\n"
     ]
    },
    {
     "name": "stdout",
     "output_type": "stream",
     "text": [
      "[Parallel(n_jobs=8)]: Done  89 tasks      | elapsed:  5.8min\n"
     ]
    },
    {
     "name": "stderr",
     "output_type": "stream",
     "text": [
      "/Users/beckermr/mambaforge/envs/rubin-sims/lib/python3.10/site-packages/cartopy/mpl/geoaxes.py:403: UserWarning: The `map_projection` keyword argument is deprecated, use `projection` to instantiate a GeoAxes instead.\n",
      "  warnings.warn(\"The `map_projection` keyword argument is \"\n",
      "/Users/beckermr/mambaforge/envs/rubin-sims/lib/python3.10/site-packages/cartopy/mpl/geoaxes.py:403: UserWarning: The `map_projection` keyword argument is deprecated, use `projection` to instantiate a GeoAxes instead.\n",
      "  warnings.warn(\"The `map_projection` keyword argument is \"\n"
     ]
    },
    {
     "name": "stdout",
     "output_type": "stream",
     "text": [
      "[Parallel(n_jobs=8)]: Done  90 tasks      | elapsed:  5.8min\n"
     ]
    },
    {
     "name": "stderr",
     "output_type": "stream",
     "text": [
      "/Users/beckermr/mambaforge/envs/rubin-sims/lib/python3.10/site-packages/cartopy/mpl/geoaxes.py:403: UserWarning: The `map_projection` keyword argument is deprecated, use `projection` to instantiate a GeoAxes instead.\n",
      "  warnings.warn(\"The `map_projection` keyword argument is \"\n",
      "/Users/beckermr/mambaforge/envs/rubin-sims/lib/python3.10/site-packages/cartopy/mpl/geoaxes.py:403: UserWarning: The `map_projection` keyword argument is deprecated, use `projection` to instantiate a GeoAxes instead.\n",
      "  warnings.warn(\"The `map_projection` keyword argument is \"\n"
     ]
    },
    {
     "name": "stdout",
     "output_type": "stream",
     "text": [
      "[Parallel(n_jobs=8)]: Done  91 tasks      | elapsed:  5.9min\n"
     ]
    },
    {
     "name": "stderr",
     "output_type": "stream",
     "text": [
      "/Users/beckermr/mambaforge/envs/rubin-sims/lib/python3.10/site-packages/cartopy/mpl/geoaxes.py:403: UserWarning: The `map_projection` keyword argument is deprecated, use `projection` to instantiate a GeoAxes instead.\n",
      "  warnings.warn(\"The `map_projection` keyword argument is \"\n",
      "/Users/beckermr/mambaforge/envs/rubin-sims/lib/python3.10/site-packages/cartopy/mpl/geoaxes.py:403: UserWarning: The `map_projection` keyword argument is deprecated, use `projection` to instantiate a GeoAxes instead.\n",
      "  warnings.warn(\"The `map_projection` keyword argument is \"\n"
     ]
    },
    {
     "name": "stdout",
     "output_type": "stream",
     "text": [
      "[Parallel(n_jobs=8)]: Done  92 tasks      | elapsed:  5.9min\n"
     ]
    },
    {
     "name": "stderr",
     "output_type": "stream",
     "text": [
      "/Users/beckermr/mambaforge/envs/rubin-sims/lib/python3.10/site-packages/cartopy/mpl/geoaxes.py:403: UserWarning: The `map_projection` keyword argument is deprecated, use `projection` to instantiate a GeoAxes instead.\n",
      "  warnings.warn(\"The `map_projection` keyword argument is \"\n",
      "/Users/beckermr/mambaforge/envs/rubin-sims/lib/python3.10/site-packages/cartopy/mpl/geoaxes.py:403: UserWarning: The `map_projection` keyword argument is deprecated, use `projection` to instantiate a GeoAxes instead.\n",
      "  warnings.warn(\"The `map_projection` keyword argument is \"\n"
     ]
    },
    {
     "name": "stdout",
     "output_type": "stream",
     "text": [
      "[Parallel(n_jobs=8)]: Done  93 tasks      | elapsed:  5.9min\n"
     ]
    },
    {
     "name": "stderr",
     "output_type": "stream",
     "text": [
      "/Users/beckermr/mambaforge/envs/rubin-sims/lib/python3.10/site-packages/cartopy/mpl/geoaxes.py:403: UserWarning: The `map_projection` keyword argument is deprecated, use `projection` to instantiate a GeoAxes instead.\n",
      "  warnings.warn(\"The `map_projection` keyword argument is \"\n",
      "/Users/beckermr/mambaforge/envs/rubin-sims/lib/python3.10/site-packages/cartopy/mpl/geoaxes.py:403: UserWarning: The `map_projection` keyword argument is deprecated, use `projection` to instantiate a GeoAxes instead.\n",
      "  warnings.warn(\"The `map_projection` keyword argument is \"\n"
     ]
    },
    {
     "name": "stdout",
     "output_type": "stream",
     "text": [
      "[Parallel(n_jobs=8)]: Done  94 tasks      | elapsed:  5.9min\n"
     ]
    },
    {
     "name": "stderr",
     "output_type": "stream",
     "text": [
      "/Users/beckermr/mambaforge/envs/rubin-sims/lib/python3.10/site-packages/cartopy/mpl/geoaxes.py:403: UserWarning: The `map_projection` keyword argument is deprecated, use `projection` to instantiate a GeoAxes instead.\n",
      "  warnings.warn(\"The `map_projection` keyword argument is \"\n",
      "/Users/beckermr/mambaforge/envs/rubin-sims/lib/python3.10/site-packages/cartopy/mpl/geoaxes.py:403: UserWarning: The `map_projection` keyword argument is deprecated, use `projection` to instantiate a GeoAxes instead.\n",
      "  warnings.warn(\"The `map_projection` keyword argument is \"\n"
     ]
    },
    {
     "name": "stdout",
     "output_type": "stream",
     "text": [
      "[Parallel(n_jobs=8)]: Done  95 tasks      | elapsed:  5.9min\n"
     ]
    },
    {
     "name": "stderr",
     "output_type": "stream",
     "text": [
      "/Users/beckermr/mambaforge/envs/rubin-sims/lib/python3.10/site-packages/cartopy/mpl/geoaxes.py:403: UserWarning: The `map_projection` keyword argument is deprecated, use `projection` to instantiate a GeoAxes instead.\n",
      "  warnings.warn(\"The `map_projection` keyword argument is \"\n",
      "/Users/beckermr/mambaforge/envs/rubin-sims/lib/python3.10/site-packages/cartopy/mpl/geoaxes.py:403: UserWarning: The `map_projection` keyword argument is deprecated, use `projection` to instantiate a GeoAxes instead.\n",
      "  warnings.warn(\"The `map_projection` keyword argument is \"\n"
     ]
    },
    {
     "name": "stdout",
     "output_type": "stream",
     "text": [
      "[Parallel(n_jobs=8)]: Done  96 tasks      | elapsed:  5.9min\n"
     ]
    },
    {
     "name": "stderr",
     "output_type": "stream",
     "text": [
      "/Users/beckermr/mambaforge/envs/rubin-sims/lib/python3.10/site-packages/cartopy/mpl/geoaxes.py:403: UserWarning: The `map_projection` keyword argument is deprecated, use `projection` to instantiate a GeoAxes instead.\n",
      "  warnings.warn(\"The `map_projection` keyword argument is \"\n",
      "/Users/beckermr/mambaforge/envs/rubin-sims/lib/python3.10/site-packages/cartopy/mpl/geoaxes.py:403: UserWarning: The `map_projection` keyword argument is deprecated, use `projection` to instantiate a GeoAxes instead.\n",
      "  warnings.warn(\"The `map_projection` keyword argument is \"\n"
     ]
    },
    {
     "name": "stdout",
     "output_type": "stream",
     "text": [
      "[Parallel(n_jobs=8)]: Done  97 tasks      | elapsed:  6.3min\n",
      "[Parallel(n_jobs=8)]: Done  98 tasks      | elapsed:  6.3min\n"
     ]
    },
    {
     "name": "stderr",
     "output_type": "stream",
     "text": [
      "/Users/beckermr/mambaforge/envs/rubin-sims/lib/python3.10/site-packages/cartopy/mpl/geoaxes.py:403: UserWarning: The `map_projection` keyword argument is deprecated, use `projection` to instantiate a GeoAxes instead.\n",
      "  warnings.warn(\"The `map_projection` keyword argument is \"\n",
      "/Users/beckermr/mambaforge/envs/rubin-sims/lib/python3.10/site-packages/cartopy/mpl/geoaxes.py:403: UserWarning: The `map_projection` keyword argument is deprecated, use `projection` to instantiate a GeoAxes instead.\n",
      "  warnings.warn(\"The `map_projection` keyword argument is \"\n"
     ]
    },
    {
     "name": "stdout",
     "output_type": "stream",
     "text": [
      "[Parallel(n_jobs=8)]: Done  99 tasks      | elapsed:  6.3min\n"
     ]
    },
    {
     "name": "stderr",
     "output_type": "stream",
     "text": [
      "/Users/beckermr/mambaforge/envs/rubin-sims/lib/python3.10/site-packages/cartopy/mpl/geoaxes.py:403: UserWarning: The `map_projection` keyword argument is deprecated, use `projection` to instantiate a GeoAxes instead.\n",
      "  warnings.warn(\"The `map_projection` keyword argument is \"\n",
      "/Users/beckermr/mambaforge/envs/rubin-sims/lib/python3.10/site-packages/cartopy/mpl/geoaxes.py:403: UserWarning: The `map_projection` keyword argument is deprecated, use `projection` to instantiate a GeoAxes instead.\n",
      "  warnings.warn(\"The `map_projection` keyword argument is \"\n"
     ]
    },
    {
     "name": "stdout",
     "output_type": "stream",
     "text": [
      "[Parallel(n_jobs=8)]: Done 100 tasks      | elapsed:  6.4min\n"
     ]
    },
    {
     "name": "stderr",
     "output_type": "stream",
     "text": [
      "/Users/beckermr/mambaforge/envs/rubin-sims/lib/python3.10/site-packages/cartopy/mpl/geoaxes.py:403: UserWarning: The `map_projection` keyword argument is deprecated, use `projection` to instantiate a GeoAxes instead.\n",
      "  warnings.warn(\"The `map_projection` keyword argument is \"\n",
      "/Users/beckermr/mambaforge/envs/rubin-sims/lib/python3.10/site-packages/cartopy/mpl/geoaxes.py:403: UserWarning: The `map_projection` keyword argument is deprecated, use `projection` to instantiate a GeoAxes instead.\n",
      "  warnings.warn(\"The `map_projection` keyword argument is \"\n"
     ]
    },
    {
     "name": "stdout",
     "output_type": "stream",
     "text": [
      "[Parallel(n_jobs=8)]: Done 101 tasks      | elapsed:  6.4min\n",
      "[Parallel(n_jobs=8)]: Done 102 tasks      | elapsed:  6.4min\n"
     ]
    },
    {
     "name": "stderr",
     "output_type": "stream",
     "text": [
      "/Users/beckermr/mambaforge/envs/rubin-sims/lib/python3.10/site-packages/cartopy/mpl/geoaxes.py:403: UserWarning: The `map_projection` keyword argument is deprecated, use `projection` to instantiate a GeoAxes instead.\n",
      "  warnings.warn(\"The `map_projection` keyword argument is \"\n",
      "/Users/beckermr/mambaforge/envs/rubin-sims/lib/python3.10/site-packages/cartopy/mpl/geoaxes.py:403: UserWarning: The `map_projection` keyword argument is deprecated, use `projection` to instantiate a GeoAxes instead.\n",
      "  warnings.warn(\"The `map_projection` keyword argument is \"\n"
     ]
    },
    {
     "name": "stdout",
     "output_type": "stream",
     "text": [
      "[Parallel(n_jobs=8)]: Done 103 tasks      | elapsed:  6.4min\n"
     ]
    },
    {
     "name": "stderr",
     "output_type": "stream",
     "text": [
      "/Users/beckermr/mambaforge/envs/rubin-sims/lib/python3.10/site-packages/cartopy/mpl/geoaxes.py:403: UserWarning: The `map_projection` keyword argument is deprecated, use `projection` to instantiate a GeoAxes instead.\n",
      "  warnings.warn(\"The `map_projection` keyword argument is \"\n",
      "/Users/beckermr/mambaforge/envs/rubin-sims/lib/python3.10/site-packages/cartopy/mpl/geoaxes.py:403: UserWarning: The `map_projection` keyword argument is deprecated, use `projection` to instantiate a GeoAxes instead.\n",
      "  warnings.warn(\"The `map_projection` keyword argument is \"\n"
     ]
    },
    {
     "name": "stdout",
     "output_type": "stream",
     "text": [
      "[Parallel(n_jobs=8)]: Done 104 tasks      | elapsed:  6.4min\n"
     ]
    },
    {
     "name": "stderr",
     "output_type": "stream",
     "text": [
      "/Users/beckermr/mambaforge/envs/rubin-sims/lib/python3.10/site-packages/cartopy/mpl/geoaxes.py:403: UserWarning: The `map_projection` keyword argument is deprecated, use `projection` to instantiate a GeoAxes instead.\n",
      "  warnings.warn(\"The `map_projection` keyword argument is \"\n",
      "/Users/beckermr/mambaforge/envs/rubin-sims/lib/python3.10/site-packages/cartopy/mpl/geoaxes.py:403: UserWarning: The `map_projection` keyword argument is deprecated, use `projection` to instantiate a GeoAxes instead.\n",
      "  warnings.warn(\"The `map_projection` keyword argument is \"\n",
      "/Users/beckermr/mambaforge/envs/rubin-sims/lib/python3.10/site-packages/cartopy/mpl/geoaxes.py:403: UserWarning: The `map_projection` keyword argument is deprecated, use `projection` to instantiate a GeoAxes instead.\n",
      "  warnings.warn(\"The `map_projection` keyword argument is \"\n",
      "/Users/beckermr/mambaforge/envs/rubin-sims/lib/python3.10/site-packages/cartopy/mpl/geoaxes.py:403: UserWarning: The `map_projection` keyword argument is deprecated, use `projection` to instantiate a GeoAxes instead.\n",
      "  warnings.warn(\"The `map_projection` keyword argument is \"\n",
      "/Users/beckermr/mambaforge/envs/rubin-sims/lib/python3.10/site-packages/cartopy/mpl/geoaxes.py:403: UserWarning: The `map_projection` keyword argument is deprecated, use `projection` to instantiate a GeoAxes instead.\n",
      "  warnings.warn(\"The `map_projection` keyword argument is \"\n",
      "/Users/beckermr/mambaforge/envs/rubin-sims/lib/python3.10/site-packages/cartopy/mpl/geoaxes.py:403: UserWarning: The `map_projection` keyword argument is deprecated, use `projection` to instantiate a GeoAxes instead.\n",
      "  warnings.warn(\"The `map_projection` keyword argument is \"\n"
     ]
    },
    {
     "name": "stdout",
     "output_type": "stream",
     "text": [
      "[Parallel(n_jobs=8)]: Done 105 tasks      | elapsed:  6.8min\n"
     ]
    },
    {
     "name": "stderr",
     "output_type": "stream",
     "text": [
      "/Users/beckermr/mambaforge/envs/rubin-sims/lib/python3.10/site-packages/cartopy/mpl/geoaxes.py:403: UserWarning: The `map_projection` keyword argument is deprecated, use `projection` to instantiate a GeoAxes instead.\n",
      "  warnings.warn(\"The `map_projection` keyword argument is \"\n",
      "/Users/beckermr/mambaforge/envs/rubin-sims/lib/python3.10/site-packages/cartopy/mpl/geoaxes.py:403: UserWarning: The `map_projection` keyword argument is deprecated, use `projection` to instantiate a GeoAxes instead.\n",
      "  warnings.warn(\"The `map_projection` keyword argument is \"\n"
     ]
    },
    {
     "name": "stdout",
     "output_type": "stream",
     "text": [
      "[Parallel(n_jobs=8)]: Done 106 tasks      | elapsed:  6.8min\n",
      "[Parallel(n_jobs=8)]: Done 107 tasks      | elapsed:  6.9min\n"
     ]
    },
    {
     "name": "stderr",
     "output_type": "stream",
     "text": [
      "/Users/beckermr/mambaforge/envs/rubin-sims/lib/python3.10/site-packages/cartopy/mpl/geoaxes.py:403: UserWarning: The `map_projection` keyword argument is deprecated, use `projection` to instantiate a GeoAxes instead.\n",
      "  warnings.warn(\"The `map_projection` keyword argument is \"\n",
      "/Users/beckermr/mambaforge/envs/rubin-sims/lib/python3.10/site-packages/cartopy/mpl/geoaxes.py:403: UserWarning: The `map_projection` keyword argument is deprecated, use `projection` to instantiate a GeoAxes instead.\n",
      "  warnings.warn(\"The `map_projection` keyword argument is \"\n",
      "/Users/beckermr/mambaforge/envs/rubin-sims/lib/python3.10/site-packages/cartopy/mpl/geoaxes.py:403: UserWarning: The `map_projection` keyword argument is deprecated, use `projection` to instantiate a GeoAxes instead.\n",
      "  warnings.warn(\"The `map_projection` keyword argument is \"\n",
      "/Users/beckermr/mambaforge/envs/rubin-sims/lib/python3.10/site-packages/cartopy/mpl/geoaxes.py:403: UserWarning: The `map_projection` keyword argument is deprecated, use `projection` to instantiate a GeoAxes instead.\n",
      "  warnings.warn(\"The `map_projection` keyword argument is \"\n",
      "/Users/beckermr/mambaforge/envs/rubin-sims/lib/python3.10/site-packages/cartopy/mpl/geoaxes.py:403: UserWarning: The `map_projection` keyword argument is deprecated, use `projection` to instantiate a GeoAxes instead.\n",
      "  warnings.warn(\"The `map_projection` keyword argument is \"\n"
     ]
    },
    {
     "name": "stdout",
     "output_type": "stream",
     "text": [
      "[Parallel(n_jobs=8)]: Done 108 tasks      | elapsed:  6.9min\n",
      "[Parallel(n_jobs=8)]: Done 109 tasks      | elapsed:  6.9min\n"
     ]
    },
    {
     "name": "stderr",
     "output_type": "stream",
     "text": [
      "/Users/beckermr/mambaforge/envs/rubin-sims/lib/python3.10/site-packages/cartopy/mpl/geoaxes.py:403: UserWarning: The `map_projection` keyword argument is deprecated, use `projection` to instantiate a GeoAxes instead.\n",
      "  warnings.warn(\"The `map_projection` keyword argument is \"\n"
     ]
    },
    {
     "name": "stdout",
     "output_type": "stream",
     "text": [
      "[Parallel(n_jobs=8)]: Done 110 tasks      | elapsed:  6.9min\n"
     ]
    },
    {
     "name": "stderr",
     "output_type": "stream",
     "text": [
      "/Users/beckermr/mambaforge/envs/rubin-sims/lib/python3.10/site-packages/cartopy/mpl/geoaxes.py:403: UserWarning: The `map_projection` keyword argument is deprecated, use `projection` to instantiate a GeoAxes instead.\n",
      "  warnings.warn(\"The `map_projection` keyword argument is \"\n",
      "/Users/beckermr/mambaforge/envs/rubin-sims/lib/python3.10/site-packages/cartopy/mpl/geoaxes.py:403: UserWarning: The `map_projection` keyword argument is deprecated, use `projection` to instantiate a GeoAxes instead.\n",
      "  warnings.warn(\"The `map_projection` keyword argument is \"\n"
     ]
    },
    {
     "name": "stdout",
     "output_type": "stream",
     "text": [
      "[Parallel(n_jobs=8)]: Done 111 tasks      | elapsed:  6.9min\n"
     ]
    },
    {
     "name": "stderr",
     "output_type": "stream",
     "text": [
      "/Users/beckermr/mambaforge/envs/rubin-sims/lib/python3.10/site-packages/cartopy/mpl/geoaxes.py:403: UserWarning: The `map_projection` keyword argument is deprecated, use `projection` to instantiate a GeoAxes instead.\n",
      "  warnings.warn(\"The `map_projection` keyword argument is \"\n",
      "/Users/beckermr/mambaforge/envs/rubin-sims/lib/python3.10/site-packages/cartopy/mpl/geoaxes.py:403: UserWarning: The `map_projection` keyword argument is deprecated, use `projection` to instantiate a GeoAxes instead.\n",
      "  warnings.warn(\"The `map_projection` keyword argument is \"\n",
      "/Users/beckermr/mambaforge/envs/rubin-sims/lib/python3.10/site-packages/cartopy/mpl/geoaxes.py:403: UserWarning: The `map_projection` keyword argument is deprecated, use `projection` to instantiate a GeoAxes instead.\n",
      "  warnings.warn(\"The `map_projection` keyword argument is \"\n",
      "/Users/beckermr/mambaforge/envs/rubin-sims/lib/python3.10/site-packages/cartopy/mpl/geoaxes.py:403: UserWarning: The `map_projection` keyword argument is deprecated, use `projection` to instantiate a GeoAxes instead.\n",
      "  warnings.warn(\"The `map_projection` keyword argument is \"\n"
     ]
    },
    {
     "name": "stdout",
     "output_type": "stream",
     "text": [
      "[Parallel(n_jobs=8)]: Done 112 tasks      | elapsed:  7.0min\n"
     ]
    },
    {
     "name": "stderr",
     "output_type": "stream",
     "text": [
      "/Users/beckermr/mambaforge/envs/rubin-sims/lib/python3.10/site-packages/cartopy/mpl/geoaxes.py:403: UserWarning: The `map_projection` keyword argument is deprecated, use `projection` to instantiate a GeoAxes instead.\n",
      "  warnings.warn(\"The `map_projection` keyword argument is \"\n",
      "/Users/beckermr/mambaforge/envs/rubin-sims/lib/python3.10/site-packages/cartopy/mpl/geoaxes.py:403: UserWarning: The `map_projection` keyword argument is deprecated, use `projection` to instantiate a GeoAxes instead.\n",
      "  warnings.warn(\"The `map_projection` keyword argument is \"\n"
     ]
    },
    {
     "name": "stdout",
     "output_type": "stream",
     "text": [
      "[Parallel(n_jobs=8)]: Done 113 tasks      | elapsed:  7.3min\n"
     ]
    },
    {
     "name": "stderr",
     "output_type": "stream",
     "text": [
      "/Users/beckermr/mambaforge/envs/rubin-sims/lib/python3.10/site-packages/cartopy/mpl/geoaxes.py:403: UserWarning: The `map_projection` keyword argument is deprecated, use `projection` to instantiate a GeoAxes instead.\n",
      "  warnings.warn(\"The `map_projection` keyword argument is \"\n",
      "/Users/beckermr/mambaforge/envs/rubin-sims/lib/python3.10/site-packages/cartopy/mpl/geoaxes.py:403: UserWarning: The `map_projection` keyword argument is deprecated, use `projection` to instantiate a GeoAxes instead.\n",
      "  warnings.warn(\"The `map_projection` keyword argument is \"\n"
     ]
    },
    {
     "name": "stdout",
     "output_type": "stream",
     "text": [
      "[Parallel(n_jobs=8)]: Done 114 tasks      | elapsed:  7.3min\n"
     ]
    },
    {
     "name": "stderr",
     "output_type": "stream",
     "text": [
      "/Users/beckermr/mambaforge/envs/rubin-sims/lib/python3.10/site-packages/cartopy/mpl/geoaxes.py:403: UserWarning: The `map_projection` keyword argument is deprecated, use `projection` to instantiate a GeoAxes instead.\n",
      "  warnings.warn(\"The `map_projection` keyword argument is \"\n",
      "/Users/beckermr/mambaforge/envs/rubin-sims/lib/python3.10/site-packages/cartopy/mpl/geoaxes.py:403: UserWarning: The `map_projection` keyword argument is deprecated, use `projection` to instantiate a GeoAxes instead.\n",
      "  warnings.warn(\"The `map_projection` keyword argument is \"\n"
     ]
    },
    {
     "name": "stdout",
     "output_type": "stream",
     "text": [
      "[Parallel(n_jobs=8)]: Done 115 tasks      | elapsed:  7.4min\n"
     ]
    },
    {
     "name": "stderr",
     "output_type": "stream",
     "text": [
      "/Users/beckermr/mambaforge/envs/rubin-sims/lib/python3.10/site-packages/cartopy/mpl/geoaxes.py:403: UserWarning: The `map_projection` keyword argument is deprecated, use `projection` to instantiate a GeoAxes instead.\n",
      "  warnings.warn(\"The `map_projection` keyword argument is \"\n",
      "/Users/beckermr/mambaforge/envs/rubin-sims/lib/python3.10/site-packages/cartopy/mpl/geoaxes.py:403: UserWarning: The `map_projection` keyword argument is deprecated, use `projection` to instantiate a GeoAxes instead.\n",
      "  warnings.warn(\"The `map_projection` keyword argument is \"\n"
     ]
    },
    {
     "name": "stdout",
     "output_type": "stream",
     "text": [
      "[Parallel(n_jobs=8)]: Done 116 tasks      | elapsed:  7.4min\n"
     ]
    },
    {
     "name": "stderr",
     "output_type": "stream",
     "text": [
      "/Users/beckermr/mambaforge/envs/rubin-sims/lib/python3.10/site-packages/cartopy/mpl/geoaxes.py:403: UserWarning: The `map_projection` keyword argument is deprecated, use `projection` to instantiate a GeoAxes instead.\n",
      "  warnings.warn(\"The `map_projection` keyword argument is \"\n",
      "/Users/beckermr/mambaforge/envs/rubin-sims/lib/python3.10/site-packages/cartopy/mpl/geoaxes.py:403: UserWarning: The `map_projection` keyword argument is deprecated, use `projection` to instantiate a GeoAxes instead.\n",
      "  warnings.warn(\"The `map_projection` keyword argument is \"\n"
     ]
    },
    {
     "name": "stdout",
     "output_type": "stream",
     "text": [
      "[Parallel(n_jobs=8)]: Done 117 tasks      | elapsed:  7.4min\n"
     ]
    },
    {
     "name": "stderr",
     "output_type": "stream",
     "text": [
      "/Users/beckermr/mambaforge/envs/rubin-sims/lib/python3.10/site-packages/cartopy/mpl/geoaxes.py:403: UserWarning: The `map_projection` keyword argument is deprecated, use `projection` to instantiate a GeoAxes instead.\n",
      "  warnings.warn(\"The `map_projection` keyword argument is \"\n",
      "/Users/beckermr/mambaforge/envs/rubin-sims/lib/python3.10/site-packages/cartopy/mpl/geoaxes.py:403: UserWarning: The `map_projection` keyword argument is deprecated, use `projection` to instantiate a GeoAxes instead.\n",
      "  warnings.warn(\"The `map_projection` keyword argument is \"\n"
     ]
    },
    {
     "name": "stdout",
     "output_type": "stream",
     "text": [
      "[Parallel(n_jobs=8)]: Done 118 tasks      | elapsed:  7.4min\n"
     ]
    },
    {
     "name": "stderr",
     "output_type": "stream",
     "text": [
      "/Users/beckermr/mambaforge/envs/rubin-sims/lib/python3.10/site-packages/cartopy/mpl/geoaxes.py:403: UserWarning: The `map_projection` keyword argument is deprecated, use `projection` to instantiate a GeoAxes instead.\n",
      "  warnings.warn(\"The `map_projection` keyword argument is \"\n",
      "/Users/beckermr/mambaforge/envs/rubin-sims/lib/python3.10/site-packages/cartopy/mpl/geoaxes.py:403: UserWarning: The `map_projection` keyword argument is deprecated, use `projection` to instantiate a GeoAxes instead.\n",
      "  warnings.warn(\"The `map_projection` keyword argument is \"\n"
     ]
    },
    {
     "name": "stdout",
     "output_type": "stream",
     "text": [
      "[Parallel(n_jobs=8)]: Done 119 tasks      | elapsed:  7.4min\n"
     ]
    },
    {
     "name": "stderr",
     "output_type": "stream",
     "text": [
      "/Users/beckermr/mambaforge/envs/rubin-sims/lib/python3.10/site-packages/cartopy/mpl/geoaxes.py:403: UserWarning: The `map_projection` keyword argument is deprecated, use `projection` to instantiate a GeoAxes instead.\n",
      "  warnings.warn(\"The `map_projection` keyword argument is \"\n",
      "/Users/beckermr/mambaforge/envs/rubin-sims/lib/python3.10/site-packages/cartopy/mpl/geoaxes.py:403: UserWarning: The `map_projection` keyword argument is deprecated, use `projection` to instantiate a GeoAxes instead.\n",
      "  warnings.warn(\"The `map_projection` keyword argument is \"\n"
     ]
    },
    {
     "name": "stdout",
     "output_type": "stream",
     "text": [
      "[Parallel(n_jobs=8)]: Done 120 tasks      | elapsed:  7.4min\n"
     ]
    },
    {
     "name": "stderr",
     "output_type": "stream",
     "text": [
      "/Users/beckermr/mambaforge/envs/rubin-sims/lib/python3.10/site-packages/cartopy/mpl/geoaxes.py:403: UserWarning: The `map_projection` keyword argument is deprecated, use `projection` to instantiate a GeoAxes instead.\n",
      "  warnings.warn(\"The `map_projection` keyword argument is \"\n",
      "/Users/beckermr/mambaforge/envs/rubin-sims/lib/python3.10/site-packages/cartopy/mpl/geoaxes.py:403: UserWarning: The `map_projection` keyword argument is deprecated, use `projection` to instantiate a GeoAxes instead.\n",
      "  warnings.warn(\"The `map_projection` keyword argument is \"\n"
     ]
    },
    {
     "name": "stdout",
     "output_type": "stream",
     "text": [
      "[Parallel(n_jobs=8)]: Done 121 tasks      | elapsed:  7.8min\n"
     ]
    },
    {
     "name": "stderr",
     "output_type": "stream",
     "text": [
      "/Users/beckermr/mambaforge/envs/rubin-sims/lib/python3.10/site-packages/cartopy/mpl/geoaxes.py:403: UserWarning: The `map_projection` keyword argument is deprecated, use `projection` to instantiate a GeoAxes instead.\n",
      "  warnings.warn(\"The `map_projection` keyword argument is \"\n",
      "/Users/beckermr/mambaforge/envs/rubin-sims/lib/python3.10/site-packages/cartopy/mpl/geoaxes.py:403: UserWarning: The `map_projection` keyword argument is deprecated, use `projection` to instantiate a GeoAxes instead.\n",
      "  warnings.warn(\"The `map_projection` keyword argument is \"\n"
     ]
    },
    {
     "name": "stdout",
     "output_type": "stream",
     "text": [
      "[Parallel(n_jobs=8)]: Done 122 tasks      | elapsed:  7.8min\n"
     ]
    },
    {
     "name": "stderr",
     "output_type": "stream",
     "text": [
      "/Users/beckermr/mambaforge/envs/rubin-sims/lib/python3.10/site-packages/cartopy/mpl/geoaxes.py:403: UserWarning: The `map_projection` keyword argument is deprecated, use `projection` to instantiate a GeoAxes instead.\n",
      "  warnings.warn(\"The `map_projection` keyword argument is \"\n",
      "/Users/beckermr/mambaforge/envs/rubin-sims/lib/python3.10/site-packages/cartopy/mpl/geoaxes.py:403: UserWarning: The `map_projection` keyword argument is deprecated, use `projection` to instantiate a GeoAxes instead.\n",
      "  warnings.warn(\"The `map_projection` keyword argument is \"\n"
     ]
    },
    {
     "name": "stdout",
     "output_type": "stream",
     "text": [
      "[Parallel(n_jobs=8)]: Done 123 tasks      | elapsed:  7.8min\n"
     ]
    },
    {
     "name": "stderr",
     "output_type": "stream",
     "text": [
      "/Users/beckermr/mambaforge/envs/rubin-sims/lib/python3.10/site-packages/cartopy/mpl/geoaxes.py:403: UserWarning: The `map_projection` keyword argument is deprecated, use `projection` to instantiate a GeoAxes instead.\n",
      "  warnings.warn(\"The `map_projection` keyword argument is \"\n",
      "/Users/beckermr/mambaforge/envs/rubin-sims/lib/python3.10/site-packages/cartopy/mpl/geoaxes.py:403: UserWarning: The `map_projection` keyword argument is deprecated, use `projection` to instantiate a GeoAxes instead.\n",
      "  warnings.warn(\"The `map_projection` keyword argument is \"\n"
     ]
    },
    {
     "name": "stdout",
     "output_type": "stream",
     "text": [
      "[Parallel(n_jobs=8)]: Done 124 tasks      | elapsed:  7.9min\n"
     ]
    },
    {
     "name": "stderr",
     "output_type": "stream",
     "text": [
      "/Users/beckermr/mambaforge/envs/rubin-sims/lib/python3.10/site-packages/cartopy/mpl/geoaxes.py:403: UserWarning: The `map_projection` keyword argument is deprecated, use `projection` to instantiate a GeoAxes instead.\n",
      "  warnings.warn(\"The `map_projection` keyword argument is \"\n",
      "/Users/beckermr/mambaforge/envs/rubin-sims/lib/python3.10/site-packages/cartopy/mpl/geoaxes.py:403: UserWarning: The `map_projection` keyword argument is deprecated, use `projection` to instantiate a GeoAxes instead.\n",
      "  warnings.warn(\"The `map_projection` keyword argument is \"\n"
     ]
    },
    {
     "name": "stdout",
     "output_type": "stream",
     "text": [
      "[Parallel(n_jobs=8)]: Done 125 tasks      | elapsed:  7.9min\n"
     ]
    },
    {
     "name": "stderr",
     "output_type": "stream",
     "text": [
      "/Users/beckermr/mambaforge/envs/rubin-sims/lib/python3.10/site-packages/cartopy/mpl/geoaxes.py:403: UserWarning: The `map_projection` keyword argument is deprecated, use `projection` to instantiate a GeoAxes instead.\n",
      "  warnings.warn(\"The `map_projection` keyword argument is \"\n",
      "/Users/beckermr/mambaforge/envs/rubin-sims/lib/python3.10/site-packages/cartopy/mpl/geoaxes.py:403: UserWarning: The `map_projection` keyword argument is deprecated, use `projection` to instantiate a GeoAxes instead.\n",
      "  warnings.warn(\"The `map_projection` keyword argument is \"\n"
     ]
    },
    {
     "name": "stdout",
     "output_type": "stream",
     "text": [
      "[Parallel(n_jobs=8)]: Done 126 tasks      | elapsed:  7.9min\n",
      "[Parallel(n_jobs=8)]: Done 127 tasks      | elapsed:  7.9min\n"
     ]
    },
    {
     "name": "stderr",
     "output_type": "stream",
     "text": [
      "/Users/beckermr/mambaforge/envs/rubin-sims/lib/python3.10/site-packages/cartopy/mpl/geoaxes.py:403: UserWarning: The `map_projection` keyword argument is deprecated, use `projection` to instantiate a GeoAxes instead.\n",
      "  warnings.warn(\"The `map_projection` keyword argument is \"\n",
      "/Users/beckermr/mambaforge/envs/rubin-sims/lib/python3.10/site-packages/cartopy/mpl/geoaxes.py:403: UserWarning: The `map_projection` keyword argument is deprecated, use `projection` to instantiate a GeoAxes instead.\n",
      "  warnings.warn(\"The `map_projection` keyword argument is \"\n",
      "/Users/beckermr/mambaforge/envs/rubin-sims/lib/python3.10/site-packages/cartopy/mpl/geoaxes.py:403: UserWarning: The `map_projection` keyword argument is deprecated, use `projection` to instantiate a GeoAxes instead.\n",
      "  warnings.warn(\"The `map_projection` keyword argument is \"\n",
      "/Users/beckermr/mambaforge/envs/rubin-sims/lib/python3.10/site-packages/cartopy/mpl/geoaxes.py:403: UserWarning: The `map_projection` keyword argument is deprecated, use `projection` to instantiate a GeoAxes instead.\n",
      "  warnings.warn(\"The `map_projection` keyword argument is \"\n",
      "/Users/beckermr/mambaforge/envs/rubin-sims/lib/python3.10/site-packages/cartopy/mpl/geoaxes.py:403: UserWarning: The `map_projection` keyword argument is deprecated, use `projection` to instantiate a GeoAxes instead.\n",
      "  warnings.warn(\"The `map_projection` keyword argument is \"\n",
      "/Users/beckermr/mambaforge/envs/rubin-sims/lib/python3.10/site-packages/cartopy/mpl/geoaxes.py:403: UserWarning: The `map_projection` keyword argument is deprecated, use `projection` to instantiate a GeoAxes instead.\n",
      "  warnings.warn(\"The `map_projection` keyword argument is \"\n"
     ]
    },
    {
     "name": "stdout",
     "output_type": "stream",
     "text": [
      "[Parallel(n_jobs=8)]: Done 128 tasks      | elapsed:  7.9min\n",
      "[Parallel(n_jobs=8)]: Done 129 tasks      | elapsed:  8.3min\n"
     ]
    },
    {
     "name": "stderr",
     "output_type": "stream",
     "text": [
      "/Users/beckermr/mambaforge/envs/rubin-sims/lib/python3.10/site-packages/cartopy/mpl/geoaxes.py:403: UserWarning: The `map_projection` keyword argument is deprecated, use `projection` to instantiate a GeoAxes instead.\n",
      "  warnings.warn(\"The `map_projection` keyword argument is \"\n",
      "/Users/beckermr/mambaforge/envs/rubin-sims/lib/python3.10/site-packages/cartopy/mpl/geoaxes.py:403: UserWarning: The `map_projection` keyword argument is deprecated, use `projection` to instantiate a GeoAxes instead.\n",
      "  warnings.warn(\"The `map_projection` keyword argument is \"\n"
     ]
    },
    {
     "name": "stdout",
     "output_type": "stream",
     "text": [
      "[Parallel(n_jobs=8)]: Done 130 tasks      | elapsed:  8.3min\n"
     ]
    },
    {
     "name": "stderr",
     "output_type": "stream",
     "text": [
      "/Users/beckermr/mambaforge/envs/rubin-sims/lib/python3.10/site-packages/cartopy/mpl/geoaxes.py:403: UserWarning: The `map_projection` keyword argument is deprecated, use `projection` to instantiate a GeoAxes instead.\n",
      "  warnings.warn(\"The `map_projection` keyword argument is \"\n",
      "/Users/beckermr/mambaforge/envs/rubin-sims/lib/python3.10/site-packages/cartopy/mpl/geoaxes.py:403: UserWarning: The `map_projection` keyword argument is deprecated, use `projection` to instantiate a GeoAxes instead.\n",
      "  warnings.warn(\"The `map_projection` keyword argument is \"\n"
     ]
    },
    {
     "name": "stdout",
     "output_type": "stream",
     "text": [
      "[Parallel(n_jobs=8)]: Done 131 tasks      | elapsed:  8.3min\n"
     ]
    },
    {
     "name": "stderr",
     "output_type": "stream",
     "text": [
      "/Users/beckermr/mambaforge/envs/rubin-sims/lib/python3.10/site-packages/cartopy/mpl/geoaxes.py:403: UserWarning: The `map_projection` keyword argument is deprecated, use `projection` to instantiate a GeoAxes instead.\n",
      "  warnings.warn(\"The `map_projection` keyword argument is \"\n",
      "/Users/beckermr/mambaforge/envs/rubin-sims/lib/python3.10/site-packages/cartopy/mpl/geoaxes.py:403: UserWarning: The `map_projection` keyword argument is deprecated, use `projection` to instantiate a GeoAxes instead.\n",
      "  warnings.warn(\"The `map_projection` keyword argument is \"\n"
     ]
    },
    {
     "name": "stdout",
     "output_type": "stream",
     "text": [
      "[Parallel(n_jobs=8)]: Done 132 tasks      | elapsed:  8.3min\n"
     ]
    },
    {
     "name": "stderr",
     "output_type": "stream",
     "text": [
      "/Users/beckermr/mambaforge/envs/rubin-sims/lib/python3.10/site-packages/cartopy/mpl/geoaxes.py:403: UserWarning: The `map_projection` keyword argument is deprecated, use `projection` to instantiate a GeoAxes instead.\n",
      "  warnings.warn(\"The `map_projection` keyword argument is \"\n",
      "/Users/beckermr/mambaforge/envs/rubin-sims/lib/python3.10/site-packages/cartopy/mpl/geoaxes.py:403: UserWarning: The `map_projection` keyword argument is deprecated, use `projection` to instantiate a GeoAxes instead.\n",
      "  warnings.warn(\"The `map_projection` keyword argument is \"\n"
     ]
    },
    {
     "name": "stdout",
     "output_type": "stream",
     "text": [
      "[Parallel(n_jobs=8)]: Done 133 tasks      | elapsed:  8.4min\n"
     ]
    },
    {
     "name": "stderr",
     "output_type": "stream",
     "text": [
      "/Users/beckermr/mambaforge/envs/rubin-sims/lib/python3.10/site-packages/cartopy/mpl/geoaxes.py:403: UserWarning: The `map_projection` keyword argument is deprecated, use `projection` to instantiate a GeoAxes instead.\n",
      "  warnings.warn(\"The `map_projection` keyword argument is \"\n",
      "/Users/beckermr/mambaforge/envs/rubin-sims/lib/python3.10/site-packages/cartopy/mpl/geoaxes.py:403: UserWarning: The `map_projection` keyword argument is deprecated, use `projection` to instantiate a GeoAxes instead.\n",
      "  warnings.warn(\"The `map_projection` keyword argument is \"\n"
     ]
    },
    {
     "name": "stdout",
     "output_type": "stream",
     "text": [
      "[Parallel(n_jobs=8)]: Done 134 tasks      | elapsed:  8.4min\n",
      "[Parallel(n_jobs=8)]: Done 135 tasks      | elapsed:  8.4min\n"
     ]
    },
    {
     "name": "stderr",
     "output_type": "stream",
     "text": [
      "/Users/beckermr/mambaforge/envs/rubin-sims/lib/python3.10/site-packages/cartopy/mpl/geoaxes.py:403: UserWarning: The `map_projection` keyword argument is deprecated, use `projection` to instantiate a GeoAxes instead.\n",
      "  warnings.warn(\"The `map_projection` keyword argument is \"\n",
      "/Users/beckermr/mambaforge/envs/rubin-sims/lib/python3.10/site-packages/cartopy/mpl/geoaxes.py:403: UserWarning: The `map_projection` keyword argument is deprecated, use `projection` to instantiate a GeoAxes instead.\n",
      "  warnings.warn(\"The `map_projection` keyword argument is \"\n",
      "/Users/beckermr/mambaforge/envs/rubin-sims/lib/python3.10/site-packages/cartopy/mpl/geoaxes.py:403: UserWarning: The `map_projection` keyword argument is deprecated, use `projection` to instantiate a GeoAxes instead.\n",
      "  warnings.warn(\"The `map_projection` keyword argument is \"\n",
      "/Users/beckermr/mambaforge/envs/rubin-sims/lib/python3.10/site-packages/cartopy/mpl/geoaxes.py:403: UserWarning: The `map_projection` keyword argument is deprecated, use `projection` to instantiate a GeoAxes instead.\n",
      "  warnings.warn(\"The `map_projection` keyword argument is \"\n"
     ]
    },
    {
     "name": "stdout",
     "output_type": "stream",
     "text": [
      "[Parallel(n_jobs=8)]: Done 136 tasks      | elapsed:  8.4min\n"
     ]
    },
    {
     "name": "stderr",
     "output_type": "stream",
     "text": [
      "/Users/beckermr/mambaforge/envs/rubin-sims/lib/python3.10/site-packages/cartopy/mpl/geoaxes.py:403: UserWarning: The `map_projection` keyword argument is deprecated, use `projection` to instantiate a GeoAxes instead.\n",
      "  warnings.warn(\"The `map_projection` keyword argument is \"\n",
      "/Users/beckermr/mambaforge/envs/rubin-sims/lib/python3.10/site-packages/cartopy/mpl/geoaxes.py:403: UserWarning: The `map_projection` keyword argument is deprecated, use `projection` to instantiate a GeoAxes instead.\n",
      "  warnings.warn(\"The `map_projection` keyword argument is \"\n"
     ]
    },
    {
     "name": "stdout",
     "output_type": "stream",
     "text": [
      "[Parallel(n_jobs=8)]: Done 137 tasks      | elapsed:  8.7min\n"
     ]
    },
    {
     "name": "stderr",
     "output_type": "stream",
     "text": [
      "/Users/beckermr/mambaforge/envs/rubin-sims/lib/python3.10/site-packages/cartopy/mpl/geoaxes.py:403: UserWarning: The `map_projection` keyword argument is deprecated, use `projection` to instantiate a GeoAxes instead.\n",
      "  warnings.warn(\"The `map_projection` keyword argument is \"\n",
      "/Users/beckermr/mambaforge/envs/rubin-sims/lib/python3.10/site-packages/cartopy/mpl/geoaxes.py:403: UserWarning: The `map_projection` keyword argument is deprecated, use `projection` to instantiate a GeoAxes instead.\n",
      "  warnings.warn(\"The `map_projection` keyword argument is \"\n"
     ]
    },
    {
     "name": "stdout",
     "output_type": "stream",
     "text": [
      "[Parallel(n_jobs=8)]: Done 138 tasks      | elapsed:  8.8min\n"
     ]
    },
    {
     "name": "stderr",
     "output_type": "stream",
     "text": [
      "/Users/beckermr/mambaforge/envs/rubin-sims/lib/python3.10/site-packages/cartopy/mpl/geoaxes.py:403: UserWarning: The `map_projection` keyword argument is deprecated, use `projection` to instantiate a GeoAxes instead.\n",
      "  warnings.warn(\"The `map_projection` keyword argument is \"\n",
      "/Users/beckermr/mambaforge/envs/rubin-sims/lib/python3.10/site-packages/cartopy/mpl/geoaxes.py:403: UserWarning: The `map_projection` keyword argument is deprecated, use `projection` to instantiate a GeoAxes instead.\n",
      "  warnings.warn(\"The `map_projection` keyword argument is \"\n"
     ]
    },
    {
     "name": "stdout",
     "output_type": "stream",
     "text": [
      "[Parallel(n_jobs=8)]: Done 139 tasks      | elapsed:  8.8min\n",
      "[Parallel(n_jobs=8)]: Done 140 tasks      | elapsed:  8.8min\n"
     ]
    },
    {
     "name": "stderr",
     "output_type": "stream",
     "text": [
      "/Users/beckermr/mambaforge/envs/rubin-sims/lib/python3.10/site-packages/cartopy/mpl/geoaxes.py:403: UserWarning: The `map_projection` keyword argument is deprecated, use `projection` to instantiate a GeoAxes instead.\n",
      "  warnings.warn(\"The `map_projection` keyword argument is \"\n",
      "/Users/beckermr/mambaforge/envs/rubin-sims/lib/python3.10/site-packages/cartopy/mpl/geoaxes.py:403: UserWarning: The `map_projection` keyword argument is deprecated, use `projection` to instantiate a GeoAxes instead.\n",
      "  warnings.warn(\"The `map_projection` keyword argument is \"\n",
      "/Users/beckermr/mambaforge/envs/rubin-sims/lib/python3.10/site-packages/cartopy/mpl/geoaxes.py:403: UserWarning: The `map_projection` keyword argument is deprecated, use `projection` to instantiate a GeoAxes instead.\n",
      "  warnings.warn(\"The `map_projection` keyword argument is \"\n",
      "/Users/beckermr/mambaforge/envs/rubin-sims/lib/python3.10/site-packages/cartopy/mpl/geoaxes.py:403: UserWarning: The `map_projection` keyword argument is deprecated, use `projection` to instantiate a GeoAxes instead.\n",
      "  warnings.warn(\"The `map_projection` keyword argument is \"\n"
     ]
    },
    {
     "name": "stdout",
     "output_type": "stream",
     "text": [
      "[Parallel(n_jobs=8)]: Done 141 tasks      | elapsed:  8.9min\n"
     ]
    },
    {
     "name": "stderr",
     "output_type": "stream",
     "text": [
      "/Users/beckermr/mambaforge/envs/rubin-sims/lib/python3.10/site-packages/cartopy/mpl/geoaxes.py:403: UserWarning: The `map_projection` keyword argument is deprecated, use `projection` to instantiate a GeoAxes instead.\n",
      "  warnings.warn(\"The `map_projection` keyword argument is \"\n",
      "/Users/beckermr/mambaforge/envs/rubin-sims/lib/python3.10/site-packages/cartopy/mpl/geoaxes.py:403: UserWarning: The `map_projection` keyword argument is deprecated, use `projection` to instantiate a GeoAxes instead.\n",
      "  warnings.warn(\"The `map_projection` keyword argument is \"\n"
     ]
    },
    {
     "name": "stdout",
     "output_type": "stream",
     "text": [
      "[Parallel(n_jobs=8)]: Done 142 tasks      | elapsed:  8.9min\n",
      "[Parallel(n_jobs=8)]: Done 143 tasks      | elapsed:  8.9min\n"
     ]
    },
    {
     "name": "stderr",
     "output_type": "stream",
     "text": [
      "/Users/beckermr/mambaforge/envs/rubin-sims/lib/python3.10/site-packages/cartopy/mpl/geoaxes.py:403: UserWarning: The `map_projection` keyword argument is deprecated, use `projection` to instantiate a GeoAxes instead.\n",
      "  warnings.warn(\"The `map_projection` keyword argument is \"\n",
      "/Users/beckermr/mambaforge/envs/rubin-sims/lib/python3.10/site-packages/cartopy/mpl/geoaxes.py:403: UserWarning: The `map_projection` keyword argument is deprecated, use `projection` to instantiate a GeoAxes instead.\n",
      "  warnings.warn(\"The `map_projection` keyword argument is \"\n",
      "/Users/beckermr/mambaforge/envs/rubin-sims/lib/python3.10/site-packages/cartopy/mpl/geoaxes.py:403: UserWarning: The `map_projection` keyword argument is deprecated, use `projection` to instantiate a GeoAxes instead.\n",
      "  warnings.warn(\"The `map_projection` keyword argument is \"\n",
      "/Users/beckermr/mambaforge/envs/rubin-sims/lib/python3.10/site-packages/cartopy/mpl/geoaxes.py:403: UserWarning: The `map_projection` keyword argument is deprecated, use `projection` to instantiate a GeoAxes instead.\n",
      "  warnings.warn(\"The `map_projection` keyword argument is \"\n"
     ]
    },
    {
     "name": "stdout",
     "output_type": "stream",
     "text": [
      "[Parallel(n_jobs=8)]: Done 144 tasks      | elapsed:  8.9min\n"
     ]
    },
    {
     "name": "stderr",
     "output_type": "stream",
     "text": [
      "/Users/beckermr/mambaforge/envs/rubin-sims/lib/python3.10/site-packages/cartopy/mpl/geoaxes.py:403: UserWarning: The `map_projection` keyword argument is deprecated, use `projection` to instantiate a GeoAxes instead.\n",
      "  warnings.warn(\"The `map_projection` keyword argument is \"\n",
      "/Users/beckermr/mambaforge/envs/rubin-sims/lib/python3.10/site-packages/cartopy/mpl/geoaxes.py:403: UserWarning: The `map_projection` keyword argument is deprecated, use `projection` to instantiate a GeoAxes instead.\n",
      "  warnings.warn(\"The `map_projection` keyword argument is \"\n"
     ]
    },
    {
     "name": "stdout",
     "output_type": "stream",
     "text": [
      "[Parallel(n_jobs=8)]: Done 145 tasks      | elapsed:  9.2min\n"
     ]
    },
    {
     "name": "stderr",
     "output_type": "stream",
     "text": [
      "/Users/beckermr/mambaforge/envs/rubin-sims/lib/python3.10/site-packages/cartopy/mpl/geoaxes.py:403: UserWarning: The `map_projection` keyword argument is deprecated, use `projection` to instantiate a GeoAxes instead.\n",
      "  warnings.warn(\"The `map_projection` keyword argument is \"\n",
      "/Users/beckermr/mambaforge/envs/rubin-sims/lib/python3.10/site-packages/cartopy/mpl/geoaxes.py:403: UserWarning: The `map_projection` keyword argument is deprecated, use `projection` to instantiate a GeoAxes instead.\n",
      "  warnings.warn(\"The `map_projection` keyword argument is \"\n"
     ]
    },
    {
     "name": "stdout",
     "output_type": "stream",
     "text": [
      "[Parallel(n_jobs=8)]: Done 146 tasks      | elapsed:  9.3min\n"
     ]
    },
    {
     "name": "stderr",
     "output_type": "stream",
     "text": [
      "/Users/beckermr/mambaforge/envs/rubin-sims/lib/python3.10/site-packages/cartopy/mpl/geoaxes.py:403: UserWarning: The `map_projection` keyword argument is deprecated, use `projection` to instantiate a GeoAxes instead.\n",
      "  warnings.warn(\"The `map_projection` keyword argument is \"\n",
      "/Users/beckermr/mambaforge/envs/rubin-sims/lib/python3.10/site-packages/cartopy/mpl/geoaxes.py:403: UserWarning: The `map_projection` keyword argument is deprecated, use `projection` to instantiate a GeoAxes instead.\n",
      "  warnings.warn(\"The `map_projection` keyword argument is \"\n"
     ]
    },
    {
     "name": "stdout",
     "output_type": "stream",
     "text": [
      "[Parallel(n_jobs=8)]: Done 147 tasks      | elapsed:  9.3min\n"
     ]
    },
    {
     "name": "stderr",
     "output_type": "stream",
     "text": [
      "/Users/beckermr/mambaforge/envs/rubin-sims/lib/python3.10/site-packages/cartopy/mpl/geoaxes.py:403: UserWarning: The `map_projection` keyword argument is deprecated, use `projection` to instantiate a GeoAxes instead.\n",
      "  warnings.warn(\"The `map_projection` keyword argument is \"\n",
      "/Users/beckermr/mambaforge/envs/rubin-sims/lib/python3.10/site-packages/cartopy/mpl/geoaxes.py:403: UserWarning: The `map_projection` keyword argument is deprecated, use `projection` to instantiate a GeoAxes instead.\n",
      "  warnings.warn(\"The `map_projection` keyword argument is \"\n"
     ]
    },
    {
     "name": "stdout",
     "output_type": "stream",
     "text": [
      "[Parallel(n_jobs=8)]: Done 148 tasks      | elapsed:  9.3min\n"
     ]
    },
    {
     "name": "stderr",
     "output_type": "stream",
     "text": [
      "/Users/beckermr/mambaforge/envs/rubin-sims/lib/python3.10/site-packages/cartopy/mpl/geoaxes.py:403: UserWarning: The `map_projection` keyword argument is deprecated, use `projection` to instantiate a GeoAxes instead.\n",
      "  warnings.warn(\"The `map_projection` keyword argument is \"\n",
      "/Users/beckermr/mambaforge/envs/rubin-sims/lib/python3.10/site-packages/cartopy/mpl/geoaxes.py:403: UserWarning: The `map_projection` keyword argument is deprecated, use `projection` to instantiate a GeoAxes instead.\n",
      "  warnings.warn(\"The `map_projection` keyword argument is \"\n"
     ]
    },
    {
     "name": "stdout",
     "output_type": "stream",
     "text": [
      "[Parallel(n_jobs=8)]: Done 149 tasks      | elapsed:  9.3min\n"
     ]
    },
    {
     "name": "stderr",
     "output_type": "stream",
     "text": [
      "/Users/beckermr/mambaforge/envs/rubin-sims/lib/python3.10/site-packages/cartopy/mpl/geoaxes.py:403: UserWarning: The `map_projection` keyword argument is deprecated, use `projection` to instantiate a GeoAxes instead.\n",
      "  warnings.warn(\"The `map_projection` keyword argument is \"\n",
      "/Users/beckermr/mambaforge/envs/rubin-sims/lib/python3.10/site-packages/cartopy/mpl/geoaxes.py:403: UserWarning: The `map_projection` keyword argument is deprecated, use `projection` to instantiate a GeoAxes instead.\n",
      "  warnings.warn(\"The `map_projection` keyword argument is \"\n"
     ]
    },
    {
     "name": "stdout",
     "output_type": "stream",
     "text": [
      "[Parallel(n_jobs=8)]: Done 150 tasks      | elapsed:  9.4min\n"
     ]
    },
    {
     "name": "stderr",
     "output_type": "stream",
     "text": [
      "/Users/beckermr/mambaforge/envs/rubin-sims/lib/python3.10/site-packages/cartopy/mpl/geoaxes.py:403: UserWarning: The `map_projection` keyword argument is deprecated, use `projection` to instantiate a GeoAxes instead.\n",
      "  warnings.warn(\"The `map_projection` keyword argument is \"\n",
      "/Users/beckermr/mambaforge/envs/rubin-sims/lib/python3.10/site-packages/cartopy/mpl/geoaxes.py:403: UserWarning: The `map_projection` keyword argument is deprecated, use `projection` to instantiate a GeoAxes instead.\n",
      "  warnings.warn(\"The `map_projection` keyword argument is \"\n"
     ]
    },
    {
     "name": "stdout",
     "output_type": "stream",
     "text": [
      "[Parallel(n_jobs=8)]: Done 151 tasks      | elapsed:  9.4min\n",
      "[Parallel(n_jobs=8)]: Done 152 tasks      | elapsed:  9.4min\n"
     ]
    },
    {
     "name": "stderr",
     "output_type": "stream",
     "text": [
      "/Users/beckermr/mambaforge/envs/rubin-sims/lib/python3.10/site-packages/cartopy/mpl/geoaxes.py:403: UserWarning: The `map_projection` keyword argument is deprecated, use `projection` to instantiate a GeoAxes instead.\n",
      "  warnings.warn(\"The `map_projection` keyword argument is \"\n",
      "/Users/beckermr/mambaforge/envs/rubin-sims/lib/python3.10/site-packages/cartopy/mpl/geoaxes.py:403: UserWarning: The `map_projection` keyword argument is deprecated, use `projection` to instantiate a GeoAxes instead.\n",
      "  warnings.warn(\"The `map_projection` keyword argument is \"\n",
      "/Users/beckermr/mambaforge/envs/rubin-sims/lib/python3.10/site-packages/cartopy/mpl/geoaxes.py:403: UserWarning: The `map_projection` keyword argument is deprecated, use `projection` to instantiate a GeoAxes instead.\n",
      "  warnings.warn(\"The `map_projection` keyword argument is \"\n",
      "/Users/beckermr/mambaforge/envs/rubin-sims/lib/python3.10/site-packages/cartopy/mpl/geoaxes.py:403: UserWarning: The `map_projection` keyword argument is deprecated, use `projection` to instantiate a GeoAxes instead.\n",
      "  warnings.warn(\"The `map_projection` keyword argument is \"\n"
     ]
    },
    {
     "name": "stdout",
     "output_type": "stream",
     "text": [
      "[Parallel(n_jobs=8)]: Done 153 tasks      | elapsed:  9.7min\n"
     ]
    },
    {
     "name": "stderr",
     "output_type": "stream",
     "text": [
      "/Users/beckermr/mambaforge/envs/rubin-sims/lib/python3.10/site-packages/cartopy/mpl/geoaxes.py:403: UserWarning: The `map_projection` keyword argument is deprecated, use `projection` to instantiate a GeoAxes instead.\n",
      "  warnings.warn(\"The `map_projection` keyword argument is \"\n",
      "/Users/beckermr/mambaforge/envs/rubin-sims/lib/python3.10/site-packages/cartopy/mpl/geoaxes.py:403: UserWarning: The `map_projection` keyword argument is deprecated, use `projection` to instantiate a GeoAxes instead.\n",
      "  warnings.warn(\"The `map_projection` keyword argument is \"\n"
     ]
    },
    {
     "name": "stdout",
     "output_type": "stream",
     "text": [
      "[Parallel(n_jobs=8)]: Done 154 tasks      | elapsed:  9.8min\n"
     ]
    },
    {
     "name": "stderr",
     "output_type": "stream",
     "text": [
      "/Users/beckermr/mambaforge/envs/rubin-sims/lib/python3.10/site-packages/cartopy/mpl/geoaxes.py:403: UserWarning: The `map_projection` keyword argument is deprecated, use `projection` to instantiate a GeoAxes instead.\n",
      "  warnings.warn(\"The `map_projection` keyword argument is \"\n",
      "/Users/beckermr/mambaforge/envs/rubin-sims/lib/python3.10/site-packages/cartopy/mpl/geoaxes.py:403: UserWarning: The `map_projection` keyword argument is deprecated, use `projection` to instantiate a GeoAxes instead.\n",
      "  warnings.warn(\"The `map_projection` keyword argument is \"\n"
     ]
    },
    {
     "name": "stdout",
     "output_type": "stream",
     "text": [
      "[Parallel(n_jobs=8)]: Done 155 tasks      | elapsed:  9.8min\n",
      "[Parallel(n_jobs=8)]: Done 156 tasks      | elapsed:  9.8min\n",
      "[Parallel(n_jobs=8)]: Done 157 tasks      | elapsed:  9.8min\n"
     ]
    },
    {
     "name": "stderr",
     "output_type": "stream",
     "text": [
      "/Users/beckermr/mambaforge/envs/rubin-sims/lib/python3.10/site-packages/cartopy/mpl/geoaxes.py:403: UserWarning: The `map_projection` keyword argument is deprecated, use `projection` to instantiate a GeoAxes instead.\n",
      "  warnings.warn(\"The `map_projection` keyword argument is \"\n",
      "/Users/beckermr/mambaforge/envs/rubin-sims/lib/python3.10/site-packages/cartopy/mpl/geoaxes.py:403: UserWarning: The `map_projection` keyword argument is deprecated, use `projection` to instantiate a GeoAxes instead.\n",
      "  warnings.warn(\"The `map_projection` keyword argument is \"\n",
      "/Users/beckermr/mambaforge/envs/rubin-sims/lib/python3.10/site-packages/cartopy/mpl/geoaxes.py:403: UserWarning: The `map_projection` keyword argument is deprecated, use `projection` to instantiate a GeoAxes instead.\n",
      "  warnings.warn(\"The `map_projection` keyword argument is \"\n",
      "/Users/beckermr/mambaforge/envs/rubin-sims/lib/python3.10/site-packages/cartopy/mpl/geoaxes.py:403: UserWarning: The `map_projection` keyword argument is deprecated, use `projection` to instantiate a GeoAxes instead.\n",
      "  warnings.warn(\"The `map_projection` keyword argument is \"\n"
     ]
    },
    {
     "name": "stdout",
     "output_type": "stream",
     "text": [
      "[Parallel(n_jobs=8)]: Done 158 tasks      | elapsed:  9.8min\n"
     ]
    },
    {
     "name": "stderr",
     "output_type": "stream",
     "text": [
      "/Users/beckermr/mambaforge/envs/rubin-sims/lib/python3.10/site-packages/cartopy/mpl/geoaxes.py:403: UserWarning: The `map_projection` keyword argument is deprecated, use `projection` to instantiate a GeoAxes instead.\n",
      "  warnings.warn(\"The `map_projection` keyword argument is \"\n",
      "/Users/beckermr/mambaforge/envs/rubin-sims/lib/python3.10/site-packages/cartopy/mpl/geoaxes.py:403: UserWarning: The `map_projection` keyword argument is deprecated, use `projection` to instantiate a GeoAxes instead.\n",
      "  warnings.warn(\"The `map_projection` keyword argument is \"\n"
     ]
    },
    {
     "name": "stdout",
     "output_type": "stream",
     "text": [
      "[Parallel(n_jobs=8)]: Done 159 tasks      | elapsed:  9.9min\n",
      "[Parallel(n_jobs=8)]: Done 160 tasks      | elapsed:  9.9min\n"
     ]
    },
    {
     "name": "stderr",
     "output_type": "stream",
     "text": [
      "/Users/beckermr/mambaforge/envs/rubin-sims/lib/python3.10/site-packages/cartopy/mpl/geoaxes.py:403: UserWarning: The `map_projection` keyword argument is deprecated, use `projection` to instantiate a GeoAxes instead.\n",
      "  warnings.warn(\"The `map_projection` keyword argument is \"\n",
      "/Users/beckermr/mambaforge/envs/rubin-sims/lib/python3.10/site-packages/cartopy/mpl/geoaxes.py:403: UserWarning: The `map_projection` keyword argument is deprecated, use `projection` to instantiate a GeoAxes instead.\n",
      "  warnings.warn(\"The `map_projection` keyword argument is \"\n",
      "/Users/beckermr/mambaforge/envs/rubin-sims/lib/python3.10/site-packages/cartopy/mpl/geoaxes.py:403: UserWarning: The `map_projection` keyword argument is deprecated, use `projection` to instantiate a GeoAxes instead.\n",
      "  warnings.warn(\"The `map_projection` keyword argument is \"\n",
      "/Users/beckermr/mambaforge/envs/rubin-sims/lib/python3.10/site-packages/cartopy/mpl/geoaxes.py:403: UserWarning: The `map_projection` keyword argument is deprecated, use `projection` to instantiate a GeoAxes instead.\n",
      "  warnings.warn(\"The `map_projection` keyword argument is \"\n",
      "/Users/beckermr/mambaforge/envs/rubin-sims/lib/python3.10/site-packages/cartopy/mpl/geoaxes.py:403: UserWarning: The `map_projection` keyword argument is deprecated, use `projection` to instantiate a GeoAxes instead.\n",
      "  warnings.warn(\"The `map_projection` keyword argument is \"\n",
      "/Users/beckermr/mambaforge/envs/rubin-sims/lib/python3.10/site-packages/cartopy/mpl/geoaxes.py:403: UserWarning: The `map_projection` keyword argument is deprecated, use `projection` to instantiate a GeoAxes instead.\n",
      "  warnings.warn(\"The `map_projection` keyword argument is \"\n"
     ]
    },
    {
     "name": "stdout",
     "output_type": "stream",
     "text": [
      "[Parallel(n_jobs=8)]: Done 161 tasks      | elapsed: 10.2min\n"
     ]
    },
    {
     "name": "stderr",
     "output_type": "stream",
     "text": [
      "/Users/beckermr/mambaforge/envs/rubin-sims/lib/python3.10/site-packages/cartopy/mpl/geoaxes.py:403: UserWarning: The `map_projection` keyword argument is deprecated, use `projection` to instantiate a GeoAxes instead.\n",
      "  warnings.warn(\"The `map_projection` keyword argument is \"\n",
      "/Users/beckermr/mambaforge/envs/rubin-sims/lib/python3.10/site-packages/cartopy/mpl/geoaxes.py:403: UserWarning: The `map_projection` keyword argument is deprecated, use `projection` to instantiate a GeoAxes instead.\n",
      "  warnings.warn(\"The `map_projection` keyword argument is \"\n"
     ]
    },
    {
     "name": "stdout",
     "output_type": "stream",
     "text": [
      "[Parallel(n_jobs=8)]: Done 162 tasks      | elapsed: 10.2min\n"
     ]
    },
    {
     "name": "stderr",
     "output_type": "stream",
     "text": [
      "/Users/beckermr/mambaforge/envs/rubin-sims/lib/python3.10/site-packages/cartopy/mpl/geoaxes.py:403: UserWarning: The `map_projection` keyword argument is deprecated, use `projection` to instantiate a GeoAxes instead.\n",
      "  warnings.warn(\"The `map_projection` keyword argument is \"\n",
      "/Users/beckermr/mambaforge/envs/rubin-sims/lib/python3.10/site-packages/cartopy/mpl/geoaxes.py:403: UserWarning: The `map_projection` keyword argument is deprecated, use `projection` to instantiate a GeoAxes instead.\n",
      "  warnings.warn(\"The `map_projection` keyword argument is \"\n"
     ]
    },
    {
     "name": "stdout",
     "output_type": "stream",
     "text": [
      "[Parallel(n_jobs=8)]: Done 163 tasks      | elapsed: 10.3min\n"
     ]
    },
    {
     "name": "stderr",
     "output_type": "stream",
     "text": [
      "/Users/beckermr/mambaforge/envs/rubin-sims/lib/python3.10/site-packages/cartopy/mpl/geoaxes.py:403: UserWarning: The `map_projection` keyword argument is deprecated, use `projection` to instantiate a GeoAxes instead.\n",
      "  warnings.warn(\"The `map_projection` keyword argument is \"\n",
      "/Users/beckermr/mambaforge/envs/rubin-sims/lib/python3.10/site-packages/cartopy/mpl/geoaxes.py:403: UserWarning: The `map_projection` keyword argument is deprecated, use `projection` to instantiate a GeoAxes instead.\n",
      "  warnings.warn(\"The `map_projection` keyword argument is \"\n"
     ]
    },
    {
     "name": "stdout",
     "output_type": "stream",
     "text": [
      "[Parallel(n_jobs=8)]: Done 164 tasks      | elapsed: 10.3min\n"
     ]
    },
    {
     "name": "stderr",
     "output_type": "stream",
     "text": [
      "/Users/beckermr/mambaforge/envs/rubin-sims/lib/python3.10/site-packages/cartopy/mpl/geoaxes.py:403: UserWarning: The `map_projection` keyword argument is deprecated, use `projection` to instantiate a GeoAxes instead.\n",
      "  warnings.warn(\"The `map_projection` keyword argument is \"\n",
      "/Users/beckermr/mambaforge/envs/rubin-sims/lib/python3.10/site-packages/cartopy/mpl/geoaxes.py:403: UserWarning: The `map_projection` keyword argument is deprecated, use `projection` to instantiate a GeoAxes instead.\n",
      "  warnings.warn(\"The `map_projection` keyword argument is \"\n"
     ]
    },
    {
     "name": "stdout",
     "output_type": "stream",
     "text": [
      "[Parallel(n_jobs=8)]: Done 165 tasks      | elapsed: 10.3min\n"
     ]
    },
    {
     "name": "stderr",
     "output_type": "stream",
     "text": [
      "/Users/beckermr/mambaforge/envs/rubin-sims/lib/python3.10/site-packages/cartopy/mpl/geoaxes.py:403: UserWarning: The `map_projection` keyword argument is deprecated, use `projection` to instantiate a GeoAxes instead.\n",
      "  warnings.warn(\"The `map_projection` keyword argument is \"\n",
      "/Users/beckermr/mambaforge/envs/rubin-sims/lib/python3.10/site-packages/cartopy/mpl/geoaxes.py:403: UserWarning: The `map_projection` keyword argument is deprecated, use `projection` to instantiate a GeoAxes instead.\n",
      "  warnings.warn(\"The `map_projection` keyword argument is \"\n"
     ]
    },
    {
     "name": "stdout",
     "output_type": "stream",
     "text": [
      "[Parallel(n_jobs=8)]: Done 166 tasks      | elapsed: 10.4min\n"
     ]
    },
    {
     "name": "stderr",
     "output_type": "stream",
     "text": [
      "/Users/beckermr/mambaforge/envs/rubin-sims/lib/python3.10/site-packages/cartopy/mpl/geoaxes.py:403: UserWarning: The `map_projection` keyword argument is deprecated, use `projection` to instantiate a GeoAxes instead.\n",
      "  warnings.warn(\"The `map_projection` keyword argument is \"\n",
      "/Users/beckermr/mambaforge/envs/rubin-sims/lib/python3.10/site-packages/cartopy/mpl/geoaxes.py:403: UserWarning: The `map_projection` keyword argument is deprecated, use `projection` to instantiate a GeoAxes instead.\n",
      "  warnings.warn(\"The `map_projection` keyword argument is \"\n"
     ]
    },
    {
     "name": "stdout",
     "output_type": "stream",
     "text": [
      "[Parallel(n_jobs=8)]: Done 167 tasks      | elapsed: 10.4min\n"
     ]
    },
    {
     "name": "stderr",
     "output_type": "stream",
     "text": [
      "/Users/beckermr/mambaforge/envs/rubin-sims/lib/python3.10/site-packages/cartopy/mpl/geoaxes.py:403: UserWarning: The `map_projection` keyword argument is deprecated, use `projection` to instantiate a GeoAxes instead.\n",
      "  warnings.warn(\"The `map_projection` keyword argument is \"\n",
      "/Users/beckermr/mambaforge/envs/rubin-sims/lib/python3.10/site-packages/cartopy/mpl/geoaxes.py:403: UserWarning: The `map_projection` keyword argument is deprecated, use `projection` to instantiate a GeoAxes instead.\n",
      "  warnings.warn(\"The `map_projection` keyword argument is \"\n"
     ]
    },
    {
     "name": "stdout",
     "output_type": "stream",
     "text": [
      "[Parallel(n_jobs=8)]: Done 168 tasks      | elapsed: 10.4min\n"
     ]
    },
    {
     "name": "stderr",
     "output_type": "stream",
     "text": [
      "/Users/beckermr/mambaforge/envs/rubin-sims/lib/python3.10/site-packages/cartopy/mpl/geoaxes.py:403: UserWarning: The `map_projection` keyword argument is deprecated, use `projection` to instantiate a GeoAxes instead.\n",
      "  warnings.warn(\"The `map_projection` keyword argument is \"\n",
      "/Users/beckermr/mambaforge/envs/rubin-sims/lib/python3.10/site-packages/cartopy/mpl/geoaxes.py:403: UserWarning: The `map_projection` keyword argument is deprecated, use `projection` to instantiate a GeoAxes instead.\n",
      "  warnings.warn(\"The `map_projection` keyword argument is \"\n"
     ]
    },
    {
     "name": "stdout",
     "output_type": "stream",
     "text": [
      "[Parallel(n_jobs=8)]: Done 169 tasks      | elapsed: 10.7min\n"
     ]
    },
    {
     "name": "stderr",
     "output_type": "stream",
     "text": [
      "/Users/beckermr/mambaforge/envs/rubin-sims/lib/python3.10/site-packages/cartopy/mpl/geoaxes.py:403: UserWarning: The `map_projection` keyword argument is deprecated, use `projection` to instantiate a GeoAxes instead.\n",
      "  warnings.warn(\"The `map_projection` keyword argument is \"\n",
      "/Users/beckermr/mambaforge/envs/rubin-sims/lib/python3.10/site-packages/cartopy/mpl/geoaxes.py:403: UserWarning: The `map_projection` keyword argument is deprecated, use `projection` to instantiate a GeoAxes instead.\n",
      "  warnings.warn(\"The `map_projection` keyword argument is \"\n"
     ]
    },
    {
     "name": "stdout",
     "output_type": "stream",
     "text": [
      "[Parallel(n_jobs=8)]: Done 170 tasks      | elapsed: 10.7min\n"
     ]
    },
    {
     "name": "stderr",
     "output_type": "stream",
     "text": [
      "/Users/beckermr/mambaforge/envs/rubin-sims/lib/python3.10/site-packages/cartopy/mpl/geoaxes.py:403: UserWarning: The `map_projection` keyword argument is deprecated, use `projection` to instantiate a GeoAxes instead.\n",
      "  warnings.warn(\"The `map_projection` keyword argument is \"\n",
      "/Users/beckermr/mambaforge/envs/rubin-sims/lib/python3.10/site-packages/cartopy/mpl/geoaxes.py:403: UserWarning: The `map_projection` keyword argument is deprecated, use `projection` to instantiate a GeoAxes instead.\n",
      "  warnings.warn(\"The `map_projection` keyword argument is \"\n"
     ]
    },
    {
     "name": "stdout",
     "output_type": "stream",
     "text": [
      "[Parallel(n_jobs=8)]: Done 171 tasks      | elapsed: 10.7min\n"
     ]
    },
    {
     "name": "stderr",
     "output_type": "stream",
     "text": [
      "/Users/beckermr/mambaforge/envs/rubin-sims/lib/python3.10/site-packages/cartopy/mpl/geoaxes.py:403: UserWarning: The `map_projection` keyword argument is deprecated, use `projection` to instantiate a GeoAxes instead.\n",
      "  warnings.warn(\"The `map_projection` keyword argument is \"\n",
      "/Users/beckermr/mambaforge/envs/rubin-sims/lib/python3.10/site-packages/cartopy/mpl/geoaxes.py:403: UserWarning: The `map_projection` keyword argument is deprecated, use `projection` to instantiate a GeoAxes instead.\n",
      "  warnings.warn(\"The `map_projection` keyword argument is \"\n"
     ]
    },
    {
     "name": "stdout",
     "output_type": "stream",
     "text": [
      "[Parallel(n_jobs=8)]: Done 172 tasks      | elapsed: 10.8min\n"
     ]
    },
    {
     "name": "stderr",
     "output_type": "stream",
     "text": [
      "/Users/beckermr/mambaforge/envs/rubin-sims/lib/python3.10/site-packages/cartopy/mpl/geoaxes.py:403: UserWarning: The `map_projection` keyword argument is deprecated, use `projection` to instantiate a GeoAxes instead.\n",
      "  warnings.warn(\"The `map_projection` keyword argument is \"\n",
      "/Users/beckermr/mambaforge/envs/rubin-sims/lib/python3.10/site-packages/cartopy/mpl/geoaxes.py:403: UserWarning: The `map_projection` keyword argument is deprecated, use `projection` to instantiate a GeoAxes instead.\n",
      "  warnings.warn(\"The `map_projection` keyword argument is \"\n"
     ]
    },
    {
     "name": "stdout",
     "output_type": "stream",
     "text": [
      "[Parallel(n_jobs=8)]: Done 173 tasks      | elapsed: 10.8min\n"
     ]
    },
    {
     "name": "stderr",
     "output_type": "stream",
     "text": [
      "/Users/beckermr/mambaforge/envs/rubin-sims/lib/python3.10/site-packages/cartopy/mpl/geoaxes.py:403: UserWarning: The `map_projection` keyword argument is deprecated, use `projection` to instantiate a GeoAxes instead.\n",
      "  warnings.warn(\"The `map_projection` keyword argument is \"\n",
      "/Users/beckermr/mambaforge/envs/rubin-sims/lib/python3.10/site-packages/cartopy/mpl/geoaxes.py:403: UserWarning: The `map_projection` keyword argument is deprecated, use `projection` to instantiate a GeoAxes instead.\n",
      "  warnings.warn(\"The `map_projection` keyword argument is \"\n"
     ]
    },
    {
     "name": "stdout",
     "output_type": "stream",
     "text": [
      "[Parallel(n_jobs=8)]: Done 174 tasks      | elapsed: 10.8min\n"
     ]
    },
    {
     "name": "stderr",
     "output_type": "stream",
     "text": [
      "/Users/beckermr/mambaforge/envs/rubin-sims/lib/python3.10/site-packages/cartopy/mpl/geoaxes.py:403: UserWarning: The `map_projection` keyword argument is deprecated, use `projection` to instantiate a GeoAxes instead.\n",
      "  warnings.warn(\"The `map_projection` keyword argument is \"\n",
      "/Users/beckermr/mambaforge/envs/rubin-sims/lib/python3.10/site-packages/cartopy/mpl/geoaxes.py:403: UserWarning: The `map_projection` keyword argument is deprecated, use `projection` to instantiate a GeoAxes instead.\n",
      "  warnings.warn(\"The `map_projection` keyword argument is \"\n"
     ]
    },
    {
     "name": "stdout",
     "output_type": "stream",
     "text": [
      "[Parallel(n_jobs=8)]: Done 175 tasks      | elapsed: 10.8min\n"
     ]
    },
    {
     "name": "stderr",
     "output_type": "stream",
     "text": [
      "/Users/beckermr/mambaforge/envs/rubin-sims/lib/python3.10/site-packages/cartopy/mpl/geoaxes.py:403: UserWarning: The `map_projection` keyword argument is deprecated, use `projection` to instantiate a GeoAxes instead.\n",
      "  warnings.warn(\"The `map_projection` keyword argument is \"\n",
      "/Users/beckermr/mambaforge/envs/rubin-sims/lib/python3.10/site-packages/cartopy/mpl/geoaxes.py:403: UserWarning: The `map_projection` keyword argument is deprecated, use `projection` to instantiate a GeoAxes instead.\n",
      "  warnings.warn(\"The `map_projection` keyword argument is \"\n"
     ]
    },
    {
     "name": "stdout",
     "output_type": "stream",
     "text": [
      "[Parallel(n_jobs=8)]: Done 176 tasks      | elapsed: 10.8min\n"
     ]
    },
    {
     "name": "stderr",
     "output_type": "stream",
     "text": [
      "/Users/beckermr/mambaforge/envs/rubin-sims/lib/python3.10/site-packages/cartopy/mpl/geoaxes.py:403: UserWarning: The `map_projection` keyword argument is deprecated, use `projection` to instantiate a GeoAxes instead.\n",
      "  warnings.warn(\"The `map_projection` keyword argument is \"\n",
      "/Users/beckermr/mambaforge/envs/rubin-sims/lib/python3.10/site-packages/cartopy/mpl/geoaxes.py:403: UserWarning: The `map_projection` keyword argument is deprecated, use `projection` to instantiate a GeoAxes instead.\n",
      "  warnings.warn(\"The `map_projection` keyword argument is \"\n"
     ]
    },
    {
     "name": "stdout",
     "output_type": "stream",
     "text": [
      "[Parallel(n_jobs=8)]: Done 177 tasks      | elapsed: 11.1min\n"
     ]
    },
    {
     "name": "stderr",
     "output_type": "stream",
     "text": [
      "/Users/beckermr/mambaforge/envs/rubin-sims/lib/python3.10/site-packages/cartopy/mpl/geoaxes.py:403: UserWarning: The `map_projection` keyword argument is deprecated, use `projection` to instantiate a GeoAxes instead.\n",
      "  warnings.warn(\"The `map_projection` keyword argument is \"\n",
      "/Users/beckermr/mambaforge/envs/rubin-sims/lib/python3.10/site-packages/cartopy/mpl/geoaxes.py:403: UserWarning: The `map_projection` keyword argument is deprecated, use `projection` to instantiate a GeoAxes instead.\n",
      "  warnings.warn(\"The `map_projection` keyword argument is \"\n"
     ]
    },
    {
     "name": "stdout",
     "output_type": "stream",
     "text": [
      "[Parallel(n_jobs=8)]: Done 178 tasks      | elapsed: 11.1min\n"
     ]
    },
    {
     "name": "stderr",
     "output_type": "stream",
     "text": [
      "/Users/beckermr/mambaforge/envs/rubin-sims/lib/python3.10/site-packages/cartopy/mpl/geoaxes.py:403: UserWarning: The `map_projection` keyword argument is deprecated, use `projection` to instantiate a GeoAxes instead.\n",
      "  warnings.warn(\"The `map_projection` keyword argument is \"\n",
      "/Users/beckermr/mambaforge/envs/rubin-sims/lib/python3.10/site-packages/cartopy/mpl/geoaxes.py:403: UserWarning: The `map_projection` keyword argument is deprecated, use `projection` to instantiate a GeoAxes instead.\n",
      "  warnings.warn(\"The `map_projection` keyword argument is \"\n"
     ]
    },
    {
     "name": "stdout",
     "output_type": "stream",
     "text": [
      "[Parallel(n_jobs=8)]: Done 179 tasks      | elapsed: 11.2min\n"
     ]
    },
    {
     "name": "stderr",
     "output_type": "stream",
     "text": [
      "/Users/beckermr/mambaforge/envs/rubin-sims/lib/python3.10/site-packages/cartopy/mpl/geoaxes.py:403: UserWarning: The `map_projection` keyword argument is deprecated, use `projection` to instantiate a GeoAxes instead.\n",
      "  warnings.warn(\"The `map_projection` keyword argument is \"\n",
      "/Users/beckermr/mambaforge/envs/rubin-sims/lib/python3.10/site-packages/cartopy/mpl/geoaxes.py:403: UserWarning: The `map_projection` keyword argument is deprecated, use `projection` to instantiate a GeoAxes instead.\n",
      "  warnings.warn(\"The `map_projection` keyword argument is \"\n"
     ]
    },
    {
     "name": "stdout",
     "output_type": "stream",
     "text": [
      "[Parallel(n_jobs=8)]: Done 180 tasks      | elapsed: 11.2min\n"
     ]
    },
    {
     "name": "stderr",
     "output_type": "stream",
     "text": [
      "/Users/beckermr/mambaforge/envs/rubin-sims/lib/python3.10/site-packages/cartopy/mpl/geoaxes.py:403: UserWarning: The `map_projection` keyword argument is deprecated, use `projection` to instantiate a GeoAxes instead.\n",
      "  warnings.warn(\"The `map_projection` keyword argument is \"\n",
      "/Users/beckermr/mambaforge/envs/rubin-sims/lib/python3.10/site-packages/cartopy/mpl/geoaxes.py:403: UserWarning: The `map_projection` keyword argument is deprecated, use `projection` to instantiate a GeoAxes instead.\n",
      "  warnings.warn(\"The `map_projection` keyword argument is \"\n"
     ]
    },
    {
     "name": "stdout",
     "output_type": "stream",
     "text": [
      "[Parallel(n_jobs=8)]: Done 181 tasks      | elapsed: 11.2min\n"
     ]
    },
    {
     "name": "stderr",
     "output_type": "stream",
     "text": [
      "/Users/beckermr/mambaforge/envs/rubin-sims/lib/python3.10/site-packages/cartopy/mpl/geoaxes.py:403: UserWarning: The `map_projection` keyword argument is deprecated, use `projection` to instantiate a GeoAxes instead.\n",
      "  warnings.warn(\"The `map_projection` keyword argument is \"\n",
      "/Users/beckermr/mambaforge/envs/rubin-sims/lib/python3.10/site-packages/cartopy/mpl/geoaxes.py:403: UserWarning: The `map_projection` keyword argument is deprecated, use `projection` to instantiate a GeoAxes instead.\n",
      "  warnings.warn(\"The `map_projection` keyword argument is \"\n"
     ]
    },
    {
     "name": "stdout",
     "output_type": "stream",
     "text": [
      "[Parallel(n_jobs=8)]: Done 182 tasks      | elapsed: 11.2min\n"
     ]
    },
    {
     "name": "stderr",
     "output_type": "stream",
     "text": [
      "/Users/beckermr/mambaforge/envs/rubin-sims/lib/python3.10/site-packages/cartopy/mpl/geoaxes.py:403: UserWarning: The `map_projection` keyword argument is deprecated, use `projection` to instantiate a GeoAxes instead.\n",
      "  warnings.warn(\"The `map_projection` keyword argument is \"\n",
      "/Users/beckermr/mambaforge/envs/rubin-sims/lib/python3.10/site-packages/cartopy/mpl/geoaxes.py:403: UserWarning: The `map_projection` keyword argument is deprecated, use `projection` to instantiate a GeoAxes instead.\n",
      "  warnings.warn(\"The `map_projection` keyword argument is \"\n"
     ]
    },
    {
     "name": "stdout",
     "output_type": "stream",
     "text": [
      "[Parallel(n_jobs=8)]: Done 183 tasks      | elapsed: 11.3min\n"
     ]
    },
    {
     "name": "stderr",
     "output_type": "stream",
     "text": [
      "/Users/beckermr/mambaforge/envs/rubin-sims/lib/python3.10/site-packages/cartopy/mpl/geoaxes.py:403: UserWarning: The `map_projection` keyword argument is deprecated, use `projection` to instantiate a GeoAxes instead.\n",
      "  warnings.warn(\"The `map_projection` keyword argument is \"\n",
      "/Users/beckermr/mambaforge/envs/rubin-sims/lib/python3.10/site-packages/cartopy/mpl/geoaxes.py:403: UserWarning: The `map_projection` keyword argument is deprecated, use `projection` to instantiate a GeoAxes instead.\n",
      "  warnings.warn(\"The `map_projection` keyword argument is \"\n"
     ]
    },
    {
     "name": "stdout",
     "output_type": "stream",
     "text": [
      "[Parallel(n_jobs=8)]: Done 184 tasks      | elapsed: 11.3min\n"
     ]
    },
    {
     "name": "stderr",
     "output_type": "stream",
     "text": [
      "/Users/beckermr/mambaforge/envs/rubin-sims/lib/python3.10/site-packages/cartopy/mpl/geoaxes.py:403: UserWarning: The `map_projection` keyword argument is deprecated, use `projection` to instantiate a GeoAxes instead.\n",
      "  warnings.warn(\"The `map_projection` keyword argument is \"\n",
      "/Users/beckermr/mambaforge/envs/rubin-sims/lib/python3.10/site-packages/cartopy/mpl/geoaxes.py:403: UserWarning: The `map_projection` keyword argument is deprecated, use `projection` to instantiate a GeoAxes instead.\n",
      "  warnings.warn(\"The `map_projection` keyword argument is \"\n"
     ]
    },
    {
     "name": "stdout",
     "output_type": "stream",
     "text": [
      "[Parallel(n_jobs=8)]: Done 185 tasks      | elapsed: 11.6min\n"
     ]
    },
    {
     "name": "stderr",
     "output_type": "stream",
     "text": [
      "/Users/beckermr/mambaforge/envs/rubin-sims/lib/python3.10/site-packages/cartopy/mpl/geoaxes.py:403: UserWarning: The `map_projection` keyword argument is deprecated, use `projection` to instantiate a GeoAxes instead.\n",
      "  warnings.warn(\"The `map_projection` keyword argument is \"\n",
      "/Users/beckermr/mambaforge/envs/rubin-sims/lib/python3.10/site-packages/cartopy/mpl/geoaxes.py:403: UserWarning: The `map_projection` keyword argument is deprecated, use `projection` to instantiate a GeoAxes instead.\n",
      "  warnings.warn(\"The `map_projection` keyword argument is \"\n"
     ]
    },
    {
     "name": "stdout",
     "output_type": "stream",
     "text": [
      "[Parallel(n_jobs=8)]: Done 186 tasks      | elapsed: 11.6min\n"
     ]
    },
    {
     "name": "stderr",
     "output_type": "stream",
     "text": [
      "/Users/beckermr/mambaforge/envs/rubin-sims/lib/python3.10/site-packages/cartopy/mpl/geoaxes.py:403: UserWarning: The `map_projection` keyword argument is deprecated, use `projection` to instantiate a GeoAxes instead.\n",
      "  warnings.warn(\"The `map_projection` keyword argument is \"\n",
      "/Users/beckermr/mambaforge/envs/rubin-sims/lib/python3.10/site-packages/cartopy/mpl/geoaxes.py:403: UserWarning: The `map_projection` keyword argument is deprecated, use `projection` to instantiate a GeoAxes instead.\n",
      "  warnings.warn(\"The `map_projection` keyword argument is \"\n"
     ]
    },
    {
     "name": "stdout",
     "output_type": "stream",
     "text": [
      "[Parallel(n_jobs=8)]: Done 187 tasks      | elapsed: 11.6min\n"
     ]
    },
    {
     "name": "stderr",
     "output_type": "stream",
     "text": [
      "/Users/beckermr/mambaforge/envs/rubin-sims/lib/python3.10/site-packages/cartopy/mpl/geoaxes.py:403: UserWarning: The `map_projection` keyword argument is deprecated, use `projection` to instantiate a GeoAxes instead.\n",
      "  warnings.warn(\"The `map_projection` keyword argument is \"\n",
      "/Users/beckermr/mambaforge/envs/rubin-sims/lib/python3.10/site-packages/cartopy/mpl/geoaxes.py:403: UserWarning: The `map_projection` keyword argument is deprecated, use `projection` to instantiate a GeoAxes instead.\n",
      "  warnings.warn(\"The `map_projection` keyword argument is \"\n"
     ]
    },
    {
     "name": "stdout",
     "output_type": "stream",
     "text": [
      "[Parallel(n_jobs=8)]: Done 188 tasks      | elapsed: 11.6min\n"
     ]
    },
    {
     "name": "stderr",
     "output_type": "stream",
     "text": [
      "/Users/beckermr/mambaforge/envs/rubin-sims/lib/python3.10/site-packages/cartopy/mpl/geoaxes.py:403: UserWarning: The `map_projection` keyword argument is deprecated, use `projection` to instantiate a GeoAxes instead.\n",
      "  warnings.warn(\"The `map_projection` keyword argument is \"\n",
      "/Users/beckermr/mambaforge/envs/rubin-sims/lib/python3.10/site-packages/cartopy/mpl/geoaxes.py:403: UserWarning: The `map_projection` keyword argument is deprecated, use `projection` to instantiate a GeoAxes instead.\n",
      "  warnings.warn(\"The `map_projection` keyword argument is \"\n"
     ]
    },
    {
     "name": "stdout",
     "output_type": "stream",
     "text": [
      "[Parallel(n_jobs=8)]: Done 189 tasks      | elapsed: 11.7min\n"
     ]
    },
    {
     "name": "stderr",
     "output_type": "stream",
     "text": [
      "/Users/beckermr/mambaforge/envs/rubin-sims/lib/python3.10/site-packages/cartopy/mpl/geoaxes.py:403: UserWarning: The `map_projection` keyword argument is deprecated, use `projection` to instantiate a GeoAxes instead.\n",
      "  warnings.warn(\"The `map_projection` keyword argument is \"\n",
      "/Users/beckermr/mambaforge/envs/rubin-sims/lib/python3.10/site-packages/cartopy/mpl/geoaxes.py:403: UserWarning: The `map_projection` keyword argument is deprecated, use `projection` to instantiate a GeoAxes instead.\n",
      "  warnings.warn(\"The `map_projection` keyword argument is \"\n"
     ]
    },
    {
     "name": "stdout",
     "output_type": "stream",
     "text": [
      "[Parallel(n_jobs=8)]: Done 190 tasks      | elapsed: 11.7min\n"
     ]
    },
    {
     "name": "stderr",
     "output_type": "stream",
     "text": [
      "/Users/beckermr/mambaforge/envs/rubin-sims/lib/python3.10/site-packages/cartopy/mpl/geoaxes.py:403: UserWarning: The `map_projection` keyword argument is deprecated, use `projection` to instantiate a GeoAxes instead.\n",
      "  warnings.warn(\"The `map_projection` keyword argument is \"\n",
      "/Users/beckermr/mambaforge/envs/rubin-sims/lib/python3.10/site-packages/cartopy/mpl/geoaxes.py:403: UserWarning: The `map_projection` keyword argument is deprecated, use `projection` to instantiate a GeoAxes instead.\n",
      "  warnings.warn(\"The `map_projection` keyword argument is \"\n"
     ]
    },
    {
     "name": "stdout",
     "output_type": "stream",
     "text": [
      "[Parallel(n_jobs=8)]: Done 191 tasks      | elapsed: 11.7min\n"
     ]
    },
    {
     "name": "stderr",
     "output_type": "stream",
     "text": [
      "/Users/beckermr/mambaforge/envs/rubin-sims/lib/python3.10/site-packages/cartopy/mpl/geoaxes.py:403: UserWarning: The `map_projection` keyword argument is deprecated, use `projection` to instantiate a GeoAxes instead.\n",
      "  warnings.warn(\"The `map_projection` keyword argument is \"\n",
      "/Users/beckermr/mambaforge/envs/rubin-sims/lib/python3.10/site-packages/cartopy/mpl/geoaxes.py:403: UserWarning: The `map_projection` keyword argument is deprecated, use `projection` to instantiate a GeoAxes instead.\n",
      "  warnings.warn(\"The `map_projection` keyword argument is \"\n"
     ]
    },
    {
     "name": "stdout",
     "output_type": "stream",
     "text": [
      "[Parallel(n_jobs=8)]: Done 192 tasks      | elapsed: 11.7min\n"
     ]
    },
    {
     "name": "stderr",
     "output_type": "stream",
     "text": [
      "/Users/beckermr/mambaforge/envs/rubin-sims/lib/python3.10/site-packages/cartopy/mpl/geoaxes.py:403: UserWarning: The `map_projection` keyword argument is deprecated, use `projection` to instantiate a GeoAxes instead.\n",
      "  warnings.warn(\"The `map_projection` keyword argument is \"\n",
      "/Users/beckermr/mambaforge/envs/rubin-sims/lib/python3.10/site-packages/cartopy/mpl/geoaxes.py:403: UserWarning: The `map_projection` keyword argument is deprecated, use `projection` to instantiate a GeoAxes instead.\n",
      "  warnings.warn(\"The `map_projection` keyword argument is \"\n"
     ]
    },
    {
     "name": "stdout",
     "output_type": "stream",
     "text": [
      "[Parallel(n_jobs=8)]: Done 193 tasks      | elapsed: 12.0min\n"
     ]
    },
    {
     "name": "stderr",
     "output_type": "stream",
     "text": [
      "/Users/beckermr/mambaforge/envs/rubin-sims/lib/python3.10/site-packages/cartopy/mpl/geoaxes.py:403: UserWarning: The `map_projection` keyword argument is deprecated, use `projection` to instantiate a GeoAxes instead.\n",
      "  warnings.warn(\"The `map_projection` keyword argument is \"\n",
      "/Users/beckermr/mambaforge/envs/rubin-sims/lib/python3.10/site-packages/cartopy/mpl/geoaxes.py:403: UserWarning: The `map_projection` keyword argument is deprecated, use `projection` to instantiate a GeoAxes instead.\n",
      "  warnings.warn(\"The `map_projection` keyword argument is \"\n"
     ]
    },
    {
     "name": "stdout",
     "output_type": "stream",
     "text": [
      "[Parallel(n_jobs=8)]: Done 194 tasks      | elapsed: 12.0min\n"
     ]
    },
    {
     "name": "stderr",
     "output_type": "stream",
     "text": [
      "/Users/beckermr/mambaforge/envs/rubin-sims/lib/python3.10/site-packages/cartopy/mpl/geoaxes.py:403: UserWarning: The `map_projection` keyword argument is deprecated, use `projection` to instantiate a GeoAxes instead.\n",
      "  warnings.warn(\"The `map_projection` keyword argument is \"\n",
      "/Users/beckermr/mambaforge/envs/rubin-sims/lib/python3.10/site-packages/cartopy/mpl/geoaxes.py:403: UserWarning: The `map_projection` keyword argument is deprecated, use `projection` to instantiate a GeoAxes instead.\n",
      "  warnings.warn(\"The `map_projection` keyword argument is \"\n"
     ]
    },
    {
     "name": "stdout",
     "output_type": "stream",
     "text": [
      "[Parallel(n_jobs=8)]: Done 195 tasks      | elapsed: 12.1min\n",
      "[Parallel(n_jobs=8)]: Done 196 tasks      | elapsed: 12.1min\n"
     ]
    },
    {
     "name": "stderr",
     "output_type": "stream",
     "text": [
      "/Users/beckermr/mambaforge/envs/rubin-sims/lib/python3.10/site-packages/cartopy/mpl/geoaxes.py:403: UserWarning: The `map_projection` keyword argument is deprecated, use `projection` to instantiate a GeoAxes instead.\n",
      "  warnings.warn(\"The `map_projection` keyword argument is \"\n",
      "/Users/beckermr/mambaforge/envs/rubin-sims/lib/python3.10/site-packages/cartopy/mpl/geoaxes.py:403: UserWarning: The `map_projection` keyword argument is deprecated, use `projection` to instantiate a GeoAxes instead.\n",
      "  warnings.warn(\"The `map_projection` keyword argument is \"\n"
     ]
    },
    {
     "name": "stdout",
     "output_type": "stream",
     "text": [
      "[Parallel(n_jobs=8)]: Done 197 tasks      | elapsed: 12.1min\n"
     ]
    },
    {
     "name": "stderr",
     "output_type": "stream",
     "text": [
      "/Users/beckermr/mambaforge/envs/rubin-sims/lib/python3.10/site-packages/cartopy/mpl/geoaxes.py:403: UserWarning: The `map_projection` keyword argument is deprecated, use `projection` to instantiate a GeoAxes instead.\n",
      "  warnings.warn(\"The `map_projection` keyword argument is \"\n",
      "/Users/beckermr/mambaforge/envs/rubin-sims/lib/python3.10/site-packages/cartopy/mpl/geoaxes.py:403: UserWarning: The `map_projection` keyword argument is deprecated, use `projection` to instantiate a GeoAxes instead.\n",
      "  warnings.warn(\"The `map_projection` keyword argument is \"\n"
     ]
    },
    {
     "name": "stdout",
     "output_type": "stream",
     "text": [
      "[Parallel(n_jobs=8)]: Done 198 tasks      | elapsed: 12.1min\n"
     ]
    },
    {
     "name": "stderr",
     "output_type": "stream",
     "text": [
      "/Users/beckermr/mambaforge/envs/rubin-sims/lib/python3.10/site-packages/cartopy/mpl/geoaxes.py:403: UserWarning: The `map_projection` keyword argument is deprecated, use `projection` to instantiate a GeoAxes instead.\n",
      "  warnings.warn(\"The `map_projection` keyword argument is \"\n",
      "/Users/beckermr/mambaforge/envs/rubin-sims/lib/python3.10/site-packages/cartopy/mpl/geoaxes.py:403: UserWarning: The `map_projection` keyword argument is deprecated, use `projection` to instantiate a GeoAxes instead.\n",
      "  warnings.warn(\"The `map_projection` keyword argument is \"\n"
     ]
    },
    {
     "name": "stdout",
     "output_type": "stream",
     "text": [
      "[Parallel(n_jobs=8)]: Done 199 tasks      | elapsed: 12.1min\n"
     ]
    },
    {
     "name": "stderr",
     "output_type": "stream",
     "text": [
      "/Users/beckermr/mambaforge/envs/rubin-sims/lib/python3.10/site-packages/cartopy/mpl/geoaxes.py:403: UserWarning: The `map_projection` keyword argument is deprecated, use `projection` to instantiate a GeoAxes instead.\n",
      "  warnings.warn(\"The `map_projection` keyword argument is \"\n",
      "/Users/beckermr/mambaforge/envs/rubin-sims/lib/python3.10/site-packages/cartopy/mpl/geoaxes.py:403: UserWarning: The `map_projection` keyword argument is deprecated, use `projection` to instantiate a GeoAxes instead.\n",
      "  warnings.warn(\"The `map_projection` keyword argument is \"\n",
      "/Users/beckermr/mambaforge/envs/rubin-sims/lib/python3.10/site-packages/cartopy/mpl/geoaxes.py:403: UserWarning: The `map_projection` keyword argument is deprecated, use `projection` to instantiate a GeoAxes instead.\n",
      "  warnings.warn(\"The `map_projection` keyword argument is \"\n",
      "/Users/beckermr/mambaforge/envs/rubin-sims/lib/python3.10/site-packages/cartopy/mpl/geoaxes.py:403: UserWarning: The `map_projection` keyword argument is deprecated, use `projection` to instantiate a GeoAxes instead.\n",
      "  warnings.warn(\"The `map_projection` keyword argument is \"\n"
     ]
    },
    {
     "name": "stdout",
     "output_type": "stream",
     "text": [
      "[Parallel(n_jobs=8)]: Done 200 tasks      | elapsed: 12.2min\n"
     ]
    },
    {
     "name": "stderr",
     "output_type": "stream",
     "text": [
      "/Users/beckermr/mambaforge/envs/rubin-sims/lib/python3.10/site-packages/cartopy/mpl/geoaxes.py:403: UserWarning: The `map_projection` keyword argument is deprecated, use `projection` to instantiate a GeoAxes instead.\n",
      "  warnings.warn(\"The `map_projection` keyword argument is \"\n",
      "/Users/beckermr/mambaforge/envs/rubin-sims/lib/python3.10/site-packages/cartopy/mpl/geoaxes.py:403: UserWarning: The `map_projection` keyword argument is deprecated, use `projection` to instantiate a GeoAxes instead.\n",
      "  warnings.warn(\"The `map_projection` keyword argument is \"\n"
     ]
    },
    {
     "name": "stdout",
     "output_type": "stream",
     "text": [
      "[Parallel(n_jobs=8)]: Done 201 tasks      | elapsed: 12.5min\n"
     ]
    },
    {
     "name": "stderr",
     "output_type": "stream",
     "text": [
      "/Users/beckermr/mambaforge/envs/rubin-sims/lib/python3.10/site-packages/cartopy/mpl/geoaxes.py:403: UserWarning: The `map_projection` keyword argument is deprecated, use `projection` to instantiate a GeoAxes instead.\n",
      "  warnings.warn(\"The `map_projection` keyword argument is \"\n",
      "/Users/beckermr/mambaforge/envs/rubin-sims/lib/python3.10/site-packages/cartopy/mpl/geoaxes.py:403: UserWarning: The `map_projection` keyword argument is deprecated, use `projection` to instantiate a GeoAxes instead.\n",
      "  warnings.warn(\"The `map_projection` keyword argument is \"\n"
     ]
    },
    {
     "name": "stdout",
     "output_type": "stream",
     "text": [
      "[Parallel(n_jobs=8)]: Done 202 tasks      | elapsed: 12.5min\n"
     ]
    },
    {
     "name": "stderr",
     "output_type": "stream",
     "text": [
      "/Users/beckermr/mambaforge/envs/rubin-sims/lib/python3.10/site-packages/cartopy/mpl/geoaxes.py:403: UserWarning: The `map_projection` keyword argument is deprecated, use `projection` to instantiate a GeoAxes instead.\n",
      "  warnings.warn(\"The `map_projection` keyword argument is \"\n",
      "/Users/beckermr/mambaforge/envs/rubin-sims/lib/python3.10/site-packages/cartopy/mpl/geoaxes.py:403: UserWarning: The `map_projection` keyword argument is deprecated, use `projection` to instantiate a GeoAxes instead.\n",
      "  warnings.warn(\"The `map_projection` keyword argument is \"\n"
     ]
    },
    {
     "name": "stdout",
     "output_type": "stream",
     "text": [
      "[Parallel(n_jobs=8)]: Done 203 tasks      | elapsed: 12.6min\n",
      "[Parallel(n_jobs=8)]: Done 204 tasks      | elapsed: 12.6min\n"
     ]
    },
    {
     "name": "stderr",
     "output_type": "stream",
     "text": [
      "/Users/beckermr/mambaforge/envs/rubin-sims/lib/python3.10/site-packages/cartopy/mpl/geoaxes.py:403: UserWarning: The `map_projection` keyword argument is deprecated, use `projection` to instantiate a GeoAxes instead.\n",
      "  warnings.warn(\"The `map_projection` keyword argument is \"\n",
      "/Users/beckermr/mambaforge/envs/rubin-sims/lib/python3.10/site-packages/cartopy/mpl/geoaxes.py:403: UserWarning: The `map_projection` keyword argument is deprecated, use `projection` to instantiate a GeoAxes instead.\n",
      "  warnings.warn(\"The `map_projection` keyword argument is \"\n"
     ]
    },
    {
     "name": "stdout",
     "output_type": "stream",
     "text": [
      "[Parallel(n_jobs=8)]: Done 205 tasks      | elapsed: 12.6min\n"
     ]
    },
    {
     "name": "stderr",
     "output_type": "stream",
     "text": [
      "/Users/beckermr/mambaforge/envs/rubin-sims/lib/python3.10/site-packages/cartopy/mpl/geoaxes.py:403: UserWarning: The `map_projection` keyword argument is deprecated, use `projection` to instantiate a GeoAxes instead.\n",
      "  warnings.warn(\"The `map_projection` keyword argument is \"\n",
      "/Users/beckermr/mambaforge/envs/rubin-sims/lib/python3.10/site-packages/cartopy/mpl/geoaxes.py:403: UserWarning: The `map_projection` keyword argument is deprecated, use `projection` to instantiate a GeoAxes instead.\n",
      "  warnings.warn(\"The `map_projection` keyword argument is \"\n",
      "/Users/beckermr/mambaforge/envs/rubin-sims/lib/python3.10/site-packages/cartopy/mpl/geoaxes.py:403: UserWarning: The `map_projection` keyword argument is deprecated, use `projection` to instantiate a GeoAxes instead.\n",
      "  warnings.warn(\"The `map_projection` keyword argument is \"\n",
      "/Users/beckermr/mambaforge/envs/rubin-sims/lib/python3.10/site-packages/cartopy/mpl/geoaxes.py:403: UserWarning: The `map_projection` keyword argument is deprecated, use `projection` to instantiate a GeoAxes instead.\n",
      "  warnings.warn(\"The `map_projection` keyword argument is \"\n"
     ]
    },
    {
     "name": "stdout",
     "output_type": "stream",
     "text": [
      "[Parallel(n_jobs=8)]: Done 206 tasks      | elapsed: 12.6min\n",
      "[Parallel(n_jobs=8)]: Done 207 tasks      | elapsed: 12.6min\n"
     ]
    },
    {
     "name": "stderr",
     "output_type": "stream",
     "text": [
      "/Users/beckermr/mambaforge/envs/rubin-sims/lib/python3.10/site-packages/cartopy/mpl/geoaxes.py:403: UserWarning: The `map_projection` keyword argument is deprecated, use `projection` to instantiate a GeoAxes instead.\n",
      "  warnings.warn(\"The `map_projection` keyword argument is \"\n",
      "/Users/beckermr/mambaforge/envs/rubin-sims/lib/python3.10/site-packages/cartopy/mpl/geoaxes.py:403: UserWarning: The `map_projection` keyword argument is deprecated, use `projection` to instantiate a GeoAxes instead.\n",
      "  warnings.warn(\"The `map_projection` keyword argument is \"\n"
     ]
    },
    {
     "name": "stdout",
     "output_type": "stream",
     "text": [
      "[Parallel(n_jobs=8)]: Done 208 tasks      | elapsed: 12.6min\n"
     ]
    },
    {
     "name": "stderr",
     "output_type": "stream",
     "text": [
      "/Users/beckermr/mambaforge/envs/rubin-sims/lib/python3.10/site-packages/cartopy/mpl/geoaxes.py:403: UserWarning: The `map_projection` keyword argument is deprecated, use `projection` to instantiate a GeoAxes instead.\n",
      "  warnings.warn(\"The `map_projection` keyword argument is \"\n",
      "/Users/beckermr/mambaforge/envs/rubin-sims/lib/python3.10/site-packages/cartopy/mpl/geoaxes.py:403: UserWarning: The `map_projection` keyword argument is deprecated, use `projection` to instantiate a GeoAxes instead.\n",
      "  warnings.warn(\"The `map_projection` keyword argument is \"\n",
      "/Users/beckermr/mambaforge/envs/rubin-sims/lib/python3.10/site-packages/cartopy/mpl/geoaxes.py:403: UserWarning: The `map_projection` keyword argument is deprecated, use `projection` to instantiate a GeoAxes instead.\n",
      "  warnings.warn(\"The `map_projection` keyword argument is \"\n",
      "/Users/beckermr/mambaforge/envs/rubin-sims/lib/python3.10/site-packages/cartopy/mpl/geoaxes.py:403: UserWarning: The `map_projection` keyword argument is deprecated, use `projection` to instantiate a GeoAxes instead.\n",
      "  warnings.warn(\"The `map_projection` keyword argument is \"\n"
     ]
    },
    {
     "name": "stdout",
     "output_type": "stream",
     "text": [
      "[Parallel(n_jobs=8)]: Done 209 tasks      | elapsed: 13.0min\n"
     ]
    },
    {
     "name": "stderr",
     "output_type": "stream",
     "text": [
      "/Users/beckermr/mambaforge/envs/rubin-sims/lib/python3.10/site-packages/cartopy/mpl/geoaxes.py:403: UserWarning: The `map_projection` keyword argument is deprecated, use `projection` to instantiate a GeoAxes instead.\n",
      "  warnings.warn(\"The `map_projection` keyword argument is \"\n",
      "/Users/beckermr/mambaforge/envs/rubin-sims/lib/python3.10/site-packages/cartopy/mpl/geoaxes.py:403: UserWarning: The `map_projection` keyword argument is deprecated, use `projection` to instantiate a GeoAxes instead.\n",
      "  warnings.warn(\"The `map_projection` keyword argument is \"\n"
     ]
    },
    {
     "name": "stdout",
     "output_type": "stream",
     "text": [
      "[Parallel(n_jobs=8)]: Done 210 tasks      | elapsed: 13.0min\n"
     ]
    },
    {
     "name": "stderr",
     "output_type": "stream",
     "text": [
      "/Users/beckermr/mambaforge/envs/rubin-sims/lib/python3.10/site-packages/cartopy/mpl/geoaxes.py:403: UserWarning: The `map_projection` keyword argument is deprecated, use `projection` to instantiate a GeoAxes instead.\n",
      "  warnings.warn(\"The `map_projection` keyword argument is \"\n",
      "/Users/beckermr/mambaforge/envs/rubin-sims/lib/python3.10/site-packages/cartopy/mpl/geoaxes.py:403: UserWarning: The `map_projection` keyword argument is deprecated, use `projection` to instantiate a GeoAxes instead.\n",
      "  warnings.warn(\"The `map_projection` keyword argument is \"\n"
     ]
    },
    {
     "name": "stdout",
     "output_type": "stream",
     "text": [
      "[Parallel(n_jobs=8)]: Done 211 tasks      | elapsed: 13.0min\n",
      "[Parallel(n_jobs=8)]: Done 212 tasks      | elapsed: 13.0min\n"
     ]
    },
    {
     "name": "stderr",
     "output_type": "stream",
     "text": [
      "/Users/beckermr/mambaforge/envs/rubin-sims/lib/python3.10/site-packages/cartopy/mpl/geoaxes.py:403: UserWarning: The `map_projection` keyword argument is deprecated, use `projection` to instantiate a GeoAxes instead.\n",
      "  warnings.warn(\"The `map_projection` keyword argument is \"\n",
      "/Users/beckermr/mambaforge/envs/rubin-sims/lib/python3.10/site-packages/cartopy/mpl/geoaxes.py:403: UserWarning: The `map_projection` keyword argument is deprecated, use `projection` to instantiate a GeoAxes instead.\n",
      "  warnings.warn(\"The `map_projection` keyword argument is \"\n"
     ]
    },
    {
     "name": "stdout",
     "output_type": "stream",
     "text": [
      "[Parallel(n_jobs=8)]: Done 213 tasks      | elapsed: 13.1min\n"
     ]
    },
    {
     "name": "stderr",
     "output_type": "stream",
     "text": [
      "/Users/beckermr/mambaforge/envs/rubin-sims/lib/python3.10/site-packages/cartopy/mpl/geoaxes.py:403: UserWarning: The `map_projection` keyword argument is deprecated, use `projection` to instantiate a GeoAxes instead.\n",
      "  warnings.warn(\"The `map_projection` keyword argument is \"\n",
      "/Users/beckermr/mambaforge/envs/rubin-sims/lib/python3.10/site-packages/cartopy/mpl/geoaxes.py:403: UserWarning: The `map_projection` keyword argument is deprecated, use `projection` to instantiate a GeoAxes instead.\n",
      "  warnings.warn(\"The `map_projection` keyword argument is \"\n"
     ]
    },
    {
     "name": "stdout",
     "output_type": "stream",
     "text": [
      "[Parallel(n_jobs=8)]: Done 214 tasks      | elapsed: 13.1min\n"
     ]
    },
    {
     "name": "stderr",
     "output_type": "stream",
     "text": [
      "/Users/beckermr/mambaforge/envs/rubin-sims/lib/python3.10/site-packages/cartopy/mpl/geoaxes.py:403: UserWarning: The `map_projection` keyword argument is deprecated, use `projection` to instantiate a GeoAxes instead.\n",
      "  warnings.warn(\"The `map_projection` keyword argument is \"\n",
      "/Users/beckermr/mambaforge/envs/rubin-sims/lib/python3.10/site-packages/cartopy/mpl/geoaxes.py:403: UserWarning: The `map_projection` keyword argument is deprecated, use `projection` to instantiate a GeoAxes instead.\n",
      "  warnings.warn(\"The `map_projection` keyword argument is \"\n",
      "/Users/beckermr/mambaforge/envs/rubin-sims/lib/python3.10/site-packages/cartopy/mpl/geoaxes.py:403: UserWarning: The `map_projection` keyword argument is deprecated, use `projection` to instantiate a GeoAxes instead.\n",
      "  warnings.warn(\"The `map_projection` keyword argument is \"\n"
     ]
    },
    {
     "name": "stdout",
     "output_type": "stream",
     "text": [
      "[Parallel(n_jobs=8)]: Done 215 tasks      | elapsed: 13.1min\n"
     ]
    },
    {
     "name": "stderr",
     "output_type": "stream",
     "text": [
      "/Users/beckermr/mambaforge/envs/rubin-sims/lib/python3.10/site-packages/cartopy/mpl/geoaxes.py:403: UserWarning: The `map_projection` keyword argument is deprecated, use `projection` to instantiate a GeoAxes instead.\n",
      "  warnings.warn(\"The `map_projection` keyword argument is \"\n",
      "/Users/beckermr/mambaforge/envs/rubin-sims/lib/python3.10/site-packages/cartopy/mpl/geoaxes.py:403: UserWarning: The `map_projection` keyword argument is deprecated, use `projection` to instantiate a GeoAxes instead.\n",
      "  warnings.warn(\"The `map_projection` keyword argument is \"\n",
      "/Users/beckermr/mambaforge/envs/rubin-sims/lib/python3.10/site-packages/cartopy/mpl/geoaxes.py:403: UserWarning: The `map_projection` keyword argument is deprecated, use `projection` to instantiate a GeoAxes instead.\n",
      "  warnings.warn(\"The `map_projection` keyword argument is \"\n"
     ]
    },
    {
     "name": "stdout",
     "output_type": "stream",
     "text": [
      "[Parallel(n_jobs=8)]: Done 216 tasks      | elapsed: 13.1min\n"
     ]
    },
    {
     "name": "stderr",
     "output_type": "stream",
     "text": [
      "/Users/beckermr/mambaforge/envs/rubin-sims/lib/python3.10/site-packages/cartopy/mpl/geoaxes.py:403: UserWarning: The `map_projection` keyword argument is deprecated, use `projection` to instantiate a GeoAxes instead.\n",
      "  warnings.warn(\"The `map_projection` keyword argument is \"\n",
      "/Users/beckermr/mambaforge/envs/rubin-sims/lib/python3.10/site-packages/cartopy/mpl/geoaxes.py:403: UserWarning: The `map_projection` keyword argument is deprecated, use `projection` to instantiate a GeoAxes instead.\n",
      "  warnings.warn(\"The `map_projection` keyword argument is \"\n"
     ]
    },
    {
     "name": "stdout",
     "output_type": "stream",
     "text": [
      "[Parallel(n_jobs=8)]: Done 217 tasks      | elapsed: 13.4min\n"
     ]
    },
    {
     "name": "stderr",
     "output_type": "stream",
     "text": [
      "/Users/beckermr/mambaforge/envs/rubin-sims/lib/python3.10/site-packages/cartopy/mpl/geoaxes.py:403: UserWarning: The `map_projection` keyword argument is deprecated, use `projection` to instantiate a GeoAxes instead.\n",
      "  warnings.warn(\"The `map_projection` keyword argument is \"\n",
      "/Users/beckermr/mambaforge/envs/rubin-sims/lib/python3.10/site-packages/cartopy/mpl/geoaxes.py:403: UserWarning: The `map_projection` keyword argument is deprecated, use `projection` to instantiate a GeoAxes instead.\n",
      "  warnings.warn(\"The `map_projection` keyword argument is \"\n"
     ]
    },
    {
     "name": "stdout",
     "output_type": "stream",
     "text": [
      "[Parallel(n_jobs=8)]: Done 218 tasks      | elapsed: 13.4min\n"
     ]
    },
    {
     "name": "stderr",
     "output_type": "stream",
     "text": [
      "/Users/beckermr/mambaforge/envs/rubin-sims/lib/python3.10/site-packages/cartopy/mpl/geoaxes.py:403: UserWarning: The `map_projection` keyword argument is deprecated, use `projection` to instantiate a GeoAxes instead.\n",
      "  warnings.warn(\"The `map_projection` keyword argument is \"\n",
      "/Users/beckermr/mambaforge/envs/rubin-sims/lib/python3.10/site-packages/cartopy/mpl/geoaxes.py:403: UserWarning: The `map_projection` keyword argument is deprecated, use `projection` to instantiate a GeoAxes instead.\n",
      "  warnings.warn(\"The `map_projection` keyword argument is \"\n"
     ]
    },
    {
     "name": "stdout",
     "output_type": "stream",
     "text": [
      "[Parallel(n_jobs=8)]: Done 219 tasks      | elapsed: 13.5min\n"
     ]
    },
    {
     "name": "stderr",
     "output_type": "stream",
     "text": [
      "/Users/beckermr/mambaforge/envs/rubin-sims/lib/python3.10/site-packages/cartopy/mpl/geoaxes.py:403: UserWarning: The `map_projection` keyword argument is deprecated, use `projection` to instantiate a GeoAxes instead.\n",
      "  warnings.warn(\"The `map_projection` keyword argument is \"\n",
      "/Users/beckermr/mambaforge/envs/rubin-sims/lib/python3.10/site-packages/cartopy/mpl/geoaxes.py:403: UserWarning: The `map_projection` keyword argument is deprecated, use `projection` to instantiate a GeoAxes instead.\n",
      "  warnings.warn(\"The `map_projection` keyword argument is \"\n"
     ]
    },
    {
     "name": "stdout",
     "output_type": "stream",
     "text": [
      "[Parallel(n_jobs=8)]: Done 220 tasks      | elapsed: 13.5min\n"
     ]
    },
    {
     "name": "stderr",
     "output_type": "stream",
     "text": [
      "/Users/beckermr/mambaforge/envs/rubin-sims/lib/python3.10/site-packages/cartopy/mpl/geoaxes.py:403: UserWarning: The `map_projection` keyword argument is deprecated, use `projection` to instantiate a GeoAxes instead.\n",
      "  warnings.warn(\"The `map_projection` keyword argument is \"\n",
      "/Users/beckermr/mambaforge/envs/rubin-sims/lib/python3.10/site-packages/cartopy/mpl/geoaxes.py:403: UserWarning: The `map_projection` keyword argument is deprecated, use `projection` to instantiate a GeoAxes instead.\n",
      "  warnings.warn(\"The `map_projection` keyword argument is \"\n"
     ]
    },
    {
     "name": "stdout",
     "output_type": "stream",
     "text": [
      "[Parallel(n_jobs=8)]: Done 221 tasks      | elapsed: 13.5min\n"
     ]
    },
    {
     "name": "stderr",
     "output_type": "stream",
     "text": [
      "/Users/beckermr/mambaforge/envs/rubin-sims/lib/python3.10/site-packages/cartopy/mpl/geoaxes.py:403: UserWarning: The `map_projection` keyword argument is deprecated, use `projection` to instantiate a GeoAxes instead.\n",
      "  warnings.warn(\"The `map_projection` keyword argument is \"\n",
      "/Users/beckermr/mambaforge/envs/rubin-sims/lib/python3.10/site-packages/cartopy/mpl/geoaxes.py:403: UserWarning: The `map_projection` keyword argument is deprecated, use `projection` to instantiate a GeoAxes instead.\n",
      "  warnings.warn(\"The `map_projection` keyword argument is \"\n"
     ]
    },
    {
     "name": "stdout",
     "output_type": "stream",
     "text": [
      "[Parallel(n_jobs=8)]: Done 222 tasks      | elapsed: 13.5min\n"
     ]
    },
    {
     "name": "stderr",
     "output_type": "stream",
     "text": [
      "/Users/beckermr/mambaforge/envs/rubin-sims/lib/python3.10/site-packages/cartopy/mpl/geoaxes.py:403: UserWarning: The `map_projection` keyword argument is deprecated, use `projection` to instantiate a GeoAxes instead.\n",
      "  warnings.warn(\"The `map_projection` keyword argument is \"\n",
      "/Users/beckermr/mambaforge/envs/rubin-sims/lib/python3.10/site-packages/cartopy/mpl/geoaxes.py:403: UserWarning: The `map_projection` keyword argument is deprecated, use `projection` to instantiate a GeoAxes instead.\n",
      "  warnings.warn(\"The `map_projection` keyword argument is \"\n"
     ]
    },
    {
     "name": "stdout",
     "output_type": "stream",
     "text": [
      "[Parallel(n_jobs=8)]: Done 223 tasks      | elapsed: 13.6min\n"
     ]
    },
    {
     "name": "stderr",
     "output_type": "stream",
     "text": [
      "/Users/beckermr/mambaforge/envs/rubin-sims/lib/python3.10/site-packages/cartopy/mpl/geoaxes.py:403: UserWarning: The `map_projection` keyword argument is deprecated, use `projection` to instantiate a GeoAxes instead.\n",
      "  warnings.warn(\"The `map_projection` keyword argument is \"\n",
      "/Users/beckermr/mambaforge/envs/rubin-sims/lib/python3.10/site-packages/cartopy/mpl/geoaxes.py:403: UserWarning: The `map_projection` keyword argument is deprecated, use `projection` to instantiate a GeoAxes instead.\n",
      "  warnings.warn(\"The `map_projection` keyword argument is \"\n"
     ]
    },
    {
     "name": "stdout",
     "output_type": "stream",
     "text": [
      "[Parallel(n_jobs=8)]: Done 224 tasks      | elapsed: 13.6min\n"
     ]
    },
    {
     "name": "stderr",
     "output_type": "stream",
     "text": [
      "/Users/beckermr/mambaforge/envs/rubin-sims/lib/python3.10/site-packages/cartopy/mpl/geoaxes.py:403: UserWarning: The `map_projection` keyword argument is deprecated, use `projection` to instantiate a GeoAxes instead.\n",
      "  warnings.warn(\"The `map_projection` keyword argument is \"\n",
      "/Users/beckermr/mambaforge/envs/rubin-sims/lib/python3.10/site-packages/cartopy/mpl/geoaxes.py:403: UserWarning: The `map_projection` keyword argument is deprecated, use `projection` to instantiate a GeoAxes instead.\n",
      "  warnings.warn(\"The `map_projection` keyword argument is \"\n"
     ]
    },
    {
     "name": "stdout",
     "output_type": "stream",
     "text": [
      "[Parallel(n_jobs=8)]: Done 225 tasks      | elapsed: 13.9min\n"
     ]
    },
    {
     "name": "stderr",
     "output_type": "stream",
     "text": [
      "/Users/beckermr/mambaforge/envs/rubin-sims/lib/python3.10/site-packages/cartopy/mpl/geoaxes.py:403: UserWarning: The `map_projection` keyword argument is deprecated, use `projection` to instantiate a GeoAxes instead.\n",
      "  warnings.warn(\"The `map_projection` keyword argument is \"\n",
      "/Users/beckermr/mambaforge/envs/rubin-sims/lib/python3.10/site-packages/cartopy/mpl/geoaxes.py:403: UserWarning: The `map_projection` keyword argument is deprecated, use `projection` to instantiate a GeoAxes instead.\n",
      "  warnings.warn(\"The `map_projection` keyword argument is \"\n"
     ]
    },
    {
     "name": "stdout",
     "output_type": "stream",
     "text": [
      "[Parallel(n_jobs=8)]: Done 226 tasks      | elapsed: 13.9min\n"
     ]
    },
    {
     "name": "stderr",
     "output_type": "stream",
     "text": [
      "/Users/beckermr/mambaforge/envs/rubin-sims/lib/python3.10/site-packages/cartopy/mpl/geoaxes.py:403: UserWarning: The `map_projection` keyword argument is deprecated, use `projection` to instantiate a GeoAxes instead.\n",
      "  warnings.warn(\"The `map_projection` keyword argument is \"\n",
      "/Users/beckermr/mambaforge/envs/rubin-sims/lib/python3.10/site-packages/cartopy/mpl/geoaxes.py:403: UserWarning: The `map_projection` keyword argument is deprecated, use `projection` to instantiate a GeoAxes instead.\n",
      "  warnings.warn(\"The `map_projection` keyword argument is \"\n"
     ]
    },
    {
     "name": "stdout",
     "output_type": "stream",
     "text": [
      "[Parallel(n_jobs=8)]: Done 227 tasks      | elapsed: 14.0min\n"
     ]
    },
    {
     "name": "stderr",
     "output_type": "stream",
     "text": [
      "/Users/beckermr/mambaforge/envs/rubin-sims/lib/python3.10/site-packages/cartopy/mpl/geoaxes.py:403: UserWarning: The `map_projection` keyword argument is deprecated, use `projection` to instantiate a GeoAxes instead.\n",
      "  warnings.warn(\"The `map_projection` keyword argument is \"\n",
      "/Users/beckermr/mambaforge/envs/rubin-sims/lib/python3.10/site-packages/cartopy/mpl/geoaxes.py:403: UserWarning: The `map_projection` keyword argument is deprecated, use `projection` to instantiate a GeoAxes instead.\n",
      "  warnings.warn(\"The `map_projection` keyword argument is \"\n"
     ]
    },
    {
     "name": "stdout",
     "output_type": "stream",
     "text": [
      "[Parallel(n_jobs=8)]: Done 228 tasks      | elapsed: 14.0min\n"
     ]
    },
    {
     "name": "stderr",
     "output_type": "stream",
     "text": [
      "/Users/beckermr/mambaforge/envs/rubin-sims/lib/python3.10/site-packages/cartopy/mpl/geoaxes.py:403: UserWarning: The `map_projection` keyword argument is deprecated, use `projection` to instantiate a GeoAxes instead.\n",
      "  warnings.warn(\"The `map_projection` keyword argument is \"\n",
      "/Users/beckermr/mambaforge/envs/rubin-sims/lib/python3.10/site-packages/cartopy/mpl/geoaxes.py:403: UserWarning: The `map_projection` keyword argument is deprecated, use `projection` to instantiate a GeoAxes instead.\n",
      "  warnings.warn(\"The `map_projection` keyword argument is \"\n"
     ]
    },
    {
     "name": "stdout",
     "output_type": "stream",
     "text": [
      "[Parallel(n_jobs=8)]: Done 229 tasks      | elapsed: 14.0min\n",
      "[Parallel(n_jobs=8)]: Done 230 tasks      | elapsed: 14.0min\n"
     ]
    },
    {
     "name": "stderr",
     "output_type": "stream",
     "text": [
      "/Users/beckermr/mambaforge/envs/rubin-sims/lib/python3.10/site-packages/cartopy/mpl/geoaxes.py:403: UserWarning: The `map_projection` keyword argument is deprecated, use `projection` to instantiate a GeoAxes instead.\n",
      "  warnings.warn(\"The `map_projection` keyword argument is \"\n",
      "/Users/beckermr/mambaforge/envs/rubin-sims/lib/python3.10/site-packages/cartopy/mpl/geoaxes.py:403: UserWarning: The `map_projection` keyword argument is deprecated, use `projection` to instantiate a GeoAxes instead.\n",
      "  warnings.warn(\"The `map_projection` keyword argument is \"\n",
      "/Users/beckermr/mambaforge/envs/rubin-sims/lib/python3.10/site-packages/cartopy/mpl/geoaxes.py:403: UserWarning: The `map_projection` keyword argument is deprecated, use `projection` to instantiate a GeoAxes instead.\n",
      "  warnings.warn(\"The `map_projection` keyword argument is \"\n",
      "/Users/beckermr/mambaforge/envs/rubin-sims/lib/python3.10/site-packages/cartopy/mpl/geoaxes.py:403: UserWarning: The `map_projection` keyword argument is deprecated, use `projection` to instantiate a GeoAxes instead.\n",
      "  warnings.warn(\"The `map_projection` keyword argument is \"\n"
     ]
    },
    {
     "name": "stdout",
     "output_type": "stream",
     "text": [
      "[Parallel(n_jobs=8)]: Done 231 tasks      | elapsed: 14.0min\n"
     ]
    },
    {
     "name": "stderr",
     "output_type": "stream",
     "text": [
      "/Users/beckermr/mambaforge/envs/rubin-sims/lib/python3.10/site-packages/cartopy/mpl/geoaxes.py:403: UserWarning: The `map_projection` keyword argument is deprecated, use `projection` to instantiate a GeoAxes instead.\n",
      "  warnings.warn(\"The `map_projection` keyword argument is \"\n",
      "/Users/beckermr/mambaforge/envs/rubin-sims/lib/python3.10/site-packages/cartopy/mpl/geoaxes.py:403: UserWarning: The `map_projection` keyword argument is deprecated, use `projection` to instantiate a GeoAxes instead.\n",
      "  warnings.warn(\"The `map_projection` keyword argument is \"\n"
     ]
    },
    {
     "name": "stdout",
     "output_type": "stream",
     "text": [
      "[Parallel(n_jobs=8)]: Done 232 tasks      | elapsed: 14.1min\n"
     ]
    },
    {
     "name": "stderr",
     "output_type": "stream",
     "text": [
      "/Users/beckermr/mambaforge/envs/rubin-sims/lib/python3.10/site-packages/cartopy/mpl/geoaxes.py:403: UserWarning: The `map_projection` keyword argument is deprecated, use `projection` to instantiate a GeoAxes instead.\n",
      "  warnings.warn(\"The `map_projection` keyword argument is \"\n",
      "/Users/beckermr/mambaforge/envs/rubin-sims/lib/python3.10/site-packages/cartopy/mpl/geoaxes.py:403: UserWarning: The `map_projection` keyword argument is deprecated, use `projection` to instantiate a GeoAxes instead.\n",
      "  warnings.warn(\"The `map_projection` keyword argument is \"\n"
     ]
    },
    {
     "name": "stdout",
     "output_type": "stream",
     "text": [
      "[Parallel(n_jobs=8)]: Done 233 tasks      | elapsed: 14.4min\n"
     ]
    },
    {
     "name": "stderr",
     "output_type": "stream",
     "text": [
      "/Users/beckermr/mambaforge/envs/rubin-sims/lib/python3.10/site-packages/cartopy/mpl/geoaxes.py:403: UserWarning: The `map_projection` keyword argument is deprecated, use `projection` to instantiate a GeoAxes instead.\n",
      "  warnings.warn(\"The `map_projection` keyword argument is \"\n",
      "/Users/beckermr/mambaforge/envs/rubin-sims/lib/python3.10/site-packages/cartopy/mpl/geoaxes.py:403: UserWarning: The `map_projection` keyword argument is deprecated, use `projection` to instantiate a GeoAxes instead.\n",
      "  warnings.warn(\"The `map_projection` keyword argument is \"\n"
     ]
    },
    {
     "name": "stdout",
     "output_type": "stream",
     "text": [
      "[Parallel(n_jobs=8)]: Done 234 tasks      | elapsed: 14.4min\n"
     ]
    },
    {
     "name": "stderr",
     "output_type": "stream",
     "text": [
      "/Users/beckermr/mambaforge/envs/rubin-sims/lib/python3.10/site-packages/cartopy/mpl/geoaxes.py:403: UserWarning: The `map_projection` keyword argument is deprecated, use `projection` to instantiate a GeoAxes instead.\n",
      "  warnings.warn(\"The `map_projection` keyword argument is \"\n",
      "/Users/beckermr/mambaforge/envs/rubin-sims/lib/python3.10/site-packages/cartopy/mpl/geoaxes.py:403: UserWarning: The `map_projection` keyword argument is deprecated, use `projection` to instantiate a GeoAxes instead.\n",
      "  warnings.warn(\"The `map_projection` keyword argument is \"\n"
     ]
    },
    {
     "name": "stdout",
     "output_type": "stream",
     "text": [
      "[Parallel(n_jobs=8)]: Done 235 tasks      | elapsed: 14.5min\n"
     ]
    },
    {
     "name": "stderr",
     "output_type": "stream",
     "text": [
      "/Users/beckermr/mambaforge/envs/rubin-sims/lib/python3.10/site-packages/cartopy/mpl/geoaxes.py:403: UserWarning: The `map_projection` keyword argument is deprecated, use `projection` to instantiate a GeoAxes instead.\n",
      "  warnings.warn(\"The `map_projection` keyword argument is \"\n",
      "/Users/beckermr/mambaforge/envs/rubin-sims/lib/python3.10/site-packages/cartopy/mpl/geoaxes.py:403: UserWarning: The `map_projection` keyword argument is deprecated, use `projection` to instantiate a GeoAxes instead.\n",
      "  warnings.warn(\"The `map_projection` keyword argument is \"\n"
     ]
    },
    {
     "name": "stdout",
     "output_type": "stream",
     "text": [
      "[Parallel(n_jobs=8)]: Done 236 tasks      | elapsed: 14.6min\n"
     ]
    },
    {
     "name": "stderr",
     "output_type": "stream",
     "text": [
      "/Users/beckermr/mambaforge/envs/rubin-sims/lib/python3.10/site-packages/cartopy/mpl/geoaxes.py:403: UserWarning: The `map_projection` keyword argument is deprecated, use `projection` to instantiate a GeoAxes instead.\n",
      "  warnings.warn(\"The `map_projection` keyword argument is \"\n",
      "/Users/beckermr/mambaforge/envs/rubin-sims/lib/python3.10/site-packages/cartopy/mpl/geoaxes.py:403: UserWarning: The `map_projection` keyword argument is deprecated, use `projection` to instantiate a GeoAxes instead.\n",
      "  warnings.warn(\"The `map_projection` keyword argument is \"\n"
     ]
    },
    {
     "name": "stdout",
     "output_type": "stream",
     "text": [
      "[Parallel(n_jobs=8)]: Done 237 tasks      | elapsed: 14.6min\n"
     ]
    },
    {
     "name": "stderr",
     "output_type": "stream",
     "text": [
      "/Users/beckermr/mambaforge/envs/rubin-sims/lib/python3.10/site-packages/cartopy/mpl/geoaxes.py:403: UserWarning: The `map_projection` keyword argument is deprecated, use `projection` to instantiate a GeoAxes instead.\n",
      "  warnings.warn(\"The `map_projection` keyword argument is \"\n",
      "/Users/beckermr/mambaforge/envs/rubin-sims/lib/python3.10/site-packages/cartopy/mpl/geoaxes.py:403: UserWarning: The `map_projection` keyword argument is deprecated, use `projection` to instantiate a GeoAxes instead.\n",
      "  warnings.warn(\"The `map_projection` keyword argument is \"\n"
     ]
    },
    {
     "name": "stdout",
     "output_type": "stream",
     "text": [
      "[Parallel(n_jobs=8)]: Done 238 tasks      | elapsed: 14.6min\n"
     ]
    },
    {
     "name": "stderr",
     "output_type": "stream",
     "text": [
      "/Users/beckermr/mambaforge/envs/rubin-sims/lib/python3.10/site-packages/cartopy/mpl/geoaxes.py:403: UserWarning: The `map_projection` keyword argument is deprecated, use `projection` to instantiate a GeoAxes instead.\n",
      "  warnings.warn(\"The `map_projection` keyword argument is \"\n",
      "/Users/beckermr/mambaforge/envs/rubin-sims/lib/python3.10/site-packages/cartopy/mpl/geoaxes.py:403: UserWarning: The `map_projection` keyword argument is deprecated, use `projection` to instantiate a GeoAxes instead.\n",
      "  warnings.warn(\"The `map_projection` keyword argument is \"\n"
     ]
    },
    {
     "name": "stdout",
     "output_type": "stream",
     "text": [
      "[Parallel(n_jobs=8)]: Done 239 tasks      | elapsed: 14.6min\n"
     ]
    },
    {
     "name": "stderr",
     "output_type": "stream",
     "text": [
      "/Users/beckermr/mambaforge/envs/rubin-sims/lib/python3.10/site-packages/cartopy/mpl/geoaxes.py:403: UserWarning: The `map_projection` keyword argument is deprecated, use `projection` to instantiate a GeoAxes instead.\n",
      "  warnings.warn(\"The `map_projection` keyword argument is \"\n",
      "/Users/beckermr/mambaforge/envs/rubin-sims/lib/python3.10/site-packages/cartopy/mpl/geoaxes.py:403: UserWarning: The `map_projection` keyword argument is deprecated, use `projection` to instantiate a GeoAxes instead.\n",
      "  warnings.warn(\"The `map_projection` keyword argument is \"\n"
     ]
    },
    {
     "name": "stdout",
     "output_type": "stream",
     "text": [
      "[Parallel(n_jobs=8)]: Done 240 tasks      | elapsed: 14.6min\n"
     ]
    },
    {
     "name": "stderr",
     "output_type": "stream",
     "text": [
      "/Users/beckermr/mambaforge/envs/rubin-sims/lib/python3.10/site-packages/cartopy/mpl/geoaxes.py:403: UserWarning: The `map_projection` keyword argument is deprecated, use `projection` to instantiate a GeoAxes instead.\n",
      "  warnings.warn(\"The `map_projection` keyword argument is \"\n",
      "/Users/beckermr/mambaforge/envs/rubin-sims/lib/python3.10/site-packages/cartopy/mpl/geoaxes.py:403: UserWarning: The `map_projection` keyword argument is deprecated, use `projection` to instantiate a GeoAxes instead.\n",
      "  warnings.warn(\"The `map_projection` keyword argument is \"\n"
     ]
    },
    {
     "name": "stdout",
     "output_type": "stream",
     "text": [
      "[Parallel(n_jobs=8)]: Done 241 tasks      | elapsed: 14.9min\n"
     ]
    },
    {
     "name": "stderr",
     "output_type": "stream",
     "text": [
      "/Users/beckermr/mambaforge/envs/rubin-sims/lib/python3.10/site-packages/cartopy/mpl/geoaxes.py:403: UserWarning: The `map_projection` keyword argument is deprecated, use `projection` to instantiate a GeoAxes instead.\n",
      "  warnings.warn(\"The `map_projection` keyword argument is \"\n",
      "/Users/beckermr/mambaforge/envs/rubin-sims/lib/python3.10/site-packages/cartopy/mpl/geoaxes.py:403: UserWarning: The `map_projection` keyword argument is deprecated, use `projection` to instantiate a GeoAxes instead.\n",
      "  warnings.warn(\"The `map_projection` keyword argument is \"\n"
     ]
    },
    {
     "name": "stdout",
     "output_type": "stream",
     "text": [
      "[Parallel(n_jobs=8)]: Done 242 tasks      | elapsed: 15.0min\n"
     ]
    },
    {
     "name": "stderr",
     "output_type": "stream",
     "text": [
      "/Users/beckermr/mambaforge/envs/rubin-sims/lib/python3.10/site-packages/cartopy/mpl/geoaxes.py:403: UserWarning: The `map_projection` keyword argument is deprecated, use `projection` to instantiate a GeoAxes instead.\n",
      "  warnings.warn(\"The `map_projection` keyword argument is \"\n",
      "/Users/beckermr/mambaforge/envs/rubin-sims/lib/python3.10/site-packages/cartopy/mpl/geoaxes.py:403: UserWarning: The `map_projection` keyword argument is deprecated, use `projection` to instantiate a GeoAxes instead.\n",
      "  warnings.warn(\"The `map_projection` keyword argument is \"\n"
     ]
    },
    {
     "name": "stdout",
     "output_type": "stream",
     "text": [
      "[Parallel(n_jobs=8)]: Done 243 tasks      | elapsed: 15.1min\n"
     ]
    },
    {
     "name": "stderr",
     "output_type": "stream",
     "text": [
      "/Users/beckermr/mambaforge/envs/rubin-sims/lib/python3.10/site-packages/cartopy/mpl/geoaxes.py:403: UserWarning: The `map_projection` keyword argument is deprecated, use `projection` to instantiate a GeoAxes instead.\n",
      "  warnings.warn(\"The `map_projection` keyword argument is \"\n",
      "/Users/beckermr/mambaforge/envs/rubin-sims/lib/python3.10/site-packages/cartopy/mpl/geoaxes.py:403: UserWarning: The `map_projection` keyword argument is deprecated, use `projection` to instantiate a GeoAxes instead.\n",
      "  warnings.warn(\"The `map_projection` keyword argument is \"\n"
     ]
    },
    {
     "name": "stdout",
     "output_type": "stream",
     "text": [
      "[Parallel(n_jobs=8)]: Done 244 tasks      | elapsed: 15.1min\n"
     ]
    },
    {
     "name": "stderr",
     "output_type": "stream",
     "text": [
      "/Users/beckermr/mambaforge/envs/rubin-sims/lib/python3.10/site-packages/cartopy/mpl/geoaxes.py:403: UserWarning: The `map_projection` keyword argument is deprecated, use `projection` to instantiate a GeoAxes instead.\n",
      "  warnings.warn(\"The `map_projection` keyword argument is \"\n",
      "/Users/beckermr/mambaforge/envs/rubin-sims/lib/python3.10/site-packages/cartopy/mpl/geoaxes.py:403: UserWarning: The `map_projection` keyword argument is deprecated, use `projection` to instantiate a GeoAxes instead.\n",
      "  warnings.warn(\"The `map_projection` keyword argument is \"\n"
     ]
    },
    {
     "name": "stdout",
     "output_type": "stream",
     "text": [
      "[Parallel(n_jobs=8)]: Done 245 tasks      | elapsed: 15.1min\n",
      "[Parallel(n_jobs=8)]: Done 246 tasks      | elapsed: 15.1min\n"
     ]
    },
    {
     "name": "stderr",
     "output_type": "stream",
     "text": [
      "/Users/beckermr/mambaforge/envs/rubin-sims/lib/python3.10/site-packages/cartopy/mpl/geoaxes.py:403: UserWarning: The `map_projection` keyword argument is deprecated, use `projection` to instantiate a GeoAxes instead.\n",
      "  warnings.warn(\"The `map_projection` keyword argument is \"\n",
      "/Users/beckermr/mambaforge/envs/rubin-sims/lib/python3.10/site-packages/cartopy/mpl/geoaxes.py:403: UserWarning: The `map_projection` keyword argument is deprecated, use `projection` to instantiate a GeoAxes instead.\n",
      "  warnings.warn(\"The `map_projection` keyword argument is \"\n",
      "/Users/beckermr/mambaforge/envs/rubin-sims/lib/python3.10/site-packages/cartopy/mpl/geoaxes.py:403: UserWarning: The `map_projection` keyword argument is deprecated, use `projection` to instantiate a GeoAxes instead.\n",
      "  warnings.warn(\"The `map_projection` keyword argument is \"\n",
      "/Users/beckermr/mambaforge/envs/rubin-sims/lib/python3.10/site-packages/cartopy/mpl/geoaxes.py:403: UserWarning: The `map_projection` keyword argument is deprecated, use `projection` to instantiate a GeoAxes instead.\n",
      "  warnings.warn(\"The `map_projection` keyword argument is \"\n"
     ]
    },
    {
     "name": "stdout",
     "output_type": "stream",
     "text": [
      "[Parallel(n_jobs=8)]: Done 247 tasks      | elapsed: 15.1min\n"
     ]
    },
    {
     "name": "stderr",
     "output_type": "stream",
     "text": [
      "/Users/beckermr/mambaforge/envs/rubin-sims/lib/python3.10/site-packages/cartopy/mpl/geoaxes.py:403: UserWarning: The `map_projection` keyword argument is deprecated, use `projection` to instantiate a GeoAxes instead.\n",
      "  warnings.warn(\"The `map_projection` keyword argument is \"\n",
      "/Users/beckermr/mambaforge/envs/rubin-sims/lib/python3.10/site-packages/cartopy/mpl/geoaxes.py:403: UserWarning: The `map_projection` keyword argument is deprecated, use `projection` to instantiate a GeoAxes instead.\n",
      "  warnings.warn(\"The `map_projection` keyword argument is \"\n"
     ]
    },
    {
     "name": "stdout",
     "output_type": "stream",
     "text": [
      "[Parallel(n_jobs=8)]: Done 248 tasks      | elapsed: 15.2min\n"
     ]
    },
    {
     "name": "stderr",
     "output_type": "stream",
     "text": [
      "/Users/beckermr/mambaforge/envs/rubin-sims/lib/python3.10/site-packages/cartopy/mpl/geoaxes.py:403: UserWarning: The `map_projection` keyword argument is deprecated, use `projection` to instantiate a GeoAxes instead.\n",
      "  warnings.warn(\"The `map_projection` keyword argument is \"\n",
      "/Users/beckermr/mambaforge/envs/rubin-sims/lib/python3.10/site-packages/cartopy/mpl/geoaxes.py:403: UserWarning: The `map_projection` keyword argument is deprecated, use `projection` to instantiate a GeoAxes instead.\n",
      "  warnings.warn(\"The `map_projection` keyword argument is \"\n"
     ]
    },
    {
     "name": "stdout",
     "output_type": "stream",
     "text": [
      "[Parallel(n_jobs=8)]: Done 249 tasks      | elapsed: 15.5min\n"
     ]
    },
    {
     "name": "stderr",
     "output_type": "stream",
     "text": [
      "/Users/beckermr/mambaforge/envs/rubin-sims/lib/python3.10/site-packages/cartopy/mpl/geoaxes.py:403: UserWarning: The `map_projection` keyword argument is deprecated, use `projection` to instantiate a GeoAxes instead.\n",
      "  warnings.warn(\"The `map_projection` keyword argument is \"\n",
      "/Users/beckermr/mambaforge/envs/rubin-sims/lib/python3.10/site-packages/cartopy/mpl/geoaxes.py:403: UserWarning: The `map_projection` keyword argument is deprecated, use `projection` to instantiate a GeoAxes instead.\n",
      "  warnings.warn(\"The `map_projection` keyword argument is \"\n"
     ]
    },
    {
     "name": "stdout",
     "output_type": "stream",
     "text": [
      "[Parallel(n_jobs=8)]: Done 250 tasks      | elapsed: 15.5min\n"
     ]
    },
    {
     "name": "stderr",
     "output_type": "stream",
     "text": [
      "/Users/beckermr/mambaforge/envs/rubin-sims/lib/python3.10/site-packages/cartopy/mpl/geoaxes.py:403: UserWarning: The `map_projection` keyword argument is deprecated, use `projection` to instantiate a GeoAxes instead.\n",
      "  warnings.warn(\"The `map_projection` keyword argument is \"\n",
      "/Users/beckermr/mambaforge/envs/rubin-sims/lib/python3.10/site-packages/cartopy/mpl/geoaxes.py:403: UserWarning: The `map_projection` keyword argument is deprecated, use `projection` to instantiate a GeoAxes instead.\n",
      "  warnings.warn(\"The `map_projection` keyword argument is \"\n"
     ]
    },
    {
     "name": "stdout",
     "output_type": "stream",
     "text": [
      "[Parallel(n_jobs=8)]: Done 251 tasks      | elapsed: 15.6min\n"
     ]
    },
    {
     "name": "stderr",
     "output_type": "stream",
     "text": [
      "/Users/beckermr/mambaforge/envs/rubin-sims/lib/python3.10/site-packages/cartopy/mpl/geoaxes.py:403: UserWarning: The `map_projection` keyword argument is deprecated, use `projection` to instantiate a GeoAxes instead.\n",
      "  warnings.warn(\"The `map_projection` keyword argument is \"\n",
      "/Users/beckermr/mambaforge/envs/rubin-sims/lib/python3.10/site-packages/cartopy/mpl/geoaxes.py:403: UserWarning: The `map_projection` keyword argument is deprecated, use `projection` to instantiate a GeoAxes instead.\n",
      "  warnings.warn(\"The `map_projection` keyword argument is \"\n"
     ]
    },
    {
     "name": "stdout",
     "output_type": "stream",
     "text": [
      "[Parallel(n_jobs=8)]: Done 252 tasks      | elapsed: 15.6min\n"
     ]
    },
    {
     "name": "stderr",
     "output_type": "stream",
     "text": [
      "/Users/beckermr/mambaforge/envs/rubin-sims/lib/python3.10/site-packages/cartopy/mpl/geoaxes.py:403: UserWarning: The `map_projection` keyword argument is deprecated, use `projection` to instantiate a GeoAxes instead.\n",
      "  warnings.warn(\"The `map_projection` keyword argument is \"\n",
      "/Users/beckermr/mambaforge/envs/rubin-sims/lib/python3.10/site-packages/cartopy/mpl/geoaxes.py:403: UserWarning: The `map_projection` keyword argument is deprecated, use `projection` to instantiate a GeoAxes instead.\n",
      "  warnings.warn(\"The `map_projection` keyword argument is \"\n"
     ]
    },
    {
     "name": "stdout",
     "output_type": "stream",
     "text": [
      "[Parallel(n_jobs=8)]: Done 253 tasks      | elapsed: 15.6min\n",
      "[Parallel(n_jobs=8)]: Done 254 tasks      | elapsed: 15.6min\n"
     ]
    },
    {
     "name": "stderr",
     "output_type": "stream",
     "text": [
      "/Users/beckermr/mambaforge/envs/rubin-sims/lib/python3.10/site-packages/cartopy/mpl/geoaxes.py:403: UserWarning: The `map_projection` keyword argument is deprecated, use `projection` to instantiate a GeoAxes instead.\n",
      "  warnings.warn(\"The `map_projection` keyword argument is \"\n",
      "/Users/beckermr/mambaforge/envs/rubin-sims/lib/python3.10/site-packages/cartopy/mpl/geoaxes.py:403: UserWarning: The `map_projection` keyword argument is deprecated, use `projection` to instantiate a GeoAxes instead.\n",
      "  warnings.warn(\"The `map_projection` keyword argument is \"\n",
      "/Users/beckermr/mambaforge/envs/rubin-sims/lib/python3.10/site-packages/cartopy/mpl/geoaxes.py:403: UserWarning: The `map_projection` keyword argument is deprecated, use `projection` to instantiate a GeoAxes instead.\n",
      "  warnings.warn(\"The `map_projection` keyword argument is \"\n",
      "/Users/beckermr/mambaforge/envs/rubin-sims/lib/python3.10/site-packages/cartopy/mpl/geoaxes.py:403: UserWarning: The `map_projection` keyword argument is deprecated, use `projection` to instantiate a GeoAxes instead.\n",
      "  warnings.warn(\"The `map_projection` keyword argument is \"\n"
     ]
    },
    {
     "name": "stdout",
     "output_type": "stream",
     "text": [
      "[Parallel(n_jobs=8)]: Done 255 tasks      | elapsed: 15.6min\n"
     ]
    },
    {
     "name": "stderr",
     "output_type": "stream",
     "text": [
      "/Users/beckermr/mambaforge/envs/rubin-sims/lib/python3.10/site-packages/cartopy/mpl/geoaxes.py:403: UserWarning: The `map_projection` keyword argument is deprecated, use `projection` to instantiate a GeoAxes instead.\n",
      "  warnings.warn(\"The `map_projection` keyword argument is \"\n",
      "/Users/beckermr/mambaforge/envs/rubin-sims/lib/python3.10/site-packages/cartopy/mpl/geoaxes.py:403: UserWarning: The `map_projection` keyword argument is deprecated, use `projection` to instantiate a GeoAxes instead.\n",
      "  warnings.warn(\"The `map_projection` keyword argument is \"\n"
     ]
    },
    {
     "name": "stdout",
     "output_type": "stream",
     "text": [
      "[Parallel(n_jobs=8)]: Done 256 tasks      | elapsed: 15.6min\n"
     ]
    },
    {
     "name": "stderr",
     "output_type": "stream",
     "text": [
      "/Users/beckermr/mambaforge/envs/rubin-sims/lib/python3.10/site-packages/cartopy/mpl/geoaxes.py:403: UserWarning: The `map_projection` keyword argument is deprecated, use `projection` to instantiate a GeoAxes instead.\n",
      "  warnings.warn(\"The `map_projection` keyword argument is \"\n",
      "/Users/beckermr/mambaforge/envs/rubin-sims/lib/python3.10/site-packages/cartopy/mpl/geoaxes.py:403: UserWarning: The `map_projection` keyword argument is deprecated, use `projection` to instantiate a GeoAxes instead.\n",
      "  warnings.warn(\"The `map_projection` keyword argument is \"\n"
     ]
    },
    {
     "name": "stdout",
     "output_type": "stream",
     "text": [
      "[Parallel(n_jobs=8)]: Done 257 tasks      | elapsed: 15.9min\n"
     ]
    },
    {
     "name": "stderr",
     "output_type": "stream",
     "text": [
      "/Users/beckermr/mambaforge/envs/rubin-sims/lib/python3.10/site-packages/cartopy/mpl/geoaxes.py:403: UserWarning: The `map_projection` keyword argument is deprecated, use `projection` to instantiate a GeoAxes instead.\n",
      "  warnings.warn(\"The `map_projection` keyword argument is \"\n",
      "/Users/beckermr/mambaforge/envs/rubin-sims/lib/python3.10/site-packages/cartopy/mpl/geoaxes.py:403: UserWarning: The `map_projection` keyword argument is deprecated, use `projection` to instantiate a GeoAxes instead.\n",
      "  warnings.warn(\"The `map_projection` keyword argument is \"\n"
     ]
    },
    {
     "name": "stdout",
     "output_type": "stream",
     "text": [
      "[Parallel(n_jobs=8)]: Done 258 tasks      | elapsed: 15.9min\n"
     ]
    },
    {
     "name": "stderr",
     "output_type": "stream",
     "text": [
      "/Users/beckermr/mambaforge/envs/rubin-sims/lib/python3.10/site-packages/cartopy/mpl/geoaxes.py:403: UserWarning: The `map_projection` keyword argument is deprecated, use `projection` to instantiate a GeoAxes instead.\n",
      "  warnings.warn(\"The `map_projection` keyword argument is \"\n",
      "/Users/beckermr/mambaforge/envs/rubin-sims/lib/python3.10/site-packages/cartopy/mpl/geoaxes.py:403: UserWarning: The `map_projection` keyword argument is deprecated, use `projection` to instantiate a GeoAxes instead.\n",
      "  warnings.warn(\"The `map_projection` keyword argument is \"\n"
     ]
    },
    {
     "name": "stdout",
     "output_type": "stream",
     "text": [
      "[Parallel(n_jobs=8)]: Done 259 tasks      | elapsed: 16.0min\n"
     ]
    },
    {
     "name": "stderr",
     "output_type": "stream",
     "text": [
      "/Users/beckermr/mambaforge/envs/rubin-sims/lib/python3.10/site-packages/cartopy/mpl/geoaxes.py:403: UserWarning: The `map_projection` keyword argument is deprecated, use `projection` to instantiate a GeoAxes instead.\n",
      "  warnings.warn(\"The `map_projection` keyword argument is \"\n",
      "/Users/beckermr/mambaforge/envs/rubin-sims/lib/python3.10/site-packages/cartopy/mpl/geoaxes.py:403: UserWarning: The `map_projection` keyword argument is deprecated, use `projection` to instantiate a GeoAxes instead.\n",
      "  warnings.warn(\"The `map_projection` keyword argument is \"\n"
     ]
    },
    {
     "name": "stdout",
     "output_type": "stream",
     "text": [
      "[Parallel(n_jobs=8)]: Done 260 tasks      | elapsed: 16.0min\n",
      "[Parallel(n_jobs=8)]: Done 261 tasks      | elapsed: 16.1min\n",
      "[Parallel(n_jobs=8)]: Done 262 tasks      | elapsed: 16.1min\n"
     ]
    },
    {
     "name": "stderr",
     "output_type": "stream",
     "text": [
      "/Users/beckermr/mambaforge/envs/rubin-sims/lib/python3.10/site-packages/cartopy/mpl/geoaxes.py:403: UserWarning: The `map_projection` keyword argument is deprecated, use `projection` to instantiate a GeoAxes instead.\n",
      "  warnings.warn(\"The `map_projection` keyword argument is \"\n",
      "/Users/beckermr/mambaforge/envs/rubin-sims/lib/python3.10/site-packages/cartopy/mpl/geoaxes.py:403: UserWarning: The `map_projection` keyword argument is deprecated, use `projection` to instantiate a GeoAxes instead.\n",
      "  warnings.warn(\"The `map_projection` keyword argument is \"\n",
      "/Users/beckermr/mambaforge/envs/rubin-sims/lib/python3.10/site-packages/cartopy/mpl/geoaxes.py:403: UserWarning: The `map_projection` keyword argument is deprecated, use `projection` to instantiate a GeoAxes instead.\n",
      "  warnings.warn(\"The `map_projection` keyword argument is \"\n",
      "/Users/beckermr/mambaforge/envs/rubin-sims/lib/python3.10/site-packages/cartopy/mpl/geoaxes.py:403: UserWarning: The `map_projection` keyword argument is deprecated, use `projection` to instantiate a GeoAxes instead.\n",
      "  warnings.warn(\"The `map_projection` keyword argument is \"\n"
     ]
    },
    {
     "name": "stdout",
     "output_type": "stream",
     "text": [
      "[Parallel(n_jobs=8)]: Done 263 tasks      | elapsed: 16.1min\n"
     ]
    },
    {
     "name": "stderr",
     "output_type": "stream",
     "text": [
      "/Users/beckermr/mambaforge/envs/rubin-sims/lib/python3.10/site-packages/cartopy/mpl/geoaxes.py:403: UserWarning: The `map_projection` keyword argument is deprecated, use `projection` to instantiate a GeoAxes instead.\n",
      "  warnings.warn(\"The `map_projection` keyword argument is \"\n",
      "/Users/beckermr/mambaforge/envs/rubin-sims/lib/python3.10/site-packages/cartopy/mpl/geoaxes.py:403: UserWarning: The `map_projection` keyword argument is deprecated, use `projection` to instantiate a GeoAxes instead.\n",
      "  warnings.warn(\"The `map_projection` keyword argument is \"\n",
      "/Users/beckermr/mambaforge/envs/rubin-sims/lib/python3.10/site-packages/cartopy/mpl/geoaxes.py:403: UserWarning: The `map_projection` keyword argument is deprecated, use `projection` to instantiate a GeoAxes instead.\n",
      "  warnings.warn(\"The `map_projection` keyword argument is \"\n",
      "/Users/beckermr/mambaforge/envs/rubin-sims/lib/python3.10/site-packages/cartopy/mpl/geoaxes.py:403: UserWarning: The `map_projection` keyword argument is deprecated, use `projection` to instantiate a GeoAxes instead.\n",
      "  warnings.warn(\"The `map_projection` keyword argument is \"\n"
     ]
    },
    {
     "name": "stdout",
     "output_type": "stream",
     "text": [
      "[Parallel(n_jobs=8)]: Done 264 tasks      | elapsed: 16.1min\n"
     ]
    },
    {
     "name": "stderr",
     "output_type": "stream",
     "text": [
      "/Users/beckermr/mambaforge/envs/rubin-sims/lib/python3.10/site-packages/cartopy/mpl/geoaxes.py:403: UserWarning: The `map_projection` keyword argument is deprecated, use `projection` to instantiate a GeoAxes instead.\n",
      "  warnings.warn(\"The `map_projection` keyword argument is \"\n",
      "/Users/beckermr/mambaforge/envs/rubin-sims/lib/python3.10/site-packages/cartopy/mpl/geoaxes.py:403: UserWarning: The `map_projection` keyword argument is deprecated, use `projection` to instantiate a GeoAxes instead.\n",
      "  warnings.warn(\"The `map_projection` keyword argument is \"\n"
     ]
    },
    {
     "name": "stdout",
     "output_type": "stream",
     "text": [
      "[Parallel(n_jobs=8)]: Done 265 tasks      | elapsed: 16.4min\n"
     ]
    },
    {
     "name": "stderr",
     "output_type": "stream",
     "text": [
      "/Users/beckermr/mambaforge/envs/rubin-sims/lib/python3.10/site-packages/cartopy/mpl/geoaxes.py:403: UserWarning: The `map_projection` keyword argument is deprecated, use `projection` to instantiate a GeoAxes instead.\n",
      "  warnings.warn(\"The `map_projection` keyword argument is \"\n",
      "/Users/beckermr/mambaforge/envs/rubin-sims/lib/python3.10/site-packages/cartopy/mpl/geoaxes.py:403: UserWarning: The `map_projection` keyword argument is deprecated, use `projection` to instantiate a GeoAxes instead.\n",
      "  warnings.warn(\"The `map_projection` keyword argument is \"\n"
     ]
    },
    {
     "name": "stdout",
     "output_type": "stream",
     "text": [
      "[Parallel(n_jobs=8)]: Done 266 tasks      | elapsed: 16.5min\n"
     ]
    },
    {
     "name": "stderr",
     "output_type": "stream",
     "text": [
      "/Users/beckermr/mambaforge/envs/rubin-sims/lib/python3.10/site-packages/cartopy/mpl/geoaxes.py:403: UserWarning: The `map_projection` keyword argument is deprecated, use `projection` to instantiate a GeoAxes instead.\n",
      "  warnings.warn(\"The `map_projection` keyword argument is \"\n",
      "/Users/beckermr/mambaforge/envs/rubin-sims/lib/python3.10/site-packages/cartopy/mpl/geoaxes.py:403: UserWarning: The `map_projection` keyword argument is deprecated, use `projection` to instantiate a GeoAxes instead.\n",
      "  warnings.warn(\"The `map_projection` keyword argument is \"\n"
     ]
    },
    {
     "name": "stdout",
     "output_type": "stream",
     "text": [
      "[Parallel(n_jobs=8)]: Done 267 tasks      | elapsed: 16.5min\n"
     ]
    },
    {
     "name": "stderr",
     "output_type": "stream",
     "text": [
      "/Users/beckermr/mambaforge/envs/rubin-sims/lib/python3.10/site-packages/cartopy/mpl/geoaxes.py:403: UserWarning: The `map_projection` keyword argument is deprecated, use `projection` to instantiate a GeoAxes instead.\n",
      "  warnings.warn(\"The `map_projection` keyword argument is \"\n",
      "/Users/beckermr/mambaforge/envs/rubin-sims/lib/python3.10/site-packages/cartopy/mpl/geoaxes.py:403: UserWarning: The `map_projection` keyword argument is deprecated, use `projection` to instantiate a GeoAxes instead.\n",
      "  warnings.warn(\"The `map_projection` keyword argument is \"\n"
     ]
    },
    {
     "name": "stdout",
     "output_type": "stream",
     "text": [
      "[Parallel(n_jobs=8)]: Done 268 tasks      | elapsed: 16.5min\n"
     ]
    },
    {
     "name": "stderr",
     "output_type": "stream",
     "text": [
      "/Users/beckermr/mambaforge/envs/rubin-sims/lib/python3.10/site-packages/cartopy/mpl/geoaxes.py:403: UserWarning: The `map_projection` keyword argument is deprecated, use `projection` to instantiate a GeoAxes instead.\n",
      "  warnings.warn(\"The `map_projection` keyword argument is \"\n",
      "/Users/beckermr/mambaforge/envs/rubin-sims/lib/python3.10/site-packages/cartopy/mpl/geoaxes.py:403: UserWarning: The `map_projection` keyword argument is deprecated, use `projection` to instantiate a GeoAxes instead.\n",
      "  warnings.warn(\"The `map_projection` keyword argument is \"\n"
     ]
    },
    {
     "name": "stdout",
     "output_type": "stream",
     "text": [
      "[Parallel(n_jobs=8)]: Done 269 tasks      | elapsed: 16.6min\n",
      "[Parallel(n_jobs=8)]: Done 270 tasks      | elapsed: 16.6min\n",
      "[Parallel(n_jobs=8)]: Done 271 tasks      | elapsed: 16.6min\n"
     ]
    },
    {
     "name": "stderr",
     "output_type": "stream",
     "text": [
      "/Users/beckermr/mambaforge/envs/rubin-sims/lib/python3.10/site-packages/cartopy/mpl/geoaxes.py:403: UserWarning: The `map_projection` keyword argument is deprecated, use `projection` to instantiate a GeoAxes instead.\n",
      "  warnings.warn(\"The `map_projection` keyword argument is \"\n",
      "/Users/beckermr/mambaforge/envs/rubin-sims/lib/python3.10/site-packages/cartopy/mpl/geoaxes.py:403: UserWarning: The `map_projection` keyword argument is deprecated, use `projection` to instantiate a GeoAxes instead.\n",
      "  warnings.warn(\"The `map_projection` keyword argument is \"\n"
     ]
    },
    {
     "name": "stdout",
     "output_type": "stream",
     "text": [
      "[Parallel(n_jobs=8)]: Done 272 tasks      | elapsed: 16.6min\n"
     ]
    },
    {
     "name": "stderr",
     "output_type": "stream",
     "text": [
      "/Users/beckermr/mambaforge/envs/rubin-sims/lib/python3.10/site-packages/cartopy/mpl/geoaxes.py:403: UserWarning: The `map_projection` keyword argument is deprecated, use `projection` to instantiate a GeoAxes instead.\n",
      "  warnings.warn(\"The `map_projection` keyword argument is \"\n",
      "/Users/beckermr/mambaforge/envs/rubin-sims/lib/python3.10/site-packages/cartopy/mpl/geoaxes.py:403: UserWarning: The `map_projection` keyword argument is deprecated, use `projection` to instantiate a GeoAxes instead.\n",
      "  warnings.warn(\"The `map_projection` keyword argument is \"\n",
      "/Users/beckermr/mambaforge/envs/rubin-sims/lib/python3.10/site-packages/cartopy/mpl/geoaxes.py:403: UserWarning: The `map_projection` keyword argument is deprecated, use `projection` to instantiate a GeoAxes instead.\n",
      "  warnings.warn(\"The `map_projection` keyword argument is \"\n",
      "/Users/beckermr/mambaforge/envs/rubin-sims/lib/python3.10/site-packages/cartopy/mpl/geoaxes.py:403: UserWarning: The `map_projection` keyword argument is deprecated, use `projection` to instantiate a GeoAxes instead.\n",
      "  warnings.warn(\"The `map_projection` keyword argument is \"\n",
      "/Users/beckermr/mambaforge/envs/rubin-sims/lib/python3.10/site-packages/cartopy/mpl/geoaxes.py:403: UserWarning: The `map_projection` keyword argument is deprecated, use `projection` to instantiate a GeoAxes instead.\n",
      "  warnings.warn(\"The `map_projection` keyword argument is \"\n",
      "/Users/beckermr/mambaforge/envs/rubin-sims/lib/python3.10/site-packages/cartopy/mpl/geoaxes.py:403: UserWarning: The `map_projection` keyword argument is deprecated, use `projection` to instantiate a GeoAxes instead.\n",
      "  warnings.warn(\"The `map_projection` keyword argument is \"\n"
     ]
    },
    {
     "name": "stdout",
     "output_type": "stream",
     "text": [
      "[Parallel(n_jobs=8)]: Done 273 tasks      | elapsed: 16.9min\n",
      "[Parallel(n_jobs=8)]: Done 274 tasks      | elapsed: 16.9min\n"
     ]
    },
    {
     "name": "stderr",
     "output_type": "stream",
     "text": [
      "/Users/beckermr/mambaforge/envs/rubin-sims/lib/python3.10/site-packages/cartopy/mpl/geoaxes.py:403: UserWarning: The `map_projection` keyword argument is deprecated, use `projection` to instantiate a GeoAxes instead.\n",
      "  warnings.warn(\"The `map_projection` keyword argument is \"\n",
      "/Users/beckermr/mambaforge/envs/rubin-sims/lib/python3.10/site-packages/cartopy/mpl/geoaxes.py:403: UserWarning: The `map_projection` keyword argument is deprecated, use `projection` to instantiate a GeoAxes instead.\n",
      "  warnings.warn(\"The `map_projection` keyword argument is \"\n",
      "/Users/beckermr/mambaforge/envs/rubin-sims/lib/python3.10/site-packages/cartopy/mpl/geoaxes.py:403: UserWarning: The `map_projection` keyword argument is deprecated, use `projection` to instantiate a GeoAxes instead.\n",
      "  warnings.warn(\"The `map_projection` keyword argument is \"\n",
      "/Users/beckermr/mambaforge/envs/rubin-sims/lib/python3.10/site-packages/cartopy/mpl/geoaxes.py:403: UserWarning: The `map_projection` keyword argument is deprecated, use `projection` to instantiate a GeoAxes instead.\n",
      "  warnings.warn(\"The `map_projection` keyword argument is \"\n"
     ]
    },
    {
     "name": "stdout",
     "output_type": "stream",
     "text": [
      "[Parallel(n_jobs=8)]: Done 275 tasks      | elapsed: 17.0min\n"
     ]
    },
    {
     "name": "stderr",
     "output_type": "stream",
     "text": [
      "/Users/beckermr/mambaforge/envs/rubin-sims/lib/python3.10/site-packages/cartopy/mpl/geoaxes.py:403: UserWarning: The `map_projection` keyword argument is deprecated, use `projection` to instantiate a GeoAxes instead.\n",
      "  warnings.warn(\"The `map_projection` keyword argument is \"\n",
      "/Users/beckermr/mambaforge/envs/rubin-sims/lib/python3.10/site-packages/cartopy/mpl/geoaxes.py:403: UserWarning: The `map_projection` keyword argument is deprecated, use `projection` to instantiate a GeoAxes instead.\n",
      "  warnings.warn(\"The `map_projection` keyword argument is \"\n"
     ]
    },
    {
     "name": "stdout",
     "output_type": "stream",
     "text": [
      "[Parallel(n_jobs=8)]: Done 276 tasks      | elapsed: 17.0min\n",
      "[Parallel(n_jobs=8)]: Done 277 tasks      | elapsed: 17.1min\n"
     ]
    },
    {
     "name": "stderr",
     "output_type": "stream",
     "text": [
      "/Users/beckermr/mambaforge/envs/rubin-sims/lib/python3.10/site-packages/cartopy/mpl/geoaxes.py:403: UserWarning: The `map_projection` keyword argument is deprecated, use `projection` to instantiate a GeoAxes instead.\n",
      "  warnings.warn(\"The `map_projection` keyword argument is \"\n",
      "/Users/beckermr/mambaforge/envs/rubin-sims/lib/python3.10/site-packages/cartopy/mpl/geoaxes.py:403: UserWarning: The `map_projection` keyword argument is deprecated, use `projection` to instantiate a GeoAxes instead.\n",
      "  warnings.warn(\"The `map_projection` keyword argument is \"\n",
      "/Users/beckermr/mambaforge/envs/rubin-sims/lib/python3.10/site-packages/cartopy/mpl/geoaxes.py:403: UserWarning: The `map_projection` keyword argument is deprecated, use `projection` to instantiate a GeoAxes instead.\n",
      "  warnings.warn(\"The `map_projection` keyword argument is \"\n",
      "/Users/beckermr/mambaforge/envs/rubin-sims/lib/python3.10/site-packages/cartopy/mpl/geoaxes.py:403: UserWarning: The `map_projection` keyword argument is deprecated, use `projection` to instantiate a GeoAxes instead.\n",
      "  warnings.warn(\"The `map_projection` keyword argument is \"\n"
     ]
    },
    {
     "name": "stdout",
     "output_type": "stream",
     "text": [
      "[Parallel(n_jobs=8)]: Done 278 tasks      | elapsed: 17.1min\n"
     ]
    },
    {
     "name": "stderr",
     "output_type": "stream",
     "text": [
      "/Users/beckermr/mambaforge/envs/rubin-sims/lib/python3.10/site-packages/cartopy/mpl/geoaxes.py:403: UserWarning: The `map_projection` keyword argument is deprecated, use `projection` to instantiate a GeoAxes instead.\n",
      "  warnings.warn(\"The `map_projection` keyword argument is \"\n",
      "/Users/beckermr/mambaforge/envs/rubin-sims/lib/python3.10/site-packages/cartopy/mpl/geoaxes.py:403: UserWarning: The `map_projection` keyword argument is deprecated, use `projection` to instantiate a GeoAxes instead.\n",
      "  warnings.warn(\"The `map_projection` keyword argument is \"\n"
     ]
    },
    {
     "name": "stdout",
     "output_type": "stream",
     "text": [
      "[Parallel(n_jobs=8)]: Done 279 tasks      | elapsed: 17.1min\n"
     ]
    },
    {
     "name": "stderr",
     "output_type": "stream",
     "text": [
      "/Users/beckermr/mambaforge/envs/rubin-sims/lib/python3.10/site-packages/cartopy/mpl/geoaxes.py:403: UserWarning: The `map_projection` keyword argument is deprecated, use `projection` to instantiate a GeoAxes instead.\n",
      "  warnings.warn(\"The `map_projection` keyword argument is \"\n",
      "/Users/beckermr/mambaforge/envs/rubin-sims/lib/python3.10/site-packages/cartopy/mpl/geoaxes.py:403: UserWarning: The `map_projection` keyword argument is deprecated, use `projection` to instantiate a GeoAxes instead.\n",
      "  warnings.warn(\"The `map_projection` keyword argument is \"\n"
     ]
    },
    {
     "name": "stdout",
     "output_type": "stream",
     "text": [
      "[Parallel(n_jobs=8)]: Done 280 tasks      | elapsed: 17.2min\n"
     ]
    },
    {
     "name": "stderr",
     "output_type": "stream",
     "text": [
      "/Users/beckermr/mambaforge/envs/rubin-sims/lib/python3.10/site-packages/cartopy/mpl/geoaxes.py:403: UserWarning: The `map_projection` keyword argument is deprecated, use `projection` to instantiate a GeoAxes instead.\n",
      "  warnings.warn(\"The `map_projection` keyword argument is \"\n",
      "/Users/beckermr/mambaforge/envs/rubin-sims/lib/python3.10/site-packages/cartopy/mpl/geoaxes.py:403: UserWarning: The `map_projection` keyword argument is deprecated, use `projection` to instantiate a GeoAxes instead.\n",
      "  warnings.warn(\"The `map_projection` keyword argument is \"\n"
     ]
    },
    {
     "name": "stdout",
     "output_type": "stream",
     "text": [
      "[Parallel(n_jobs=8)]: Done 281 tasks      | elapsed: 17.5min\n"
     ]
    },
    {
     "name": "stderr",
     "output_type": "stream",
     "text": [
      "/Users/beckermr/mambaforge/envs/rubin-sims/lib/python3.10/site-packages/cartopy/mpl/geoaxes.py:403: UserWarning: The `map_projection` keyword argument is deprecated, use `projection` to instantiate a GeoAxes instead.\n",
      "  warnings.warn(\"The `map_projection` keyword argument is \"\n",
      "/Users/beckermr/mambaforge/envs/rubin-sims/lib/python3.10/site-packages/cartopy/mpl/geoaxes.py:403: UserWarning: The `map_projection` keyword argument is deprecated, use `projection` to instantiate a GeoAxes instead.\n",
      "  warnings.warn(\"The `map_projection` keyword argument is \"\n"
     ]
    },
    {
     "name": "stdout",
     "output_type": "stream",
     "text": [
      "[Parallel(n_jobs=8)]: Done 282 tasks      | elapsed: 17.5min\n"
     ]
    },
    {
     "name": "stderr",
     "output_type": "stream",
     "text": [
      "/Users/beckermr/mambaforge/envs/rubin-sims/lib/python3.10/site-packages/cartopy/mpl/geoaxes.py:403: UserWarning: The `map_projection` keyword argument is deprecated, use `projection` to instantiate a GeoAxes instead.\n",
      "  warnings.warn(\"The `map_projection` keyword argument is \"\n",
      "/Users/beckermr/mambaforge/envs/rubin-sims/lib/python3.10/site-packages/cartopy/mpl/geoaxes.py:403: UserWarning: The `map_projection` keyword argument is deprecated, use `projection` to instantiate a GeoAxes instead.\n",
      "  warnings.warn(\"The `map_projection` keyword argument is \"\n"
     ]
    },
    {
     "name": "stdout",
     "output_type": "stream",
     "text": [
      "[Parallel(n_jobs=8)]: Done 283 tasks      | elapsed: 17.6min\n"
     ]
    },
    {
     "name": "stderr",
     "output_type": "stream",
     "text": [
      "/Users/beckermr/mambaforge/envs/rubin-sims/lib/python3.10/site-packages/cartopy/mpl/geoaxes.py:403: UserWarning: The `map_projection` keyword argument is deprecated, use `projection` to instantiate a GeoAxes instead.\n",
      "  warnings.warn(\"The `map_projection` keyword argument is \"\n",
      "/Users/beckermr/mambaforge/envs/rubin-sims/lib/python3.10/site-packages/cartopy/mpl/geoaxes.py:403: UserWarning: The `map_projection` keyword argument is deprecated, use `projection` to instantiate a GeoAxes instead.\n",
      "  warnings.warn(\"The `map_projection` keyword argument is \"\n"
     ]
    },
    {
     "name": "stdout",
     "output_type": "stream",
     "text": [
      "[Parallel(n_jobs=8)]: Done 284 tasks      | elapsed: 17.6min\n"
     ]
    },
    {
     "name": "stderr",
     "output_type": "stream",
     "text": [
      "/Users/beckermr/mambaforge/envs/rubin-sims/lib/python3.10/site-packages/cartopy/mpl/geoaxes.py:403: UserWarning: The `map_projection` keyword argument is deprecated, use `projection` to instantiate a GeoAxes instead.\n",
      "  warnings.warn(\"The `map_projection` keyword argument is \"\n",
      "/Users/beckermr/mambaforge/envs/rubin-sims/lib/python3.10/site-packages/cartopy/mpl/geoaxes.py:403: UserWarning: The `map_projection` keyword argument is deprecated, use `projection` to instantiate a GeoAxes instead.\n",
      "  warnings.warn(\"The `map_projection` keyword argument is \"\n"
     ]
    },
    {
     "name": "stdout",
     "output_type": "stream",
     "text": [
      "[Parallel(n_jobs=8)]: Done 285 tasks      | elapsed: 17.6min\n"
     ]
    },
    {
     "name": "stderr",
     "output_type": "stream",
     "text": [
      "/Users/beckermr/mambaforge/envs/rubin-sims/lib/python3.10/site-packages/cartopy/mpl/geoaxes.py:403: UserWarning: The `map_projection` keyword argument is deprecated, use `projection` to instantiate a GeoAxes instead.\n",
      "  warnings.warn(\"The `map_projection` keyword argument is \"\n",
      "/Users/beckermr/mambaforge/envs/rubin-sims/lib/python3.10/site-packages/cartopy/mpl/geoaxes.py:403: UserWarning: The `map_projection` keyword argument is deprecated, use `projection` to instantiate a GeoAxes instead.\n",
      "  warnings.warn(\"The `map_projection` keyword argument is \"\n"
     ]
    },
    {
     "name": "stdout",
     "output_type": "stream",
     "text": [
      "[Parallel(n_jobs=8)]: Done 286 tasks      | elapsed: 17.7min\n"
     ]
    },
    {
     "name": "stderr",
     "output_type": "stream",
     "text": [
      "/Users/beckermr/mambaforge/envs/rubin-sims/lib/python3.10/site-packages/cartopy/mpl/geoaxes.py:403: UserWarning: The `map_projection` keyword argument is deprecated, use `projection` to instantiate a GeoAxes instead.\n",
      "  warnings.warn(\"The `map_projection` keyword argument is \"\n",
      "/Users/beckermr/mambaforge/envs/rubin-sims/lib/python3.10/site-packages/cartopy/mpl/geoaxes.py:403: UserWarning: The `map_projection` keyword argument is deprecated, use `projection` to instantiate a GeoAxes instead.\n",
      "  warnings.warn(\"The `map_projection` keyword argument is \"\n"
     ]
    },
    {
     "name": "stdout",
     "output_type": "stream",
     "text": [
      "[Parallel(n_jobs=8)]: Done 287 tasks      | elapsed: 17.7min\n"
     ]
    },
    {
     "name": "stderr",
     "output_type": "stream",
     "text": [
      "/Users/beckermr/mambaforge/envs/rubin-sims/lib/python3.10/site-packages/cartopy/mpl/geoaxes.py:403: UserWarning: The `map_projection` keyword argument is deprecated, use `projection` to instantiate a GeoAxes instead.\n",
      "  warnings.warn(\"The `map_projection` keyword argument is \"\n",
      "/Users/beckermr/mambaforge/envs/rubin-sims/lib/python3.10/site-packages/cartopy/mpl/geoaxes.py:403: UserWarning: The `map_projection` keyword argument is deprecated, use `projection` to instantiate a GeoAxes instead.\n",
      "  warnings.warn(\"The `map_projection` keyword argument is \"\n"
     ]
    },
    {
     "name": "stdout",
     "output_type": "stream",
     "text": [
      "[Parallel(n_jobs=8)]: Done 288 tasks      | elapsed: 17.7min\n"
     ]
    },
    {
     "name": "stderr",
     "output_type": "stream",
     "text": [
      "/Users/beckermr/mambaforge/envs/rubin-sims/lib/python3.10/site-packages/cartopy/mpl/geoaxes.py:403: UserWarning: The `map_projection` keyword argument is deprecated, use `projection` to instantiate a GeoAxes instead.\n",
      "  warnings.warn(\"The `map_projection` keyword argument is \"\n",
      "/Users/beckermr/mambaforge/envs/rubin-sims/lib/python3.10/site-packages/cartopy/mpl/geoaxes.py:403: UserWarning: The `map_projection` keyword argument is deprecated, use `projection` to instantiate a GeoAxes instead.\n",
      "  warnings.warn(\"The `map_projection` keyword argument is \"\n"
     ]
    },
    {
     "name": "stdout",
     "output_type": "stream",
     "text": [
      "[Parallel(n_jobs=8)]: Done 289 tasks      | elapsed: 18.0min\n"
     ]
    },
    {
     "name": "stderr",
     "output_type": "stream",
     "text": [
      "/Users/beckermr/mambaforge/envs/rubin-sims/lib/python3.10/site-packages/cartopy/mpl/geoaxes.py:403: UserWarning: The `map_projection` keyword argument is deprecated, use `projection` to instantiate a GeoAxes instead.\n",
      "  warnings.warn(\"The `map_projection` keyword argument is \"\n",
      "/Users/beckermr/mambaforge/envs/rubin-sims/lib/python3.10/site-packages/cartopy/mpl/geoaxes.py:403: UserWarning: The `map_projection` keyword argument is deprecated, use `projection` to instantiate a GeoAxes instead.\n",
      "  warnings.warn(\"The `map_projection` keyword argument is \"\n"
     ]
    },
    {
     "name": "stdout",
     "output_type": "stream",
     "text": [
      "[Parallel(n_jobs=8)]: Done 290 tasks      | elapsed: 18.0min\n"
     ]
    },
    {
     "name": "stderr",
     "output_type": "stream",
     "text": [
      "/Users/beckermr/mambaforge/envs/rubin-sims/lib/python3.10/site-packages/cartopy/mpl/geoaxes.py:403: UserWarning: The `map_projection` keyword argument is deprecated, use `projection` to instantiate a GeoAxes instead.\n",
      "  warnings.warn(\"The `map_projection` keyword argument is \"\n",
      "/Users/beckermr/mambaforge/envs/rubin-sims/lib/python3.10/site-packages/cartopy/mpl/geoaxes.py:403: UserWarning: The `map_projection` keyword argument is deprecated, use `projection` to instantiate a GeoAxes instead.\n",
      "  warnings.warn(\"The `map_projection` keyword argument is \"\n"
     ]
    },
    {
     "name": "stdout",
     "output_type": "stream",
     "text": [
      "[Parallel(n_jobs=8)]: Done 291 tasks      | elapsed: 18.1min\n"
     ]
    },
    {
     "name": "stderr",
     "output_type": "stream",
     "text": [
      "/Users/beckermr/mambaforge/envs/rubin-sims/lib/python3.10/site-packages/cartopy/mpl/geoaxes.py:403: UserWarning: The `map_projection` keyword argument is deprecated, use `projection` to instantiate a GeoAxes instead.\n",
      "  warnings.warn(\"The `map_projection` keyword argument is \"\n",
      "/Users/beckermr/mambaforge/envs/rubin-sims/lib/python3.10/site-packages/cartopy/mpl/geoaxes.py:403: UserWarning: The `map_projection` keyword argument is deprecated, use `projection` to instantiate a GeoAxes instead.\n",
      "  warnings.warn(\"The `map_projection` keyword argument is \"\n"
     ]
    },
    {
     "name": "stdout",
     "output_type": "stream",
     "text": [
      "[Parallel(n_jobs=8)]: Done 292 tasks      | elapsed: 18.1min\n"
     ]
    },
    {
     "name": "stderr",
     "output_type": "stream",
     "text": [
      "/Users/beckermr/mambaforge/envs/rubin-sims/lib/python3.10/site-packages/cartopy/mpl/geoaxes.py:403: UserWarning: The `map_projection` keyword argument is deprecated, use `projection` to instantiate a GeoAxes instead.\n",
      "  warnings.warn(\"The `map_projection` keyword argument is \"\n",
      "/Users/beckermr/mambaforge/envs/rubin-sims/lib/python3.10/site-packages/cartopy/mpl/geoaxes.py:403: UserWarning: The `map_projection` keyword argument is deprecated, use `projection` to instantiate a GeoAxes instead.\n",
      "  warnings.warn(\"The `map_projection` keyword argument is \"\n"
     ]
    },
    {
     "name": "stdout",
     "output_type": "stream",
     "text": [
      "[Parallel(n_jobs=8)]: Done 293 tasks      | elapsed: 18.1min\n",
      "[Parallel(n_jobs=8)]: Done 294 tasks      | elapsed: 18.1min\n"
     ]
    },
    {
     "name": "stderr",
     "output_type": "stream",
     "text": [
      "/Users/beckermr/mambaforge/envs/rubin-sims/lib/python3.10/site-packages/cartopy/mpl/geoaxes.py:403: UserWarning: The `map_projection` keyword argument is deprecated, use `projection` to instantiate a GeoAxes instead.\n",
      "  warnings.warn(\"The `map_projection` keyword argument is \"\n",
      "/Users/beckermr/mambaforge/envs/rubin-sims/lib/python3.10/site-packages/cartopy/mpl/geoaxes.py:403: UserWarning: The `map_projection` keyword argument is deprecated, use `projection` to instantiate a GeoAxes instead.\n",
      "  warnings.warn(\"The `map_projection` keyword argument is \"\n",
      "/Users/beckermr/mambaforge/envs/rubin-sims/lib/python3.10/site-packages/cartopy/mpl/geoaxes.py:403: UserWarning: The `map_projection` keyword argument is deprecated, use `projection` to instantiate a GeoAxes instead.\n",
      "  warnings.warn(\"The `map_projection` keyword argument is \"\n",
      "/Users/beckermr/mambaforge/envs/rubin-sims/lib/python3.10/site-packages/cartopy/mpl/geoaxes.py:403: UserWarning: The `map_projection` keyword argument is deprecated, use `projection` to instantiate a GeoAxes instead.\n",
      "  warnings.warn(\"The `map_projection` keyword argument is \"\n"
     ]
    },
    {
     "name": "stdout",
     "output_type": "stream",
     "text": [
      "[Parallel(n_jobs=8)]: Done 295 tasks      | elapsed: 18.2min\n",
      "[Parallel(n_jobs=8)]: Done 296 tasks      | elapsed: 18.2min\n"
     ]
    },
    {
     "name": "stderr",
     "output_type": "stream",
     "text": [
      "/Users/beckermr/mambaforge/envs/rubin-sims/lib/python3.10/site-packages/cartopy/mpl/geoaxes.py:403: UserWarning: The `map_projection` keyword argument is deprecated, use `projection` to instantiate a GeoAxes instead.\n",
      "  warnings.warn(\"The `map_projection` keyword argument is \"\n",
      "/Users/beckermr/mambaforge/envs/rubin-sims/lib/python3.10/site-packages/cartopy/mpl/geoaxes.py:403: UserWarning: The `map_projection` keyword argument is deprecated, use `projection` to instantiate a GeoAxes instead.\n",
      "  warnings.warn(\"The `map_projection` keyword argument is \"\n",
      "/Users/beckermr/mambaforge/envs/rubin-sims/lib/python3.10/site-packages/cartopy/mpl/geoaxes.py:403: UserWarning: The `map_projection` keyword argument is deprecated, use `projection` to instantiate a GeoAxes instead.\n",
      "  warnings.warn(\"The `map_projection` keyword argument is \"\n",
      "/Users/beckermr/mambaforge/envs/rubin-sims/lib/python3.10/site-packages/cartopy/mpl/geoaxes.py:403: UserWarning: The `map_projection` keyword argument is deprecated, use `projection` to instantiate a GeoAxes instead.\n",
      "  warnings.warn(\"The `map_projection` keyword argument is \"\n"
     ]
    },
    {
     "name": "stdout",
     "output_type": "stream",
     "text": [
      "[Parallel(n_jobs=8)]: Done 297 tasks      | elapsed: 18.4min\n"
     ]
    },
    {
     "name": "stderr",
     "output_type": "stream",
     "text": [
      "/Users/beckermr/mambaforge/envs/rubin-sims/lib/python3.10/site-packages/cartopy/mpl/geoaxes.py:403: UserWarning: The `map_projection` keyword argument is deprecated, use `projection` to instantiate a GeoAxes instead.\n",
      "  warnings.warn(\"The `map_projection` keyword argument is \"\n",
      "/Users/beckermr/mambaforge/envs/rubin-sims/lib/python3.10/site-packages/cartopy/mpl/geoaxes.py:403: UserWarning: The `map_projection` keyword argument is deprecated, use `projection` to instantiate a GeoAxes instead.\n",
      "  warnings.warn(\"The `map_projection` keyword argument is \"\n"
     ]
    },
    {
     "name": "stdout",
     "output_type": "stream",
     "text": [
      "[Parallel(n_jobs=8)]: Done 298 tasks      | elapsed: 18.5min\n"
     ]
    },
    {
     "name": "stderr",
     "output_type": "stream",
     "text": [
      "/Users/beckermr/mambaforge/envs/rubin-sims/lib/python3.10/site-packages/cartopy/mpl/geoaxes.py:403: UserWarning: The `map_projection` keyword argument is deprecated, use `projection` to instantiate a GeoAxes instead.\n",
      "  warnings.warn(\"The `map_projection` keyword argument is \"\n",
      "/Users/beckermr/mambaforge/envs/rubin-sims/lib/python3.10/site-packages/cartopy/mpl/geoaxes.py:403: UserWarning: The `map_projection` keyword argument is deprecated, use `projection` to instantiate a GeoAxes instead.\n",
      "  warnings.warn(\"The `map_projection` keyword argument is \"\n"
     ]
    },
    {
     "name": "stdout",
     "output_type": "stream",
     "text": [
      "[Parallel(n_jobs=8)]: Done 299 tasks      | elapsed: 18.6min\n"
     ]
    },
    {
     "name": "stderr",
     "output_type": "stream",
     "text": [
      "/Users/beckermr/mambaforge/envs/rubin-sims/lib/python3.10/site-packages/cartopy/mpl/geoaxes.py:403: UserWarning: The `map_projection` keyword argument is deprecated, use `projection` to instantiate a GeoAxes instead.\n",
      "  warnings.warn(\"The `map_projection` keyword argument is \"\n",
      "/Users/beckermr/mambaforge/envs/rubin-sims/lib/python3.10/site-packages/cartopy/mpl/geoaxes.py:403: UserWarning: The `map_projection` keyword argument is deprecated, use `projection` to instantiate a GeoAxes instead.\n",
      "  warnings.warn(\"The `map_projection` keyword argument is \"\n"
     ]
    },
    {
     "name": "stdout",
     "output_type": "stream",
     "text": [
      "[Parallel(n_jobs=8)]: Done 300 tasks      | elapsed: 18.6min\n"
     ]
    },
    {
     "name": "stderr",
     "output_type": "stream",
     "text": [
      "/Users/beckermr/mambaforge/envs/rubin-sims/lib/python3.10/site-packages/cartopy/mpl/geoaxes.py:403: UserWarning: The `map_projection` keyword argument is deprecated, use `projection` to instantiate a GeoAxes instead.\n",
      "  warnings.warn(\"The `map_projection` keyword argument is \"\n",
      "/Users/beckermr/mambaforge/envs/rubin-sims/lib/python3.10/site-packages/cartopy/mpl/geoaxes.py:403: UserWarning: The `map_projection` keyword argument is deprecated, use `projection` to instantiate a GeoAxes instead.\n",
      "  warnings.warn(\"The `map_projection` keyword argument is \"\n"
     ]
    },
    {
     "name": "stdout",
     "output_type": "stream",
     "text": [
      "[Parallel(n_jobs=8)]: Done 301 tasks      | elapsed: 18.6min\n"
     ]
    },
    {
     "name": "stderr",
     "output_type": "stream",
     "text": [
      "/Users/beckermr/mambaforge/envs/rubin-sims/lib/python3.10/site-packages/cartopy/mpl/geoaxes.py:403: UserWarning: The `map_projection` keyword argument is deprecated, use `projection` to instantiate a GeoAxes instead.\n",
      "  warnings.warn(\"The `map_projection` keyword argument is \"\n",
      "/Users/beckermr/mambaforge/envs/rubin-sims/lib/python3.10/site-packages/cartopy/mpl/geoaxes.py:403: UserWarning: The `map_projection` keyword argument is deprecated, use `projection` to instantiate a GeoAxes instead.\n",
      "  warnings.warn(\"The `map_projection` keyword argument is \"\n"
     ]
    },
    {
     "name": "stdout",
     "output_type": "stream",
     "text": [
      "[Parallel(n_jobs=8)]: Done 302 tasks      | elapsed: 18.6min\n"
     ]
    },
    {
     "name": "stderr",
     "output_type": "stream",
     "text": [
      "/Users/beckermr/mambaforge/envs/rubin-sims/lib/python3.10/site-packages/cartopy/mpl/geoaxes.py:403: UserWarning: The `map_projection` keyword argument is deprecated, use `projection` to instantiate a GeoAxes instead.\n",
      "  warnings.warn(\"The `map_projection` keyword argument is \"\n",
      "/Users/beckermr/mambaforge/envs/rubin-sims/lib/python3.10/site-packages/cartopy/mpl/geoaxes.py:403: UserWarning: The `map_projection` keyword argument is deprecated, use `projection` to instantiate a GeoAxes instead.\n",
      "  warnings.warn(\"The `map_projection` keyword argument is \"\n"
     ]
    },
    {
     "name": "stdout",
     "output_type": "stream",
     "text": [
      "[Parallel(n_jobs=8)]: Done 303 tasks      | elapsed: 18.6min\n"
     ]
    },
    {
     "name": "stderr",
     "output_type": "stream",
     "text": [
      "/Users/beckermr/mambaforge/envs/rubin-sims/lib/python3.10/site-packages/cartopy/mpl/geoaxes.py:403: UserWarning: The `map_projection` keyword argument is deprecated, use `projection` to instantiate a GeoAxes instead.\n",
      "  warnings.warn(\"The `map_projection` keyword argument is \"\n",
      "/Users/beckermr/mambaforge/envs/rubin-sims/lib/python3.10/site-packages/cartopy/mpl/geoaxes.py:403: UserWarning: The `map_projection` keyword argument is deprecated, use `projection` to instantiate a GeoAxes instead.\n",
      "  warnings.warn(\"The `map_projection` keyword argument is \"\n"
     ]
    },
    {
     "name": "stdout",
     "output_type": "stream",
     "text": [
      "[Parallel(n_jobs=8)]: Done 304 tasks      | elapsed: 18.7min\n"
     ]
    },
    {
     "name": "stderr",
     "output_type": "stream",
     "text": [
      "/Users/beckermr/mambaforge/envs/rubin-sims/lib/python3.10/site-packages/cartopy/mpl/geoaxes.py:403: UserWarning: The `map_projection` keyword argument is deprecated, use `projection` to instantiate a GeoAxes instead.\n",
      "  warnings.warn(\"The `map_projection` keyword argument is \"\n",
      "/Users/beckermr/mambaforge/envs/rubin-sims/lib/python3.10/site-packages/cartopy/mpl/geoaxes.py:403: UserWarning: The `map_projection` keyword argument is deprecated, use `projection` to instantiate a GeoAxes instead.\n",
      "  warnings.warn(\"The `map_projection` keyword argument is \"\n"
     ]
    },
    {
     "name": "stdout",
     "output_type": "stream",
     "text": [
      "[Parallel(n_jobs=8)]: Done 305 tasks      | elapsed: 18.9min\n"
     ]
    },
    {
     "name": "stderr",
     "output_type": "stream",
     "text": [
      "/Users/beckermr/mambaforge/envs/rubin-sims/lib/python3.10/site-packages/cartopy/mpl/geoaxes.py:403: UserWarning: The `map_projection` keyword argument is deprecated, use `projection` to instantiate a GeoAxes instead.\n",
      "  warnings.warn(\"The `map_projection` keyword argument is \"\n",
      "/Users/beckermr/mambaforge/envs/rubin-sims/lib/python3.10/site-packages/cartopy/mpl/geoaxes.py:403: UserWarning: The `map_projection` keyword argument is deprecated, use `projection` to instantiate a GeoAxes instead.\n",
      "  warnings.warn(\"The `map_projection` keyword argument is \"\n"
     ]
    },
    {
     "name": "stdout",
     "output_type": "stream",
     "text": [
      "[Parallel(n_jobs=8)]: Done 306 tasks      | elapsed: 18.9min\n"
     ]
    },
    {
     "name": "stderr",
     "output_type": "stream",
     "text": [
      "/Users/beckermr/mambaforge/envs/rubin-sims/lib/python3.10/site-packages/cartopy/mpl/geoaxes.py:403: UserWarning: The `map_projection` keyword argument is deprecated, use `projection` to instantiate a GeoAxes instead.\n",
      "  warnings.warn(\"The `map_projection` keyword argument is \"\n",
      "/Users/beckermr/mambaforge/envs/rubin-sims/lib/python3.10/site-packages/cartopy/mpl/geoaxes.py:403: UserWarning: The `map_projection` keyword argument is deprecated, use `projection` to instantiate a GeoAxes instead.\n",
      "  warnings.warn(\"The `map_projection` keyword argument is \"\n"
     ]
    },
    {
     "name": "stdout",
     "output_type": "stream",
     "text": [
      "[Parallel(n_jobs=8)]: Done 307 tasks      | elapsed: 19.1min\n"
     ]
    },
    {
     "name": "stderr",
     "output_type": "stream",
     "text": [
      "/Users/beckermr/mambaforge/envs/rubin-sims/lib/python3.10/site-packages/cartopy/mpl/geoaxes.py:403: UserWarning: The `map_projection` keyword argument is deprecated, use `projection` to instantiate a GeoAxes instead.\n",
      "  warnings.warn(\"The `map_projection` keyword argument is \"\n",
      "/Users/beckermr/mambaforge/envs/rubin-sims/lib/python3.10/site-packages/cartopy/mpl/geoaxes.py:403: UserWarning: The `map_projection` keyword argument is deprecated, use `projection` to instantiate a GeoAxes instead.\n",
      "  warnings.warn(\"The `map_projection` keyword argument is \"\n"
     ]
    },
    {
     "name": "stdout",
     "output_type": "stream",
     "text": [
      "[Parallel(n_jobs=8)]: Done 308 tasks      | elapsed: 19.1min\n"
     ]
    },
    {
     "name": "stderr",
     "output_type": "stream",
     "text": [
      "/Users/beckermr/mambaforge/envs/rubin-sims/lib/python3.10/site-packages/cartopy/mpl/geoaxes.py:403: UserWarning: The `map_projection` keyword argument is deprecated, use `projection` to instantiate a GeoAxes instead.\n",
      "  warnings.warn(\"The `map_projection` keyword argument is \"\n",
      "/Users/beckermr/mambaforge/envs/rubin-sims/lib/python3.10/site-packages/cartopy/mpl/geoaxes.py:403: UserWarning: The `map_projection` keyword argument is deprecated, use `projection` to instantiate a GeoAxes instead.\n",
      "  warnings.warn(\"The `map_projection` keyword argument is \"\n"
     ]
    },
    {
     "name": "stdout",
     "output_type": "stream",
     "text": [
      "[Parallel(n_jobs=8)]: Done 309 tasks      | elapsed: 19.1min\n"
     ]
    },
    {
     "name": "stderr",
     "output_type": "stream",
     "text": [
      "/Users/beckermr/mambaforge/envs/rubin-sims/lib/python3.10/site-packages/cartopy/mpl/geoaxes.py:403: UserWarning: The `map_projection` keyword argument is deprecated, use `projection` to instantiate a GeoAxes instead.\n",
      "  warnings.warn(\"The `map_projection` keyword argument is \"\n",
      "/Users/beckermr/mambaforge/envs/rubin-sims/lib/python3.10/site-packages/cartopy/mpl/geoaxes.py:403: UserWarning: The `map_projection` keyword argument is deprecated, use `projection` to instantiate a GeoAxes instead.\n",
      "  warnings.warn(\"The `map_projection` keyword argument is \"\n"
     ]
    },
    {
     "name": "stdout",
     "output_type": "stream",
     "text": [
      "[Parallel(n_jobs=8)]: Done 310 tasks      | elapsed: 19.1min\n"
     ]
    },
    {
     "name": "stderr",
     "output_type": "stream",
     "text": [
      "/Users/beckermr/mambaforge/envs/rubin-sims/lib/python3.10/site-packages/cartopy/mpl/geoaxes.py:403: UserWarning: The `map_projection` keyword argument is deprecated, use `projection` to instantiate a GeoAxes instead.\n",
      "  warnings.warn(\"The `map_projection` keyword argument is \"\n",
      "/Users/beckermr/mambaforge/envs/rubin-sims/lib/python3.10/site-packages/cartopy/mpl/geoaxes.py:403: UserWarning: The `map_projection` keyword argument is deprecated, use `projection` to instantiate a GeoAxes instead.\n",
      "  warnings.warn(\"The `map_projection` keyword argument is \"\n"
     ]
    },
    {
     "name": "stdout",
     "output_type": "stream",
     "text": [
      "[Parallel(n_jobs=8)]: Done 311 tasks      | elapsed: 19.1min\n"
     ]
    },
    {
     "name": "stderr",
     "output_type": "stream",
     "text": [
      "/Users/beckermr/mambaforge/envs/rubin-sims/lib/python3.10/site-packages/cartopy/mpl/geoaxes.py:403: UserWarning: The `map_projection` keyword argument is deprecated, use `projection` to instantiate a GeoAxes instead.\n",
      "  warnings.warn(\"The `map_projection` keyword argument is \"\n",
      "/Users/beckermr/mambaforge/envs/rubin-sims/lib/python3.10/site-packages/cartopy/mpl/geoaxes.py:403: UserWarning: The `map_projection` keyword argument is deprecated, use `projection` to instantiate a GeoAxes instead.\n",
      "  warnings.warn(\"The `map_projection` keyword argument is \"\n"
     ]
    },
    {
     "name": "stdout",
     "output_type": "stream",
     "text": [
      "[Parallel(n_jobs=8)]: Done 312 tasks      | elapsed: 19.1min\n"
     ]
    },
    {
     "name": "stderr",
     "output_type": "stream",
     "text": [
      "/Users/beckermr/mambaforge/envs/rubin-sims/lib/python3.10/site-packages/cartopy/mpl/geoaxes.py:403: UserWarning: The `map_projection` keyword argument is deprecated, use `projection` to instantiate a GeoAxes instead.\n",
      "  warnings.warn(\"The `map_projection` keyword argument is \"\n",
      "/Users/beckermr/mambaforge/envs/rubin-sims/lib/python3.10/site-packages/cartopy/mpl/geoaxes.py:403: UserWarning: The `map_projection` keyword argument is deprecated, use `projection` to instantiate a GeoAxes instead.\n",
      "  warnings.warn(\"The `map_projection` keyword argument is \"\n"
     ]
    },
    {
     "name": "stdout",
     "output_type": "stream",
     "text": [
      "[Parallel(n_jobs=8)]: Done 313 tasks      | elapsed: 19.4min\n",
      "[Parallel(n_jobs=8)]: Done 314 tasks      | elapsed: 19.4min\n"
     ]
    },
    {
     "name": "stderr",
     "output_type": "stream",
     "text": [
      "/Users/beckermr/mambaforge/envs/rubin-sims/lib/python3.10/site-packages/cartopy/mpl/geoaxes.py:403: UserWarning: The `map_projection` keyword argument is deprecated, use `projection` to instantiate a GeoAxes instead.\n",
      "  warnings.warn(\"The `map_projection` keyword argument is \"\n",
      "/Users/beckermr/mambaforge/envs/rubin-sims/lib/python3.10/site-packages/cartopy/mpl/geoaxes.py:403: UserWarning: The `map_projection` keyword argument is deprecated, use `projection` to instantiate a GeoAxes instead.\n",
      "  warnings.warn(\"The `map_projection` keyword argument is \"\n",
      "/Users/beckermr/mambaforge/envs/rubin-sims/lib/python3.10/site-packages/cartopy/mpl/geoaxes.py:403: UserWarning: The `map_projection` keyword argument is deprecated, use `projection` to instantiate a GeoAxes instead.\n",
      "  warnings.warn(\"The `map_projection` keyword argument is \"\n",
      "/Users/beckermr/mambaforge/envs/rubin-sims/lib/python3.10/site-packages/cartopy/mpl/geoaxes.py:403: UserWarning: The `map_projection` keyword argument is deprecated, use `projection` to instantiate a GeoAxes instead.\n",
      "  warnings.warn(\"The `map_projection` keyword argument is \"\n"
     ]
    },
    {
     "name": "stdout",
     "output_type": "stream",
     "text": [
      "[Parallel(n_jobs=8)]: Done 315 tasks      | elapsed: 19.5min\n"
     ]
    },
    {
     "name": "stderr",
     "output_type": "stream",
     "text": [
      "/Users/beckermr/mambaforge/envs/rubin-sims/lib/python3.10/site-packages/cartopy/mpl/geoaxes.py:403: UserWarning: The `map_projection` keyword argument is deprecated, use `projection` to instantiate a GeoAxes instead.\n",
      "  warnings.warn(\"The `map_projection` keyword argument is \"\n",
      "/Users/beckermr/mambaforge/envs/rubin-sims/lib/python3.10/site-packages/cartopy/mpl/geoaxes.py:403: UserWarning: The `map_projection` keyword argument is deprecated, use `projection` to instantiate a GeoAxes instead.\n",
      "  warnings.warn(\"The `map_projection` keyword argument is \"\n"
     ]
    },
    {
     "name": "stdout",
     "output_type": "stream",
     "text": [
      "[Parallel(n_jobs=8)]: Done 316 tasks      | elapsed: 19.5min\n",
      "[Parallel(n_jobs=8)]: Done 317 tasks      | elapsed: 19.5min\n"
     ]
    },
    {
     "name": "stderr",
     "output_type": "stream",
     "text": [
      "/Users/beckermr/mambaforge/envs/rubin-sims/lib/python3.10/site-packages/cartopy/mpl/geoaxes.py:403: UserWarning: The `map_projection` keyword argument is deprecated, use `projection` to instantiate a GeoAxes instead.\n",
      "  warnings.warn(\"The `map_projection` keyword argument is \"\n",
      "/Users/beckermr/mambaforge/envs/rubin-sims/lib/python3.10/site-packages/cartopy/mpl/geoaxes.py:403: UserWarning: The `map_projection` keyword argument is deprecated, use `projection` to instantiate a GeoAxes instead.\n",
      "  warnings.warn(\"The `map_projection` keyword argument is \"\n"
     ]
    },
    {
     "name": "stdout",
     "output_type": "stream",
     "text": [
      "[Parallel(n_jobs=8)]: Done 318 tasks      | elapsed: 19.5min\n"
     ]
    },
    {
     "name": "stderr",
     "output_type": "stream",
     "text": [
      "/Users/beckermr/mambaforge/envs/rubin-sims/lib/python3.10/site-packages/cartopy/mpl/geoaxes.py:403: UserWarning: The `map_projection` keyword argument is deprecated, use `projection` to instantiate a GeoAxes instead.\n",
      "  warnings.warn(\"The `map_projection` keyword argument is \"\n",
      "/Users/beckermr/mambaforge/envs/rubin-sims/lib/python3.10/site-packages/cartopy/mpl/geoaxes.py:403: UserWarning: The `map_projection` keyword argument is deprecated, use `projection` to instantiate a GeoAxes instead.\n",
      "  warnings.warn(\"The `map_projection` keyword argument is \"\n"
     ]
    },
    {
     "name": "stdout",
     "output_type": "stream",
     "text": [
      "[Parallel(n_jobs=8)]: Done 319 tasks      | elapsed: 19.6min\n",
      "[Parallel(n_jobs=8)]: Done 320 tasks      | elapsed: 19.6min\n"
     ]
    },
    {
     "name": "stderr",
     "output_type": "stream",
     "text": [
      "/Users/beckermr/mambaforge/envs/rubin-sims/lib/python3.10/site-packages/cartopy/mpl/geoaxes.py:403: UserWarning: The `map_projection` keyword argument is deprecated, use `projection` to instantiate a GeoAxes instead.\n",
      "  warnings.warn(\"The `map_projection` keyword argument is \"\n",
      "/Users/beckermr/mambaforge/envs/rubin-sims/lib/python3.10/site-packages/cartopy/mpl/geoaxes.py:403: UserWarning: The `map_projection` keyword argument is deprecated, use `projection` to instantiate a GeoAxes instead.\n",
      "  warnings.warn(\"The `map_projection` keyword argument is \"\n",
      "/Users/beckermr/mambaforge/envs/rubin-sims/lib/python3.10/site-packages/cartopy/mpl/geoaxes.py:403: UserWarning: The `map_projection` keyword argument is deprecated, use `projection` to instantiate a GeoAxes instead.\n",
      "  warnings.warn(\"The `map_projection` keyword argument is \"\n",
      "/Users/beckermr/mambaforge/envs/rubin-sims/lib/python3.10/site-packages/cartopy/mpl/geoaxes.py:403: UserWarning: The `map_projection` keyword argument is deprecated, use `projection` to instantiate a GeoAxes instead.\n",
      "  warnings.warn(\"The `map_projection` keyword argument is \"\n",
      "/Users/beckermr/mambaforge/envs/rubin-sims/lib/python3.10/site-packages/cartopy/mpl/geoaxes.py:403: UserWarning: The `map_projection` keyword argument is deprecated, use `projection` to instantiate a GeoAxes instead.\n",
      "  warnings.warn(\"The `map_projection` keyword argument is \"\n",
      "/Users/beckermr/mambaforge/envs/rubin-sims/lib/python3.10/site-packages/cartopy/mpl/geoaxes.py:403: UserWarning: The `map_projection` keyword argument is deprecated, use `projection` to instantiate a GeoAxes instead.\n",
      "  warnings.warn(\"The `map_projection` keyword argument is \"\n"
     ]
    },
    {
     "name": "stdout",
     "output_type": "stream",
     "text": [
      "[Parallel(n_jobs=8)]: Done 321 tasks      | elapsed: 19.9min\n",
      "[Parallel(n_jobs=8)]: Done 322 tasks      | elapsed: 19.9min\n"
     ]
    },
    {
     "name": "stderr",
     "output_type": "stream",
     "text": [
      "/Users/beckermr/mambaforge/envs/rubin-sims/lib/python3.10/site-packages/cartopy/mpl/geoaxes.py:403: UserWarning: The `map_projection` keyword argument is deprecated, use `projection` to instantiate a GeoAxes instead.\n",
      "  warnings.warn(\"The `map_projection` keyword argument is \"\n",
      "/Users/beckermr/mambaforge/envs/rubin-sims/lib/python3.10/site-packages/cartopy/mpl/geoaxes.py:403: UserWarning: The `map_projection` keyword argument is deprecated, use `projection` to instantiate a GeoAxes instead.\n",
      "  warnings.warn(\"The `map_projection` keyword argument is \"\n",
      "/Users/beckermr/mambaforge/envs/rubin-sims/lib/python3.10/site-packages/cartopy/mpl/geoaxes.py:403: UserWarning: The `map_projection` keyword argument is deprecated, use `projection` to instantiate a GeoAxes instead.\n",
      "  warnings.warn(\"The `map_projection` keyword argument is \"\n",
      "/Users/beckermr/mambaforge/envs/rubin-sims/lib/python3.10/site-packages/cartopy/mpl/geoaxes.py:403: UserWarning: The `map_projection` keyword argument is deprecated, use `projection` to instantiate a GeoAxes instead.\n",
      "  warnings.warn(\"The `map_projection` keyword argument is \"\n"
     ]
    },
    {
     "name": "stdout",
     "output_type": "stream",
     "text": [
      "[Parallel(n_jobs=8)]: Done 323 tasks      | elapsed: 20.0min\n",
      "[Parallel(n_jobs=8)]: Done 324 tasks      | elapsed: 20.0min\n",
      "[Parallel(n_jobs=8)]: Done 325 tasks      | elapsed: 20.1min\n"
     ]
    },
    {
     "name": "stderr",
     "output_type": "stream",
     "text": [
      "/Users/beckermr/mambaforge/envs/rubin-sims/lib/python3.10/site-packages/cartopy/mpl/geoaxes.py:403: UserWarning: The `map_projection` keyword argument is deprecated, use `projection` to instantiate a GeoAxes instead.\n",
      "  warnings.warn(\"The `map_projection` keyword argument is \"\n",
      "/Users/beckermr/mambaforge/envs/rubin-sims/lib/python3.10/site-packages/cartopy/mpl/geoaxes.py:403: UserWarning: The `map_projection` keyword argument is deprecated, use `projection` to instantiate a GeoAxes instead.\n",
      "  warnings.warn(\"The `map_projection` keyword argument is \"\n",
      "/Users/beckermr/mambaforge/envs/rubin-sims/lib/python3.10/site-packages/cartopy/mpl/geoaxes.py:403: UserWarning: The `map_projection` keyword argument is deprecated, use `projection` to instantiate a GeoAxes instead.\n",
      "  warnings.warn(\"The `map_projection` keyword argument is \"\n",
      "/Users/beckermr/mambaforge/envs/rubin-sims/lib/python3.10/site-packages/cartopy/mpl/geoaxes.py:403: UserWarning: The `map_projection` keyword argument is deprecated, use `projection` to instantiate a GeoAxes instead.\n",
      "  warnings.warn(\"The `map_projection` keyword argument is \"\n",
      "/Users/beckermr/mambaforge/envs/rubin-sims/lib/python3.10/site-packages/cartopy/mpl/geoaxes.py:403: UserWarning: The `map_projection` keyword argument is deprecated, use `projection` to instantiate a GeoAxes instead.\n",
      "  warnings.warn(\"The `map_projection` keyword argument is \"\n",
      "/Users/beckermr/mambaforge/envs/rubin-sims/lib/python3.10/site-packages/cartopy/mpl/geoaxes.py:403: UserWarning: The `map_projection` keyword argument is deprecated, use `projection` to instantiate a GeoAxes instead.\n",
      "  warnings.warn(\"The `map_projection` keyword argument is \"\n"
     ]
    },
    {
     "name": "stdout",
     "output_type": "stream",
     "text": [
      "[Parallel(n_jobs=8)]: Done 326 tasks      | elapsed: 20.1min\n",
      "[Parallel(n_jobs=8)]: Done 327 tasks      | elapsed: 20.1min\n"
     ]
    },
    {
     "name": "stderr",
     "output_type": "stream",
     "text": [
      "/Users/beckermr/mambaforge/envs/rubin-sims/lib/python3.10/site-packages/cartopy/mpl/geoaxes.py:403: UserWarning: The `map_projection` keyword argument is deprecated, use `projection` to instantiate a GeoAxes instead.\n",
      "  warnings.warn(\"The `map_projection` keyword argument is \"\n",
      "/Users/beckermr/mambaforge/envs/rubin-sims/lib/python3.10/site-packages/cartopy/mpl/geoaxes.py:403: UserWarning: The `map_projection` keyword argument is deprecated, use `projection` to instantiate a GeoAxes instead.\n",
      "  warnings.warn(\"The `map_projection` keyword argument is \"\n"
     ]
    },
    {
     "name": "stdout",
     "output_type": "stream",
     "text": [
      "[Parallel(n_jobs=8)]: Done 328 tasks      | elapsed: 20.1min\n"
     ]
    },
    {
     "name": "stderr",
     "output_type": "stream",
     "text": [
      "/Users/beckermr/mambaforge/envs/rubin-sims/lib/python3.10/site-packages/cartopy/mpl/geoaxes.py:403: UserWarning: The `map_projection` keyword argument is deprecated, use `projection` to instantiate a GeoAxes instead.\n",
      "  warnings.warn(\"The `map_projection` keyword argument is \"\n",
      "/Users/beckermr/mambaforge/envs/rubin-sims/lib/python3.10/site-packages/cartopy/mpl/geoaxes.py:403: UserWarning: The `map_projection` keyword argument is deprecated, use `projection` to instantiate a GeoAxes instead.\n",
      "  warnings.warn(\"The `map_projection` keyword argument is \"\n",
      "/Users/beckermr/mambaforge/envs/rubin-sims/lib/python3.10/site-packages/cartopy/mpl/geoaxes.py:403: UserWarning: The `map_projection` keyword argument is deprecated, use `projection` to instantiate a GeoAxes instead.\n",
      "  warnings.warn(\"The `map_projection` keyword argument is \"\n",
      "/Users/beckermr/mambaforge/envs/rubin-sims/lib/python3.10/site-packages/cartopy/mpl/geoaxes.py:403: UserWarning: The `map_projection` keyword argument is deprecated, use `projection` to instantiate a GeoAxes instead.\n",
      "  warnings.warn(\"The `map_projection` keyword argument is \"\n"
     ]
    },
    {
     "name": "stdout",
     "output_type": "stream",
     "text": [
      "[Parallel(n_jobs=8)]: Done 329 tasks      | elapsed: 20.3min\n"
     ]
    },
    {
     "name": "stderr",
     "output_type": "stream",
     "text": [
      "/Users/beckermr/mambaforge/envs/rubin-sims/lib/python3.10/site-packages/cartopy/mpl/geoaxes.py:403: UserWarning: The `map_projection` keyword argument is deprecated, use `projection` to instantiate a GeoAxes instead.\n",
      "  warnings.warn(\"The `map_projection` keyword argument is \"\n",
      "/Users/beckermr/mambaforge/envs/rubin-sims/lib/python3.10/site-packages/cartopy/mpl/geoaxes.py:403: UserWarning: The `map_projection` keyword argument is deprecated, use `projection` to instantiate a GeoAxes instead.\n",
      "  warnings.warn(\"The `map_projection` keyword argument is \"\n"
     ]
    },
    {
     "name": "stdout",
     "output_type": "stream",
     "text": [
      "[Parallel(n_jobs=8)]: Done 330 tasks      | elapsed: 20.4min\n"
     ]
    },
    {
     "name": "stderr",
     "output_type": "stream",
     "text": [
      "/Users/beckermr/mambaforge/envs/rubin-sims/lib/python3.10/site-packages/cartopy/mpl/geoaxes.py:403: UserWarning: The `map_projection` keyword argument is deprecated, use `projection` to instantiate a GeoAxes instead.\n",
      "  warnings.warn(\"The `map_projection` keyword argument is \"\n",
      "/Users/beckermr/mambaforge/envs/rubin-sims/lib/python3.10/site-packages/cartopy/mpl/geoaxes.py:403: UserWarning: The `map_projection` keyword argument is deprecated, use `projection` to instantiate a GeoAxes instead.\n",
      "  warnings.warn(\"The `map_projection` keyword argument is \"\n"
     ]
    },
    {
     "name": "stdout",
     "output_type": "stream",
     "text": [
      "[Parallel(n_jobs=8)]: Done 331 tasks      | elapsed: 20.5min\n"
     ]
    },
    {
     "name": "stderr",
     "output_type": "stream",
     "text": [
      "/Users/beckermr/mambaforge/envs/rubin-sims/lib/python3.10/site-packages/cartopy/mpl/geoaxes.py:403: UserWarning: The `map_projection` keyword argument is deprecated, use `projection` to instantiate a GeoAxes instead.\n",
      "  warnings.warn(\"The `map_projection` keyword argument is \"\n",
      "/Users/beckermr/mambaforge/envs/rubin-sims/lib/python3.10/site-packages/cartopy/mpl/geoaxes.py:403: UserWarning: The `map_projection` keyword argument is deprecated, use `projection` to instantiate a GeoAxes instead.\n",
      "  warnings.warn(\"The `map_projection` keyword argument is \"\n"
     ]
    },
    {
     "name": "stdout",
     "output_type": "stream",
     "text": [
      "[Parallel(n_jobs=8)]: Done 332 tasks      | elapsed: 20.5min\n",
      "[Parallel(n_jobs=8)]: Done 333 tasks      | elapsed: 20.5min\n"
     ]
    },
    {
     "name": "stderr",
     "output_type": "stream",
     "text": [
      "/Users/beckermr/mambaforge/envs/rubin-sims/lib/python3.10/site-packages/cartopy/mpl/geoaxes.py:403: UserWarning: The `map_projection` keyword argument is deprecated, use `projection` to instantiate a GeoAxes instead.\n",
      "  warnings.warn(\"The `map_projection` keyword argument is \"\n",
      "/Users/beckermr/mambaforge/envs/rubin-sims/lib/python3.10/site-packages/cartopy/mpl/geoaxes.py:403: UserWarning: The `map_projection` keyword argument is deprecated, use `projection` to instantiate a GeoAxes instead.\n",
      "  warnings.warn(\"The `map_projection` keyword argument is \"\n",
      "/Users/beckermr/mambaforge/envs/rubin-sims/lib/python3.10/site-packages/cartopy/mpl/geoaxes.py:403: UserWarning: The `map_projection` keyword argument is deprecated, use `projection` to instantiate a GeoAxes instead.\n",
      "  warnings.warn(\"The `map_projection` keyword argument is \"\n",
      "/Users/beckermr/mambaforge/envs/rubin-sims/lib/python3.10/site-packages/cartopy/mpl/geoaxes.py:403: UserWarning: The `map_projection` keyword argument is deprecated, use `projection` to instantiate a GeoAxes instead.\n",
      "  warnings.warn(\"The `map_projection` keyword argument is \"\n"
     ]
    },
    {
     "name": "stdout",
     "output_type": "stream",
     "text": [
      "[Parallel(n_jobs=8)]: Done 334 tasks      | elapsed: 20.5min\n"
     ]
    },
    {
     "name": "stderr",
     "output_type": "stream",
     "text": [
      "/Users/beckermr/mambaforge/envs/rubin-sims/lib/python3.10/site-packages/cartopy/mpl/geoaxes.py:403: UserWarning: The `map_projection` keyword argument is deprecated, use `projection` to instantiate a GeoAxes instead.\n",
      "  warnings.warn(\"The `map_projection` keyword argument is \"\n",
      "/Users/beckermr/mambaforge/envs/rubin-sims/lib/python3.10/site-packages/cartopy/mpl/geoaxes.py:403: UserWarning: The `map_projection` keyword argument is deprecated, use `projection` to instantiate a GeoAxes instead.\n",
      "  warnings.warn(\"The `map_projection` keyword argument is \"\n"
     ]
    },
    {
     "name": "stdout",
     "output_type": "stream",
     "text": [
      "[Parallel(n_jobs=8)]: Done 335 tasks      | elapsed: 20.6min\n"
     ]
    },
    {
     "name": "stderr",
     "output_type": "stream",
     "text": [
      "/Users/beckermr/mambaforge/envs/rubin-sims/lib/python3.10/site-packages/cartopy/mpl/geoaxes.py:403: UserWarning: The `map_projection` keyword argument is deprecated, use `projection` to instantiate a GeoAxes instead.\n",
      "  warnings.warn(\"The `map_projection` keyword argument is \"\n",
      "/Users/beckermr/mambaforge/envs/rubin-sims/lib/python3.10/site-packages/cartopy/mpl/geoaxes.py:403: UserWarning: The `map_projection` keyword argument is deprecated, use `projection` to instantiate a GeoAxes instead.\n",
      "  warnings.warn(\"The `map_projection` keyword argument is \"\n"
     ]
    },
    {
     "name": "stdout",
     "output_type": "stream",
     "text": [
      "[Parallel(n_jobs=8)]: Done 336 tasks      | elapsed: 20.6min\n"
     ]
    },
    {
     "name": "stderr",
     "output_type": "stream",
     "text": [
      "/Users/beckermr/mambaforge/envs/rubin-sims/lib/python3.10/site-packages/cartopy/mpl/geoaxes.py:403: UserWarning: The `map_projection` keyword argument is deprecated, use `projection` to instantiate a GeoAxes instead.\n",
      "  warnings.warn(\"The `map_projection` keyword argument is \"\n",
      "/Users/beckermr/mambaforge/envs/rubin-sims/lib/python3.10/site-packages/cartopy/mpl/geoaxes.py:403: UserWarning: The `map_projection` keyword argument is deprecated, use `projection` to instantiate a GeoAxes instead.\n",
      "  warnings.warn(\"The `map_projection` keyword argument is \"\n"
     ]
    },
    {
     "name": "stdout",
     "output_type": "stream",
     "text": [
      "[Parallel(n_jobs=8)]: Done 337 tasks      | elapsed: 20.8min\n"
     ]
    },
    {
     "name": "stderr",
     "output_type": "stream",
     "text": [
      "/Users/beckermr/mambaforge/envs/rubin-sims/lib/python3.10/site-packages/cartopy/mpl/geoaxes.py:403: UserWarning: The `map_projection` keyword argument is deprecated, use `projection` to instantiate a GeoAxes instead.\n",
      "  warnings.warn(\"The `map_projection` keyword argument is \"\n",
      "/Users/beckermr/mambaforge/envs/rubin-sims/lib/python3.10/site-packages/cartopy/mpl/geoaxes.py:403: UserWarning: The `map_projection` keyword argument is deprecated, use `projection` to instantiate a GeoAxes instead.\n",
      "  warnings.warn(\"The `map_projection` keyword argument is \"\n"
     ]
    },
    {
     "name": "stdout",
     "output_type": "stream",
     "text": [
      "[Parallel(n_jobs=8)]: Done 338 tasks      | elapsed: 20.9min\n"
     ]
    },
    {
     "name": "stderr",
     "output_type": "stream",
     "text": [
      "/Users/beckermr/mambaforge/envs/rubin-sims/lib/python3.10/site-packages/cartopy/mpl/geoaxes.py:403: UserWarning: The `map_projection` keyword argument is deprecated, use `projection` to instantiate a GeoAxes instead.\n",
      "  warnings.warn(\"The `map_projection` keyword argument is \"\n",
      "/Users/beckermr/mambaforge/envs/rubin-sims/lib/python3.10/site-packages/cartopy/mpl/geoaxes.py:403: UserWarning: The `map_projection` keyword argument is deprecated, use `projection` to instantiate a GeoAxes instead.\n",
      "  warnings.warn(\"The `map_projection` keyword argument is \"\n"
     ]
    },
    {
     "name": "stdout",
     "output_type": "stream",
     "text": [
      "[Parallel(n_jobs=8)]: Done 339 tasks      | elapsed: 21.0min\n",
      "[Parallel(n_jobs=8)]: Done 340 tasks      | elapsed: 21.0min\n"
     ]
    },
    {
     "name": "stderr",
     "output_type": "stream",
     "text": [
      "/Users/beckermr/mambaforge/envs/rubin-sims/lib/python3.10/site-packages/cartopy/mpl/geoaxes.py:403: UserWarning: The `map_projection` keyword argument is deprecated, use `projection` to instantiate a GeoAxes instead.\n",
      "  warnings.warn(\"The `map_projection` keyword argument is \"\n",
      "/Users/beckermr/mambaforge/envs/rubin-sims/lib/python3.10/site-packages/cartopy/mpl/geoaxes.py:403: UserWarning: The `map_projection` keyword argument is deprecated, use `projection` to instantiate a GeoAxes instead.\n",
      "  warnings.warn(\"The `map_projection` keyword argument is \"\n",
      "/Users/beckermr/mambaforge/envs/rubin-sims/lib/python3.10/site-packages/cartopy/mpl/geoaxes.py:403: UserWarning: The `map_projection` keyword argument is deprecated, use `projection` to instantiate a GeoAxes instead.\n",
      "  warnings.warn(\"The `map_projection` keyword argument is \"\n",
      "/Users/beckermr/mambaforge/envs/rubin-sims/lib/python3.10/site-packages/cartopy/mpl/geoaxes.py:403: UserWarning: The `map_projection` keyword argument is deprecated, use `projection` to instantiate a GeoAxes instead.\n",
      "  warnings.warn(\"The `map_projection` keyword argument is \"\n"
     ]
    },
    {
     "name": "stdout",
     "output_type": "stream",
     "text": [
      "[Parallel(n_jobs=8)]: Done 341 tasks      | elapsed: 21.0min\n"
     ]
    },
    {
     "name": "stderr",
     "output_type": "stream",
     "text": [
      "/Users/beckermr/mambaforge/envs/rubin-sims/lib/python3.10/site-packages/cartopy/mpl/geoaxes.py:403: UserWarning: The `map_projection` keyword argument is deprecated, use `projection` to instantiate a GeoAxes instead.\n",
      "  warnings.warn(\"The `map_projection` keyword argument is \"\n",
      "/Users/beckermr/mambaforge/envs/rubin-sims/lib/python3.10/site-packages/cartopy/mpl/geoaxes.py:403: UserWarning: The `map_projection` keyword argument is deprecated, use `projection` to instantiate a GeoAxes instead.\n",
      "  warnings.warn(\"The `map_projection` keyword argument is \"\n"
     ]
    },
    {
     "name": "stdout",
     "output_type": "stream",
     "text": [
      "[Parallel(n_jobs=8)]: Done 342 tasks      | elapsed: 21.0min\n"
     ]
    },
    {
     "name": "stderr",
     "output_type": "stream",
     "text": [
      "/Users/beckermr/mambaforge/envs/rubin-sims/lib/python3.10/site-packages/cartopy/mpl/geoaxes.py:403: UserWarning: The `map_projection` keyword argument is deprecated, use `projection` to instantiate a GeoAxes instead.\n",
      "  warnings.warn(\"The `map_projection` keyword argument is \"\n",
      "/Users/beckermr/mambaforge/envs/rubin-sims/lib/python3.10/site-packages/cartopy/mpl/geoaxes.py:403: UserWarning: The `map_projection` keyword argument is deprecated, use `projection` to instantiate a GeoAxes instead.\n",
      "  warnings.warn(\"The `map_projection` keyword argument is \"\n"
     ]
    },
    {
     "name": "stdout",
     "output_type": "stream",
     "text": [
      "[Parallel(n_jobs=8)]: Done 343 tasks      | elapsed: 21.0min\n"
     ]
    },
    {
     "name": "stderr",
     "output_type": "stream",
     "text": [
      "/Users/beckermr/mambaforge/envs/rubin-sims/lib/python3.10/site-packages/cartopy/mpl/geoaxes.py:403: UserWarning: The `map_projection` keyword argument is deprecated, use `projection` to instantiate a GeoAxes instead.\n",
      "  warnings.warn(\"The `map_projection` keyword argument is \"\n",
      "/Users/beckermr/mambaforge/envs/rubin-sims/lib/python3.10/site-packages/cartopy/mpl/geoaxes.py:403: UserWarning: The `map_projection` keyword argument is deprecated, use `projection` to instantiate a GeoAxes instead.\n",
      "  warnings.warn(\"The `map_projection` keyword argument is \"\n"
     ]
    },
    {
     "name": "stdout",
     "output_type": "stream",
     "text": [
      "[Parallel(n_jobs=8)]: Done 344 tasks      | elapsed: 21.1min\n"
     ]
    },
    {
     "name": "stderr",
     "output_type": "stream",
     "text": [
      "/Users/beckermr/mambaforge/envs/rubin-sims/lib/python3.10/site-packages/cartopy/mpl/geoaxes.py:403: UserWarning: The `map_projection` keyword argument is deprecated, use `projection` to instantiate a GeoAxes instead.\n",
      "  warnings.warn(\"The `map_projection` keyword argument is \"\n",
      "/Users/beckermr/mambaforge/envs/rubin-sims/lib/python3.10/site-packages/cartopy/mpl/geoaxes.py:403: UserWarning: The `map_projection` keyword argument is deprecated, use `projection` to instantiate a GeoAxes instead.\n",
      "  warnings.warn(\"The `map_projection` keyword argument is \"\n"
     ]
    },
    {
     "name": "stdout",
     "output_type": "stream",
     "text": [
      "[Parallel(n_jobs=8)]: Done 345 tasks      | elapsed: 21.3min\n"
     ]
    },
    {
     "name": "stderr",
     "output_type": "stream",
     "text": [
      "/Users/beckermr/mambaforge/envs/rubin-sims/lib/python3.10/site-packages/cartopy/mpl/geoaxes.py:403: UserWarning: The `map_projection` keyword argument is deprecated, use `projection` to instantiate a GeoAxes instead.\n",
      "  warnings.warn(\"The `map_projection` keyword argument is \"\n",
      "/Users/beckermr/mambaforge/envs/rubin-sims/lib/python3.10/site-packages/cartopy/mpl/geoaxes.py:403: UserWarning: The `map_projection` keyword argument is deprecated, use `projection` to instantiate a GeoAxes instead.\n",
      "  warnings.warn(\"The `map_projection` keyword argument is \"\n"
     ]
    },
    {
     "name": "stdout",
     "output_type": "stream",
     "text": [
      "[Parallel(n_jobs=8)]: Done 346 tasks      | elapsed: 21.3min\n"
     ]
    },
    {
     "name": "stderr",
     "output_type": "stream",
     "text": [
      "/Users/beckermr/mambaforge/envs/rubin-sims/lib/python3.10/site-packages/cartopy/mpl/geoaxes.py:403: UserWarning: The `map_projection` keyword argument is deprecated, use `projection` to instantiate a GeoAxes instead.\n",
      "  warnings.warn(\"The `map_projection` keyword argument is \"\n",
      "/Users/beckermr/mambaforge/envs/rubin-sims/lib/python3.10/site-packages/cartopy/mpl/geoaxes.py:403: UserWarning: The `map_projection` keyword argument is deprecated, use `projection` to instantiate a GeoAxes instead.\n",
      "  warnings.warn(\"The `map_projection` keyword argument is \"\n"
     ]
    },
    {
     "name": "stdout",
     "output_type": "stream",
     "text": [
      "[Parallel(n_jobs=8)]: Done 347 tasks      | elapsed: 21.4min\n"
     ]
    },
    {
     "name": "stderr",
     "output_type": "stream",
     "text": [
      "/Users/beckermr/mambaforge/envs/rubin-sims/lib/python3.10/site-packages/cartopy/mpl/geoaxes.py:403: UserWarning: The `map_projection` keyword argument is deprecated, use `projection` to instantiate a GeoAxes instead.\n",
      "  warnings.warn(\"The `map_projection` keyword argument is \"\n",
      "/Users/beckermr/mambaforge/envs/rubin-sims/lib/python3.10/site-packages/cartopy/mpl/geoaxes.py:403: UserWarning: The `map_projection` keyword argument is deprecated, use `projection` to instantiate a GeoAxes instead.\n",
      "  warnings.warn(\"The `map_projection` keyword argument is \"\n"
     ]
    },
    {
     "name": "stdout",
     "output_type": "stream",
     "text": [
      "[Parallel(n_jobs=8)]: Done 348 tasks      | elapsed: 21.4min\n"
     ]
    },
    {
     "name": "stderr",
     "output_type": "stream",
     "text": [
      "/Users/beckermr/mambaforge/envs/rubin-sims/lib/python3.10/site-packages/cartopy/mpl/geoaxes.py:403: UserWarning: The `map_projection` keyword argument is deprecated, use `projection` to instantiate a GeoAxes instead.\n",
      "  warnings.warn(\"The `map_projection` keyword argument is \"\n",
      "/Users/beckermr/mambaforge/envs/rubin-sims/lib/python3.10/site-packages/cartopy/mpl/geoaxes.py:403: UserWarning: The `map_projection` keyword argument is deprecated, use `projection` to instantiate a GeoAxes instead.\n",
      "  warnings.warn(\"The `map_projection` keyword argument is \"\n"
     ]
    },
    {
     "name": "stdout",
     "output_type": "stream",
     "text": [
      "[Parallel(n_jobs=8)]: Done 349 tasks      | elapsed: 21.4min\n"
     ]
    },
    {
     "name": "stderr",
     "output_type": "stream",
     "text": [
      "/Users/beckermr/mambaforge/envs/rubin-sims/lib/python3.10/site-packages/cartopy/mpl/geoaxes.py:403: UserWarning: The `map_projection` keyword argument is deprecated, use `projection` to instantiate a GeoAxes instead.\n",
      "  warnings.warn(\"The `map_projection` keyword argument is \"\n",
      "/Users/beckermr/mambaforge/envs/rubin-sims/lib/python3.10/site-packages/cartopy/mpl/geoaxes.py:403: UserWarning: The `map_projection` keyword argument is deprecated, use `projection` to instantiate a GeoAxes instead.\n",
      "  warnings.warn(\"The `map_projection` keyword argument is \"\n"
     ]
    },
    {
     "name": "stdout",
     "output_type": "stream",
     "text": [
      "[Parallel(n_jobs=8)]: Done 350 tasks      | elapsed: 21.5min\n"
     ]
    },
    {
     "name": "stderr",
     "output_type": "stream",
     "text": [
      "/Users/beckermr/mambaforge/envs/rubin-sims/lib/python3.10/site-packages/cartopy/mpl/geoaxes.py:403: UserWarning: The `map_projection` keyword argument is deprecated, use `projection` to instantiate a GeoAxes instead.\n",
      "  warnings.warn(\"The `map_projection` keyword argument is \"\n",
      "/Users/beckermr/mambaforge/envs/rubin-sims/lib/python3.10/site-packages/cartopy/mpl/geoaxes.py:403: UserWarning: The `map_projection` keyword argument is deprecated, use `projection` to instantiate a GeoAxes instead.\n",
      "  warnings.warn(\"The `map_projection` keyword argument is \"\n"
     ]
    },
    {
     "name": "stdout",
     "output_type": "stream",
     "text": [
      "[Parallel(n_jobs=8)]: Done 351 tasks      | elapsed: 21.5min\n"
     ]
    },
    {
     "name": "stderr",
     "output_type": "stream",
     "text": [
      "/Users/beckermr/mambaforge/envs/rubin-sims/lib/python3.10/site-packages/cartopy/mpl/geoaxes.py:403: UserWarning: The `map_projection` keyword argument is deprecated, use `projection` to instantiate a GeoAxes instead.\n",
      "  warnings.warn(\"The `map_projection` keyword argument is \"\n",
      "/Users/beckermr/mambaforge/envs/rubin-sims/lib/python3.10/site-packages/cartopy/mpl/geoaxes.py:403: UserWarning: The `map_projection` keyword argument is deprecated, use `projection` to instantiate a GeoAxes instead.\n",
      "  warnings.warn(\"The `map_projection` keyword argument is \"\n"
     ]
    },
    {
     "name": "stdout",
     "output_type": "stream",
     "text": [
      "[Parallel(n_jobs=8)]: Done 352 tasks      | elapsed: 21.5min\n"
     ]
    },
    {
     "name": "stderr",
     "output_type": "stream",
     "text": [
      "/Users/beckermr/mambaforge/envs/rubin-sims/lib/python3.10/site-packages/cartopy/mpl/geoaxes.py:403: UserWarning: The `map_projection` keyword argument is deprecated, use `projection` to instantiate a GeoAxes instead.\n",
      "  warnings.warn(\"The `map_projection` keyword argument is \"\n",
      "/Users/beckermr/mambaforge/envs/rubin-sims/lib/python3.10/site-packages/cartopy/mpl/geoaxes.py:403: UserWarning: The `map_projection` keyword argument is deprecated, use `projection` to instantiate a GeoAxes instead.\n",
      "  warnings.warn(\"The `map_projection` keyword argument is \"\n"
     ]
    },
    {
     "name": "stdout",
     "output_type": "stream",
     "text": [
      "[Parallel(n_jobs=8)]: Done 353 tasks      | elapsed: 21.7min\n"
     ]
    },
    {
     "name": "stderr",
     "output_type": "stream",
     "text": [
      "/Users/beckermr/mambaforge/envs/rubin-sims/lib/python3.10/site-packages/cartopy/mpl/geoaxes.py:403: UserWarning: The `map_projection` keyword argument is deprecated, use `projection` to instantiate a GeoAxes instead.\n",
      "  warnings.warn(\"The `map_projection` keyword argument is \"\n",
      "/Users/beckermr/mambaforge/envs/rubin-sims/lib/python3.10/site-packages/cartopy/mpl/geoaxes.py:403: UserWarning: The `map_projection` keyword argument is deprecated, use `projection` to instantiate a GeoAxes instead.\n",
      "  warnings.warn(\"The `map_projection` keyword argument is \"\n"
     ]
    },
    {
     "name": "stdout",
     "output_type": "stream",
     "text": [
      "[Parallel(n_jobs=8)]: Done 354 tasks      | elapsed: 21.8min\n"
     ]
    },
    {
     "name": "stderr",
     "output_type": "stream",
     "text": [
      "/Users/beckermr/mambaforge/envs/rubin-sims/lib/python3.10/site-packages/cartopy/mpl/geoaxes.py:403: UserWarning: The `map_projection` keyword argument is deprecated, use `projection` to instantiate a GeoAxes instead.\n",
      "  warnings.warn(\"The `map_projection` keyword argument is \"\n",
      "/Users/beckermr/mambaforge/envs/rubin-sims/lib/python3.10/site-packages/cartopy/mpl/geoaxes.py:403: UserWarning: The `map_projection` keyword argument is deprecated, use `projection` to instantiate a GeoAxes instead.\n",
      "  warnings.warn(\"The `map_projection` keyword argument is \"\n"
     ]
    },
    {
     "name": "stdout",
     "output_type": "stream",
     "text": [
      "[Parallel(n_jobs=8)]: Done 355 tasks      | elapsed: 21.9min\n",
      "[Parallel(n_jobs=8)]: Done 356 tasks      | elapsed: 21.9min\n"
     ]
    },
    {
     "name": "stderr",
     "output_type": "stream",
     "text": [
      "/Users/beckermr/mambaforge/envs/rubin-sims/lib/python3.10/site-packages/cartopy/mpl/geoaxes.py:403: UserWarning: The `map_projection` keyword argument is deprecated, use `projection` to instantiate a GeoAxes instead.\n",
      "  warnings.warn(\"The `map_projection` keyword argument is \"\n",
      "/Users/beckermr/mambaforge/envs/rubin-sims/lib/python3.10/site-packages/cartopy/mpl/geoaxes.py:403: UserWarning: The `map_projection` keyword argument is deprecated, use `projection` to instantiate a GeoAxes instead.\n",
      "  warnings.warn(\"The `map_projection` keyword argument is \"\n",
      "/Users/beckermr/mambaforge/envs/rubin-sims/lib/python3.10/site-packages/cartopy/mpl/geoaxes.py:403: UserWarning: The `map_projection` keyword argument is deprecated, use `projection` to instantiate a GeoAxes instead.\n",
      "  warnings.warn(\"The `map_projection` keyword argument is \"\n",
      "/Users/beckermr/mambaforge/envs/rubin-sims/lib/python3.10/site-packages/cartopy/mpl/geoaxes.py:403: UserWarning: The `map_projection` keyword argument is deprecated, use `projection` to instantiate a GeoAxes instead.\n",
      "  warnings.warn(\"The `map_projection` keyword argument is \"\n"
     ]
    },
    {
     "name": "stdout",
     "output_type": "stream",
     "text": [
      "[Parallel(n_jobs=8)]: Done 357 tasks      | elapsed: 21.9min\n"
     ]
    },
    {
     "name": "stderr",
     "output_type": "stream",
     "text": [
      "/Users/beckermr/mambaforge/envs/rubin-sims/lib/python3.10/site-packages/cartopy/mpl/geoaxes.py:403: UserWarning: The `map_projection` keyword argument is deprecated, use `projection` to instantiate a GeoAxes instead.\n",
      "  warnings.warn(\"The `map_projection` keyword argument is \"\n",
      "/Users/beckermr/mambaforge/envs/rubin-sims/lib/python3.10/site-packages/cartopy/mpl/geoaxes.py:403: UserWarning: The `map_projection` keyword argument is deprecated, use `projection` to instantiate a GeoAxes instead.\n",
      "  warnings.warn(\"The `map_projection` keyword argument is \"\n"
     ]
    },
    {
     "name": "stdout",
     "output_type": "stream",
     "text": [
      "[Parallel(n_jobs=8)]: Done 358 tasks      | elapsed: 21.9min\n"
     ]
    },
    {
     "name": "stderr",
     "output_type": "stream",
     "text": [
      "/Users/beckermr/mambaforge/envs/rubin-sims/lib/python3.10/site-packages/cartopy/mpl/geoaxes.py:403: UserWarning: The `map_projection` keyword argument is deprecated, use `projection` to instantiate a GeoAxes instead.\n",
      "  warnings.warn(\"The `map_projection` keyword argument is \"\n",
      "/Users/beckermr/mambaforge/envs/rubin-sims/lib/python3.10/site-packages/cartopy/mpl/geoaxes.py:403: UserWarning: The `map_projection` keyword argument is deprecated, use `projection` to instantiate a GeoAxes instead.\n",
      "  warnings.warn(\"The `map_projection` keyword argument is \"\n"
     ]
    },
    {
     "name": "stdout",
     "output_type": "stream",
     "text": [
      "[Parallel(n_jobs=8)]: Done 359 tasks      | elapsed: 21.9min\n"
     ]
    },
    {
     "name": "stderr",
     "output_type": "stream",
     "text": [
      "/Users/beckermr/mambaforge/envs/rubin-sims/lib/python3.10/site-packages/cartopy/mpl/geoaxes.py:403: UserWarning: The `map_projection` keyword argument is deprecated, use `projection` to instantiate a GeoAxes instead.\n",
      "  warnings.warn(\"The `map_projection` keyword argument is \"\n",
      "/Users/beckermr/mambaforge/envs/rubin-sims/lib/python3.10/site-packages/cartopy/mpl/geoaxes.py:403: UserWarning: The `map_projection` keyword argument is deprecated, use `projection` to instantiate a GeoAxes instead.\n",
      "  warnings.warn(\"The `map_projection` keyword argument is \"\n"
     ]
    },
    {
     "name": "stdout",
     "output_type": "stream",
     "text": [
      "[Parallel(n_jobs=8)]: Done 360 tasks      | elapsed: 22.0min\n"
     ]
    },
    {
     "name": "stderr",
     "output_type": "stream",
     "text": [
      "/Users/beckermr/mambaforge/envs/rubin-sims/lib/python3.10/site-packages/cartopy/mpl/geoaxes.py:403: UserWarning: The `map_projection` keyword argument is deprecated, use `projection` to instantiate a GeoAxes instead.\n",
      "  warnings.warn(\"The `map_projection` keyword argument is \"\n",
      "/Users/beckermr/mambaforge/envs/rubin-sims/lib/python3.10/site-packages/cartopy/mpl/geoaxes.py:403: UserWarning: The `map_projection` keyword argument is deprecated, use `projection` to instantiate a GeoAxes instead.\n",
      "  warnings.warn(\"The `map_projection` keyword argument is \"\n"
     ]
    },
    {
     "name": "stdout",
     "output_type": "stream",
     "text": [
      "[Parallel(n_jobs=8)]: Done 361 tasks      | elapsed: 22.2min\n"
     ]
    },
    {
     "name": "stderr",
     "output_type": "stream",
     "text": [
      "/Users/beckermr/mambaforge/envs/rubin-sims/lib/python3.10/site-packages/cartopy/mpl/geoaxes.py:403: UserWarning: The `map_projection` keyword argument is deprecated, use `projection` to instantiate a GeoAxes instead.\n",
      "  warnings.warn(\"The `map_projection` keyword argument is \"\n",
      "/Users/beckermr/mambaforge/envs/rubin-sims/lib/python3.10/site-packages/cartopy/mpl/geoaxes.py:403: UserWarning: The `map_projection` keyword argument is deprecated, use `projection` to instantiate a GeoAxes instead.\n",
      "  warnings.warn(\"The `map_projection` keyword argument is \"\n"
     ]
    },
    {
     "name": "stdout",
     "output_type": "stream",
     "text": [
      "[Parallel(n_jobs=8)]: Done 362 tasks      | elapsed: 22.2min\n"
     ]
    },
    {
     "name": "stderr",
     "output_type": "stream",
     "text": [
      "/Users/beckermr/mambaforge/envs/rubin-sims/lib/python3.10/site-packages/cartopy/mpl/geoaxes.py:403: UserWarning: The `map_projection` keyword argument is deprecated, use `projection` to instantiate a GeoAxes instead.\n",
      "  warnings.warn(\"The `map_projection` keyword argument is \"\n",
      "/Users/beckermr/mambaforge/envs/rubin-sims/lib/python3.10/site-packages/cartopy/mpl/geoaxes.py:403: UserWarning: The `map_projection` keyword argument is deprecated, use `projection` to instantiate a GeoAxes instead.\n",
      "  warnings.warn(\"The `map_projection` keyword argument is \"\n"
     ]
    },
    {
     "name": "stdout",
     "output_type": "stream",
     "text": [
      "[Parallel(n_jobs=8)]: Done 363 tasks      | elapsed: 22.3min\n"
     ]
    },
    {
     "name": "stderr",
     "output_type": "stream",
     "text": [
      "/Users/beckermr/mambaforge/envs/rubin-sims/lib/python3.10/site-packages/cartopy/mpl/geoaxes.py:403: UserWarning: The `map_projection` keyword argument is deprecated, use `projection` to instantiate a GeoAxes instead.\n",
      "  warnings.warn(\"The `map_projection` keyword argument is \"\n",
      "/Users/beckermr/mambaforge/envs/rubin-sims/lib/python3.10/site-packages/cartopy/mpl/geoaxes.py:403: UserWarning: The `map_projection` keyword argument is deprecated, use `projection` to instantiate a GeoAxes instead.\n",
      "  warnings.warn(\"The `map_projection` keyword argument is \"\n"
     ]
    },
    {
     "name": "stdout",
     "output_type": "stream",
     "text": [
      "[Parallel(n_jobs=8)]: Done 364 tasks      | elapsed: 22.3min\n"
     ]
    },
    {
     "name": "stderr",
     "output_type": "stream",
     "text": [
      "/Users/beckermr/mambaforge/envs/rubin-sims/lib/python3.10/site-packages/cartopy/mpl/geoaxes.py:403: UserWarning: The `map_projection` keyword argument is deprecated, use `projection` to instantiate a GeoAxes instead.\n",
      "  warnings.warn(\"The `map_projection` keyword argument is \"\n",
      "/Users/beckermr/mambaforge/envs/rubin-sims/lib/python3.10/site-packages/cartopy/mpl/geoaxes.py:403: UserWarning: The `map_projection` keyword argument is deprecated, use `projection` to instantiate a GeoAxes instead.\n",
      "  warnings.warn(\"The `map_projection` keyword argument is \"\n"
     ]
    },
    {
     "name": "stdout",
     "output_type": "stream",
     "text": [
      "[Parallel(n_jobs=8)]: Done 365 tasks      | elapsed: 22.3min\n",
      "[Parallel(n_jobs=8)]: Done 366 tasks      | elapsed: 22.4min\n",
      "[Parallel(n_jobs=8)]: Done 367 tasks      | elapsed: 22.4min\n"
     ]
    },
    {
     "name": "stderr",
     "output_type": "stream",
     "text": [
      "/Users/beckermr/mambaforge/envs/rubin-sims/lib/python3.10/site-packages/cartopy/mpl/geoaxes.py:403: UserWarning: The `map_projection` keyword argument is deprecated, use `projection` to instantiate a GeoAxes instead.\n",
      "  warnings.warn(\"The `map_projection` keyword argument is \"\n",
      "/Users/beckermr/mambaforge/envs/rubin-sims/lib/python3.10/site-packages/cartopy/mpl/geoaxes.py:403: UserWarning: The `map_projection` keyword argument is deprecated, use `projection` to instantiate a GeoAxes instead.\n",
      "  warnings.warn(\"The `map_projection` keyword argument is \"\n",
      "/Users/beckermr/mambaforge/envs/rubin-sims/lib/python3.10/site-packages/cartopy/mpl/geoaxes.py:403: UserWarning: The `map_projection` keyword argument is deprecated, use `projection` to instantiate a GeoAxes instead.\n",
      "  warnings.warn(\"The `map_projection` keyword argument is \"\n",
      "/Users/beckermr/mambaforge/envs/rubin-sims/lib/python3.10/site-packages/cartopy/mpl/geoaxes.py:403: UserWarning: The `map_projection` keyword argument is deprecated, use `projection` to instantiate a GeoAxes instead.\n",
      "  warnings.warn(\"The `map_projection` keyword argument is \"\n",
      "/Users/beckermr/mambaforge/envs/rubin-sims/lib/python3.10/site-packages/cartopy/mpl/geoaxes.py:403: UserWarning: The `map_projection` keyword argument is deprecated, use `projection` to instantiate a GeoAxes instead.\n",
      "  warnings.warn(\"The `map_projection` keyword argument is \"\n"
     ]
    },
    {
     "name": "stdout",
     "output_type": "stream",
     "text": [
      "[Parallel(n_jobs=8)]: Done 368 tasks      | elapsed: 22.4min\n"
     ]
    },
    {
     "name": "stderr",
     "output_type": "stream",
     "text": [
      "/Users/beckermr/mambaforge/envs/rubin-sims/lib/python3.10/site-packages/cartopy/mpl/geoaxes.py:403: UserWarning: The `map_projection` keyword argument is deprecated, use `projection` to instantiate a GeoAxes instead.\n",
      "  warnings.warn(\"The `map_projection` keyword argument is \"\n",
      "/Users/beckermr/mambaforge/envs/rubin-sims/lib/python3.10/site-packages/cartopy/mpl/geoaxes.py:403: UserWarning: The `map_projection` keyword argument is deprecated, use `projection` to instantiate a GeoAxes instead.\n",
      "  warnings.warn(\"The `map_projection` keyword argument is \"\n",
      "/Users/beckermr/mambaforge/envs/rubin-sims/lib/python3.10/site-packages/cartopy/mpl/geoaxes.py:403: UserWarning: The `map_projection` keyword argument is deprecated, use `projection` to instantiate a GeoAxes instead.\n",
      "  warnings.warn(\"The `map_projection` keyword argument is \"\n"
     ]
    },
    {
     "name": "stdout",
     "output_type": "stream",
     "text": [
      "[Parallel(n_jobs=8)]: Done 369 tasks      | elapsed: 22.7min\n"
     ]
    },
    {
     "name": "stderr",
     "output_type": "stream",
     "text": [
      "/Users/beckermr/mambaforge/envs/rubin-sims/lib/python3.10/site-packages/cartopy/mpl/geoaxes.py:403: UserWarning: The `map_projection` keyword argument is deprecated, use `projection` to instantiate a GeoAxes instead.\n",
      "  warnings.warn(\"The `map_projection` keyword argument is \"\n",
      "/Users/beckermr/mambaforge/envs/rubin-sims/lib/python3.10/site-packages/cartopy/mpl/geoaxes.py:403: UserWarning: The `map_projection` keyword argument is deprecated, use `projection` to instantiate a GeoAxes instead.\n",
      "  warnings.warn(\"The `map_projection` keyword argument is \"\n"
     ]
    },
    {
     "name": "stdout",
     "output_type": "stream",
     "text": [
      "[Parallel(n_jobs=8)]: Done 370 tasks      | elapsed: 22.7min\n"
     ]
    },
    {
     "name": "stderr",
     "output_type": "stream",
     "text": [
      "/Users/beckermr/mambaforge/envs/rubin-sims/lib/python3.10/site-packages/cartopy/mpl/geoaxes.py:403: UserWarning: The `map_projection` keyword argument is deprecated, use `projection` to instantiate a GeoAxes instead.\n",
      "  warnings.warn(\"The `map_projection` keyword argument is \"\n",
      "/Users/beckermr/mambaforge/envs/rubin-sims/lib/python3.10/site-packages/cartopy/mpl/geoaxes.py:403: UserWarning: The `map_projection` keyword argument is deprecated, use `projection` to instantiate a GeoAxes instead.\n",
      "  warnings.warn(\"The `map_projection` keyword argument is \"\n"
     ]
    },
    {
     "name": "stdout",
     "output_type": "stream",
     "text": [
      "[Parallel(n_jobs=8)]: Done 371 tasks      | elapsed: 22.8min\n",
      "[Parallel(n_jobs=8)]: Done 372 tasks      | elapsed: 22.8min\n"
     ]
    },
    {
     "name": "stderr",
     "output_type": "stream",
     "text": [
      "/Users/beckermr/mambaforge/envs/rubin-sims/lib/python3.10/site-packages/cartopy/mpl/geoaxes.py:403: UserWarning: The `map_projection` keyword argument is deprecated, use `projection` to instantiate a GeoAxes instead.\n",
      "  warnings.warn(\"The `map_projection` keyword argument is \"\n",
      "/Users/beckermr/mambaforge/envs/rubin-sims/lib/python3.10/site-packages/cartopy/mpl/geoaxes.py:403: UserWarning: The `map_projection` keyword argument is deprecated, use `projection` to instantiate a GeoAxes instead.\n",
      "  warnings.warn(\"The `map_projection` keyword argument is \"\n",
      "/Users/beckermr/mambaforge/envs/rubin-sims/lib/python3.10/site-packages/cartopy/mpl/geoaxes.py:403: UserWarning: The `map_projection` keyword argument is deprecated, use `projection` to instantiate a GeoAxes instead.\n",
      "  warnings.warn(\"The `map_projection` keyword argument is \"\n",
      "/Users/beckermr/mambaforge/envs/rubin-sims/lib/python3.10/site-packages/cartopy/mpl/geoaxes.py:403: UserWarning: The `map_projection` keyword argument is deprecated, use `projection` to instantiate a GeoAxes instead.\n",
      "  warnings.warn(\"The `map_projection` keyword argument is \"\n"
     ]
    },
    {
     "name": "stdout",
     "output_type": "stream",
     "text": [
      "[Parallel(n_jobs=8)]: Done 373 tasks      | elapsed: 22.9min\n"
     ]
    },
    {
     "name": "stderr",
     "output_type": "stream",
     "text": [
      "/Users/beckermr/mambaforge/envs/rubin-sims/lib/python3.10/site-packages/cartopy/mpl/geoaxes.py:403: UserWarning: The `map_projection` keyword argument is deprecated, use `projection` to instantiate a GeoAxes instead.\n",
      "  warnings.warn(\"The `map_projection` keyword argument is \"\n",
      "/Users/beckermr/mambaforge/envs/rubin-sims/lib/python3.10/site-packages/cartopy/mpl/geoaxes.py:403: UserWarning: The `map_projection` keyword argument is deprecated, use `projection` to instantiate a GeoAxes instead.\n",
      "  warnings.warn(\"The `map_projection` keyword argument is \"\n"
     ]
    },
    {
     "name": "stdout",
     "output_type": "stream",
     "text": [
      "[Parallel(n_jobs=8)]: Done 374 tasks      | elapsed: 22.9min\n"
     ]
    },
    {
     "name": "stderr",
     "output_type": "stream",
     "text": [
      "/Users/beckermr/mambaforge/envs/rubin-sims/lib/python3.10/site-packages/cartopy/mpl/geoaxes.py:403: UserWarning: The `map_projection` keyword argument is deprecated, use `projection` to instantiate a GeoAxes instead.\n",
      "  warnings.warn(\"The `map_projection` keyword argument is \"\n",
      "/Users/beckermr/mambaforge/envs/rubin-sims/lib/python3.10/site-packages/cartopy/mpl/geoaxes.py:403: UserWarning: The `map_projection` keyword argument is deprecated, use `projection` to instantiate a GeoAxes instead.\n",
      "  warnings.warn(\"The `map_projection` keyword argument is \"\n"
     ]
    },
    {
     "name": "stdout",
     "output_type": "stream",
     "text": [
      "[Parallel(n_jobs=8)]: Done 375 tasks      | elapsed: 22.9min\n"
     ]
    },
    {
     "name": "stderr",
     "output_type": "stream",
     "text": [
      "/Users/beckermr/mambaforge/envs/rubin-sims/lib/python3.10/site-packages/cartopy/mpl/geoaxes.py:403: UserWarning: The `map_projection` keyword argument is deprecated, use `projection` to instantiate a GeoAxes instead.\n",
      "  warnings.warn(\"The `map_projection` keyword argument is \"\n",
      "/Users/beckermr/mambaforge/envs/rubin-sims/lib/python3.10/site-packages/cartopy/mpl/geoaxes.py:403: UserWarning: The `map_projection` keyword argument is deprecated, use `projection` to instantiate a GeoAxes instead.\n",
      "  warnings.warn(\"The `map_projection` keyword argument is \"\n"
     ]
    },
    {
     "name": "stdout",
     "output_type": "stream",
     "text": [
      "[Parallel(n_jobs=8)]: Done 376 tasks      | elapsed: 22.9min\n"
     ]
    },
    {
     "name": "stderr",
     "output_type": "stream",
     "text": [
      "/Users/beckermr/mambaforge/envs/rubin-sims/lib/python3.10/site-packages/cartopy/mpl/geoaxes.py:403: UserWarning: The `map_projection` keyword argument is deprecated, use `projection` to instantiate a GeoAxes instead.\n",
      "  warnings.warn(\"The `map_projection` keyword argument is \"\n",
      "/Users/beckermr/mambaforge/envs/rubin-sims/lib/python3.10/site-packages/cartopy/mpl/geoaxes.py:403: UserWarning: The `map_projection` keyword argument is deprecated, use `projection` to instantiate a GeoAxes instead.\n",
      "  warnings.warn(\"The `map_projection` keyword argument is \"\n"
     ]
    },
    {
     "name": "stdout",
     "output_type": "stream",
     "text": [
      "[Parallel(n_jobs=8)]: Done 377 tasks      | elapsed: 23.1min\n"
     ]
    },
    {
     "name": "stderr",
     "output_type": "stream",
     "text": [
      "/Users/beckermr/mambaforge/envs/rubin-sims/lib/python3.10/site-packages/cartopy/mpl/geoaxes.py:403: UserWarning: The `map_projection` keyword argument is deprecated, use `projection` to instantiate a GeoAxes instead.\n",
      "  warnings.warn(\"The `map_projection` keyword argument is \"\n",
      "/Users/beckermr/mambaforge/envs/rubin-sims/lib/python3.10/site-packages/cartopy/mpl/geoaxes.py:403: UserWarning: The `map_projection` keyword argument is deprecated, use `projection` to instantiate a GeoAxes instead.\n",
      "  warnings.warn(\"The `map_projection` keyword argument is \"\n"
     ]
    },
    {
     "name": "stdout",
     "output_type": "stream",
     "text": [
      "[Parallel(n_jobs=8)]: Done 378 tasks      | elapsed: 23.2min\n"
     ]
    },
    {
     "name": "stderr",
     "output_type": "stream",
     "text": [
      "/Users/beckermr/mambaforge/envs/rubin-sims/lib/python3.10/site-packages/cartopy/mpl/geoaxes.py:403: UserWarning: The `map_projection` keyword argument is deprecated, use `projection` to instantiate a GeoAxes instead.\n",
      "  warnings.warn(\"The `map_projection` keyword argument is \"\n",
      "/Users/beckermr/mambaforge/envs/rubin-sims/lib/python3.10/site-packages/cartopy/mpl/geoaxes.py:403: UserWarning: The `map_projection` keyword argument is deprecated, use `projection` to instantiate a GeoAxes instead.\n",
      "  warnings.warn(\"The `map_projection` keyword argument is \"\n"
     ]
    },
    {
     "name": "stdout",
     "output_type": "stream",
     "text": [
      "[Parallel(n_jobs=8)]: Done 379 tasks      | elapsed: 23.3min\n"
     ]
    },
    {
     "name": "stderr",
     "output_type": "stream",
     "text": [
      "/Users/beckermr/mambaforge/envs/rubin-sims/lib/python3.10/site-packages/cartopy/mpl/geoaxes.py:403: UserWarning: The `map_projection` keyword argument is deprecated, use `projection` to instantiate a GeoAxes instead.\n",
      "  warnings.warn(\"The `map_projection` keyword argument is \"\n",
      "/Users/beckermr/mambaforge/envs/rubin-sims/lib/python3.10/site-packages/cartopy/mpl/geoaxes.py:403: UserWarning: The `map_projection` keyword argument is deprecated, use `projection` to instantiate a GeoAxes instead.\n",
      "  warnings.warn(\"The `map_projection` keyword argument is \"\n"
     ]
    },
    {
     "name": "stdout",
     "output_type": "stream",
     "text": [
      "[Parallel(n_jobs=8)]: Done 380 tasks      | elapsed: 23.3min\n",
      "[Parallel(n_jobs=8)]: Done 381 tasks      | elapsed: 23.3min\n"
     ]
    },
    {
     "name": "stderr",
     "output_type": "stream",
     "text": [
      "/Users/beckermr/mambaforge/envs/rubin-sims/lib/python3.10/site-packages/cartopy/mpl/geoaxes.py:403: UserWarning: The `map_projection` keyword argument is deprecated, use `projection` to instantiate a GeoAxes instead.\n",
      "  warnings.warn(\"The `map_projection` keyword argument is \"\n",
      "/Users/beckermr/mambaforge/envs/rubin-sims/lib/python3.10/site-packages/cartopy/mpl/geoaxes.py:403: UserWarning: The `map_projection` keyword argument is deprecated, use `projection` to instantiate a GeoAxes instead.\n",
      "  warnings.warn(\"The `map_projection` keyword argument is \"\n",
      "/Users/beckermr/mambaforge/envs/rubin-sims/lib/python3.10/site-packages/cartopy/mpl/geoaxes.py:403: UserWarning: The `map_projection` keyword argument is deprecated, use `projection` to instantiate a GeoAxes instead.\n",
      "  warnings.warn(\"The `map_projection` keyword argument is \"\n",
      "/Users/beckermr/mambaforge/envs/rubin-sims/lib/python3.10/site-packages/cartopy/mpl/geoaxes.py:403: UserWarning: The `map_projection` keyword argument is deprecated, use `projection` to instantiate a GeoAxes instead.\n",
      "  warnings.warn(\"The `map_projection` keyword argument is \"\n"
     ]
    },
    {
     "name": "stdout",
     "output_type": "stream",
     "text": [
      "[Parallel(n_jobs=8)]: Done 382 tasks      | elapsed: 23.3min\n"
     ]
    },
    {
     "name": "stderr",
     "output_type": "stream",
     "text": [
      "/Users/beckermr/mambaforge/envs/rubin-sims/lib/python3.10/site-packages/cartopy/mpl/geoaxes.py:403: UserWarning: The `map_projection` keyword argument is deprecated, use `projection` to instantiate a GeoAxes instead.\n",
      "  warnings.warn(\"The `map_projection` keyword argument is \"\n",
      "/Users/beckermr/mambaforge/envs/rubin-sims/lib/python3.10/site-packages/cartopy/mpl/geoaxes.py:403: UserWarning: The `map_projection` keyword argument is deprecated, use `projection` to instantiate a GeoAxes instead.\n",
      "  warnings.warn(\"The `map_projection` keyword argument is \"\n"
     ]
    },
    {
     "name": "stdout",
     "output_type": "stream",
     "text": [
      "[Parallel(n_jobs=8)]: Done 383 tasks      | elapsed: 23.4min\n"
     ]
    },
    {
     "name": "stderr",
     "output_type": "stream",
     "text": [
      "/Users/beckermr/mambaforge/envs/rubin-sims/lib/python3.10/site-packages/cartopy/mpl/geoaxes.py:403: UserWarning: The `map_projection` keyword argument is deprecated, use `projection` to instantiate a GeoAxes instead.\n",
      "  warnings.warn(\"The `map_projection` keyword argument is \"\n",
      "/Users/beckermr/mambaforge/envs/rubin-sims/lib/python3.10/site-packages/cartopy/mpl/geoaxes.py:403: UserWarning: The `map_projection` keyword argument is deprecated, use `projection` to instantiate a GeoAxes instead.\n",
      "  warnings.warn(\"The `map_projection` keyword argument is \"\n"
     ]
    },
    {
     "name": "stdout",
     "output_type": "stream",
     "text": [
      "[Parallel(n_jobs=8)]: Done 384 tasks      | elapsed: 23.4min\n"
     ]
    },
    {
     "name": "stderr",
     "output_type": "stream",
     "text": [
      "/Users/beckermr/mambaforge/envs/rubin-sims/lib/python3.10/site-packages/cartopy/mpl/geoaxes.py:403: UserWarning: The `map_projection` keyword argument is deprecated, use `projection` to instantiate a GeoAxes instead.\n",
      "  warnings.warn(\"The `map_projection` keyword argument is \"\n",
      "/Users/beckermr/mambaforge/envs/rubin-sims/lib/python3.10/site-packages/cartopy/mpl/geoaxes.py:403: UserWarning: The `map_projection` keyword argument is deprecated, use `projection` to instantiate a GeoAxes instead.\n",
      "  warnings.warn(\"The `map_projection` keyword argument is \"\n"
     ]
    },
    {
     "name": "stdout",
     "output_type": "stream",
     "text": [
      "[Parallel(n_jobs=8)]: Done 385 tasks      | elapsed: 23.6min\n"
     ]
    },
    {
     "name": "stderr",
     "output_type": "stream",
     "text": [
      "/Users/beckermr/mambaforge/envs/rubin-sims/lib/python3.10/site-packages/cartopy/mpl/geoaxes.py:403: UserWarning: The `map_projection` keyword argument is deprecated, use `projection` to instantiate a GeoAxes instead.\n",
      "  warnings.warn(\"The `map_projection` keyword argument is \"\n",
      "/Users/beckermr/mambaforge/envs/rubin-sims/lib/python3.10/site-packages/cartopy/mpl/geoaxes.py:403: UserWarning: The `map_projection` keyword argument is deprecated, use `projection` to instantiate a GeoAxes instead.\n",
      "  warnings.warn(\"The `map_projection` keyword argument is \"\n"
     ]
    },
    {
     "name": "stdout",
     "output_type": "stream",
     "text": [
      "[Parallel(n_jobs=8)]: Done 386 tasks      | elapsed: 23.6min\n"
     ]
    },
    {
     "name": "stderr",
     "output_type": "stream",
     "text": [
      "/Users/beckermr/mambaforge/envs/rubin-sims/lib/python3.10/site-packages/cartopy/mpl/geoaxes.py:403: UserWarning: The `map_projection` keyword argument is deprecated, use `projection` to instantiate a GeoAxes instead.\n",
      "  warnings.warn(\"The `map_projection` keyword argument is \"\n",
      "/Users/beckermr/mambaforge/envs/rubin-sims/lib/python3.10/site-packages/cartopy/mpl/geoaxes.py:403: UserWarning: The `map_projection` keyword argument is deprecated, use `projection` to instantiate a GeoAxes instead.\n",
      "  warnings.warn(\"The `map_projection` keyword argument is \"\n"
     ]
    },
    {
     "name": "stdout",
     "output_type": "stream",
     "text": [
      "[Parallel(n_jobs=8)]: Done 387 tasks      | elapsed: 23.7min\n"
     ]
    },
    {
     "name": "stderr",
     "output_type": "stream",
     "text": [
      "/Users/beckermr/mambaforge/envs/rubin-sims/lib/python3.10/site-packages/cartopy/mpl/geoaxes.py:403: UserWarning: The `map_projection` keyword argument is deprecated, use `projection` to instantiate a GeoAxes instead.\n",
      "  warnings.warn(\"The `map_projection` keyword argument is \"\n",
      "/Users/beckermr/mambaforge/envs/rubin-sims/lib/python3.10/site-packages/cartopy/mpl/geoaxes.py:403: UserWarning: The `map_projection` keyword argument is deprecated, use `projection` to instantiate a GeoAxes instead.\n",
      "  warnings.warn(\"The `map_projection` keyword argument is \"\n"
     ]
    },
    {
     "name": "stdout",
     "output_type": "stream",
     "text": [
      "[Parallel(n_jobs=8)]: Done 388 tasks      | elapsed: 23.8min\n"
     ]
    },
    {
     "name": "stderr",
     "output_type": "stream",
     "text": [
      "/Users/beckermr/mambaforge/envs/rubin-sims/lib/python3.10/site-packages/cartopy/mpl/geoaxes.py:403: UserWarning: The `map_projection` keyword argument is deprecated, use `projection` to instantiate a GeoAxes instead.\n",
      "  warnings.warn(\"The `map_projection` keyword argument is \"\n",
      "/Users/beckermr/mambaforge/envs/rubin-sims/lib/python3.10/site-packages/cartopy/mpl/geoaxes.py:403: UserWarning: The `map_projection` keyword argument is deprecated, use `projection` to instantiate a GeoAxes instead.\n",
      "  warnings.warn(\"The `map_projection` keyword argument is \"\n"
     ]
    },
    {
     "name": "stdout",
     "output_type": "stream",
     "text": [
      "[Parallel(n_jobs=8)]: Done 389 tasks      | elapsed: 23.8min\n"
     ]
    },
    {
     "name": "stderr",
     "output_type": "stream",
     "text": [
      "/Users/beckermr/mambaforge/envs/rubin-sims/lib/python3.10/site-packages/cartopy/mpl/geoaxes.py:403: UserWarning: The `map_projection` keyword argument is deprecated, use `projection` to instantiate a GeoAxes instead.\n",
      "  warnings.warn(\"The `map_projection` keyword argument is \"\n",
      "/Users/beckermr/mambaforge/envs/rubin-sims/lib/python3.10/site-packages/cartopy/mpl/geoaxes.py:403: UserWarning: The `map_projection` keyword argument is deprecated, use `projection` to instantiate a GeoAxes instead.\n",
      "  warnings.warn(\"The `map_projection` keyword argument is \"\n"
     ]
    },
    {
     "name": "stdout",
     "output_type": "stream",
     "text": [
      "[Parallel(n_jobs=8)]: Done 390 tasks      | elapsed: 23.8min\n"
     ]
    },
    {
     "name": "stderr",
     "output_type": "stream",
     "text": [
      "/Users/beckermr/mambaforge/envs/rubin-sims/lib/python3.10/site-packages/cartopy/mpl/geoaxes.py:403: UserWarning: The `map_projection` keyword argument is deprecated, use `projection` to instantiate a GeoAxes instead.\n",
      "  warnings.warn(\"The `map_projection` keyword argument is \"\n",
      "/Users/beckermr/mambaforge/envs/rubin-sims/lib/python3.10/site-packages/cartopy/mpl/geoaxes.py:403: UserWarning: The `map_projection` keyword argument is deprecated, use `projection` to instantiate a GeoAxes instead.\n",
      "  warnings.warn(\"The `map_projection` keyword argument is \"\n"
     ]
    },
    {
     "name": "stdout",
     "output_type": "stream",
     "text": [
      "[Parallel(n_jobs=8)]: Done 391 tasks      | elapsed: 23.8min\n"
     ]
    },
    {
     "name": "stderr",
     "output_type": "stream",
     "text": [
      "/Users/beckermr/mambaforge/envs/rubin-sims/lib/python3.10/site-packages/cartopy/mpl/geoaxes.py:403: UserWarning: The `map_projection` keyword argument is deprecated, use `projection` to instantiate a GeoAxes instead.\n",
      "  warnings.warn(\"The `map_projection` keyword argument is \"\n",
      "/Users/beckermr/mambaforge/envs/rubin-sims/lib/python3.10/site-packages/cartopy/mpl/geoaxes.py:403: UserWarning: The `map_projection` keyword argument is deprecated, use `projection` to instantiate a GeoAxes instead.\n",
      "  warnings.warn(\"The `map_projection` keyword argument is \"\n"
     ]
    },
    {
     "name": "stdout",
     "output_type": "stream",
     "text": [
      "[Parallel(n_jobs=8)]: Done 392 tasks      | elapsed: 23.9min\n"
     ]
    },
    {
     "name": "stderr",
     "output_type": "stream",
     "text": [
      "/Users/beckermr/mambaforge/envs/rubin-sims/lib/python3.10/site-packages/cartopy/mpl/geoaxes.py:403: UserWarning: The `map_projection` keyword argument is deprecated, use `projection` to instantiate a GeoAxes instead.\n",
      "  warnings.warn(\"The `map_projection` keyword argument is \"\n",
      "/Users/beckermr/mambaforge/envs/rubin-sims/lib/python3.10/site-packages/cartopy/mpl/geoaxes.py:403: UserWarning: The `map_projection` keyword argument is deprecated, use `projection` to instantiate a GeoAxes instead.\n",
      "  warnings.warn(\"The `map_projection` keyword argument is \"\n"
     ]
    },
    {
     "name": "stdout",
     "output_type": "stream",
     "text": [
      "[Parallel(n_jobs=8)]: Done 393 tasks      | elapsed: 24.0min\n"
     ]
    },
    {
     "name": "stderr",
     "output_type": "stream",
     "text": [
      "/Users/beckermr/mambaforge/envs/rubin-sims/lib/python3.10/site-packages/cartopy/mpl/geoaxes.py:403: UserWarning: The `map_projection` keyword argument is deprecated, use `projection` to instantiate a GeoAxes instead.\n",
      "  warnings.warn(\"The `map_projection` keyword argument is \"\n",
      "/Users/beckermr/mambaforge/envs/rubin-sims/lib/python3.10/site-packages/cartopy/mpl/geoaxes.py:403: UserWarning: The `map_projection` keyword argument is deprecated, use `projection` to instantiate a GeoAxes instead.\n",
      "  warnings.warn(\"The `map_projection` keyword argument is \"\n"
     ]
    },
    {
     "name": "stdout",
     "output_type": "stream",
     "text": [
      "[Parallel(n_jobs=8)]: Done 394 tasks      | elapsed: 24.1min\n"
     ]
    },
    {
     "name": "stderr",
     "output_type": "stream",
     "text": [
      "/Users/beckermr/mambaforge/envs/rubin-sims/lib/python3.10/site-packages/cartopy/mpl/geoaxes.py:403: UserWarning: The `map_projection` keyword argument is deprecated, use `projection` to instantiate a GeoAxes instead.\n",
      "  warnings.warn(\"The `map_projection` keyword argument is \"\n",
      "/Users/beckermr/mambaforge/envs/rubin-sims/lib/python3.10/site-packages/cartopy/mpl/geoaxes.py:403: UserWarning: The `map_projection` keyword argument is deprecated, use `projection` to instantiate a GeoAxes instead.\n",
      "  warnings.warn(\"The `map_projection` keyword argument is \"\n"
     ]
    },
    {
     "name": "stdout",
     "output_type": "stream",
     "text": [
      "[Parallel(n_jobs=8)]: Done 395 tasks      | elapsed: 24.2min\n"
     ]
    },
    {
     "name": "stderr",
     "output_type": "stream",
     "text": [
      "/Users/beckermr/mambaforge/envs/rubin-sims/lib/python3.10/site-packages/cartopy/mpl/geoaxes.py:403: UserWarning: The `map_projection` keyword argument is deprecated, use `projection` to instantiate a GeoAxes instead.\n",
      "  warnings.warn(\"The `map_projection` keyword argument is \"\n",
      "/Users/beckermr/mambaforge/envs/rubin-sims/lib/python3.10/site-packages/cartopy/mpl/geoaxes.py:403: UserWarning: The `map_projection` keyword argument is deprecated, use `projection` to instantiate a GeoAxes instead.\n",
      "  warnings.warn(\"The `map_projection` keyword argument is \"\n"
     ]
    },
    {
     "name": "stdout",
     "output_type": "stream",
     "text": [
      "[Parallel(n_jobs=8)]: Done 396 tasks      | elapsed: 24.2min\n"
     ]
    },
    {
     "name": "stderr",
     "output_type": "stream",
     "text": [
      "/Users/beckermr/mambaforge/envs/rubin-sims/lib/python3.10/site-packages/cartopy/mpl/geoaxes.py:403: UserWarning: The `map_projection` keyword argument is deprecated, use `projection` to instantiate a GeoAxes instead.\n",
      "  warnings.warn(\"The `map_projection` keyword argument is \"\n",
      "/Users/beckermr/mambaforge/envs/rubin-sims/lib/python3.10/site-packages/cartopy/mpl/geoaxes.py:403: UserWarning: The `map_projection` keyword argument is deprecated, use `projection` to instantiate a GeoAxes instead.\n",
      "  warnings.warn(\"The `map_projection` keyword argument is \"\n"
     ]
    },
    {
     "name": "stdout",
     "output_type": "stream",
     "text": [
      "[Parallel(n_jobs=8)]: Done 397 tasks      | elapsed: 24.2min\n",
      "[Parallel(n_jobs=8)]: Done 398 tasks      | elapsed: 24.2min\n"
     ]
    },
    {
     "name": "stderr",
     "output_type": "stream",
     "text": [
      "/Users/beckermr/mambaforge/envs/rubin-sims/lib/python3.10/site-packages/cartopy/mpl/geoaxes.py:403: UserWarning: The `map_projection` keyword argument is deprecated, use `projection` to instantiate a GeoAxes instead.\n",
      "  warnings.warn(\"The `map_projection` keyword argument is \"\n",
      "/Users/beckermr/mambaforge/envs/rubin-sims/lib/python3.10/site-packages/cartopy/mpl/geoaxes.py:403: UserWarning: The `map_projection` keyword argument is deprecated, use `projection` to instantiate a GeoAxes instead.\n",
      "  warnings.warn(\"The `map_projection` keyword argument is \"\n",
      "/Users/beckermr/mambaforge/envs/rubin-sims/lib/python3.10/site-packages/cartopy/mpl/geoaxes.py:403: UserWarning: The `map_projection` keyword argument is deprecated, use `projection` to instantiate a GeoAxes instead.\n",
      "  warnings.warn(\"The `map_projection` keyword argument is \"\n",
      "/Users/beckermr/mambaforge/envs/rubin-sims/lib/python3.10/site-packages/cartopy/mpl/geoaxes.py:403: UserWarning: The `map_projection` keyword argument is deprecated, use `projection` to instantiate a GeoAxes instead.\n",
      "  warnings.warn(\"The `map_projection` keyword argument is \"\n"
     ]
    },
    {
     "name": "stdout",
     "output_type": "stream",
     "text": [
      "[Parallel(n_jobs=8)]: Done 399 tasks      | elapsed: 24.3min\n"
     ]
    },
    {
     "name": "stderr",
     "output_type": "stream",
     "text": [
      "/Users/beckermr/mambaforge/envs/rubin-sims/lib/python3.10/site-packages/cartopy/mpl/geoaxes.py:403: UserWarning: The `map_projection` keyword argument is deprecated, use `projection` to instantiate a GeoAxes instead.\n",
      "  warnings.warn(\"The `map_projection` keyword argument is \"\n",
      "/Users/beckermr/mambaforge/envs/rubin-sims/lib/python3.10/site-packages/cartopy/mpl/geoaxes.py:403: UserWarning: The `map_projection` keyword argument is deprecated, use `projection` to instantiate a GeoAxes instead.\n",
      "  warnings.warn(\"The `map_projection` keyword argument is \"\n"
     ]
    },
    {
     "name": "stdout",
     "output_type": "stream",
     "text": [
      "[Parallel(n_jobs=8)]: Done 400 tasks      | elapsed: 24.3min\n"
     ]
    },
    {
     "name": "stderr",
     "output_type": "stream",
     "text": [
      "/Users/beckermr/mambaforge/envs/rubin-sims/lib/python3.10/site-packages/cartopy/mpl/geoaxes.py:403: UserWarning: The `map_projection` keyword argument is deprecated, use `projection` to instantiate a GeoAxes instead.\n",
      "  warnings.warn(\"The `map_projection` keyword argument is \"\n",
      "/Users/beckermr/mambaforge/envs/rubin-sims/lib/python3.10/site-packages/cartopy/mpl/geoaxes.py:403: UserWarning: The `map_projection` keyword argument is deprecated, use `projection` to instantiate a GeoAxes instead.\n",
      "  warnings.warn(\"The `map_projection` keyword argument is \"\n"
     ]
    },
    {
     "name": "stdout",
     "output_type": "stream",
     "text": [
      "[Parallel(n_jobs=8)]: Done 401 tasks      | elapsed: 24.5min\n"
     ]
    },
    {
     "name": "stderr",
     "output_type": "stream",
     "text": [
      "/Users/beckermr/mambaforge/envs/rubin-sims/lib/python3.10/site-packages/cartopy/mpl/geoaxes.py:403: UserWarning: The `map_projection` keyword argument is deprecated, use `projection` to instantiate a GeoAxes instead.\n",
      "  warnings.warn(\"The `map_projection` keyword argument is \"\n",
      "/Users/beckermr/mambaforge/envs/rubin-sims/lib/python3.10/site-packages/cartopy/mpl/geoaxes.py:403: UserWarning: The `map_projection` keyword argument is deprecated, use `projection` to instantiate a GeoAxes instead.\n",
      "  warnings.warn(\"The `map_projection` keyword argument is \"\n"
     ]
    },
    {
     "name": "stdout",
     "output_type": "stream",
     "text": [
      "[Parallel(n_jobs=8)]: Done 402 tasks      | elapsed: 24.5min\n"
     ]
    },
    {
     "name": "stderr",
     "output_type": "stream",
     "text": [
      "/Users/beckermr/mambaforge/envs/rubin-sims/lib/python3.10/site-packages/cartopy/mpl/geoaxes.py:403: UserWarning: The `map_projection` keyword argument is deprecated, use `projection` to instantiate a GeoAxes instead.\n",
      "  warnings.warn(\"The `map_projection` keyword argument is \"\n",
      "/Users/beckermr/mambaforge/envs/rubin-sims/lib/python3.10/site-packages/cartopy/mpl/geoaxes.py:403: UserWarning: The `map_projection` keyword argument is deprecated, use `projection` to instantiate a GeoAxes instead.\n",
      "  warnings.warn(\"The `map_projection` keyword argument is \"\n"
     ]
    },
    {
     "name": "stdout",
     "output_type": "stream",
     "text": [
      "[Parallel(n_jobs=8)]: Done 403 tasks      | elapsed: 24.7min\n"
     ]
    },
    {
     "name": "stderr",
     "output_type": "stream",
     "text": [
      "/Users/beckermr/mambaforge/envs/rubin-sims/lib/python3.10/site-packages/cartopy/mpl/geoaxes.py:403: UserWarning: The `map_projection` keyword argument is deprecated, use `projection` to instantiate a GeoAxes instead.\n",
      "  warnings.warn(\"The `map_projection` keyword argument is \"\n",
      "/Users/beckermr/mambaforge/envs/rubin-sims/lib/python3.10/site-packages/cartopy/mpl/geoaxes.py:403: UserWarning: The `map_projection` keyword argument is deprecated, use `projection` to instantiate a GeoAxes instead.\n",
      "  warnings.warn(\"The `map_projection` keyword argument is \"\n"
     ]
    },
    {
     "name": "stdout",
     "output_type": "stream",
     "text": [
      "[Parallel(n_jobs=8)]: Done 404 tasks      | elapsed: 24.7min\n"
     ]
    },
    {
     "name": "stderr",
     "output_type": "stream",
     "text": [
      "/Users/beckermr/mambaforge/envs/rubin-sims/lib/python3.10/site-packages/cartopy/mpl/geoaxes.py:403: UserWarning: The `map_projection` keyword argument is deprecated, use `projection` to instantiate a GeoAxes instead.\n",
      "  warnings.warn(\"The `map_projection` keyword argument is \"\n",
      "/Users/beckermr/mambaforge/envs/rubin-sims/lib/python3.10/site-packages/cartopy/mpl/geoaxes.py:403: UserWarning: The `map_projection` keyword argument is deprecated, use `projection` to instantiate a GeoAxes instead.\n",
      "  warnings.warn(\"The `map_projection` keyword argument is \"\n"
     ]
    },
    {
     "name": "stdout",
     "output_type": "stream",
     "text": [
      "[Parallel(n_jobs=8)]: Done 405 tasks      | elapsed: 24.7min\n"
     ]
    },
    {
     "name": "stderr",
     "output_type": "stream",
     "text": [
      "/Users/beckermr/mambaforge/envs/rubin-sims/lib/python3.10/site-packages/cartopy/mpl/geoaxes.py:403: UserWarning: The `map_projection` keyword argument is deprecated, use `projection` to instantiate a GeoAxes instead.\n",
      "  warnings.warn(\"The `map_projection` keyword argument is \"\n",
      "/Users/beckermr/mambaforge/envs/rubin-sims/lib/python3.10/site-packages/cartopy/mpl/geoaxes.py:403: UserWarning: The `map_projection` keyword argument is deprecated, use `projection` to instantiate a GeoAxes instead.\n",
      "  warnings.warn(\"The `map_projection` keyword argument is \"\n"
     ]
    },
    {
     "name": "stdout",
     "output_type": "stream",
     "text": [
      "[Parallel(n_jobs=8)]: Done 406 tasks      | elapsed: 24.7min\n"
     ]
    },
    {
     "name": "stderr",
     "output_type": "stream",
     "text": [
      "/Users/beckermr/mambaforge/envs/rubin-sims/lib/python3.10/site-packages/cartopy/mpl/geoaxes.py:403: UserWarning: The `map_projection` keyword argument is deprecated, use `projection` to instantiate a GeoAxes instead.\n",
      "  warnings.warn(\"The `map_projection` keyword argument is \"\n",
      "/Users/beckermr/mambaforge/envs/rubin-sims/lib/python3.10/site-packages/cartopy/mpl/geoaxes.py:403: UserWarning: The `map_projection` keyword argument is deprecated, use `projection` to instantiate a GeoAxes instead.\n",
      "  warnings.warn(\"The `map_projection` keyword argument is \"\n"
     ]
    },
    {
     "name": "stdout",
     "output_type": "stream",
     "text": [
      "[Parallel(n_jobs=8)]: Done 407 tasks      | elapsed: 24.7min\n"
     ]
    },
    {
     "name": "stderr",
     "output_type": "stream",
     "text": [
      "/Users/beckermr/mambaforge/envs/rubin-sims/lib/python3.10/site-packages/cartopy/mpl/geoaxes.py:403: UserWarning: The `map_projection` keyword argument is deprecated, use `projection` to instantiate a GeoAxes instead.\n",
      "  warnings.warn(\"The `map_projection` keyword argument is \"\n",
      "/Users/beckermr/mambaforge/envs/rubin-sims/lib/python3.10/site-packages/cartopy/mpl/geoaxes.py:403: UserWarning: The `map_projection` keyword argument is deprecated, use `projection` to instantiate a GeoAxes instead.\n",
      "  warnings.warn(\"The `map_projection` keyword argument is \"\n"
     ]
    },
    {
     "name": "stdout",
     "output_type": "stream",
     "text": [
      "[Parallel(n_jobs=8)]: Done 408 tasks      | elapsed: 24.8min\n"
     ]
    },
    {
     "name": "stderr",
     "output_type": "stream",
     "text": [
      "/Users/beckermr/mambaforge/envs/rubin-sims/lib/python3.10/site-packages/cartopy/mpl/geoaxes.py:403: UserWarning: The `map_projection` keyword argument is deprecated, use `projection` to instantiate a GeoAxes instead.\n",
      "  warnings.warn(\"The `map_projection` keyword argument is \"\n",
      "/Users/beckermr/mambaforge/envs/rubin-sims/lib/python3.10/site-packages/cartopy/mpl/geoaxes.py:403: UserWarning: The `map_projection` keyword argument is deprecated, use `projection` to instantiate a GeoAxes instead.\n",
      "  warnings.warn(\"The `map_projection` keyword argument is \"\n"
     ]
    },
    {
     "name": "stdout",
     "output_type": "stream",
     "text": [
      "[Parallel(n_jobs=8)]: Done 409 tasks      | elapsed: 25.0min\n"
     ]
    },
    {
     "name": "stderr",
     "output_type": "stream",
     "text": [
      "/Users/beckermr/mambaforge/envs/rubin-sims/lib/python3.10/site-packages/cartopy/mpl/geoaxes.py:403: UserWarning: The `map_projection` keyword argument is deprecated, use `projection` to instantiate a GeoAxes instead.\n",
      "  warnings.warn(\"The `map_projection` keyword argument is \"\n",
      "/Users/beckermr/mambaforge/envs/rubin-sims/lib/python3.10/site-packages/cartopy/mpl/geoaxes.py:403: UserWarning: The `map_projection` keyword argument is deprecated, use `projection` to instantiate a GeoAxes instead.\n",
      "  warnings.warn(\"The `map_projection` keyword argument is \"\n",
      "/Users/beckermr/mambaforge/envs/rubin-sims/lib/python3.10/site-packages/cartopy/mpl/geoaxes.py:403: UserWarning: The `map_projection` keyword argument is deprecated, use `projection` to instantiate a GeoAxes instead.\n",
      "  warnings.warn(\"The `map_projection` keyword argument is \"\n",
      "/Users/beckermr/mambaforge/envs/rubin-sims/lib/python3.10/site-packages/cartopy/mpl/geoaxes.py:403: UserWarning: The `map_projection` keyword argument is deprecated, use `projection` to instantiate a GeoAxes instead.\n",
      "  warnings.warn(\"The `map_projection` keyword argument is \"\n"
     ]
    },
    {
     "name": "stdout",
     "output_type": "stream",
     "text": [
      "[Parallel(n_jobs=8)]: Done 410 tasks      | elapsed: 25.0min\n",
      "[Parallel(n_jobs=8)]: Done 411 tasks      | elapsed: 25.1min\n",
      "[Parallel(n_jobs=8)]: Done 412 tasks      | elapsed: 25.1min\n"
     ]
    },
    {
     "name": "stderr",
     "output_type": "stream",
     "text": [
      "/Users/beckermr/mambaforge/envs/rubin-sims/lib/python3.10/site-packages/cartopy/mpl/geoaxes.py:403: UserWarning: The `map_projection` keyword argument is deprecated, use `projection` to instantiate a GeoAxes instead.\n",
      "  warnings.warn(\"The `map_projection` keyword argument is \"\n",
      "/Users/beckermr/mambaforge/envs/rubin-sims/lib/python3.10/site-packages/cartopy/mpl/geoaxes.py:403: UserWarning: The `map_projection` keyword argument is deprecated, use `projection` to instantiate a GeoAxes instead.\n",
      "  warnings.warn(\"The `map_projection` keyword argument is \"\n",
      "/Users/beckermr/mambaforge/envs/rubin-sims/lib/python3.10/site-packages/cartopy/mpl/geoaxes.py:403: UserWarning: The `map_projection` keyword argument is deprecated, use `projection` to instantiate a GeoAxes instead.\n",
      "  warnings.warn(\"The `map_projection` keyword argument is \"\n",
      "/Users/beckermr/mambaforge/envs/rubin-sims/lib/python3.10/site-packages/cartopy/mpl/geoaxes.py:403: UserWarning: The `map_projection` keyword argument is deprecated, use `projection` to instantiate a GeoAxes instead.\n",
      "  warnings.warn(\"The `map_projection` keyword argument is \"\n"
     ]
    },
    {
     "name": "stdout",
     "output_type": "stream",
     "text": [
      "[Parallel(n_jobs=8)]: Done 413 tasks      | elapsed: 25.1min\n",
      "[Parallel(n_jobs=8)]: Done 414 tasks      | elapsed: 25.1min\n",
      "[Parallel(n_jobs=8)]: Done 415 tasks      | elapsed: 25.2min\n"
     ]
    },
    {
     "name": "stderr",
     "output_type": "stream",
     "text": [
      "/Users/beckermr/mambaforge/envs/rubin-sims/lib/python3.10/site-packages/cartopy/mpl/geoaxes.py:403: UserWarning: The `map_projection` keyword argument is deprecated, use `projection` to instantiate a GeoAxes instead.\n",
      "  warnings.warn(\"The `map_projection` keyword argument is \"\n",
      "/Users/beckermr/mambaforge/envs/rubin-sims/lib/python3.10/site-packages/cartopy/mpl/geoaxes.py:403: UserWarning: The `map_projection` keyword argument is deprecated, use `projection` to instantiate a GeoAxes instead.\n",
      "  warnings.warn(\"The `map_projection` keyword argument is \"\n",
      "/Users/beckermr/mambaforge/envs/rubin-sims/lib/python3.10/site-packages/cartopy/mpl/geoaxes.py:403: UserWarning: The `map_projection` keyword argument is deprecated, use `projection` to instantiate a GeoAxes instead.\n",
      "  warnings.warn(\"The `map_projection` keyword argument is \"\n",
      "/Users/beckermr/mambaforge/envs/rubin-sims/lib/python3.10/site-packages/cartopy/mpl/geoaxes.py:403: UserWarning: The `map_projection` keyword argument is deprecated, use `projection` to instantiate a GeoAxes instead.\n",
      "  warnings.warn(\"The `map_projection` keyword argument is \"\n"
     ]
    },
    {
     "name": "stdout",
     "output_type": "stream",
     "text": [
      "[Parallel(n_jobs=8)]: Done 416 tasks      | elapsed: 25.2min\n"
     ]
    },
    {
     "name": "stderr",
     "output_type": "stream",
     "text": [
      "/Users/beckermr/mambaforge/envs/rubin-sims/lib/python3.10/site-packages/cartopy/mpl/geoaxes.py:403: UserWarning: The `map_projection` keyword argument is deprecated, use `projection` to instantiate a GeoAxes instead.\n",
      "  warnings.warn(\"The `map_projection` keyword argument is \"\n",
      "/Users/beckermr/mambaforge/envs/rubin-sims/lib/python3.10/site-packages/cartopy/mpl/geoaxes.py:403: UserWarning: The `map_projection` keyword argument is deprecated, use `projection` to instantiate a GeoAxes instead.\n",
      "  warnings.warn(\"The `map_projection` keyword argument is \"\n",
      "/Users/beckermr/mambaforge/envs/rubin-sims/lib/python3.10/site-packages/cartopy/mpl/geoaxes.py:403: UserWarning: The `map_projection` keyword argument is deprecated, use `projection` to instantiate a GeoAxes instead.\n",
      "  warnings.warn(\"The `map_projection` keyword argument is \"\n",
      "/Users/beckermr/mambaforge/envs/rubin-sims/lib/python3.10/site-packages/cartopy/mpl/geoaxes.py:403: UserWarning: The `map_projection` keyword argument is deprecated, use `projection` to instantiate a GeoAxes instead.\n",
      "  warnings.warn(\"The `map_projection` keyword argument is \"\n"
     ]
    },
    {
     "name": "stdout",
     "output_type": "stream",
     "text": [
      "[Parallel(n_jobs=8)]: Done 417 tasks      | elapsed: 25.4min\n"
     ]
    },
    {
     "name": "stderr",
     "output_type": "stream",
     "text": [
      "/Users/beckermr/mambaforge/envs/rubin-sims/lib/python3.10/site-packages/cartopy/mpl/geoaxes.py:403: UserWarning: The `map_projection` keyword argument is deprecated, use `projection` to instantiate a GeoAxes instead.\n",
      "  warnings.warn(\"The `map_projection` keyword argument is \"\n",
      "/Users/beckermr/mambaforge/envs/rubin-sims/lib/python3.10/site-packages/cartopy/mpl/geoaxes.py:403: UserWarning: The `map_projection` keyword argument is deprecated, use `projection` to instantiate a GeoAxes instead.\n",
      "  warnings.warn(\"The `map_projection` keyword argument is \"\n",
      "/Users/beckermr/mambaforge/envs/rubin-sims/lib/python3.10/site-packages/cartopy/mpl/geoaxes.py:403: UserWarning: The `map_projection` keyword argument is deprecated, use `projection` to instantiate a GeoAxes instead.\n",
      "  warnings.warn(\"The `map_projection` keyword argument is \"\n"
     ]
    },
    {
     "name": "stdout",
     "output_type": "stream",
     "text": [
      "[Parallel(n_jobs=8)]: Done 418 tasks      | elapsed: 25.4min\n"
     ]
    },
    {
     "name": "stderr",
     "output_type": "stream",
     "text": [
      "/Users/beckermr/mambaforge/envs/rubin-sims/lib/python3.10/site-packages/cartopy/mpl/geoaxes.py:403: UserWarning: The `map_projection` keyword argument is deprecated, use `projection` to instantiate a GeoAxes instead.\n",
      "  warnings.warn(\"The `map_projection` keyword argument is \"\n"
     ]
    },
    {
     "name": "stdout",
     "output_type": "stream",
     "text": [
      "[Parallel(n_jobs=8)]: Done 419 tasks      | elapsed: 25.6min\n",
      "[Parallel(n_jobs=8)]: Done 420 tasks      | elapsed: 25.6min\n"
     ]
    },
    {
     "name": "stderr",
     "output_type": "stream",
     "text": [
      "/Users/beckermr/mambaforge/envs/rubin-sims/lib/python3.10/site-packages/cartopy/mpl/geoaxes.py:403: UserWarning: The `map_projection` keyword argument is deprecated, use `projection` to instantiate a GeoAxes instead.\n",
      "  warnings.warn(\"The `map_projection` keyword argument is \"\n",
      "/Users/beckermr/mambaforge/envs/rubin-sims/lib/python3.10/site-packages/cartopy/mpl/geoaxes.py:403: UserWarning: The `map_projection` keyword argument is deprecated, use `projection` to instantiate a GeoAxes instead.\n",
      "  warnings.warn(\"The `map_projection` keyword argument is \"\n",
      "/Users/beckermr/mambaforge/envs/rubin-sims/lib/python3.10/site-packages/cartopy/mpl/geoaxes.py:403: UserWarning: The `map_projection` keyword argument is deprecated, use `projection` to instantiate a GeoAxes instead.\n",
      "  warnings.warn(\"The `map_projection` keyword argument is \"\n",
      "/Users/beckermr/mambaforge/envs/rubin-sims/lib/python3.10/site-packages/cartopy/mpl/geoaxes.py:403: UserWarning: The `map_projection` keyword argument is deprecated, use `projection` to instantiate a GeoAxes instead.\n",
      "  warnings.warn(\"The `map_projection` keyword argument is \"\n"
     ]
    },
    {
     "name": "stdout",
     "output_type": "stream",
     "text": [
      "[Parallel(n_jobs=8)]: Done 421 tasks      | elapsed: 25.6min\n",
      "[Parallel(n_jobs=8)]: Done 422 tasks      | elapsed: 25.6min\n"
     ]
    },
    {
     "name": "stderr",
     "output_type": "stream",
     "text": [
      "/Users/beckermr/mambaforge/envs/rubin-sims/lib/python3.10/site-packages/cartopy/mpl/geoaxes.py:403: UserWarning: The `map_projection` keyword argument is deprecated, use `projection` to instantiate a GeoAxes instead.\n",
      "  warnings.warn(\"The `map_projection` keyword argument is \"\n",
      "/Users/beckermr/mambaforge/envs/rubin-sims/lib/python3.10/site-packages/cartopy/mpl/geoaxes.py:403: UserWarning: The `map_projection` keyword argument is deprecated, use `projection` to instantiate a GeoAxes instead.\n",
      "  warnings.warn(\"The `map_projection` keyword argument is \"\n",
      "/Users/beckermr/mambaforge/envs/rubin-sims/lib/python3.10/site-packages/cartopy/mpl/geoaxes.py:403: UserWarning: The `map_projection` keyword argument is deprecated, use `projection` to instantiate a GeoAxes instead.\n",
      "  warnings.warn(\"The `map_projection` keyword argument is \"\n",
      "/Users/beckermr/mambaforge/envs/rubin-sims/lib/python3.10/site-packages/cartopy/mpl/geoaxes.py:403: UserWarning: The `map_projection` keyword argument is deprecated, use `projection` to instantiate a GeoAxes instead.\n",
      "  warnings.warn(\"The `map_projection` keyword argument is \"\n"
     ]
    },
    {
     "name": "stdout",
     "output_type": "stream",
     "text": [
      "[Parallel(n_jobs=8)]: Done 423 tasks      | elapsed: 25.7min\n",
      "[Parallel(n_jobs=8)]: Done 424 tasks      | elapsed: 25.7min\n"
     ]
    },
    {
     "name": "stderr",
     "output_type": "stream",
     "text": [
      "/Users/beckermr/mambaforge/envs/rubin-sims/lib/python3.10/site-packages/cartopy/mpl/geoaxes.py:403: UserWarning: The `map_projection` keyword argument is deprecated, use `projection` to instantiate a GeoAxes instead.\n",
      "  warnings.warn(\"The `map_projection` keyword argument is \"\n",
      "/Users/beckermr/mambaforge/envs/rubin-sims/lib/python3.10/site-packages/cartopy/mpl/geoaxes.py:403: UserWarning: The `map_projection` keyword argument is deprecated, use `projection` to instantiate a GeoAxes instead.\n",
      "  warnings.warn(\"The `map_projection` keyword argument is \"\n",
      "/Users/beckermr/mambaforge/envs/rubin-sims/lib/python3.10/site-packages/cartopy/mpl/geoaxes.py:403: UserWarning: The `map_projection` keyword argument is deprecated, use `projection` to instantiate a GeoAxes instead.\n",
      "  warnings.warn(\"The `map_projection` keyword argument is \"\n",
      "/Users/beckermr/mambaforge/envs/rubin-sims/lib/python3.10/site-packages/cartopy/mpl/geoaxes.py:403: UserWarning: The `map_projection` keyword argument is deprecated, use `projection` to instantiate a GeoAxes instead.\n",
      "  warnings.warn(\"The `map_projection` keyword argument is \"\n"
     ]
    },
    {
     "name": "stdout",
     "output_type": "stream",
     "text": [
      "[Parallel(n_jobs=8)]: Done 425 tasks      | elapsed: 25.9min\n",
      "[Parallel(n_jobs=8)]: Done 426 tasks      | elapsed: 25.9min\n"
     ]
    },
    {
     "name": "stderr",
     "output_type": "stream",
     "text": [
      "/Users/beckermr/mambaforge/envs/rubin-sims/lib/python3.10/site-packages/cartopy/mpl/geoaxes.py:403: UserWarning: The `map_projection` keyword argument is deprecated, use `projection` to instantiate a GeoAxes instead.\n",
      "  warnings.warn(\"The `map_projection` keyword argument is \"\n",
      "/Users/beckermr/mambaforge/envs/rubin-sims/lib/python3.10/site-packages/cartopy/mpl/geoaxes.py:403: UserWarning: The `map_projection` keyword argument is deprecated, use `projection` to instantiate a GeoAxes instead.\n",
      "  warnings.warn(\"The `map_projection` keyword argument is \"\n",
      "/Users/beckermr/mambaforge/envs/rubin-sims/lib/python3.10/site-packages/cartopy/mpl/geoaxes.py:403: UserWarning: The `map_projection` keyword argument is deprecated, use `projection` to instantiate a GeoAxes instead.\n",
      "  warnings.warn(\"The `map_projection` keyword argument is \"\n",
      "/Users/beckermr/mambaforge/envs/rubin-sims/lib/python3.10/site-packages/cartopy/mpl/geoaxes.py:403: UserWarning: The `map_projection` keyword argument is deprecated, use `projection` to instantiate a GeoAxes instead.\n",
      "  warnings.warn(\"The `map_projection` keyword argument is \"\n"
     ]
    },
    {
     "name": "stdout",
     "output_type": "stream",
     "text": [
      "[Parallel(n_jobs=8)]: Done 427 tasks      | elapsed: 26.1min\n"
     ]
    },
    {
     "name": "stderr",
     "output_type": "stream",
     "text": [
      "/Users/beckermr/mambaforge/envs/rubin-sims/lib/python3.10/site-packages/cartopy/mpl/geoaxes.py:403: UserWarning: The `map_projection` keyword argument is deprecated, use `projection` to instantiate a GeoAxes instead.\n",
      "  warnings.warn(\"The `map_projection` keyword argument is \"\n",
      "/Users/beckermr/mambaforge/envs/rubin-sims/lib/python3.10/site-packages/cartopy/mpl/geoaxes.py:403: UserWarning: The `map_projection` keyword argument is deprecated, use `projection` to instantiate a GeoAxes instead.\n",
      "  warnings.warn(\"The `map_projection` keyword argument is \"\n"
     ]
    },
    {
     "name": "stdout",
     "output_type": "stream",
     "text": [
      "[Parallel(n_jobs=8)]: Done 428 tasks      | elapsed: 26.1min\n"
     ]
    },
    {
     "name": "stderr",
     "output_type": "stream",
     "text": [
      "/Users/beckermr/mambaforge/envs/rubin-sims/lib/python3.10/site-packages/cartopy/mpl/geoaxes.py:403: UserWarning: The `map_projection` keyword argument is deprecated, use `projection` to instantiate a GeoAxes instead.\n",
      "  warnings.warn(\"The `map_projection` keyword argument is \"\n",
      "/Users/beckermr/mambaforge/envs/rubin-sims/lib/python3.10/site-packages/cartopy/mpl/geoaxes.py:403: UserWarning: The `map_projection` keyword argument is deprecated, use `projection` to instantiate a GeoAxes instead.\n",
      "  warnings.warn(\"The `map_projection` keyword argument is \"\n"
     ]
    },
    {
     "name": "stdout",
     "output_type": "stream",
     "text": [
      "[Parallel(n_jobs=8)]: Done 429 tasks      | elapsed: 26.1min\n"
     ]
    },
    {
     "name": "stderr",
     "output_type": "stream",
     "text": [
      "/Users/beckermr/mambaforge/envs/rubin-sims/lib/python3.10/site-packages/cartopy/mpl/geoaxes.py:403: UserWarning: The `map_projection` keyword argument is deprecated, use `projection` to instantiate a GeoAxes instead.\n",
      "  warnings.warn(\"The `map_projection` keyword argument is \"\n",
      "/Users/beckermr/mambaforge/envs/rubin-sims/lib/python3.10/site-packages/cartopy/mpl/geoaxes.py:403: UserWarning: The `map_projection` keyword argument is deprecated, use `projection` to instantiate a GeoAxes instead.\n",
      "  warnings.warn(\"The `map_projection` keyword argument is \"\n"
     ]
    },
    {
     "name": "stdout",
     "output_type": "stream",
     "text": [
      "[Parallel(n_jobs=8)]: Done 430 tasks      | elapsed: 26.1min\n"
     ]
    },
    {
     "name": "stderr",
     "output_type": "stream",
     "text": [
      "/Users/beckermr/mambaforge/envs/rubin-sims/lib/python3.10/site-packages/cartopy/mpl/geoaxes.py:403: UserWarning: The `map_projection` keyword argument is deprecated, use `projection` to instantiate a GeoAxes instead.\n",
      "  warnings.warn(\"The `map_projection` keyword argument is \"\n",
      "/Users/beckermr/mambaforge/envs/rubin-sims/lib/python3.10/site-packages/cartopy/mpl/geoaxes.py:403: UserWarning: The `map_projection` keyword argument is deprecated, use `projection` to instantiate a GeoAxes instead.\n",
      "  warnings.warn(\"The `map_projection` keyword argument is \"\n"
     ]
    },
    {
     "name": "stdout",
     "output_type": "stream",
     "text": [
      "[Parallel(n_jobs=8)]: Done 431 tasks      | elapsed: 26.1min\n"
     ]
    },
    {
     "name": "stderr",
     "output_type": "stream",
     "text": [
      "/Users/beckermr/mambaforge/envs/rubin-sims/lib/python3.10/site-packages/cartopy/mpl/geoaxes.py:403: UserWarning: The `map_projection` keyword argument is deprecated, use `projection` to instantiate a GeoAxes instead.\n",
      "  warnings.warn(\"The `map_projection` keyword argument is \"\n",
      "/Users/beckermr/mambaforge/envs/rubin-sims/lib/python3.10/site-packages/cartopy/mpl/geoaxes.py:403: UserWarning: The `map_projection` keyword argument is deprecated, use `projection` to instantiate a GeoAxes instead.\n",
      "  warnings.warn(\"The `map_projection` keyword argument is \"\n"
     ]
    },
    {
     "name": "stdout",
     "output_type": "stream",
     "text": [
      "[Parallel(n_jobs=8)]: Done 432 tasks      | elapsed: 26.2min\n"
     ]
    },
    {
     "name": "stderr",
     "output_type": "stream",
     "text": [
      "/Users/beckermr/mambaforge/envs/rubin-sims/lib/python3.10/site-packages/cartopy/mpl/geoaxes.py:403: UserWarning: The `map_projection` keyword argument is deprecated, use `projection` to instantiate a GeoAxes instead.\n",
      "  warnings.warn(\"The `map_projection` keyword argument is \"\n",
      "/Users/beckermr/mambaforge/envs/rubin-sims/lib/python3.10/site-packages/cartopy/mpl/geoaxes.py:403: UserWarning: The `map_projection` keyword argument is deprecated, use `projection` to instantiate a GeoAxes instead.\n",
      "  warnings.warn(\"The `map_projection` keyword argument is \"\n"
     ]
    },
    {
     "name": "stdout",
     "output_type": "stream",
     "text": [
      "[Parallel(n_jobs=8)]: Done 433 tasks      | elapsed: 26.3min\n"
     ]
    },
    {
     "name": "stderr",
     "output_type": "stream",
     "text": [
      "/Users/beckermr/mambaforge/envs/rubin-sims/lib/python3.10/site-packages/cartopy/mpl/geoaxes.py:403: UserWarning: The `map_projection` keyword argument is deprecated, use `projection` to instantiate a GeoAxes instead.\n",
      "  warnings.warn(\"The `map_projection` keyword argument is \"\n",
      "/Users/beckermr/mambaforge/envs/rubin-sims/lib/python3.10/site-packages/cartopy/mpl/geoaxes.py:403: UserWarning: The `map_projection` keyword argument is deprecated, use `projection` to instantiate a GeoAxes instead.\n",
      "  warnings.warn(\"The `map_projection` keyword argument is \"\n"
     ]
    },
    {
     "name": "stdout",
     "output_type": "stream",
     "text": [
      "[Parallel(n_jobs=8)]: Done 434 tasks      | elapsed: 26.4min\n"
     ]
    },
    {
     "name": "stderr",
     "output_type": "stream",
     "text": [
      "/Users/beckermr/mambaforge/envs/rubin-sims/lib/python3.10/site-packages/cartopy/mpl/geoaxes.py:403: UserWarning: The `map_projection` keyword argument is deprecated, use `projection` to instantiate a GeoAxes instead.\n",
      "  warnings.warn(\"The `map_projection` keyword argument is \"\n",
      "/Users/beckermr/mambaforge/envs/rubin-sims/lib/python3.10/site-packages/cartopy/mpl/geoaxes.py:403: UserWarning: The `map_projection` keyword argument is deprecated, use `projection` to instantiate a GeoAxes instead.\n",
      "  warnings.warn(\"The `map_projection` keyword argument is \"\n"
     ]
    },
    {
     "name": "stdout",
     "output_type": "stream",
     "text": [
      "[Parallel(n_jobs=8)]: Done 435 tasks      | elapsed: 26.5min\n"
     ]
    },
    {
     "name": "stderr",
     "output_type": "stream",
     "text": [
      "/Users/beckermr/mambaforge/envs/rubin-sims/lib/python3.10/site-packages/cartopy/mpl/geoaxes.py:403: UserWarning: The `map_projection` keyword argument is deprecated, use `projection` to instantiate a GeoAxes instead.\n",
      "  warnings.warn(\"The `map_projection` keyword argument is \"\n",
      "/Users/beckermr/mambaforge/envs/rubin-sims/lib/python3.10/site-packages/cartopy/mpl/geoaxes.py:403: UserWarning: The `map_projection` keyword argument is deprecated, use `projection` to instantiate a GeoAxes instead.\n",
      "  warnings.warn(\"The `map_projection` keyword argument is \"\n"
     ]
    },
    {
     "name": "stdout",
     "output_type": "stream",
     "text": [
      "[Parallel(n_jobs=8)]: Done 436 tasks      | elapsed: 26.5min\n"
     ]
    },
    {
     "name": "stderr",
     "output_type": "stream",
     "text": [
      "/Users/beckermr/mambaforge/envs/rubin-sims/lib/python3.10/site-packages/cartopy/mpl/geoaxes.py:403: UserWarning: The `map_projection` keyword argument is deprecated, use `projection` to instantiate a GeoAxes instead.\n",
      "  warnings.warn(\"The `map_projection` keyword argument is \"\n",
      "/Users/beckermr/mambaforge/envs/rubin-sims/lib/python3.10/site-packages/cartopy/mpl/geoaxes.py:403: UserWarning: The `map_projection` keyword argument is deprecated, use `projection` to instantiate a GeoAxes instead.\n",
      "  warnings.warn(\"The `map_projection` keyword argument is \"\n"
     ]
    },
    {
     "name": "stdout",
     "output_type": "stream",
     "text": [
      "[Parallel(n_jobs=8)]: Done 437 tasks      | elapsed: 26.5min\n"
     ]
    },
    {
     "name": "stderr",
     "output_type": "stream",
     "text": [
      "/Users/beckermr/mambaforge/envs/rubin-sims/lib/python3.10/site-packages/cartopy/mpl/geoaxes.py:403: UserWarning: The `map_projection` keyword argument is deprecated, use `projection` to instantiate a GeoAxes instead.\n",
      "  warnings.warn(\"The `map_projection` keyword argument is \"\n",
      "/Users/beckermr/mambaforge/envs/rubin-sims/lib/python3.10/site-packages/cartopy/mpl/geoaxes.py:403: UserWarning: The `map_projection` keyword argument is deprecated, use `projection` to instantiate a GeoAxes instead.\n",
      "  warnings.warn(\"The `map_projection` keyword argument is \"\n"
     ]
    },
    {
     "name": "stdout",
     "output_type": "stream",
     "text": [
      "[Parallel(n_jobs=8)]: Done 438 tasks      | elapsed: 26.5min\n"
     ]
    },
    {
     "name": "stderr",
     "output_type": "stream",
     "text": [
      "/Users/beckermr/mambaforge/envs/rubin-sims/lib/python3.10/site-packages/cartopy/mpl/geoaxes.py:403: UserWarning: The `map_projection` keyword argument is deprecated, use `projection` to instantiate a GeoAxes instead.\n",
      "  warnings.warn(\"The `map_projection` keyword argument is \"\n",
      "/Users/beckermr/mambaforge/envs/rubin-sims/lib/python3.10/site-packages/cartopy/mpl/geoaxes.py:403: UserWarning: The `map_projection` keyword argument is deprecated, use `projection` to instantiate a GeoAxes instead.\n",
      "  warnings.warn(\"The `map_projection` keyword argument is \"\n"
     ]
    },
    {
     "name": "stdout",
     "output_type": "stream",
     "text": [
      "[Parallel(n_jobs=8)]: Done 439 tasks      | elapsed: 26.5min\n"
     ]
    },
    {
     "name": "stderr",
     "output_type": "stream",
     "text": [
      "/Users/beckermr/mambaforge/envs/rubin-sims/lib/python3.10/site-packages/cartopy/mpl/geoaxes.py:403: UserWarning: The `map_projection` keyword argument is deprecated, use `projection` to instantiate a GeoAxes instead.\n",
      "  warnings.warn(\"The `map_projection` keyword argument is \"\n",
      "/Users/beckermr/mambaforge/envs/rubin-sims/lib/python3.10/site-packages/cartopy/mpl/geoaxes.py:403: UserWarning: The `map_projection` keyword argument is deprecated, use `projection` to instantiate a GeoAxes instead.\n",
      "  warnings.warn(\"The `map_projection` keyword argument is \"\n"
     ]
    },
    {
     "name": "stdout",
     "output_type": "stream",
     "text": [
      "[Parallel(n_jobs=8)]: Done 440 tasks      | elapsed: 26.6min\n"
     ]
    },
    {
     "name": "stderr",
     "output_type": "stream",
     "text": [
      "/Users/beckermr/mambaforge/envs/rubin-sims/lib/python3.10/site-packages/cartopy/mpl/geoaxes.py:403: UserWarning: The `map_projection` keyword argument is deprecated, use `projection` to instantiate a GeoAxes instead.\n",
      "  warnings.warn(\"The `map_projection` keyword argument is \"\n",
      "/Users/beckermr/mambaforge/envs/rubin-sims/lib/python3.10/site-packages/cartopy/mpl/geoaxes.py:403: UserWarning: The `map_projection` keyword argument is deprecated, use `projection` to instantiate a GeoAxes instead.\n",
      "  warnings.warn(\"The `map_projection` keyword argument is \"\n"
     ]
    },
    {
     "name": "stdout",
     "output_type": "stream",
     "text": [
      "[Parallel(n_jobs=8)]: Done 441 tasks      | elapsed: 26.8min\n"
     ]
    },
    {
     "name": "stderr",
     "output_type": "stream",
     "text": [
      "/Users/beckermr/mambaforge/envs/rubin-sims/lib/python3.10/site-packages/cartopy/mpl/geoaxes.py:403: UserWarning: The `map_projection` keyword argument is deprecated, use `projection` to instantiate a GeoAxes instead.\n",
      "  warnings.warn(\"The `map_projection` keyword argument is \"\n",
      "/Users/beckermr/mambaforge/envs/rubin-sims/lib/python3.10/site-packages/cartopy/mpl/geoaxes.py:403: UserWarning: The `map_projection` keyword argument is deprecated, use `projection` to instantiate a GeoAxes instead.\n",
      "  warnings.warn(\"The `map_projection` keyword argument is \"\n"
     ]
    },
    {
     "name": "stdout",
     "output_type": "stream",
     "text": [
      "[Parallel(n_jobs=8)]: Done 442 tasks      | elapsed: 26.8min\n"
     ]
    },
    {
     "name": "stderr",
     "output_type": "stream",
     "text": [
      "/Users/beckermr/mambaforge/envs/rubin-sims/lib/python3.10/site-packages/cartopy/mpl/geoaxes.py:403: UserWarning: The `map_projection` keyword argument is deprecated, use `projection` to instantiate a GeoAxes instead.\n",
      "  warnings.warn(\"The `map_projection` keyword argument is \"\n",
      "/Users/beckermr/mambaforge/envs/rubin-sims/lib/python3.10/site-packages/cartopy/mpl/geoaxes.py:403: UserWarning: The `map_projection` keyword argument is deprecated, use `projection` to instantiate a GeoAxes instead.\n",
      "  warnings.warn(\"The `map_projection` keyword argument is \"\n"
     ]
    },
    {
     "name": "stdout",
     "output_type": "stream",
     "text": [
      "[Parallel(n_jobs=8)]: Done 443 tasks      | elapsed: 27.0min\n"
     ]
    },
    {
     "name": "stderr",
     "output_type": "stream",
     "text": [
      "/Users/beckermr/mambaforge/envs/rubin-sims/lib/python3.10/site-packages/cartopy/mpl/geoaxes.py:403: UserWarning: The `map_projection` keyword argument is deprecated, use `projection` to instantiate a GeoAxes instead.\n",
      "  warnings.warn(\"The `map_projection` keyword argument is \"\n",
      "/Users/beckermr/mambaforge/envs/rubin-sims/lib/python3.10/site-packages/cartopy/mpl/geoaxes.py:403: UserWarning: The `map_projection` keyword argument is deprecated, use `projection` to instantiate a GeoAxes instead.\n",
      "  warnings.warn(\"The `map_projection` keyword argument is \"\n"
     ]
    },
    {
     "name": "stdout",
     "output_type": "stream",
     "text": [
      "[Parallel(n_jobs=8)]: Done 444 tasks      | elapsed: 27.0min\n"
     ]
    },
    {
     "name": "stderr",
     "output_type": "stream",
     "text": [
      "/Users/beckermr/mambaforge/envs/rubin-sims/lib/python3.10/site-packages/cartopy/mpl/geoaxes.py:403: UserWarning: The `map_projection` keyword argument is deprecated, use `projection` to instantiate a GeoAxes instead.\n",
      "  warnings.warn(\"The `map_projection` keyword argument is \"\n",
      "/Users/beckermr/mambaforge/envs/rubin-sims/lib/python3.10/site-packages/cartopy/mpl/geoaxes.py:403: UserWarning: The `map_projection` keyword argument is deprecated, use `projection` to instantiate a GeoAxes instead.\n",
      "  warnings.warn(\"The `map_projection` keyword argument is \"\n"
     ]
    },
    {
     "name": "stdout",
     "output_type": "stream",
     "text": [
      "[Parallel(n_jobs=8)]: Done 445 tasks      | elapsed: 27.0min\n"
     ]
    },
    {
     "name": "stderr",
     "output_type": "stream",
     "text": [
      "/Users/beckermr/mambaforge/envs/rubin-sims/lib/python3.10/site-packages/cartopy/mpl/geoaxes.py:403: UserWarning: The `map_projection` keyword argument is deprecated, use `projection` to instantiate a GeoAxes instead.\n",
      "  warnings.warn(\"The `map_projection` keyword argument is \"\n",
      "/Users/beckermr/mambaforge/envs/rubin-sims/lib/python3.10/site-packages/cartopy/mpl/geoaxes.py:403: UserWarning: The `map_projection` keyword argument is deprecated, use `projection` to instantiate a GeoAxes instead.\n",
      "  warnings.warn(\"The `map_projection` keyword argument is \"\n"
     ]
    },
    {
     "name": "stdout",
     "output_type": "stream",
     "text": [
      "[Parallel(n_jobs=8)]: Done 446 tasks      | elapsed: 27.0min\n"
     ]
    },
    {
     "name": "stderr",
     "output_type": "stream",
     "text": [
      "/Users/beckermr/mambaforge/envs/rubin-sims/lib/python3.10/site-packages/cartopy/mpl/geoaxes.py:403: UserWarning: The `map_projection` keyword argument is deprecated, use `projection` to instantiate a GeoAxes instead.\n",
      "  warnings.warn(\"The `map_projection` keyword argument is \"\n",
      "/Users/beckermr/mambaforge/envs/rubin-sims/lib/python3.10/site-packages/cartopy/mpl/geoaxes.py:403: UserWarning: The `map_projection` keyword argument is deprecated, use `projection` to instantiate a GeoAxes instead.\n",
      "  warnings.warn(\"The `map_projection` keyword argument is \"\n"
     ]
    },
    {
     "name": "stdout",
     "output_type": "stream",
     "text": [
      "[Parallel(n_jobs=8)]: Done 447 tasks      | elapsed: 27.0min\n"
     ]
    },
    {
     "name": "stderr",
     "output_type": "stream",
     "text": [
      "/Users/beckermr/mambaforge/envs/rubin-sims/lib/python3.10/site-packages/cartopy/mpl/geoaxes.py:403: UserWarning: The `map_projection` keyword argument is deprecated, use `projection` to instantiate a GeoAxes instead.\n",
      "  warnings.warn(\"The `map_projection` keyword argument is \"\n",
      "/Users/beckermr/mambaforge/envs/rubin-sims/lib/python3.10/site-packages/cartopy/mpl/geoaxes.py:403: UserWarning: The `map_projection` keyword argument is deprecated, use `projection` to instantiate a GeoAxes instead.\n",
      "  warnings.warn(\"The `map_projection` keyword argument is \"\n"
     ]
    },
    {
     "name": "stdout",
     "output_type": "stream",
     "text": [
      "[Parallel(n_jobs=8)]: Done 448 tasks      | elapsed: 27.1min\n"
     ]
    },
    {
     "name": "stderr",
     "output_type": "stream",
     "text": [
      "/Users/beckermr/mambaforge/envs/rubin-sims/lib/python3.10/site-packages/cartopy/mpl/geoaxes.py:403: UserWarning: The `map_projection` keyword argument is deprecated, use `projection` to instantiate a GeoAxes instead.\n",
      "  warnings.warn(\"The `map_projection` keyword argument is \"\n",
      "/Users/beckermr/mambaforge/envs/rubin-sims/lib/python3.10/site-packages/cartopy/mpl/geoaxes.py:403: UserWarning: The `map_projection` keyword argument is deprecated, use `projection` to instantiate a GeoAxes instead.\n",
      "  warnings.warn(\"The `map_projection` keyword argument is \"\n"
     ]
    },
    {
     "name": "stdout",
     "output_type": "stream",
     "text": [
      "[Parallel(n_jobs=8)]: Done 449 tasks      | elapsed: 27.2min\n"
     ]
    },
    {
     "name": "stderr",
     "output_type": "stream",
     "text": [
      "/Users/beckermr/mambaforge/envs/rubin-sims/lib/python3.10/site-packages/cartopy/mpl/geoaxes.py:403: UserWarning: The `map_projection` keyword argument is deprecated, use `projection` to instantiate a GeoAxes instead.\n",
      "  warnings.warn(\"The `map_projection` keyword argument is \"\n",
      "/Users/beckermr/mambaforge/envs/rubin-sims/lib/python3.10/site-packages/cartopy/mpl/geoaxes.py:403: UserWarning: The `map_projection` keyword argument is deprecated, use `projection` to instantiate a GeoAxes instead.\n",
      "  warnings.warn(\"The `map_projection` keyword argument is \"\n"
     ]
    },
    {
     "name": "stdout",
     "output_type": "stream",
     "text": [
      "[Parallel(n_jobs=8)]: Done 450 tasks      | elapsed: 27.3min\n"
     ]
    },
    {
     "name": "stderr",
     "output_type": "stream",
     "text": [
      "/Users/beckermr/mambaforge/envs/rubin-sims/lib/python3.10/site-packages/cartopy/mpl/geoaxes.py:403: UserWarning: The `map_projection` keyword argument is deprecated, use `projection` to instantiate a GeoAxes instead.\n",
      "  warnings.warn(\"The `map_projection` keyword argument is \"\n",
      "/Users/beckermr/mambaforge/envs/rubin-sims/lib/python3.10/site-packages/cartopy/mpl/geoaxes.py:403: UserWarning: The `map_projection` keyword argument is deprecated, use `projection` to instantiate a GeoAxes instead.\n",
      "  warnings.warn(\"The `map_projection` keyword argument is \"\n"
     ]
    },
    {
     "name": "stdout",
     "output_type": "stream",
     "text": [
      "[Parallel(n_jobs=8)]: Done 451 tasks      | elapsed: 27.4min\n"
     ]
    },
    {
     "name": "stderr",
     "output_type": "stream",
     "text": [
      "/Users/beckermr/mambaforge/envs/rubin-sims/lib/python3.10/site-packages/cartopy/mpl/geoaxes.py:403: UserWarning: The `map_projection` keyword argument is deprecated, use `projection` to instantiate a GeoAxes instead.\n",
      "  warnings.warn(\"The `map_projection` keyword argument is \"\n",
      "/Users/beckermr/mambaforge/envs/rubin-sims/lib/python3.10/site-packages/cartopy/mpl/geoaxes.py:403: UserWarning: The `map_projection` keyword argument is deprecated, use `projection` to instantiate a GeoAxes instead.\n",
      "  warnings.warn(\"The `map_projection` keyword argument is \"\n"
     ]
    },
    {
     "name": "stdout",
     "output_type": "stream",
     "text": [
      "[Parallel(n_jobs=8)]: Done 452 tasks      | elapsed: 27.4min\n",
      "[Parallel(n_jobs=8)]: Done 453 tasks      | elapsed: 27.4min\n"
     ]
    },
    {
     "name": "stderr",
     "output_type": "stream",
     "text": [
      "/Users/beckermr/mambaforge/envs/rubin-sims/lib/python3.10/site-packages/cartopy/mpl/geoaxes.py:403: UserWarning: The `map_projection` keyword argument is deprecated, use `projection` to instantiate a GeoAxes instead.\n",
      "  warnings.warn(\"The `map_projection` keyword argument is \"\n",
      "/Users/beckermr/mambaforge/envs/rubin-sims/lib/python3.10/site-packages/cartopy/mpl/geoaxes.py:403: UserWarning: The `map_projection` keyword argument is deprecated, use `projection` to instantiate a GeoAxes instead.\n",
      "  warnings.warn(\"The `map_projection` keyword argument is \"\n",
      "/Users/beckermr/mambaforge/envs/rubin-sims/lib/python3.10/site-packages/cartopy/mpl/geoaxes.py:403: UserWarning: The `map_projection` keyword argument is deprecated, use `projection` to instantiate a GeoAxes instead.\n",
      "  warnings.warn(\"The `map_projection` keyword argument is \"\n",
      "/Users/beckermr/mambaforge/envs/rubin-sims/lib/python3.10/site-packages/cartopy/mpl/geoaxes.py:403: UserWarning: The `map_projection` keyword argument is deprecated, use `projection` to instantiate a GeoAxes instead.\n",
      "  warnings.warn(\"The `map_projection` keyword argument is \"\n"
     ]
    },
    {
     "name": "stdout",
     "output_type": "stream",
     "text": [
      "[Parallel(n_jobs=8)]: Done 454 tasks      | elapsed: 27.4min\n"
     ]
    },
    {
     "name": "stderr",
     "output_type": "stream",
     "text": [
      "/Users/beckermr/mambaforge/envs/rubin-sims/lib/python3.10/site-packages/cartopy/mpl/geoaxes.py:403: UserWarning: The `map_projection` keyword argument is deprecated, use `projection` to instantiate a GeoAxes instead.\n",
      "  warnings.warn(\"The `map_projection` keyword argument is \"\n",
      "/Users/beckermr/mambaforge/envs/rubin-sims/lib/python3.10/site-packages/cartopy/mpl/geoaxes.py:403: UserWarning: The `map_projection` keyword argument is deprecated, use `projection` to instantiate a GeoAxes instead.\n",
      "  warnings.warn(\"The `map_projection` keyword argument is \"\n"
     ]
    },
    {
     "name": "stdout",
     "output_type": "stream",
     "text": [
      "[Parallel(n_jobs=8)]: Done 455 tasks      | elapsed: 27.5min\n"
     ]
    },
    {
     "name": "stderr",
     "output_type": "stream",
     "text": [
      "/Users/beckermr/mambaforge/envs/rubin-sims/lib/python3.10/site-packages/cartopy/mpl/geoaxes.py:403: UserWarning: The `map_projection` keyword argument is deprecated, use `projection` to instantiate a GeoAxes instead.\n",
      "  warnings.warn(\"The `map_projection` keyword argument is \"\n",
      "/Users/beckermr/mambaforge/envs/rubin-sims/lib/python3.10/site-packages/cartopy/mpl/geoaxes.py:403: UserWarning: The `map_projection` keyword argument is deprecated, use `projection` to instantiate a GeoAxes instead.\n",
      "  warnings.warn(\"The `map_projection` keyword argument is \"\n"
     ]
    },
    {
     "name": "stdout",
     "output_type": "stream",
     "text": [
      "[Parallel(n_jobs=8)]: Done 456 tasks      | elapsed: 27.5min\n"
     ]
    },
    {
     "name": "stderr",
     "output_type": "stream",
     "text": [
      "/Users/beckermr/mambaforge/envs/rubin-sims/lib/python3.10/site-packages/cartopy/mpl/geoaxes.py:403: UserWarning: The `map_projection` keyword argument is deprecated, use `projection` to instantiate a GeoAxes instead.\n",
      "  warnings.warn(\"The `map_projection` keyword argument is \"\n",
      "/Users/beckermr/mambaforge/envs/rubin-sims/lib/python3.10/site-packages/cartopy/mpl/geoaxes.py:403: UserWarning: The `map_projection` keyword argument is deprecated, use `projection` to instantiate a GeoAxes instead.\n",
      "  warnings.warn(\"The `map_projection` keyword argument is \"\n"
     ]
    },
    {
     "name": "stdout",
     "output_type": "stream",
     "text": [
      "[Parallel(n_jobs=8)]: Done 457 tasks      | elapsed: 27.7min\n"
     ]
    },
    {
     "name": "stderr",
     "output_type": "stream",
     "text": [
      "/Users/beckermr/mambaforge/envs/rubin-sims/lib/python3.10/site-packages/cartopy/mpl/geoaxes.py:403: UserWarning: The `map_projection` keyword argument is deprecated, use `projection` to instantiate a GeoAxes instead.\n",
      "  warnings.warn(\"The `map_projection` keyword argument is \"\n",
      "/Users/beckermr/mambaforge/envs/rubin-sims/lib/python3.10/site-packages/cartopy/mpl/geoaxes.py:403: UserWarning: The `map_projection` keyword argument is deprecated, use `projection` to instantiate a GeoAxes instead.\n",
      "  warnings.warn(\"The `map_projection` keyword argument is \"\n"
     ]
    },
    {
     "name": "stdout",
     "output_type": "stream",
     "text": [
      "[Parallel(n_jobs=8)]: Done 458 tasks      | elapsed: 27.7min\n"
     ]
    },
    {
     "name": "stderr",
     "output_type": "stream",
     "text": [
      "/Users/beckermr/mambaforge/envs/rubin-sims/lib/python3.10/site-packages/cartopy/mpl/geoaxes.py:403: UserWarning: The `map_projection` keyword argument is deprecated, use `projection` to instantiate a GeoAxes instead.\n",
      "  warnings.warn(\"The `map_projection` keyword argument is \"\n",
      "/Users/beckermr/mambaforge/envs/rubin-sims/lib/python3.10/site-packages/cartopy/mpl/geoaxes.py:403: UserWarning: The `map_projection` keyword argument is deprecated, use `projection` to instantiate a GeoAxes instead.\n",
      "  warnings.warn(\"The `map_projection` keyword argument is \"\n"
     ]
    },
    {
     "name": "stdout",
     "output_type": "stream",
     "text": [
      "[Parallel(n_jobs=8)]: Done 459 tasks      | elapsed: 27.9min\n"
     ]
    },
    {
     "name": "stderr",
     "output_type": "stream",
     "text": [
      "/Users/beckermr/mambaforge/envs/rubin-sims/lib/python3.10/site-packages/cartopy/mpl/geoaxes.py:403: UserWarning: The `map_projection` keyword argument is deprecated, use `projection` to instantiate a GeoAxes instead.\n",
      "  warnings.warn(\"The `map_projection` keyword argument is \"\n",
      "/Users/beckermr/mambaforge/envs/rubin-sims/lib/python3.10/site-packages/cartopy/mpl/geoaxes.py:403: UserWarning: The `map_projection` keyword argument is deprecated, use `projection` to instantiate a GeoAxes instead.\n",
      "  warnings.warn(\"The `map_projection` keyword argument is \"\n"
     ]
    },
    {
     "name": "stdout",
     "output_type": "stream",
     "text": [
      "[Parallel(n_jobs=8)]: Done 460 tasks      | elapsed: 27.9min\n"
     ]
    },
    {
     "name": "stderr",
     "output_type": "stream",
     "text": [
      "/Users/beckermr/mambaforge/envs/rubin-sims/lib/python3.10/site-packages/cartopy/mpl/geoaxes.py:403: UserWarning: The `map_projection` keyword argument is deprecated, use `projection` to instantiate a GeoAxes instead.\n",
      "  warnings.warn(\"The `map_projection` keyword argument is \"\n",
      "/Users/beckermr/mambaforge/envs/rubin-sims/lib/python3.10/site-packages/cartopy/mpl/geoaxes.py:403: UserWarning: The `map_projection` keyword argument is deprecated, use `projection` to instantiate a GeoAxes instead.\n",
      "  warnings.warn(\"The `map_projection` keyword argument is \"\n"
     ]
    },
    {
     "name": "stdout",
     "output_type": "stream",
     "text": [
      "[Parallel(n_jobs=8)]: Done 461 tasks      | elapsed: 27.9min\n",
      "[Parallel(n_jobs=8)]: Done 462 tasks      | elapsed: 27.9min\n",
      "[Parallel(n_jobs=8)]: Done 463 tasks      | elapsed: 27.9min\n"
     ]
    },
    {
     "name": "stderr",
     "output_type": "stream",
     "text": [
      "/Users/beckermr/mambaforge/envs/rubin-sims/lib/python3.10/site-packages/cartopy/mpl/geoaxes.py:403: UserWarning: The `map_projection` keyword argument is deprecated, use `projection` to instantiate a GeoAxes instead.\n",
      "  warnings.warn(\"The `map_projection` keyword argument is \"\n",
      "/Users/beckermr/mambaforge/envs/rubin-sims/lib/python3.10/site-packages/cartopy/mpl/geoaxes.py:403: UserWarning: The `map_projection` keyword argument is deprecated, use `projection` to instantiate a GeoAxes instead.\n",
      "  warnings.warn(\"The `map_projection` keyword argument is \"\n",
      "/Users/beckermr/mambaforge/envs/rubin-sims/lib/python3.10/site-packages/cartopy/mpl/geoaxes.py:403: UserWarning: The `map_projection` keyword argument is deprecated, use `projection` to instantiate a GeoAxes instead.\n",
      "  warnings.warn(\"The `map_projection` keyword argument is \"\n",
      "/Users/beckermr/mambaforge/envs/rubin-sims/lib/python3.10/site-packages/cartopy/mpl/geoaxes.py:403: UserWarning: The `map_projection` keyword argument is deprecated, use `projection` to instantiate a GeoAxes instead.\n",
      "  warnings.warn(\"The `map_projection` keyword argument is \"\n",
      "/Users/beckermr/mambaforge/envs/rubin-sims/lib/python3.10/site-packages/cartopy/mpl/geoaxes.py:403: UserWarning: The `map_projection` keyword argument is deprecated, use `projection` to instantiate a GeoAxes instead.\n",
      "  warnings.warn(\"The `map_projection` keyword argument is \"\n",
      "/Users/beckermr/mambaforge/envs/rubin-sims/lib/python3.10/site-packages/cartopy/mpl/geoaxes.py:403: UserWarning: The `map_projection` keyword argument is deprecated, use `projection` to instantiate a GeoAxes instead.\n",
      "  warnings.warn(\"The `map_projection` keyword argument is \"\n"
     ]
    },
    {
     "name": "stdout",
     "output_type": "stream",
     "text": [
      "[Parallel(n_jobs=8)]: Done 464 tasks      | elapsed: 28.0min\n"
     ]
    },
    {
     "name": "stderr",
     "output_type": "stream",
     "text": [
      "/Users/beckermr/mambaforge/envs/rubin-sims/lib/python3.10/site-packages/cartopy/mpl/geoaxes.py:403: UserWarning: The `map_projection` keyword argument is deprecated, use `projection` to instantiate a GeoAxes instead.\n",
      "  warnings.warn(\"The `map_projection` keyword argument is \"\n",
      "/Users/beckermr/mambaforge/envs/rubin-sims/lib/python3.10/site-packages/cartopy/mpl/geoaxes.py:403: UserWarning: The `map_projection` keyword argument is deprecated, use `projection` to instantiate a GeoAxes instead.\n",
      "  warnings.warn(\"The `map_projection` keyword argument is \"\n"
     ]
    },
    {
     "name": "stdout",
     "output_type": "stream",
     "text": [
      "[Parallel(n_jobs=8)]: Done 465 tasks      | elapsed: 28.2min\n"
     ]
    },
    {
     "name": "stderr",
     "output_type": "stream",
     "text": [
      "/Users/beckermr/mambaforge/envs/rubin-sims/lib/python3.10/site-packages/cartopy/mpl/geoaxes.py:403: UserWarning: The `map_projection` keyword argument is deprecated, use `projection` to instantiate a GeoAxes instead.\n",
      "  warnings.warn(\"The `map_projection` keyword argument is \"\n",
      "/Users/beckermr/mambaforge/envs/rubin-sims/lib/python3.10/site-packages/cartopy/mpl/geoaxes.py:403: UserWarning: The `map_projection` keyword argument is deprecated, use `projection` to instantiate a GeoAxes instead.\n",
      "  warnings.warn(\"The `map_projection` keyword argument is \"\n"
     ]
    },
    {
     "name": "stdout",
     "output_type": "stream",
     "text": [
      "[Parallel(n_jobs=8)]: Done 466 tasks      | elapsed: 28.2min\n"
     ]
    },
    {
     "name": "stderr",
     "output_type": "stream",
     "text": [
      "/Users/beckermr/mambaforge/envs/rubin-sims/lib/python3.10/site-packages/cartopy/mpl/geoaxes.py:403: UserWarning: The `map_projection` keyword argument is deprecated, use `projection` to instantiate a GeoAxes instead.\n",
      "  warnings.warn(\"The `map_projection` keyword argument is \"\n",
      "/Users/beckermr/mambaforge/envs/rubin-sims/lib/python3.10/site-packages/cartopy/mpl/geoaxes.py:403: UserWarning: The `map_projection` keyword argument is deprecated, use `projection` to instantiate a GeoAxes instead.\n",
      "  warnings.warn(\"The `map_projection` keyword argument is \"\n"
     ]
    },
    {
     "name": "stdout",
     "output_type": "stream",
     "text": [
      "[Parallel(n_jobs=8)]: Done 467 tasks      | elapsed: 28.3min\n",
      "[Parallel(n_jobs=8)]: Done 468 tasks      | elapsed: 28.3min\n"
     ]
    },
    {
     "name": "stderr",
     "output_type": "stream",
     "text": [
      "/Users/beckermr/mambaforge/envs/rubin-sims/lib/python3.10/site-packages/cartopy/mpl/geoaxes.py:403: UserWarning: The `map_projection` keyword argument is deprecated, use `projection` to instantiate a GeoAxes instead.\n",
      "  warnings.warn(\"The `map_projection` keyword argument is \"\n",
      "/Users/beckermr/mambaforge/envs/rubin-sims/lib/python3.10/site-packages/cartopy/mpl/geoaxes.py:403: UserWarning: The `map_projection` keyword argument is deprecated, use `projection` to instantiate a GeoAxes instead.\n",
      "  warnings.warn(\"The `map_projection` keyword argument is \"\n",
      "/Users/beckermr/mambaforge/envs/rubin-sims/lib/python3.10/site-packages/cartopy/mpl/geoaxes.py:403: UserWarning: The `map_projection` keyword argument is deprecated, use `projection` to instantiate a GeoAxes instead.\n",
      "  warnings.warn(\"The `map_projection` keyword argument is \"\n",
      "/Users/beckermr/mambaforge/envs/rubin-sims/lib/python3.10/site-packages/cartopy/mpl/geoaxes.py:403: UserWarning: The `map_projection` keyword argument is deprecated, use `projection` to instantiate a GeoAxes instead.\n",
      "  warnings.warn(\"The `map_projection` keyword argument is \"\n"
     ]
    },
    {
     "name": "stdout",
     "output_type": "stream",
     "text": [
      "[Parallel(n_jobs=8)]: Done 469 tasks      | elapsed: 28.4min\n"
     ]
    },
    {
     "name": "stderr",
     "output_type": "stream",
     "text": [
      "/Users/beckermr/mambaforge/envs/rubin-sims/lib/python3.10/site-packages/cartopy/mpl/geoaxes.py:403: UserWarning: The `map_projection` keyword argument is deprecated, use `projection` to instantiate a GeoAxes instead.\n",
      "  warnings.warn(\"The `map_projection` keyword argument is \"\n",
      "/Users/beckermr/mambaforge/envs/rubin-sims/lib/python3.10/site-packages/cartopy/mpl/geoaxes.py:403: UserWarning: The `map_projection` keyword argument is deprecated, use `projection` to instantiate a GeoAxes instead.\n",
      "  warnings.warn(\"The `map_projection` keyword argument is \"\n"
     ]
    },
    {
     "name": "stdout",
     "output_type": "stream",
     "text": [
      "[Parallel(n_jobs=8)]: Done 470 tasks      | elapsed: 28.4min\n"
     ]
    },
    {
     "name": "stderr",
     "output_type": "stream",
     "text": [
      "/Users/beckermr/mambaforge/envs/rubin-sims/lib/python3.10/site-packages/cartopy/mpl/geoaxes.py:403: UserWarning: The `map_projection` keyword argument is deprecated, use `projection` to instantiate a GeoAxes instead.\n",
      "  warnings.warn(\"The `map_projection` keyword argument is \"\n",
      "/Users/beckermr/mambaforge/envs/rubin-sims/lib/python3.10/site-packages/cartopy/mpl/geoaxes.py:403: UserWarning: The `map_projection` keyword argument is deprecated, use `projection` to instantiate a GeoAxes instead.\n",
      "  warnings.warn(\"The `map_projection` keyword argument is \"\n"
     ]
    },
    {
     "name": "stdout",
     "output_type": "stream",
     "text": [
      "[Parallel(n_jobs=8)]: Done 471 tasks      | elapsed: 28.4min\n"
     ]
    },
    {
     "name": "stderr",
     "output_type": "stream",
     "text": [
      "/Users/beckermr/mambaforge/envs/rubin-sims/lib/python3.10/site-packages/cartopy/mpl/geoaxes.py:403: UserWarning: The `map_projection` keyword argument is deprecated, use `projection` to instantiate a GeoAxes instead.\n",
      "  warnings.warn(\"The `map_projection` keyword argument is \"\n",
      "/Users/beckermr/mambaforge/envs/rubin-sims/lib/python3.10/site-packages/cartopy/mpl/geoaxes.py:403: UserWarning: The `map_projection` keyword argument is deprecated, use `projection` to instantiate a GeoAxes instead.\n",
      "  warnings.warn(\"The `map_projection` keyword argument is \"\n"
     ]
    },
    {
     "name": "stdout",
     "output_type": "stream",
     "text": [
      "[Parallel(n_jobs=8)]: Done 472 tasks      | elapsed: 28.4min\n"
     ]
    },
    {
     "name": "stderr",
     "output_type": "stream",
     "text": [
      "/Users/beckermr/mambaforge/envs/rubin-sims/lib/python3.10/site-packages/cartopy/mpl/geoaxes.py:403: UserWarning: The `map_projection` keyword argument is deprecated, use `projection` to instantiate a GeoAxes instead.\n",
      "  warnings.warn(\"The `map_projection` keyword argument is \"\n",
      "/Users/beckermr/mambaforge/envs/rubin-sims/lib/python3.10/site-packages/cartopy/mpl/geoaxes.py:403: UserWarning: The `map_projection` keyword argument is deprecated, use `projection` to instantiate a GeoAxes instead.\n",
      "  warnings.warn(\"The `map_projection` keyword argument is \"\n"
     ]
    },
    {
     "name": "stdout",
     "output_type": "stream",
     "text": [
      "[Parallel(n_jobs=8)]: Done 473 tasks      | elapsed: 28.6min\n"
     ]
    },
    {
     "name": "stderr",
     "output_type": "stream",
     "text": [
      "/Users/beckermr/mambaforge/envs/rubin-sims/lib/python3.10/site-packages/cartopy/mpl/geoaxes.py:403: UserWarning: The `map_projection` keyword argument is deprecated, use `projection` to instantiate a GeoAxes instead.\n",
      "  warnings.warn(\"The `map_projection` keyword argument is \"\n",
      "/Users/beckermr/mambaforge/envs/rubin-sims/lib/python3.10/site-packages/cartopy/mpl/geoaxes.py:403: UserWarning: The `map_projection` keyword argument is deprecated, use `projection` to instantiate a GeoAxes instead.\n",
      "  warnings.warn(\"The `map_projection` keyword argument is \"\n"
     ]
    },
    {
     "name": "stdout",
     "output_type": "stream",
     "text": [
      "[Parallel(n_jobs=8)]: Done 474 tasks      | elapsed: 28.6min\n"
     ]
    },
    {
     "name": "stderr",
     "output_type": "stream",
     "text": [
      "/Users/beckermr/mambaforge/envs/rubin-sims/lib/python3.10/site-packages/cartopy/mpl/geoaxes.py:403: UserWarning: The `map_projection` keyword argument is deprecated, use `projection` to instantiate a GeoAxes instead.\n",
      "  warnings.warn(\"The `map_projection` keyword argument is \"\n",
      "/Users/beckermr/mambaforge/envs/rubin-sims/lib/python3.10/site-packages/cartopy/mpl/geoaxes.py:403: UserWarning: The `map_projection` keyword argument is deprecated, use `projection` to instantiate a GeoAxes instead.\n",
      "  warnings.warn(\"The `map_projection` keyword argument is \"\n"
     ]
    },
    {
     "name": "stdout",
     "output_type": "stream",
     "text": [
      "[Parallel(n_jobs=8)]: Done 475 tasks      | elapsed: 28.8min\n"
     ]
    },
    {
     "name": "stderr",
     "output_type": "stream",
     "text": [
      "/Users/beckermr/mambaforge/envs/rubin-sims/lib/python3.10/site-packages/cartopy/mpl/geoaxes.py:403: UserWarning: The `map_projection` keyword argument is deprecated, use `projection` to instantiate a GeoAxes instead.\n",
      "  warnings.warn(\"The `map_projection` keyword argument is \"\n",
      "/Users/beckermr/mambaforge/envs/rubin-sims/lib/python3.10/site-packages/cartopy/mpl/geoaxes.py:403: UserWarning: The `map_projection` keyword argument is deprecated, use `projection` to instantiate a GeoAxes instead.\n",
      "  warnings.warn(\"The `map_projection` keyword argument is \"\n"
     ]
    },
    {
     "name": "stdout",
     "output_type": "stream",
     "text": [
      "[Parallel(n_jobs=8)]: Done 476 tasks      | elapsed: 28.8min\n",
      "[Parallel(n_jobs=8)]: Done 477 tasks      | elapsed: 28.8min\n"
     ]
    },
    {
     "name": "stderr",
     "output_type": "stream",
     "text": [
      "/Users/beckermr/mambaforge/envs/rubin-sims/lib/python3.10/site-packages/cartopy/mpl/geoaxes.py:403: UserWarning: The `map_projection` keyword argument is deprecated, use `projection` to instantiate a GeoAxes instead.\n",
      "  warnings.warn(\"The `map_projection` keyword argument is \"\n",
      "/Users/beckermr/mambaforge/envs/rubin-sims/lib/python3.10/site-packages/cartopy/mpl/geoaxes.py:403: UserWarning: The `map_projection` keyword argument is deprecated, use `projection` to instantiate a GeoAxes instead.\n",
      "  warnings.warn(\"The `map_projection` keyword argument is \"\n",
      "/Users/beckermr/mambaforge/envs/rubin-sims/lib/python3.10/site-packages/cartopy/mpl/geoaxes.py:403: UserWarning: The `map_projection` keyword argument is deprecated, use `projection` to instantiate a GeoAxes instead.\n",
      "  warnings.warn(\"The `map_projection` keyword argument is \"\n",
      "/Users/beckermr/mambaforge/envs/rubin-sims/lib/python3.10/site-packages/cartopy/mpl/geoaxes.py:403: UserWarning: The `map_projection` keyword argument is deprecated, use `projection` to instantiate a GeoAxes instead.\n",
      "  warnings.warn(\"The `map_projection` keyword argument is \"\n"
     ]
    },
    {
     "name": "stdout",
     "output_type": "stream",
     "text": [
      "[Parallel(n_jobs=8)]: Done 478 tasks      | elapsed: 28.8min\n"
     ]
    },
    {
     "name": "stderr",
     "output_type": "stream",
     "text": [
      "/Users/beckermr/mambaforge/envs/rubin-sims/lib/python3.10/site-packages/cartopy/mpl/geoaxes.py:403: UserWarning: The `map_projection` keyword argument is deprecated, use `projection` to instantiate a GeoAxes instead.\n",
      "  warnings.warn(\"The `map_projection` keyword argument is \"\n",
      "/Users/beckermr/mambaforge/envs/rubin-sims/lib/python3.10/site-packages/cartopy/mpl/geoaxes.py:403: UserWarning: The `map_projection` keyword argument is deprecated, use `projection` to instantiate a GeoAxes instead.\n",
      "  warnings.warn(\"The `map_projection` keyword argument is \"\n"
     ]
    },
    {
     "name": "stdout",
     "output_type": "stream",
     "text": [
      "[Parallel(n_jobs=8)]: Done 479 tasks      | elapsed: 28.8min\n"
     ]
    },
    {
     "name": "stderr",
     "output_type": "stream",
     "text": [
      "/Users/beckermr/mambaforge/envs/rubin-sims/lib/python3.10/site-packages/cartopy/mpl/geoaxes.py:403: UserWarning: The `map_projection` keyword argument is deprecated, use `projection` to instantiate a GeoAxes instead.\n",
      "  warnings.warn(\"The `map_projection` keyword argument is \"\n",
      "/Users/beckermr/mambaforge/envs/rubin-sims/lib/python3.10/site-packages/cartopy/mpl/geoaxes.py:403: UserWarning: The `map_projection` keyword argument is deprecated, use `projection` to instantiate a GeoAxes instead.\n",
      "  warnings.warn(\"The `map_projection` keyword argument is \"\n"
     ]
    },
    {
     "name": "stdout",
     "output_type": "stream",
     "text": [
      "[Parallel(n_jobs=8)]: Done 480 tasks      | elapsed: 28.9min\n"
     ]
    },
    {
     "name": "stderr",
     "output_type": "stream",
     "text": [
      "/Users/beckermr/mambaforge/envs/rubin-sims/lib/python3.10/site-packages/cartopy/mpl/geoaxes.py:403: UserWarning: The `map_projection` keyword argument is deprecated, use `projection` to instantiate a GeoAxes instead.\n",
      "  warnings.warn(\"The `map_projection` keyword argument is \"\n",
      "/Users/beckermr/mambaforge/envs/rubin-sims/lib/python3.10/site-packages/cartopy/mpl/geoaxes.py:403: UserWarning: The `map_projection` keyword argument is deprecated, use `projection` to instantiate a GeoAxes instead.\n",
      "  warnings.warn(\"The `map_projection` keyword argument is \"\n"
     ]
    },
    {
     "name": "stdout",
     "output_type": "stream",
     "text": [
      "[Parallel(n_jobs=8)]: Done 481 tasks      | elapsed: 29.1min\n"
     ]
    },
    {
     "name": "stderr",
     "output_type": "stream",
     "text": [
      "/Users/beckermr/mambaforge/envs/rubin-sims/lib/python3.10/site-packages/cartopy/mpl/geoaxes.py:403: UserWarning: The `map_projection` keyword argument is deprecated, use `projection` to instantiate a GeoAxes instead.\n",
      "  warnings.warn(\"The `map_projection` keyword argument is \"\n",
      "/Users/beckermr/mambaforge/envs/rubin-sims/lib/python3.10/site-packages/cartopy/mpl/geoaxes.py:403: UserWarning: The `map_projection` keyword argument is deprecated, use `projection` to instantiate a GeoAxes instead.\n",
      "  warnings.warn(\"The `map_projection` keyword argument is \"\n"
     ]
    },
    {
     "name": "stdout",
     "output_type": "stream",
     "text": [
      "[Parallel(n_jobs=8)]: Done 482 tasks      | elapsed: 29.1min\n"
     ]
    },
    {
     "name": "stderr",
     "output_type": "stream",
     "text": [
      "/Users/beckermr/mambaforge/envs/rubin-sims/lib/python3.10/site-packages/cartopy/mpl/geoaxes.py:403: UserWarning: The `map_projection` keyword argument is deprecated, use `projection` to instantiate a GeoAxes instead.\n",
      "  warnings.warn(\"The `map_projection` keyword argument is \"\n",
      "/Users/beckermr/mambaforge/envs/rubin-sims/lib/python3.10/site-packages/cartopy/mpl/geoaxes.py:403: UserWarning: The `map_projection` keyword argument is deprecated, use `projection` to instantiate a GeoAxes instead.\n",
      "  warnings.warn(\"The `map_projection` keyword argument is \"\n"
     ]
    },
    {
     "name": "stdout",
     "output_type": "stream",
     "text": [
      "[Parallel(n_jobs=8)]: Done 483 tasks      | elapsed: 29.2min\n"
     ]
    },
    {
     "name": "stderr",
     "output_type": "stream",
     "text": [
      "/Users/beckermr/mambaforge/envs/rubin-sims/lib/python3.10/site-packages/cartopy/mpl/geoaxes.py:403: UserWarning: The `map_projection` keyword argument is deprecated, use `projection` to instantiate a GeoAxes instead.\n",
      "  warnings.warn(\"The `map_projection` keyword argument is \"\n",
      "/Users/beckermr/mambaforge/envs/rubin-sims/lib/python3.10/site-packages/cartopy/mpl/geoaxes.py:403: UserWarning: The `map_projection` keyword argument is deprecated, use `projection` to instantiate a GeoAxes instead.\n",
      "  warnings.warn(\"The `map_projection` keyword argument is \"\n"
     ]
    },
    {
     "name": "stdout",
     "output_type": "stream",
     "text": [
      "[Parallel(n_jobs=8)]: Done 484 tasks      | elapsed: 29.3min\n"
     ]
    },
    {
     "name": "stderr",
     "output_type": "stream",
     "text": [
      "/Users/beckermr/mambaforge/envs/rubin-sims/lib/python3.10/site-packages/cartopy/mpl/geoaxes.py:403: UserWarning: The `map_projection` keyword argument is deprecated, use `projection` to instantiate a GeoAxes instead.\n",
      "  warnings.warn(\"The `map_projection` keyword argument is \"\n",
      "/Users/beckermr/mambaforge/envs/rubin-sims/lib/python3.10/site-packages/cartopy/mpl/geoaxes.py:403: UserWarning: The `map_projection` keyword argument is deprecated, use `projection` to instantiate a GeoAxes instead.\n",
      "  warnings.warn(\"The `map_projection` keyword argument is \"\n"
     ]
    },
    {
     "name": "stdout",
     "output_type": "stream",
     "text": [
      "[Parallel(n_jobs=8)]: Done 485 tasks      | elapsed: 29.3min\n"
     ]
    },
    {
     "name": "stderr",
     "output_type": "stream",
     "text": [
      "/Users/beckermr/mambaforge/envs/rubin-sims/lib/python3.10/site-packages/cartopy/mpl/geoaxes.py:403: UserWarning: The `map_projection` keyword argument is deprecated, use `projection` to instantiate a GeoAxes instead.\n",
      "  warnings.warn(\"The `map_projection` keyword argument is \"\n",
      "/Users/beckermr/mambaforge/envs/rubin-sims/lib/python3.10/site-packages/cartopy/mpl/geoaxes.py:403: UserWarning: The `map_projection` keyword argument is deprecated, use `projection` to instantiate a GeoAxes instead.\n",
      "  warnings.warn(\"The `map_projection` keyword argument is \"\n"
     ]
    },
    {
     "name": "stdout",
     "output_type": "stream",
     "text": [
      "[Parallel(n_jobs=8)]: Done 486 tasks      | elapsed: 29.3min\n"
     ]
    },
    {
     "name": "stderr",
     "output_type": "stream",
     "text": [
      "/Users/beckermr/mambaforge/envs/rubin-sims/lib/python3.10/site-packages/cartopy/mpl/geoaxes.py:403: UserWarning: The `map_projection` keyword argument is deprecated, use `projection` to instantiate a GeoAxes instead.\n",
      "  warnings.warn(\"The `map_projection` keyword argument is \"\n",
      "/Users/beckermr/mambaforge/envs/rubin-sims/lib/python3.10/site-packages/cartopy/mpl/geoaxes.py:403: UserWarning: The `map_projection` keyword argument is deprecated, use `projection` to instantiate a GeoAxes instead.\n",
      "  warnings.warn(\"The `map_projection` keyword argument is \"\n"
     ]
    },
    {
     "name": "stdout",
     "output_type": "stream",
     "text": [
      "[Parallel(n_jobs=8)]: Done 487 tasks      | elapsed: 29.3min\n"
     ]
    },
    {
     "name": "stderr",
     "output_type": "stream",
     "text": [
      "/Users/beckermr/mambaforge/envs/rubin-sims/lib/python3.10/site-packages/cartopy/mpl/geoaxes.py:403: UserWarning: The `map_projection` keyword argument is deprecated, use `projection` to instantiate a GeoAxes instead.\n",
      "  warnings.warn(\"The `map_projection` keyword argument is \"\n",
      "/Users/beckermr/mambaforge/envs/rubin-sims/lib/python3.10/site-packages/cartopy/mpl/geoaxes.py:403: UserWarning: The `map_projection` keyword argument is deprecated, use `projection` to instantiate a GeoAxes instead.\n",
      "  warnings.warn(\"The `map_projection` keyword argument is \"\n"
     ]
    },
    {
     "name": "stdout",
     "output_type": "stream",
     "text": [
      "[Parallel(n_jobs=8)]: Done 488 tasks      | elapsed: 29.4min\n"
     ]
    },
    {
     "name": "stderr",
     "output_type": "stream",
     "text": [
      "/Users/beckermr/mambaforge/envs/rubin-sims/lib/python3.10/site-packages/cartopy/mpl/geoaxes.py:403: UserWarning: The `map_projection` keyword argument is deprecated, use `projection` to instantiate a GeoAxes instead.\n",
      "  warnings.warn(\"The `map_projection` keyword argument is \"\n",
      "/Users/beckermr/mambaforge/envs/rubin-sims/lib/python3.10/site-packages/cartopy/mpl/geoaxes.py:403: UserWarning: The `map_projection` keyword argument is deprecated, use `projection` to instantiate a GeoAxes instead.\n",
      "  warnings.warn(\"The `map_projection` keyword argument is \"\n"
     ]
    },
    {
     "name": "stdout",
     "output_type": "stream",
     "text": [
      "[Parallel(n_jobs=8)]: Done 489 tasks      | elapsed: 29.5min\n"
     ]
    },
    {
     "name": "stderr",
     "output_type": "stream",
     "text": [
      "/Users/beckermr/mambaforge/envs/rubin-sims/lib/python3.10/site-packages/cartopy/mpl/geoaxes.py:403: UserWarning: The `map_projection` keyword argument is deprecated, use `projection` to instantiate a GeoAxes instead.\n",
      "  warnings.warn(\"The `map_projection` keyword argument is \"\n",
      "/Users/beckermr/mambaforge/envs/rubin-sims/lib/python3.10/site-packages/cartopy/mpl/geoaxes.py:403: UserWarning: The `map_projection` keyword argument is deprecated, use `projection` to instantiate a GeoAxes instead.\n",
      "  warnings.warn(\"The `map_projection` keyword argument is \"\n"
     ]
    },
    {
     "name": "stdout",
     "output_type": "stream",
     "text": [
      "[Parallel(n_jobs=8)]: Done 490 tasks      | elapsed: 29.6min\n"
     ]
    },
    {
     "name": "stderr",
     "output_type": "stream",
     "text": [
      "/Users/beckermr/mambaforge/envs/rubin-sims/lib/python3.10/site-packages/cartopy/mpl/geoaxes.py:403: UserWarning: The `map_projection` keyword argument is deprecated, use `projection` to instantiate a GeoAxes instead.\n",
      "  warnings.warn(\"The `map_projection` keyword argument is \"\n",
      "/Users/beckermr/mambaforge/envs/rubin-sims/lib/python3.10/site-packages/cartopy/mpl/geoaxes.py:403: UserWarning: The `map_projection` keyword argument is deprecated, use `projection` to instantiate a GeoAxes instead.\n",
      "  warnings.warn(\"The `map_projection` keyword argument is \"\n"
     ]
    },
    {
     "name": "stdout",
     "output_type": "stream",
     "text": [
      "[Parallel(n_jobs=8)]: Done 491 tasks      | elapsed: 29.7min\n"
     ]
    },
    {
     "name": "stderr",
     "output_type": "stream",
     "text": [
      "/Users/beckermr/mambaforge/envs/rubin-sims/lib/python3.10/site-packages/cartopy/mpl/geoaxes.py:403: UserWarning: The `map_projection` keyword argument is deprecated, use `projection` to instantiate a GeoAxes instead.\n",
      "  warnings.warn(\"The `map_projection` keyword argument is \"\n",
      "/Users/beckermr/mambaforge/envs/rubin-sims/lib/python3.10/site-packages/cartopy/mpl/geoaxes.py:403: UserWarning: The `map_projection` keyword argument is deprecated, use `projection` to instantiate a GeoAxes instead.\n",
      "  warnings.warn(\"The `map_projection` keyword argument is \"\n"
     ]
    },
    {
     "name": "stdout",
     "output_type": "stream",
     "text": [
      "[Parallel(n_jobs=8)]: Done 492 tasks      | elapsed: 29.7min\n"
     ]
    },
    {
     "name": "stderr",
     "output_type": "stream",
     "text": [
      "/Users/beckermr/mambaforge/envs/rubin-sims/lib/python3.10/site-packages/cartopy/mpl/geoaxes.py:403: UserWarning: The `map_projection` keyword argument is deprecated, use `projection` to instantiate a GeoAxes instead.\n",
      "  warnings.warn(\"The `map_projection` keyword argument is \"\n",
      "/Users/beckermr/mambaforge/envs/rubin-sims/lib/python3.10/site-packages/cartopy/mpl/geoaxes.py:403: UserWarning: The `map_projection` keyword argument is deprecated, use `projection` to instantiate a GeoAxes instead.\n",
      "  warnings.warn(\"The `map_projection` keyword argument is \"\n"
     ]
    },
    {
     "name": "stdout",
     "output_type": "stream",
     "text": [
      "[Parallel(n_jobs=8)]: Done 493 tasks      | elapsed: 29.7min\n"
     ]
    },
    {
     "name": "stderr",
     "output_type": "stream",
     "text": [
      "/Users/beckermr/mambaforge/envs/rubin-sims/lib/python3.10/site-packages/cartopy/mpl/geoaxes.py:403: UserWarning: The `map_projection` keyword argument is deprecated, use `projection` to instantiate a GeoAxes instead.\n",
      "  warnings.warn(\"The `map_projection` keyword argument is \"\n",
      "/Users/beckermr/mambaforge/envs/rubin-sims/lib/python3.10/site-packages/cartopy/mpl/geoaxes.py:403: UserWarning: The `map_projection` keyword argument is deprecated, use `projection` to instantiate a GeoAxes instead.\n",
      "  warnings.warn(\"The `map_projection` keyword argument is \"\n"
     ]
    },
    {
     "name": "stdout",
     "output_type": "stream",
     "text": [
      "[Parallel(n_jobs=8)]: Done 494 tasks      | elapsed: 29.7min\n"
     ]
    },
    {
     "name": "stderr",
     "output_type": "stream",
     "text": [
      "/Users/beckermr/mambaforge/envs/rubin-sims/lib/python3.10/site-packages/cartopy/mpl/geoaxes.py:403: UserWarning: The `map_projection` keyword argument is deprecated, use `projection` to instantiate a GeoAxes instead.\n",
      "  warnings.warn(\"The `map_projection` keyword argument is \"\n",
      "/Users/beckermr/mambaforge/envs/rubin-sims/lib/python3.10/site-packages/cartopy/mpl/geoaxes.py:403: UserWarning: The `map_projection` keyword argument is deprecated, use `projection` to instantiate a GeoAxes instead.\n",
      "  warnings.warn(\"The `map_projection` keyword argument is \"\n"
     ]
    },
    {
     "name": "stdout",
     "output_type": "stream",
     "text": [
      "[Parallel(n_jobs=8)]: Done 495 tasks      | elapsed: 29.7min\n"
     ]
    },
    {
     "name": "stderr",
     "output_type": "stream",
     "text": [
      "/Users/beckermr/mambaforge/envs/rubin-sims/lib/python3.10/site-packages/cartopy/mpl/geoaxes.py:403: UserWarning: The `map_projection` keyword argument is deprecated, use `projection` to instantiate a GeoAxes instead.\n",
      "  warnings.warn(\"The `map_projection` keyword argument is \"\n",
      "/Users/beckermr/mambaforge/envs/rubin-sims/lib/python3.10/site-packages/cartopy/mpl/geoaxes.py:403: UserWarning: The `map_projection` keyword argument is deprecated, use `projection` to instantiate a GeoAxes instead.\n",
      "  warnings.warn(\"The `map_projection` keyword argument is \"\n"
     ]
    },
    {
     "name": "stdout",
     "output_type": "stream",
     "text": [
      "[Parallel(n_jobs=8)]: Done 496 tasks      | elapsed: 29.8min\n"
     ]
    },
    {
     "name": "stderr",
     "output_type": "stream",
     "text": [
      "/Users/beckermr/mambaforge/envs/rubin-sims/lib/python3.10/site-packages/cartopy/mpl/geoaxes.py:403: UserWarning: The `map_projection` keyword argument is deprecated, use `projection` to instantiate a GeoAxes instead.\n",
      "  warnings.warn(\"The `map_projection` keyword argument is \"\n",
      "/Users/beckermr/mambaforge/envs/rubin-sims/lib/python3.10/site-packages/cartopy/mpl/geoaxes.py:403: UserWarning: The `map_projection` keyword argument is deprecated, use `projection` to instantiate a GeoAxes instead.\n",
      "  warnings.warn(\"The `map_projection` keyword argument is \"\n"
     ]
    },
    {
     "name": "stdout",
     "output_type": "stream",
     "text": [
      "[Parallel(n_jobs=8)]: Done 497 tasks      | elapsed: 30.0min\n"
     ]
    },
    {
     "name": "stderr",
     "output_type": "stream",
     "text": [
      "/Users/beckermr/mambaforge/envs/rubin-sims/lib/python3.10/site-packages/cartopy/mpl/geoaxes.py:403: UserWarning: The `map_projection` keyword argument is deprecated, use `projection` to instantiate a GeoAxes instead.\n",
      "  warnings.warn(\"The `map_projection` keyword argument is \"\n",
      "/Users/beckermr/mambaforge/envs/rubin-sims/lib/python3.10/site-packages/cartopy/mpl/geoaxes.py:403: UserWarning: The `map_projection` keyword argument is deprecated, use `projection` to instantiate a GeoAxes instead.\n",
      "  warnings.warn(\"The `map_projection` keyword argument is \"\n"
     ]
    },
    {
     "name": "stdout",
     "output_type": "stream",
     "text": [
      "[Parallel(n_jobs=8)]: Done 498 tasks      | elapsed: 30.0min\n"
     ]
    },
    {
     "name": "stderr",
     "output_type": "stream",
     "text": [
      "/Users/beckermr/mambaforge/envs/rubin-sims/lib/python3.10/site-packages/cartopy/mpl/geoaxes.py:403: UserWarning: The `map_projection` keyword argument is deprecated, use `projection` to instantiate a GeoAxes instead.\n",
      "  warnings.warn(\"The `map_projection` keyword argument is \"\n",
      "/Users/beckermr/mambaforge/envs/rubin-sims/lib/python3.10/site-packages/cartopy/mpl/geoaxes.py:403: UserWarning: The `map_projection` keyword argument is deprecated, use `projection` to instantiate a GeoAxes instead.\n",
      "  warnings.warn(\"The `map_projection` keyword argument is \"\n"
     ]
    },
    {
     "name": "stdout",
     "output_type": "stream",
     "text": [
      "[Parallel(n_jobs=8)]: Done 499 tasks      | elapsed: 30.1min\n"
     ]
    },
    {
     "name": "stderr",
     "output_type": "stream",
     "text": [
      "/Users/beckermr/mambaforge/envs/rubin-sims/lib/python3.10/site-packages/cartopy/mpl/geoaxes.py:403: UserWarning: The `map_projection` keyword argument is deprecated, use `projection` to instantiate a GeoAxes instead.\n",
      "  warnings.warn(\"The `map_projection` keyword argument is \"\n",
      "/Users/beckermr/mambaforge/envs/rubin-sims/lib/python3.10/site-packages/cartopy/mpl/geoaxes.py:403: UserWarning: The `map_projection` keyword argument is deprecated, use `projection` to instantiate a GeoAxes instead.\n",
      "  warnings.warn(\"The `map_projection` keyword argument is \"\n"
     ]
    },
    {
     "name": "stdout",
     "output_type": "stream",
     "text": [
      "[Parallel(n_jobs=8)]: Done 500 tasks      | elapsed: 30.2min\n",
      "[Parallel(n_jobs=8)]: Done 501 tasks      | elapsed: 30.2min\n"
     ]
    },
    {
     "name": "stderr",
     "output_type": "stream",
     "text": [
      "/Users/beckermr/mambaforge/envs/rubin-sims/lib/python3.10/site-packages/cartopy/mpl/geoaxes.py:403: UserWarning: The `map_projection` keyword argument is deprecated, use `projection` to instantiate a GeoAxes instead.\n",
      "  warnings.warn(\"The `map_projection` keyword argument is \"\n",
      "/Users/beckermr/mambaforge/envs/rubin-sims/lib/python3.10/site-packages/cartopy/mpl/geoaxes.py:403: UserWarning: The `map_projection` keyword argument is deprecated, use `projection` to instantiate a GeoAxes instead.\n",
      "  warnings.warn(\"The `map_projection` keyword argument is \"\n",
      "/Users/beckermr/mambaforge/envs/rubin-sims/lib/python3.10/site-packages/cartopy/mpl/geoaxes.py:403: UserWarning: The `map_projection` keyword argument is deprecated, use `projection` to instantiate a GeoAxes instead.\n",
      "  warnings.warn(\"The `map_projection` keyword argument is \"\n",
      "/Users/beckermr/mambaforge/envs/rubin-sims/lib/python3.10/site-packages/cartopy/mpl/geoaxes.py:403: UserWarning: The `map_projection` keyword argument is deprecated, use `projection` to instantiate a GeoAxes instead.\n",
      "  warnings.warn(\"The `map_projection` keyword argument is \"\n",
      "/Users/beckermr/mambaforge/envs/rubin-sims/lib/python3.10/site-packages/cartopy/mpl/geoaxes.py:403: UserWarning: The `map_projection` keyword argument is deprecated, use `projection` to instantiate a GeoAxes instead.\n",
      "  warnings.warn(\"The `map_projection` keyword argument is \"\n"
     ]
    },
    {
     "name": "stdout",
     "output_type": "stream",
     "text": [
      "[Parallel(n_jobs=8)]: Done 502 tasks      | elapsed: 30.2min\n"
     ]
    },
    {
     "name": "stderr",
     "output_type": "stream",
     "text": [
      "/Users/beckermr/mambaforge/envs/rubin-sims/lib/python3.10/site-packages/cartopy/mpl/geoaxes.py:403: UserWarning: The `map_projection` keyword argument is deprecated, use `projection` to instantiate a GeoAxes instead.\n",
      "  warnings.warn(\"The `map_projection` keyword argument is \"\n"
     ]
    },
    {
     "name": "stdout",
     "output_type": "stream",
     "text": [
      "[Parallel(n_jobs=8)]: Done 503 tasks      | elapsed: 30.2min\n"
     ]
    },
    {
     "name": "stderr",
     "output_type": "stream",
     "text": [
      "/Users/beckermr/mambaforge/envs/rubin-sims/lib/python3.10/site-packages/cartopy/mpl/geoaxes.py:403: UserWarning: The `map_projection` keyword argument is deprecated, use `projection` to instantiate a GeoAxes instead.\n",
      "  warnings.warn(\"The `map_projection` keyword argument is \"\n",
      "/Users/beckermr/mambaforge/envs/rubin-sims/lib/python3.10/site-packages/cartopy/mpl/geoaxes.py:403: UserWarning: The `map_projection` keyword argument is deprecated, use `projection` to instantiate a GeoAxes instead.\n",
      "  warnings.warn(\"The `map_projection` keyword argument is \"\n"
     ]
    },
    {
     "name": "stdout",
     "output_type": "stream",
     "text": [
      "[Parallel(n_jobs=8)]: Done 504 tasks      | elapsed: 30.3min\n"
     ]
    },
    {
     "name": "stderr",
     "output_type": "stream",
     "text": [
      "/Users/beckermr/mambaforge/envs/rubin-sims/lib/python3.10/site-packages/cartopy/mpl/geoaxes.py:403: UserWarning: The `map_projection` keyword argument is deprecated, use `projection` to instantiate a GeoAxes instead.\n",
      "  warnings.warn(\"The `map_projection` keyword argument is \"\n",
      "/Users/beckermr/mambaforge/envs/rubin-sims/lib/python3.10/site-packages/cartopy/mpl/geoaxes.py:403: UserWarning: The `map_projection` keyword argument is deprecated, use `projection` to instantiate a GeoAxes instead.\n",
      "  warnings.warn(\"The `map_projection` keyword argument is \"\n"
     ]
    },
    {
     "name": "stdout",
     "output_type": "stream",
     "text": [
      "[Parallel(n_jobs=8)]: Done 505 tasks      | elapsed: 30.4min\n"
     ]
    },
    {
     "name": "stderr",
     "output_type": "stream",
     "text": [
      "/Users/beckermr/mambaforge/envs/rubin-sims/lib/python3.10/site-packages/cartopy/mpl/geoaxes.py:403: UserWarning: The `map_projection` keyword argument is deprecated, use `projection` to instantiate a GeoAxes instead.\n",
      "  warnings.warn(\"The `map_projection` keyword argument is \"\n",
      "/Users/beckermr/mambaforge/envs/rubin-sims/lib/python3.10/site-packages/cartopy/mpl/geoaxes.py:403: UserWarning: The `map_projection` keyword argument is deprecated, use `projection` to instantiate a GeoAxes instead.\n",
      "  warnings.warn(\"The `map_projection` keyword argument is \"\n"
     ]
    },
    {
     "name": "stdout",
     "output_type": "stream",
     "text": [
      "[Parallel(n_jobs=8)]: Done 506 tasks      | elapsed: 30.5min\n"
     ]
    },
    {
     "name": "stderr",
     "output_type": "stream",
     "text": [
      "/Users/beckermr/mambaforge/envs/rubin-sims/lib/python3.10/site-packages/cartopy/mpl/geoaxes.py:403: UserWarning: The `map_projection` keyword argument is deprecated, use `projection` to instantiate a GeoAxes instead.\n",
      "  warnings.warn(\"The `map_projection` keyword argument is \"\n",
      "/Users/beckermr/mambaforge/envs/rubin-sims/lib/python3.10/site-packages/cartopy/mpl/geoaxes.py:403: UserWarning: The `map_projection` keyword argument is deprecated, use `projection` to instantiate a GeoAxes instead.\n",
      "  warnings.warn(\"The `map_projection` keyword argument is \"\n"
     ]
    },
    {
     "name": "stdout",
     "output_type": "stream",
     "text": [
      "[Parallel(n_jobs=8)]: Done 507 tasks      | elapsed: 30.6min\n"
     ]
    },
    {
     "name": "stderr",
     "output_type": "stream",
     "text": [
      "/Users/beckermr/mambaforge/envs/rubin-sims/lib/python3.10/site-packages/cartopy/mpl/geoaxes.py:403: UserWarning: The `map_projection` keyword argument is deprecated, use `projection` to instantiate a GeoAxes instead.\n",
      "  warnings.warn(\"The `map_projection` keyword argument is \"\n",
      "/Users/beckermr/mambaforge/envs/rubin-sims/lib/python3.10/site-packages/cartopy/mpl/geoaxes.py:403: UserWarning: The `map_projection` keyword argument is deprecated, use `projection` to instantiate a GeoAxes instead.\n",
      "  warnings.warn(\"The `map_projection` keyword argument is \"\n"
     ]
    },
    {
     "name": "stdout",
     "output_type": "stream",
     "text": [
      "[Parallel(n_jobs=8)]: Done 508 tasks      | elapsed: 30.6min\n",
      "[Parallel(n_jobs=8)]: Done 509 tasks      | elapsed: 30.6min\n"
     ]
    },
    {
     "name": "stderr",
     "output_type": "stream",
     "text": [
      "/Users/beckermr/mambaforge/envs/rubin-sims/lib/python3.10/site-packages/cartopy/mpl/geoaxes.py:403: UserWarning: The `map_projection` keyword argument is deprecated, use `projection` to instantiate a GeoAxes instead.\n",
      "  warnings.warn(\"The `map_projection` keyword argument is \"\n",
      "/Users/beckermr/mambaforge/envs/rubin-sims/lib/python3.10/site-packages/cartopy/mpl/geoaxes.py:403: UserWarning: The `map_projection` keyword argument is deprecated, use `projection` to instantiate a GeoAxes instead.\n",
      "  warnings.warn(\"The `map_projection` keyword argument is \"\n"
     ]
    },
    {
     "name": "stdout",
     "output_type": "stream",
     "text": [
      "[Parallel(n_jobs=8)]: Done 510 tasks      | elapsed: 30.6min\n",
      "[Parallel(n_jobs=8)]: Done 511 tasks      | elapsed: 30.6min\n"
     ]
    },
    {
     "name": "stderr",
     "output_type": "stream",
     "text": [
      "/Users/beckermr/mambaforge/envs/rubin-sims/lib/python3.10/site-packages/cartopy/mpl/geoaxes.py:403: UserWarning: The `map_projection` keyword argument is deprecated, use `projection` to instantiate a GeoAxes instead.\n",
      "  warnings.warn(\"The `map_projection` keyword argument is \"\n",
      "/Users/beckermr/mambaforge/envs/rubin-sims/lib/python3.10/site-packages/cartopy/mpl/geoaxes.py:403: UserWarning: The `map_projection` keyword argument is deprecated, use `projection` to instantiate a GeoAxes instead.\n",
      "  warnings.warn(\"The `map_projection` keyword argument is \"\n",
      "/Users/beckermr/mambaforge/envs/rubin-sims/lib/python3.10/site-packages/cartopy/mpl/geoaxes.py:403: UserWarning: The `map_projection` keyword argument is deprecated, use `projection` to instantiate a GeoAxes instead.\n",
      "  warnings.warn(\"The `map_projection` keyword argument is \"\n",
      "/Users/beckermr/mambaforge/envs/rubin-sims/lib/python3.10/site-packages/cartopy/mpl/geoaxes.py:403: UserWarning: The `map_projection` keyword argument is deprecated, use `projection` to instantiate a GeoAxes instead.\n",
      "  warnings.warn(\"The `map_projection` keyword argument is \"\n",
      "/Users/beckermr/mambaforge/envs/rubin-sims/lib/python3.10/site-packages/cartopy/mpl/geoaxes.py:403: UserWarning: The `map_projection` keyword argument is deprecated, use `projection` to instantiate a GeoAxes instead.\n",
      "  warnings.warn(\"The `map_projection` keyword argument is \"\n",
      "/Users/beckermr/mambaforge/envs/rubin-sims/lib/python3.10/site-packages/cartopy/mpl/geoaxes.py:403: UserWarning: The `map_projection` keyword argument is deprecated, use `projection` to instantiate a GeoAxes instead.\n",
      "  warnings.warn(\"The `map_projection` keyword argument is \"\n"
     ]
    },
    {
     "name": "stdout",
     "output_type": "stream",
     "text": [
      "[Parallel(n_jobs=8)]: Done 512 tasks      | elapsed: 30.7min\n"
     ]
    },
    {
     "name": "stderr",
     "output_type": "stream",
     "text": [
      "/Users/beckermr/mambaforge/envs/rubin-sims/lib/python3.10/site-packages/cartopy/mpl/geoaxes.py:403: UserWarning: The `map_projection` keyword argument is deprecated, use `projection` to instantiate a GeoAxes instead.\n",
      "  warnings.warn(\"The `map_projection` keyword argument is \"\n",
      "/Users/beckermr/mambaforge/envs/rubin-sims/lib/python3.10/site-packages/cartopy/mpl/geoaxes.py:403: UserWarning: The `map_projection` keyword argument is deprecated, use `projection` to instantiate a GeoAxes instead.\n",
      "  warnings.warn(\"The `map_projection` keyword argument is \"\n"
     ]
    },
    {
     "name": "stdout",
     "output_type": "stream",
     "text": [
      "[Parallel(n_jobs=8)]: Done 513 tasks      | elapsed: 30.9min\n",
      "[Parallel(n_jobs=8)]: Done 514 tasks      | elapsed: 30.9min\n"
     ]
    },
    {
     "name": "stderr",
     "output_type": "stream",
     "text": [
      "/Users/beckermr/mambaforge/envs/rubin-sims/lib/python3.10/site-packages/cartopy/mpl/geoaxes.py:403: UserWarning: The `map_projection` keyword argument is deprecated, use `projection` to instantiate a GeoAxes instead.\n",
      "  warnings.warn(\"The `map_projection` keyword argument is \"\n",
      "/Users/beckermr/mambaforge/envs/rubin-sims/lib/python3.10/site-packages/cartopy/mpl/geoaxes.py:403: UserWarning: The `map_projection` keyword argument is deprecated, use `projection` to instantiate a GeoAxes instead.\n",
      "  warnings.warn(\"The `map_projection` keyword argument is \"\n",
      "/Users/beckermr/mambaforge/envs/rubin-sims/lib/python3.10/site-packages/cartopy/mpl/geoaxes.py:403: UserWarning: The `map_projection` keyword argument is deprecated, use `projection` to instantiate a GeoAxes instead.\n",
      "  warnings.warn(\"The `map_projection` keyword argument is \"\n",
      "/Users/beckermr/mambaforge/envs/rubin-sims/lib/python3.10/site-packages/cartopy/mpl/geoaxes.py:403: UserWarning: The `map_projection` keyword argument is deprecated, use `projection` to instantiate a GeoAxes instead.\n",
      "  warnings.warn(\"The `map_projection` keyword argument is \"\n"
     ]
    },
    {
     "name": "stdout",
     "output_type": "stream",
     "text": [
      "[Parallel(n_jobs=8)]: Done 515 tasks      | elapsed: 31.0min\n",
      "[Parallel(n_jobs=8)]: Done 516 tasks      | elapsed: 31.1min\n"
     ]
    },
    {
     "name": "stderr",
     "output_type": "stream",
     "text": [
      "/Users/beckermr/mambaforge/envs/rubin-sims/lib/python3.10/site-packages/cartopy/mpl/geoaxes.py:403: UserWarning: The `map_projection` keyword argument is deprecated, use `projection` to instantiate a GeoAxes instead.\n",
      "  warnings.warn(\"The `map_projection` keyword argument is \"\n",
      "/Users/beckermr/mambaforge/envs/rubin-sims/lib/python3.10/site-packages/cartopy/mpl/geoaxes.py:403: UserWarning: The `map_projection` keyword argument is deprecated, use `projection` to instantiate a GeoAxes instead.\n",
      "  warnings.warn(\"The `map_projection` keyword argument is \"\n"
     ]
    },
    {
     "name": "stdout",
     "output_type": "stream",
     "text": [
      "[Parallel(n_jobs=8)]: Done 517 tasks      | elapsed: 31.1min\n"
     ]
    },
    {
     "name": "stderr",
     "output_type": "stream",
     "text": [
      "/Users/beckermr/mambaforge/envs/rubin-sims/lib/python3.10/site-packages/cartopy/mpl/geoaxes.py:403: UserWarning: The `map_projection` keyword argument is deprecated, use `projection` to instantiate a GeoAxes instead.\n",
      "  warnings.warn(\"The `map_projection` keyword argument is \"\n",
      "/Users/beckermr/mambaforge/envs/rubin-sims/lib/python3.10/site-packages/cartopy/mpl/geoaxes.py:403: UserWarning: The `map_projection` keyword argument is deprecated, use `projection` to instantiate a GeoAxes instead.\n",
      "  warnings.warn(\"The `map_projection` keyword argument is \"\n",
      "/Users/beckermr/mambaforge/envs/rubin-sims/lib/python3.10/site-packages/cartopy/mpl/geoaxes.py:403: UserWarning: The `map_projection` keyword argument is deprecated, use `projection` to instantiate a GeoAxes instead.\n",
      "  warnings.warn(\"The `map_projection` keyword argument is \"\n",
      "/Users/beckermr/mambaforge/envs/rubin-sims/lib/python3.10/site-packages/cartopy/mpl/geoaxes.py:403: UserWarning: The `map_projection` keyword argument is deprecated, use `projection` to instantiate a GeoAxes instead.\n",
      "  warnings.warn(\"The `map_projection` keyword argument is \"\n"
     ]
    },
    {
     "name": "stdout",
     "output_type": "stream",
     "text": [
      "[Parallel(n_jobs=8)]: Done 518 tasks      | elapsed: 31.1min\n"
     ]
    },
    {
     "name": "stderr",
     "output_type": "stream",
     "text": [
      "/Users/beckermr/mambaforge/envs/rubin-sims/lib/python3.10/site-packages/cartopy/mpl/geoaxes.py:403: UserWarning: The `map_projection` keyword argument is deprecated, use `projection` to instantiate a GeoAxes instead.\n",
      "  warnings.warn(\"The `map_projection` keyword argument is \"\n",
      "/Users/beckermr/mambaforge/envs/rubin-sims/lib/python3.10/site-packages/cartopy/mpl/geoaxes.py:403: UserWarning: The `map_projection` keyword argument is deprecated, use `projection` to instantiate a GeoAxes instead.\n",
      "  warnings.warn(\"The `map_projection` keyword argument is \"\n"
     ]
    },
    {
     "name": "stdout",
     "output_type": "stream",
     "text": [
      "[Parallel(n_jobs=8)]: Done 519 tasks      | elapsed: 31.1min\n"
     ]
    },
    {
     "name": "stderr",
     "output_type": "stream",
     "text": [
      "/Users/beckermr/mambaforge/envs/rubin-sims/lib/python3.10/site-packages/cartopy/mpl/geoaxes.py:403: UserWarning: The `map_projection` keyword argument is deprecated, use `projection` to instantiate a GeoAxes instead.\n",
      "  warnings.warn(\"The `map_projection` keyword argument is \"\n",
      "/Users/beckermr/mambaforge/envs/rubin-sims/lib/python3.10/site-packages/cartopy/mpl/geoaxes.py:403: UserWarning: The `map_projection` keyword argument is deprecated, use `projection` to instantiate a GeoAxes instead.\n",
      "  warnings.warn(\"The `map_projection` keyword argument is \"\n"
     ]
    },
    {
     "name": "stdout",
     "output_type": "stream",
     "text": [
      "[Parallel(n_jobs=8)]: Done 520 tasks      | elapsed: 31.1min\n"
     ]
    },
    {
     "name": "stderr",
     "output_type": "stream",
     "text": [
      "/Users/beckermr/mambaforge/envs/rubin-sims/lib/python3.10/site-packages/cartopy/mpl/geoaxes.py:403: UserWarning: The `map_projection` keyword argument is deprecated, use `projection` to instantiate a GeoAxes instead.\n",
      "  warnings.warn(\"The `map_projection` keyword argument is \"\n",
      "/Users/beckermr/mambaforge/envs/rubin-sims/lib/python3.10/site-packages/cartopy/mpl/geoaxes.py:403: UserWarning: The `map_projection` keyword argument is deprecated, use `projection` to instantiate a GeoAxes instead.\n",
      "  warnings.warn(\"The `map_projection` keyword argument is \"\n"
     ]
    },
    {
     "name": "stdout",
     "output_type": "stream",
     "text": [
      "[Parallel(n_jobs=8)]: Done 521 tasks      | elapsed: 31.4min\n",
      "[Parallel(n_jobs=8)]: Done 522 tasks      | elapsed: 31.4min\n"
     ]
    },
    {
     "name": "stderr",
     "output_type": "stream",
     "text": [
      "/Users/beckermr/mambaforge/envs/rubin-sims/lib/python3.10/site-packages/cartopy/mpl/geoaxes.py:403: UserWarning: The `map_projection` keyword argument is deprecated, use `projection` to instantiate a GeoAxes instead.\n",
      "  warnings.warn(\"The `map_projection` keyword argument is \"\n",
      "/Users/beckermr/mambaforge/envs/rubin-sims/lib/python3.10/site-packages/cartopy/mpl/geoaxes.py:403: UserWarning: The `map_projection` keyword argument is deprecated, use `projection` to instantiate a GeoAxes instead.\n",
      "  warnings.warn(\"The `map_projection` keyword argument is \"\n",
      "/Users/beckermr/mambaforge/envs/rubin-sims/lib/python3.10/site-packages/cartopy/mpl/geoaxes.py:403: UserWarning: The `map_projection` keyword argument is deprecated, use `projection` to instantiate a GeoAxes instead.\n",
      "  warnings.warn(\"The `map_projection` keyword argument is \"\n",
      "/Users/beckermr/mambaforge/envs/rubin-sims/lib/python3.10/site-packages/cartopy/mpl/geoaxes.py:403: UserWarning: The `map_projection` keyword argument is deprecated, use `projection` to instantiate a GeoAxes instead.\n",
      "  warnings.warn(\"The `map_projection` keyword argument is \"\n"
     ]
    },
    {
     "name": "stdout",
     "output_type": "stream",
     "text": [
      "[Parallel(n_jobs=8)]: Done 523 tasks      | elapsed: 31.5min\n"
     ]
    },
    {
     "name": "stderr",
     "output_type": "stream",
     "text": [
      "/Users/beckermr/mambaforge/envs/rubin-sims/lib/python3.10/site-packages/cartopy/mpl/geoaxes.py:403: UserWarning: The `map_projection` keyword argument is deprecated, use `projection` to instantiate a GeoAxes instead.\n",
      "  warnings.warn(\"The `map_projection` keyword argument is \"\n",
      "/Users/beckermr/mambaforge/envs/rubin-sims/lib/python3.10/site-packages/cartopy/mpl/geoaxes.py:403: UserWarning: The `map_projection` keyword argument is deprecated, use `projection` to instantiate a GeoAxes instead.\n",
      "  warnings.warn(\"The `map_projection` keyword argument is \"\n"
     ]
    },
    {
     "name": "stdout",
     "output_type": "stream",
     "text": [
      "[Parallel(n_jobs=8)]: Done 524 tasks      | elapsed: 31.5min\n"
     ]
    },
    {
     "name": "stderr",
     "output_type": "stream",
     "text": [
      "/Users/beckermr/mambaforge/envs/rubin-sims/lib/python3.10/site-packages/cartopy/mpl/geoaxes.py:403: UserWarning: The `map_projection` keyword argument is deprecated, use `projection` to instantiate a GeoAxes instead.\n",
      "  warnings.warn(\"The `map_projection` keyword argument is \"\n",
      "/Users/beckermr/mambaforge/envs/rubin-sims/lib/python3.10/site-packages/cartopy/mpl/geoaxes.py:403: UserWarning: The `map_projection` keyword argument is deprecated, use `projection` to instantiate a GeoAxes instead.\n",
      "  warnings.warn(\"The `map_projection` keyword argument is \"\n"
     ]
    },
    {
     "name": "stdout",
     "output_type": "stream",
     "text": [
      "[Parallel(n_jobs=8)]: Done 525 tasks      | elapsed: 31.5min\n"
     ]
    },
    {
     "name": "stderr",
     "output_type": "stream",
     "text": [
      "/Users/beckermr/mambaforge/envs/rubin-sims/lib/python3.10/site-packages/cartopy/mpl/geoaxes.py:403: UserWarning: The `map_projection` keyword argument is deprecated, use `projection` to instantiate a GeoAxes instead.\n",
      "  warnings.warn(\"The `map_projection` keyword argument is \"\n",
      "/Users/beckermr/mambaforge/envs/rubin-sims/lib/python3.10/site-packages/cartopy/mpl/geoaxes.py:403: UserWarning: The `map_projection` keyword argument is deprecated, use `projection` to instantiate a GeoAxes instead.\n",
      "  warnings.warn(\"The `map_projection` keyword argument is \"\n"
     ]
    },
    {
     "name": "stdout",
     "output_type": "stream",
     "text": [
      "[Parallel(n_jobs=8)]: Done 526 tasks      | elapsed: 31.6min\n"
     ]
    },
    {
     "name": "stderr",
     "output_type": "stream",
     "text": [
      "/Users/beckermr/mambaforge/envs/rubin-sims/lib/python3.10/site-packages/cartopy/mpl/geoaxes.py:403: UserWarning: The `map_projection` keyword argument is deprecated, use `projection` to instantiate a GeoAxes instead.\n",
      "  warnings.warn(\"The `map_projection` keyword argument is \"\n",
      "/Users/beckermr/mambaforge/envs/rubin-sims/lib/python3.10/site-packages/cartopy/mpl/geoaxes.py:403: UserWarning: The `map_projection` keyword argument is deprecated, use `projection` to instantiate a GeoAxes instead.\n",
      "  warnings.warn(\"The `map_projection` keyword argument is \"\n"
     ]
    },
    {
     "name": "stdout",
     "output_type": "stream",
     "text": [
      "[Parallel(n_jobs=8)]: Done 527 tasks      | elapsed: 31.6min\n"
     ]
    },
    {
     "name": "stderr",
     "output_type": "stream",
     "text": [
      "/Users/beckermr/mambaforge/envs/rubin-sims/lib/python3.10/site-packages/cartopy/mpl/geoaxes.py:403: UserWarning: The `map_projection` keyword argument is deprecated, use `projection` to instantiate a GeoAxes instead.\n",
      "  warnings.warn(\"The `map_projection` keyword argument is \"\n",
      "/Users/beckermr/mambaforge/envs/rubin-sims/lib/python3.10/site-packages/cartopy/mpl/geoaxes.py:403: UserWarning: The `map_projection` keyword argument is deprecated, use `projection` to instantiate a GeoAxes instead.\n",
      "  warnings.warn(\"The `map_projection` keyword argument is \"\n"
     ]
    },
    {
     "name": "stdout",
     "output_type": "stream",
     "text": [
      "[Parallel(n_jobs=8)]: Done 528 tasks      | elapsed: 31.6min\n"
     ]
    },
    {
     "name": "stderr",
     "output_type": "stream",
     "text": [
      "/Users/beckermr/mambaforge/envs/rubin-sims/lib/python3.10/site-packages/cartopy/mpl/geoaxes.py:403: UserWarning: The `map_projection` keyword argument is deprecated, use `projection` to instantiate a GeoAxes instead.\n",
      "  warnings.warn(\"The `map_projection` keyword argument is \"\n",
      "/Users/beckermr/mambaforge/envs/rubin-sims/lib/python3.10/site-packages/cartopy/mpl/geoaxes.py:403: UserWarning: The `map_projection` keyword argument is deprecated, use `projection` to instantiate a GeoAxes instead.\n",
      "  warnings.warn(\"The `map_projection` keyword argument is \"\n"
     ]
    },
    {
     "name": "stdout",
     "output_type": "stream",
     "text": [
      "[Parallel(n_jobs=8)]: Done 529 tasks      | elapsed: 31.8min\n"
     ]
    },
    {
     "name": "stderr",
     "output_type": "stream",
     "text": [
      "/Users/beckermr/mambaforge/envs/rubin-sims/lib/python3.10/site-packages/cartopy/mpl/geoaxes.py:403: UserWarning: The `map_projection` keyword argument is deprecated, use `projection` to instantiate a GeoAxes instead.\n",
      "  warnings.warn(\"The `map_projection` keyword argument is \"\n",
      "/Users/beckermr/mambaforge/envs/rubin-sims/lib/python3.10/site-packages/cartopy/mpl/geoaxes.py:403: UserWarning: The `map_projection` keyword argument is deprecated, use `projection` to instantiate a GeoAxes instead.\n",
      "  warnings.warn(\"The `map_projection` keyword argument is \"\n"
     ]
    },
    {
     "name": "stdout",
     "output_type": "stream",
     "text": [
      "[Parallel(n_jobs=8)]: Done 530 tasks      | elapsed: 31.9min\n"
     ]
    },
    {
     "name": "stderr",
     "output_type": "stream",
     "text": [
      "/Users/beckermr/mambaforge/envs/rubin-sims/lib/python3.10/site-packages/cartopy/mpl/geoaxes.py:403: UserWarning: The `map_projection` keyword argument is deprecated, use `projection` to instantiate a GeoAxes instead.\n",
      "  warnings.warn(\"The `map_projection` keyword argument is \"\n",
      "/Users/beckermr/mambaforge/envs/rubin-sims/lib/python3.10/site-packages/cartopy/mpl/geoaxes.py:403: UserWarning: The `map_projection` keyword argument is deprecated, use `projection` to instantiate a GeoAxes instead.\n",
      "  warnings.warn(\"The `map_projection` keyword argument is \"\n"
     ]
    },
    {
     "name": "stdout",
     "output_type": "stream",
     "text": [
      "[Parallel(n_jobs=8)]: Done 531 tasks      | elapsed: 32.0min\n"
     ]
    },
    {
     "name": "stderr",
     "output_type": "stream",
     "text": [
      "/Users/beckermr/mambaforge/envs/rubin-sims/lib/python3.10/site-packages/cartopy/mpl/geoaxes.py:403: UserWarning: The `map_projection` keyword argument is deprecated, use `projection` to instantiate a GeoAxes instead.\n",
      "  warnings.warn(\"The `map_projection` keyword argument is \"\n",
      "/Users/beckermr/mambaforge/envs/rubin-sims/lib/python3.10/site-packages/cartopy/mpl/geoaxes.py:403: UserWarning: The `map_projection` keyword argument is deprecated, use `projection` to instantiate a GeoAxes instead.\n",
      "  warnings.warn(\"The `map_projection` keyword argument is \"\n"
     ]
    },
    {
     "name": "stdout",
     "output_type": "stream",
     "text": [
      "[Parallel(n_jobs=8)]: Done 532 tasks      | elapsed: 32.0min\n"
     ]
    },
    {
     "name": "stderr",
     "output_type": "stream",
     "text": [
      "/Users/beckermr/mambaforge/envs/rubin-sims/lib/python3.10/site-packages/cartopy/mpl/geoaxes.py:403: UserWarning: The `map_projection` keyword argument is deprecated, use `projection` to instantiate a GeoAxes instead.\n",
      "  warnings.warn(\"The `map_projection` keyword argument is \"\n",
      "/Users/beckermr/mambaforge/envs/rubin-sims/lib/python3.10/site-packages/cartopy/mpl/geoaxes.py:403: UserWarning: The `map_projection` keyword argument is deprecated, use `projection` to instantiate a GeoAxes instead.\n",
      "  warnings.warn(\"The `map_projection` keyword argument is \"\n"
     ]
    },
    {
     "name": "stdout",
     "output_type": "stream",
     "text": [
      "[Parallel(n_jobs=8)]: Done 533 tasks      | elapsed: 32.0min\n"
     ]
    },
    {
     "name": "stderr",
     "output_type": "stream",
     "text": [
      "/Users/beckermr/mambaforge/envs/rubin-sims/lib/python3.10/site-packages/cartopy/mpl/geoaxes.py:403: UserWarning: The `map_projection` keyword argument is deprecated, use `projection` to instantiate a GeoAxes instead.\n",
      "  warnings.warn(\"The `map_projection` keyword argument is \"\n",
      "/Users/beckermr/mambaforge/envs/rubin-sims/lib/python3.10/site-packages/cartopy/mpl/geoaxes.py:403: UserWarning: The `map_projection` keyword argument is deprecated, use `projection` to instantiate a GeoAxes instead.\n",
      "  warnings.warn(\"The `map_projection` keyword argument is \"\n"
     ]
    },
    {
     "name": "stdout",
     "output_type": "stream",
     "text": [
      "[Parallel(n_jobs=8)]: Done 534 tasks      | elapsed: 32.0min\n",
      "[Parallel(n_jobs=8)]: Done 535 tasks      | elapsed: 32.0min\n"
     ]
    },
    {
     "name": "stderr",
     "output_type": "stream",
     "text": [
      "/Users/beckermr/mambaforge/envs/rubin-sims/lib/python3.10/site-packages/cartopy/mpl/geoaxes.py:403: UserWarning: The `map_projection` keyword argument is deprecated, use `projection` to instantiate a GeoAxes instead.\n",
      "  warnings.warn(\"The `map_projection` keyword argument is \"\n",
      "/Users/beckermr/mambaforge/envs/rubin-sims/lib/python3.10/site-packages/cartopy/mpl/geoaxes.py:403: UserWarning: The `map_projection` keyword argument is deprecated, use `projection` to instantiate a GeoAxes instead.\n",
      "  warnings.warn(\"The `map_projection` keyword argument is \"\n",
      "/Users/beckermr/mambaforge/envs/rubin-sims/lib/python3.10/site-packages/cartopy/mpl/geoaxes.py:403: UserWarning: The `map_projection` keyword argument is deprecated, use `projection` to instantiate a GeoAxes instead.\n",
      "  warnings.warn(\"The `map_projection` keyword argument is \"\n",
      "/Users/beckermr/mambaforge/envs/rubin-sims/lib/python3.10/site-packages/cartopy/mpl/geoaxes.py:403: UserWarning: The `map_projection` keyword argument is deprecated, use `projection` to instantiate a GeoAxes instead.\n",
      "  warnings.warn(\"The `map_projection` keyword argument is \"\n"
     ]
    },
    {
     "name": "stdout",
     "output_type": "stream",
     "text": [
      "[Parallel(n_jobs=8)]: Done 536 tasks      | elapsed: 32.1min\n"
     ]
    },
    {
     "name": "stderr",
     "output_type": "stream",
     "text": [
      "/Users/beckermr/mambaforge/envs/rubin-sims/lib/python3.10/site-packages/cartopy/mpl/geoaxes.py:403: UserWarning: The `map_projection` keyword argument is deprecated, use `projection` to instantiate a GeoAxes instead.\n",
      "  warnings.warn(\"The `map_projection` keyword argument is \"\n",
      "/Users/beckermr/mambaforge/envs/rubin-sims/lib/python3.10/site-packages/cartopy/mpl/geoaxes.py:403: UserWarning: The `map_projection` keyword argument is deprecated, use `projection` to instantiate a GeoAxes instead.\n",
      "  warnings.warn(\"The `map_projection` keyword argument is \"\n"
     ]
    },
    {
     "name": "stdout",
     "output_type": "stream",
     "text": [
      "[Parallel(n_jobs=8)]: Done 537 tasks      | elapsed: 32.3min\n"
     ]
    },
    {
     "name": "stderr",
     "output_type": "stream",
     "text": [
      "/Users/beckermr/mambaforge/envs/rubin-sims/lib/python3.10/site-packages/cartopy/mpl/geoaxes.py:403: UserWarning: The `map_projection` keyword argument is deprecated, use `projection` to instantiate a GeoAxes instead.\n",
      "  warnings.warn(\"The `map_projection` keyword argument is \"\n",
      "/Users/beckermr/mambaforge/envs/rubin-sims/lib/python3.10/site-packages/cartopy/mpl/geoaxes.py:403: UserWarning: The `map_projection` keyword argument is deprecated, use `projection` to instantiate a GeoAxes instead.\n",
      "  warnings.warn(\"The `map_projection` keyword argument is \"\n"
     ]
    },
    {
     "name": "stdout",
     "output_type": "stream",
     "text": [
      "[Parallel(n_jobs=8)]: Done 538 tasks      | elapsed: 32.3min\n"
     ]
    },
    {
     "name": "stderr",
     "output_type": "stream",
     "text": [
      "/Users/beckermr/mambaforge/envs/rubin-sims/lib/python3.10/site-packages/cartopy/mpl/geoaxes.py:403: UserWarning: The `map_projection` keyword argument is deprecated, use `projection` to instantiate a GeoAxes instead.\n",
      "  warnings.warn(\"The `map_projection` keyword argument is \"\n",
      "/Users/beckermr/mambaforge/envs/rubin-sims/lib/python3.10/site-packages/cartopy/mpl/geoaxes.py:403: UserWarning: The `map_projection` keyword argument is deprecated, use `projection` to instantiate a GeoAxes instead.\n",
      "  warnings.warn(\"The `map_projection` keyword argument is \"\n"
     ]
    },
    {
     "name": "stdout",
     "output_type": "stream",
     "text": [
      "[Parallel(n_jobs=8)]: Done 539 tasks      | elapsed: 32.4min\n"
     ]
    },
    {
     "name": "stderr",
     "output_type": "stream",
     "text": [
      "/Users/beckermr/mambaforge/envs/rubin-sims/lib/python3.10/site-packages/cartopy/mpl/geoaxes.py:403: UserWarning: The `map_projection` keyword argument is deprecated, use `projection` to instantiate a GeoAxes instead.\n",
      "  warnings.warn(\"The `map_projection` keyword argument is \"\n",
      "/Users/beckermr/mambaforge/envs/rubin-sims/lib/python3.10/site-packages/cartopy/mpl/geoaxes.py:403: UserWarning: The `map_projection` keyword argument is deprecated, use `projection` to instantiate a GeoAxes instead.\n",
      "  warnings.warn(\"The `map_projection` keyword argument is \"\n"
     ]
    },
    {
     "name": "stdout",
     "output_type": "stream",
     "text": [
      "[Parallel(n_jobs=8)]: Done 540 tasks      | elapsed: 32.4min\n"
     ]
    },
    {
     "name": "stderr",
     "output_type": "stream",
     "text": [
      "/Users/beckermr/mambaforge/envs/rubin-sims/lib/python3.10/site-packages/cartopy/mpl/geoaxes.py:403: UserWarning: The `map_projection` keyword argument is deprecated, use `projection` to instantiate a GeoAxes instead.\n",
      "  warnings.warn(\"The `map_projection` keyword argument is \"\n",
      "/Users/beckermr/mambaforge/envs/rubin-sims/lib/python3.10/site-packages/cartopy/mpl/geoaxes.py:403: UserWarning: The `map_projection` keyword argument is deprecated, use `projection` to instantiate a GeoAxes instead.\n",
      "  warnings.warn(\"The `map_projection` keyword argument is \"\n"
     ]
    },
    {
     "name": "stdout",
     "output_type": "stream",
     "text": [
      "[Parallel(n_jobs=8)]: Done 541 tasks      | elapsed: 32.4min\n"
     ]
    },
    {
     "name": "stderr",
     "output_type": "stream",
     "text": [
      "/Users/beckermr/mambaforge/envs/rubin-sims/lib/python3.10/site-packages/cartopy/mpl/geoaxes.py:403: UserWarning: The `map_projection` keyword argument is deprecated, use `projection` to instantiate a GeoAxes instead.\n",
      "  warnings.warn(\"The `map_projection` keyword argument is \"\n",
      "/Users/beckermr/mambaforge/envs/rubin-sims/lib/python3.10/site-packages/cartopy/mpl/geoaxes.py:403: UserWarning: The `map_projection` keyword argument is deprecated, use `projection` to instantiate a GeoAxes instead.\n",
      "  warnings.warn(\"The `map_projection` keyword argument is \"\n"
     ]
    },
    {
     "name": "stdout",
     "output_type": "stream",
     "text": [
      "[Parallel(n_jobs=8)]: Done 542 tasks      | elapsed: 32.5min\n"
     ]
    },
    {
     "name": "stderr",
     "output_type": "stream",
     "text": [
      "/Users/beckermr/mambaforge/envs/rubin-sims/lib/python3.10/site-packages/cartopy/mpl/geoaxes.py:403: UserWarning: The `map_projection` keyword argument is deprecated, use `projection` to instantiate a GeoAxes instead.\n",
      "  warnings.warn(\"The `map_projection` keyword argument is \"\n",
      "/Users/beckermr/mambaforge/envs/rubin-sims/lib/python3.10/site-packages/cartopy/mpl/geoaxes.py:403: UserWarning: The `map_projection` keyword argument is deprecated, use `projection` to instantiate a GeoAxes instead.\n",
      "  warnings.warn(\"The `map_projection` keyword argument is \"\n"
     ]
    },
    {
     "name": "stdout",
     "output_type": "stream",
     "text": [
      "[Parallel(n_jobs=8)]: Done 543 tasks      | elapsed: 32.5min\n"
     ]
    },
    {
     "name": "stderr",
     "output_type": "stream",
     "text": [
      "/Users/beckermr/mambaforge/envs/rubin-sims/lib/python3.10/site-packages/cartopy/mpl/geoaxes.py:403: UserWarning: The `map_projection` keyword argument is deprecated, use `projection` to instantiate a GeoAxes instead.\n",
      "  warnings.warn(\"The `map_projection` keyword argument is \"\n",
      "/Users/beckermr/mambaforge/envs/rubin-sims/lib/python3.10/site-packages/cartopy/mpl/geoaxes.py:403: UserWarning: The `map_projection` keyword argument is deprecated, use `projection` to instantiate a GeoAxes instead.\n",
      "  warnings.warn(\"The `map_projection` keyword argument is \"\n"
     ]
    },
    {
     "name": "stdout",
     "output_type": "stream",
     "text": [
      "[Parallel(n_jobs=8)]: Done 544 tasks      | elapsed: 32.5min\n"
     ]
    },
    {
     "name": "stderr",
     "output_type": "stream",
     "text": [
      "/Users/beckermr/mambaforge/envs/rubin-sims/lib/python3.10/site-packages/cartopy/mpl/geoaxes.py:403: UserWarning: The `map_projection` keyword argument is deprecated, use `projection` to instantiate a GeoAxes instead.\n",
      "  warnings.warn(\"The `map_projection` keyword argument is \"\n",
      "/Users/beckermr/mambaforge/envs/rubin-sims/lib/python3.10/site-packages/cartopy/mpl/geoaxes.py:403: UserWarning: The `map_projection` keyword argument is deprecated, use `projection` to instantiate a GeoAxes instead.\n",
      "  warnings.warn(\"The `map_projection` keyword argument is \"\n"
     ]
    },
    {
     "name": "stdout",
     "output_type": "stream",
     "text": [
      "[Parallel(n_jobs=8)]: Done 545 tasks      | elapsed: 32.7min\n"
     ]
    },
    {
     "name": "stderr",
     "output_type": "stream",
     "text": [
      "/Users/beckermr/mambaforge/envs/rubin-sims/lib/python3.10/site-packages/cartopy/mpl/geoaxes.py:403: UserWarning: The `map_projection` keyword argument is deprecated, use `projection` to instantiate a GeoAxes instead.\n",
      "  warnings.warn(\"The `map_projection` keyword argument is \"\n",
      "/Users/beckermr/mambaforge/envs/rubin-sims/lib/python3.10/site-packages/cartopy/mpl/geoaxes.py:403: UserWarning: The `map_projection` keyword argument is deprecated, use `projection` to instantiate a GeoAxes instead.\n",
      "  warnings.warn(\"The `map_projection` keyword argument is \"\n"
     ]
    },
    {
     "name": "stdout",
     "output_type": "stream",
     "text": [
      "[Parallel(n_jobs=8)]: Done 546 tasks      | elapsed: 32.7min\n"
     ]
    },
    {
     "name": "stderr",
     "output_type": "stream",
     "text": [
      "/Users/beckermr/mambaforge/envs/rubin-sims/lib/python3.10/site-packages/cartopy/mpl/geoaxes.py:403: UserWarning: The `map_projection` keyword argument is deprecated, use `projection` to instantiate a GeoAxes instead.\n",
      "  warnings.warn(\"The `map_projection` keyword argument is \"\n",
      "/Users/beckermr/mambaforge/envs/rubin-sims/lib/python3.10/site-packages/cartopy/mpl/geoaxes.py:403: UserWarning: The `map_projection` keyword argument is deprecated, use `projection` to instantiate a GeoAxes instead.\n",
      "  warnings.warn(\"The `map_projection` keyword argument is \"\n"
     ]
    },
    {
     "name": "stdout",
     "output_type": "stream",
     "text": [
      "[Parallel(n_jobs=8)]: Done 547 tasks      | elapsed: 32.9min\n"
     ]
    },
    {
     "name": "stderr",
     "output_type": "stream",
     "text": [
      "/Users/beckermr/mambaforge/envs/rubin-sims/lib/python3.10/site-packages/cartopy/mpl/geoaxes.py:403: UserWarning: The `map_projection` keyword argument is deprecated, use `projection` to instantiate a GeoAxes instead.\n",
      "  warnings.warn(\"The `map_projection` keyword argument is \"\n",
      "/Users/beckermr/mambaforge/envs/rubin-sims/lib/python3.10/site-packages/cartopy/mpl/geoaxes.py:403: UserWarning: The `map_projection` keyword argument is deprecated, use `projection` to instantiate a GeoAxes instead.\n",
      "  warnings.warn(\"The `map_projection` keyword argument is \"\n"
     ]
    },
    {
     "name": "stdout",
     "output_type": "stream",
     "text": [
      "[Parallel(n_jobs=8)]: Done 548 tasks      | elapsed: 32.9min\n"
     ]
    },
    {
     "name": "stderr",
     "output_type": "stream",
     "text": [
      "/Users/beckermr/mambaforge/envs/rubin-sims/lib/python3.10/site-packages/cartopy/mpl/geoaxes.py:403: UserWarning: The `map_projection` keyword argument is deprecated, use `projection` to instantiate a GeoAxes instead.\n",
      "  warnings.warn(\"The `map_projection` keyword argument is \"\n",
      "/Users/beckermr/mambaforge/envs/rubin-sims/lib/python3.10/site-packages/cartopy/mpl/geoaxes.py:403: UserWarning: The `map_projection` keyword argument is deprecated, use `projection` to instantiate a GeoAxes instead.\n",
      "  warnings.warn(\"The `map_projection` keyword argument is \"\n"
     ]
    },
    {
     "name": "stdout",
     "output_type": "stream",
     "text": [
      "[Parallel(n_jobs=8)]: Done 549 tasks      | elapsed: 32.9min\n"
     ]
    },
    {
     "name": "stderr",
     "output_type": "stream",
     "text": [
      "/Users/beckermr/mambaforge/envs/rubin-sims/lib/python3.10/site-packages/cartopy/mpl/geoaxes.py:403: UserWarning: The `map_projection` keyword argument is deprecated, use `projection` to instantiate a GeoAxes instead.\n",
      "  warnings.warn(\"The `map_projection` keyword argument is \"\n",
      "/Users/beckermr/mambaforge/envs/rubin-sims/lib/python3.10/site-packages/cartopy/mpl/geoaxes.py:403: UserWarning: The `map_projection` keyword argument is deprecated, use `projection` to instantiate a GeoAxes instead.\n",
      "  warnings.warn(\"The `map_projection` keyword argument is \"\n"
     ]
    },
    {
     "name": "stdout",
     "output_type": "stream",
     "text": [
      "[Parallel(n_jobs=8)]: Done 550 tasks      | elapsed: 32.9min\n",
      "[Parallel(n_jobs=8)]: Done 551 tasks      | elapsed: 32.9min\n"
     ]
    },
    {
     "name": "stderr",
     "output_type": "stream",
     "text": [
      "/Users/beckermr/mambaforge/envs/rubin-sims/lib/python3.10/site-packages/cartopy/mpl/geoaxes.py:403: UserWarning: The `map_projection` keyword argument is deprecated, use `projection` to instantiate a GeoAxes instead.\n",
      "  warnings.warn(\"The `map_projection` keyword argument is \"\n",
      "/Users/beckermr/mambaforge/envs/rubin-sims/lib/python3.10/site-packages/cartopy/mpl/geoaxes.py:403: UserWarning: The `map_projection` keyword argument is deprecated, use `projection` to instantiate a GeoAxes instead.\n",
      "  warnings.warn(\"The `map_projection` keyword argument is \"\n",
      "/Users/beckermr/mambaforge/envs/rubin-sims/lib/python3.10/site-packages/cartopy/mpl/geoaxes.py:403: UserWarning: The `map_projection` keyword argument is deprecated, use `projection` to instantiate a GeoAxes instead.\n",
      "  warnings.warn(\"The `map_projection` keyword argument is \"\n",
      "/Users/beckermr/mambaforge/envs/rubin-sims/lib/python3.10/site-packages/cartopy/mpl/geoaxes.py:403: UserWarning: The `map_projection` keyword argument is deprecated, use `projection` to instantiate a GeoAxes instead.\n",
      "  warnings.warn(\"The `map_projection` keyword argument is \"\n"
     ]
    },
    {
     "name": "stdout",
     "output_type": "stream",
     "text": [
      "[Parallel(n_jobs=8)]: Done 552 tasks      | elapsed: 33.0min\n"
     ]
    },
    {
     "name": "stderr",
     "output_type": "stream",
     "text": [
      "/Users/beckermr/mambaforge/envs/rubin-sims/lib/python3.10/site-packages/cartopy/mpl/geoaxes.py:403: UserWarning: The `map_projection` keyword argument is deprecated, use `projection` to instantiate a GeoAxes instead.\n",
      "  warnings.warn(\"The `map_projection` keyword argument is \"\n",
      "/Users/beckermr/mambaforge/envs/rubin-sims/lib/python3.10/site-packages/cartopy/mpl/geoaxes.py:403: UserWarning: The `map_projection` keyword argument is deprecated, use `projection` to instantiate a GeoAxes instead.\n",
      "  warnings.warn(\"The `map_projection` keyword argument is \"\n"
     ]
    },
    {
     "name": "stdout",
     "output_type": "stream",
     "text": [
      "[Parallel(n_jobs=8)]: Done 553 tasks      | elapsed: 33.2min\n"
     ]
    },
    {
     "name": "stderr",
     "output_type": "stream",
     "text": [
      "/Users/beckermr/mambaforge/envs/rubin-sims/lib/python3.10/site-packages/cartopy/mpl/geoaxes.py:403: UserWarning: The `map_projection` keyword argument is deprecated, use `projection` to instantiate a GeoAxes instead.\n",
      "  warnings.warn(\"The `map_projection` keyword argument is \"\n",
      "/Users/beckermr/mambaforge/envs/rubin-sims/lib/python3.10/site-packages/cartopy/mpl/geoaxes.py:403: UserWarning: The `map_projection` keyword argument is deprecated, use `projection` to instantiate a GeoAxes instead.\n",
      "  warnings.warn(\"The `map_projection` keyword argument is \"\n"
     ]
    },
    {
     "name": "stdout",
     "output_type": "stream",
     "text": [
      "[Parallel(n_jobs=8)]: Done 554 tasks      | elapsed: 33.2min\n"
     ]
    },
    {
     "name": "stderr",
     "output_type": "stream",
     "text": [
      "/Users/beckermr/mambaforge/envs/rubin-sims/lib/python3.10/site-packages/cartopy/mpl/geoaxes.py:403: UserWarning: The `map_projection` keyword argument is deprecated, use `projection` to instantiate a GeoAxes instead.\n",
      "  warnings.warn(\"The `map_projection` keyword argument is \"\n",
      "/Users/beckermr/mambaforge/envs/rubin-sims/lib/python3.10/site-packages/cartopy/mpl/geoaxes.py:403: UserWarning: The `map_projection` keyword argument is deprecated, use `projection` to instantiate a GeoAxes instead.\n",
      "  warnings.warn(\"The `map_projection` keyword argument is \"\n"
     ]
    },
    {
     "name": "stdout",
     "output_type": "stream",
     "text": [
      "[Parallel(n_jobs=8)]: Done 555 tasks      | elapsed: 33.3min\n"
     ]
    },
    {
     "name": "stderr",
     "output_type": "stream",
     "text": [
      "/Users/beckermr/mambaforge/envs/rubin-sims/lib/python3.10/site-packages/cartopy/mpl/geoaxes.py:403: UserWarning: The `map_projection` keyword argument is deprecated, use `projection` to instantiate a GeoAxes instead.\n",
      "  warnings.warn(\"The `map_projection` keyword argument is \"\n",
      "/Users/beckermr/mambaforge/envs/rubin-sims/lib/python3.10/site-packages/cartopy/mpl/geoaxes.py:403: UserWarning: The `map_projection` keyword argument is deprecated, use `projection` to instantiate a GeoAxes instead.\n",
      "  warnings.warn(\"The `map_projection` keyword argument is \"\n"
     ]
    },
    {
     "name": "stdout",
     "output_type": "stream",
     "text": [
      "[Parallel(n_jobs=8)]: Done 556 tasks      | elapsed: 33.3min\n"
     ]
    },
    {
     "name": "stderr",
     "output_type": "stream",
     "text": [
      "/Users/beckermr/mambaforge/envs/rubin-sims/lib/python3.10/site-packages/cartopy/mpl/geoaxes.py:403: UserWarning: The `map_projection` keyword argument is deprecated, use `projection` to instantiate a GeoAxes instead.\n",
      "  warnings.warn(\"The `map_projection` keyword argument is \"\n",
      "/Users/beckermr/mambaforge/envs/rubin-sims/lib/python3.10/site-packages/cartopy/mpl/geoaxes.py:403: UserWarning: The `map_projection` keyword argument is deprecated, use `projection` to instantiate a GeoAxes instead.\n",
      "  warnings.warn(\"The `map_projection` keyword argument is \"\n"
     ]
    },
    {
     "name": "stdout",
     "output_type": "stream",
     "text": [
      "[Parallel(n_jobs=8)]: Done 557 tasks      | elapsed: 33.3min\n"
     ]
    },
    {
     "name": "stderr",
     "output_type": "stream",
     "text": [
      "/Users/beckermr/mambaforge/envs/rubin-sims/lib/python3.10/site-packages/cartopy/mpl/geoaxes.py:403: UserWarning: The `map_projection` keyword argument is deprecated, use `projection` to instantiate a GeoAxes instead.\n",
      "  warnings.warn(\"The `map_projection` keyword argument is \"\n",
      "/Users/beckermr/mambaforge/envs/rubin-sims/lib/python3.10/site-packages/cartopy/mpl/geoaxes.py:403: UserWarning: The `map_projection` keyword argument is deprecated, use `projection` to instantiate a GeoAxes instead.\n",
      "  warnings.warn(\"The `map_projection` keyword argument is \"\n"
     ]
    },
    {
     "name": "stdout",
     "output_type": "stream",
     "text": [
      "[Parallel(n_jobs=8)]: Done 558 tasks      | elapsed: 33.3min\n"
     ]
    },
    {
     "name": "stderr",
     "output_type": "stream",
     "text": [
      "/Users/beckermr/mambaforge/envs/rubin-sims/lib/python3.10/site-packages/cartopy/mpl/geoaxes.py:403: UserWarning: The `map_projection` keyword argument is deprecated, use `projection` to instantiate a GeoAxes instead.\n",
      "  warnings.warn(\"The `map_projection` keyword argument is \"\n",
      "/Users/beckermr/mambaforge/envs/rubin-sims/lib/python3.10/site-packages/cartopy/mpl/geoaxes.py:403: UserWarning: The `map_projection` keyword argument is deprecated, use `projection` to instantiate a GeoAxes instead.\n",
      "  warnings.warn(\"The `map_projection` keyword argument is \"\n"
     ]
    },
    {
     "name": "stdout",
     "output_type": "stream",
     "text": [
      "[Parallel(n_jobs=8)]: Done 559 tasks      | elapsed: 33.4min\n"
     ]
    },
    {
     "name": "stderr",
     "output_type": "stream",
     "text": [
      "/Users/beckermr/mambaforge/envs/rubin-sims/lib/python3.10/site-packages/cartopy/mpl/geoaxes.py:403: UserWarning: The `map_projection` keyword argument is deprecated, use `projection` to instantiate a GeoAxes instead.\n",
      "  warnings.warn(\"The `map_projection` keyword argument is \"\n",
      "/Users/beckermr/mambaforge/envs/rubin-sims/lib/python3.10/site-packages/cartopy/mpl/geoaxes.py:403: UserWarning: The `map_projection` keyword argument is deprecated, use `projection` to instantiate a GeoAxes instead.\n",
      "  warnings.warn(\"The `map_projection` keyword argument is \"\n"
     ]
    },
    {
     "name": "stdout",
     "output_type": "stream",
     "text": [
      "[Parallel(n_jobs=8)]: Done 560 tasks      | elapsed: 33.4min\n"
     ]
    },
    {
     "name": "stderr",
     "output_type": "stream",
     "text": [
      "/Users/beckermr/mambaforge/envs/rubin-sims/lib/python3.10/site-packages/cartopy/mpl/geoaxes.py:403: UserWarning: The `map_projection` keyword argument is deprecated, use `projection` to instantiate a GeoAxes instead.\n",
      "  warnings.warn(\"The `map_projection` keyword argument is \"\n",
      "/Users/beckermr/mambaforge/envs/rubin-sims/lib/python3.10/site-packages/cartopy/mpl/geoaxes.py:403: UserWarning: The `map_projection` keyword argument is deprecated, use `projection` to instantiate a GeoAxes instead.\n",
      "  warnings.warn(\"The `map_projection` keyword argument is \"\n"
     ]
    },
    {
     "name": "stdout",
     "output_type": "stream",
     "text": [
      "[Parallel(n_jobs=8)]: Done 561 tasks      | elapsed: 33.6min\n"
     ]
    },
    {
     "name": "stderr",
     "output_type": "stream",
     "text": [
      "/Users/beckermr/mambaforge/envs/rubin-sims/lib/python3.10/site-packages/cartopy/mpl/geoaxes.py:403: UserWarning: The `map_projection` keyword argument is deprecated, use `projection` to instantiate a GeoAxes instead.\n",
      "  warnings.warn(\"The `map_projection` keyword argument is \"\n",
      "/Users/beckermr/mambaforge/envs/rubin-sims/lib/python3.10/site-packages/cartopy/mpl/geoaxes.py:403: UserWarning: The `map_projection` keyword argument is deprecated, use `projection` to instantiate a GeoAxes instead.\n",
      "  warnings.warn(\"The `map_projection` keyword argument is \"\n"
     ]
    },
    {
     "name": "stdout",
     "output_type": "stream",
     "text": [
      "[Parallel(n_jobs=8)]: Done 562 tasks      | elapsed: 33.6min\n"
     ]
    },
    {
     "name": "stderr",
     "output_type": "stream",
     "text": [
      "/Users/beckermr/mambaforge/envs/rubin-sims/lib/python3.10/site-packages/cartopy/mpl/geoaxes.py:403: UserWarning: The `map_projection` keyword argument is deprecated, use `projection` to instantiate a GeoAxes instead.\n",
      "  warnings.warn(\"The `map_projection` keyword argument is \"\n",
      "/Users/beckermr/mambaforge/envs/rubin-sims/lib/python3.10/site-packages/cartopy/mpl/geoaxes.py:403: UserWarning: The `map_projection` keyword argument is deprecated, use `projection` to instantiate a GeoAxes instead.\n",
      "  warnings.warn(\"The `map_projection` keyword argument is \"\n"
     ]
    },
    {
     "name": "stdout",
     "output_type": "stream",
     "text": [
      "[Parallel(n_jobs=8)]: Done 563 tasks      | elapsed: 33.7min\n"
     ]
    },
    {
     "name": "stderr",
     "output_type": "stream",
     "text": [
      "/Users/beckermr/mambaforge/envs/rubin-sims/lib/python3.10/site-packages/cartopy/mpl/geoaxes.py:403: UserWarning: The `map_projection` keyword argument is deprecated, use `projection` to instantiate a GeoAxes instead.\n",
      "  warnings.warn(\"The `map_projection` keyword argument is \"\n",
      "/Users/beckermr/mambaforge/envs/rubin-sims/lib/python3.10/site-packages/cartopy/mpl/geoaxes.py:403: UserWarning: The `map_projection` keyword argument is deprecated, use `projection` to instantiate a GeoAxes instead.\n",
      "  warnings.warn(\"The `map_projection` keyword argument is \"\n"
     ]
    },
    {
     "name": "stdout",
     "output_type": "stream",
     "text": [
      "[Parallel(n_jobs=8)]: Done 564 tasks      | elapsed: 33.8min\n"
     ]
    },
    {
     "name": "stderr",
     "output_type": "stream",
     "text": [
      "/Users/beckermr/mambaforge/envs/rubin-sims/lib/python3.10/site-packages/cartopy/mpl/geoaxes.py:403: UserWarning: The `map_projection` keyword argument is deprecated, use `projection` to instantiate a GeoAxes instead.\n",
      "  warnings.warn(\"The `map_projection` keyword argument is \"\n",
      "/Users/beckermr/mambaforge/envs/rubin-sims/lib/python3.10/site-packages/cartopy/mpl/geoaxes.py:403: UserWarning: The `map_projection` keyword argument is deprecated, use `projection` to instantiate a GeoAxes instead.\n",
      "  warnings.warn(\"The `map_projection` keyword argument is \"\n"
     ]
    },
    {
     "name": "stdout",
     "output_type": "stream",
     "text": [
      "[Parallel(n_jobs=8)]: Done 565 tasks      | elapsed: 33.8min\n",
      "[Parallel(n_jobs=8)]: Done 566 tasks      | elapsed: 33.8min\n"
     ]
    },
    {
     "name": "stderr",
     "output_type": "stream",
     "text": [
      "/Users/beckermr/mambaforge/envs/rubin-sims/lib/python3.10/site-packages/cartopy/mpl/geoaxes.py:403: UserWarning: The `map_projection` keyword argument is deprecated, use `projection` to instantiate a GeoAxes instead.\n",
      "  warnings.warn(\"The `map_projection` keyword argument is \"\n",
      "/Users/beckermr/mambaforge/envs/rubin-sims/lib/python3.10/site-packages/cartopy/mpl/geoaxes.py:403: UserWarning: The `map_projection` keyword argument is deprecated, use `projection` to instantiate a GeoAxes instead.\n",
      "  warnings.warn(\"The `map_projection` keyword argument is \"\n",
      "/Users/beckermr/mambaforge/envs/rubin-sims/lib/python3.10/site-packages/cartopy/mpl/geoaxes.py:403: UserWarning: The `map_projection` keyword argument is deprecated, use `projection` to instantiate a GeoAxes instead.\n",
      "  warnings.warn(\"The `map_projection` keyword argument is \"\n",
      "/Users/beckermr/mambaforge/envs/rubin-sims/lib/python3.10/site-packages/cartopy/mpl/geoaxes.py:403: UserWarning: The `map_projection` keyword argument is deprecated, use `projection` to instantiate a GeoAxes instead.\n",
      "  warnings.warn(\"The `map_projection` keyword argument is \"\n"
     ]
    },
    {
     "name": "stdout",
     "output_type": "stream",
     "text": [
      "[Parallel(n_jobs=8)]: Done 567 tasks      | elapsed: 33.8min\n"
     ]
    },
    {
     "name": "stderr",
     "output_type": "stream",
     "text": [
      "/Users/beckermr/mambaforge/envs/rubin-sims/lib/python3.10/site-packages/cartopy/mpl/geoaxes.py:403: UserWarning: The `map_projection` keyword argument is deprecated, use `projection` to instantiate a GeoAxes instead.\n",
      "  warnings.warn(\"The `map_projection` keyword argument is \"\n",
      "/Users/beckermr/mambaforge/envs/rubin-sims/lib/python3.10/site-packages/cartopy/mpl/geoaxes.py:403: UserWarning: The `map_projection` keyword argument is deprecated, use `projection` to instantiate a GeoAxes instead.\n",
      "  warnings.warn(\"The `map_projection` keyword argument is \"\n"
     ]
    },
    {
     "name": "stdout",
     "output_type": "stream",
     "text": [
      "[Parallel(n_jobs=8)]: Done 568 tasks      | elapsed: 33.9min\n"
     ]
    },
    {
     "name": "stderr",
     "output_type": "stream",
     "text": [
      "/Users/beckermr/mambaforge/envs/rubin-sims/lib/python3.10/site-packages/cartopy/mpl/geoaxes.py:403: UserWarning: The `map_projection` keyword argument is deprecated, use `projection` to instantiate a GeoAxes instead.\n",
      "  warnings.warn(\"The `map_projection` keyword argument is \"\n",
      "/Users/beckermr/mambaforge/envs/rubin-sims/lib/python3.10/site-packages/cartopy/mpl/geoaxes.py:403: UserWarning: The `map_projection` keyword argument is deprecated, use `projection` to instantiate a GeoAxes instead.\n",
      "  warnings.warn(\"The `map_projection` keyword argument is \"\n"
     ]
    },
    {
     "name": "stdout",
     "output_type": "stream",
     "text": [
      "[Parallel(n_jobs=8)]: Done 569 tasks      | elapsed: 34.1min\n"
     ]
    },
    {
     "name": "stderr",
     "output_type": "stream",
     "text": [
      "/Users/beckermr/mambaforge/envs/rubin-sims/lib/python3.10/site-packages/cartopy/mpl/geoaxes.py:403: UserWarning: The `map_projection` keyword argument is deprecated, use `projection` to instantiate a GeoAxes instead.\n",
      "  warnings.warn(\"The `map_projection` keyword argument is \"\n",
      "/Users/beckermr/mambaforge/envs/rubin-sims/lib/python3.10/site-packages/cartopy/mpl/geoaxes.py:403: UserWarning: The `map_projection` keyword argument is deprecated, use `projection` to instantiate a GeoAxes instead.\n",
      "  warnings.warn(\"The `map_projection` keyword argument is \"\n"
     ]
    },
    {
     "name": "stdout",
     "output_type": "stream",
     "text": [
      "[Parallel(n_jobs=8)]: Done 570 tasks      | elapsed: 34.1min\n"
     ]
    },
    {
     "name": "stderr",
     "output_type": "stream",
     "text": [
      "/Users/beckermr/mambaforge/envs/rubin-sims/lib/python3.10/site-packages/cartopy/mpl/geoaxes.py:403: UserWarning: The `map_projection` keyword argument is deprecated, use `projection` to instantiate a GeoAxes instead.\n",
      "  warnings.warn(\"The `map_projection` keyword argument is \"\n",
      "/Users/beckermr/mambaforge/envs/rubin-sims/lib/python3.10/site-packages/cartopy/mpl/geoaxes.py:403: UserWarning: The `map_projection` keyword argument is deprecated, use `projection` to instantiate a GeoAxes instead.\n",
      "  warnings.warn(\"The `map_projection` keyword argument is \"\n"
     ]
    },
    {
     "name": "stdout",
     "output_type": "stream",
     "text": [
      "[Parallel(n_jobs=8)]: Done 571 tasks      | elapsed: 34.2min\n"
     ]
    },
    {
     "name": "stderr",
     "output_type": "stream",
     "text": [
      "/Users/beckermr/mambaforge/envs/rubin-sims/lib/python3.10/site-packages/cartopy/mpl/geoaxes.py:403: UserWarning: The `map_projection` keyword argument is deprecated, use `projection` to instantiate a GeoAxes instead.\n",
      "  warnings.warn(\"The `map_projection` keyword argument is \"\n",
      "/Users/beckermr/mambaforge/envs/rubin-sims/lib/python3.10/site-packages/cartopy/mpl/geoaxes.py:403: UserWarning: The `map_projection` keyword argument is deprecated, use `projection` to instantiate a GeoAxes instead.\n",
      "  warnings.warn(\"The `map_projection` keyword argument is \"\n"
     ]
    },
    {
     "name": "stdout",
     "output_type": "stream",
     "text": [
      "[Parallel(n_jobs=8)]: Done 572 tasks      | elapsed: 34.2min\n"
     ]
    },
    {
     "name": "stderr",
     "output_type": "stream",
     "text": [
      "/Users/beckermr/mambaforge/envs/rubin-sims/lib/python3.10/site-packages/cartopy/mpl/geoaxes.py:403: UserWarning: The `map_projection` keyword argument is deprecated, use `projection` to instantiate a GeoAxes instead.\n",
      "  warnings.warn(\"The `map_projection` keyword argument is \"\n",
      "/Users/beckermr/mambaforge/envs/rubin-sims/lib/python3.10/site-packages/cartopy/mpl/geoaxes.py:403: UserWarning: The `map_projection` keyword argument is deprecated, use `projection` to instantiate a GeoAxes instead.\n",
      "  warnings.warn(\"The `map_projection` keyword argument is \"\n"
     ]
    },
    {
     "name": "stdout",
     "output_type": "stream",
     "text": [
      "[Parallel(n_jobs=8)]: Done 573 tasks      | elapsed: 34.2min\n",
      "[Parallel(n_jobs=8)]: Done 574 tasks      | elapsed: 34.2min\n"
     ]
    },
    {
     "name": "stderr",
     "output_type": "stream",
     "text": [
      "/Users/beckermr/mambaforge/envs/rubin-sims/lib/python3.10/site-packages/cartopy/mpl/geoaxes.py:403: UserWarning: The `map_projection` keyword argument is deprecated, use `projection` to instantiate a GeoAxes instead.\n",
      "  warnings.warn(\"The `map_projection` keyword argument is \"\n",
      "/Users/beckermr/mambaforge/envs/rubin-sims/lib/python3.10/site-packages/cartopy/mpl/geoaxes.py:403: UserWarning: The `map_projection` keyword argument is deprecated, use `projection` to instantiate a GeoAxes instead.\n",
      "  warnings.warn(\"The `map_projection` keyword argument is \"\n"
     ]
    },
    {
     "name": "stdout",
     "output_type": "stream",
     "text": [
      "[Parallel(n_jobs=8)]: Done 575 tasks      | elapsed: 34.2min\n"
     ]
    },
    {
     "name": "stderr",
     "output_type": "stream",
     "text": [
      "/Users/beckermr/mambaforge/envs/rubin-sims/lib/python3.10/site-packages/cartopy/mpl/geoaxes.py:403: UserWarning: The `map_projection` keyword argument is deprecated, use `projection` to instantiate a GeoAxes instead.\n",
      "  warnings.warn(\"The `map_projection` keyword argument is \"\n",
      "/Users/beckermr/mambaforge/envs/rubin-sims/lib/python3.10/site-packages/cartopy/mpl/geoaxes.py:403: UserWarning: The `map_projection` keyword argument is deprecated, use `projection` to instantiate a GeoAxes instead.\n",
      "  warnings.warn(\"The `map_projection` keyword argument is \"\n",
      "/Users/beckermr/mambaforge/envs/rubin-sims/lib/python3.10/site-packages/cartopy/mpl/geoaxes.py:403: UserWarning: The `map_projection` keyword argument is deprecated, use `projection` to instantiate a GeoAxes instead.\n",
      "  warnings.warn(\"The `map_projection` keyword argument is \"\n",
      "/Users/beckermr/mambaforge/envs/rubin-sims/lib/python3.10/site-packages/cartopy/mpl/geoaxes.py:403: UserWarning: The `map_projection` keyword argument is deprecated, use `projection` to instantiate a GeoAxes instead.\n",
      "  warnings.warn(\"The `map_projection` keyword argument is \"\n"
     ]
    },
    {
     "name": "stdout",
     "output_type": "stream",
     "text": [
      "[Parallel(n_jobs=8)]: Done 576 tasks      | elapsed: 34.3min\n"
     ]
    },
    {
     "name": "stderr",
     "output_type": "stream",
     "text": [
      "/Users/beckermr/mambaforge/envs/rubin-sims/lib/python3.10/site-packages/cartopy/mpl/geoaxes.py:403: UserWarning: The `map_projection` keyword argument is deprecated, use `projection` to instantiate a GeoAxes instead.\n",
      "  warnings.warn(\"The `map_projection` keyword argument is \"\n",
      "/Users/beckermr/mambaforge/envs/rubin-sims/lib/python3.10/site-packages/cartopy/mpl/geoaxes.py:403: UserWarning: The `map_projection` keyword argument is deprecated, use `projection` to instantiate a GeoAxes instead.\n",
      "  warnings.warn(\"The `map_projection` keyword argument is \"\n"
     ]
    },
    {
     "name": "stdout",
     "output_type": "stream",
     "text": [
      "[Parallel(n_jobs=8)]: Done 577 tasks      | elapsed: 34.5min\n"
     ]
    },
    {
     "name": "stderr",
     "output_type": "stream",
     "text": [
      "/Users/beckermr/mambaforge/envs/rubin-sims/lib/python3.10/site-packages/cartopy/mpl/geoaxes.py:403: UserWarning: The `map_projection` keyword argument is deprecated, use `projection` to instantiate a GeoAxes instead.\n",
      "  warnings.warn(\"The `map_projection` keyword argument is \"\n",
      "/Users/beckermr/mambaforge/envs/rubin-sims/lib/python3.10/site-packages/cartopy/mpl/geoaxes.py:403: UserWarning: The `map_projection` keyword argument is deprecated, use `projection` to instantiate a GeoAxes instead.\n",
      "  warnings.warn(\"The `map_projection` keyword argument is \"\n"
     ]
    },
    {
     "name": "stdout",
     "output_type": "stream",
     "text": [
      "[Parallel(n_jobs=8)]: Done 578 tasks      | elapsed: 34.5min\n"
     ]
    },
    {
     "name": "stderr",
     "output_type": "stream",
     "text": [
      "/Users/beckermr/mambaforge/envs/rubin-sims/lib/python3.10/site-packages/cartopy/mpl/geoaxes.py:403: UserWarning: The `map_projection` keyword argument is deprecated, use `projection` to instantiate a GeoAxes instead.\n",
      "  warnings.warn(\"The `map_projection` keyword argument is \"\n",
      "/Users/beckermr/mambaforge/envs/rubin-sims/lib/python3.10/site-packages/cartopy/mpl/geoaxes.py:403: UserWarning: The `map_projection` keyword argument is deprecated, use `projection` to instantiate a GeoAxes instead.\n",
      "  warnings.warn(\"The `map_projection` keyword argument is \"\n"
     ]
    },
    {
     "name": "stdout",
     "output_type": "stream",
     "text": [
      "[Parallel(n_jobs=8)]: Done 579 tasks      | elapsed: 34.6min\n",
      "[Parallel(n_jobs=8)]: Done 580 tasks      | elapsed: 34.7min\n"
     ]
    },
    {
     "name": "stderr",
     "output_type": "stream",
     "text": [
      "/Users/beckermr/mambaforge/envs/rubin-sims/lib/python3.10/site-packages/cartopy/mpl/geoaxes.py:403: UserWarning: The `map_projection` keyword argument is deprecated, use `projection` to instantiate a GeoAxes instead.\n",
      "  warnings.warn(\"The `map_projection` keyword argument is \"\n",
      "/Users/beckermr/mambaforge/envs/rubin-sims/lib/python3.10/site-packages/cartopy/mpl/geoaxes.py:403: UserWarning: The `map_projection` keyword argument is deprecated, use `projection` to instantiate a GeoAxes instead.\n",
      "  warnings.warn(\"The `map_projection` keyword argument is \"\n"
     ]
    },
    {
     "name": "stdout",
     "output_type": "stream",
     "text": [
      "[Parallel(n_jobs=8)]: Done 581 tasks      | elapsed: 34.7min\n",
      "[Parallel(n_jobs=8)]: Done 582 tasks      | elapsed: 34.7min\n",
      "[Parallel(n_jobs=8)]: Done 583 tasks      | elapsed: 34.7min\n"
     ]
    },
    {
     "name": "stderr",
     "output_type": "stream",
     "text": [
      "/Users/beckermr/mambaforge/envs/rubin-sims/lib/python3.10/site-packages/cartopy/mpl/geoaxes.py:403: UserWarning: The `map_projection` keyword argument is deprecated, use `projection` to instantiate a GeoAxes instead.\n",
      "  warnings.warn(\"The `map_projection` keyword argument is \"\n",
      "/Users/beckermr/mambaforge/envs/rubin-sims/lib/python3.10/site-packages/cartopy/mpl/geoaxes.py:403: UserWarning: The `map_projection` keyword argument is deprecated, use `projection` to instantiate a GeoAxes instead.\n",
      "  warnings.warn(\"The `map_projection` keyword argument is \"\n",
      "/Users/beckermr/mambaforge/envs/rubin-sims/lib/python3.10/site-packages/cartopy/mpl/geoaxes.py:403: UserWarning: The `map_projection` keyword argument is deprecated, use `projection` to instantiate a GeoAxes instead.\n",
      "  warnings.warn(\"The `map_projection` keyword argument is \"\n",
      "/Users/beckermr/mambaforge/envs/rubin-sims/lib/python3.10/site-packages/cartopy/mpl/geoaxes.py:403: UserWarning: The `map_projection` keyword argument is deprecated, use `projection` to instantiate a GeoAxes instead.\n",
      "  warnings.warn(\"The `map_projection` keyword argument is \"\n",
      "/Users/beckermr/mambaforge/envs/rubin-sims/lib/python3.10/site-packages/cartopy/mpl/geoaxes.py:403: UserWarning: The `map_projection` keyword argument is deprecated, use `projection` to instantiate a GeoAxes instead.\n",
      "  warnings.warn(\"The `map_projection` keyword argument is \"\n",
      "/Users/beckermr/mambaforge/envs/rubin-sims/lib/python3.10/site-packages/cartopy/mpl/geoaxes.py:403: UserWarning: The `map_projection` keyword argument is deprecated, use `projection` to instantiate a GeoAxes instead.\n",
      "  warnings.warn(\"The `map_projection` keyword argument is \"\n",
      "/Users/beckermr/mambaforge/envs/rubin-sims/lib/python3.10/site-packages/cartopy/mpl/geoaxes.py:403: UserWarning: The `map_projection` keyword argument is deprecated, use `projection` to instantiate a GeoAxes instead.\n",
      "  warnings.warn(\"The `map_projection` keyword argument is \"\n",
      "/Users/beckermr/mambaforge/envs/rubin-sims/lib/python3.10/site-packages/cartopy/mpl/geoaxes.py:403: UserWarning: The `map_projection` keyword argument is deprecated, use `projection` to instantiate a GeoAxes instead.\n",
      "  warnings.warn(\"The `map_projection` keyword argument is \"\n"
     ]
    },
    {
     "name": "stdout",
     "output_type": "stream",
     "text": [
      "[Parallel(n_jobs=8)]: Done 584 tasks      | elapsed: 34.8min\n"
     ]
    },
    {
     "name": "stderr",
     "output_type": "stream",
     "text": [
      "/Users/beckermr/mambaforge/envs/rubin-sims/lib/python3.10/site-packages/cartopy/mpl/geoaxes.py:403: UserWarning: The `map_projection` keyword argument is deprecated, use `projection` to instantiate a GeoAxes instead.\n",
      "  warnings.warn(\"The `map_projection` keyword argument is \"\n",
      "/Users/beckermr/mambaforge/envs/rubin-sims/lib/python3.10/site-packages/cartopy/mpl/geoaxes.py:403: UserWarning: The `map_projection` keyword argument is deprecated, use `projection` to instantiate a GeoAxes instead.\n",
      "  warnings.warn(\"The `map_projection` keyword argument is \"\n"
     ]
    },
    {
     "name": "stdout",
     "output_type": "stream",
     "text": [
      "[Parallel(n_jobs=8)]: Done 585 tasks      | elapsed: 35.0min\n",
      "[Parallel(n_jobs=8)]: Done 586 tasks      | elapsed: 35.0min\n"
     ]
    },
    {
     "name": "stderr",
     "output_type": "stream",
     "text": [
      "/Users/beckermr/mambaforge/envs/rubin-sims/lib/python3.10/site-packages/cartopy/mpl/geoaxes.py:403: UserWarning: The `map_projection` keyword argument is deprecated, use `projection` to instantiate a GeoAxes instead.\n",
      "  warnings.warn(\"The `map_projection` keyword argument is \"\n",
      "/Users/beckermr/mambaforge/envs/rubin-sims/lib/python3.10/site-packages/cartopy/mpl/geoaxes.py:403: UserWarning: The `map_projection` keyword argument is deprecated, use `projection` to instantiate a GeoAxes instead.\n",
      "  warnings.warn(\"The `map_projection` keyword argument is \"\n",
      "/Users/beckermr/mambaforge/envs/rubin-sims/lib/python3.10/site-packages/cartopy/mpl/geoaxes.py:403: UserWarning: The `map_projection` keyword argument is deprecated, use `projection` to instantiate a GeoAxes instead.\n",
      "  warnings.warn(\"The `map_projection` keyword argument is \"\n",
      "/Users/beckermr/mambaforge/envs/rubin-sims/lib/python3.10/site-packages/cartopy/mpl/geoaxes.py:403: UserWarning: The `map_projection` keyword argument is deprecated, use `projection` to instantiate a GeoAxes instead.\n",
      "  warnings.warn(\"The `map_projection` keyword argument is \"\n"
     ]
    },
    {
     "name": "stdout",
     "output_type": "stream",
     "text": [
      "[Parallel(n_jobs=8)]: Done 587 tasks      | elapsed: 35.2min\n"
     ]
    },
    {
     "name": "stderr",
     "output_type": "stream",
     "text": [
      "/Users/beckermr/mambaforge/envs/rubin-sims/lib/python3.10/site-packages/cartopy/mpl/geoaxes.py:403: UserWarning: The `map_projection` keyword argument is deprecated, use `projection` to instantiate a GeoAxes instead.\n",
      "  warnings.warn(\"The `map_projection` keyword argument is \"\n",
      "/Users/beckermr/mambaforge/envs/rubin-sims/lib/python3.10/site-packages/cartopy/mpl/geoaxes.py:403: UserWarning: The `map_projection` keyword argument is deprecated, use `projection` to instantiate a GeoAxes instead.\n",
      "  warnings.warn(\"The `map_projection` keyword argument is \"\n"
     ]
    },
    {
     "name": "stdout",
     "output_type": "stream",
     "text": [
      "[Parallel(n_jobs=8)]: Done 588 tasks      | elapsed: 35.2min\n",
      "[Parallel(n_jobs=8)]: Done 589 tasks      | elapsed: 35.2min\n"
     ]
    },
    {
     "name": "stderr",
     "output_type": "stream",
     "text": [
      "/Users/beckermr/mambaforge/envs/rubin-sims/lib/python3.10/site-packages/cartopy/mpl/geoaxes.py:403: UserWarning: The `map_projection` keyword argument is deprecated, use `projection` to instantiate a GeoAxes instead.\n",
      "  warnings.warn(\"The `map_projection` keyword argument is \"\n",
      "/Users/beckermr/mambaforge/envs/rubin-sims/lib/python3.10/site-packages/cartopy/mpl/geoaxes.py:403: UserWarning: The `map_projection` keyword argument is deprecated, use `projection` to instantiate a GeoAxes instead.\n",
      "  warnings.warn(\"The `map_projection` keyword argument is \"\n",
      "/Users/beckermr/mambaforge/envs/rubin-sims/lib/python3.10/site-packages/cartopy/mpl/geoaxes.py:403: UserWarning: The `map_projection` keyword argument is deprecated, use `projection` to instantiate a GeoAxes instead.\n",
      "  warnings.warn(\"The `map_projection` keyword argument is \"\n",
      "/Users/beckermr/mambaforge/envs/rubin-sims/lib/python3.10/site-packages/cartopy/mpl/geoaxes.py:403: UserWarning: The `map_projection` keyword argument is deprecated, use `projection` to instantiate a GeoAxes instead.\n",
      "  warnings.warn(\"The `map_projection` keyword argument is \"\n"
     ]
    },
    {
     "name": "stdout",
     "output_type": "stream",
     "text": [
      "[Parallel(n_jobs=8)]: Done 590 tasks      | elapsed: 35.2min\n"
     ]
    },
    {
     "name": "stderr",
     "output_type": "stream",
     "text": [
      "/Users/beckermr/mambaforge/envs/rubin-sims/lib/python3.10/site-packages/cartopy/mpl/geoaxes.py:403: UserWarning: The `map_projection` keyword argument is deprecated, use `projection` to instantiate a GeoAxes instead.\n",
      "  warnings.warn(\"The `map_projection` keyword argument is \"\n",
      "/Users/beckermr/mambaforge/envs/rubin-sims/lib/python3.10/site-packages/cartopy/mpl/geoaxes.py:403: UserWarning: The `map_projection` keyword argument is deprecated, use `projection` to instantiate a GeoAxes instead.\n",
      "  warnings.warn(\"The `map_projection` keyword argument is \"\n"
     ]
    },
    {
     "name": "stdout",
     "output_type": "stream",
     "text": [
      "[Parallel(n_jobs=8)]: Done 591 tasks      | elapsed: 35.2min\n"
     ]
    },
    {
     "name": "stderr",
     "output_type": "stream",
     "text": [
      "/Users/beckermr/mambaforge/envs/rubin-sims/lib/python3.10/site-packages/cartopy/mpl/geoaxes.py:403: UserWarning: The `map_projection` keyword argument is deprecated, use `projection` to instantiate a GeoAxes instead.\n",
      "  warnings.warn(\"The `map_projection` keyword argument is \"\n",
      "/Users/beckermr/mambaforge/envs/rubin-sims/lib/python3.10/site-packages/cartopy/mpl/geoaxes.py:403: UserWarning: The `map_projection` keyword argument is deprecated, use `projection` to instantiate a GeoAxes instead.\n",
      "  warnings.warn(\"The `map_projection` keyword argument is \"\n"
     ]
    },
    {
     "name": "stdout",
     "output_type": "stream",
     "text": [
      "[Parallel(n_jobs=8)]: Done 592 tasks      | elapsed: 35.3min\n"
     ]
    },
    {
     "name": "stderr",
     "output_type": "stream",
     "text": [
      "/Users/beckermr/mambaforge/envs/rubin-sims/lib/python3.10/site-packages/cartopy/mpl/geoaxes.py:403: UserWarning: The `map_projection` keyword argument is deprecated, use `projection` to instantiate a GeoAxes instead.\n",
      "  warnings.warn(\"The `map_projection` keyword argument is \"\n",
      "/Users/beckermr/mambaforge/envs/rubin-sims/lib/python3.10/site-packages/cartopy/mpl/geoaxes.py:403: UserWarning: The `map_projection` keyword argument is deprecated, use `projection` to instantiate a GeoAxes instead.\n",
      "  warnings.warn(\"The `map_projection` keyword argument is \"\n"
     ]
    },
    {
     "name": "stdout",
     "output_type": "stream",
     "text": [
      "[Parallel(n_jobs=8)]: Done 593 tasks      | elapsed: 35.5min\n",
      "[Parallel(n_jobs=8)]: Done 594 tasks      | elapsed: 35.5min\n"
     ]
    },
    {
     "name": "stderr",
     "output_type": "stream",
     "text": [
      "/Users/beckermr/mambaforge/envs/rubin-sims/lib/python3.10/site-packages/cartopy/mpl/geoaxes.py:403: UserWarning: The `map_projection` keyword argument is deprecated, use `projection` to instantiate a GeoAxes instead.\n",
      "  warnings.warn(\"The `map_projection` keyword argument is \"\n",
      "/Users/beckermr/mambaforge/envs/rubin-sims/lib/python3.10/site-packages/cartopy/mpl/geoaxes.py:403: UserWarning: The `map_projection` keyword argument is deprecated, use `projection` to instantiate a GeoAxes instead.\n",
      "  warnings.warn(\"The `map_projection` keyword argument is \"\n",
      "/Users/beckermr/mambaforge/envs/rubin-sims/lib/python3.10/site-packages/cartopy/mpl/geoaxes.py:403: UserWarning: The `map_projection` keyword argument is deprecated, use `projection` to instantiate a GeoAxes instead.\n",
      "  warnings.warn(\"The `map_projection` keyword argument is \"\n",
      "/Users/beckermr/mambaforge/envs/rubin-sims/lib/python3.10/site-packages/cartopy/mpl/geoaxes.py:403: UserWarning: The `map_projection` keyword argument is deprecated, use `projection` to instantiate a GeoAxes instead.\n",
      "  warnings.warn(\"The `map_projection` keyword argument is \"\n"
     ]
    },
    {
     "name": "stdout",
     "output_type": "stream",
     "text": [
      "[Parallel(n_jobs=8)]: Done 595 tasks      | elapsed: 35.6min\n"
     ]
    },
    {
     "name": "stderr",
     "output_type": "stream",
     "text": [
      "/Users/beckermr/mambaforge/envs/rubin-sims/lib/python3.10/site-packages/cartopy/mpl/geoaxes.py:403: UserWarning: The `map_projection` keyword argument is deprecated, use `projection` to instantiate a GeoAxes instead.\n",
      "  warnings.warn(\"The `map_projection` keyword argument is \"\n",
      "/Users/beckermr/mambaforge/envs/rubin-sims/lib/python3.10/site-packages/cartopy/mpl/geoaxes.py:403: UserWarning: The `map_projection` keyword argument is deprecated, use `projection` to instantiate a GeoAxes instead.\n",
      "  warnings.warn(\"The `map_projection` keyword argument is \"\n"
     ]
    },
    {
     "name": "stdout",
     "output_type": "stream",
     "text": [
      "[Parallel(n_jobs=8)]: Done 596 tasks      | elapsed: 35.7min\n"
     ]
    },
    {
     "name": "stderr",
     "output_type": "stream",
     "text": [
      "/Users/beckermr/mambaforge/envs/rubin-sims/lib/python3.10/site-packages/cartopy/mpl/geoaxes.py:403: UserWarning: The `map_projection` keyword argument is deprecated, use `projection` to instantiate a GeoAxes instead.\n",
      "  warnings.warn(\"The `map_projection` keyword argument is \"\n",
      "/Users/beckermr/mambaforge/envs/rubin-sims/lib/python3.10/site-packages/cartopy/mpl/geoaxes.py:403: UserWarning: The `map_projection` keyword argument is deprecated, use `projection` to instantiate a GeoAxes instead.\n",
      "  warnings.warn(\"The `map_projection` keyword argument is \"\n"
     ]
    },
    {
     "name": "stdout",
     "output_type": "stream",
     "text": [
      "[Parallel(n_jobs=8)]: Done 597 tasks      | elapsed: 35.7min\n"
     ]
    },
    {
     "name": "stderr",
     "output_type": "stream",
     "text": [
      "/Users/beckermr/mambaforge/envs/rubin-sims/lib/python3.10/site-packages/cartopy/mpl/geoaxes.py:403: UserWarning: The `map_projection` keyword argument is deprecated, use `projection` to instantiate a GeoAxes instead.\n",
      "  warnings.warn(\"The `map_projection` keyword argument is \"\n",
      "/Users/beckermr/mambaforge/envs/rubin-sims/lib/python3.10/site-packages/cartopy/mpl/geoaxes.py:403: UserWarning: The `map_projection` keyword argument is deprecated, use `projection` to instantiate a GeoAxes instead.\n",
      "  warnings.warn(\"The `map_projection` keyword argument is \"\n"
     ]
    },
    {
     "name": "stdout",
     "output_type": "stream",
     "text": [
      "[Parallel(n_jobs=8)]: Done 598 tasks      | elapsed: 35.7min\n"
     ]
    },
    {
     "name": "stderr",
     "output_type": "stream",
     "text": [
      "/Users/beckermr/mambaforge/envs/rubin-sims/lib/python3.10/site-packages/cartopy/mpl/geoaxes.py:403: UserWarning: The `map_projection` keyword argument is deprecated, use `projection` to instantiate a GeoAxes instead.\n",
      "  warnings.warn(\"The `map_projection` keyword argument is \"\n",
      "/Users/beckermr/mambaforge/envs/rubin-sims/lib/python3.10/site-packages/cartopy/mpl/geoaxes.py:403: UserWarning: The `map_projection` keyword argument is deprecated, use `projection` to instantiate a GeoAxes instead.\n",
      "  warnings.warn(\"The `map_projection` keyword argument is \"\n"
     ]
    },
    {
     "name": "stdout",
     "output_type": "stream",
     "text": [
      "[Parallel(n_jobs=8)]: Done 599 tasks      | elapsed: 35.7min\n"
     ]
    },
    {
     "name": "stderr",
     "output_type": "stream",
     "text": [
      "/Users/beckermr/mambaforge/envs/rubin-sims/lib/python3.10/site-packages/cartopy/mpl/geoaxes.py:403: UserWarning: The `map_projection` keyword argument is deprecated, use `projection` to instantiate a GeoAxes instead.\n",
      "  warnings.warn(\"The `map_projection` keyword argument is \"\n",
      "/Users/beckermr/mambaforge/envs/rubin-sims/lib/python3.10/site-packages/cartopy/mpl/geoaxes.py:403: UserWarning: The `map_projection` keyword argument is deprecated, use `projection` to instantiate a GeoAxes instead.\n",
      "  warnings.warn(\"The `map_projection` keyword argument is \"\n"
     ]
    },
    {
     "name": "stdout",
     "output_type": "stream",
     "text": [
      "[Parallel(n_jobs=8)]: Done 600 tasks      | elapsed: 35.8min\n"
     ]
    },
    {
     "name": "stderr",
     "output_type": "stream",
     "text": [
      "/Users/beckermr/mambaforge/envs/rubin-sims/lib/python3.10/site-packages/cartopy/mpl/geoaxes.py:403: UserWarning: The `map_projection` keyword argument is deprecated, use `projection` to instantiate a GeoAxes instead.\n",
      "  warnings.warn(\"The `map_projection` keyword argument is \"\n",
      "/Users/beckermr/mambaforge/envs/rubin-sims/lib/python3.10/site-packages/cartopy/mpl/geoaxes.py:403: UserWarning: The `map_projection` keyword argument is deprecated, use `projection` to instantiate a GeoAxes instead.\n",
      "  warnings.warn(\"The `map_projection` keyword argument is \"\n"
     ]
    },
    {
     "name": "stdout",
     "output_type": "stream",
     "text": [
      "[Parallel(n_jobs=8)]: Done 601 tasks      | elapsed: 36.0min\n"
     ]
    },
    {
     "name": "stderr",
     "output_type": "stream",
     "text": [
      "/Users/beckermr/mambaforge/envs/rubin-sims/lib/python3.10/site-packages/cartopy/mpl/geoaxes.py:403: UserWarning: The `map_projection` keyword argument is deprecated, use `projection` to instantiate a GeoAxes instead.\n",
      "  warnings.warn(\"The `map_projection` keyword argument is \"\n",
      "/Users/beckermr/mambaforge/envs/rubin-sims/lib/python3.10/site-packages/cartopy/mpl/geoaxes.py:403: UserWarning: The `map_projection` keyword argument is deprecated, use `projection` to instantiate a GeoAxes instead.\n",
      "  warnings.warn(\"The `map_projection` keyword argument is \"\n"
     ]
    },
    {
     "name": "stdout",
     "output_type": "stream",
     "text": [
      "[Parallel(n_jobs=8)]: Done 602 tasks      | elapsed: 36.0min\n"
     ]
    },
    {
     "name": "stderr",
     "output_type": "stream",
     "text": [
      "/Users/beckermr/mambaforge/envs/rubin-sims/lib/python3.10/site-packages/cartopy/mpl/geoaxes.py:403: UserWarning: The `map_projection` keyword argument is deprecated, use `projection` to instantiate a GeoAxes instead.\n",
      "  warnings.warn(\"The `map_projection` keyword argument is \"\n",
      "/Users/beckermr/mambaforge/envs/rubin-sims/lib/python3.10/site-packages/cartopy/mpl/geoaxes.py:403: UserWarning: The `map_projection` keyword argument is deprecated, use `projection` to instantiate a GeoAxes instead.\n",
      "  warnings.warn(\"The `map_projection` keyword argument is \"\n"
     ]
    },
    {
     "name": "stdout",
     "output_type": "stream",
     "text": [
      "[Parallel(n_jobs=8)]: Done 603 tasks      | elapsed: 36.1min\n"
     ]
    },
    {
     "name": "stderr",
     "output_type": "stream",
     "text": [
      "/Users/beckermr/mambaforge/envs/rubin-sims/lib/python3.10/site-packages/cartopy/mpl/geoaxes.py:403: UserWarning: The `map_projection` keyword argument is deprecated, use `projection` to instantiate a GeoAxes instead.\n",
      "  warnings.warn(\"The `map_projection` keyword argument is \"\n",
      "/Users/beckermr/mambaforge/envs/rubin-sims/lib/python3.10/site-packages/cartopy/mpl/geoaxes.py:403: UserWarning: The `map_projection` keyword argument is deprecated, use `projection` to instantiate a GeoAxes instead.\n",
      "  warnings.warn(\"The `map_projection` keyword argument is \"\n"
     ]
    },
    {
     "name": "stdout",
     "output_type": "stream",
     "text": [
      "[Parallel(n_jobs=8)]: Done 604 tasks      | elapsed: 36.1min\n",
      "[Parallel(n_jobs=8)]: Done 605 tasks      | elapsed: 36.1min\n"
     ]
    },
    {
     "name": "stderr",
     "output_type": "stream",
     "text": [
      "/Users/beckermr/mambaforge/envs/rubin-sims/lib/python3.10/site-packages/cartopy/mpl/geoaxes.py:403: UserWarning: The `map_projection` keyword argument is deprecated, use `projection` to instantiate a GeoAxes instead.\n",
      "  warnings.warn(\"The `map_projection` keyword argument is \"\n",
      "/Users/beckermr/mambaforge/envs/rubin-sims/lib/python3.10/site-packages/cartopy/mpl/geoaxes.py:403: UserWarning: The `map_projection` keyword argument is deprecated, use `projection` to instantiate a GeoAxes instead.\n",
      "  warnings.warn(\"The `map_projection` keyword argument is \"\n",
      "/Users/beckermr/mambaforge/envs/rubin-sims/lib/python3.10/site-packages/cartopy/mpl/geoaxes.py:403: UserWarning: The `map_projection` keyword argument is deprecated, use `projection` to instantiate a GeoAxes instead.\n",
      "  warnings.warn(\"The `map_projection` keyword argument is \"\n",
      "/Users/beckermr/mambaforge/envs/rubin-sims/lib/python3.10/site-packages/cartopy/mpl/geoaxes.py:403: UserWarning: The `map_projection` keyword argument is deprecated, use `projection` to instantiate a GeoAxes instead.\n",
      "  warnings.warn(\"The `map_projection` keyword argument is \"\n"
     ]
    },
    {
     "name": "stdout",
     "output_type": "stream",
     "text": [
      "[Parallel(n_jobs=8)]: Done 606 tasks      | elapsed: 36.1min\n"
     ]
    },
    {
     "name": "stderr",
     "output_type": "stream",
     "text": [
      "/Users/beckermr/mambaforge/envs/rubin-sims/lib/python3.10/site-packages/cartopy/mpl/geoaxes.py:403: UserWarning: The `map_projection` keyword argument is deprecated, use `projection` to instantiate a GeoAxes instead.\n",
      "  warnings.warn(\"The `map_projection` keyword argument is \"\n",
      "/Users/beckermr/mambaforge/envs/rubin-sims/lib/python3.10/site-packages/cartopy/mpl/geoaxes.py:403: UserWarning: The `map_projection` keyword argument is deprecated, use `projection` to instantiate a GeoAxes instead.\n",
      "  warnings.warn(\"The `map_projection` keyword argument is \"\n"
     ]
    },
    {
     "name": "stdout",
     "output_type": "stream",
     "text": [
      "[Parallel(n_jobs=8)]: Done 607 tasks      | elapsed: 36.2min\n"
     ]
    },
    {
     "name": "stderr",
     "output_type": "stream",
     "text": [
      "/Users/beckermr/mambaforge/envs/rubin-sims/lib/python3.10/site-packages/cartopy/mpl/geoaxes.py:403: UserWarning: The `map_projection` keyword argument is deprecated, use `projection` to instantiate a GeoAxes instead.\n",
      "  warnings.warn(\"The `map_projection` keyword argument is \"\n",
      "/Users/beckermr/mambaforge/envs/rubin-sims/lib/python3.10/site-packages/cartopy/mpl/geoaxes.py:403: UserWarning: The `map_projection` keyword argument is deprecated, use `projection` to instantiate a GeoAxes instead.\n",
      "  warnings.warn(\"The `map_projection` keyword argument is \"\n"
     ]
    },
    {
     "name": "stdout",
     "output_type": "stream",
     "text": [
      "[Parallel(n_jobs=8)]: Done 608 tasks      | elapsed: 36.3min\n"
     ]
    },
    {
     "name": "stderr",
     "output_type": "stream",
     "text": [
      "/Users/beckermr/mambaforge/envs/rubin-sims/lib/python3.10/site-packages/cartopy/mpl/geoaxes.py:403: UserWarning: The `map_projection` keyword argument is deprecated, use `projection` to instantiate a GeoAxes instead.\n",
      "  warnings.warn(\"The `map_projection` keyword argument is \"\n",
      "/Users/beckermr/mambaforge/envs/rubin-sims/lib/python3.10/site-packages/cartopy/mpl/geoaxes.py:403: UserWarning: The `map_projection` keyword argument is deprecated, use `projection` to instantiate a GeoAxes instead.\n",
      "  warnings.warn(\"The `map_projection` keyword argument is \"\n"
     ]
    },
    {
     "name": "stdout",
     "output_type": "stream",
     "text": [
      "[Parallel(n_jobs=8)]: Done 609 tasks      | elapsed: 36.4min\n"
     ]
    },
    {
     "name": "stderr",
     "output_type": "stream",
     "text": [
      "/Users/beckermr/mambaforge/envs/rubin-sims/lib/python3.10/site-packages/cartopy/mpl/geoaxes.py:403: UserWarning: The `map_projection` keyword argument is deprecated, use `projection` to instantiate a GeoAxes instead.\n",
      "  warnings.warn(\"The `map_projection` keyword argument is \"\n",
      "/Users/beckermr/mambaforge/envs/rubin-sims/lib/python3.10/site-packages/cartopy/mpl/geoaxes.py:403: UserWarning: The `map_projection` keyword argument is deprecated, use `projection` to instantiate a GeoAxes instead.\n",
      "  warnings.warn(\"The `map_projection` keyword argument is \"\n"
     ]
    },
    {
     "name": "stdout",
     "output_type": "stream",
     "text": [
      "[Parallel(n_jobs=8)]: Done 610 tasks      | elapsed: 36.5min\n"
     ]
    },
    {
     "name": "stderr",
     "output_type": "stream",
     "text": [
      "/Users/beckermr/mambaforge/envs/rubin-sims/lib/python3.10/site-packages/cartopy/mpl/geoaxes.py:403: UserWarning: The `map_projection` keyword argument is deprecated, use `projection` to instantiate a GeoAxes instead.\n",
      "  warnings.warn(\"The `map_projection` keyword argument is \"\n",
      "/Users/beckermr/mambaforge/envs/rubin-sims/lib/python3.10/site-packages/cartopy/mpl/geoaxes.py:403: UserWarning: The `map_projection` keyword argument is deprecated, use `projection` to instantiate a GeoAxes instead.\n",
      "  warnings.warn(\"The `map_projection` keyword argument is \"\n"
     ]
    },
    {
     "name": "stdout",
     "output_type": "stream",
     "text": [
      "[Parallel(n_jobs=8)]: Done 611 tasks      | elapsed: 36.5min\n"
     ]
    },
    {
     "name": "stderr",
     "output_type": "stream",
     "text": [
      "/Users/beckermr/mambaforge/envs/rubin-sims/lib/python3.10/site-packages/cartopy/mpl/geoaxes.py:403: UserWarning: The `map_projection` keyword argument is deprecated, use `projection` to instantiate a GeoAxes instead.\n",
      "  warnings.warn(\"The `map_projection` keyword argument is \"\n",
      "/Users/beckermr/mambaforge/envs/rubin-sims/lib/python3.10/site-packages/cartopy/mpl/geoaxes.py:403: UserWarning: The `map_projection` keyword argument is deprecated, use `projection` to instantiate a GeoAxes instead.\n",
      "  warnings.warn(\"The `map_projection` keyword argument is \"\n"
     ]
    },
    {
     "name": "stdout",
     "output_type": "stream",
     "text": [
      "[Parallel(n_jobs=8)]: Done 612 tasks      | elapsed: 36.6min\n"
     ]
    },
    {
     "name": "stderr",
     "output_type": "stream",
     "text": [
      "/Users/beckermr/mambaforge/envs/rubin-sims/lib/python3.10/site-packages/cartopy/mpl/geoaxes.py:403: UserWarning: The `map_projection` keyword argument is deprecated, use `projection` to instantiate a GeoAxes instead.\n",
      "  warnings.warn(\"The `map_projection` keyword argument is \"\n",
      "/Users/beckermr/mambaforge/envs/rubin-sims/lib/python3.10/site-packages/cartopy/mpl/geoaxes.py:403: UserWarning: The `map_projection` keyword argument is deprecated, use `projection` to instantiate a GeoAxes instead.\n",
      "  warnings.warn(\"The `map_projection` keyword argument is \"\n"
     ]
    },
    {
     "name": "stdout",
     "output_type": "stream",
     "text": [
      "[Parallel(n_jobs=8)]: Done 613 tasks      | elapsed: 36.6min\n"
     ]
    },
    {
     "name": "stderr",
     "output_type": "stream",
     "text": [
      "/Users/beckermr/mambaforge/envs/rubin-sims/lib/python3.10/site-packages/cartopy/mpl/geoaxes.py:403: UserWarning: The `map_projection` keyword argument is deprecated, use `projection` to instantiate a GeoAxes instead.\n",
      "  warnings.warn(\"The `map_projection` keyword argument is \"\n",
      "/Users/beckermr/mambaforge/envs/rubin-sims/lib/python3.10/site-packages/cartopy/mpl/geoaxes.py:403: UserWarning: The `map_projection` keyword argument is deprecated, use `projection` to instantiate a GeoAxes instead.\n",
      "  warnings.warn(\"The `map_projection` keyword argument is \"\n"
     ]
    },
    {
     "name": "stdout",
     "output_type": "stream",
     "text": [
      "[Parallel(n_jobs=8)]: Done 614 tasks      | elapsed: 36.6min\n",
      "[Parallel(n_jobs=8)]: Done 615 tasks      | elapsed: 36.6min\n"
     ]
    },
    {
     "name": "stderr",
     "output_type": "stream",
     "text": [
      "/Users/beckermr/mambaforge/envs/rubin-sims/lib/python3.10/site-packages/cartopy/mpl/geoaxes.py:403: UserWarning: The `map_projection` keyword argument is deprecated, use `projection` to instantiate a GeoAxes instead.\n",
      "  warnings.warn(\"The `map_projection` keyword argument is \"\n",
      "/Users/beckermr/mambaforge/envs/rubin-sims/lib/python3.10/site-packages/cartopy/mpl/geoaxes.py:403: UserWarning: The `map_projection` keyword argument is deprecated, use `projection` to instantiate a GeoAxes instead.\n",
      "  warnings.warn(\"The `map_projection` keyword argument is \"\n",
      "/Users/beckermr/mambaforge/envs/rubin-sims/lib/python3.10/site-packages/cartopy/mpl/geoaxes.py:403: UserWarning: The `map_projection` keyword argument is deprecated, use `projection` to instantiate a GeoAxes instead.\n",
      "  warnings.warn(\"The `map_projection` keyword argument is \"\n",
      "/Users/beckermr/mambaforge/envs/rubin-sims/lib/python3.10/site-packages/cartopy/mpl/geoaxes.py:403: UserWarning: The `map_projection` keyword argument is deprecated, use `projection` to instantiate a GeoAxes instead.\n",
      "  warnings.warn(\"The `map_projection` keyword argument is \"\n"
     ]
    },
    {
     "name": "stdout",
     "output_type": "stream",
     "text": [
      "[Parallel(n_jobs=8)]: Done 616 tasks      | elapsed: 36.7min\n"
     ]
    },
    {
     "name": "stderr",
     "output_type": "stream",
     "text": [
      "/Users/beckermr/mambaforge/envs/rubin-sims/lib/python3.10/site-packages/cartopy/mpl/geoaxes.py:403: UserWarning: The `map_projection` keyword argument is deprecated, use `projection` to instantiate a GeoAxes instead.\n",
      "  warnings.warn(\"The `map_projection` keyword argument is \"\n",
      "/Users/beckermr/mambaforge/envs/rubin-sims/lib/python3.10/site-packages/cartopy/mpl/geoaxes.py:403: UserWarning: The `map_projection` keyword argument is deprecated, use `projection` to instantiate a GeoAxes instead.\n",
      "  warnings.warn(\"The `map_projection` keyword argument is \"\n"
     ]
    },
    {
     "name": "stdout",
     "output_type": "stream",
     "text": [
      "[Parallel(n_jobs=8)]: Done 617 tasks      | elapsed: 36.9min\n"
     ]
    },
    {
     "name": "stderr",
     "output_type": "stream",
     "text": [
      "/Users/beckermr/mambaforge/envs/rubin-sims/lib/python3.10/site-packages/cartopy/mpl/geoaxes.py:403: UserWarning: The `map_projection` keyword argument is deprecated, use `projection` to instantiate a GeoAxes instead.\n",
      "  warnings.warn(\"The `map_projection` keyword argument is \"\n",
      "/Users/beckermr/mambaforge/envs/rubin-sims/lib/python3.10/site-packages/cartopy/mpl/geoaxes.py:403: UserWarning: The `map_projection` keyword argument is deprecated, use `projection` to instantiate a GeoAxes instead.\n",
      "  warnings.warn(\"The `map_projection` keyword argument is \"\n"
     ]
    },
    {
     "name": "stdout",
     "output_type": "stream",
     "text": [
      "[Parallel(n_jobs=8)]: Done 618 tasks      | elapsed: 36.9min\n"
     ]
    },
    {
     "name": "stderr",
     "output_type": "stream",
     "text": [
      "/Users/beckermr/mambaforge/envs/rubin-sims/lib/python3.10/site-packages/cartopy/mpl/geoaxes.py:403: UserWarning: The `map_projection` keyword argument is deprecated, use `projection` to instantiate a GeoAxes instead.\n",
      "  warnings.warn(\"The `map_projection` keyword argument is \"\n",
      "/Users/beckermr/mambaforge/envs/rubin-sims/lib/python3.10/site-packages/cartopy/mpl/geoaxes.py:403: UserWarning: The `map_projection` keyword argument is deprecated, use `projection` to instantiate a GeoAxes instead.\n",
      "  warnings.warn(\"The `map_projection` keyword argument is \"\n"
     ]
    },
    {
     "name": "stdout",
     "output_type": "stream",
     "text": [
      "[Parallel(n_jobs=8)]: Done 619 tasks      | elapsed: 37.0min\n"
     ]
    },
    {
     "name": "stderr",
     "output_type": "stream",
     "text": [
      "/Users/beckermr/mambaforge/envs/rubin-sims/lib/python3.10/site-packages/cartopy/mpl/geoaxes.py:403: UserWarning: The `map_projection` keyword argument is deprecated, use `projection` to instantiate a GeoAxes instead.\n",
      "  warnings.warn(\"The `map_projection` keyword argument is \"\n",
      "/Users/beckermr/mambaforge/envs/rubin-sims/lib/python3.10/site-packages/cartopy/mpl/geoaxes.py:403: UserWarning: The `map_projection` keyword argument is deprecated, use `projection` to instantiate a GeoAxes instead.\n",
      "  warnings.warn(\"The `map_projection` keyword argument is \"\n"
     ]
    },
    {
     "name": "stdout",
     "output_type": "stream",
     "text": [
      "[Parallel(n_jobs=8)]: Done 620 tasks      | elapsed: 37.0min\n"
     ]
    },
    {
     "name": "stderr",
     "output_type": "stream",
     "text": [
      "/Users/beckermr/mambaforge/envs/rubin-sims/lib/python3.10/site-packages/cartopy/mpl/geoaxes.py:403: UserWarning: The `map_projection` keyword argument is deprecated, use `projection` to instantiate a GeoAxes instead.\n",
      "  warnings.warn(\"The `map_projection` keyword argument is \"\n",
      "/Users/beckermr/mambaforge/envs/rubin-sims/lib/python3.10/site-packages/cartopy/mpl/geoaxes.py:403: UserWarning: The `map_projection` keyword argument is deprecated, use `projection` to instantiate a GeoAxes instead.\n",
      "  warnings.warn(\"The `map_projection` keyword argument is \"\n"
     ]
    },
    {
     "name": "stdout",
     "output_type": "stream",
     "text": [
      "[Parallel(n_jobs=8)]: Done 621 tasks      | elapsed: 37.0min\n",
      "[Parallel(n_jobs=8)]: Done 622 tasks      | elapsed: 37.1min\n",
      "[Parallel(n_jobs=8)]: Done 623 tasks      | elapsed: 37.1min\n"
     ]
    },
    {
     "name": "stderr",
     "output_type": "stream",
     "text": [
      "/Users/beckermr/mambaforge/envs/rubin-sims/lib/python3.10/site-packages/cartopy/mpl/geoaxes.py:403: UserWarning: The `map_projection` keyword argument is deprecated, use `projection` to instantiate a GeoAxes instead.\n",
      "  warnings.warn(\"The `map_projection` keyword argument is \"\n",
      "/Users/beckermr/mambaforge/envs/rubin-sims/lib/python3.10/site-packages/cartopy/mpl/geoaxes.py:403: UserWarning: The `map_projection` keyword argument is deprecated, use `projection` to instantiate a GeoAxes instead.\n",
      "  warnings.warn(\"The `map_projection` keyword argument is \"\n",
      "/Users/beckermr/mambaforge/envs/rubin-sims/lib/python3.10/site-packages/cartopy/mpl/geoaxes.py:403: UserWarning: The `map_projection` keyword argument is deprecated, use `projection` to instantiate a GeoAxes instead.\n",
      "  warnings.warn(\"The `map_projection` keyword argument is \"\n",
      "/Users/beckermr/mambaforge/envs/rubin-sims/lib/python3.10/site-packages/cartopy/mpl/geoaxes.py:403: UserWarning: The `map_projection` keyword argument is deprecated, use `projection` to instantiate a GeoAxes instead.\n",
      "  warnings.warn(\"The `map_projection` keyword argument is \"\n",
      "/Users/beckermr/mambaforge/envs/rubin-sims/lib/python3.10/site-packages/cartopy/mpl/geoaxes.py:403: UserWarning: The `map_projection` keyword argument is deprecated, use `projection` to instantiate a GeoAxes instead.\n",
      "  warnings.warn(\"The `map_projection` keyword argument is \"\n",
      "/Users/beckermr/mambaforge/envs/rubin-sims/lib/python3.10/site-packages/cartopy/mpl/geoaxes.py:403: UserWarning: The `map_projection` keyword argument is deprecated, use `projection` to instantiate a GeoAxes instead.\n",
      "  warnings.warn(\"The `map_projection` keyword argument is \"\n"
     ]
    },
    {
     "name": "stdout",
     "output_type": "stream",
     "text": [
      "[Parallel(n_jobs=8)]: Done 624 tasks      | elapsed: 37.2min\n"
     ]
    },
    {
     "name": "stderr",
     "output_type": "stream",
     "text": [
      "/Users/beckermr/mambaforge/envs/rubin-sims/lib/python3.10/site-packages/cartopy/mpl/geoaxes.py:403: UserWarning: The `map_projection` keyword argument is deprecated, use `projection` to instantiate a GeoAxes instead.\n",
      "  warnings.warn(\"The `map_projection` keyword argument is \"\n",
      "/Users/beckermr/mambaforge/envs/rubin-sims/lib/python3.10/site-packages/cartopy/mpl/geoaxes.py:403: UserWarning: The `map_projection` keyword argument is deprecated, use `projection` to instantiate a GeoAxes instead.\n",
      "  warnings.warn(\"The `map_projection` keyword argument is \"\n"
     ]
    },
    {
     "name": "stdout",
     "output_type": "stream",
     "text": [
      "[Parallel(n_jobs=8)]: Done 625 tasks      | elapsed: 37.3min\n"
     ]
    },
    {
     "name": "stderr",
     "output_type": "stream",
     "text": [
      "/Users/beckermr/mambaforge/envs/rubin-sims/lib/python3.10/site-packages/cartopy/mpl/geoaxes.py:403: UserWarning: The `map_projection` keyword argument is deprecated, use `projection` to instantiate a GeoAxes instead.\n",
      "  warnings.warn(\"The `map_projection` keyword argument is \"\n",
      "/Users/beckermr/mambaforge/envs/rubin-sims/lib/python3.10/site-packages/cartopy/mpl/geoaxes.py:403: UserWarning: The `map_projection` keyword argument is deprecated, use `projection` to instantiate a GeoAxes instead.\n",
      "  warnings.warn(\"The `map_projection` keyword argument is \"\n"
     ]
    },
    {
     "name": "stdout",
     "output_type": "stream",
     "text": [
      "[Parallel(n_jobs=8)]: Done 626 tasks      | elapsed: 37.4min\n"
     ]
    },
    {
     "name": "stderr",
     "output_type": "stream",
     "text": [
      "/Users/beckermr/mambaforge/envs/rubin-sims/lib/python3.10/site-packages/cartopy/mpl/geoaxes.py:403: UserWarning: The `map_projection` keyword argument is deprecated, use `projection` to instantiate a GeoAxes instead.\n",
      "  warnings.warn(\"The `map_projection` keyword argument is \"\n",
      "/Users/beckermr/mambaforge/envs/rubin-sims/lib/python3.10/site-packages/cartopy/mpl/geoaxes.py:403: UserWarning: The `map_projection` keyword argument is deprecated, use `projection` to instantiate a GeoAxes instead.\n",
      "  warnings.warn(\"The `map_projection` keyword argument is \"\n"
     ]
    },
    {
     "name": "stdout",
     "output_type": "stream",
     "text": [
      "[Parallel(n_jobs=8)]: Done 627 tasks      | elapsed: 37.5min\n",
      "[Parallel(n_jobs=8)]: Done 628 tasks      | elapsed: 37.5min\n"
     ]
    },
    {
     "name": "stderr",
     "output_type": "stream",
     "text": [
      "/Users/beckermr/mambaforge/envs/rubin-sims/lib/python3.10/site-packages/cartopy/mpl/geoaxes.py:403: UserWarning: The `map_projection` keyword argument is deprecated, use `projection` to instantiate a GeoAxes instead.\n",
      "  warnings.warn(\"The `map_projection` keyword argument is \"\n",
      "/Users/beckermr/mambaforge/envs/rubin-sims/lib/python3.10/site-packages/cartopy/mpl/geoaxes.py:403: UserWarning: The `map_projection` keyword argument is deprecated, use `projection` to instantiate a GeoAxes instead.\n",
      "  warnings.warn(\"The `map_projection` keyword argument is \"\n",
      "/Users/beckermr/mambaforge/envs/rubin-sims/lib/python3.10/site-packages/cartopy/mpl/geoaxes.py:403: UserWarning: The `map_projection` keyword argument is deprecated, use `projection` to instantiate a GeoAxes instead.\n",
      "  warnings.warn(\"The `map_projection` keyword argument is \"\n",
      "/Users/beckermr/mambaforge/envs/rubin-sims/lib/python3.10/site-packages/cartopy/mpl/geoaxes.py:403: UserWarning: The `map_projection` keyword argument is deprecated, use `projection` to instantiate a GeoAxes instead.\n",
      "  warnings.warn(\"The `map_projection` keyword argument is \"\n"
     ]
    },
    {
     "name": "stdout",
     "output_type": "stream",
     "text": [
      "[Parallel(n_jobs=8)]: Done 629 tasks      | elapsed: 37.5min\n",
      "[Parallel(n_jobs=8)]: Done 630 tasks      | elapsed: 37.5min\n",
      "[Parallel(n_jobs=8)]: Done 631 tasks      | elapsed: 37.5min\n"
     ]
    },
    {
     "name": "stderr",
     "output_type": "stream",
     "text": [
      "/Users/beckermr/mambaforge/envs/rubin-sims/lib/python3.10/site-packages/cartopy/mpl/geoaxes.py:403: UserWarning: The `map_projection` keyword argument is deprecated, use `projection` to instantiate a GeoAxes instead.\n",
      "  warnings.warn(\"The `map_projection` keyword argument is \"\n",
      "/Users/beckermr/mambaforge/envs/rubin-sims/lib/python3.10/site-packages/cartopy/mpl/geoaxes.py:403: UserWarning: The `map_projection` keyword argument is deprecated, use `projection` to instantiate a GeoAxes instead.\n",
      "  warnings.warn(\"The `map_projection` keyword argument is \"\n",
      "/Users/beckermr/mambaforge/envs/rubin-sims/lib/python3.10/site-packages/cartopy/mpl/geoaxes.py:403: UserWarning: The `map_projection` keyword argument is deprecated, use `projection` to instantiate a GeoAxes instead.\n",
      "  warnings.warn(\"The `map_projection` keyword argument is \"\n",
      "/Users/beckermr/mambaforge/envs/rubin-sims/lib/python3.10/site-packages/cartopy/mpl/geoaxes.py:403: UserWarning: The `map_projection` keyword argument is deprecated, use `projection` to instantiate a GeoAxes instead.\n",
      "  warnings.warn(\"The `map_projection` keyword argument is \"\n",
      "/Users/beckermr/mambaforge/envs/rubin-sims/lib/python3.10/site-packages/cartopy/mpl/geoaxes.py:403: UserWarning: The `map_projection` keyword argument is deprecated, use `projection` to instantiate a GeoAxes instead.\n",
      "  warnings.warn(\"The `map_projection` keyword argument is \"\n",
      "/Users/beckermr/mambaforge/envs/rubin-sims/lib/python3.10/site-packages/cartopy/mpl/geoaxes.py:403: UserWarning: The `map_projection` keyword argument is deprecated, use `projection` to instantiate a GeoAxes instead.\n",
      "  warnings.warn(\"The `map_projection` keyword argument is \"\n"
     ]
    },
    {
     "name": "stdout",
     "output_type": "stream",
     "text": [
      "[Parallel(n_jobs=8)]: Done 632 tasks      | elapsed: 37.6min\n"
     ]
    },
    {
     "name": "stderr",
     "output_type": "stream",
     "text": [
      "/Users/beckermr/mambaforge/envs/rubin-sims/lib/python3.10/site-packages/cartopy/mpl/geoaxes.py:403: UserWarning: The `map_projection` keyword argument is deprecated, use `projection` to instantiate a GeoAxes instead.\n",
      "  warnings.warn(\"The `map_projection` keyword argument is \"\n",
      "/Users/beckermr/mambaforge/envs/rubin-sims/lib/python3.10/site-packages/cartopy/mpl/geoaxes.py:403: UserWarning: The `map_projection` keyword argument is deprecated, use `projection` to instantiate a GeoAxes instead.\n",
      "  warnings.warn(\"The `map_projection` keyword argument is \"\n"
     ]
    },
    {
     "name": "stdout",
     "output_type": "stream",
     "text": [
      "[Parallel(n_jobs=8)]: Done 633 tasks      | elapsed: 37.8min\n",
      "[Parallel(n_jobs=8)]: Done 634 tasks      | elapsed: 37.8min\n"
     ]
    },
    {
     "name": "stderr",
     "output_type": "stream",
     "text": [
      "/Users/beckermr/mambaforge/envs/rubin-sims/lib/python3.10/site-packages/cartopy/mpl/geoaxes.py:403: UserWarning: The `map_projection` keyword argument is deprecated, use `projection` to instantiate a GeoAxes instead.\n",
      "  warnings.warn(\"The `map_projection` keyword argument is \"\n",
      "/Users/beckermr/mambaforge/envs/rubin-sims/lib/python3.10/site-packages/cartopy/mpl/geoaxes.py:403: UserWarning: The `map_projection` keyword argument is deprecated, use `projection` to instantiate a GeoAxes instead.\n",
      "  warnings.warn(\"The `map_projection` keyword argument is \"\n",
      "/Users/beckermr/mambaforge/envs/rubin-sims/lib/python3.10/site-packages/cartopy/mpl/geoaxes.py:403: UserWarning: The `map_projection` keyword argument is deprecated, use `projection` to instantiate a GeoAxes instead.\n",
      "  warnings.warn(\"The `map_projection` keyword argument is \"\n",
      "/Users/beckermr/mambaforge/envs/rubin-sims/lib/python3.10/site-packages/cartopy/mpl/geoaxes.py:403: UserWarning: The `map_projection` keyword argument is deprecated, use `projection` to instantiate a GeoAxes instead.\n",
      "  warnings.warn(\"The `map_projection` keyword argument is \"\n"
     ]
    },
    {
     "name": "stdout",
     "output_type": "stream",
     "text": [
      "[Parallel(n_jobs=8)]: Done 635 tasks      | elapsed: 37.9min\n"
     ]
    },
    {
     "name": "stderr",
     "output_type": "stream",
     "text": [
      "/Users/beckermr/mambaforge/envs/rubin-sims/lib/python3.10/site-packages/cartopy/mpl/geoaxes.py:403: UserWarning: The `map_projection` keyword argument is deprecated, use `projection` to instantiate a GeoAxes instead.\n",
      "  warnings.warn(\"The `map_projection` keyword argument is \"\n",
      "/Users/beckermr/mambaforge/envs/rubin-sims/lib/python3.10/site-packages/cartopy/mpl/geoaxes.py:403: UserWarning: The `map_projection` keyword argument is deprecated, use `projection` to instantiate a GeoAxes instead.\n",
      "  warnings.warn(\"The `map_projection` keyword argument is \"\n"
     ]
    },
    {
     "name": "stdout",
     "output_type": "stream",
     "text": [
      "[Parallel(n_jobs=8)]: Done 636 tasks      | elapsed: 38.0min\n",
      "[Parallel(n_jobs=8)]: Done 637 tasks      | elapsed: 38.0min\n"
     ]
    },
    {
     "name": "stderr",
     "output_type": "stream",
     "text": [
      "/Users/beckermr/mambaforge/envs/rubin-sims/lib/python3.10/site-packages/cartopy/mpl/geoaxes.py:403: UserWarning: The `map_projection` keyword argument is deprecated, use `projection` to instantiate a GeoAxes instead.\n",
      "  warnings.warn(\"The `map_projection` keyword argument is \"\n",
      "/Users/beckermr/mambaforge/envs/rubin-sims/lib/python3.10/site-packages/cartopy/mpl/geoaxes.py:403: UserWarning: The `map_projection` keyword argument is deprecated, use `projection` to instantiate a GeoAxes instead.\n",
      "  warnings.warn(\"The `map_projection` keyword argument is \"\n",
      "/Users/beckermr/mambaforge/envs/rubin-sims/lib/python3.10/site-packages/cartopy/mpl/geoaxes.py:403: UserWarning: The `map_projection` keyword argument is deprecated, use `projection` to instantiate a GeoAxes instead.\n",
      "  warnings.warn(\"The `map_projection` keyword argument is \"\n",
      "/Users/beckermr/mambaforge/envs/rubin-sims/lib/python3.10/site-packages/cartopy/mpl/geoaxes.py:403: UserWarning: The `map_projection` keyword argument is deprecated, use `projection` to instantiate a GeoAxes instead.\n",
      "  warnings.warn(\"The `map_projection` keyword argument is \"\n"
     ]
    },
    {
     "name": "stdout",
     "output_type": "stream",
     "text": [
      "[Parallel(n_jobs=8)]: Done 638 tasks      | elapsed: 38.0min\n",
      "[Parallel(n_jobs=8)]: Done 639 tasks      | elapsed: 38.0min\n"
     ]
    },
    {
     "name": "stderr",
     "output_type": "stream",
     "text": [
      "/Users/beckermr/mambaforge/envs/rubin-sims/lib/python3.10/site-packages/cartopy/mpl/geoaxes.py:403: UserWarning: The `map_projection` keyword argument is deprecated, use `projection` to instantiate a GeoAxes instead.\n",
      "  warnings.warn(\"The `map_projection` keyword argument is \"\n",
      "/Users/beckermr/mambaforge/envs/rubin-sims/lib/python3.10/site-packages/cartopy/mpl/geoaxes.py:403: UserWarning: The `map_projection` keyword argument is deprecated, use `projection` to instantiate a GeoAxes instead.\n",
      "  warnings.warn(\"The `map_projection` keyword argument is \"\n",
      "/Users/beckermr/mambaforge/envs/rubin-sims/lib/python3.10/site-packages/cartopy/mpl/geoaxes.py:403: UserWarning: The `map_projection` keyword argument is deprecated, use `projection` to instantiate a GeoAxes instead.\n",
      "  warnings.warn(\"The `map_projection` keyword argument is \"\n",
      "/Users/beckermr/mambaforge/envs/rubin-sims/lib/python3.10/site-packages/cartopy/mpl/geoaxes.py:403: UserWarning: The `map_projection` keyword argument is deprecated, use `projection` to instantiate a GeoAxes instead.\n",
      "  warnings.warn(\"The `map_projection` keyword argument is \"\n"
     ]
    },
    {
     "name": "stdout",
     "output_type": "stream",
     "text": [
      "[Parallel(n_jobs=8)]: Done 640 tasks      | elapsed: 38.1min\n"
     ]
    },
    {
     "name": "stderr",
     "output_type": "stream",
     "text": [
      "/Users/beckermr/mambaforge/envs/rubin-sims/lib/python3.10/site-packages/cartopy/mpl/geoaxes.py:403: UserWarning: The `map_projection` keyword argument is deprecated, use `projection` to instantiate a GeoAxes instead.\n",
      "  warnings.warn(\"The `map_projection` keyword argument is \"\n",
      "/Users/beckermr/mambaforge/envs/rubin-sims/lib/python3.10/site-packages/cartopy/mpl/geoaxes.py:403: UserWarning: The `map_projection` keyword argument is deprecated, use `projection` to instantiate a GeoAxes instead.\n",
      "  warnings.warn(\"The `map_projection` keyword argument is \"\n"
     ]
    },
    {
     "name": "stdout",
     "output_type": "stream",
     "text": [
      "[Parallel(n_jobs=8)]: Done 641 tasks      | elapsed: 38.3min\n"
     ]
    },
    {
     "name": "stderr",
     "output_type": "stream",
     "text": [
      "/Users/beckermr/mambaforge/envs/rubin-sims/lib/python3.10/site-packages/cartopy/mpl/geoaxes.py:403: UserWarning: The `map_projection` keyword argument is deprecated, use `projection` to instantiate a GeoAxes instead.\n",
      "  warnings.warn(\"The `map_projection` keyword argument is \"\n",
      "/Users/beckermr/mambaforge/envs/rubin-sims/lib/python3.10/site-packages/cartopy/mpl/geoaxes.py:403: UserWarning: The `map_projection` keyword argument is deprecated, use `projection` to instantiate a GeoAxes instead.\n",
      "  warnings.warn(\"The `map_projection` keyword argument is \"\n"
     ]
    },
    {
     "name": "stdout",
     "output_type": "stream",
     "text": [
      "[Parallel(n_jobs=8)]: Done 642 tasks      | elapsed: 38.3min\n"
     ]
    },
    {
     "name": "stderr",
     "output_type": "stream",
     "text": [
      "/Users/beckermr/mambaforge/envs/rubin-sims/lib/python3.10/site-packages/cartopy/mpl/geoaxes.py:403: UserWarning: The `map_projection` keyword argument is deprecated, use `projection` to instantiate a GeoAxes instead.\n",
      "  warnings.warn(\"The `map_projection` keyword argument is \"\n",
      "/Users/beckermr/mambaforge/envs/rubin-sims/lib/python3.10/site-packages/cartopy/mpl/geoaxes.py:403: UserWarning: The `map_projection` keyword argument is deprecated, use `projection` to instantiate a GeoAxes instead.\n",
      "  warnings.warn(\"The `map_projection` keyword argument is \"\n"
     ]
    },
    {
     "name": "stdout",
     "output_type": "stream",
     "text": [
      "[Parallel(n_jobs=8)]: Done 643 tasks      | elapsed: 38.4min\n"
     ]
    },
    {
     "name": "stderr",
     "output_type": "stream",
     "text": [
      "/Users/beckermr/mambaforge/envs/rubin-sims/lib/python3.10/site-packages/cartopy/mpl/geoaxes.py:403: UserWarning: The `map_projection` keyword argument is deprecated, use `projection` to instantiate a GeoAxes instead.\n",
      "  warnings.warn(\"The `map_projection` keyword argument is \"\n",
      "/Users/beckermr/mambaforge/envs/rubin-sims/lib/python3.10/site-packages/cartopy/mpl/geoaxes.py:403: UserWarning: The `map_projection` keyword argument is deprecated, use `projection` to instantiate a GeoAxes instead.\n",
      "  warnings.warn(\"The `map_projection` keyword argument is \"\n"
     ]
    },
    {
     "name": "stdout",
     "output_type": "stream",
     "text": [
      "[Parallel(n_jobs=8)]: Done 644 tasks      | elapsed: 38.5min\n"
     ]
    },
    {
     "name": "stderr",
     "output_type": "stream",
     "text": [
      "/Users/beckermr/mambaforge/envs/rubin-sims/lib/python3.10/site-packages/cartopy/mpl/geoaxes.py:403: UserWarning: The `map_projection` keyword argument is deprecated, use `projection` to instantiate a GeoAxes instead.\n",
      "  warnings.warn(\"The `map_projection` keyword argument is \"\n",
      "/Users/beckermr/mambaforge/envs/rubin-sims/lib/python3.10/site-packages/cartopy/mpl/geoaxes.py:403: UserWarning: The `map_projection` keyword argument is deprecated, use `projection` to instantiate a GeoAxes instead.\n",
      "  warnings.warn(\"The `map_projection` keyword argument is \"\n"
     ]
    },
    {
     "name": "stdout",
     "output_type": "stream",
     "text": [
      "[Parallel(n_jobs=8)]: Done 645 tasks      | elapsed: 38.5min\n"
     ]
    },
    {
     "name": "stderr",
     "output_type": "stream",
     "text": [
      "/Users/beckermr/mambaforge/envs/rubin-sims/lib/python3.10/site-packages/cartopy/mpl/geoaxes.py:403: UserWarning: The `map_projection` keyword argument is deprecated, use `projection` to instantiate a GeoAxes instead.\n",
      "  warnings.warn(\"The `map_projection` keyword argument is \"\n",
      "/Users/beckermr/mambaforge/envs/rubin-sims/lib/python3.10/site-packages/cartopy/mpl/geoaxes.py:403: UserWarning: The `map_projection` keyword argument is deprecated, use `projection` to instantiate a GeoAxes instead.\n",
      "  warnings.warn(\"The `map_projection` keyword argument is \"\n"
     ]
    },
    {
     "name": "stdout",
     "output_type": "stream",
     "text": [
      "[Parallel(n_jobs=8)]: Done 646 tasks      | elapsed: 38.5min\n"
     ]
    },
    {
     "name": "stderr",
     "output_type": "stream",
     "text": [
      "/Users/beckermr/mambaforge/envs/rubin-sims/lib/python3.10/site-packages/cartopy/mpl/geoaxes.py:403: UserWarning: The `map_projection` keyword argument is deprecated, use `projection` to instantiate a GeoAxes instead.\n",
      "  warnings.warn(\"The `map_projection` keyword argument is \"\n",
      "/Users/beckermr/mambaforge/envs/rubin-sims/lib/python3.10/site-packages/cartopy/mpl/geoaxes.py:403: UserWarning: The `map_projection` keyword argument is deprecated, use `projection` to instantiate a GeoAxes instead.\n",
      "  warnings.warn(\"The `map_projection` keyword argument is \"\n"
     ]
    },
    {
     "name": "stdout",
     "output_type": "stream",
     "text": [
      "[Parallel(n_jobs=8)]: Done 647 tasks      | elapsed: 38.5min\n"
     ]
    },
    {
     "name": "stderr",
     "output_type": "stream",
     "text": [
      "/Users/beckermr/mambaforge/envs/rubin-sims/lib/python3.10/site-packages/cartopy/mpl/geoaxes.py:403: UserWarning: The `map_projection` keyword argument is deprecated, use `projection` to instantiate a GeoAxes instead.\n",
      "  warnings.warn(\"The `map_projection` keyword argument is \"\n",
      "/Users/beckermr/mambaforge/envs/rubin-sims/lib/python3.10/site-packages/cartopy/mpl/geoaxes.py:403: UserWarning: The `map_projection` keyword argument is deprecated, use `projection` to instantiate a GeoAxes instead.\n",
      "  warnings.warn(\"The `map_projection` keyword argument is \"\n"
     ]
    },
    {
     "name": "stdout",
     "output_type": "stream",
     "text": [
      "[Parallel(n_jobs=8)]: Done 648 tasks      | elapsed: 38.6min\n"
     ]
    },
    {
     "name": "stderr",
     "output_type": "stream",
     "text": [
      "/Users/beckermr/mambaforge/envs/rubin-sims/lib/python3.10/site-packages/cartopy/mpl/geoaxes.py:403: UserWarning: The `map_projection` keyword argument is deprecated, use `projection` to instantiate a GeoAxes instead.\n",
      "  warnings.warn(\"The `map_projection` keyword argument is \"\n",
      "/Users/beckermr/mambaforge/envs/rubin-sims/lib/python3.10/site-packages/cartopy/mpl/geoaxes.py:403: UserWarning: The `map_projection` keyword argument is deprecated, use `projection` to instantiate a GeoAxes instead.\n",
      "  warnings.warn(\"The `map_projection` keyword argument is \"\n"
     ]
    },
    {
     "name": "stdout",
     "output_type": "stream",
     "text": [
      "[Parallel(n_jobs=8)]: Done 649 tasks      | elapsed: 38.7min\n",
      "[Parallel(n_jobs=8)]: Done 650 tasks      | elapsed: 38.8min\n"
     ]
    },
    {
     "name": "stderr",
     "output_type": "stream",
     "text": [
      "/Users/beckermr/mambaforge/envs/rubin-sims/lib/python3.10/site-packages/cartopy/mpl/geoaxes.py:403: UserWarning: The `map_projection` keyword argument is deprecated, use `projection` to instantiate a GeoAxes instead.\n",
      "  warnings.warn(\"The `map_projection` keyword argument is \"\n",
      "/Users/beckermr/mambaforge/envs/rubin-sims/lib/python3.10/site-packages/cartopy/mpl/geoaxes.py:403: UserWarning: The `map_projection` keyword argument is deprecated, use `projection` to instantiate a GeoAxes instead.\n",
      "  warnings.warn(\"The `map_projection` keyword argument is \"\n",
      "/Users/beckermr/mambaforge/envs/rubin-sims/lib/python3.10/site-packages/cartopy/mpl/geoaxes.py:403: UserWarning: The `map_projection` keyword argument is deprecated, use `projection` to instantiate a GeoAxes instead.\n",
      "  warnings.warn(\"The `map_projection` keyword argument is \"\n",
      "/Users/beckermr/mambaforge/envs/rubin-sims/lib/python3.10/site-packages/cartopy/mpl/geoaxes.py:403: UserWarning: The `map_projection` keyword argument is deprecated, use `projection` to instantiate a GeoAxes instead.\n",
      "  warnings.warn(\"The `map_projection` keyword argument is \"\n"
     ]
    },
    {
     "name": "stdout",
     "output_type": "stream",
     "text": [
      "[Parallel(n_jobs=8)]: Done 651 tasks      | elapsed: 38.9min\n"
     ]
    },
    {
     "name": "stderr",
     "output_type": "stream",
     "text": [
      "/Users/beckermr/mambaforge/envs/rubin-sims/lib/python3.10/site-packages/cartopy/mpl/geoaxes.py:403: UserWarning: The `map_projection` keyword argument is deprecated, use `projection` to instantiate a GeoAxes instead.\n",
      "  warnings.warn(\"The `map_projection` keyword argument is \"\n",
      "/Users/beckermr/mambaforge/envs/rubin-sims/lib/python3.10/site-packages/cartopy/mpl/geoaxes.py:403: UserWarning: The `map_projection` keyword argument is deprecated, use `projection` to instantiate a GeoAxes instead.\n",
      "  warnings.warn(\"The `map_projection` keyword argument is \"\n"
     ]
    },
    {
     "name": "stdout",
     "output_type": "stream",
     "text": [
      "[Parallel(n_jobs=8)]: Done 652 tasks      | elapsed: 38.9min\n"
     ]
    },
    {
     "name": "stderr",
     "output_type": "stream",
     "text": [
      "/Users/beckermr/mambaforge/envs/rubin-sims/lib/python3.10/site-packages/cartopy/mpl/geoaxes.py:403: UserWarning: The `map_projection` keyword argument is deprecated, use `projection` to instantiate a GeoAxes instead.\n",
      "  warnings.warn(\"The `map_projection` keyword argument is \"\n",
      "/Users/beckermr/mambaforge/envs/rubin-sims/lib/python3.10/site-packages/cartopy/mpl/geoaxes.py:403: UserWarning: The `map_projection` keyword argument is deprecated, use `projection` to instantiate a GeoAxes instead.\n",
      "  warnings.warn(\"The `map_projection` keyword argument is \"\n"
     ]
    },
    {
     "name": "stdout",
     "output_type": "stream",
     "text": [
      "[Parallel(n_jobs=8)]: Done 653 tasks      | elapsed: 38.9min\n"
     ]
    },
    {
     "name": "stderr",
     "output_type": "stream",
     "text": [
      "/Users/beckermr/mambaforge/envs/rubin-sims/lib/python3.10/site-packages/cartopy/mpl/geoaxes.py:403: UserWarning: The `map_projection` keyword argument is deprecated, use `projection` to instantiate a GeoAxes instead.\n",
      "  warnings.warn(\"The `map_projection` keyword argument is \"\n",
      "/Users/beckermr/mambaforge/envs/rubin-sims/lib/python3.10/site-packages/cartopy/mpl/geoaxes.py:403: UserWarning: The `map_projection` keyword argument is deprecated, use `projection` to instantiate a GeoAxes instead.\n",
      "  warnings.warn(\"The `map_projection` keyword argument is \"\n"
     ]
    },
    {
     "name": "stdout",
     "output_type": "stream",
     "text": [
      "[Parallel(n_jobs=8)]: Done 654 tasks      | elapsed: 38.9min\n"
     ]
    },
    {
     "name": "stderr",
     "output_type": "stream",
     "text": [
      "/Users/beckermr/mambaforge/envs/rubin-sims/lib/python3.10/site-packages/cartopy/mpl/geoaxes.py:403: UserWarning: The `map_projection` keyword argument is deprecated, use `projection` to instantiate a GeoAxes instead.\n",
      "  warnings.warn(\"The `map_projection` keyword argument is \"\n",
      "/Users/beckermr/mambaforge/envs/rubin-sims/lib/python3.10/site-packages/cartopy/mpl/geoaxes.py:403: UserWarning: The `map_projection` keyword argument is deprecated, use `projection` to instantiate a GeoAxes instead.\n",
      "  warnings.warn(\"The `map_projection` keyword argument is \"\n"
     ]
    },
    {
     "name": "stdout",
     "output_type": "stream",
     "text": [
      "[Parallel(n_jobs=8)]: Done 655 tasks      | elapsed: 38.9min\n"
     ]
    },
    {
     "name": "stderr",
     "output_type": "stream",
     "text": [
      "/Users/beckermr/mambaforge/envs/rubin-sims/lib/python3.10/site-packages/cartopy/mpl/geoaxes.py:403: UserWarning: The `map_projection` keyword argument is deprecated, use `projection` to instantiate a GeoAxes instead.\n",
      "  warnings.warn(\"The `map_projection` keyword argument is \"\n",
      "/Users/beckermr/mambaforge/envs/rubin-sims/lib/python3.10/site-packages/cartopy/mpl/geoaxes.py:403: UserWarning: The `map_projection` keyword argument is deprecated, use `projection` to instantiate a GeoAxes instead.\n",
      "  warnings.warn(\"The `map_projection` keyword argument is \"\n"
     ]
    },
    {
     "name": "stdout",
     "output_type": "stream",
     "text": [
      "[Parallel(n_jobs=8)]: Done 656 tasks      | elapsed: 39.1min\n"
     ]
    },
    {
     "name": "stderr",
     "output_type": "stream",
     "text": [
      "/Users/beckermr/mambaforge/envs/rubin-sims/lib/python3.10/site-packages/cartopy/mpl/geoaxes.py:403: UserWarning: The `map_projection` keyword argument is deprecated, use `projection` to instantiate a GeoAxes instead.\n",
      "  warnings.warn(\"The `map_projection` keyword argument is \"\n",
      "/Users/beckermr/mambaforge/envs/rubin-sims/lib/python3.10/site-packages/cartopy/mpl/geoaxes.py:403: UserWarning: The `map_projection` keyword argument is deprecated, use `projection` to instantiate a GeoAxes instead.\n",
      "  warnings.warn(\"The `map_projection` keyword argument is \"\n"
     ]
    },
    {
     "name": "stdout",
     "output_type": "stream",
     "text": [
      "[Parallel(n_jobs=8)]: Done 657 tasks      | elapsed: 39.2min\n"
     ]
    },
    {
     "name": "stderr",
     "output_type": "stream",
     "text": [
      "/Users/beckermr/mambaforge/envs/rubin-sims/lib/python3.10/site-packages/cartopy/mpl/geoaxes.py:403: UserWarning: The `map_projection` keyword argument is deprecated, use `projection` to instantiate a GeoAxes instead.\n",
      "  warnings.warn(\"The `map_projection` keyword argument is \"\n",
      "/Users/beckermr/mambaforge/envs/rubin-sims/lib/python3.10/site-packages/cartopy/mpl/geoaxes.py:403: UserWarning: The `map_projection` keyword argument is deprecated, use `projection` to instantiate a GeoAxes instead.\n",
      "  warnings.warn(\"The `map_projection` keyword argument is \"\n"
     ]
    },
    {
     "name": "stdout",
     "output_type": "stream",
     "text": [
      "[Parallel(n_jobs=8)]: Done 658 tasks      | elapsed: 39.2min\n"
     ]
    },
    {
     "name": "stderr",
     "output_type": "stream",
     "text": [
      "/Users/beckermr/mambaforge/envs/rubin-sims/lib/python3.10/site-packages/cartopy/mpl/geoaxes.py:403: UserWarning: The `map_projection` keyword argument is deprecated, use `projection` to instantiate a GeoAxes instead.\n",
      "  warnings.warn(\"The `map_projection` keyword argument is \"\n",
      "/Users/beckermr/mambaforge/envs/rubin-sims/lib/python3.10/site-packages/cartopy/mpl/geoaxes.py:403: UserWarning: The `map_projection` keyword argument is deprecated, use `projection` to instantiate a GeoAxes instead.\n",
      "  warnings.warn(\"The `map_projection` keyword argument is \"\n"
     ]
    },
    {
     "name": "stdout",
     "output_type": "stream",
     "text": [
      "[Parallel(n_jobs=8)]: Done 659 tasks      | elapsed: 39.3min\n"
     ]
    },
    {
     "name": "stderr",
     "output_type": "stream",
     "text": [
      "/Users/beckermr/mambaforge/envs/rubin-sims/lib/python3.10/site-packages/cartopy/mpl/geoaxes.py:403: UserWarning: The `map_projection` keyword argument is deprecated, use `projection` to instantiate a GeoAxes instead.\n",
      "  warnings.warn(\"The `map_projection` keyword argument is \"\n",
      "/Users/beckermr/mambaforge/envs/rubin-sims/lib/python3.10/site-packages/cartopy/mpl/geoaxes.py:403: UserWarning: The `map_projection` keyword argument is deprecated, use `projection` to instantiate a GeoAxes instead.\n",
      "  warnings.warn(\"The `map_projection` keyword argument is \"\n"
     ]
    },
    {
     "name": "stdout",
     "output_type": "stream",
     "text": [
      "[Parallel(n_jobs=8)]: Done 660 tasks      | elapsed: 39.4min\n"
     ]
    },
    {
     "name": "stderr",
     "output_type": "stream",
     "text": [
      "/Users/beckermr/mambaforge/envs/rubin-sims/lib/python3.10/site-packages/cartopy/mpl/geoaxes.py:403: UserWarning: The `map_projection` keyword argument is deprecated, use `projection` to instantiate a GeoAxes instead.\n",
      "  warnings.warn(\"The `map_projection` keyword argument is \"\n",
      "/Users/beckermr/mambaforge/envs/rubin-sims/lib/python3.10/site-packages/cartopy/mpl/geoaxes.py:403: UserWarning: The `map_projection` keyword argument is deprecated, use `projection` to instantiate a GeoAxes instead.\n",
      "  warnings.warn(\"The `map_projection` keyword argument is \"\n"
     ]
    },
    {
     "name": "stdout",
     "output_type": "stream",
     "text": [
      "[Parallel(n_jobs=8)]: Done 661 tasks      | elapsed: 39.4min\n"
     ]
    },
    {
     "name": "stderr",
     "output_type": "stream",
     "text": [
      "/Users/beckermr/mambaforge/envs/rubin-sims/lib/python3.10/site-packages/cartopy/mpl/geoaxes.py:403: UserWarning: The `map_projection` keyword argument is deprecated, use `projection` to instantiate a GeoAxes instead.\n",
      "  warnings.warn(\"The `map_projection` keyword argument is \"\n",
      "/Users/beckermr/mambaforge/envs/rubin-sims/lib/python3.10/site-packages/cartopy/mpl/geoaxes.py:403: UserWarning: The `map_projection` keyword argument is deprecated, use `projection` to instantiate a GeoAxes instead.\n",
      "  warnings.warn(\"The `map_projection` keyword argument is \"\n"
     ]
    },
    {
     "name": "stdout",
     "output_type": "stream",
     "text": [
      "[Parallel(n_jobs=8)]: Done 662 tasks      | elapsed: 39.4min\n",
      "[Parallel(n_jobs=8)]: Done 663 tasks      | elapsed: 39.4min\n"
     ]
    },
    {
     "name": "stderr",
     "output_type": "stream",
     "text": [
      "/Users/beckermr/mambaforge/envs/rubin-sims/lib/python3.10/site-packages/cartopy/mpl/geoaxes.py:403: UserWarning: The `map_projection` keyword argument is deprecated, use `projection` to instantiate a GeoAxes instead.\n",
      "  warnings.warn(\"The `map_projection` keyword argument is \"\n",
      "/Users/beckermr/mambaforge/envs/rubin-sims/lib/python3.10/site-packages/cartopy/mpl/geoaxes.py:403: UserWarning: The `map_projection` keyword argument is deprecated, use `projection` to instantiate a GeoAxes instead.\n",
      "  warnings.warn(\"The `map_projection` keyword argument is \"\n",
      "/Users/beckermr/mambaforge/envs/rubin-sims/lib/python3.10/site-packages/cartopy/mpl/geoaxes.py:403: UserWarning: The `map_projection` keyword argument is deprecated, use `projection` to instantiate a GeoAxes instead.\n",
      "  warnings.warn(\"The `map_projection` keyword argument is \"\n",
      "/Users/beckermr/mambaforge/envs/rubin-sims/lib/python3.10/site-packages/cartopy/mpl/geoaxes.py:403: UserWarning: The `map_projection` keyword argument is deprecated, use `projection` to instantiate a GeoAxes instead.\n",
      "  warnings.warn(\"The `map_projection` keyword argument is \"\n"
     ]
    },
    {
     "name": "stdout",
     "output_type": "stream",
     "text": [
      "[Parallel(n_jobs=8)]: Done 664 tasks      | elapsed: 39.5min\n"
     ]
    },
    {
     "name": "stderr",
     "output_type": "stream",
     "text": [
      "/Users/beckermr/mambaforge/envs/rubin-sims/lib/python3.10/site-packages/cartopy/mpl/geoaxes.py:403: UserWarning: The `map_projection` keyword argument is deprecated, use `projection` to instantiate a GeoAxes instead.\n",
      "  warnings.warn(\"The `map_projection` keyword argument is \"\n",
      "/Users/beckermr/mambaforge/envs/rubin-sims/lib/python3.10/site-packages/cartopy/mpl/geoaxes.py:403: UserWarning: The `map_projection` keyword argument is deprecated, use `projection` to instantiate a GeoAxes instead.\n",
      "  warnings.warn(\"The `map_projection` keyword argument is \"\n"
     ]
    },
    {
     "name": "stdout",
     "output_type": "stream",
     "text": [
      "[Parallel(n_jobs=8)]: Done 665 tasks      | elapsed: 39.7min\n"
     ]
    },
    {
     "name": "stderr",
     "output_type": "stream",
     "text": [
      "/Users/beckermr/mambaforge/envs/rubin-sims/lib/python3.10/site-packages/cartopy/mpl/geoaxes.py:403: UserWarning: The `map_projection` keyword argument is deprecated, use `projection` to instantiate a GeoAxes instead.\n",
      "  warnings.warn(\"The `map_projection` keyword argument is \"\n",
      "/Users/beckermr/mambaforge/envs/rubin-sims/lib/python3.10/site-packages/cartopy/mpl/geoaxes.py:403: UserWarning: The `map_projection` keyword argument is deprecated, use `projection` to instantiate a GeoAxes instead.\n",
      "  warnings.warn(\"The `map_projection` keyword argument is \"\n"
     ]
    },
    {
     "name": "stdout",
     "output_type": "stream",
     "text": [
      "[Parallel(n_jobs=8)]: Done 666 tasks      | elapsed: 39.7min\n"
     ]
    },
    {
     "name": "stderr",
     "output_type": "stream",
     "text": [
      "/Users/beckermr/mambaforge/envs/rubin-sims/lib/python3.10/site-packages/cartopy/mpl/geoaxes.py:403: UserWarning: The `map_projection` keyword argument is deprecated, use `projection` to instantiate a GeoAxes instead.\n",
      "  warnings.warn(\"The `map_projection` keyword argument is \"\n",
      "/Users/beckermr/mambaforge/envs/rubin-sims/lib/python3.10/site-packages/cartopy/mpl/geoaxes.py:403: UserWarning: The `map_projection` keyword argument is deprecated, use `projection` to instantiate a GeoAxes instead.\n",
      "  warnings.warn(\"The `map_projection` keyword argument is \"\n"
     ]
    },
    {
     "name": "stdout",
     "output_type": "stream",
     "text": [
      "[Parallel(n_jobs=8)]: Done 667 tasks      | elapsed: 39.8min\n"
     ]
    },
    {
     "name": "stderr",
     "output_type": "stream",
     "text": [
      "/Users/beckermr/mambaforge/envs/rubin-sims/lib/python3.10/site-packages/cartopy/mpl/geoaxes.py:403: UserWarning: The `map_projection` keyword argument is deprecated, use `projection` to instantiate a GeoAxes instead.\n",
      "  warnings.warn(\"The `map_projection` keyword argument is \"\n",
      "/Users/beckermr/mambaforge/envs/rubin-sims/lib/python3.10/site-packages/cartopy/mpl/geoaxes.py:403: UserWarning: The `map_projection` keyword argument is deprecated, use `projection` to instantiate a GeoAxes instead.\n",
      "  warnings.warn(\"The `map_projection` keyword argument is \"\n"
     ]
    },
    {
     "name": "stdout",
     "output_type": "stream",
     "text": [
      "[Parallel(n_jobs=8)]: Done 668 tasks      | elapsed: 39.8min\n"
     ]
    },
    {
     "name": "stderr",
     "output_type": "stream",
     "text": [
      "/Users/beckermr/mambaforge/envs/rubin-sims/lib/python3.10/site-packages/cartopy/mpl/geoaxes.py:403: UserWarning: The `map_projection` keyword argument is deprecated, use `projection` to instantiate a GeoAxes instead.\n",
      "  warnings.warn(\"The `map_projection` keyword argument is \"\n",
      "/Users/beckermr/mambaforge/envs/rubin-sims/lib/python3.10/site-packages/cartopy/mpl/geoaxes.py:403: UserWarning: The `map_projection` keyword argument is deprecated, use `projection` to instantiate a GeoAxes instead.\n",
      "  warnings.warn(\"The `map_projection` keyword argument is \"\n"
     ]
    },
    {
     "name": "stdout",
     "output_type": "stream",
     "text": [
      "[Parallel(n_jobs=8)]: Done 669 tasks      | elapsed: 39.8min\n",
      "[Parallel(n_jobs=8)]: Done 670 tasks      | elapsed: 39.8min\n"
     ]
    },
    {
     "name": "stderr",
     "output_type": "stream",
     "text": [
      "/Users/beckermr/mambaforge/envs/rubin-sims/lib/python3.10/site-packages/cartopy/mpl/geoaxes.py:403: UserWarning: The `map_projection` keyword argument is deprecated, use `projection` to instantiate a GeoAxes instead.\n",
      "  warnings.warn(\"The `map_projection` keyword argument is \"\n",
      "/Users/beckermr/mambaforge/envs/rubin-sims/lib/python3.10/site-packages/cartopy/mpl/geoaxes.py:403: UserWarning: The `map_projection` keyword argument is deprecated, use `projection` to instantiate a GeoAxes instead.\n",
      "  warnings.warn(\"The `map_projection` keyword argument is \"\n"
     ]
    },
    {
     "name": "stdout",
     "output_type": "stream",
     "text": [
      "[Parallel(n_jobs=8)]: Done 671 tasks      | elapsed: 39.8min\n"
     ]
    },
    {
     "name": "stderr",
     "output_type": "stream",
     "text": [
      "/Users/beckermr/mambaforge/envs/rubin-sims/lib/python3.10/site-packages/cartopy/mpl/geoaxes.py:403: UserWarning: The `map_projection` keyword argument is deprecated, use `projection` to instantiate a GeoAxes instead.\n",
      "  warnings.warn(\"The `map_projection` keyword argument is \"\n",
      "/Users/beckermr/mambaforge/envs/rubin-sims/lib/python3.10/site-packages/cartopy/mpl/geoaxes.py:403: UserWarning: The `map_projection` keyword argument is deprecated, use `projection` to instantiate a GeoAxes instead.\n",
      "  warnings.warn(\"The `map_projection` keyword argument is \"\n",
      "/Users/beckermr/mambaforge/envs/rubin-sims/lib/python3.10/site-packages/cartopy/mpl/geoaxes.py:403: UserWarning: The `map_projection` keyword argument is deprecated, use `projection` to instantiate a GeoAxes instead.\n",
      "  warnings.warn(\"The `map_projection` keyword argument is \"\n",
      "/Users/beckermr/mambaforge/envs/rubin-sims/lib/python3.10/site-packages/cartopy/mpl/geoaxes.py:403: UserWarning: The `map_projection` keyword argument is deprecated, use `projection` to instantiate a GeoAxes instead.\n",
      "  warnings.warn(\"The `map_projection` keyword argument is \"\n"
     ]
    },
    {
     "name": "stdout",
     "output_type": "stream",
     "text": [
      "[Parallel(n_jobs=8)]: Done 672 tasks      | elapsed: 40.0min\n"
     ]
    },
    {
     "name": "stderr",
     "output_type": "stream",
     "text": [
      "/Users/beckermr/mambaforge/envs/rubin-sims/lib/python3.10/site-packages/cartopy/mpl/geoaxes.py:403: UserWarning: The `map_projection` keyword argument is deprecated, use `projection` to instantiate a GeoAxes instead.\n",
      "  warnings.warn(\"The `map_projection` keyword argument is \"\n",
      "/Users/beckermr/mambaforge/envs/rubin-sims/lib/python3.10/site-packages/cartopy/mpl/geoaxes.py:403: UserWarning: The `map_projection` keyword argument is deprecated, use `projection` to instantiate a GeoAxes instead.\n",
      "  warnings.warn(\"The `map_projection` keyword argument is \"\n"
     ]
    },
    {
     "name": "stdout",
     "output_type": "stream",
     "text": [
      "[Parallel(n_jobs=8)]: Done 673 tasks      | elapsed: 40.1min\n"
     ]
    },
    {
     "name": "stderr",
     "output_type": "stream",
     "text": [
      "/Users/beckermr/mambaforge/envs/rubin-sims/lib/python3.10/site-packages/cartopy/mpl/geoaxes.py:403: UserWarning: The `map_projection` keyword argument is deprecated, use `projection` to instantiate a GeoAxes instead.\n",
      "  warnings.warn(\"The `map_projection` keyword argument is \"\n",
      "/Users/beckermr/mambaforge/envs/rubin-sims/lib/python3.10/site-packages/cartopy/mpl/geoaxes.py:403: UserWarning: The `map_projection` keyword argument is deprecated, use `projection` to instantiate a GeoAxes instead.\n",
      "  warnings.warn(\"The `map_projection` keyword argument is \"\n"
     ]
    },
    {
     "name": "stdout",
     "output_type": "stream",
     "text": [
      "[Parallel(n_jobs=8)]: Done 674 tasks      | elapsed: 40.1min\n"
     ]
    },
    {
     "name": "stderr",
     "output_type": "stream",
     "text": [
      "/Users/beckermr/mambaforge/envs/rubin-sims/lib/python3.10/site-packages/cartopy/mpl/geoaxes.py:403: UserWarning: The `map_projection` keyword argument is deprecated, use `projection` to instantiate a GeoAxes instead.\n",
      "  warnings.warn(\"The `map_projection` keyword argument is \"\n",
      "/Users/beckermr/mambaforge/envs/rubin-sims/lib/python3.10/site-packages/cartopy/mpl/geoaxes.py:403: UserWarning: The `map_projection` keyword argument is deprecated, use `projection` to instantiate a GeoAxes instead.\n",
      "  warnings.warn(\"The `map_projection` keyword argument is \"\n"
     ]
    },
    {
     "name": "stdout",
     "output_type": "stream",
     "text": [
      "[Parallel(n_jobs=8)]: Done 675 tasks      | elapsed: 40.2min\n"
     ]
    },
    {
     "name": "stderr",
     "output_type": "stream",
     "text": [
      "/Users/beckermr/mambaforge/envs/rubin-sims/lib/python3.10/site-packages/cartopy/mpl/geoaxes.py:403: UserWarning: The `map_projection` keyword argument is deprecated, use `projection` to instantiate a GeoAxes instead.\n",
      "  warnings.warn(\"The `map_projection` keyword argument is \"\n",
      "/Users/beckermr/mambaforge/envs/rubin-sims/lib/python3.10/site-packages/cartopy/mpl/geoaxes.py:403: UserWarning: The `map_projection` keyword argument is deprecated, use `projection` to instantiate a GeoAxes instead.\n",
      "  warnings.warn(\"The `map_projection` keyword argument is \"\n"
     ]
    },
    {
     "name": "stdout",
     "output_type": "stream",
     "text": [
      "[Parallel(n_jobs=8)]: Done 676 tasks      | elapsed: 40.3min\n"
     ]
    },
    {
     "name": "stderr",
     "output_type": "stream",
     "text": [
      "/Users/beckermr/mambaforge/envs/rubin-sims/lib/python3.10/site-packages/cartopy/mpl/geoaxes.py:403: UserWarning: The `map_projection` keyword argument is deprecated, use `projection` to instantiate a GeoAxes instead.\n",
      "  warnings.warn(\"The `map_projection` keyword argument is \"\n",
      "/Users/beckermr/mambaforge/envs/rubin-sims/lib/python3.10/site-packages/cartopy/mpl/geoaxes.py:403: UserWarning: The `map_projection` keyword argument is deprecated, use `projection` to instantiate a GeoAxes instead.\n",
      "  warnings.warn(\"The `map_projection` keyword argument is \"\n"
     ]
    },
    {
     "name": "stdout",
     "output_type": "stream",
     "text": [
      "[Parallel(n_jobs=8)]: Done 677 tasks      | elapsed: 40.3min\n"
     ]
    },
    {
     "name": "stderr",
     "output_type": "stream",
     "text": [
      "/Users/beckermr/mambaforge/envs/rubin-sims/lib/python3.10/site-packages/cartopy/mpl/geoaxes.py:403: UserWarning: The `map_projection` keyword argument is deprecated, use `projection` to instantiate a GeoAxes instead.\n",
      "  warnings.warn(\"The `map_projection` keyword argument is \"\n",
      "/Users/beckermr/mambaforge/envs/rubin-sims/lib/python3.10/site-packages/cartopy/mpl/geoaxes.py:403: UserWarning: The `map_projection` keyword argument is deprecated, use `projection` to instantiate a GeoAxes instead.\n",
      "  warnings.warn(\"The `map_projection` keyword argument is \"\n"
     ]
    },
    {
     "name": "stdout",
     "output_type": "stream",
     "text": [
      "[Parallel(n_jobs=8)]: Done 678 tasks      | elapsed: 40.3min\n",
      "[Parallel(n_jobs=8)]: Done 679 tasks      | elapsed: 40.3min\n"
     ]
    },
    {
     "name": "stderr",
     "output_type": "stream",
     "text": [
      "/Users/beckermr/mambaforge/envs/rubin-sims/lib/python3.10/site-packages/cartopy/mpl/geoaxes.py:403: UserWarning: The `map_projection` keyword argument is deprecated, use `projection` to instantiate a GeoAxes instead.\n",
      "  warnings.warn(\"The `map_projection` keyword argument is \"\n",
      "/Users/beckermr/mambaforge/envs/rubin-sims/lib/python3.10/site-packages/cartopy/mpl/geoaxes.py:403: UserWarning: The `map_projection` keyword argument is deprecated, use `projection` to instantiate a GeoAxes instead.\n",
      "  warnings.warn(\"The `map_projection` keyword argument is \"\n",
      "/Users/beckermr/mambaforge/envs/rubin-sims/lib/python3.10/site-packages/cartopy/mpl/geoaxes.py:403: UserWarning: The `map_projection` keyword argument is deprecated, use `projection` to instantiate a GeoAxes instead.\n",
      "  warnings.warn(\"The `map_projection` keyword argument is \"\n",
      "/Users/beckermr/mambaforge/envs/rubin-sims/lib/python3.10/site-packages/cartopy/mpl/geoaxes.py:403: UserWarning: The `map_projection` keyword argument is deprecated, use `projection` to instantiate a GeoAxes instead.\n",
      "  warnings.warn(\"The `map_projection` keyword argument is \"\n"
     ]
    },
    {
     "name": "stdout",
     "output_type": "stream",
     "text": [
      "[Parallel(n_jobs=8)]: Done 680 tasks      | elapsed: 40.4min\n"
     ]
    },
    {
     "name": "stderr",
     "output_type": "stream",
     "text": [
      "/Users/beckermr/mambaforge/envs/rubin-sims/lib/python3.10/site-packages/cartopy/mpl/geoaxes.py:403: UserWarning: The `map_projection` keyword argument is deprecated, use `projection` to instantiate a GeoAxes instead.\n",
      "  warnings.warn(\"The `map_projection` keyword argument is \"\n",
      "/Users/beckermr/mambaforge/envs/rubin-sims/lib/python3.10/site-packages/cartopy/mpl/geoaxes.py:403: UserWarning: The `map_projection` keyword argument is deprecated, use `projection` to instantiate a GeoAxes instead.\n",
      "  warnings.warn(\"The `map_projection` keyword argument is \"\n"
     ]
    },
    {
     "name": "stdout",
     "output_type": "stream",
     "text": [
      "[Parallel(n_jobs=8)]: Done 681 tasks      | elapsed: 40.6min\n",
      "[Parallel(n_jobs=8)]: Done 682 tasks      | elapsed: 40.6min\n"
     ]
    },
    {
     "name": "stderr",
     "output_type": "stream",
     "text": [
      "/Users/beckermr/mambaforge/envs/rubin-sims/lib/python3.10/site-packages/cartopy/mpl/geoaxes.py:403: UserWarning: The `map_projection` keyword argument is deprecated, use `projection` to instantiate a GeoAxes instead.\n",
      "  warnings.warn(\"The `map_projection` keyword argument is \"\n",
      "/Users/beckermr/mambaforge/envs/rubin-sims/lib/python3.10/site-packages/cartopy/mpl/geoaxes.py:403: UserWarning: The `map_projection` keyword argument is deprecated, use `projection` to instantiate a GeoAxes instead.\n",
      "  warnings.warn(\"The `map_projection` keyword argument is \"\n",
      "/Users/beckermr/mambaforge/envs/rubin-sims/lib/python3.10/site-packages/cartopy/mpl/geoaxes.py:403: UserWarning: The `map_projection` keyword argument is deprecated, use `projection` to instantiate a GeoAxes instead.\n",
      "  warnings.warn(\"The `map_projection` keyword argument is \"\n",
      "/Users/beckermr/mambaforge/envs/rubin-sims/lib/python3.10/site-packages/cartopy/mpl/geoaxes.py:403: UserWarning: The `map_projection` keyword argument is deprecated, use `projection` to instantiate a GeoAxes instead.\n",
      "  warnings.warn(\"The `map_projection` keyword argument is \"\n"
     ]
    },
    {
     "name": "stdout",
     "output_type": "stream",
     "text": [
      "[Parallel(n_jobs=8)]: Done 683 tasks      | elapsed: 40.7min\n",
      "[Parallel(n_jobs=8)]: Done 684 tasks      | elapsed: 40.7min\n"
     ]
    },
    {
     "name": "stderr",
     "output_type": "stream",
     "text": [
      "/Users/beckermr/mambaforge/envs/rubin-sims/lib/python3.10/site-packages/cartopy/mpl/geoaxes.py:403: UserWarning: The `map_projection` keyword argument is deprecated, use `projection` to instantiate a GeoAxes instead.\n",
      "  warnings.warn(\"The `map_projection` keyword argument is \"\n",
      "/Users/beckermr/mambaforge/envs/rubin-sims/lib/python3.10/site-packages/cartopy/mpl/geoaxes.py:403: UserWarning: The `map_projection` keyword argument is deprecated, use `projection` to instantiate a GeoAxes instead.\n",
      "  warnings.warn(\"The `map_projection` keyword argument is \"\n"
     ]
    },
    {
     "name": "stdout",
     "output_type": "stream",
     "text": [
      "[Parallel(n_jobs=8)]: Done 685 tasks      | elapsed: 40.8min\n"
     ]
    },
    {
     "name": "stderr",
     "output_type": "stream",
     "text": [
      "/Users/beckermr/mambaforge/envs/rubin-sims/lib/python3.10/site-packages/cartopy/mpl/geoaxes.py:403: UserWarning: The `map_projection` keyword argument is deprecated, use `projection` to instantiate a GeoAxes instead.\n",
      "  warnings.warn(\"The `map_projection` keyword argument is \"\n",
      "/Users/beckermr/mambaforge/envs/rubin-sims/lib/python3.10/site-packages/cartopy/mpl/geoaxes.py:403: UserWarning: The `map_projection` keyword argument is deprecated, use `projection` to instantiate a GeoAxes instead.\n",
      "  warnings.warn(\"The `map_projection` keyword argument is \"\n"
     ]
    },
    {
     "name": "stdout",
     "output_type": "stream",
     "text": [
      "[Parallel(n_jobs=8)]: Done 686 tasks      | elapsed: 40.8min\n"
     ]
    },
    {
     "name": "stderr",
     "output_type": "stream",
     "text": [
      "/Users/beckermr/mambaforge/envs/rubin-sims/lib/python3.10/site-packages/cartopy/mpl/geoaxes.py:403: UserWarning: The `map_projection` keyword argument is deprecated, use `projection` to instantiate a GeoAxes instead.\n",
      "  warnings.warn(\"The `map_projection` keyword argument is \"\n",
      "/Users/beckermr/mambaforge/envs/rubin-sims/lib/python3.10/site-packages/cartopy/mpl/geoaxes.py:403: UserWarning: The `map_projection` keyword argument is deprecated, use `projection` to instantiate a GeoAxes instead.\n",
      "  warnings.warn(\"The `map_projection` keyword argument is \"\n"
     ]
    },
    {
     "name": "stdout",
     "output_type": "stream",
     "text": [
      "[Parallel(n_jobs=8)]: Done 687 tasks      | elapsed: 40.8min\n"
     ]
    },
    {
     "name": "stderr",
     "output_type": "stream",
     "text": [
      "/Users/beckermr/mambaforge/envs/rubin-sims/lib/python3.10/site-packages/cartopy/mpl/geoaxes.py:403: UserWarning: The `map_projection` keyword argument is deprecated, use `projection` to instantiate a GeoAxes instead.\n",
      "  warnings.warn(\"The `map_projection` keyword argument is \"\n",
      "/Users/beckermr/mambaforge/envs/rubin-sims/lib/python3.10/site-packages/cartopy/mpl/geoaxes.py:403: UserWarning: The `map_projection` keyword argument is deprecated, use `projection` to instantiate a GeoAxes instead.\n",
      "  warnings.warn(\"The `map_projection` keyword argument is \"\n",
      "/Users/beckermr/mambaforge/envs/rubin-sims/lib/python3.10/site-packages/cartopy/mpl/geoaxes.py:403: UserWarning: The `map_projection` keyword argument is deprecated, use `projection` to instantiate a GeoAxes instead.\n",
      "  warnings.warn(\"The `map_projection` keyword argument is \"\n",
      "/Users/beckermr/mambaforge/envs/rubin-sims/lib/python3.10/site-packages/cartopy/mpl/geoaxes.py:403: UserWarning: The `map_projection` keyword argument is deprecated, use `projection` to instantiate a GeoAxes instead.\n",
      "  warnings.warn(\"The `map_projection` keyword argument is \"\n"
     ]
    },
    {
     "name": "stdout",
     "output_type": "stream",
     "text": [
      "[Parallel(n_jobs=8)]: Done 688 tasks      | elapsed: 40.9min\n"
     ]
    },
    {
     "name": "stderr",
     "output_type": "stream",
     "text": [
      "/Users/beckermr/mambaforge/envs/rubin-sims/lib/python3.10/site-packages/cartopy/mpl/geoaxes.py:403: UserWarning: The `map_projection` keyword argument is deprecated, use `projection` to instantiate a GeoAxes instead.\n",
      "  warnings.warn(\"The `map_projection` keyword argument is \"\n",
      "/Users/beckermr/mambaforge/envs/rubin-sims/lib/python3.10/site-packages/cartopy/mpl/geoaxes.py:403: UserWarning: The `map_projection` keyword argument is deprecated, use `projection` to instantiate a GeoAxes instead.\n",
      "  warnings.warn(\"The `map_projection` keyword argument is \"\n"
     ]
    },
    {
     "name": "stdout",
     "output_type": "stream",
     "text": [
      "[Parallel(n_jobs=8)]: Done 689 tasks      | elapsed: 41.0min\n"
     ]
    },
    {
     "name": "stderr",
     "output_type": "stream",
     "text": [
      "/Users/beckermr/mambaforge/envs/rubin-sims/lib/python3.10/site-packages/cartopy/mpl/geoaxes.py:403: UserWarning: The `map_projection` keyword argument is deprecated, use `projection` to instantiate a GeoAxes instead.\n",
      "  warnings.warn(\"The `map_projection` keyword argument is \"\n",
      "/Users/beckermr/mambaforge/envs/rubin-sims/lib/python3.10/site-packages/cartopy/mpl/geoaxes.py:403: UserWarning: The `map_projection` keyword argument is deprecated, use `projection` to instantiate a GeoAxes instead.\n",
      "  warnings.warn(\"The `map_projection` keyword argument is \"\n"
     ]
    },
    {
     "name": "stdout",
     "output_type": "stream",
     "text": [
      "[Parallel(n_jobs=8)]: Done 690 tasks      | elapsed: 41.1min\n"
     ]
    },
    {
     "name": "stderr",
     "output_type": "stream",
     "text": [
      "/Users/beckermr/mambaforge/envs/rubin-sims/lib/python3.10/site-packages/cartopy/mpl/geoaxes.py:403: UserWarning: The `map_projection` keyword argument is deprecated, use `projection` to instantiate a GeoAxes instead.\n",
      "  warnings.warn(\"The `map_projection` keyword argument is \"\n",
      "/Users/beckermr/mambaforge/envs/rubin-sims/lib/python3.10/site-packages/cartopy/mpl/geoaxes.py:403: UserWarning: The `map_projection` keyword argument is deprecated, use `projection` to instantiate a GeoAxes instead.\n",
      "  warnings.warn(\"The `map_projection` keyword argument is \"\n"
     ]
    },
    {
     "name": "stdout",
     "output_type": "stream",
     "text": [
      "[Parallel(n_jobs=8)]: Done 691 tasks      | elapsed: 41.2min\n"
     ]
    },
    {
     "name": "stderr",
     "output_type": "stream",
     "text": [
      "/Users/beckermr/mambaforge/envs/rubin-sims/lib/python3.10/site-packages/cartopy/mpl/geoaxes.py:403: UserWarning: The `map_projection` keyword argument is deprecated, use `projection` to instantiate a GeoAxes instead.\n",
      "  warnings.warn(\"The `map_projection` keyword argument is \"\n",
      "/Users/beckermr/mambaforge/envs/rubin-sims/lib/python3.10/site-packages/cartopy/mpl/geoaxes.py:403: UserWarning: The `map_projection` keyword argument is deprecated, use `projection` to instantiate a GeoAxes instead.\n",
      "  warnings.warn(\"The `map_projection` keyword argument is \"\n"
     ]
    },
    {
     "name": "stdout",
     "output_type": "stream",
     "text": [
      "[Parallel(n_jobs=8)]: Done 692 tasks      | elapsed: 41.2min\n"
     ]
    },
    {
     "name": "stderr",
     "output_type": "stream",
     "text": [
      "/Users/beckermr/mambaforge/envs/rubin-sims/lib/python3.10/site-packages/cartopy/mpl/geoaxes.py:403: UserWarning: The `map_projection` keyword argument is deprecated, use `projection` to instantiate a GeoAxes instead.\n",
      "  warnings.warn(\"The `map_projection` keyword argument is \"\n",
      "/Users/beckermr/mambaforge/envs/rubin-sims/lib/python3.10/site-packages/cartopy/mpl/geoaxes.py:403: UserWarning: The `map_projection` keyword argument is deprecated, use `projection` to instantiate a GeoAxes instead.\n",
      "  warnings.warn(\"The `map_projection` keyword argument is \"\n"
     ]
    },
    {
     "name": "stdout",
     "output_type": "stream",
     "text": [
      "[Parallel(n_jobs=8)]: Done 693 tasks      | elapsed: 41.2min\n"
     ]
    },
    {
     "name": "stderr",
     "output_type": "stream",
     "text": [
      "/Users/beckermr/mambaforge/envs/rubin-sims/lib/python3.10/site-packages/cartopy/mpl/geoaxes.py:403: UserWarning: The `map_projection` keyword argument is deprecated, use `projection` to instantiate a GeoAxes instead.\n",
      "  warnings.warn(\"The `map_projection` keyword argument is \"\n",
      "/Users/beckermr/mambaforge/envs/rubin-sims/lib/python3.10/site-packages/cartopy/mpl/geoaxes.py:403: UserWarning: The `map_projection` keyword argument is deprecated, use `projection` to instantiate a GeoAxes instead.\n",
      "  warnings.warn(\"The `map_projection` keyword argument is \"\n"
     ]
    },
    {
     "name": "stdout",
     "output_type": "stream",
     "text": [
      "[Parallel(n_jobs=8)]: Done 694 tasks      | elapsed: 41.2min\n"
     ]
    },
    {
     "name": "stderr",
     "output_type": "stream",
     "text": [
      "/Users/beckermr/mambaforge/envs/rubin-sims/lib/python3.10/site-packages/cartopy/mpl/geoaxes.py:403: UserWarning: The `map_projection` keyword argument is deprecated, use `projection` to instantiate a GeoAxes instead.\n",
      "  warnings.warn(\"The `map_projection` keyword argument is \"\n",
      "/Users/beckermr/mambaforge/envs/rubin-sims/lib/python3.10/site-packages/cartopy/mpl/geoaxes.py:403: UserWarning: The `map_projection` keyword argument is deprecated, use `projection` to instantiate a GeoAxes instead.\n",
      "  warnings.warn(\"The `map_projection` keyword argument is \"\n"
     ]
    },
    {
     "name": "stdout",
     "output_type": "stream",
     "text": [
      "[Parallel(n_jobs=8)]: Done 695 tasks      | elapsed: 41.3min\n"
     ]
    },
    {
     "name": "stderr",
     "output_type": "stream",
     "text": [
      "/Users/beckermr/mambaforge/envs/rubin-sims/lib/python3.10/site-packages/cartopy/mpl/geoaxes.py:403: UserWarning: The `map_projection` keyword argument is deprecated, use `projection` to instantiate a GeoAxes instead.\n",
      "  warnings.warn(\"The `map_projection` keyword argument is \"\n",
      "/Users/beckermr/mambaforge/envs/rubin-sims/lib/python3.10/site-packages/cartopy/mpl/geoaxes.py:403: UserWarning: The `map_projection` keyword argument is deprecated, use `projection` to instantiate a GeoAxes instead.\n",
      "  warnings.warn(\"The `map_projection` keyword argument is \"\n"
     ]
    },
    {
     "name": "stdout",
     "output_type": "stream",
     "text": [
      "[Parallel(n_jobs=8)]: Done 696 tasks      | elapsed: 41.3min\n"
     ]
    },
    {
     "name": "stderr",
     "output_type": "stream",
     "text": [
      "/Users/beckermr/mambaforge/envs/rubin-sims/lib/python3.10/site-packages/cartopy/mpl/geoaxes.py:403: UserWarning: The `map_projection` keyword argument is deprecated, use `projection` to instantiate a GeoAxes instead.\n",
      "  warnings.warn(\"The `map_projection` keyword argument is \"\n",
      "/Users/beckermr/mambaforge/envs/rubin-sims/lib/python3.10/site-packages/cartopy/mpl/geoaxes.py:403: UserWarning: The `map_projection` keyword argument is deprecated, use `projection` to instantiate a GeoAxes instead.\n",
      "  warnings.warn(\"The `map_projection` keyword argument is \"\n"
     ]
    },
    {
     "name": "stdout",
     "output_type": "stream",
     "text": [
      "[Parallel(n_jobs=8)]: Done 697 tasks      | elapsed: 41.5min\n",
      "[Parallel(n_jobs=8)]: Done 698 tasks      | elapsed: 41.6min\n"
     ]
    },
    {
     "name": "stderr",
     "output_type": "stream",
     "text": [
      "/Users/beckermr/mambaforge/envs/rubin-sims/lib/python3.10/site-packages/cartopy/mpl/geoaxes.py:403: UserWarning: The `map_projection` keyword argument is deprecated, use `projection` to instantiate a GeoAxes instead.\n",
      "  warnings.warn(\"The `map_projection` keyword argument is \"\n",
      "/Users/beckermr/mambaforge/envs/rubin-sims/lib/python3.10/site-packages/cartopy/mpl/geoaxes.py:403: UserWarning: The `map_projection` keyword argument is deprecated, use `projection` to instantiate a GeoAxes instead.\n",
      "  warnings.warn(\"The `map_projection` keyword argument is \"\n",
      "/Users/beckermr/mambaforge/envs/rubin-sims/lib/python3.10/site-packages/cartopy/mpl/geoaxes.py:403: UserWarning: The `map_projection` keyword argument is deprecated, use `projection` to instantiate a GeoAxes instead.\n",
      "  warnings.warn(\"The `map_projection` keyword argument is \"\n",
      "/Users/beckermr/mambaforge/envs/rubin-sims/lib/python3.10/site-packages/cartopy/mpl/geoaxes.py:403: UserWarning: The `map_projection` keyword argument is deprecated, use `projection` to instantiate a GeoAxes instead.\n",
      "  warnings.warn(\"The `map_projection` keyword argument is \"\n"
     ]
    },
    {
     "name": "stdout",
     "output_type": "stream",
     "text": [
      "[Parallel(n_jobs=8)]: Done 699 tasks      | elapsed: 41.7min\n"
     ]
    },
    {
     "name": "stderr",
     "output_type": "stream",
     "text": [
      "/Users/beckermr/mambaforge/envs/rubin-sims/lib/python3.10/site-packages/cartopy/mpl/geoaxes.py:403: UserWarning: The `map_projection` keyword argument is deprecated, use `projection` to instantiate a GeoAxes instead.\n",
      "  warnings.warn(\"The `map_projection` keyword argument is \"\n",
      "/Users/beckermr/mambaforge/envs/rubin-sims/lib/python3.10/site-packages/cartopy/mpl/geoaxes.py:403: UserWarning: The `map_projection` keyword argument is deprecated, use `projection` to instantiate a GeoAxes instead.\n",
      "  warnings.warn(\"The `map_projection` keyword argument is \"\n"
     ]
    },
    {
     "name": "stdout",
     "output_type": "stream",
     "text": [
      "[Parallel(n_jobs=8)]: Done 700 tasks      | elapsed: 41.7min\n"
     ]
    },
    {
     "name": "stderr",
     "output_type": "stream",
     "text": [
      "/Users/beckermr/mambaforge/envs/rubin-sims/lib/python3.10/site-packages/cartopy/mpl/geoaxes.py:403: UserWarning: The `map_projection` keyword argument is deprecated, use `projection` to instantiate a GeoAxes instead.\n",
      "  warnings.warn(\"The `map_projection` keyword argument is \"\n",
      "/Users/beckermr/mambaforge/envs/rubin-sims/lib/python3.10/site-packages/cartopy/mpl/geoaxes.py:403: UserWarning: The `map_projection` keyword argument is deprecated, use `projection` to instantiate a GeoAxes instead.\n",
      "  warnings.warn(\"The `map_projection` keyword argument is \"\n"
     ]
    },
    {
     "name": "stdout",
     "output_type": "stream",
     "text": [
      "[Parallel(n_jobs=8)]: Done 701 tasks      | elapsed: 41.7min\n"
     ]
    },
    {
     "name": "stderr",
     "output_type": "stream",
     "text": [
      "/Users/beckermr/mambaforge/envs/rubin-sims/lib/python3.10/site-packages/cartopy/mpl/geoaxes.py:403: UserWarning: The `map_projection` keyword argument is deprecated, use `projection` to instantiate a GeoAxes instead.\n",
      "  warnings.warn(\"The `map_projection` keyword argument is \"\n",
      "/Users/beckermr/mambaforge/envs/rubin-sims/lib/python3.10/site-packages/cartopy/mpl/geoaxes.py:403: UserWarning: The `map_projection` keyword argument is deprecated, use `projection` to instantiate a GeoAxes instead.\n",
      "  warnings.warn(\"The `map_projection` keyword argument is \"\n"
     ]
    },
    {
     "name": "stdout",
     "output_type": "stream",
     "text": [
      "[Parallel(n_jobs=8)]: Done 702 tasks      | elapsed: 41.7min\n"
     ]
    },
    {
     "name": "stderr",
     "output_type": "stream",
     "text": [
      "/Users/beckermr/mambaforge/envs/rubin-sims/lib/python3.10/site-packages/cartopy/mpl/geoaxes.py:403: UserWarning: The `map_projection` keyword argument is deprecated, use `projection` to instantiate a GeoAxes instead.\n",
      "  warnings.warn(\"The `map_projection` keyword argument is \"\n",
      "/Users/beckermr/mambaforge/envs/rubin-sims/lib/python3.10/site-packages/cartopy/mpl/geoaxes.py:403: UserWarning: The `map_projection` keyword argument is deprecated, use `projection` to instantiate a GeoAxes instead.\n",
      "  warnings.warn(\"The `map_projection` keyword argument is \"\n"
     ]
    },
    {
     "name": "stdout",
     "output_type": "stream",
     "text": [
      "[Parallel(n_jobs=8)]: Done 703 tasks      | elapsed: 41.7min\n"
     ]
    },
    {
     "name": "stderr",
     "output_type": "stream",
     "text": [
      "/Users/beckermr/mambaforge/envs/rubin-sims/lib/python3.10/site-packages/cartopy/mpl/geoaxes.py:403: UserWarning: The `map_projection` keyword argument is deprecated, use `projection` to instantiate a GeoAxes instead.\n",
      "  warnings.warn(\"The `map_projection` keyword argument is \"\n",
      "/Users/beckermr/mambaforge/envs/rubin-sims/lib/python3.10/site-packages/cartopy/mpl/geoaxes.py:403: UserWarning: The `map_projection` keyword argument is deprecated, use `projection` to instantiate a GeoAxes instead.\n",
      "  warnings.warn(\"The `map_projection` keyword argument is \"\n"
     ]
    },
    {
     "name": "stdout",
     "output_type": "stream",
     "text": [
      "[Parallel(n_jobs=8)]: Done 704 tasks      | elapsed: 41.9min\n"
     ]
    },
    {
     "name": "stderr",
     "output_type": "stream",
     "text": [
      "/Users/beckermr/mambaforge/envs/rubin-sims/lib/python3.10/site-packages/cartopy/mpl/geoaxes.py:403: UserWarning: The `map_projection` keyword argument is deprecated, use `projection` to instantiate a GeoAxes instead.\n",
      "  warnings.warn(\"The `map_projection` keyword argument is \"\n",
      "/Users/beckermr/mambaforge/envs/rubin-sims/lib/python3.10/site-packages/cartopy/mpl/geoaxes.py:403: UserWarning: The `map_projection` keyword argument is deprecated, use `projection` to instantiate a GeoAxes instead.\n",
      "  warnings.warn(\"The `map_projection` keyword argument is \"\n"
     ]
    },
    {
     "name": "stdout",
     "output_type": "stream",
     "text": [
      "[Parallel(n_jobs=8)]: Done 705 tasks      | elapsed: 42.0min\n",
      "[Parallel(n_jobs=8)]: Done 706 tasks      | elapsed: 42.0min\n"
     ]
    },
    {
     "name": "stderr",
     "output_type": "stream",
     "text": [
      "/Users/beckermr/mambaforge/envs/rubin-sims/lib/python3.10/site-packages/cartopy/mpl/geoaxes.py:403: UserWarning: The `map_projection` keyword argument is deprecated, use `projection` to instantiate a GeoAxes instead.\n",
      "  warnings.warn(\"The `map_projection` keyword argument is \"\n",
      "/Users/beckermr/mambaforge/envs/rubin-sims/lib/python3.10/site-packages/cartopy/mpl/geoaxes.py:403: UserWarning: The `map_projection` keyword argument is deprecated, use `projection` to instantiate a GeoAxes instead.\n",
      "  warnings.warn(\"The `map_projection` keyword argument is \"\n",
      "/Users/beckermr/mambaforge/envs/rubin-sims/lib/python3.10/site-packages/cartopy/mpl/geoaxes.py:403: UserWarning: The `map_projection` keyword argument is deprecated, use `projection` to instantiate a GeoAxes instead.\n",
      "  warnings.warn(\"The `map_projection` keyword argument is \"\n",
      "/Users/beckermr/mambaforge/envs/rubin-sims/lib/python3.10/site-packages/cartopy/mpl/geoaxes.py:403: UserWarning: The `map_projection` keyword argument is deprecated, use `projection` to instantiate a GeoAxes instead.\n",
      "  warnings.warn(\"The `map_projection` keyword argument is \"\n"
     ]
    },
    {
     "name": "stdout",
     "output_type": "stream",
     "text": [
      "[Parallel(n_jobs=8)]: Done 707 tasks      | elapsed: 42.1min\n"
     ]
    },
    {
     "name": "stderr",
     "output_type": "stream",
     "text": [
      "/Users/beckermr/mambaforge/envs/rubin-sims/lib/python3.10/site-packages/cartopy/mpl/geoaxes.py:403: UserWarning: The `map_projection` keyword argument is deprecated, use `projection` to instantiate a GeoAxes instead.\n",
      "  warnings.warn(\"The `map_projection` keyword argument is \"\n",
      "/Users/beckermr/mambaforge/envs/rubin-sims/lib/python3.10/site-packages/cartopy/mpl/geoaxes.py:403: UserWarning: The `map_projection` keyword argument is deprecated, use `projection` to instantiate a GeoAxes instead.\n",
      "  warnings.warn(\"The `map_projection` keyword argument is \"\n"
     ]
    },
    {
     "name": "stdout",
     "output_type": "stream",
     "text": [
      "[Parallel(n_jobs=8)]: Done 708 tasks      | elapsed: 42.2min\n"
     ]
    },
    {
     "name": "stderr",
     "output_type": "stream",
     "text": [
      "/Users/beckermr/mambaforge/envs/rubin-sims/lib/python3.10/site-packages/cartopy/mpl/geoaxes.py:403: UserWarning: The `map_projection` keyword argument is deprecated, use `projection` to instantiate a GeoAxes instead.\n",
      "  warnings.warn(\"The `map_projection` keyword argument is \"\n",
      "/Users/beckermr/mambaforge/envs/rubin-sims/lib/python3.10/site-packages/cartopy/mpl/geoaxes.py:403: UserWarning: The `map_projection` keyword argument is deprecated, use `projection` to instantiate a GeoAxes instead.\n",
      "  warnings.warn(\"The `map_projection` keyword argument is \"\n"
     ]
    },
    {
     "name": "stdout",
     "output_type": "stream",
     "text": [
      "[Parallel(n_jobs=8)]: Done 709 tasks      | elapsed: 42.2min\n"
     ]
    },
    {
     "name": "stderr",
     "output_type": "stream",
     "text": [
      "/Users/beckermr/mambaforge/envs/rubin-sims/lib/python3.10/site-packages/cartopy/mpl/geoaxes.py:403: UserWarning: The `map_projection` keyword argument is deprecated, use `projection` to instantiate a GeoAxes instead.\n",
      "  warnings.warn(\"The `map_projection` keyword argument is \"\n",
      "/Users/beckermr/mambaforge/envs/rubin-sims/lib/python3.10/site-packages/cartopy/mpl/geoaxes.py:403: UserWarning: The `map_projection` keyword argument is deprecated, use `projection` to instantiate a GeoAxes instead.\n",
      "  warnings.warn(\"The `map_projection` keyword argument is \"\n"
     ]
    },
    {
     "name": "stdout",
     "output_type": "stream",
     "text": [
      "[Parallel(n_jobs=8)]: Done 710 tasks      | elapsed: 42.2min\n"
     ]
    },
    {
     "name": "stderr",
     "output_type": "stream",
     "text": [
      "/Users/beckermr/mambaforge/envs/rubin-sims/lib/python3.10/site-packages/cartopy/mpl/geoaxes.py:403: UserWarning: The `map_projection` keyword argument is deprecated, use `projection` to instantiate a GeoAxes instead.\n",
      "  warnings.warn(\"The `map_projection` keyword argument is \"\n",
      "/Users/beckermr/mambaforge/envs/rubin-sims/lib/python3.10/site-packages/cartopy/mpl/geoaxes.py:403: UserWarning: The `map_projection` keyword argument is deprecated, use `projection` to instantiate a GeoAxes instead.\n",
      "  warnings.warn(\"The `map_projection` keyword argument is \"\n"
     ]
    },
    {
     "name": "stdout",
     "output_type": "stream",
     "text": [
      "[Parallel(n_jobs=8)]: Done 711 tasks      | elapsed: 42.2min\n"
     ]
    },
    {
     "name": "stderr",
     "output_type": "stream",
     "text": [
      "/Users/beckermr/mambaforge/envs/rubin-sims/lib/python3.10/site-packages/cartopy/mpl/geoaxes.py:403: UserWarning: The `map_projection` keyword argument is deprecated, use `projection` to instantiate a GeoAxes instead.\n",
      "  warnings.warn(\"The `map_projection` keyword argument is \"\n",
      "/Users/beckermr/mambaforge/envs/rubin-sims/lib/python3.10/site-packages/cartopy/mpl/geoaxes.py:403: UserWarning: The `map_projection` keyword argument is deprecated, use `projection` to instantiate a GeoAxes instead.\n",
      "  warnings.warn(\"The `map_projection` keyword argument is \"\n"
     ]
    },
    {
     "name": "stdout",
     "output_type": "stream",
     "text": [
      "[Parallel(n_jobs=8)]: Done 712 tasks      | elapsed: 42.3min\n"
     ]
    },
    {
     "name": "stderr",
     "output_type": "stream",
     "text": [
      "/Users/beckermr/mambaforge/envs/rubin-sims/lib/python3.10/site-packages/cartopy/mpl/geoaxes.py:403: UserWarning: The `map_projection` keyword argument is deprecated, use `projection` to instantiate a GeoAxes instead.\n",
      "  warnings.warn(\"The `map_projection` keyword argument is \"\n",
      "/Users/beckermr/mambaforge/envs/rubin-sims/lib/python3.10/site-packages/cartopy/mpl/geoaxes.py:403: UserWarning: The `map_projection` keyword argument is deprecated, use `projection` to instantiate a GeoAxes instead.\n",
      "  warnings.warn(\"The `map_projection` keyword argument is \"\n"
     ]
    },
    {
     "name": "stdout",
     "output_type": "stream",
     "text": [
      "[Parallel(n_jobs=8)]: Done 713 tasks      | elapsed: 42.5min\n"
     ]
    },
    {
     "name": "stderr",
     "output_type": "stream",
     "text": [
      "/Users/beckermr/mambaforge/envs/rubin-sims/lib/python3.10/site-packages/cartopy/mpl/geoaxes.py:403: UserWarning: The `map_projection` keyword argument is deprecated, use `projection` to instantiate a GeoAxes instead.\n",
      "  warnings.warn(\"The `map_projection` keyword argument is \"\n",
      "/Users/beckermr/mambaforge/envs/rubin-sims/lib/python3.10/site-packages/cartopy/mpl/geoaxes.py:403: UserWarning: The `map_projection` keyword argument is deprecated, use `projection` to instantiate a GeoAxes instead.\n",
      "  warnings.warn(\"The `map_projection` keyword argument is \"\n"
     ]
    },
    {
     "name": "stdout",
     "output_type": "stream",
     "text": [
      "[Parallel(n_jobs=8)]: Done 714 tasks      | elapsed: 42.5min\n"
     ]
    },
    {
     "name": "stderr",
     "output_type": "stream",
     "text": [
      "/Users/beckermr/mambaforge/envs/rubin-sims/lib/python3.10/site-packages/cartopy/mpl/geoaxes.py:403: UserWarning: The `map_projection` keyword argument is deprecated, use `projection` to instantiate a GeoAxes instead.\n",
      "  warnings.warn(\"The `map_projection` keyword argument is \"\n",
      "/Users/beckermr/mambaforge/envs/rubin-sims/lib/python3.10/site-packages/cartopy/mpl/geoaxes.py:403: UserWarning: The `map_projection` keyword argument is deprecated, use `projection` to instantiate a GeoAxes instead.\n",
      "  warnings.warn(\"The `map_projection` keyword argument is \"\n"
     ]
    },
    {
     "name": "stdout",
     "output_type": "stream",
     "text": [
      "[Parallel(n_jobs=8)]: Done 715 tasks      | elapsed: 42.6min\n"
     ]
    },
    {
     "name": "stderr",
     "output_type": "stream",
     "text": [
      "/Users/beckermr/mambaforge/envs/rubin-sims/lib/python3.10/site-packages/cartopy/mpl/geoaxes.py:403: UserWarning: The `map_projection` keyword argument is deprecated, use `projection` to instantiate a GeoAxes instead.\n",
      "  warnings.warn(\"The `map_projection` keyword argument is \"\n",
      "/Users/beckermr/mambaforge/envs/rubin-sims/lib/python3.10/site-packages/cartopy/mpl/geoaxes.py:403: UserWarning: The `map_projection` keyword argument is deprecated, use `projection` to instantiate a GeoAxes instead.\n",
      "  warnings.warn(\"The `map_projection` keyword argument is \"\n"
     ]
    },
    {
     "name": "stdout",
     "output_type": "stream",
     "text": [
      "[Parallel(n_jobs=8)]: Done 716 tasks      | elapsed: 42.7min\n"
     ]
    },
    {
     "name": "stderr",
     "output_type": "stream",
     "text": [
      "/Users/beckermr/mambaforge/envs/rubin-sims/lib/python3.10/site-packages/cartopy/mpl/geoaxes.py:403: UserWarning: The `map_projection` keyword argument is deprecated, use `projection` to instantiate a GeoAxes instead.\n",
      "  warnings.warn(\"The `map_projection` keyword argument is \"\n",
      "/Users/beckermr/mambaforge/envs/rubin-sims/lib/python3.10/site-packages/cartopy/mpl/geoaxes.py:403: UserWarning: The `map_projection` keyword argument is deprecated, use `projection` to instantiate a GeoAxes instead.\n",
      "  warnings.warn(\"The `map_projection` keyword argument is \"\n"
     ]
    },
    {
     "name": "stdout",
     "output_type": "stream",
     "text": [
      "[Parallel(n_jobs=8)]: Done 717 tasks      | elapsed: 42.7min\n"
     ]
    },
    {
     "name": "stderr",
     "output_type": "stream",
     "text": [
      "/Users/beckermr/mambaforge/envs/rubin-sims/lib/python3.10/site-packages/cartopy/mpl/geoaxes.py:403: UserWarning: The `map_projection` keyword argument is deprecated, use `projection` to instantiate a GeoAxes instead.\n",
      "  warnings.warn(\"The `map_projection` keyword argument is \"\n",
      "/Users/beckermr/mambaforge/envs/rubin-sims/lib/python3.10/site-packages/cartopy/mpl/geoaxes.py:403: UserWarning: The `map_projection` keyword argument is deprecated, use `projection` to instantiate a GeoAxes instead.\n",
      "  warnings.warn(\"The `map_projection` keyword argument is \"\n"
     ]
    },
    {
     "name": "stdout",
     "output_type": "stream",
     "text": [
      "[Parallel(n_jobs=8)]: Done 718 tasks      | elapsed: 42.7min\n"
     ]
    },
    {
     "name": "stderr",
     "output_type": "stream",
     "text": [
      "/Users/beckermr/mambaforge/envs/rubin-sims/lib/python3.10/site-packages/cartopy/mpl/geoaxes.py:403: UserWarning: The `map_projection` keyword argument is deprecated, use `projection` to instantiate a GeoAxes instead.\n",
      "  warnings.warn(\"The `map_projection` keyword argument is \"\n",
      "/Users/beckermr/mambaforge/envs/rubin-sims/lib/python3.10/site-packages/cartopy/mpl/geoaxes.py:403: UserWarning: The `map_projection` keyword argument is deprecated, use `projection` to instantiate a GeoAxes instead.\n",
      "  warnings.warn(\"The `map_projection` keyword argument is \"\n"
     ]
    },
    {
     "name": "stdout",
     "output_type": "stream",
     "text": [
      "[Parallel(n_jobs=8)]: Done 719 tasks      | elapsed: 42.7min\n"
     ]
    },
    {
     "name": "stderr",
     "output_type": "stream",
     "text": [
      "/Users/beckermr/mambaforge/envs/rubin-sims/lib/python3.10/site-packages/cartopy/mpl/geoaxes.py:403: UserWarning: The `map_projection` keyword argument is deprecated, use `projection` to instantiate a GeoAxes instead.\n",
      "  warnings.warn(\"The `map_projection` keyword argument is \"\n",
      "/Users/beckermr/mambaforge/envs/rubin-sims/lib/python3.10/site-packages/cartopy/mpl/geoaxes.py:403: UserWarning: The `map_projection` keyword argument is deprecated, use `projection` to instantiate a GeoAxes instead.\n",
      "  warnings.warn(\"The `map_projection` keyword argument is \"\n"
     ]
    },
    {
     "name": "stdout",
     "output_type": "stream",
     "text": [
      "[Parallel(n_jobs=8)]: Done 720 tasks      | elapsed: 42.8min\n"
     ]
    },
    {
     "name": "stderr",
     "output_type": "stream",
     "text": [
      "/Users/beckermr/mambaforge/envs/rubin-sims/lib/python3.10/site-packages/cartopy/mpl/geoaxes.py:403: UserWarning: The `map_projection` keyword argument is deprecated, use `projection` to instantiate a GeoAxes instead.\n",
      "  warnings.warn(\"The `map_projection` keyword argument is \"\n",
      "/Users/beckermr/mambaforge/envs/rubin-sims/lib/python3.10/site-packages/cartopy/mpl/geoaxes.py:403: UserWarning: The `map_projection` keyword argument is deprecated, use `projection` to instantiate a GeoAxes instead.\n",
      "  warnings.warn(\"The `map_projection` keyword argument is \"\n"
     ]
    },
    {
     "name": "stdout",
     "output_type": "stream",
     "text": [
      "[Parallel(n_jobs=8)]: Done 721 tasks      | elapsed: 43.0min\n"
     ]
    },
    {
     "name": "stderr",
     "output_type": "stream",
     "text": [
      "/Users/beckermr/mambaforge/envs/rubin-sims/lib/python3.10/site-packages/cartopy/mpl/geoaxes.py:403: UserWarning: The `map_projection` keyword argument is deprecated, use `projection` to instantiate a GeoAxes instead.\n",
      "  warnings.warn(\"The `map_projection` keyword argument is \"\n",
      "/Users/beckermr/mambaforge/envs/rubin-sims/lib/python3.10/site-packages/cartopy/mpl/geoaxes.py:403: UserWarning: The `map_projection` keyword argument is deprecated, use `projection` to instantiate a GeoAxes instead.\n",
      "  warnings.warn(\"The `map_projection` keyword argument is \"\n"
     ]
    },
    {
     "name": "stdout",
     "output_type": "stream",
     "text": [
      "[Parallel(n_jobs=8)]: Done 722 tasks      | elapsed: 43.1min\n"
     ]
    },
    {
     "name": "stderr",
     "output_type": "stream",
     "text": [
      "/Users/beckermr/mambaforge/envs/rubin-sims/lib/python3.10/site-packages/cartopy/mpl/geoaxes.py:403: UserWarning: The `map_projection` keyword argument is deprecated, use `projection` to instantiate a GeoAxes instead.\n",
      "  warnings.warn(\"The `map_projection` keyword argument is \"\n",
      "/Users/beckermr/mambaforge/envs/rubin-sims/lib/python3.10/site-packages/cartopy/mpl/geoaxes.py:403: UserWarning: The `map_projection` keyword argument is deprecated, use `projection` to instantiate a GeoAxes instead.\n",
      "  warnings.warn(\"The `map_projection` keyword argument is \"\n"
     ]
    },
    {
     "name": "stdout",
     "output_type": "stream",
     "text": [
      "[Parallel(n_jobs=8)]: Done 723 tasks      | elapsed: 43.2min\n"
     ]
    },
    {
     "name": "stderr",
     "output_type": "stream",
     "text": [
      "/Users/beckermr/mambaforge/envs/rubin-sims/lib/python3.10/site-packages/cartopy/mpl/geoaxes.py:403: UserWarning: The `map_projection` keyword argument is deprecated, use `projection` to instantiate a GeoAxes instead.\n",
      "  warnings.warn(\"The `map_projection` keyword argument is \"\n",
      "/Users/beckermr/mambaforge/envs/rubin-sims/lib/python3.10/site-packages/cartopy/mpl/geoaxes.py:403: UserWarning: The `map_projection` keyword argument is deprecated, use `projection` to instantiate a GeoAxes instead.\n",
      "  warnings.warn(\"The `map_projection` keyword argument is \"\n"
     ]
    },
    {
     "name": "stdout",
     "output_type": "stream",
     "text": [
      "[Parallel(n_jobs=8)]: Done 724 tasks      | elapsed: 43.2min\n"
     ]
    },
    {
     "name": "stderr",
     "output_type": "stream",
     "text": [
      "/Users/beckermr/mambaforge/envs/rubin-sims/lib/python3.10/site-packages/cartopy/mpl/geoaxes.py:403: UserWarning: The `map_projection` keyword argument is deprecated, use `projection` to instantiate a GeoAxes instead.\n",
      "  warnings.warn(\"The `map_projection` keyword argument is \"\n",
      "/Users/beckermr/mambaforge/envs/rubin-sims/lib/python3.10/site-packages/cartopy/mpl/geoaxes.py:403: UserWarning: The `map_projection` keyword argument is deprecated, use `projection` to instantiate a GeoAxes instead.\n",
      "  warnings.warn(\"The `map_projection` keyword argument is \"\n"
     ]
    },
    {
     "name": "stdout",
     "output_type": "stream",
     "text": [
      "[Parallel(n_jobs=8)]: Done 725 tasks      | elapsed: 43.2min\n"
     ]
    },
    {
     "name": "stderr",
     "output_type": "stream",
     "text": [
      "/Users/beckermr/mambaforge/envs/rubin-sims/lib/python3.10/site-packages/cartopy/mpl/geoaxes.py:403: UserWarning: The `map_projection` keyword argument is deprecated, use `projection` to instantiate a GeoAxes instead.\n",
      "  warnings.warn(\"The `map_projection` keyword argument is \"\n",
      "/Users/beckermr/mambaforge/envs/rubin-sims/lib/python3.10/site-packages/cartopy/mpl/geoaxes.py:403: UserWarning: The `map_projection` keyword argument is deprecated, use `projection` to instantiate a GeoAxes instead.\n",
      "  warnings.warn(\"The `map_projection` keyword argument is \"\n"
     ]
    },
    {
     "name": "stdout",
     "output_type": "stream",
     "text": [
      "[Parallel(n_jobs=8)]: Done 726 tasks      | elapsed: 43.3min\n"
     ]
    },
    {
     "name": "stderr",
     "output_type": "stream",
     "text": [
      "/Users/beckermr/mambaforge/envs/rubin-sims/lib/python3.10/site-packages/cartopy/mpl/geoaxes.py:403: UserWarning: The `map_projection` keyword argument is deprecated, use `projection` to instantiate a GeoAxes instead.\n",
      "  warnings.warn(\"The `map_projection` keyword argument is \"\n",
      "/Users/beckermr/mambaforge/envs/rubin-sims/lib/python3.10/site-packages/cartopy/mpl/geoaxes.py:403: UserWarning: The `map_projection` keyword argument is deprecated, use `projection` to instantiate a GeoAxes instead.\n",
      "  warnings.warn(\"The `map_projection` keyword argument is \"\n"
     ]
    },
    {
     "name": "stdout",
     "output_type": "stream",
     "text": [
      "[Parallel(n_jobs=8)]: Done 727 tasks      | elapsed: 43.3min\n"
     ]
    },
    {
     "name": "stderr",
     "output_type": "stream",
     "text": [
      "/Users/beckermr/mambaforge/envs/rubin-sims/lib/python3.10/site-packages/cartopy/mpl/geoaxes.py:403: UserWarning: The `map_projection` keyword argument is deprecated, use `projection` to instantiate a GeoAxes instead.\n",
      "  warnings.warn(\"The `map_projection` keyword argument is \"\n",
      "/Users/beckermr/mambaforge/envs/rubin-sims/lib/python3.10/site-packages/cartopy/mpl/geoaxes.py:403: UserWarning: The `map_projection` keyword argument is deprecated, use `projection` to instantiate a GeoAxes instead.\n",
      "  warnings.warn(\"The `map_projection` keyword argument is \"\n"
     ]
    },
    {
     "name": "stdout",
     "output_type": "stream",
     "text": [
      "[Parallel(n_jobs=8)]: Done 728 tasks      | elapsed: 43.4min\n"
     ]
    },
    {
     "name": "stderr",
     "output_type": "stream",
     "text": [
      "/Users/beckermr/mambaforge/envs/rubin-sims/lib/python3.10/site-packages/cartopy/mpl/geoaxes.py:403: UserWarning: The `map_projection` keyword argument is deprecated, use `projection` to instantiate a GeoAxes instead.\n",
      "  warnings.warn(\"The `map_projection` keyword argument is \"\n",
      "/Users/beckermr/mambaforge/envs/rubin-sims/lib/python3.10/site-packages/cartopy/mpl/geoaxes.py:403: UserWarning: The `map_projection` keyword argument is deprecated, use `projection` to instantiate a GeoAxes instead.\n",
      "  warnings.warn(\"The `map_projection` keyword argument is \"\n"
     ]
    },
    {
     "name": "stdout",
     "output_type": "stream",
     "text": [
      "[Parallel(n_jobs=8)]: Done 729 tasks      | elapsed: 43.7min\n"
     ]
    },
    {
     "name": "stderr",
     "output_type": "stream",
     "text": [
      "/Users/beckermr/mambaforge/envs/rubin-sims/lib/python3.10/site-packages/cartopy/mpl/geoaxes.py:403: UserWarning: The `map_projection` keyword argument is deprecated, use `projection` to instantiate a GeoAxes instead.\n",
      "  warnings.warn(\"The `map_projection` keyword argument is \"\n",
      "/Users/beckermr/mambaforge/envs/rubin-sims/lib/python3.10/site-packages/cartopy/mpl/geoaxes.py:403: UserWarning: The `map_projection` keyword argument is deprecated, use `projection` to instantiate a GeoAxes instead.\n",
      "  warnings.warn(\"The `map_projection` keyword argument is \"\n"
     ]
    },
    {
     "name": "stdout",
     "output_type": "stream",
     "text": [
      "[Parallel(n_jobs=8)]: Done 730 tasks      | elapsed: 43.7min\n"
     ]
    },
    {
     "name": "stderr",
     "output_type": "stream",
     "text": [
      "/Users/beckermr/mambaforge/envs/rubin-sims/lib/python3.10/site-packages/cartopy/mpl/geoaxes.py:403: UserWarning: The `map_projection` keyword argument is deprecated, use `projection` to instantiate a GeoAxes instead.\n",
      "  warnings.warn(\"The `map_projection` keyword argument is \"\n",
      "/Users/beckermr/mambaforge/envs/rubin-sims/lib/python3.10/site-packages/cartopy/mpl/geoaxes.py:403: UserWarning: The `map_projection` keyword argument is deprecated, use `projection` to instantiate a GeoAxes instead.\n",
      "  warnings.warn(\"The `map_projection` keyword argument is \"\n"
     ]
    },
    {
     "name": "stdout",
     "output_type": "stream",
     "text": [
      "[Parallel(n_jobs=8)]: Done 731 tasks      | elapsed: 43.8min\n"
     ]
    },
    {
     "name": "stderr",
     "output_type": "stream",
     "text": [
      "/Users/beckermr/mambaforge/envs/rubin-sims/lib/python3.10/site-packages/cartopy/mpl/geoaxes.py:403: UserWarning: The `map_projection` keyword argument is deprecated, use `projection` to instantiate a GeoAxes instead.\n",
      "  warnings.warn(\"The `map_projection` keyword argument is \"\n",
      "/Users/beckermr/mambaforge/envs/rubin-sims/lib/python3.10/site-packages/cartopy/mpl/geoaxes.py:403: UserWarning: The `map_projection` keyword argument is deprecated, use `projection` to instantiate a GeoAxes instead.\n",
      "  warnings.warn(\"The `map_projection` keyword argument is \"\n"
     ]
    },
    {
     "name": "stdout",
     "output_type": "stream",
     "text": [
      "[Parallel(n_jobs=8)]: Done 732 tasks      | elapsed: 43.8min\n"
     ]
    },
    {
     "name": "stderr",
     "output_type": "stream",
     "text": [
      "/Users/beckermr/mambaforge/envs/rubin-sims/lib/python3.10/site-packages/cartopy/mpl/geoaxes.py:403: UserWarning: The `map_projection` keyword argument is deprecated, use `projection` to instantiate a GeoAxes instead.\n",
      "  warnings.warn(\"The `map_projection` keyword argument is \"\n",
      "/Users/beckermr/mambaforge/envs/rubin-sims/lib/python3.10/site-packages/cartopy/mpl/geoaxes.py:403: UserWarning: The `map_projection` keyword argument is deprecated, use `projection` to instantiate a GeoAxes instead.\n",
      "  warnings.warn(\"The `map_projection` keyword argument is \"\n"
     ]
    },
    {
     "name": "stdout",
     "output_type": "stream",
     "text": [
      "[Parallel(n_jobs=8)]: Done 733 tasks      | elapsed: 43.9min\n"
     ]
    },
    {
     "name": "stderr",
     "output_type": "stream",
     "text": [
      "/Users/beckermr/mambaforge/envs/rubin-sims/lib/python3.10/site-packages/cartopy/mpl/geoaxes.py:403: UserWarning: The `map_projection` keyword argument is deprecated, use `projection` to instantiate a GeoAxes instead.\n",
      "  warnings.warn(\"The `map_projection` keyword argument is \"\n",
      "/Users/beckermr/mambaforge/envs/rubin-sims/lib/python3.10/site-packages/cartopy/mpl/geoaxes.py:403: UserWarning: The `map_projection` keyword argument is deprecated, use `projection` to instantiate a GeoAxes instead.\n",
      "  warnings.warn(\"The `map_projection` keyword argument is \"\n"
     ]
    },
    {
     "name": "stdout",
     "output_type": "stream",
     "text": [
      "[Parallel(n_jobs=8)]: Done 734 tasks      | elapsed: 43.9min\n"
     ]
    },
    {
     "name": "stderr",
     "output_type": "stream",
     "text": [
      "/Users/beckermr/mambaforge/envs/rubin-sims/lib/python3.10/site-packages/cartopy/mpl/geoaxes.py:403: UserWarning: The `map_projection` keyword argument is deprecated, use `projection` to instantiate a GeoAxes instead.\n",
      "  warnings.warn(\"The `map_projection` keyword argument is \"\n",
      "/Users/beckermr/mambaforge/envs/rubin-sims/lib/python3.10/site-packages/cartopy/mpl/geoaxes.py:403: UserWarning: The `map_projection` keyword argument is deprecated, use `projection` to instantiate a GeoAxes instead.\n",
      "  warnings.warn(\"The `map_projection` keyword argument is \"\n"
     ]
    },
    {
     "name": "stdout",
     "output_type": "stream",
     "text": [
      "[Parallel(n_jobs=8)]: Done 735 tasks      | elapsed: 43.9min\n"
     ]
    },
    {
     "name": "stderr",
     "output_type": "stream",
     "text": [
      "/Users/beckermr/mambaforge/envs/rubin-sims/lib/python3.10/site-packages/cartopy/mpl/geoaxes.py:403: UserWarning: The `map_projection` keyword argument is deprecated, use `projection` to instantiate a GeoAxes instead.\n",
      "  warnings.warn(\"The `map_projection` keyword argument is \"\n",
      "/Users/beckermr/mambaforge/envs/rubin-sims/lib/python3.10/site-packages/cartopy/mpl/geoaxes.py:403: UserWarning: The `map_projection` keyword argument is deprecated, use `projection` to instantiate a GeoAxes instead.\n",
      "  warnings.warn(\"The `map_projection` keyword argument is \"\n"
     ]
    },
    {
     "name": "stdout",
     "output_type": "stream",
     "text": [
      "[Parallel(n_jobs=8)]: Done 736 tasks      | elapsed: 44.0min\n"
     ]
    },
    {
     "name": "stderr",
     "output_type": "stream",
     "text": [
      "/Users/beckermr/mambaforge/envs/rubin-sims/lib/python3.10/site-packages/cartopy/mpl/geoaxes.py:403: UserWarning: The `map_projection` keyword argument is deprecated, use `projection` to instantiate a GeoAxes instead.\n",
      "  warnings.warn(\"The `map_projection` keyword argument is \"\n",
      "/Users/beckermr/mambaforge/envs/rubin-sims/lib/python3.10/site-packages/cartopy/mpl/geoaxes.py:403: UserWarning: The `map_projection` keyword argument is deprecated, use `projection` to instantiate a GeoAxes instead.\n",
      "  warnings.warn(\"The `map_projection` keyword argument is \"\n"
     ]
    },
    {
     "name": "stdout",
     "output_type": "stream",
     "text": [
      "[Parallel(n_jobs=8)]: Done 737 tasks      | elapsed: 44.2min\n"
     ]
    },
    {
     "name": "stderr",
     "output_type": "stream",
     "text": [
      "/Users/beckermr/mambaforge/envs/rubin-sims/lib/python3.10/site-packages/cartopy/mpl/geoaxes.py:403: UserWarning: The `map_projection` keyword argument is deprecated, use `projection` to instantiate a GeoAxes instead.\n",
      "  warnings.warn(\"The `map_projection` keyword argument is \"\n",
      "/Users/beckermr/mambaforge/envs/rubin-sims/lib/python3.10/site-packages/cartopy/mpl/geoaxes.py:403: UserWarning: The `map_projection` keyword argument is deprecated, use `projection` to instantiate a GeoAxes instead.\n",
      "  warnings.warn(\"The `map_projection` keyword argument is \"\n"
     ]
    },
    {
     "name": "stdout",
     "output_type": "stream",
     "text": [
      "[Parallel(n_jobs=8)]: Done 738 tasks      | elapsed: 44.3min\n"
     ]
    },
    {
     "name": "stderr",
     "output_type": "stream",
     "text": [
      "/Users/beckermr/mambaforge/envs/rubin-sims/lib/python3.10/site-packages/cartopy/mpl/geoaxes.py:403: UserWarning: The `map_projection` keyword argument is deprecated, use `projection` to instantiate a GeoAxes instead.\n",
      "  warnings.warn(\"The `map_projection` keyword argument is \"\n",
      "/Users/beckermr/mambaforge/envs/rubin-sims/lib/python3.10/site-packages/cartopy/mpl/geoaxes.py:403: UserWarning: The `map_projection` keyword argument is deprecated, use `projection` to instantiate a GeoAxes instead.\n",
      "  warnings.warn(\"The `map_projection` keyword argument is \"\n"
     ]
    },
    {
     "name": "stdout",
     "output_type": "stream",
     "text": [
      "[Parallel(n_jobs=8)]: Done 739 tasks      | elapsed: 44.4min\n"
     ]
    },
    {
     "name": "stderr",
     "output_type": "stream",
     "text": [
      "/Users/beckermr/mambaforge/envs/rubin-sims/lib/python3.10/site-packages/cartopy/mpl/geoaxes.py:403: UserWarning: The `map_projection` keyword argument is deprecated, use `projection` to instantiate a GeoAxes instead.\n",
      "  warnings.warn(\"The `map_projection` keyword argument is \"\n",
      "/Users/beckermr/mambaforge/envs/rubin-sims/lib/python3.10/site-packages/cartopy/mpl/geoaxes.py:403: UserWarning: The `map_projection` keyword argument is deprecated, use `projection` to instantiate a GeoAxes instead.\n",
      "  warnings.warn(\"The `map_projection` keyword argument is \"\n"
     ]
    },
    {
     "name": "stdout",
     "output_type": "stream",
     "text": [
      "[Parallel(n_jobs=8)]: Done 740 tasks      | elapsed: 44.4min\n"
     ]
    },
    {
     "name": "stderr",
     "output_type": "stream",
     "text": [
      "/Users/beckermr/mambaforge/envs/rubin-sims/lib/python3.10/site-packages/cartopy/mpl/geoaxes.py:403: UserWarning: The `map_projection` keyword argument is deprecated, use `projection` to instantiate a GeoAxes instead.\n",
      "  warnings.warn(\"The `map_projection` keyword argument is \"\n",
      "/Users/beckermr/mambaforge/envs/rubin-sims/lib/python3.10/site-packages/cartopy/mpl/geoaxes.py:403: UserWarning: The `map_projection` keyword argument is deprecated, use `projection` to instantiate a GeoAxes instead.\n",
      "  warnings.warn(\"The `map_projection` keyword argument is \"\n"
     ]
    },
    {
     "name": "stdout",
     "output_type": "stream",
     "text": [
      "[Parallel(n_jobs=8)]: Done 741 tasks      | elapsed: 44.4min\n"
     ]
    },
    {
     "name": "stderr",
     "output_type": "stream",
     "text": [
      "/Users/beckermr/mambaforge/envs/rubin-sims/lib/python3.10/site-packages/cartopy/mpl/geoaxes.py:403: UserWarning: The `map_projection` keyword argument is deprecated, use `projection` to instantiate a GeoAxes instead.\n",
      "  warnings.warn(\"The `map_projection` keyword argument is \"\n",
      "/Users/beckermr/mambaforge/envs/rubin-sims/lib/python3.10/site-packages/cartopy/mpl/geoaxes.py:403: UserWarning: The `map_projection` keyword argument is deprecated, use `projection` to instantiate a GeoAxes instead.\n",
      "  warnings.warn(\"The `map_projection` keyword argument is \"\n"
     ]
    },
    {
     "name": "stdout",
     "output_type": "stream",
     "text": [
      "[Parallel(n_jobs=8)]: Done 742 tasks      | elapsed: 44.4min\n"
     ]
    },
    {
     "name": "stderr",
     "output_type": "stream",
     "text": [
      "/Users/beckermr/mambaforge/envs/rubin-sims/lib/python3.10/site-packages/cartopy/mpl/geoaxes.py:403: UserWarning: The `map_projection` keyword argument is deprecated, use `projection` to instantiate a GeoAxes instead.\n",
      "  warnings.warn(\"The `map_projection` keyword argument is \"\n",
      "/Users/beckermr/mambaforge/envs/rubin-sims/lib/python3.10/site-packages/cartopy/mpl/geoaxes.py:403: UserWarning: The `map_projection` keyword argument is deprecated, use `projection` to instantiate a GeoAxes instead.\n",
      "  warnings.warn(\"The `map_projection` keyword argument is \"\n"
     ]
    },
    {
     "name": "stdout",
     "output_type": "stream",
     "text": [
      "[Parallel(n_jobs=8)]: Done 743 tasks      | elapsed: 44.4min\n"
     ]
    },
    {
     "name": "stderr",
     "output_type": "stream",
     "text": [
      "/Users/beckermr/mambaforge/envs/rubin-sims/lib/python3.10/site-packages/cartopy/mpl/geoaxes.py:403: UserWarning: The `map_projection` keyword argument is deprecated, use `projection` to instantiate a GeoAxes instead.\n",
      "  warnings.warn(\"The `map_projection` keyword argument is \"\n",
      "/Users/beckermr/mambaforge/envs/rubin-sims/lib/python3.10/site-packages/cartopy/mpl/geoaxes.py:403: UserWarning: The `map_projection` keyword argument is deprecated, use `projection` to instantiate a GeoAxes instead.\n",
      "  warnings.warn(\"The `map_projection` keyword argument is \"\n"
     ]
    },
    {
     "name": "stdout",
     "output_type": "stream",
     "text": [
      "[Parallel(n_jobs=8)]: Done 744 tasks      | elapsed: 44.6min\n"
     ]
    },
    {
     "name": "stderr",
     "output_type": "stream",
     "text": [
      "/Users/beckermr/mambaforge/envs/rubin-sims/lib/python3.10/site-packages/cartopy/mpl/geoaxes.py:403: UserWarning: The `map_projection` keyword argument is deprecated, use `projection` to instantiate a GeoAxes instead.\n",
      "  warnings.warn(\"The `map_projection` keyword argument is \"\n",
      "/Users/beckermr/mambaforge/envs/rubin-sims/lib/python3.10/site-packages/cartopy/mpl/geoaxes.py:403: UserWarning: The `map_projection` keyword argument is deprecated, use `projection` to instantiate a GeoAxes instead.\n",
      "  warnings.warn(\"The `map_projection` keyword argument is \"\n"
     ]
    },
    {
     "name": "stdout",
     "output_type": "stream",
     "text": [
      "[Parallel(n_jobs=8)]: Done 745 tasks      | elapsed: 44.7min\n"
     ]
    },
    {
     "name": "stderr",
     "output_type": "stream",
     "text": [
      "/Users/beckermr/mambaforge/envs/rubin-sims/lib/python3.10/site-packages/cartopy/mpl/geoaxes.py:403: UserWarning: The `map_projection` keyword argument is deprecated, use `projection` to instantiate a GeoAxes instead.\n",
      "  warnings.warn(\"The `map_projection` keyword argument is \"\n",
      "/Users/beckermr/mambaforge/envs/rubin-sims/lib/python3.10/site-packages/cartopy/mpl/geoaxes.py:403: UserWarning: The `map_projection` keyword argument is deprecated, use `projection` to instantiate a GeoAxes instead.\n",
      "  warnings.warn(\"The `map_projection` keyword argument is \"\n"
     ]
    },
    {
     "name": "stdout",
     "output_type": "stream",
     "text": [
      "[Parallel(n_jobs=8)]: Done 746 tasks      | elapsed: 44.8min\n"
     ]
    },
    {
     "name": "stderr",
     "output_type": "stream",
     "text": [
      "/Users/beckermr/mambaforge/envs/rubin-sims/lib/python3.10/site-packages/cartopy/mpl/geoaxes.py:403: UserWarning: The `map_projection` keyword argument is deprecated, use `projection` to instantiate a GeoAxes instead.\n",
      "  warnings.warn(\"The `map_projection` keyword argument is \"\n",
      "/Users/beckermr/mambaforge/envs/rubin-sims/lib/python3.10/site-packages/cartopy/mpl/geoaxes.py:403: UserWarning: The `map_projection` keyword argument is deprecated, use `projection` to instantiate a GeoAxes instead.\n",
      "  warnings.warn(\"The `map_projection` keyword argument is \"\n"
     ]
    },
    {
     "name": "stdout",
     "output_type": "stream",
     "text": [
      "[Parallel(n_jobs=8)]: Done 747 tasks      | elapsed: 44.9min\n"
     ]
    },
    {
     "name": "stderr",
     "output_type": "stream",
     "text": [
      "/Users/beckermr/mambaforge/envs/rubin-sims/lib/python3.10/site-packages/cartopy/mpl/geoaxes.py:403: UserWarning: The `map_projection` keyword argument is deprecated, use `projection` to instantiate a GeoAxes instead.\n",
      "  warnings.warn(\"The `map_projection` keyword argument is \"\n",
      "/Users/beckermr/mambaforge/envs/rubin-sims/lib/python3.10/site-packages/cartopy/mpl/geoaxes.py:403: UserWarning: The `map_projection` keyword argument is deprecated, use `projection` to instantiate a GeoAxes instead.\n",
      "  warnings.warn(\"The `map_projection` keyword argument is \"\n"
     ]
    },
    {
     "name": "stdout",
     "output_type": "stream",
     "text": [
      "[Parallel(n_jobs=8)]: Done 748 tasks      | elapsed: 44.9min\n"
     ]
    },
    {
     "name": "stderr",
     "output_type": "stream",
     "text": [
      "/Users/beckermr/mambaforge/envs/rubin-sims/lib/python3.10/site-packages/cartopy/mpl/geoaxes.py:403: UserWarning: The `map_projection` keyword argument is deprecated, use `projection` to instantiate a GeoAxes instead.\n",
      "  warnings.warn(\"The `map_projection` keyword argument is \"\n",
      "/Users/beckermr/mambaforge/envs/rubin-sims/lib/python3.10/site-packages/cartopy/mpl/geoaxes.py:403: UserWarning: The `map_projection` keyword argument is deprecated, use `projection` to instantiate a GeoAxes instead.\n",
      "  warnings.warn(\"The `map_projection` keyword argument is \"\n"
     ]
    },
    {
     "name": "stdout",
     "output_type": "stream",
     "text": [
      "[Parallel(n_jobs=8)]: Done 749 tasks      | elapsed: 44.9min\n"
     ]
    },
    {
     "name": "stderr",
     "output_type": "stream",
     "text": [
      "/Users/beckermr/mambaforge/envs/rubin-sims/lib/python3.10/site-packages/cartopy/mpl/geoaxes.py:403: UserWarning: The `map_projection` keyword argument is deprecated, use `projection` to instantiate a GeoAxes instead.\n",
      "  warnings.warn(\"The `map_projection` keyword argument is \"\n",
      "/Users/beckermr/mambaforge/envs/rubin-sims/lib/python3.10/site-packages/cartopy/mpl/geoaxes.py:403: UserWarning: The `map_projection` keyword argument is deprecated, use `projection` to instantiate a GeoAxes instead.\n",
      "  warnings.warn(\"The `map_projection` keyword argument is \"\n"
     ]
    },
    {
     "name": "stdout",
     "output_type": "stream",
     "text": [
      "[Parallel(n_jobs=8)]: Done 750 tasks      | elapsed: 44.9min\n"
     ]
    },
    {
     "name": "stderr",
     "output_type": "stream",
     "text": [
      "/Users/beckermr/mambaforge/envs/rubin-sims/lib/python3.10/site-packages/cartopy/mpl/geoaxes.py:403: UserWarning: The `map_projection` keyword argument is deprecated, use `projection` to instantiate a GeoAxes instead.\n",
      "  warnings.warn(\"The `map_projection` keyword argument is \"\n",
      "/Users/beckermr/mambaforge/envs/rubin-sims/lib/python3.10/site-packages/cartopy/mpl/geoaxes.py:403: UserWarning: The `map_projection` keyword argument is deprecated, use `projection` to instantiate a GeoAxes instead.\n",
      "  warnings.warn(\"The `map_projection` keyword argument is \"\n"
     ]
    },
    {
     "name": "stdout",
     "output_type": "stream",
     "text": [
      "[Parallel(n_jobs=8)]: Done 751 tasks      | elapsed: 44.9min\n"
     ]
    },
    {
     "name": "stderr",
     "output_type": "stream",
     "text": [
      "/Users/beckermr/mambaforge/envs/rubin-sims/lib/python3.10/site-packages/cartopy/mpl/geoaxes.py:403: UserWarning: The `map_projection` keyword argument is deprecated, use `projection` to instantiate a GeoAxes instead.\n",
      "  warnings.warn(\"The `map_projection` keyword argument is \"\n",
      "/Users/beckermr/mambaforge/envs/rubin-sims/lib/python3.10/site-packages/cartopy/mpl/geoaxes.py:403: UserWarning: The `map_projection` keyword argument is deprecated, use `projection` to instantiate a GeoAxes instead.\n",
      "  warnings.warn(\"The `map_projection` keyword argument is \"\n"
     ]
    },
    {
     "name": "stdout",
     "output_type": "stream",
     "text": [
      "[Parallel(n_jobs=8)]: Done 752 tasks      | elapsed: 45.1min\n"
     ]
    },
    {
     "name": "stderr",
     "output_type": "stream",
     "text": [
      "/Users/beckermr/mambaforge/envs/rubin-sims/lib/python3.10/site-packages/cartopy/mpl/geoaxes.py:403: UserWarning: The `map_projection` keyword argument is deprecated, use `projection` to instantiate a GeoAxes instead.\n",
      "  warnings.warn(\"The `map_projection` keyword argument is \"\n",
      "/Users/beckermr/mambaforge/envs/rubin-sims/lib/python3.10/site-packages/cartopy/mpl/geoaxes.py:403: UserWarning: The `map_projection` keyword argument is deprecated, use `projection` to instantiate a GeoAxes instead.\n",
      "  warnings.warn(\"The `map_projection` keyword argument is \"\n"
     ]
    },
    {
     "name": "stdout",
     "output_type": "stream",
     "text": [
      "[Parallel(n_jobs=8)]: Done 753 tasks      | elapsed: 45.3min\n"
     ]
    },
    {
     "name": "stderr",
     "output_type": "stream",
     "text": [
      "/Users/beckermr/mambaforge/envs/rubin-sims/lib/python3.10/site-packages/cartopy/mpl/geoaxes.py:403: UserWarning: The `map_projection` keyword argument is deprecated, use `projection` to instantiate a GeoAxes instead.\n",
      "  warnings.warn(\"The `map_projection` keyword argument is \"\n",
      "/Users/beckermr/mambaforge/envs/rubin-sims/lib/python3.10/site-packages/cartopy/mpl/geoaxes.py:403: UserWarning: The `map_projection` keyword argument is deprecated, use `projection` to instantiate a GeoAxes instead.\n",
      "  warnings.warn(\"The `map_projection` keyword argument is \"\n"
     ]
    },
    {
     "name": "stdout",
     "output_type": "stream",
     "text": [
      "[Parallel(n_jobs=8)]: Done 754 tasks      | elapsed: 45.3min\n"
     ]
    },
    {
     "name": "stderr",
     "output_type": "stream",
     "text": [
      "/Users/beckermr/mambaforge/envs/rubin-sims/lib/python3.10/site-packages/cartopy/mpl/geoaxes.py:403: UserWarning: The `map_projection` keyword argument is deprecated, use `projection` to instantiate a GeoAxes instead.\n",
      "  warnings.warn(\"The `map_projection` keyword argument is \"\n",
      "/Users/beckermr/mambaforge/envs/rubin-sims/lib/python3.10/site-packages/cartopy/mpl/geoaxes.py:403: UserWarning: The `map_projection` keyword argument is deprecated, use `projection` to instantiate a GeoAxes instead.\n",
      "  warnings.warn(\"The `map_projection` keyword argument is \"\n"
     ]
    },
    {
     "name": "stdout",
     "output_type": "stream",
     "text": [
      "[Parallel(n_jobs=8)]: Done 755 tasks      | elapsed: 45.4min\n"
     ]
    },
    {
     "name": "stderr",
     "output_type": "stream",
     "text": [
      "/Users/beckermr/mambaforge/envs/rubin-sims/lib/python3.10/site-packages/cartopy/mpl/geoaxes.py:403: UserWarning: The `map_projection` keyword argument is deprecated, use `projection` to instantiate a GeoAxes instead.\n",
      "  warnings.warn(\"The `map_projection` keyword argument is \"\n",
      "/Users/beckermr/mambaforge/envs/rubin-sims/lib/python3.10/site-packages/cartopy/mpl/geoaxes.py:403: UserWarning: The `map_projection` keyword argument is deprecated, use `projection` to instantiate a GeoAxes instead.\n",
      "  warnings.warn(\"The `map_projection` keyword argument is \"\n"
     ]
    },
    {
     "name": "stdout",
     "output_type": "stream",
     "text": [
      "[Parallel(n_jobs=8)]: Done 756 tasks      | elapsed: 45.4min\n"
     ]
    },
    {
     "name": "stderr",
     "output_type": "stream",
     "text": [
      "/Users/beckermr/mambaforge/envs/rubin-sims/lib/python3.10/site-packages/cartopy/mpl/geoaxes.py:403: UserWarning: The `map_projection` keyword argument is deprecated, use `projection` to instantiate a GeoAxes instead.\n",
      "  warnings.warn(\"The `map_projection` keyword argument is \"\n",
      "/Users/beckermr/mambaforge/envs/rubin-sims/lib/python3.10/site-packages/cartopy/mpl/geoaxes.py:403: UserWarning: The `map_projection` keyword argument is deprecated, use `projection` to instantiate a GeoAxes instead.\n",
      "  warnings.warn(\"The `map_projection` keyword argument is \"\n"
     ]
    },
    {
     "name": "stdout",
     "output_type": "stream",
     "text": [
      "[Parallel(n_jobs=8)]: Done 757 tasks      | elapsed: 45.4min\n"
     ]
    },
    {
     "name": "stderr",
     "output_type": "stream",
     "text": [
      "/Users/beckermr/mambaforge/envs/rubin-sims/lib/python3.10/site-packages/cartopy/mpl/geoaxes.py:403: UserWarning: The `map_projection` keyword argument is deprecated, use `projection` to instantiate a GeoAxes instead.\n",
      "  warnings.warn(\"The `map_projection` keyword argument is \"\n",
      "/Users/beckermr/mambaforge/envs/rubin-sims/lib/python3.10/site-packages/cartopy/mpl/geoaxes.py:403: UserWarning: The `map_projection` keyword argument is deprecated, use `projection` to instantiate a GeoAxes instead.\n",
      "  warnings.warn(\"The `map_projection` keyword argument is \"\n"
     ]
    },
    {
     "name": "stdout",
     "output_type": "stream",
     "text": [
      "[Parallel(n_jobs=8)]: Done 758 tasks      | elapsed: 45.4min\n"
     ]
    },
    {
     "name": "stderr",
     "output_type": "stream",
     "text": [
      "/Users/beckermr/mambaforge/envs/rubin-sims/lib/python3.10/site-packages/cartopy/mpl/geoaxes.py:403: UserWarning: The `map_projection` keyword argument is deprecated, use `projection` to instantiate a GeoAxes instead.\n",
      "  warnings.warn(\"The `map_projection` keyword argument is \"\n",
      "/Users/beckermr/mambaforge/envs/rubin-sims/lib/python3.10/site-packages/cartopy/mpl/geoaxes.py:403: UserWarning: The `map_projection` keyword argument is deprecated, use `projection` to instantiate a GeoAxes instead.\n",
      "  warnings.warn(\"The `map_projection` keyword argument is \"\n"
     ]
    },
    {
     "name": "stdout",
     "output_type": "stream",
     "text": [
      "[Parallel(n_jobs=8)]: Done 759 tasks      | elapsed: 45.5min\n"
     ]
    },
    {
     "name": "stderr",
     "output_type": "stream",
     "text": [
      "/Users/beckermr/mambaforge/envs/rubin-sims/lib/python3.10/site-packages/cartopy/mpl/geoaxes.py:403: UserWarning: The `map_projection` keyword argument is deprecated, use `projection` to instantiate a GeoAxes instead.\n",
      "  warnings.warn(\"The `map_projection` keyword argument is \"\n",
      "/Users/beckermr/mambaforge/envs/rubin-sims/lib/python3.10/site-packages/cartopy/mpl/geoaxes.py:403: UserWarning: The `map_projection` keyword argument is deprecated, use `projection` to instantiate a GeoAxes instead.\n",
      "  warnings.warn(\"The `map_projection` keyword argument is \"\n"
     ]
    },
    {
     "name": "stdout",
     "output_type": "stream",
     "text": [
      "[Parallel(n_jobs=8)]: Done 760 tasks      | elapsed: 45.6min\n"
     ]
    },
    {
     "name": "stderr",
     "output_type": "stream",
     "text": [
      "/Users/beckermr/mambaforge/envs/rubin-sims/lib/python3.10/site-packages/cartopy/mpl/geoaxes.py:403: UserWarning: The `map_projection` keyword argument is deprecated, use `projection` to instantiate a GeoAxes instead.\n",
      "  warnings.warn(\"The `map_projection` keyword argument is \"\n",
      "/Users/beckermr/mambaforge/envs/rubin-sims/lib/python3.10/site-packages/cartopy/mpl/geoaxes.py:403: UserWarning: The `map_projection` keyword argument is deprecated, use `projection` to instantiate a GeoAxes instead.\n",
      "  warnings.warn(\"The `map_projection` keyword argument is \"\n"
     ]
    },
    {
     "name": "stdout",
     "output_type": "stream",
     "text": [
      "[Parallel(n_jobs=8)]: Done 761 tasks      | elapsed: 45.8min\n"
     ]
    },
    {
     "name": "stderr",
     "output_type": "stream",
     "text": [
      "/Users/beckermr/mambaforge/envs/rubin-sims/lib/python3.10/site-packages/cartopy/mpl/geoaxes.py:403: UserWarning: The `map_projection` keyword argument is deprecated, use `projection` to instantiate a GeoAxes instead.\n",
      "  warnings.warn(\"The `map_projection` keyword argument is \"\n",
      "/Users/beckermr/mambaforge/envs/rubin-sims/lib/python3.10/site-packages/cartopy/mpl/geoaxes.py:403: UserWarning: The `map_projection` keyword argument is deprecated, use `projection` to instantiate a GeoAxes instead.\n",
      "  warnings.warn(\"The `map_projection` keyword argument is \"\n"
     ]
    },
    {
     "name": "stdout",
     "output_type": "stream",
     "text": [
      "[Parallel(n_jobs=8)]: Done 762 tasks      | elapsed: 45.8min\n"
     ]
    },
    {
     "name": "stderr",
     "output_type": "stream",
     "text": [
      "/Users/beckermr/mambaforge/envs/rubin-sims/lib/python3.10/site-packages/cartopy/mpl/geoaxes.py:403: UserWarning: The `map_projection` keyword argument is deprecated, use `projection` to instantiate a GeoAxes instead.\n",
      "  warnings.warn(\"The `map_projection` keyword argument is \"\n",
      "/Users/beckermr/mambaforge/envs/rubin-sims/lib/python3.10/site-packages/cartopy/mpl/geoaxes.py:403: UserWarning: The `map_projection` keyword argument is deprecated, use `projection` to instantiate a GeoAxes instead.\n",
      "  warnings.warn(\"The `map_projection` keyword argument is \"\n"
     ]
    },
    {
     "name": "stdout",
     "output_type": "stream",
     "text": [
      "[Parallel(n_jobs=8)]: Done 763 tasks      | elapsed: 45.9min\n"
     ]
    },
    {
     "name": "stderr",
     "output_type": "stream",
     "text": [
      "/Users/beckermr/mambaforge/envs/rubin-sims/lib/python3.10/site-packages/cartopy/mpl/geoaxes.py:403: UserWarning: The `map_projection` keyword argument is deprecated, use `projection` to instantiate a GeoAxes instead.\n",
      "  warnings.warn(\"The `map_projection` keyword argument is \"\n",
      "/Users/beckermr/mambaforge/envs/rubin-sims/lib/python3.10/site-packages/cartopy/mpl/geoaxes.py:403: UserWarning: The `map_projection` keyword argument is deprecated, use `projection` to instantiate a GeoAxes instead.\n",
      "  warnings.warn(\"The `map_projection` keyword argument is \"\n"
     ]
    },
    {
     "name": "stdout",
     "output_type": "stream",
     "text": [
      "[Parallel(n_jobs=8)]: Done 764 tasks      | elapsed: 45.9min\n"
     ]
    },
    {
     "name": "stderr",
     "output_type": "stream",
     "text": [
      "/Users/beckermr/mambaforge/envs/rubin-sims/lib/python3.10/site-packages/cartopy/mpl/geoaxes.py:403: UserWarning: The `map_projection` keyword argument is deprecated, use `projection` to instantiate a GeoAxes instead.\n",
      "  warnings.warn(\"The `map_projection` keyword argument is \"\n",
      "/Users/beckermr/mambaforge/envs/rubin-sims/lib/python3.10/site-packages/cartopy/mpl/geoaxes.py:403: UserWarning: The `map_projection` keyword argument is deprecated, use `projection` to instantiate a GeoAxes instead.\n",
      "  warnings.warn(\"The `map_projection` keyword argument is \"\n"
     ]
    },
    {
     "name": "stdout",
     "output_type": "stream",
     "text": [
      "[Parallel(n_jobs=8)]: Done 765 tasks      | elapsed: 46.0min\n"
     ]
    },
    {
     "name": "stderr",
     "output_type": "stream",
     "text": [
      "/Users/beckermr/mambaforge/envs/rubin-sims/lib/python3.10/site-packages/cartopy/mpl/geoaxes.py:403: UserWarning: The `map_projection` keyword argument is deprecated, use `projection` to instantiate a GeoAxes instead.\n",
      "  warnings.warn(\"The `map_projection` keyword argument is \"\n",
      "/Users/beckermr/mambaforge/envs/rubin-sims/lib/python3.10/site-packages/cartopy/mpl/geoaxes.py:403: UserWarning: The `map_projection` keyword argument is deprecated, use `projection` to instantiate a GeoAxes instead.\n",
      "  warnings.warn(\"The `map_projection` keyword argument is \"\n"
     ]
    },
    {
     "name": "stdout",
     "output_type": "stream",
     "text": [
      "[Parallel(n_jobs=8)]: Done 766 tasks      | elapsed: 46.0min\n"
     ]
    },
    {
     "name": "stderr",
     "output_type": "stream",
     "text": [
      "/Users/beckermr/mambaforge/envs/rubin-sims/lib/python3.10/site-packages/cartopy/mpl/geoaxes.py:403: UserWarning: The `map_projection` keyword argument is deprecated, use `projection` to instantiate a GeoAxes instead.\n",
      "  warnings.warn(\"The `map_projection` keyword argument is \"\n",
      "/Users/beckermr/mambaforge/envs/rubin-sims/lib/python3.10/site-packages/cartopy/mpl/geoaxes.py:403: UserWarning: The `map_projection` keyword argument is deprecated, use `projection` to instantiate a GeoAxes instead.\n",
      "  warnings.warn(\"The `map_projection` keyword argument is \"\n"
     ]
    },
    {
     "name": "stdout",
     "output_type": "stream",
     "text": [
      "[Parallel(n_jobs=8)]: Done 767 tasks      | elapsed: 46.0min\n"
     ]
    },
    {
     "name": "stderr",
     "output_type": "stream",
     "text": [
      "/Users/beckermr/mambaforge/envs/rubin-sims/lib/python3.10/site-packages/cartopy/mpl/geoaxes.py:403: UserWarning: The `map_projection` keyword argument is deprecated, use `projection` to instantiate a GeoAxes instead.\n",
      "  warnings.warn(\"The `map_projection` keyword argument is \"\n",
      "/Users/beckermr/mambaforge/envs/rubin-sims/lib/python3.10/site-packages/cartopy/mpl/geoaxes.py:403: UserWarning: The `map_projection` keyword argument is deprecated, use `projection` to instantiate a GeoAxes instead.\n",
      "  warnings.warn(\"The `map_projection` keyword argument is \"\n"
     ]
    },
    {
     "name": "stdout",
     "output_type": "stream",
     "text": [
      "[Parallel(n_jobs=8)]: Done 768 tasks      | elapsed: 46.1min\n"
     ]
    },
    {
     "name": "stderr",
     "output_type": "stream",
     "text": [
      "/Users/beckermr/mambaforge/envs/rubin-sims/lib/python3.10/site-packages/cartopy/mpl/geoaxes.py:403: UserWarning: The `map_projection` keyword argument is deprecated, use `projection` to instantiate a GeoAxes instead.\n",
      "  warnings.warn(\"The `map_projection` keyword argument is \"\n",
      "/Users/beckermr/mambaforge/envs/rubin-sims/lib/python3.10/site-packages/cartopy/mpl/geoaxes.py:403: UserWarning: The `map_projection` keyword argument is deprecated, use `projection` to instantiate a GeoAxes instead.\n",
      "  warnings.warn(\"The `map_projection` keyword argument is \"\n"
     ]
    },
    {
     "name": "stdout",
     "output_type": "stream",
     "text": [
      "[Parallel(n_jobs=8)]: Done 769 tasks      | elapsed: 46.3min\n"
     ]
    },
    {
     "name": "stderr",
     "output_type": "stream",
     "text": [
      "/Users/beckermr/mambaforge/envs/rubin-sims/lib/python3.10/site-packages/cartopy/mpl/geoaxes.py:403: UserWarning: The `map_projection` keyword argument is deprecated, use `projection` to instantiate a GeoAxes instead.\n",
      "  warnings.warn(\"The `map_projection` keyword argument is \"\n",
      "/Users/beckermr/mambaforge/envs/rubin-sims/lib/python3.10/site-packages/cartopy/mpl/geoaxes.py:403: UserWarning: The `map_projection` keyword argument is deprecated, use `projection` to instantiate a GeoAxes instead.\n",
      "  warnings.warn(\"The `map_projection` keyword argument is \"\n"
     ]
    },
    {
     "name": "stdout",
     "output_type": "stream",
     "text": [
      "[Parallel(n_jobs=8)]: Done 770 tasks      | elapsed: 46.4min\n"
     ]
    },
    {
     "name": "stderr",
     "output_type": "stream",
     "text": [
      "/Users/beckermr/mambaforge/envs/rubin-sims/lib/python3.10/site-packages/cartopy/mpl/geoaxes.py:403: UserWarning: The `map_projection` keyword argument is deprecated, use `projection` to instantiate a GeoAxes instead.\n",
      "  warnings.warn(\"The `map_projection` keyword argument is \"\n",
      "/Users/beckermr/mambaforge/envs/rubin-sims/lib/python3.10/site-packages/cartopy/mpl/geoaxes.py:403: UserWarning: The `map_projection` keyword argument is deprecated, use `projection` to instantiate a GeoAxes instead.\n",
      "  warnings.warn(\"The `map_projection` keyword argument is \"\n"
     ]
    },
    {
     "name": "stdout",
     "output_type": "stream",
     "text": [
      "[Parallel(n_jobs=8)]: Done 771 tasks      | elapsed: 46.5min\n"
     ]
    },
    {
     "name": "stderr",
     "output_type": "stream",
     "text": [
      "/Users/beckermr/mambaforge/envs/rubin-sims/lib/python3.10/site-packages/cartopy/mpl/geoaxes.py:403: UserWarning: The `map_projection` keyword argument is deprecated, use `projection` to instantiate a GeoAxes instead.\n",
      "  warnings.warn(\"The `map_projection` keyword argument is \"\n",
      "/Users/beckermr/mambaforge/envs/rubin-sims/lib/python3.10/site-packages/cartopy/mpl/geoaxes.py:403: UserWarning: The `map_projection` keyword argument is deprecated, use `projection` to instantiate a GeoAxes instead.\n",
      "  warnings.warn(\"The `map_projection` keyword argument is \"\n"
     ]
    },
    {
     "name": "stdout",
     "output_type": "stream",
     "text": [
      "[Parallel(n_jobs=8)]: Done 772 tasks      | elapsed: 46.5min\n",
      "[Parallel(n_jobs=8)]: Done 773 tasks      | elapsed: 46.5min\n"
     ]
    },
    {
     "name": "stderr",
     "output_type": "stream",
     "text": [
      "/Users/beckermr/mambaforge/envs/rubin-sims/lib/python3.10/site-packages/cartopy/mpl/geoaxes.py:403: UserWarning: The `map_projection` keyword argument is deprecated, use `projection` to instantiate a GeoAxes instead.\n",
      "  warnings.warn(\"The `map_projection` keyword argument is \"\n",
      "/Users/beckermr/mambaforge/envs/rubin-sims/lib/python3.10/site-packages/cartopy/mpl/geoaxes.py:403: UserWarning: The `map_projection` keyword argument is deprecated, use `projection` to instantiate a GeoAxes instead.\n",
      "  warnings.warn(\"The `map_projection` keyword argument is \"\n",
      "/Users/beckermr/mambaforge/envs/rubin-sims/lib/python3.10/site-packages/cartopy/mpl/geoaxes.py:403: UserWarning: The `map_projection` keyword argument is deprecated, use `projection` to instantiate a GeoAxes instead.\n",
      "  warnings.warn(\"The `map_projection` keyword argument is \"\n",
      "/Users/beckermr/mambaforge/envs/rubin-sims/lib/python3.10/site-packages/cartopy/mpl/geoaxes.py:403: UserWarning: The `map_projection` keyword argument is deprecated, use `projection` to instantiate a GeoAxes instead.\n",
      "  warnings.warn(\"The `map_projection` keyword argument is \"\n"
     ]
    },
    {
     "name": "stdout",
     "output_type": "stream",
     "text": [
      "[Parallel(n_jobs=8)]: Done 774 tasks      | elapsed: 46.5min\n"
     ]
    },
    {
     "name": "stderr",
     "output_type": "stream",
     "text": [
      "/Users/beckermr/mambaforge/envs/rubin-sims/lib/python3.10/site-packages/cartopy/mpl/geoaxes.py:403: UserWarning: The `map_projection` keyword argument is deprecated, use `projection` to instantiate a GeoAxes instead.\n",
      "  warnings.warn(\"The `map_projection` keyword argument is \"\n",
      "/Users/beckermr/mambaforge/envs/rubin-sims/lib/python3.10/site-packages/cartopy/mpl/geoaxes.py:403: UserWarning: The `map_projection` keyword argument is deprecated, use `projection` to instantiate a GeoAxes instead.\n",
      "  warnings.warn(\"The `map_projection` keyword argument is \"\n"
     ]
    },
    {
     "name": "stdout",
     "output_type": "stream",
     "text": [
      "[Parallel(n_jobs=8)]: Done 775 tasks      | elapsed: 46.5min\n"
     ]
    },
    {
     "name": "stderr",
     "output_type": "stream",
     "text": [
      "/Users/beckermr/mambaforge/envs/rubin-sims/lib/python3.10/site-packages/cartopy/mpl/geoaxes.py:403: UserWarning: The `map_projection` keyword argument is deprecated, use `projection` to instantiate a GeoAxes instead.\n",
      "  warnings.warn(\"The `map_projection` keyword argument is \"\n",
      "/Users/beckermr/mambaforge/envs/rubin-sims/lib/python3.10/site-packages/cartopy/mpl/geoaxes.py:403: UserWarning: The `map_projection` keyword argument is deprecated, use `projection` to instantiate a GeoAxes instead.\n",
      "  warnings.warn(\"The `map_projection` keyword argument is \"\n"
     ]
    },
    {
     "name": "stdout",
     "output_type": "stream",
     "text": [
      "[Parallel(n_jobs=8)]: Done 776 tasks      | elapsed: 46.6min\n"
     ]
    },
    {
     "name": "stderr",
     "output_type": "stream",
     "text": [
      "/Users/beckermr/mambaforge/envs/rubin-sims/lib/python3.10/site-packages/cartopy/mpl/geoaxes.py:403: UserWarning: The `map_projection` keyword argument is deprecated, use `projection` to instantiate a GeoAxes instead.\n",
      "  warnings.warn(\"The `map_projection` keyword argument is \"\n",
      "/Users/beckermr/mambaforge/envs/rubin-sims/lib/python3.10/site-packages/cartopy/mpl/geoaxes.py:403: UserWarning: The `map_projection` keyword argument is deprecated, use `projection` to instantiate a GeoAxes instead.\n",
      "  warnings.warn(\"The `map_projection` keyword argument is \"\n"
     ]
    },
    {
     "name": "stdout",
     "output_type": "stream",
     "text": [
      "[Parallel(n_jobs=8)]: Done 777 tasks      | elapsed: 46.9min\n"
     ]
    },
    {
     "name": "stderr",
     "output_type": "stream",
     "text": [
      "/Users/beckermr/mambaforge/envs/rubin-sims/lib/python3.10/site-packages/cartopy/mpl/geoaxes.py:403: UserWarning: The `map_projection` keyword argument is deprecated, use `projection` to instantiate a GeoAxes instead.\n",
      "  warnings.warn(\"The `map_projection` keyword argument is \"\n",
      "/Users/beckermr/mambaforge/envs/rubin-sims/lib/python3.10/site-packages/cartopy/mpl/geoaxes.py:403: UserWarning: The `map_projection` keyword argument is deprecated, use `projection` to instantiate a GeoAxes instead.\n",
      "  warnings.warn(\"The `map_projection` keyword argument is \"\n"
     ]
    },
    {
     "name": "stdout",
     "output_type": "stream",
     "text": [
      "[Parallel(n_jobs=8)]: Done 778 tasks      | elapsed: 46.9min\n"
     ]
    },
    {
     "name": "stderr",
     "output_type": "stream",
     "text": [
      "/Users/beckermr/mambaforge/envs/rubin-sims/lib/python3.10/site-packages/cartopy/mpl/geoaxes.py:403: UserWarning: The `map_projection` keyword argument is deprecated, use `projection` to instantiate a GeoAxes instead.\n",
      "  warnings.warn(\"The `map_projection` keyword argument is \"\n",
      "/Users/beckermr/mambaforge/envs/rubin-sims/lib/python3.10/site-packages/cartopy/mpl/geoaxes.py:403: UserWarning: The `map_projection` keyword argument is deprecated, use `projection` to instantiate a GeoAxes instead.\n",
      "  warnings.warn(\"The `map_projection` keyword argument is \"\n"
     ]
    },
    {
     "name": "stdout",
     "output_type": "stream",
     "text": [
      "[Parallel(n_jobs=8)]: Done 779 tasks      | elapsed: 47.0min\n"
     ]
    },
    {
     "name": "stderr",
     "output_type": "stream",
     "text": [
      "/Users/beckermr/mambaforge/envs/rubin-sims/lib/python3.10/site-packages/cartopy/mpl/geoaxes.py:403: UserWarning: The `map_projection` keyword argument is deprecated, use `projection` to instantiate a GeoAxes instead.\n",
      "  warnings.warn(\"The `map_projection` keyword argument is \"\n",
      "/Users/beckermr/mambaforge/envs/rubin-sims/lib/python3.10/site-packages/cartopy/mpl/geoaxes.py:403: UserWarning: The `map_projection` keyword argument is deprecated, use `projection` to instantiate a GeoAxes instead.\n",
      "  warnings.warn(\"The `map_projection` keyword argument is \"\n"
     ]
    },
    {
     "name": "stdout",
     "output_type": "stream",
     "text": [
      "[Parallel(n_jobs=8)]: Done 780 tasks      | elapsed: 47.0min\n"
     ]
    },
    {
     "name": "stderr",
     "output_type": "stream",
     "text": [
      "/Users/beckermr/mambaforge/envs/rubin-sims/lib/python3.10/site-packages/cartopy/mpl/geoaxes.py:403: UserWarning: The `map_projection` keyword argument is deprecated, use `projection` to instantiate a GeoAxes instead.\n",
      "  warnings.warn(\"The `map_projection` keyword argument is \"\n",
      "/Users/beckermr/mambaforge/envs/rubin-sims/lib/python3.10/site-packages/cartopy/mpl/geoaxes.py:403: UserWarning: The `map_projection` keyword argument is deprecated, use `projection` to instantiate a GeoAxes instead.\n",
      "  warnings.warn(\"The `map_projection` keyword argument is \"\n"
     ]
    },
    {
     "name": "stdout",
     "output_type": "stream",
     "text": [
      "[Parallel(n_jobs=8)]: Done 781 tasks      | elapsed: 47.0min\n"
     ]
    },
    {
     "name": "stderr",
     "output_type": "stream",
     "text": [
      "/Users/beckermr/mambaforge/envs/rubin-sims/lib/python3.10/site-packages/cartopy/mpl/geoaxes.py:403: UserWarning: The `map_projection` keyword argument is deprecated, use `projection` to instantiate a GeoAxes instead.\n",
      "  warnings.warn(\"The `map_projection` keyword argument is \"\n",
      "/Users/beckermr/mambaforge/envs/rubin-sims/lib/python3.10/site-packages/cartopy/mpl/geoaxes.py:403: UserWarning: The `map_projection` keyword argument is deprecated, use `projection` to instantiate a GeoAxes instead.\n",
      "  warnings.warn(\"The `map_projection` keyword argument is \"\n"
     ]
    },
    {
     "name": "stdout",
     "output_type": "stream",
     "text": [
      "[Parallel(n_jobs=8)]: Done 782 tasks      | elapsed: 47.0min\n"
     ]
    },
    {
     "name": "stderr",
     "output_type": "stream",
     "text": [
      "/Users/beckermr/mambaforge/envs/rubin-sims/lib/python3.10/site-packages/cartopy/mpl/geoaxes.py:403: UserWarning: The `map_projection` keyword argument is deprecated, use `projection` to instantiate a GeoAxes instead.\n",
      "  warnings.warn(\"The `map_projection` keyword argument is \"\n",
      "/Users/beckermr/mambaforge/envs/rubin-sims/lib/python3.10/site-packages/cartopy/mpl/geoaxes.py:403: UserWarning: The `map_projection` keyword argument is deprecated, use `projection` to instantiate a GeoAxes instead.\n",
      "  warnings.warn(\"The `map_projection` keyword argument is \"\n"
     ]
    },
    {
     "name": "stdout",
     "output_type": "stream",
     "text": [
      "[Parallel(n_jobs=8)]: Done 783 tasks      | elapsed: 47.0min\n"
     ]
    },
    {
     "name": "stderr",
     "output_type": "stream",
     "text": [
      "/Users/beckermr/mambaforge/envs/rubin-sims/lib/python3.10/site-packages/cartopy/mpl/geoaxes.py:403: UserWarning: The `map_projection` keyword argument is deprecated, use `projection` to instantiate a GeoAxes instead.\n",
      "  warnings.warn(\"The `map_projection` keyword argument is \"\n",
      "/Users/beckermr/mambaforge/envs/rubin-sims/lib/python3.10/site-packages/cartopy/mpl/geoaxes.py:403: UserWarning: The `map_projection` keyword argument is deprecated, use `projection` to instantiate a GeoAxes instead.\n",
      "  warnings.warn(\"The `map_projection` keyword argument is \"\n"
     ]
    },
    {
     "name": "stdout",
     "output_type": "stream",
     "text": [
      "[Parallel(n_jobs=8)]: Done 784 tasks      | elapsed: 47.2min\n"
     ]
    },
    {
     "name": "stderr",
     "output_type": "stream",
     "text": [
      "/Users/beckermr/mambaforge/envs/rubin-sims/lib/python3.10/site-packages/cartopy/mpl/geoaxes.py:403: UserWarning: The `map_projection` keyword argument is deprecated, use `projection` to instantiate a GeoAxes instead.\n",
      "  warnings.warn(\"The `map_projection` keyword argument is \"\n",
      "/Users/beckermr/mambaforge/envs/rubin-sims/lib/python3.10/site-packages/cartopy/mpl/geoaxes.py:403: UserWarning: The `map_projection` keyword argument is deprecated, use `projection` to instantiate a GeoAxes instead.\n",
      "  warnings.warn(\"The `map_projection` keyword argument is \"\n"
     ]
    },
    {
     "name": "stdout",
     "output_type": "stream",
     "text": [
      "[Parallel(n_jobs=8)]: Done 785 tasks      | elapsed: 47.4min\n"
     ]
    },
    {
     "name": "stderr",
     "output_type": "stream",
     "text": [
      "/Users/beckermr/mambaforge/envs/rubin-sims/lib/python3.10/site-packages/cartopy/mpl/geoaxes.py:403: UserWarning: The `map_projection` keyword argument is deprecated, use `projection` to instantiate a GeoAxes instead.\n",
      "  warnings.warn(\"The `map_projection` keyword argument is \"\n",
      "/Users/beckermr/mambaforge/envs/rubin-sims/lib/python3.10/site-packages/cartopy/mpl/geoaxes.py:403: UserWarning: The `map_projection` keyword argument is deprecated, use `projection` to instantiate a GeoAxes instead.\n",
      "  warnings.warn(\"The `map_projection` keyword argument is \"\n"
     ]
    },
    {
     "name": "stdout",
     "output_type": "stream",
     "text": [
      "[Parallel(n_jobs=8)]: Done 786 tasks      | elapsed: 47.4min\n"
     ]
    },
    {
     "name": "stderr",
     "output_type": "stream",
     "text": [
      "/Users/beckermr/mambaforge/envs/rubin-sims/lib/python3.10/site-packages/cartopy/mpl/geoaxes.py:403: UserWarning: The `map_projection` keyword argument is deprecated, use `projection` to instantiate a GeoAxes instead.\n",
      "  warnings.warn(\"The `map_projection` keyword argument is \"\n",
      "/Users/beckermr/mambaforge/envs/rubin-sims/lib/python3.10/site-packages/cartopy/mpl/geoaxes.py:403: UserWarning: The `map_projection` keyword argument is deprecated, use `projection` to instantiate a GeoAxes instead.\n",
      "  warnings.warn(\"The `map_projection` keyword argument is \"\n"
     ]
    },
    {
     "name": "stdout",
     "output_type": "stream",
     "text": [
      "[Parallel(n_jobs=8)]: Done 787 tasks      | elapsed: 47.5min\n"
     ]
    },
    {
     "name": "stderr",
     "output_type": "stream",
     "text": [
      "/Users/beckermr/mambaforge/envs/rubin-sims/lib/python3.10/site-packages/cartopy/mpl/geoaxes.py:403: UserWarning: The `map_projection` keyword argument is deprecated, use `projection` to instantiate a GeoAxes instead.\n",
      "  warnings.warn(\"The `map_projection` keyword argument is \"\n",
      "/Users/beckermr/mambaforge/envs/rubin-sims/lib/python3.10/site-packages/cartopy/mpl/geoaxes.py:403: UserWarning: The `map_projection` keyword argument is deprecated, use `projection` to instantiate a GeoAxes instead.\n",
      "  warnings.warn(\"The `map_projection` keyword argument is \"\n"
     ]
    },
    {
     "name": "stdout",
     "output_type": "stream",
     "text": [
      "[Parallel(n_jobs=8)]: Done 788 tasks      | elapsed: 47.5min\n"
     ]
    },
    {
     "name": "stderr",
     "output_type": "stream",
     "text": [
      "/Users/beckermr/mambaforge/envs/rubin-sims/lib/python3.10/site-packages/cartopy/mpl/geoaxes.py:403: UserWarning: The `map_projection` keyword argument is deprecated, use `projection` to instantiate a GeoAxes instead.\n",
      "  warnings.warn(\"The `map_projection` keyword argument is \"\n",
      "/Users/beckermr/mambaforge/envs/rubin-sims/lib/python3.10/site-packages/cartopy/mpl/geoaxes.py:403: UserWarning: The `map_projection` keyword argument is deprecated, use `projection` to instantiate a GeoAxes instead.\n",
      "  warnings.warn(\"The `map_projection` keyword argument is \"\n"
     ]
    },
    {
     "name": "stdout",
     "output_type": "stream",
     "text": [
      "[Parallel(n_jobs=8)]: Done 789 tasks      | elapsed: 47.5min\n"
     ]
    },
    {
     "name": "stderr",
     "output_type": "stream",
     "text": [
      "/Users/beckermr/mambaforge/envs/rubin-sims/lib/python3.10/site-packages/cartopy/mpl/geoaxes.py:403: UserWarning: The `map_projection` keyword argument is deprecated, use `projection` to instantiate a GeoAxes instead.\n",
      "  warnings.warn(\"The `map_projection` keyword argument is \"\n",
      "/Users/beckermr/mambaforge/envs/rubin-sims/lib/python3.10/site-packages/cartopy/mpl/geoaxes.py:403: UserWarning: The `map_projection` keyword argument is deprecated, use `projection` to instantiate a GeoAxes instead.\n",
      "  warnings.warn(\"The `map_projection` keyword argument is \"\n"
     ]
    },
    {
     "name": "stdout",
     "output_type": "stream",
     "text": [
      "[Parallel(n_jobs=8)]: Done 790 tasks      | elapsed: 47.6min\n",
      "[Parallel(n_jobs=8)]: Done 791 tasks      | elapsed: 47.6min\n"
     ]
    },
    {
     "name": "stderr",
     "output_type": "stream",
     "text": [
      "/Users/beckermr/mambaforge/envs/rubin-sims/lib/python3.10/site-packages/cartopy/mpl/geoaxes.py:403: UserWarning: The `map_projection` keyword argument is deprecated, use `projection` to instantiate a GeoAxes instead.\n",
      "  warnings.warn(\"The `map_projection` keyword argument is \"\n",
      "/Users/beckermr/mambaforge/envs/rubin-sims/lib/python3.10/site-packages/cartopy/mpl/geoaxes.py:403: UserWarning: The `map_projection` keyword argument is deprecated, use `projection` to instantiate a GeoAxes instead.\n",
      "  warnings.warn(\"The `map_projection` keyword argument is \"\n",
      "/Users/beckermr/mambaforge/envs/rubin-sims/lib/python3.10/site-packages/cartopy/mpl/geoaxes.py:403: UserWarning: The `map_projection` keyword argument is deprecated, use `projection` to instantiate a GeoAxes instead.\n",
      "  warnings.warn(\"The `map_projection` keyword argument is \"\n",
      "/Users/beckermr/mambaforge/envs/rubin-sims/lib/python3.10/site-packages/cartopy/mpl/geoaxes.py:403: UserWarning: The `map_projection` keyword argument is deprecated, use `projection` to instantiate a GeoAxes instead.\n",
      "  warnings.warn(\"The `map_projection` keyword argument is \"\n"
     ]
    },
    {
     "name": "stdout",
     "output_type": "stream",
     "text": [
      "[Parallel(n_jobs=8)]: Done 792 tasks      | elapsed: 47.7min\n"
     ]
    },
    {
     "name": "stderr",
     "output_type": "stream",
     "text": [
      "/Users/beckermr/mambaforge/envs/rubin-sims/lib/python3.10/site-packages/cartopy/mpl/geoaxes.py:403: UserWarning: The `map_projection` keyword argument is deprecated, use `projection` to instantiate a GeoAxes instead.\n",
      "  warnings.warn(\"The `map_projection` keyword argument is \"\n",
      "/Users/beckermr/mambaforge/envs/rubin-sims/lib/python3.10/site-packages/cartopy/mpl/geoaxes.py:403: UserWarning: The `map_projection` keyword argument is deprecated, use `projection` to instantiate a GeoAxes instead.\n",
      "  warnings.warn(\"The `map_projection` keyword argument is \"\n"
     ]
    },
    {
     "name": "stdout",
     "output_type": "stream",
     "text": [
      "[Parallel(n_jobs=8)]: Done 793 tasks      | elapsed: 47.9min\n"
     ]
    },
    {
     "name": "stderr",
     "output_type": "stream",
     "text": [
      "/Users/beckermr/mambaforge/envs/rubin-sims/lib/python3.10/site-packages/cartopy/mpl/geoaxes.py:403: UserWarning: The `map_projection` keyword argument is deprecated, use `projection` to instantiate a GeoAxes instead.\n",
      "  warnings.warn(\"The `map_projection` keyword argument is \"\n",
      "/Users/beckermr/mambaforge/envs/rubin-sims/lib/python3.10/site-packages/cartopy/mpl/geoaxes.py:403: UserWarning: The `map_projection` keyword argument is deprecated, use `projection` to instantiate a GeoAxes instead.\n",
      "  warnings.warn(\"The `map_projection` keyword argument is \"\n"
     ]
    },
    {
     "name": "stdout",
     "output_type": "stream",
     "text": [
      "[Parallel(n_jobs=8)]: Done 794 tasks      | elapsed: 47.9min\n"
     ]
    },
    {
     "name": "stderr",
     "output_type": "stream",
     "text": [
      "/Users/beckermr/mambaforge/envs/rubin-sims/lib/python3.10/site-packages/cartopy/mpl/geoaxes.py:403: UserWarning: The `map_projection` keyword argument is deprecated, use `projection` to instantiate a GeoAxes instead.\n",
      "  warnings.warn(\"The `map_projection` keyword argument is \"\n",
      "/Users/beckermr/mambaforge/envs/rubin-sims/lib/python3.10/site-packages/cartopy/mpl/geoaxes.py:403: UserWarning: The `map_projection` keyword argument is deprecated, use `projection` to instantiate a GeoAxes instead.\n",
      "  warnings.warn(\"The `map_projection` keyword argument is \"\n"
     ]
    },
    {
     "name": "stdout",
     "output_type": "stream",
     "text": [
      "[Parallel(n_jobs=8)]: Done 795 tasks      | elapsed: 48.0min\n"
     ]
    },
    {
     "name": "stderr",
     "output_type": "stream",
     "text": [
      "/Users/beckermr/mambaforge/envs/rubin-sims/lib/python3.10/site-packages/cartopy/mpl/geoaxes.py:403: UserWarning: The `map_projection` keyword argument is deprecated, use `projection` to instantiate a GeoAxes instead.\n",
      "  warnings.warn(\"The `map_projection` keyword argument is \"\n",
      "/Users/beckermr/mambaforge/envs/rubin-sims/lib/python3.10/site-packages/cartopy/mpl/geoaxes.py:403: UserWarning: The `map_projection` keyword argument is deprecated, use `projection` to instantiate a GeoAxes instead.\n",
      "  warnings.warn(\"The `map_projection` keyword argument is \"\n"
     ]
    },
    {
     "name": "stdout",
     "output_type": "stream",
     "text": [
      "[Parallel(n_jobs=8)]: Done 796 tasks      | elapsed: 48.0min\n",
      "[Parallel(n_jobs=8)]: Done 797 tasks      | elapsed: 48.0min\n"
     ]
    },
    {
     "name": "stderr",
     "output_type": "stream",
     "text": [
      "/Users/beckermr/mambaforge/envs/rubin-sims/lib/python3.10/site-packages/cartopy/mpl/geoaxes.py:403: UserWarning: The `map_projection` keyword argument is deprecated, use `projection` to instantiate a GeoAxes instead.\n",
      "  warnings.warn(\"The `map_projection` keyword argument is \"\n",
      "/Users/beckermr/mambaforge/envs/rubin-sims/lib/python3.10/site-packages/cartopy/mpl/geoaxes.py:403: UserWarning: The `map_projection` keyword argument is deprecated, use `projection` to instantiate a GeoAxes instead.\n",
      "  warnings.warn(\"The `map_projection` keyword argument is \"\n",
      "/Users/beckermr/mambaforge/envs/rubin-sims/lib/python3.10/site-packages/cartopy/mpl/geoaxes.py:403: UserWarning: The `map_projection` keyword argument is deprecated, use `projection` to instantiate a GeoAxes instead.\n",
      "  warnings.warn(\"The `map_projection` keyword argument is \"\n",
      "/Users/beckermr/mambaforge/envs/rubin-sims/lib/python3.10/site-packages/cartopy/mpl/geoaxes.py:403: UserWarning: The `map_projection` keyword argument is deprecated, use `projection` to instantiate a GeoAxes instead.\n",
      "  warnings.warn(\"The `map_projection` keyword argument is \"\n"
     ]
    },
    {
     "name": "stdout",
     "output_type": "stream",
     "text": [
      "[Parallel(n_jobs=8)]: Done 798 tasks      | elapsed: 48.0min\n"
     ]
    },
    {
     "name": "stderr",
     "output_type": "stream",
     "text": [
      "/Users/beckermr/mambaforge/envs/rubin-sims/lib/python3.10/site-packages/cartopy/mpl/geoaxes.py:403: UserWarning: The `map_projection` keyword argument is deprecated, use `projection` to instantiate a GeoAxes instead.\n",
      "  warnings.warn(\"The `map_projection` keyword argument is \"\n",
      "/Users/beckermr/mambaforge/envs/rubin-sims/lib/python3.10/site-packages/cartopy/mpl/geoaxes.py:403: UserWarning: The `map_projection` keyword argument is deprecated, use `projection` to instantiate a GeoAxes instead.\n",
      "  warnings.warn(\"The `map_projection` keyword argument is \"\n"
     ]
    },
    {
     "name": "stdout",
     "output_type": "stream",
     "text": [
      "[Parallel(n_jobs=8)]: Done 799 tasks      | elapsed: 48.0min\n"
     ]
    },
    {
     "name": "stderr",
     "output_type": "stream",
     "text": [
      "/Users/beckermr/mambaforge/envs/rubin-sims/lib/python3.10/site-packages/cartopy/mpl/geoaxes.py:403: UserWarning: The `map_projection` keyword argument is deprecated, use `projection` to instantiate a GeoAxes instead.\n",
      "  warnings.warn(\"The `map_projection` keyword argument is \"\n",
      "/Users/beckermr/mambaforge/envs/rubin-sims/lib/python3.10/site-packages/cartopy/mpl/geoaxes.py:403: UserWarning: The `map_projection` keyword argument is deprecated, use `projection` to instantiate a GeoAxes instead.\n",
      "  warnings.warn(\"The `map_projection` keyword argument is \"\n"
     ]
    },
    {
     "name": "stdout",
     "output_type": "stream",
     "text": [
      "[Parallel(n_jobs=8)]: Done 800 tasks      | elapsed: 48.2min\n"
     ]
    },
    {
     "name": "stderr",
     "output_type": "stream",
     "text": [
      "/Users/beckermr/mambaforge/envs/rubin-sims/lib/python3.10/site-packages/cartopy/mpl/geoaxes.py:403: UserWarning: The `map_projection` keyword argument is deprecated, use `projection` to instantiate a GeoAxes instead.\n",
      "  warnings.warn(\"The `map_projection` keyword argument is \"\n",
      "/Users/beckermr/mambaforge/envs/rubin-sims/lib/python3.10/site-packages/cartopy/mpl/geoaxes.py:403: UserWarning: The `map_projection` keyword argument is deprecated, use `projection` to instantiate a GeoAxes instead.\n",
      "  warnings.warn(\"The `map_projection` keyword argument is \"\n"
     ]
    },
    {
     "name": "stdout",
     "output_type": "stream",
     "text": [
      "[Parallel(n_jobs=8)]: Done 801 tasks      | elapsed: 48.4min\n"
     ]
    },
    {
     "name": "stderr",
     "output_type": "stream",
     "text": [
      "/Users/beckermr/mambaforge/envs/rubin-sims/lib/python3.10/site-packages/cartopy/mpl/geoaxes.py:403: UserWarning: The `map_projection` keyword argument is deprecated, use `projection` to instantiate a GeoAxes instead.\n",
      "  warnings.warn(\"The `map_projection` keyword argument is \"\n",
      "/Users/beckermr/mambaforge/envs/rubin-sims/lib/python3.10/site-packages/cartopy/mpl/geoaxes.py:403: UserWarning: The `map_projection` keyword argument is deprecated, use `projection` to instantiate a GeoAxes instead.\n",
      "  warnings.warn(\"The `map_projection` keyword argument is \"\n"
     ]
    },
    {
     "name": "stdout",
     "output_type": "stream",
     "text": [
      "[Parallel(n_jobs=8)]: Done 802 tasks      | elapsed: 48.4min\n"
     ]
    },
    {
     "name": "stderr",
     "output_type": "stream",
     "text": [
      "/Users/beckermr/mambaforge/envs/rubin-sims/lib/python3.10/site-packages/cartopy/mpl/geoaxes.py:403: UserWarning: The `map_projection` keyword argument is deprecated, use `projection` to instantiate a GeoAxes instead.\n",
      "  warnings.warn(\"The `map_projection` keyword argument is \"\n",
      "/Users/beckermr/mambaforge/envs/rubin-sims/lib/python3.10/site-packages/cartopy/mpl/geoaxes.py:403: UserWarning: The `map_projection` keyword argument is deprecated, use `projection` to instantiate a GeoAxes instead.\n",
      "  warnings.warn(\"The `map_projection` keyword argument is \"\n"
     ]
    },
    {
     "name": "stdout",
     "output_type": "stream",
     "text": [
      "[Parallel(n_jobs=8)]: Done 803 tasks      | elapsed: 48.5min\n"
     ]
    },
    {
     "name": "stderr",
     "output_type": "stream",
     "text": [
      "/Users/beckermr/mambaforge/envs/rubin-sims/lib/python3.10/site-packages/cartopy/mpl/geoaxes.py:403: UserWarning: The `map_projection` keyword argument is deprecated, use `projection` to instantiate a GeoAxes instead.\n",
      "  warnings.warn(\"The `map_projection` keyword argument is \"\n",
      "/Users/beckermr/mambaforge/envs/rubin-sims/lib/python3.10/site-packages/cartopy/mpl/geoaxes.py:403: UserWarning: The `map_projection` keyword argument is deprecated, use `projection` to instantiate a GeoAxes instead.\n",
      "  warnings.warn(\"The `map_projection` keyword argument is \"\n"
     ]
    },
    {
     "name": "stdout",
     "output_type": "stream",
     "text": [
      "[Parallel(n_jobs=8)]: Done 804 tasks      | elapsed: 48.5min\n"
     ]
    },
    {
     "name": "stderr",
     "output_type": "stream",
     "text": [
      "/Users/beckermr/mambaforge/envs/rubin-sims/lib/python3.10/site-packages/cartopy/mpl/geoaxes.py:403: UserWarning: The `map_projection` keyword argument is deprecated, use `projection` to instantiate a GeoAxes instead.\n",
      "  warnings.warn(\"The `map_projection` keyword argument is \"\n",
      "/Users/beckermr/mambaforge/envs/rubin-sims/lib/python3.10/site-packages/cartopy/mpl/geoaxes.py:403: UserWarning: The `map_projection` keyword argument is deprecated, use `projection` to instantiate a GeoAxes instead.\n",
      "  warnings.warn(\"The `map_projection` keyword argument is \"\n"
     ]
    },
    {
     "name": "stdout",
     "output_type": "stream",
     "text": [
      "[Parallel(n_jobs=8)]: Done 805 tasks      | elapsed: 48.5min\n"
     ]
    },
    {
     "name": "stderr",
     "output_type": "stream",
     "text": [
      "/Users/beckermr/mambaforge/envs/rubin-sims/lib/python3.10/site-packages/cartopy/mpl/geoaxes.py:403: UserWarning: The `map_projection` keyword argument is deprecated, use `projection` to instantiate a GeoAxes instead.\n",
      "  warnings.warn(\"The `map_projection` keyword argument is \"\n",
      "/Users/beckermr/mambaforge/envs/rubin-sims/lib/python3.10/site-packages/cartopy/mpl/geoaxes.py:403: UserWarning: The `map_projection` keyword argument is deprecated, use `projection` to instantiate a GeoAxes instead.\n",
      "  warnings.warn(\"The `map_projection` keyword argument is \"\n"
     ]
    },
    {
     "name": "stdout",
     "output_type": "stream",
     "text": [
      "[Parallel(n_jobs=8)]: Done 806 tasks      | elapsed: 48.5min\n",
      "[Parallel(n_jobs=8)]: Done 807 tasks      | elapsed: 48.5min\n"
     ]
    },
    {
     "name": "stderr",
     "output_type": "stream",
     "text": [
      "/Users/beckermr/mambaforge/envs/rubin-sims/lib/python3.10/site-packages/cartopy/mpl/geoaxes.py:403: UserWarning: The `map_projection` keyword argument is deprecated, use `projection` to instantiate a GeoAxes instead.\n",
      "  warnings.warn(\"The `map_projection` keyword argument is \"\n",
      "/Users/beckermr/mambaforge/envs/rubin-sims/lib/python3.10/site-packages/cartopy/mpl/geoaxes.py:403: UserWarning: The `map_projection` keyword argument is deprecated, use `projection` to instantiate a GeoAxes instead.\n",
      "  warnings.warn(\"The `map_projection` keyword argument is \"\n",
      "/Users/beckermr/mambaforge/envs/rubin-sims/lib/python3.10/site-packages/cartopy/mpl/geoaxes.py:403: UserWarning: The `map_projection` keyword argument is deprecated, use `projection` to instantiate a GeoAxes instead.\n",
      "  warnings.warn(\"The `map_projection` keyword argument is \"\n",
      "/Users/beckermr/mambaforge/envs/rubin-sims/lib/python3.10/site-packages/cartopy/mpl/geoaxes.py:403: UserWarning: The `map_projection` keyword argument is deprecated, use `projection` to instantiate a GeoAxes instead.\n",
      "  warnings.warn(\"The `map_projection` keyword argument is \"\n"
     ]
    },
    {
     "name": "stdout",
     "output_type": "stream",
     "text": [
      "[Parallel(n_jobs=8)]: Done 808 tasks      | elapsed: 48.6min\n"
     ]
    },
    {
     "name": "stderr",
     "output_type": "stream",
     "text": [
      "/Users/beckermr/mambaforge/envs/rubin-sims/lib/python3.10/site-packages/cartopy/mpl/geoaxes.py:403: UserWarning: The `map_projection` keyword argument is deprecated, use `projection` to instantiate a GeoAxes instead.\n",
      "  warnings.warn(\"The `map_projection` keyword argument is \"\n",
      "/Users/beckermr/mambaforge/envs/rubin-sims/lib/python3.10/site-packages/cartopy/mpl/geoaxes.py:403: UserWarning: The `map_projection` keyword argument is deprecated, use `projection` to instantiate a GeoAxes instead.\n",
      "  warnings.warn(\"The `map_projection` keyword argument is \"\n"
     ]
    },
    {
     "name": "stdout",
     "output_type": "stream",
     "text": [
      "[Parallel(n_jobs=8)]: Done 809 tasks      | elapsed: 48.8min\n"
     ]
    },
    {
     "name": "stderr",
     "output_type": "stream",
     "text": [
      "/Users/beckermr/mambaforge/envs/rubin-sims/lib/python3.10/site-packages/cartopy/mpl/geoaxes.py:403: UserWarning: The `map_projection` keyword argument is deprecated, use `projection` to instantiate a GeoAxes instead.\n",
      "  warnings.warn(\"The `map_projection` keyword argument is \"\n",
      "/Users/beckermr/mambaforge/envs/rubin-sims/lib/python3.10/site-packages/cartopy/mpl/geoaxes.py:403: UserWarning: The `map_projection` keyword argument is deprecated, use `projection` to instantiate a GeoAxes instead.\n",
      "  warnings.warn(\"The `map_projection` keyword argument is \"\n"
     ]
    },
    {
     "name": "stdout",
     "output_type": "stream",
     "text": [
      "[Parallel(n_jobs=8)]: Done 810 tasks      | elapsed: 48.9min\n"
     ]
    },
    {
     "name": "stderr",
     "output_type": "stream",
     "text": [
      "/Users/beckermr/mambaforge/envs/rubin-sims/lib/python3.10/site-packages/cartopy/mpl/geoaxes.py:403: UserWarning: The `map_projection` keyword argument is deprecated, use `projection` to instantiate a GeoAxes instead.\n",
      "  warnings.warn(\"The `map_projection` keyword argument is \"\n",
      "/Users/beckermr/mambaforge/envs/rubin-sims/lib/python3.10/site-packages/cartopy/mpl/geoaxes.py:403: UserWarning: The `map_projection` keyword argument is deprecated, use `projection` to instantiate a GeoAxes instead.\n",
      "  warnings.warn(\"The `map_projection` keyword argument is \"\n"
     ]
    },
    {
     "name": "stdout",
     "output_type": "stream",
     "text": [
      "[Parallel(n_jobs=8)]: Done 811 tasks      | elapsed: 48.9min\n"
     ]
    },
    {
     "name": "stderr",
     "output_type": "stream",
     "text": [
      "/Users/beckermr/mambaforge/envs/rubin-sims/lib/python3.10/site-packages/cartopy/mpl/geoaxes.py:403: UserWarning: The `map_projection` keyword argument is deprecated, use `projection` to instantiate a GeoAxes instead.\n",
      "  warnings.warn(\"The `map_projection` keyword argument is \"\n",
      "/Users/beckermr/mambaforge/envs/rubin-sims/lib/python3.10/site-packages/cartopy/mpl/geoaxes.py:403: UserWarning: The `map_projection` keyword argument is deprecated, use `projection` to instantiate a GeoAxes instead.\n",
      "  warnings.warn(\"The `map_projection` keyword argument is \"\n"
     ]
    },
    {
     "name": "stdout",
     "output_type": "stream",
     "text": [
      "[Parallel(n_jobs=8)]: Done 812 tasks      | elapsed: 49.0min\n"
     ]
    },
    {
     "name": "stderr",
     "output_type": "stream",
     "text": [
      "/Users/beckermr/mambaforge/envs/rubin-sims/lib/python3.10/site-packages/cartopy/mpl/geoaxes.py:403: UserWarning: The `map_projection` keyword argument is deprecated, use `projection` to instantiate a GeoAxes instead.\n",
      "  warnings.warn(\"The `map_projection` keyword argument is \"\n",
      "/Users/beckermr/mambaforge/envs/rubin-sims/lib/python3.10/site-packages/cartopy/mpl/geoaxes.py:403: UserWarning: The `map_projection` keyword argument is deprecated, use `projection` to instantiate a GeoAxes instead.\n",
      "  warnings.warn(\"The `map_projection` keyword argument is \"\n"
     ]
    },
    {
     "name": "stdout",
     "output_type": "stream",
     "text": [
      "[Parallel(n_jobs=8)]: Done 813 tasks      | elapsed: 49.0min\n"
     ]
    },
    {
     "name": "stderr",
     "output_type": "stream",
     "text": [
      "/Users/beckermr/mambaforge/envs/rubin-sims/lib/python3.10/site-packages/cartopy/mpl/geoaxes.py:403: UserWarning: The `map_projection` keyword argument is deprecated, use `projection` to instantiate a GeoAxes instead.\n",
      "  warnings.warn(\"The `map_projection` keyword argument is \"\n",
      "/Users/beckermr/mambaforge/envs/rubin-sims/lib/python3.10/site-packages/cartopy/mpl/geoaxes.py:403: UserWarning: The `map_projection` keyword argument is deprecated, use `projection` to instantiate a GeoAxes instead.\n",
      "  warnings.warn(\"The `map_projection` keyword argument is \"\n"
     ]
    },
    {
     "name": "stdout",
     "output_type": "stream",
     "text": [
      "[Parallel(n_jobs=8)]: Done 814 tasks      | elapsed: 49.0min\n",
      "[Parallel(n_jobs=8)]: Done 815 tasks      | elapsed: 49.0min\n"
     ]
    },
    {
     "name": "stderr",
     "output_type": "stream",
     "text": [
      "/Users/beckermr/mambaforge/envs/rubin-sims/lib/python3.10/site-packages/cartopy/mpl/geoaxes.py:403: UserWarning: The `map_projection` keyword argument is deprecated, use `projection` to instantiate a GeoAxes instead.\n",
      "  warnings.warn(\"The `map_projection` keyword argument is \"\n",
      "/Users/beckermr/mambaforge/envs/rubin-sims/lib/python3.10/site-packages/cartopy/mpl/geoaxes.py:403: UserWarning: The `map_projection` keyword argument is deprecated, use `projection` to instantiate a GeoAxes instead.\n",
      "  warnings.warn(\"The `map_projection` keyword argument is \"\n",
      "/Users/beckermr/mambaforge/envs/rubin-sims/lib/python3.10/site-packages/cartopy/mpl/geoaxes.py:403: UserWarning: The `map_projection` keyword argument is deprecated, use `projection` to instantiate a GeoAxes instead.\n",
      "  warnings.warn(\"The `map_projection` keyword argument is \"\n",
      "/Users/beckermr/mambaforge/envs/rubin-sims/lib/python3.10/site-packages/cartopy/mpl/geoaxes.py:403: UserWarning: The `map_projection` keyword argument is deprecated, use `projection` to instantiate a GeoAxes instead.\n",
      "  warnings.warn(\"The `map_projection` keyword argument is \"\n"
     ]
    },
    {
     "name": "stdout",
     "output_type": "stream",
     "text": [
      "[Parallel(n_jobs=8)]: Done 816 tasks      | elapsed: 49.1min\n"
     ]
    },
    {
     "name": "stderr",
     "output_type": "stream",
     "text": [
      "/Users/beckermr/mambaforge/envs/rubin-sims/lib/python3.10/site-packages/cartopy/mpl/geoaxes.py:403: UserWarning: The `map_projection` keyword argument is deprecated, use `projection` to instantiate a GeoAxes instead.\n",
      "  warnings.warn(\"The `map_projection` keyword argument is \"\n",
      "/Users/beckermr/mambaforge/envs/rubin-sims/lib/python3.10/site-packages/cartopy/mpl/geoaxes.py:403: UserWarning: The `map_projection` keyword argument is deprecated, use `projection` to instantiate a GeoAxes instead.\n",
      "  warnings.warn(\"The `map_projection` keyword argument is \"\n"
     ]
    },
    {
     "name": "stdout",
     "output_type": "stream",
     "text": [
      "[Parallel(n_jobs=8)]: Done 817 tasks      | elapsed: 49.3min\n"
     ]
    },
    {
     "name": "stderr",
     "output_type": "stream",
     "text": [
      "/Users/beckermr/mambaforge/envs/rubin-sims/lib/python3.10/site-packages/cartopy/mpl/geoaxes.py:403: UserWarning: The `map_projection` keyword argument is deprecated, use `projection` to instantiate a GeoAxes instead.\n",
      "  warnings.warn(\"The `map_projection` keyword argument is \"\n",
      "/Users/beckermr/mambaforge/envs/rubin-sims/lib/python3.10/site-packages/cartopy/mpl/geoaxes.py:403: UserWarning: The `map_projection` keyword argument is deprecated, use `projection` to instantiate a GeoAxes instead.\n",
      "  warnings.warn(\"The `map_projection` keyword argument is \"\n"
     ]
    },
    {
     "name": "stdout",
     "output_type": "stream",
     "text": [
      "[Parallel(n_jobs=8)]: Done 818 tasks      | elapsed: 49.4min\n"
     ]
    },
    {
     "name": "stderr",
     "output_type": "stream",
     "text": [
      "/Users/beckermr/mambaforge/envs/rubin-sims/lib/python3.10/site-packages/cartopy/mpl/geoaxes.py:403: UserWarning: The `map_projection` keyword argument is deprecated, use `projection` to instantiate a GeoAxes instead.\n",
      "  warnings.warn(\"The `map_projection` keyword argument is \"\n",
      "/Users/beckermr/mambaforge/envs/rubin-sims/lib/python3.10/site-packages/cartopy/mpl/geoaxes.py:403: UserWarning: The `map_projection` keyword argument is deprecated, use `projection` to instantiate a GeoAxes instead.\n",
      "  warnings.warn(\"The `map_projection` keyword argument is \"\n"
     ]
    },
    {
     "name": "stdout",
     "output_type": "stream",
     "text": [
      "[Parallel(n_jobs=8)]: Done 819 tasks      | elapsed: 49.5min\n"
     ]
    },
    {
     "name": "stderr",
     "output_type": "stream",
     "text": [
      "/Users/beckermr/mambaforge/envs/rubin-sims/lib/python3.10/site-packages/cartopy/mpl/geoaxes.py:403: UserWarning: The `map_projection` keyword argument is deprecated, use `projection` to instantiate a GeoAxes instead.\n",
      "  warnings.warn(\"The `map_projection` keyword argument is \"\n",
      "/Users/beckermr/mambaforge/envs/rubin-sims/lib/python3.10/site-packages/cartopy/mpl/geoaxes.py:403: UserWarning: The `map_projection` keyword argument is deprecated, use `projection` to instantiate a GeoAxes instead.\n",
      "  warnings.warn(\"The `map_projection` keyword argument is \"\n"
     ]
    },
    {
     "name": "stdout",
     "output_type": "stream",
     "text": [
      "[Parallel(n_jobs=8)]: Done 820 tasks      | elapsed: 49.5min\n"
     ]
    },
    {
     "name": "stderr",
     "output_type": "stream",
     "text": [
      "/Users/beckermr/mambaforge/envs/rubin-sims/lib/python3.10/site-packages/cartopy/mpl/geoaxes.py:403: UserWarning: The `map_projection` keyword argument is deprecated, use `projection` to instantiate a GeoAxes instead.\n",
      "  warnings.warn(\"The `map_projection` keyword argument is \"\n",
      "/Users/beckermr/mambaforge/envs/rubin-sims/lib/python3.10/site-packages/cartopy/mpl/geoaxes.py:403: UserWarning: The `map_projection` keyword argument is deprecated, use `projection` to instantiate a GeoAxes instead.\n",
      "  warnings.warn(\"The `map_projection` keyword argument is \"\n"
     ]
    },
    {
     "name": "stdout",
     "output_type": "stream",
     "text": [
      "[Parallel(n_jobs=8)]: Done 821 tasks      | elapsed: 49.5min\n"
     ]
    },
    {
     "name": "stderr",
     "output_type": "stream",
     "text": [
      "/Users/beckermr/mambaforge/envs/rubin-sims/lib/python3.10/site-packages/cartopy/mpl/geoaxes.py:403: UserWarning: The `map_projection` keyword argument is deprecated, use `projection` to instantiate a GeoAxes instead.\n",
      "  warnings.warn(\"The `map_projection` keyword argument is \"\n",
      "/Users/beckermr/mambaforge/envs/rubin-sims/lib/python3.10/site-packages/cartopy/mpl/geoaxes.py:403: UserWarning: The `map_projection` keyword argument is deprecated, use `projection` to instantiate a GeoAxes instead.\n",
      "  warnings.warn(\"The `map_projection` keyword argument is \"\n"
     ]
    },
    {
     "name": "stdout",
     "output_type": "stream",
     "text": [
      "[Parallel(n_jobs=8)]: Done 822 tasks      | elapsed: 49.5min\n",
      "[Parallel(n_jobs=8)]: Done 823 tasks      | elapsed: 49.5min\n"
     ]
    },
    {
     "name": "stderr",
     "output_type": "stream",
     "text": [
      "/Users/beckermr/mambaforge/envs/rubin-sims/lib/python3.10/site-packages/cartopy/mpl/geoaxes.py:403: UserWarning: The `map_projection` keyword argument is deprecated, use `projection` to instantiate a GeoAxes instead.\n",
      "  warnings.warn(\"The `map_projection` keyword argument is \"\n",
      "/Users/beckermr/mambaforge/envs/rubin-sims/lib/python3.10/site-packages/cartopy/mpl/geoaxes.py:403: UserWarning: The `map_projection` keyword argument is deprecated, use `projection` to instantiate a GeoAxes instead.\n",
      "  warnings.warn(\"The `map_projection` keyword argument is \"\n",
      "/Users/beckermr/mambaforge/envs/rubin-sims/lib/python3.10/site-packages/cartopy/mpl/geoaxes.py:403: UserWarning: The `map_projection` keyword argument is deprecated, use `projection` to instantiate a GeoAxes instead.\n",
      "  warnings.warn(\"The `map_projection` keyword argument is \"\n",
      "/Users/beckermr/mambaforge/envs/rubin-sims/lib/python3.10/site-packages/cartopy/mpl/geoaxes.py:403: UserWarning: The `map_projection` keyword argument is deprecated, use `projection` to instantiate a GeoAxes instead.\n",
      "  warnings.warn(\"The `map_projection` keyword argument is \"\n"
     ]
    },
    {
     "name": "stdout",
     "output_type": "stream",
     "text": [
      "[Parallel(n_jobs=8)]: Done 824 tasks      | elapsed: 49.6min\n"
     ]
    },
    {
     "name": "stderr",
     "output_type": "stream",
     "text": [
      "/Users/beckermr/mambaforge/envs/rubin-sims/lib/python3.10/site-packages/cartopy/mpl/geoaxes.py:403: UserWarning: The `map_projection` keyword argument is deprecated, use `projection` to instantiate a GeoAxes instead.\n",
      "  warnings.warn(\"The `map_projection` keyword argument is \"\n",
      "/Users/beckermr/mambaforge/envs/rubin-sims/lib/python3.10/site-packages/cartopy/mpl/geoaxes.py:403: UserWarning: The `map_projection` keyword argument is deprecated, use `projection` to instantiate a GeoAxes instead.\n",
      "  warnings.warn(\"The `map_projection` keyword argument is \"\n"
     ]
    },
    {
     "name": "stdout",
     "output_type": "stream",
     "text": [
      "[Parallel(n_jobs=8)]: Done 825 tasks      | elapsed: 49.8min\n"
     ]
    },
    {
     "name": "stderr",
     "output_type": "stream",
     "text": [
      "/Users/beckermr/mambaforge/envs/rubin-sims/lib/python3.10/site-packages/cartopy/mpl/geoaxes.py:403: UserWarning: The `map_projection` keyword argument is deprecated, use `projection` to instantiate a GeoAxes instead.\n",
      "  warnings.warn(\"The `map_projection` keyword argument is \"\n",
      "/Users/beckermr/mambaforge/envs/rubin-sims/lib/python3.10/site-packages/cartopy/mpl/geoaxes.py:403: UserWarning: The `map_projection` keyword argument is deprecated, use `projection` to instantiate a GeoAxes instead.\n",
      "  warnings.warn(\"The `map_projection` keyword argument is \"\n"
     ]
    },
    {
     "name": "stdout",
     "output_type": "stream",
     "text": [
      "[Parallel(n_jobs=8)]: Done 826 tasks      | elapsed: 49.9min\n"
     ]
    },
    {
     "name": "stderr",
     "output_type": "stream",
     "text": [
      "/Users/beckermr/mambaforge/envs/rubin-sims/lib/python3.10/site-packages/cartopy/mpl/geoaxes.py:403: UserWarning: The `map_projection` keyword argument is deprecated, use `projection` to instantiate a GeoAxes instead.\n",
      "  warnings.warn(\"The `map_projection` keyword argument is \"\n",
      "/Users/beckermr/mambaforge/envs/rubin-sims/lib/python3.10/site-packages/cartopy/mpl/geoaxes.py:403: UserWarning: The `map_projection` keyword argument is deprecated, use `projection` to instantiate a GeoAxes instead.\n",
      "  warnings.warn(\"The `map_projection` keyword argument is \"\n"
     ]
    },
    {
     "name": "stdout",
     "output_type": "stream",
     "text": [
      "[Parallel(n_jobs=8)]: Done 827 tasks      | elapsed: 50.0min\n"
     ]
    },
    {
     "name": "stderr",
     "output_type": "stream",
     "text": [
      "/Users/beckermr/mambaforge/envs/rubin-sims/lib/python3.10/site-packages/cartopy/mpl/geoaxes.py:403: UserWarning: The `map_projection` keyword argument is deprecated, use `projection` to instantiate a GeoAxes instead.\n",
      "  warnings.warn(\"The `map_projection` keyword argument is \"\n",
      "/Users/beckermr/mambaforge/envs/rubin-sims/lib/python3.10/site-packages/cartopy/mpl/geoaxes.py:403: UserWarning: The `map_projection` keyword argument is deprecated, use `projection` to instantiate a GeoAxes instead.\n",
      "  warnings.warn(\"The `map_projection` keyword argument is \"\n"
     ]
    },
    {
     "name": "stdout",
     "output_type": "stream",
     "text": [
      "[Parallel(n_jobs=8)]: Done 828 tasks      | elapsed: 50.0min\n"
     ]
    },
    {
     "name": "stderr",
     "output_type": "stream",
     "text": [
      "/Users/beckermr/mambaforge/envs/rubin-sims/lib/python3.10/site-packages/cartopy/mpl/geoaxes.py:403: UserWarning: The `map_projection` keyword argument is deprecated, use `projection` to instantiate a GeoAxes instead.\n",
      "  warnings.warn(\"The `map_projection` keyword argument is \"\n",
      "/Users/beckermr/mambaforge/envs/rubin-sims/lib/python3.10/site-packages/cartopy/mpl/geoaxes.py:403: UserWarning: The `map_projection` keyword argument is deprecated, use `projection` to instantiate a GeoAxes instead.\n",
      "  warnings.warn(\"The `map_projection` keyword argument is \"\n"
     ]
    },
    {
     "name": "stdout",
     "output_type": "stream",
     "text": [
      "[Parallel(n_jobs=8)]: Done 829 tasks      | elapsed: 50.0min\n"
     ]
    },
    {
     "name": "stderr",
     "output_type": "stream",
     "text": [
      "/Users/beckermr/mambaforge/envs/rubin-sims/lib/python3.10/site-packages/cartopy/mpl/geoaxes.py:403: UserWarning: The `map_projection` keyword argument is deprecated, use `projection` to instantiate a GeoAxes instead.\n",
      "  warnings.warn(\"The `map_projection` keyword argument is \"\n",
      "/Users/beckermr/mambaforge/envs/rubin-sims/lib/python3.10/site-packages/cartopy/mpl/geoaxes.py:403: UserWarning: The `map_projection` keyword argument is deprecated, use `projection` to instantiate a GeoAxes instead.\n",
      "  warnings.warn(\"The `map_projection` keyword argument is \"\n"
     ]
    },
    {
     "name": "stdout",
     "output_type": "stream",
     "text": [
      "[Parallel(n_jobs=8)]: Done 830 tasks      | elapsed: 50.0min\n"
     ]
    },
    {
     "name": "stderr",
     "output_type": "stream",
     "text": [
      "/Users/beckermr/mambaforge/envs/rubin-sims/lib/python3.10/site-packages/cartopy/mpl/geoaxes.py:403: UserWarning: The `map_projection` keyword argument is deprecated, use `projection` to instantiate a GeoAxes instead.\n",
      "  warnings.warn(\"The `map_projection` keyword argument is \"\n",
      "/Users/beckermr/mambaforge/envs/rubin-sims/lib/python3.10/site-packages/cartopy/mpl/geoaxes.py:403: UserWarning: The `map_projection` keyword argument is deprecated, use `projection` to instantiate a GeoAxes instead.\n",
      "  warnings.warn(\"The `map_projection` keyword argument is \"\n"
     ]
    },
    {
     "name": "stdout",
     "output_type": "stream",
     "text": [
      "[Parallel(n_jobs=8)]: Done 831 tasks      | elapsed: 50.0min\n"
     ]
    },
    {
     "name": "stderr",
     "output_type": "stream",
     "text": [
      "/Users/beckermr/mambaforge/envs/rubin-sims/lib/python3.10/site-packages/proplot/ui.py:143: RuntimeWarning: More than 20 figures have been opened. Figures created through the pyplot interface (`matplotlib.pyplot.figure`) are retained until explicitly closed and may consume too much memory. (To control this warning, see the rcParam `figure.max_open_warning`).\n",
      "  return plt.figure(FigureClass=pfigure.Figure, **kwargs)\n",
      "/Users/beckermr/mambaforge/envs/rubin-sims/lib/python3.10/site-packages/cartopy/mpl/geoaxes.py:403: UserWarning: The `map_projection` keyword argument is deprecated, use `projection` to instantiate a GeoAxes instead.\n",
      "  warnings.warn(\"The `map_projection` keyword argument is \"\n",
      "/Users/beckermr/mambaforge/envs/rubin-sims/lib/python3.10/site-packages/cartopy/mpl/geoaxes.py:403: UserWarning: The `map_projection` keyword argument is deprecated, use `projection` to instantiate a GeoAxes instead.\n",
      "  warnings.warn(\"The `map_projection` keyword argument is \"\n"
     ]
    },
    {
     "name": "stdout",
     "output_type": "stream",
     "text": [
      "[Parallel(n_jobs=8)]: Done 832 tasks      | elapsed: 50.1min\n"
     ]
    },
    {
     "name": "stderr",
     "output_type": "stream",
     "text": [
      "/Users/beckermr/mambaforge/envs/rubin-sims/lib/python3.10/site-packages/cartopy/mpl/geoaxes.py:403: UserWarning: The `map_projection` keyword argument is deprecated, use `projection` to instantiate a GeoAxes instead.\n",
      "  warnings.warn(\"The `map_projection` keyword argument is \"\n",
      "/Users/beckermr/mambaforge/envs/rubin-sims/lib/python3.10/site-packages/cartopy/mpl/geoaxes.py:403: UserWarning: The `map_projection` keyword argument is deprecated, use `projection` to instantiate a GeoAxes instead.\n",
      "  warnings.warn(\"The `map_projection` keyword argument is \"\n"
     ]
    },
    {
     "name": "stdout",
     "output_type": "stream",
     "text": [
      "[Parallel(n_jobs=8)]: Done 833 tasks      | elapsed: 50.3min\n"
     ]
    },
    {
     "name": "stderr",
     "output_type": "stream",
     "text": [
      "/Users/beckermr/mambaforge/envs/rubin-sims/lib/python3.10/site-packages/cartopy/mpl/geoaxes.py:403: UserWarning: The `map_projection` keyword argument is deprecated, use `projection` to instantiate a GeoAxes instead.\n",
      "  warnings.warn(\"The `map_projection` keyword argument is \"\n",
      "/Users/beckermr/mambaforge/envs/rubin-sims/lib/python3.10/site-packages/cartopy/mpl/geoaxes.py:403: UserWarning: The `map_projection` keyword argument is deprecated, use `projection` to instantiate a GeoAxes instead.\n",
      "  warnings.warn(\"The `map_projection` keyword argument is \"\n"
     ]
    },
    {
     "name": "stdout",
     "output_type": "stream",
     "text": [
      "[Parallel(n_jobs=8)]: Done 834 tasks      | elapsed: 50.3min\n"
     ]
    },
    {
     "name": "stderr",
     "output_type": "stream",
     "text": [
      "/Users/beckermr/mambaforge/envs/rubin-sims/lib/python3.10/site-packages/cartopy/mpl/geoaxes.py:403: UserWarning: The `map_projection` keyword argument is deprecated, use `projection` to instantiate a GeoAxes instead.\n",
      "  warnings.warn(\"The `map_projection` keyword argument is \"\n",
      "/Users/beckermr/mambaforge/envs/rubin-sims/lib/python3.10/site-packages/cartopy/mpl/geoaxes.py:403: UserWarning: The `map_projection` keyword argument is deprecated, use `projection` to instantiate a GeoAxes instead.\n",
      "  warnings.warn(\"The `map_projection` keyword argument is \"\n"
     ]
    },
    {
     "name": "stdout",
     "output_type": "stream",
     "text": [
      "[Parallel(n_jobs=8)]: Done 835 tasks      | elapsed: 50.4min\n"
     ]
    },
    {
     "name": "stderr",
     "output_type": "stream",
     "text": [
      "/Users/beckermr/mambaforge/envs/rubin-sims/lib/python3.10/site-packages/cartopy/mpl/geoaxes.py:403: UserWarning: The `map_projection` keyword argument is deprecated, use `projection` to instantiate a GeoAxes instead.\n",
      "  warnings.warn(\"The `map_projection` keyword argument is \"\n",
      "/Users/beckermr/mambaforge/envs/rubin-sims/lib/python3.10/site-packages/cartopy/mpl/geoaxes.py:403: UserWarning: The `map_projection` keyword argument is deprecated, use `projection` to instantiate a GeoAxes instead.\n",
      "  warnings.warn(\"The `map_projection` keyword argument is \"\n"
     ]
    },
    {
     "name": "stdout",
     "output_type": "stream",
     "text": [
      "[Parallel(n_jobs=8)]: Done 836 tasks      | elapsed: 50.5min\n"
     ]
    },
    {
     "name": "stderr",
     "output_type": "stream",
     "text": [
      "/Users/beckermr/mambaforge/envs/rubin-sims/lib/python3.10/site-packages/cartopy/mpl/geoaxes.py:403: UserWarning: The `map_projection` keyword argument is deprecated, use `projection` to instantiate a GeoAxes instead.\n",
      "  warnings.warn(\"The `map_projection` keyword argument is \"\n",
      "/Users/beckermr/mambaforge/envs/rubin-sims/lib/python3.10/site-packages/cartopy/mpl/geoaxes.py:403: UserWarning: The `map_projection` keyword argument is deprecated, use `projection` to instantiate a GeoAxes instead.\n",
      "  warnings.warn(\"The `map_projection` keyword argument is \"\n"
     ]
    },
    {
     "name": "stdout",
     "output_type": "stream",
     "text": [
      "[Parallel(n_jobs=8)]: Done 837 tasks      | elapsed: 50.5min\n"
     ]
    },
    {
     "name": "stderr",
     "output_type": "stream",
     "text": [
      "/Users/beckermr/mambaforge/envs/rubin-sims/lib/python3.10/site-packages/proplot/ui.py:143: RuntimeWarning: More than 20 figures have been opened. Figures created through the pyplot interface (`matplotlib.pyplot.figure`) are retained until explicitly closed and may consume too much memory. (To control this warning, see the rcParam `figure.max_open_warning`).\n",
      "  return plt.figure(FigureClass=pfigure.Figure, **kwargs)\n",
      "/Users/beckermr/mambaforge/envs/rubin-sims/lib/python3.10/site-packages/cartopy/mpl/geoaxes.py:403: UserWarning: The `map_projection` keyword argument is deprecated, use `projection` to instantiate a GeoAxes instead.\n",
      "  warnings.warn(\"The `map_projection` keyword argument is \"\n",
      "/Users/beckermr/mambaforge/envs/rubin-sims/lib/python3.10/site-packages/cartopy/mpl/geoaxes.py:403: UserWarning: The `map_projection` keyword argument is deprecated, use `projection` to instantiate a GeoAxes instead.\n",
      "  warnings.warn(\"The `map_projection` keyword argument is \"\n"
     ]
    },
    {
     "name": "stdout",
     "output_type": "stream",
     "text": [
      "[Parallel(n_jobs=8)]: Done 838 tasks      | elapsed: 50.5min\n"
     ]
    },
    {
     "name": "stderr",
     "output_type": "stream",
     "text": [
      "/Users/beckermr/mambaforge/envs/rubin-sims/lib/python3.10/site-packages/cartopy/mpl/geoaxes.py:403: UserWarning: The `map_projection` keyword argument is deprecated, use `projection` to instantiate a GeoAxes instead.\n",
      "  warnings.warn(\"The `map_projection` keyword argument is \"\n",
      "/Users/beckermr/mambaforge/envs/rubin-sims/lib/python3.10/site-packages/cartopy/mpl/geoaxes.py:403: UserWarning: The `map_projection` keyword argument is deprecated, use `projection` to instantiate a GeoAxes instead.\n",
      "  warnings.warn(\"The `map_projection` keyword argument is \"\n"
     ]
    },
    {
     "name": "stdout",
     "output_type": "stream",
     "text": [
      "[Parallel(n_jobs=8)]: Done 839 tasks      | elapsed: 50.5min\n"
     ]
    },
    {
     "name": "stderr",
     "output_type": "stream",
     "text": [
      "/Users/beckermr/mambaforge/envs/rubin-sims/lib/python3.10/site-packages/cartopy/mpl/geoaxes.py:403: UserWarning: The `map_projection` keyword argument is deprecated, use `projection` to instantiate a GeoAxes instead.\n",
      "  warnings.warn(\"The `map_projection` keyword argument is \"\n",
      "/Users/beckermr/mambaforge/envs/rubin-sims/lib/python3.10/site-packages/cartopy/mpl/geoaxes.py:403: UserWarning: The `map_projection` keyword argument is deprecated, use `projection` to instantiate a GeoAxes instead.\n",
      "  warnings.warn(\"The `map_projection` keyword argument is \"\n"
     ]
    },
    {
     "name": "stdout",
     "output_type": "stream",
     "text": [
      "[Parallel(n_jobs=8)]: Done 840 tasks      | elapsed: 50.6min\n"
     ]
    },
    {
     "name": "stderr",
     "output_type": "stream",
     "text": [
      "/Users/beckermr/mambaforge/envs/rubin-sims/lib/python3.10/site-packages/cartopy/mpl/geoaxes.py:403: UserWarning: The `map_projection` keyword argument is deprecated, use `projection` to instantiate a GeoAxes instead.\n",
      "  warnings.warn(\"The `map_projection` keyword argument is \"\n",
      "/Users/beckermr/mambaforge/envs/rubin-sims/lib/python3.10/site-packages/cartopy/mpl/geoaxes.py:403: UserWarning: The `map_projection` keyword argument is deprecated, use `projection` to instantiate a GeoAxes instead.\n",
      "  warnings.warn(\"The `map_projection` keyword argument is \"\n"
     ]
    },
    {
     "name": "stdout",
     "output_type": "stream",
     "text": [
      "[Parallel(n_jobs=8)]: Done 841 tasks      | elapsed: 50.8min\n"
     ]
    },
    {
     "name": "stderr",
     "output_type": "stream",
     "text": [
      "/Users/beckermr/mambaforge/envs/rubin-sims/lib/python3.10/site-packages/proplot/ui.py:143: RuntimeWarning: More than 20 figures have been opened. Figures created through the pyplot interface (`matplotlib.pyplot.figure`) are retained until explicitly closed and may consume too much memory. (To control this warning, see the rcParam `figure.max_open_warning`).\n",
      "  return plt.figure(FigureClass=pfigure.Figure, **kwargs)\n",
      "/Users/beckermr/mambaforge/envs/rubin-sims/lib/python3.10/site-packages/cartopy/mpl/geoaxes.py:403: UserWarning: The `map_projection` keyword argument is deprecated, use `projection` to instantiate a GeoAxes instead.\n",
      "  warnings.warn(\"The `map_projection` keyword argument is \"\n",
      "/Users/beckermr/mambaforge/envs/rubin-sims/lib/python3.10/site-packages/cartopy/mpl/geoaxes.py:403: UserWarning: The `map_projection` keyword argument is deprecated, use `projection` to instantiate a GeoAxes instead.\n",
      "  warnings.warn(\"The `map_projection` keyword argument is \"\n"
     ]
    },
    {
     "name": "stdout",
     "output_type": "stream",
     "text": [
      "[Parallel(n_jobs=8)]: Done 842 tasks      | elapsed: 50.8min\n"
     ]
    },
    {
     "name": "stderr",
     "output_type": "stream",
     "text": [
      "/Users/beckermr/mambaforge/envs/rubin-sims/lib/python3.10/site-packages/cartopy/mpl/geoaxes.py:403: UserWarning: The `map_projection` keyword argument is deprecated, use `projection` to instantiate a GeoAxes instead.\n",
      "  warnings.warn(\"The `map_projection` keyword argument is \"\n",
      "/Users/beckermr/mambaforge/envs/rubin-sims/lib/python3.10/site-packages/cartopy/mpl/geoaxes.py:403: UserWarning: The `map_projection` keyword argument is deprecated, use `projection` to instantiate a GeoAxes instead.\n",
      "  warnings.warn(\"The `map_projection` keyword argument is \"\n"
     ]
    },
    {
     "name": "stdout",
     "output_type": "stream",
     "text": [
      "[Parallel(n_jobs=8)]: Done 843 tasks      | elapsed: 50.9min\n"
     ]
    },
    {
     "name": "stderr",
     "output_type": "stream",
     "text": [
      "/Users/beckermr/mambaforge/envs/rubin-sims/lib/python3.10/site-packages/proplot/ui.py:143: RuntimeWarning: More than 20 figures have been opened. Figures created through the pyplot interface (`matplotlib.pyplot.figure`) are retained until explicitly closed and may consume too much memory. (To control this warning, see the rcParam `figure.max_open_warning`).\n",
      "  return plt.figure(FigureClass=pfigure.Figure, **kwargs)\n",
      "/Users/beckermr/mambaforge/envs/rubin-sims/lib/python3.10/site-packages/cartopy/mpl/geoaxes.py:403: UserWarning: The `map_projection` keyword argument is deprecated, use `projection` to instantiate a GeoAxes instead.\n",
      "  warnings.warn(\"The `map_projection` keyword argument is \"\n",
      "/Users/beckermr/mambaforge/envs/rubin-sims/lib/python3.10/site-packages/cartopy/mpl/geoaxes.py:403: UserWarning: The `map_projection` keyword argument is deprecated, use `projection` to instantiate a GeoAxes instead.\n",
      "  warnings.warn(\"The `map_projection` keyword argument is \"\n"
     ]
    },
    {
     "name": "stdout",
     "output_type": "stream",
     "text": [
      "[Parallel(n_jobs=8)]: Done 844 tasks      | elapsed: 50.9min\n"
     ]
    },
    {
     "name": "stderr",
     "output_type": "stream",
     "text": [
      "/Users/beckermr/mambaforge/envs/rubin-sims/lib/python3.10/site-packages/proplot/ui.py:143: RuntimeWarning: More than 20 figures have been opened. Figures created through the pyplot interface (`matplotlib.pyplot.figure`) are retained until explicitly closed and may consume too much memory. (To control this warning, see the rcParam `figure.max_open_warning`).\n",
      "  return plt.figure(FigureClass=pfigure.Figure, **kwargs)\n",
      "/Users/beckermr/mambaforge/envs/rubin-sims/lib/python3.10/site-packages/cartopy/mpl/geoaxes.py:403: UserWarning: The `map_projection` keyword argument is deprecated, use `projection` to instantiate a GeoAxes instead.\n",
      "  warnings.warn(\"The `map_projection` keyword argument is \"\n",
      "/Users/beckermr/mambaforge/envs/rubin-sims/lib/python3.10/site-packages/cartopy/mpl/geoaxes.py:403: UserWarning: The `map_projection` keyword argument is deprecated, use `projection` to instantiate a GeoAxes instead.\n",
      "  warnings.warn(\"The `map_projection` keyword argument is \"\n"
     ]
    },
    {
     "name": "stdout",
     "output_type": "stream",
     "text": [
      "[Parallel(n_jobs=8)]: Done 845 tasks      | elapsed: 50.9min\n"
     ]
    },
    {
     "name": "stderr",
     "output_type": "stream",
     "text": [
      "/Users/beckermr/mambaforge/envs/rubin-sims/lib/python3.10/site-packages/cartopy/mpl/geoaxes.py:403: UserWarning: The `map_projection` keyword argument is deprecated, use `projection` to instantiate a GeoAxes instead.\n",
      "  warnings.warn(\"The `map_projection` keyword argument is \"\n",
      "/Users/beckermr/mambaforge/envs/rubin-sims/lib/python3.10/site-packages/cartopy/mpl/geoaxes.py:403: UserWarning: The `map_projection` keyword argument is deprecated, use `projection` to instantiate a GeoAxes instead.\n",
      "  warnings.warn(\"The `map_projection` keyword argument is \"\n"
     ]
    },
    {
     "name": "stdout",
     "output_type": "stream",
     "text": [
      "[Parallel(n_jobs=8)]: Done 846 tasks      | elapsed: 51.0min\n"
     ]
    },
    {
     "name": "stderr",
     "output_type": "stream",
     "text": [
      "/Users/beckermr/mambaforge/envs/rubin-sims/lib/python3.10/site-packages/proplot/ui.py:143: RuntimeWarning: More than 20 figures have been opened. Figures created through the pyplot interface (`matplotlib.pyplot.figure`) are retained until explicitly closed and may consume too much memory. (To control this warning, see the rcParam `figure.max_open_warning`).\n",
      "  return plt.figure(FigureClass=pfigure.Figure, **kwargs)\n",
      "/Users/beckermr/mambaforge/envs/rubin-sims/lib/python3.10/site-packages/cartopy/mpl/geoaxes.py:403: UserWarning: The `map_projection` keyword argument is deprecated, use `projection` to instantiate a GeoAxes instead.\n",
      "  warnings.warn(\"The `map_projection` keyword argument is \"\n",
      "/Users/beckermr/mambaforge/envs/rubin-sims/lib/python3.10/site-packages/cartopy/mpl/geoaxes.py:403: UserWarning: The `map_projection` keyword argument is deprecated, use `projection` to instantiate a GeoAxes instead.\n",
      "  warnings.warn(\"The `map_projection` keyword argument is \"\n"
     ]
    },
    {
     "name": "stdout",
     "output_type": "stream",
     "text": [
      "[Parallel(n_jobs=8)]: Done 847 tasks      | elapsed: 51.0min\n"
     ]
    },
    {
     "name": "stderr",
     "output_type": "stream",
     "text": [
      "/Users/beckermr/mambaforge/envs/rubin-sims/lib/python3.10/site-packages/cartopy/mpl/geoaxes.py:403: UserWarning: The `map_projection` keyword argument is deprecated, use `projection` to instantiate a GeoAxes instead.\n",
      "  warnings.warn(\"The `map_projection` keyword argument is \"\n",
      "/Users/beckermr/mambaforge/envs/rubin-sims/lib/python3.10/site-packages/cartopy/mpl/geoaxes.py:403: UserWarning: The `map_projection` keyword argument is deprecated, use `projection` to instantiate a GeoAxes instead.\n",
      "  warnings.warn(\"The `map_projection` keyword argument is \"\n"
     ]
    },
    {
     "name": "stdout",
     "output_type": "stream",
     "text": [
      "[Parallel(n_jobs=8)]: Done 848 tasks      | elapsed: 51.1min\n"
     ]
    },
    {
     "name": "stderr",
     "output_type": "stream",
     "text": [
      "/Users/beckermr/mambaforge/envs/rubin-sims/lib/python3.10/site-packages/cartopy/mpl/geoaxes.py:403: UserWarning: The `map_projection` keyword argument is deprecated, use `projection` to instantiate a GeoAxes instead.\n",
      "  warnings.warn(\"The `map_projection` keyword argument is \"\n",
      "/Users/beckermr/mambaforge/envs/rubin-sims/lib/python3.10/site-packages/cartopy/mpl/geoaxes.py:403: UserWarning: The `map_projection` keyword argument is deprecated, use `projection` to instantiate a GeoAxes instead.\n",
      "  warnings.warn(\"The `map_projection` keyword argument is \"\n"
     ]
    },
    {
     "name": "stdout",
     "output_type": "stream",
     "text": [
      "[Parallel(n_jobs=8)]: Done 849 tasks      | elapsed: 51.3min\n"
     ]
    },
    {
     "name": "stderr",
     "output_type": "stream",
     "text": [
      "/Users/beckermr/mambaforge/envs/rubin-sims/lib/python3.10/site-packages/cartopy/mpl/geoaxes.py:403: UserWarning: The `map_projection` keyword argument is deprecated, use `projection` to instantiate a GeoAxes instead.\n",
      "  warnings.warn(\"The `map_projection` keyword argument is \"\n",
      "/Users/beckermr/mambaforge/envs/rubin-sims/lib/python3.10/site-packages/cartopy/mpl/geoaxes.py:403: UserWarning: The `map_projection` keyword argument is deprecated, use `projection` to instantiate a GeoAxes instead.\n",
      "  warnings.warn(\"The `map_projection` keyword argument is \"\n"
     ]
    },
    {
     "name": "stdout",
     "output_type": "stream",
     "text": [
      "[Parallel(n_jobs=8)]: Done 850 tasks      | elapsed: 51.3min\n"
     ]
    },
    {
     "name": "stderr",
     "output_type": "stream",
     "text": [
      "/Users/beckermr/mambaforge/envs/rubin-sims/lib/python3.10/site-packages/cartopy/mpl/geoaxes.py:403: UserWarning: The `map_projection` keyword argument is deprecated, use `projection` to instantiate a GeoAxes instead.\n",
      "  warnings.warn(\"The `map_projection` keyword argument is \"\n",
      "/Users/beckermr/mambaforge/envs/rubin-sims/lib/python3.10/site-packages/cartopy/mpl/geoaxes.py:403: UserWarning: The `map_projection` keyword argument is deprecated, use `projection` to instantiate a GeoAxes instead.\n",
      "  warnings.warn(\"The `map_projection` keyword argument is \"\n"
     ]
    },
    {
     "name": "stdout",
     "output_type": "stream",
     "text": [
      "[Parallel(n_jobs=8)]: Done 851 tasks      | elapsed: 51.4min\n"
     ]
    },
    {
     "name": "stderr",
     "output_type": "stream",
     "text": [
      "/Users/beckermr/mambaforge/envs/rubin-sims/lib/python3.10/site-packages/cartopy/mpl/geoaxes.py:403: UserWarning: The `map_projection` keyword argument is deprecated, use `projection` to instantiate a GeoAxes instead.\n",
      "  warnings.warn(\"The `map_projection` keyword argument is \"\n",
      "/Users/beckermr/mambaforge/envs/rubin-sims/lib/python3.10/site-packages/cartopy/mpl/geoaxes.py:403: UserWarning: The `map_projection` keyword argument is deprecated, use `projection` to instantiate a GeoAxes instead.\n",
      "  warnings.warn(\"The `map_projection` keyword argument is \"\n"
     ]
    },
    {
     "name": "stdout",
     "output_type": "stream",
     "text": [
      "[Parallel(n_jobs=8)]: Done 852 tasks      | elapsed: 51.4min\n"
     ]
    },
    {
     "name": "stderr",
     "output_type": "stream",
     "text": [
      "/Users/beckermr/mambaforge/envs/rubin-sims/lib/python3.10/site-packages/cartopy/mpl/geoaxes.py:403: UserWarning: The `map_projection` keyword argument is deprecated, use `projection` to instantiate a GeoAxes instead.\n",
      "  warnings.warn(\"The `map_projection` keyword argument is \"\n",
      "/Users/beckermr/mambaforge/envs/rubin-sims/lib/python3.10/site-packages/cartopy/mpl/geoaxes.py:403: UserWarning: The `map_projection` keyword argument is deprecated, use `projection` to instantiate a GeoAxes instead.\n",
      "  warnings.warn(\"The `map_projection` keyword argument is \"\n"
     ]
    },
    {
     "name": "stdout",
     "output_type": "stream",
     "text": [
      "[Parallel(n_jobs=8)]: Done 853 tasks      | elapsed: 51.4min\n"
     ]
    },
    {
     "name": "stderr",
     "output_type": "stream",
     "text": [
      "/Users/beckermr/mambaforge/envs/rubin-sims/lib/python3.10/site-packages/cartopy/mpl/geoaxes.py:403: UserWarning: The `map_projection` keyword argument is deprecated, use `projection` to instantiate a GeoAxes instead.\n",
      "  warnings.warn(\"The `map_projection` keyword argument is \"\n",
      "/Users/beckermr/mambaforge/envs/rubin-sims/lib/python3.10/site-packages/cartopy/mpl/geoaxes.py:403: UserWarning: The `map_projection` keyword argument is deprecated, use `projection` to instantiate a GeoAxes instead.\n",
      "  warnings.warn(\"The `map_projection` keyword argument is \"\n"
     ]
    },
    {
     "name": "stdout",
     "output_type": "stream",
     "text": [
      "[Parallel(n_jobs=8)]: Done 854 tasks      | elapsed: 51.4min\n"
     ]
    },
    {
     "name": "stderr",
     "output_type": "stream",
     "text": [
      "/Users/beckermr/mambaforge/envs/rubin-sims/lib/python3.10/site-packages/cartopy/mpl/geoaxes.py:403: UserWarning: The `map_projection` keyword argument is deprecated, use `projection` to instantiate a GeoAxes instead.\n",
      "  warnings.warn(\"The `map_projection` keyword argument is \"\n",
      "/Users/beckermr/mambaforge/envs/rubin-sims/lib/python3.10/site-packages/cartopy/mpl/geoaxes.py:403: UserWarning: The `map_projection` keyword argument is deprecated, use `projection` to instantiate a GeoAxes instead.\n",
      "  warnings.warn(\"The `map_projection` keyword argument is \"\n"
     ]
    },
    {
     "name": "stdout",
     "output_type": "stream",
     "text": [
      "[Parallel(n_jobs=8)]: Done 855 tasks      | elapsed: 51.5min\n"
     ]
    },
    {
     "name": "stderr",
     "output_type": "stream",
     "text": [
      "/Users/beckermr/mambaforge/envs/rubin-sims/lib/python3.10/site-packages/cartopy/mpl/geoaxes.py:403: UserWarning: The `map_projection` keyword argument is deprecated, use `projection` to instantiate a GeoAxes instead.\n",
      "  warnings.warn(\"The `map_projection` keyword argument is \"\n",
      "/Users/beckermr/mambaforge/envs/rubin-sims/lib/python3.10/site-packages/cartopy/mpl/geoaxes.py:403: UserWarning: The `map_projection` keyword argument is deprecated, use `projection` to instantiate a GeoAxes instead.\n",
      "  warnings.warn(\"The `map_projection` keyword argument is \"\n"
     ]
    },
    {
     "name": "stdout",
     "output_type": "stream",
     "text": [
      "[Parallel(n_jobs=8)]: Done 856 tasks      | elapsed: 51.6min\n"
     ]
    },
    {
     "name": "stderr",
     "output_type": "stream",
     "text": [
      "/Users/beckermr/mambaforge/envs/rubin-sims/lib/python3.10/site-packages/proplot/ui.py:143: RuntimeWarning: More than 20 figures have been opened. Figures created through the pyplot interface (`matplotlib.pyplot.figure`) are retained until explicitly closed and may consume too much memory. (To control this warning, see the rcParam `figure.max_open_warning`).\n",
      "  return plt.figure(FigureClass=pfigure.Figure, **kwargs)\n",
      "/Users/beckermr/mambaforge/envs/rubin-sims/lib/python3.10/site-packages/cartopy/mpl/geoaxes.py:403: UserWarning: The `map_projection` keyword argument is deprecated, use `projection` to instantiate a GeoAxes instead.\n",
      "  warnings.warn(\"The `map_projection` keyword argument is \"\n",
      "/Users/beckermr/mambaforge/envs/rubin-sims/lib/python3.10/site-packages/cartopy/mpl/geoaxes.py:403: UserWarning: The `map_projection` keyword argument is deprecated, use `projection` to instantiate a GeoAxes instead.\n",
      "  warnings.warn(\"The `map_projection` keyword argument is \"\n"
     ]
    },
    {
     "name": "stdout",
     "output_type": "stream",
     "text": [
      "[Parallel(n_jobs=8)]: Done 857 tasks      | elapsed: 51.8min\n"
     ]
    },
    {
     "name": "stderr",
     "output_type": "stream",
     "text": [
      "/Users/beckermr/mambaforge/envs/rubin-sims/lib/python3.10/site-packages/cartopy/mpl/geoaxes.py:403: UserWarning: The `map_projection` keyword argument is deprecated, use `projection` to instantiate a GeoAxes instead.\n",
      "  warnings.warn(\"The `map_projection` keyword argument is \"\n",
      "/Users/beckermr/mambaforge/envs/rubin-sims/lib/python3.10/site-packages/cartopy/mpl/geoaxes.py:403: UserWarning: The `map_projection` keyword argument is deprecated, use `projection` to instantiate a GeoAxes instead.\n",
      "  warnings.warn(\"The `map_projection` keyword argument is \"\n"
     ]
    },
    {
     "name": "stdout",
     "output_type": "stream",
     "text": [
      "[Parallel(n_jobs=8)]: Done 858 tasks      | elapsed: 51.8min\n"
     ]
    },
    {
     "name": "stderr",
     "output_type": "stream",
     "text": [
      "/Users/beckermr/mambaforge/envs/rubin-sims/lib/python3.10/site-packages/proplot/ui.py:143: RuntimeWarning: More than 20 figures have been opened. Figures created through the pyplot interface (`matplotlib.pyplot.figure`) are retained until explicitly closed and may consume too much memory. (To control this warning, see the rcParam `figure.max_open_warning`).\n",
      "  return plt.figure(FigureClass=pfigure.Figure, **kwargs)\n",
      "/Users/beckermr/mambaforge/envs/rubin-sims/lib/python3.10/site-packages/cartopy/mpl/geoaxes.py:403: UserWarning: The `map_projection` keyword argument is deprecated, use `projection` to instantiate a GeoAxes instead.\n",
      "  warnings.warn(\"The `map_projection` keyword argument is \"\n",
      "/Users/beckermr/mambaforge/envs/rubin-sims/lib/python3.10/site-packages/cartopy/mpl/geoaxes.py:403: UserWarning: The `map_projection` keyword argument is deprecated, use `projection` to instantiate a GeoAxes instead.\n",
      "  warnings.warn(\"The `map_projection` keyword argument is \"\n"
     ]
    },
    {
     "name": "stdout",
     "output_type": "stream",
     "text": [
      "[Parallel(n_jobs=8)]: Done 859 tasks      | elapsed: 51.9min\n"
     ]
    },
    {
     "name": "stderr",
     "output_type": "stream",
     "text": [
      "/Users/beckermr/mambaforge/envs/rubin-sims/lib/python3.10/site-packages/cartopy/mpl/geoaxes.py:403: UserWarning: The `map_projection` keyword argument is deprecated, use `projection` to instantiate a GeoAxes instead.\n",
      "  warnings.warn(\"The `map_projection` keyword argument is \"\n",
      "/Users/beckermr/mambaforge/envs/rubin-sims/lib/python3.10/site-packages/cartopy/mpl/geoaxes.py:403: UserWarning: The `map_projection` keyword argument is deprecated, use `projection` to instantiate a GeoAxes instead.\n",
      "  warnings.warn(\"The `map_projection` keyword argument is \"\n"
     ]
    },
    {
     "name": "stdout",
     "output_type": "stream",
     "text": [
      "[Parallel(n_jobs=8)]: Done 860 tasks      | elapsed: 51.9min\n"
     ]
    },
    {
     "name": "stderr",
     "output_type": "stream",
     "text": [
      "/Users/beckermr/mambaforge/envs/rubin-sims/lib/python3.10/site-packages/cartopy/mpl/geoaxes.py:403: UserWarning: The `map_projection` keyword argument is deprecated, use `projection` to instantiate a GeoAxes instead.\n",
      "  warnings.warn(\"The `map_projection` keyword argument is \"\n",
      "/Users/beckermr/mambaforge/envs/rubin-sims/lib/python3.10/site-packages/cartopy/mpl/geoaxes.py:403: UserWarning: The `map_projection` keyword argument is deprecated, use `projection` to instantiate a GeoAxes instead.\n",
      "  warnings.warn(\"The `map_projection` keyword argument is \"\n"
     ]
    },
    {
     "name": "stdout",
     "output_type": "stream",
     "text": [
      "[Parallel(n_jobs=8)]: Done 861 tasks      | elapsed: 51.9min\n",
      "[Parallel(n_jobs=8)]: Done 862 tasks      | elapsed: 51.9min\n"
     ]
    },
    {
     "name": "stderr",
     "output_type": "stream",
     "text": [
      "/Users/beckermr/mambaforge/envs/rubin-sims/lib/python3.10/site-packages/cartopy/mpl/geoaxes.py:403: UserWarning: The `map_projection` keyword argument is deprecated, use `projection` to instantiate a GeoAxes instead.\n",
      "  warnings.warn(\"The `map_projection` keyword argument is \"\n",
      "/Users/beckermr/mambaforge/envs/rubin-sims/lib/python3.10/site-packages/cartopy/mpl/geoaxes.py:403: UserWarning: The `map_projection` keyword argument is deprecated, use `projection` to instantiate a GeoAxes instead.\n",
      "  warnings.warn(\"The `map_projection` keyword argument is \"\n",
      "/Users/beckermr/mambaforge/envs/rubin-sims/lib/python3.10/site-packages/cartopy/mpl/geoaxes.py:403: UserWarning: The `map_projection` keyword argument is deprecated, use `projection` to instantiate a GeoAxes instead.\n",
      "  warnings.warn(\"The `map_projection` keyword argument is \"\n",
      "/Users/beckermr/mambaforge/envs/rubin-sims/lib/python3.10/site-packages/cartopy/mpl/geoaxes.py:403: UserWarning: The `map_projection` keyword argument is deprecated, use `projection` to instantiate a GeoAxes instead.\n",
      "  warnings.warn(\"The `map_projection` keyword argument is \"\n"
     ]
    },
    {
     "name": "stdout",
     "output_type": "stream",
     "text": [
      "[Parallel(n_jobs=8)]: Done 863 tasks      | elapsed: 51.9min\n"
     ]
    },
    {
     "name": "stderr",
     "output_type": "stream",
     "text": [
      "/Users/beckermr/mambaforge/envs/rubin-sims/lib/python3.10/site-packages/cartopy/mpl/geoaxes.py:403: UserWarning: The `map_projection` keyword argument is deprecated, use `projection` to instantiate a GeoAxes instead.\n",
      "  warnings.warn(\"The `map_projection` keyword argument is \"\n",
      "/Users/beckermr/mambaforge/envs/rubin-sims/lib/python3.10/site-packages/cartopy/mpl/geoaxes.py:403: UserWarning: The `map_projection` keyword argument is deprecated, use `projection` to instantiate a GeoAxes instead.\n",
      "  warnings.warn(\"The `map_projection` keyword argument is \"\n"
     ]
    },
    {
     "name": "stdout",
     "output_type": "stream",
     "text": [
      "[Parallel(n_jobs=8)]: Done 864 tasks      | elapsed: 52.0min\n"
     ]
    },
    {
     "name": "stderr",
     "output_type": "stream",
     "text": [
      "/Users/beckermr/mambaforge/envs/rubin-sims/lib/python3.10/site-packages/cartopy/mpl/geoaxes.py:403: UserWarning: The `map_projection` keyword argument is deprecated, use `projection` to instantiate a GeoAxes instead.\n",
      "  warnings.warn(\"The `map_projection` keyword argument is \"\n",
      "/Users/beckermr/mambaforge/envs/rubin-sims/lib/python3.10/site-packages/cartopy/mpl/geoaxes.py:403: UserWarning: The `map_projection` keyword argument is deprecated, use `projection` to instantiate a GeoAxes instead.\n",
      "  warnings.warn(\"The `map_projection` keyword argument is \"\n"
     ]
    },
    {
     "name": "stdout",
     "output_type": "stream",
     "text": [
      "[Parallel(n_jobs=8)]: Done 865 tasks      | elapsed: 52.2min\n",
      "[Parallel(n_jobs=8)]: Done 866 tasks      | elapsed: 52.2min\n"
     ]
    },
    {
     "name": "stderr",
     "output_type": "stream",
     "text": [
      "/Users/beckermr/mambaforge/envs/rubin-sims/lib/python3.10/site-packages/cartopy/mpl/geoaxes.py:403: UserWarning: The `map_projection` keyword argument is deprecated, use `projection` to instantiate a GeoAxes instead.\n",
      "  warnings.warn(\"The `map_projection` keyword argument is \"\n",
      "/Users/beckermr/mambaforge/envs/rubin-sims/lib/python3.10/site-packages/cartopy/mpl/geoaxes.py:403: UserWarning: The `map_projection` keyword argument is deprecated, use `projection` to instantiate a GeoAxes instead.\n",
      "  warnings.warn(\"The `map_projection` keyword argument is \"\n",
      "/Users/beckermr/mambaforge/envs/rubin-sims/lib/python3.10/site-packages/cartopy/mpl/geoaxes.py:403: UserWarning: The `map_projection` keyword argument is deprecated, use `projection` to instantiate a GeoAxes instead.\n",
      "  warnings.warn(\"The `map_projection` keyword argument is \"\n",
      "/Users/beckermr/mambaforge/envs/rubin-sims/lib/python3.10/site-packages/cartopy/mpl/geoaxes.py:403: UserWarning: The `map_projection` keyword argument is deprecated, use `projection` to instantiate a GeoAxes instead.\n",
      "  warnings.warn(\"The `map_projection` keyword argument is \"\n"
     ]
    },
    {
     "name": "stdout",
     "output_type": "stream",
     "text": [
      "[Parallel(n_jobs=8)]: Done 867 tasks      | elapsed: 52.3min\n",
      "[Parallel(n_jobs=8)]: Done 868 tasks      | elapsed: 52.3min\n"
     ]
    },
    {
     "name": "stderr",
     "output_type": "stream",
     "text": [
      "/Users/beckermr/mambaforge/envs/rubin-sims/lib/python3.10/site-packages/cartopy/mpl/geoaxes.py:403: UserWarning: The `map_projection` keyword argument is deprecated, use `projection` to instantiate a GeoAxes instead.\n",
      "  warnings.warn(\"The `map_projection` keyword argument is \"\n",
      "/Users/beckermr/mambaforge/envs/rubin-sims/lib/python3.10/site-packages/cartopy/mpl/geoaxes.py:403: UserWarning: The `map_projection` keyword argument is deprecated, use `projection` to instantiate a GeoAxes instead.\n",
      "  warnings.warn(\"The `map_projection` keyword argument is \"\n",
      "/Users/beckermr/mambaforge/envs/rubin-sims/lib/python3.10/site-packages/cartopy/mpl/geoaxes.py:403: UserWarning: The `map_projection` keyword argument is deprecated, use `projection` to instantiate a GeoAxes instead.\n",
      "  warnings.warn(\"The `map_projection` keyword argument is \"\n",
      "/Users/beckermr/mambaforge/envs/rubin-sims/lib/python3.10/site-packages/cartopy/mpl/geoaxes.py:403: UserWarning: The `map_projection` keyword argument is deprecated, use `projection` to instantiate a GeoAxes instead.\n",
      "  warnings.warn(\"The `map_projection` keyword argument is \"\n"
     ]
    },
    {
     "name": "stdout",
     "output_type": "stream",
     "text": [
      "[Parallel(n_jobs=8)]: Done 869 tasks      | elapsed: 52.4min\n"
     ]
    },
    {
     "name": "stderr",
     "output_type": "stream",
     "text": [
      "/Users/beckermr/mambaforge/envs/rubin-sims/lib/python3.10/site-packages/cartopy/mpl/geoaxes.py:403: UserWarning: The `map_projection` keyword argument is deprecated, use `projection` to instantiate a GeoAxes instead.\n",
      "  warnings.warn(\"The `map_projection` keyword argument is \"\n",
      "/Users/beckermr/mambaforge/envs/rubin-sims/lib/python3.10/site-packages/cartopy/mpl/geoaxes.py:403: UserWarning: The `map_projection` keyword argument is deprecated, use `projection` to instantiate a GeoAxes instead.\n",
      "  warnings.warn(\"The `map_projection` keyword argument is \"\n"
     ]
    },
    {
     "name": "stdout",
     "output_type": "stream",
     "text": [
      "[Parallel(n_jobs=8)]: Done 870 tasks      | elapsed: 52.4min\n",
      "[Parallel(n_jobs=8)]: Done 871 tasks      | elapsed: 52.4min\n"
     ]
    },
    {
     "name": "stderr",
     "output_type": "stream",
     "text": [
      "/Users/beckermr/mambaforge/envs/rubin-sims/lib/python3.10/site-packages/cartopy/mpl/geoaxes.py:403: UserWarning: The `map_projection` keyword argument is deprecated, use `projection` to instantiate a GeoAxes instead.\n",
      "  warnings.warn(\"The `map_projection` keyword argument is \"\n",
      "/Users/beckermr/mambaforge/envs/rubin-sims/lib/python3.10/site-packages/cartopy/mpl/geoaxes.py:403: UserWarning: The `map_projection` keyword argument is deprecated, use `projection` to instantiate a GeoAxes instead.\n",
      "  warnings.warn(\"The `map_projection` keyword argument is \"\n",
      "/Users/beckermr/mambaforge/envs/rubin-sims/lib/python3.10/site-packages/cartopy/mpl/geoaxes.py:403: UserWarning: The `map_projection` keyword argument is deprecated, use `projection` to instantiate a GeoAxes instead.\n",
      "  warnings.warn(\"The `map_projection` keyword argument is \"\n",
      "/Users/beckermr/mambaforge/envs/rubin-sims/lib/python3.10/site-packages/cartopy/mpl/geoaxes.py:403: UserWarning: The `map_projection` keyword argument is deprecated, use `projection` to instantiate a GeoAxes instead.\n",
      "  warnings.warn(\"The `map_projection` keyword argument is \"\n"
     ]
    },
    {
     "name": "stdout",
     "output_type": "stream",
     "text": [
      "[Parallel(n_jobs=8)]: Done 872 tasks      | elapsed: 52.5min\n"
     ]
    },
    {
     "name": "stderr",
     "output_type": "stream",
     "text": [
      "/Users/beckermr/mambaforge/envs/rubin-sims/lib/python3.10/site-packages/cartopy/mpl/geoaxes.py:403: UserWarning: The `map_projection` keyword argument is deprecated, use `projection` to instantiate a GeoAxes instead.\n",
      "  warnings.warn(\"The `map_projection` keyword argument is \"\n",
      "/Users/beckermr/mambaforge/envs/rubin-sims/lib/python3.10/site-packages/cartopy/mpl/geoaxes.py:403: UserWarning: The `map_projection` keyword argument is deprecated, use `projection` to instantiate a GeoAxes instead.\n",
      "  warnings.warn(\"The `map_projection` keyword argument is \"\n"
     ]
    },
    {
     "name": "stdout",
     "output_type": "stream",
     "text": [
      "[Parallel(n_jobs=8)]: Done 873 tasks      | elapsed: 52.7min\n",
      "[Parallel(n_jobs=8)]: Done 874 tasks      | elapsed: 52.7min\n"
     ]
    },
    {
     "name": "stderr",
     "output_type": "stream",
     "text": [
      "/Users/beckermr/mambaforge/envs/rubin-sims/lib/python3.10/site-packages/cartopy/mpl/geoaxes.py:403: UserWarning: The `map_projection` keyword argument is deprecated, use `projection` to instantiate a GeoAxes instead.\n",
      "  warnings.warn(\"The `map_projection` keyword argument is \"\n",
      "/Users/beckermr/mambaforge/envs/rubin-sims/lib/python3.10/site-packages/cartopy/mpl/geoaxes.py:403: UserWarning: The `map_projection` keyword argument is deprecated, use `projection` to instantiate a GeoAxes instead.\n",
      "  warnings.warn(\"The `map_projection` keyword argument is \"\n",
      "/Users/beckermr/mambaforge/envs/rubin-sims/lib/python3.10/site-packages/cartopy/mpl/geoaxes.py:403: UserWarning: The `map_projection` keyword argument is deprecated, use `projection` to instantiate a GeoAxes instead.\n",
      "  warnings.warn(\"The `map_projection` keyword argument is \"\n",
      "/Users/beckermr/mambaforge/envs/rubin-sims/lib/python3.10/site-packages/cartopy/mpl/geoaxes.py:403: UserWarning: The `map_projection` keyword argument is deprecated, use `projection` to instantiate a GeoAxes instead.\n",
      "  warnings.warn(\"The `map_projection` keyword argument is \"\n"
     ]
    },
    {
     "name": "stdout",
     "output_type": "stream",
     "text": [
      "[Parallel(n_jobs=8)]: Done 875 tasks      | elapsed: 52.8min\n"
     ]
    },
    {
     "name": "stderr",
     "output_type": "stream",
     "text": [
      "/Users/beckermr/mambaforge/envs/rubin-sims/lib/python3.10/site-packages/cartopy/mpl/geoaxes.py:403: UserWarning: The `map_projection` keyword argument is deprecated, use `projection` to instantiate a GeoAxes instead.\n",
      "  warnings.warn(\"The `map_projection` keyword argument is \"\n",
      "/Users/beckermr/mambaforge/envs/rubin-sims/lib/python3.10/site-packages/cartopy/mpl/geoaxes.py:403: UserWarning: The `map_projection` keyword argument is deprecated, use `projection` to instantiate a GeoAxes instead.\n",
      "  warnings.warn(\"The `map_projection` keyword argument is \"\n"
     ]
    },
    {
     "name": "stdout",
     "output_type": "stream",
     "text": [
      "[Parallel(n_jobs=8)]: Done 876 tasks      | elapsed: 52.8min\n"
     ]
    },
    {
     "name": "stderr",
     "output_type": "stream",
     "text": [
      "/Users/beckermr/mambaforge/envs/rubin-sims/lib/python3.10/site-packages/cartopy/mpl/geoaxes.py:403: UserWarning: The `map_projection` keyword argument is deprecated, use `projection` to instantiate a GeoAxes instead.\n",
      "  warnings.warn(\"The `map_projection` keyword argument is \"\n",
      "/Users/beckermr/mambaforge/envs/rubin-sims/lib/python3.10/site-packages/cartopy/mpl/geoaxes.py:403: UserWarning: The `map_projection` keyword argument is deprecated, use `projection` to instantiate a GeoAxes instead.\n",
      "  warnings.warn(\"The `map_projection` keyword argument is \"\n"
     ]
    },
    {
     "name": "stdout",
     "output_type": "stream",
     "text": [
      "[Parallel(n_jobs=8)]: Done 877 tasks      | elapsed: 52.8min\n"
     ]
    },
    {
     "name": "stderr",
     "output_type": "stream",
     "text": [
      "/Users/beckermr/mambaforge/envs/rubin-sims/lib/python3.10/site-packages/cartopy/mpl/geoaxes.py:403: UserWarning: The `map_projection` keyword argument is deprecated, use `projection` to instantiate a GeoAxes instead.\n",
      "  warnings.warn(\"The `map_projection` keyword argument is \"\n",
      "/Users/beckermr/mambaforge/envs/rubin-sims/lib/python3.10/site-packages/cartopy/mpl/geoaxes.py:403: UserWarning: The `map_projection` keyword argument is deprecated, use `projection` to instantiate a GeoAxes instead.\n",
      "  warnings.warn(\"The `map_projection` keyword argument is \"\n"
     ]
    },
    {
     "name": "stdout",
     "output_type": "stream",
     "text": [
      "[Parallel(n_jobs=8)]: Done 878 tasks      | elapsed: 52.8min\n",
      "[Parallel(n_jobs=8)]: Done 879 tasks      | elapsed: 52.8min\n"
     ]
    },
    {
     "name": "stderr",
     "output_type": "stream",
     "text": [
      "/Users/beckermr/mambaforge/envs/rubin-sims/lib/python3.10/site-packages/cartopy/mpl/geoaxes.py:403: UserWarning: The `map_projection` keyword argument is deprecated, use `projection` to instantiate a GeoAxes instead.\n",
      "  warnings.warn(\"The `map_projection` keyword argument is \"\n",
      "/Users/beckermr/mambaforge/envs/rubin-sims/lib/python3.10/site-packages/cartopy/mpl/geoaxes.py:403: UserWarning: The `map_projection` keyword argument is deprecated, use `projection` to instantiate a GeoAxes instead.\n",
      "  warnings.warn(\"The `map_projection` keyword argument is \"\n",
      "/Users/beckermr/mambaforge/envs/rubin-sims/lib/python3.10/site-packages/cartopy/mpl/geoaxes.py:403: UserWarning: The `map_projection` keyword argument is deprecated, use `projection` to instantiate a GeoAxes instead.\n",
      "  warnings.warn(\"The `map_projection` keyword argument is \"\n",
      "/Users/beckermr/mambaforge/envs/rubin-sims/lib/python3.10/site-packages/cartopy/mpl/geoaxes.py:403: UserWarning: The `map_projection` keyword argument is deprecated, use `projection` to instantiate a GeoAxes instead.\n",
      "  warnings.warn(\"The `map_projection` keyword argument is \"\n"
     ]
    },
    {
     "name": "stdout",
     "output_type": "stream",
     "text": [
      "[Parallel(n_jobs=8)]: Done 880 tasks      | elapsed: 52.9min\n"
     ]
    },
    {
     "name": "stderr",
     "output_type": "stream",
     "text": [
      "/Users/beckermr/mambaforge/envs/rubin-sims/lib/python3.10/site-packages/cartopy/mpl/geoaxes.py:403: UserWarning: The `map_projection` keyword argument is deprecated, use `projection` to instantiate a GeoAxes instead.\n",
      "  warnings.warn(\"The `map_projection` keyword argument is \"\n",
      "/Users/beckermr/mambaforge/envs/rubin-sims/lib/python3.10/site-packages/cartopy/mpl/geoaxes.py:403: UserWarning: The `map_projection` keyword argument is deprecated, use `projection` to instantiate a GeoAxes instead.\n",
      "  warnings.warn(\"The `map_projection` keyword argument is \"\n"
     ]
    },
    {
     "name": "stdout",
     "output_type": "stream",
     "text": [
      "[Parallel(n_jobs=8)]: Done 881 tasks      | elapsed: 53.2min\n"
     ]
    },
    {
     "name": "stderr",
     "output_type": "stream",
     "text": [
      "/Users/beckermr/mambaforge/envs/rubin-sims/lib/python3.10/site-packages/cartopy/mpl/geoaxes.py:403: UserWarning: The `map_projection` keyword argument is deprecated, use `projection` to instantiate a GeoAxes instead.\n",
      "  warnings.warn(\"The `map_projection` keyword argument is \"\n",
      "/Users/beckermr/mambaforge/envs/rubin-sims/lib/python3.10/site-packages/cartopy/mpl/geoaxes.py:403: UserWarning: The `map_projection` keyword argument is deprecated, use `projection` to instantiate a GeoAxes instead.\n",
      "  warnings.warn(\"The `map_projection` keyword argument is \"\n"
     ]
    },
    {
     "name": "stdout",
     "output_type": "stream",
     "text": [
      "[Parallel(n_jobs=8)]: Done 882 tasks      | elapsed: 53.2min\n"
     ]
    },
    {
     "name": "stderr",
     "output_type": "stream",
     "text": [
      "/Users/beckermr/mambaforge/envs/rubin-sims/lib/python3.10/site-packages/cartopy/mpl/geoaxes.py:403: UserWarning: The `map_projection` keyword argument is deprecated, use `projection` to instantiate a GeoAxes instead.\n",
      "  warnings.warn(\"The `map_projection` keyword argument is \"\n",
      "/Users/beckermr/mambaforge/envs/rubin-sims/lib/python3.10/site-packages/cartopy/mpl/geoaxes.py:403: UserWarning: The `map_projection` keyword argument is deprecated, use `projection` to instantiate a GeoAxes instead.\n",
      "  warnings.warn(\"The `map_projection` keyword argument is \"\n"
     ]
    },
    {
     "name": "stdout",
     "output_type": "stream",
     "text": [
      "[Parallel(n_jobs=8)]: Done 883 tasks      | elapsed: 53.3min\n"
     ]
    },
    {
     "name": "stderr",
     "output_type": "stream",
     "text": [
      "/Users/beckermr/mambaforge/envs/rubin-sims/lib/python3.10/site-packages/cartopy/mpl/geoaxes.py:403: UserWarning: The `map_projection` keyword argument is deprecated, use `projection` to instantiate a GeoAxes instead.\n",
      "  warnings.warn(\"The `map_projection` keyword argument is \"\n",
      "/Users/beckermr/mambaforge/envs/rubin-sims/lib/python3.10/site-packages/cartopy/mpl/geoaxes.py:403: UserWarning: The `map_projection` keyword argument is deprecated, use `projection` to instantiate a GeoAxes instead.\n",
      "  warnings.warn(\"The `map_projection` keyword argument is \"\n"
     ]
    },
    {
     "name": "stdout",
     "output_type": "stream",
     "text": [
      "[Parallel(n_jobs=8)]: Done 884 tasks      | elapsed: 53.3min\n"
     ]
    },
    {
     "name": "stderr",
     "output_type": "stream",
     "text": [
      "/Users/beckermr/mambaforge/envs/rubin-sims/lib/python3.10/site-packages/cartopy/mpl/geoaxes.py:403: UserWarning: The `map_projection` keyword argument is deprecated, use `projection` to instantiate a GeoAxes instead.\n",
      "  warnings.warn(\"The `map_projection` keyword argument is \"\n",
      "/Users/beckermr/mambaforge/envs/rubin-sims/lib/python3.10/site-packages/cartopy/mpl/geoaxes.py:403: UserWarning: The `map_projection` keyword argument is deprecated, use `projection` to instantiate a GeoAxes instead.\n",
      "  warnings.warn(\"The `map_projection` keyword argument is \"\n"
     ]
    },
    {
     "name": "stdout",
     "output_type": "stream",
     "text": [
      "[Parallel(n_jobs=8)]: Done 885 tasks      | elapsed: 53.3min\n"
     ]
    },
    {
     "name": "stderr",
     "output_type": "stream",
     "text": [
      "/Users/beckermr/mambaforge/envs/rubin-sims/lib/python3.10/site-packages/cartopy/mpl/geoaxes.py:403: UserWarning: The `map_projection` keyword argument is deprecated, use `projection` to instantiate a GeoAxes instead.\n",
      "  warnings.warn(\"The `map_projection` keyword argument is \"\n",
      "/Users/beckermr/mambaforge/envs/rubin-sims/lib/python3.10/site-packages/cartopy/mpl/geoaxes.py:403: UserWarning: The `map_projection` keyword argument is deprecated, use `projection` to instantiate a GeoAxes instead.\n",
      "  warnings.warn(\"The `map_projection` keyword argument is \"\n"
     ]
    },
    {
     "name": "stdout",
     "output_type": "stream",
     "text": [
      "[Parallel(n_jobs=8)]: Done 886 tasks      | elapsed: 53.3min\n"
     ]
    },
    {
     "name": "stderr",
     "output_type": "stream",
     "text": [
      "/Users/beckermr/mambaforge/envs/rubin-sims/lib/python3.10/site-packages/cartopy/mpl/geoaxes.py:403: UserWarning: The `map_projection` keyword argument is deprecated, use `projection` to instantiate a GeoAxes instead.\n",
      "  warnings.warn(\"The `map_projection` keyword argument is \"\n",
      "/Users/beckermr/mambaforge/envs/rubin-sims/lib/python3.10/site-packages/cartopy/mpl/geoaxes.py:403: UserWarning: The `map_projection` keyword argument is deprecated, use `projection` to instantiate a GeoAxes instead.\n",
      "  warnings.warn(\"The `map_projection` keyword argument is \"\n"
     ]
    },
    {
     "name": "stdout",
     "output_type": "stream",
     "text": [
      "[Parallel(n_jobs=8)]: Done 887 tasks      | elapsed: 53.3min\n"
     ]
    },
    {
     "name": "stderr",
     "output_type": "stream",
     "text": [
      "/Users/beckermr/mambaforge/envs/rubin-sims/lib/python3.10/site-packages/cartopy/mpl/geoaxes.py:403: UserWarning: The `map_projection` keyword argument is deprecated, use `projection` to instantiate a GeoAxes instead.\n",
      "  warnings.warn(\"The `map_projection` keyword argument is \"\n",
      "/Users/beckermr/mambaforge/envs/rubin-sims/lib/python3.10/site-packages/cartopy/mpl/geoaxes.py:403: UserWarning: The `map_projection` keyword argument is deprecated, use `projection` to instantiate a GeoAxes instead.\n",
      "  warnings.warn(\"The `map_projection` keyword argument is \"\n"
     ]
    },
    {
     "name": "stdout",
     "output_type": "stream",
     "text": [
      "[Parallel(n_jobs=8)]: Done 888 tasks      | elapsed: 53.4min\n"
     ]
    },
    {
     "name": "stderr",
     "output_type": "stream",
     "text": [
      "/Users/beckermr/mambaforge/envs/rubin-sims/lib/python3.10/site-packages/cartopy/mpl/geoaxes.py:403: UserWarning: The `map_projection` keyword argument is deprecated, use `projection` to instantiate a GeoAxes instead.\n",
      "  warnings.warn(\"The `map_projection` keyword argument is \"\n",
      "/Users/beckermr/mambaforge/envs/rubin-sims/lib/python3.10/site-packages/cartopy/mpl/geoaxes.py:403: UserWarning: The `map_projection` keyword argument is deprecated, use `projection` to instantiate a GeoAxes instead.\n",
      "  warnings.warn(\"The `map_projection` keyword argument is \"\n"
     ]
    },
    {
     "name": "stdout",
     "output_type": "stream",
     "text": [
      "[Parallel(n_jobs=8)]: Done 889 tasks      | elapsed: 53.6min\n"
     ]
    },
    {
     "name": "stderr",
     "output_type": "stream",
     "text": [
      "/Users/beckermr/mambaforge/envs/rubin-sims/lib/python3.10/site-packages/cartopy/mpl/geoaxes.py:403: UserWarning: The `map_projection` keyword argument is deprecated, use `projection` to instantiate a GeoAxes instead.\n",
      "  warnings.warn(\"The `map_projection` keyword argument is \"\n",
      "/Users/beckermr/mambaforge/envs/rubin-sims/lib/python3.10/site-packages/cartopy/mpl/geoaxes.py:403: UserWarning: The `map_projection` keyword argument is deprecated, use `projection` to instantiate a GeoAxes instead.\n",
      "  warnings.warn(\"The `map_projection` keyword argument is \"\n"
     ]
    },
    {
     "name": "stdout",
     "output_type": "stream",
     "text": [
      "[Parallel(n_jobs=8)]: Done 890 tasks      | elapsed: 53.6min\n"
     ]
    },
    {
     "name": "stderr",
     "output_type": "stream",
     "text": [
      "/Users/beckermr/mambaforge/envs/rubin-sims/lib/python3.10/site-packages/cartopy/mpl/geoaxes.py:403: UserWarning: The `map_projection` keyword argument is deprecated, use `projection` to instantiate a GeoAxes instead.\n",
      "  warnings.warn(\"The `map_projection` keyword argument is \"\n",
      "/Users/beckermr/mambaforge/envs/rubin-sims/lib/python3.10/site-packages/cartopy/mpl/geoaxes.py:403: UserWarning: The `map_projection` keyword argument is deprecated, use `projection` to instantiate a GeoAxes instead.\n",
      "  warnings.warn(\"The `map_projection` keyword argument is \"\n"
     ]
    },
    {
     "name": "stdout",
     "output_type": "stream",
     "text": [
      "[Parallel(n_jobs=8)]: Done 891 tasks      | elapsed: 53.7min\n"
     ]
    },
    {
     "name": "stderr",
     "output_type": "stream",
     "text": [
      "/Users/beckermr/mambaforge/envs/rubin-sims/lib/python3.10/site-packages/cartopy/mpl/geoaxes.py:403: UserWarning: The `map_projection` keyword argument is deprecated, use `projection` to instantiate a GeoAxes instead.\n",
      "  warnings.warn(\"The `map_projection` keyword argument is \"\n",
      "/Users/beckermr/mambaforge/envs/rubin-sims/lib/python3.10/site-packages/cartopy/mpl/geoaxes.py:403: UserWarning: The `map_projection` keyword argument is deprecated, use `projection` to instantiate a GeoAxes instead.\n",
      "  warnings.warn(\"The `map_projection` keyword argument is \"\n"
     ]
    },
    {
     "name": "stdout",
     "output_type": "stream",
     "text": [
      "[Parallel(n_jobs=8)]: Done 892 tasks      | elapsed: 53.7min\n"
     ]
    },
    {
     "name": "stderr",
     "output_type": "stream",
     "text": [
      "/Users/beckermr/mambaforge/envs/rubin-sims/lib/python3.10/site-packages/cartopy/mpl/geoaxes.py:403: UserWarning: The `map_projection` keyword argument is deprecated, use `projection` to instantiate a GeoAxes instead.\n",
      "  warnings.warn(\"The `map_projection` keyword argument is \"\n",
      "/Users/beckermr/mambaforge/envs/rubin-sims/lib/python3.10/site-packages/cartopy/mpl/geoaxes.py:403: UserWarning: The `map_projection` keyword argument is deprecated, use `projection` to instantiate a GeoAxes instead.\n",
      "  warnings.warn(\"The `map_projection` keyword argument is \"\n"
     ]
    },
    {
     "name": "stdout",
     "output_type": "stream",
     "text": [
      "[Parallel(n_jobs=8)]: Done 893 tasks      | elapsed: 53.8min\n"
     ]
    },
    {
     "name": "stderr",
     "output_type": "stream",
     "text": [
      "/Users/beckermr/mambaforge/envs/rubin-sims/lib/python3.10/site-packages/cartopy/mpl/geoaxes.py:403: UserWarning: The `map_projection` keyword argument is deprecated, use `projection` to instantiate a GeoAxes instead.\n",
      "  warnings.warn(\"The `map_projection` keyword argument is \"\n",
      "/Users/beckermr/mambaforge/envs/rubin-sims/lib/python3.10/site-packages/cartopy/mpl/geoaxes.py:403: UserWarning: The `map_projection` keyword argument is deprecated, use `projection` to instantiate a GeoAxes instead.\n",
      "  warnings.warn(\"The `map_projection` keyword argument is \"\n"
     ]
    },
    {
     "name": "stdout",
     "output_type": "stream",
     "text": [
      "[Parallel(n_jobs=8)]: Done 894 tasks      | elapsed: 53.8min\n"
     ]
    },
    {
     "name": "stderr",
     "output_type": "stream",
     "text": [
      "/Users/beckermr/mambaforge/envs/rubin-sims/lib/python3.10/site-packages/cartopy/mpl/geoaxes.py:403: UserWarning: The `map_projection` keyword argument is deprecated, use `projection` to instantiate a GeoAxes instead.\n",
      "  warnings.warn(\"The `map_projection` keyword argument is \"\n",
      "/Users/beckermr/mambaforge/envs/rubin-sims/lib/python3.10/site-packages/cartopy/mpl/geoaxes.py:403: UserWarning: The `map_projection` keyword argument is deprecated, use `projection` to instantiate a GeoAxes instead.\n",
      "  warnings.warn(\"The `map_projection` keyword argument is \"\n"
     ]
    },
    {
     "name": "stdout",
     "output_type": "stream",
     "text": [
      "[Parallel(n_jobs=8)]: Done 895 tasks      | elapsed: 53.8min\n"
     ]
    },
    {
     "name": "stderr",
     "output_type": "stream",
     "text": [
      "/Users/beckermr/mambaforge/envs/rubin-sims/lib/python3.10/site-packages/cartopy/mpl/geoaxes.py:403: UserWarning: The `map_projection` keyword argument is deprecated, use `projection` to instantiate a GeoAxes instead.\n",
      "  warnings.warn(\"The `map_projection` keyword argument is \"\n",
      "/Users/beckermr/mambaforge/envs/rubin-sims/lib/python3.10/site-packages/cartopy/mpl/geoaxes.py:403: UserWarning: The `map_projection` keyword argument is deprecated, use `projection` to instantiate a GeoAxes instead.\n",
      "  warnings.warn(\"The `map_projection` keyword argument is \"\n"
     ]
    },
    {
     "name": "stdout",
     "output_type": "stream",
     "text": [
      "[Parallel(n_jobs=8)]: Done 896 tasks      | elapsed: 53.9min\n"
     ]
    },
    {
     "name": "stderr",
     "output_type": "stream",
     "text": [
      "/Users/beckermr/mambaforge/envs/rubin-sims/lib/python3.10/site-packages/cartopy/mpl/geoaxes.py:403: UserWarning: The `map_projection` keyword argument is deprecated, use `projection` to instantiate a GeoAxes instead.\n",
      "  warnings.warn(\"The `map_projection` keyword argument is \"\n",
      "/Users/beckermr/mambaforge/envs/rubin-sims/lib/python3.10/site-packages/cartopy/mpl/geoaxes.py:403: UserWarning: The `map_projection` keyword argument is deprecated, use `projection` to instantiate a GeoAxes instead.\n",
      "  warnings.warn(\"The `map_projection` keyword argument is \"\n"
     ]
    },
    {
     "name": "stdout",
     "output_type": "stream",
     "text": [
      "[Parallel(n_jobs=8)]: Done 897 tasks      | elapsed: 54.1min\n",
      "[Parallel(n_jobs=8)]: Done 898 tasks      | elapsed: 54.1min\n"
     ]
    },
    {
     "name": "stderr",
     "output_type": "stream",
     "text": [
      "/Users/beckermr/mambaforge/envs/rubin-sims/lib/python3.10/site-packages/cartopy/mpl/geoaxes.py:403: UserWarning: The `map_projection` keyword argument is deprecated, use `projection` to instantiate a GeoAxes instead.\n",
      "  warnings.warn(\"The `map_projection` keyword argument is \"\n",
      "/Users/beckermr/mambaforge/envs/rubin-sims/lib/python3.10/site-packages/cartopy/mpl/geoaxes.py:403: UserWarning: The `map_projection` keyword argument is deprecated, use `projection` to instantiate a GeoAxes instead.\n",
      "  warnings.warn(\"The `map_projection` keyword argument is \"\n",
      "/Users/beckermr/mambaforge/envs/rubin-sims/lib/python3.10/site-packages/cartopy/mpl/geoaxes.py:403: UserWarning: The `map_projection` keyword argument is deprecated, use `projection` to instantiate a GeoAxes instead.\n",
      "  warnings.warn(\"The `map_projection` keyword argument is \"\n",
      "/Users/beckermr/mambaforge/envs/rubin-sims/lib/python3.10/site-packages/cartopy/mpl/geoaxes.py:403: UserWarning: The `map_projection` keyword argument is deprecated, use `projection` to instantiate a GeoAxes instead.\n",
      "  warnings.warn(\"The `map_projection` keyword argument is \"\n"
     ]
    },
    {
     "name": "stdout",
     "output_type": "stream",
     "text": [
      "[Parallel(n_jobs=8)]: Done 899 tasks      | elapsed: 54.2min\n"
     ]
    },
    {
     "name": "stderr",
     "output_type": "stream",
     "text": [
      "/Users/beckermr/mambaforge/envs/rubin-sims/lib/python3.10/site-packages/cartopy/mpl/geoaxes.py:403: UserWarning: The `map_projection` keyword argument is deprecated, use `projection` to instantiate a GeoAxes instead.\n",
      "  warnings.warn(\"The `map_projection` keyword argument is \"\n",
      "/Users/beckermr/mambaforge/envs/rubin-sims/lib/python3.10/site-packages/cartopy/mpl/geoaxes.py:403: UserWarning: The `map_projection` keyword argument is deprecated, use `projection` to instantiate a GeoAxes instead.\n",
      "  warnings.warn(\"The `map_projection` keyword argument is \"\n"
     ]
    },
    {
     "name": "stdout",
     "output_type": "stream",
     "text": [
      "[Parallel(n_jobs=8)]: Done 900 tasks      | elapsed: 54.2min\n"
     ]
    },
    {
     "name": "stderr",
     "output_type": "stream",
     "text": [
      "/Users/beckermr/mambaforge/envs/rubin-sims/lib/python3.10/site-packages/cartopy/mpl/geoaxes.py:403: UserWarning: The `map_projection` keyword argument is deprecated, use `projection` to instantiate a GeoAxes instead.\n",
      "  warnings.warn(\"The `map_projection` keyword argument is \"\n",
      "/Users/beckermr/mambaforge/envs/rubin-sims/lib/python3.10/site-packages/cartopy/mpl/geoaxes.py:403: UserWarning: The `map_projection` keyword argument is deprecated, use `projection` to instantiate a GeoAxes instead.\n",
      "  warnings.warn(\"The `map_projection` keyword argument is \"\n"
     ]
    },
    {
     "name": "stdout",
     "output_type": "stream",
     "text": [
      "[Parallel(n_jobs=8)]: Done 901 tasks      | elapsed: 54.2min\n"
     ]
    },
    {
     "name": "stderr",
     "output_type": "stream",
     "text": [
      "/Users/beckermr/mambaforge/envs/rubin-sims/lib/python3.10/site-packages/cartopy/mpl/geoaxes.py:403: UserWarning: The `map_projection` keyword argument is deprecated, use `projection` to instantiate a GeoAxes instead.\n",
      "  warnings.warn(\"The `map_projection` keyword argument is \"\n",
      "/Users/beckermr/mambaforge/envs/rubin-sims/lib/python3.10/site-packages/cartopy/mpl/geoaxes.py:403: UserWarning: The `map_projection` keyword argument is deprecated, use `projection` to instantiate a GeoAxes instead.\n",
      "  warnings.warn(\"The `map_projection` keyword argument is \"\n"
     ]
    },
    {
     "name": "stdout",
     "output_type": "stream",
     "text": [
      "[Parallel(n_jobs=8)]: Done 902 tasks      | elapsed: 54.3min\n"
     ]
    },
    {
     "name": "stderr",
     "output_type": "stream",
     "text": [
      "/Users/beckermr/mambaforge/envs/rubin-sims/lib/python3.10/site-packages/cartopy/mpl/geoaxes.py:403: UserWarning: The `map_projection` keyword argument is deprecated, use `projection` to instantiate a GeoAxes instead.\n",
      "  warnings.warn(\"The `map_projection` keyword argument is \"\n",
      "/Users/beckermr/mambaforge/envs/rubin-sims/lib/python3.10/site-packages/cartopy/mpl/geoaxes.py:403: UserWarning: The `map_projection` keyword argument is deprecated, use `projection` to instantiate a GeoAxes instead.\n",
      "  warnings.warn(\"The `map_projection` keyword argument is \"\n"
     ]
    },
    {
     "name": "stdout",
     "output_type": "stream",
     "text": [
      "[Parallel(n_jobs=8)]: Done 903 tasks      | elapsed: 54.3min\n"
     ]
    },
    {
     "name": "stderr",
     "output_type": "stream",
     "text": [
      "/Users/beckermr/mambaforge/envs/rubin-sims/lib/python3.10/site-packages/cartopy/mpl/geoaxes.py:403: UserWarning: The `map_projection` keyword argument is deprecated, use `projection` to instantiate a GeoAxes instead.\n",
      "  warnings.warn(\"The `map_projection` keyword argument is \"\n",
      "/Users/beckermr/mambaforge/envs/rubin-sims/lib/python3.10/site-packages/cartopy/mpl/geoaxes.py:403: UserWarning: The `map_projection` keyword argument is deprecated, use `projection` to instantiate a GeoAxes instead.\n",
      "  warnings.warn(\"The `map_projection` keyword argument is \"\n"
     ]
    },
    {
     "name": "stdout",
     "output_type": "stream",
     "text": [
      "[Parallel(n_jobs=8)]: Done 904 tasks      | elapsed: 54.4min\n"
     ]
    },
    {
     "name": "stderr",
     "output_type": "stream",
     "text": [
      "/Users/beckermr/mambaforge/envs/rubin-sims/lib/python3.10/site-packages/cartopy/mpl/geoaxes.py:403: UserWarning: The `map_projection` keyword argument is deprecated, use `projection` to instantiate a GeoAxes instead.\n",
      "  warnings.warn(\"The `map_projection` keyword argument is \"\n",
      "/Users/beckermr/mambaforge/envs/rubin-sims/lib/python3.10/site-packages/cartopy/mpl/geoaxes.py:403: UserWarning: The `map_projection` keyword argument is deprecated, use `projection` to instantiate a GeoAxes instead.\n",
      "  warnings.warn(\"The `map_projection` keyword argument is \"\n"
     ]
    },
    {
     "name": "stdout",
     "output_type": "stream",
     "text": [
      "[Parallel(n_jobs=8)]: Done 905 tasks      | elapsed: 54.6min\n",
      "[Parallel(n_jobs=8)]: Done 906 tasks      | elapsed: 54.6min\n"
     ]
    },
    {
     "name": "stderr",
     "output_type": "stream",
     "text": [
      "/Users/beckermr/mambaforge/envs/rubin-sims/lib/python3.10/site-packages/cartopy/mpl/geoaxes.py:403: UserWarning: The `map_projection` keyword argument is deprecated, use `projection` to instantiate a GeoAxes instead.\n",
      "  warnings.warn(\"The `map_projection` keyword argument is \"\n",
      "/Users/beckermr/mambaforge/envs/rubin-sims/lib/python3.10/site-packages/cartopy/mpl/geoaxes.py:403: UserWarning: The `map_projection` keyword argument is deprecated, use `projection` to instantiate a GeoAxes instead.\n",
      "  warnings.warn(\"The `map_projection` keyword argument is \"\n",
      "/Users/beckermr/mambaforge/envs/rubin-sims/lib/python3.10/site-packages/cartopy/mpl/geoaxes.py:403: UserWarning: The `map_projection` keyword argument is deprecated, use `projection` to instantiate a GeoAxes instead.\n",
      "  warnings.warn(\"The `map_projection` keyword argument is \"\n",
      "/Users/beckermr/mambaforge/envs/rubin-sims/lib/python3.10/site-packages/cartopy/mpl/geoaxes.py:403: UserWarning: The `map_projection` keyword argument is deprecated, use `projection` to instantiate a GeoAxes instead.\n",
      "  warnings.warn(\"The `map_projection` keyword argument is \"\n"
     ]
    },
    {
     "name": "stdout",
     "output_type": "stream",
     "text": [
      "[Parallel(n_jobs=8)]: Done 907 tasks      | elapsed: 54.7min\n"
     ]
    },
    {
     "name": "stderr",
     "output_type": "stream",
     "text": [
      "/Users/beckermr/mambaforge/envs/rubin-sims/lib/python3.10/site-packages/cartopy/mpl/geoaxes.py:403: UserWarning: The `map_projection` keyword argument is deprecated, use `projection` to instantiate a GeoAxes instead.\n",
      "  warnings.warn(\"The `map_projection` keyword argument is \"\n",
      "/Users/beckermr/mambaforge/envs/rubin-sims/lib/python3.10/site-packages/cartopy/mpl/geoaxes.py:403: UserWarning: The `map_projection` keyword argument is deprecated, use `projection` to instantiate a GeoAxes instead.\n",
      "  warnings.warn(\"The `map_projection` keyword argument is \"\n"
     ]
    },
    {
     "name": "stdout",
     "output_type": "stream",
     "text": [
      "[Parallel(n_jobs=8)]: Done 908 tasks      | elapsed: 54.7min\n"
     ]
    },
    {
     "name": "stderr",
     "output_type": "stream",
     "text": [
      "/Users/beckermr/mambaforge/envs/rubin-sims/lib/python3.10/site-packages/cartopy/mpl/geoaxes.py:403: UserWarning: The `map_projection` keyword argument is deprecated, use `projection` to instantiate a GeoAxes instead.\n",
      "  warnings.warn(\"The `map_projection` keyword argument is \"\n",
      "/Users/beckermr/mambaforge/envs/rubin-sims/lib/python3.10/site-packages/cartopy/mpl/geoaxes.py:403: UserWarning: The `map_projection` keyword argument is deprecated, use `projection` to instantiate a GeoAxes instead.\n",
      "  warnings.warn(\"The `map_projection` keyword argument is \"\n"
     ]
    },
    {
     "name": "stdout",
     "output_type": "stream",
     "text": [
      "[Parallel(n_jobs=8)]: Done 909 tasks      | elapsed: 54.8min\n"
     ]
    },
    {
     "name": "stderr",
     "output_type": "stream",
     "text": [
      "/Users/beckermr/mambaforge/envs/rubin-sims/lib/python3.10/site-packages/cartopy/mpl/geoaxes.py:403: UserWarning: The `map_projection` keyword argument is deprecated, use `projection` to instantiate a GeoAxes instead.\n",
      "  warnings.warn(\"The `map_projection` keyword argument is \"\n",
      "/Users/beckermr/mambaforge/envs/rubin-sims/lib/python3.10/site-packages/cartopy/mpl/geoaxes.py:403: UserWarning: The `map_projection` keyword argument is deprecated, use `projection` to instantiate a GeoAxes instead.\n",
      "  warnings.warn(\"The `map_projection` keyword argument is \"\n"
     ]
    },
    {
     "name": "stdout",
     "output_type": "stream",
     "text": [
      "[Parallel(n_jobs=8)]: Done 910 tasks      | elapsed: 54.8min\n"
     ]
    },
    {
     "name": "stderr",
     "output_type": "stream",
     "text": [
      "/Users/beckermr/mambaforge/envs/rubin-sims/lib/python3.10/site-packages/cartopy/mpl/geoaxes.py:403: UserWarning: The `map_projection` keyword argument is deprecated, use `projection` to instantiate a GeoAxes instead.\n",
      "  warnings.warn(\"The `map_projection` keyword argument is \"\n",
      "/Users/beckermr/mambaforge/envs/rubin-sims/lib/python3.10/site-packages/cartopy/mpl/geoaxes.py:403: UserWarning: The `map_projection` keyword argument is deprecated, use `projection` to instantiate a GeoAxes instead.\n",
      "  warnings.warn(\"The `map_projection` keyword argument is \"\n"
     ]
    },
    {
     "name": "stdout",
     "output_type": "stream",
     "text": [
      "[Parallel(n_jobs=8)]: Done 911 tasks      | elapsed: 54.8min\n"
     ]
    },
    {
     "name": "stderr",
     "output_type": "stream",
     "text": [
      "/Users/beckermr/mambaforge/envs/rubin-sims/lib/python3.10/site-packages/cartopy/mpl/geoaxes.py:403: UserWarning: The `map_projection` keyword argument is deprecated, use `projection` to instantiate a GeoAxes instead.\n",
      "  warnings.warn(\"The `map_projection` keyword argument is \"\n",
      "/Users/beckermr/mambaforge/envs/rubin-sims/lib/python3.10/site-packages/cartopy/mpl/geoaxes.py:403: UserWarning: The `map_projection` keyword argument is deprecated, use `projection` to instantiate a GeoAxes instead.\n",
      "  warnings.warn(\"The `map_projection` keyword argument is \"\n"
     ]
    },
    {
     "name": "stdout",
     "output_type": "stream",
     "text": [
      "[Parallel(n_jobs=8)]: Done 912 tasks      | elapsed: 54.9min\n"
     ]
    },
    {
     "name": "stderr",
     "output_type": "stream",
     "text": [
      "/Users/beckermr/mambaforge/envs/rubin-sims/lib/python3.10/site-packages/cartopy/mpl/geoaxes.py:403: UserWarning: The `map_projection` keyword argument is deprecated, use `projection` to instantiate a GeoAxes instead.\n",
      "  warnings.warn(\"The `map_projection` keyword argument is \"\n",
      "/Users/beckermr/mambaforge/envs/rubin-sims/lib/python3.10/site-packages/cartopy/mpl/geoaxes.py:403: UserWarning: The `map_projection` keyword argument is deprecated, use `projection` to instantiate a GeoAxes instead.\n",
      "  warnings.warn(\"The `map_projection` keyword argument is \"\n"
     ]
    },
    {
     "name": "stdout",
     "output_type": "stream",
     "text": [
      "[Parallel(n_jobs=8)]: Done 913 tasks      | elapsed: 55.1min\n"
     ]
    },
    {
     "name": "stderr",
     "output_type": "stream",
     "text": [
      "/Users/beckermr/mambaforge/envs/rubin-sims/lib/python3.10/site-packages/cartopy/mpl/geoaxes.py:403: UserWarning: The `map_projection` keyword argument is deprecated, use `projection` to instantiate a GeoAxes instead.\n",
      "  warnings.warn(\"The `map_projection` keyword argument is \"\n"
     ]
    },
    {
     "name": "stdout",
     "output_type": "stream",
     "text": [
      "[Parallel(n_jobs=8)]: Done 914 tasks      | elapsed: 55.1min\n"
     ]
    },
    {
     "name": "stderr",
     "output_type": "stream",
     "text": [
      "/Users/beckermr/mambaforge/envs/rubin-sims/lib/python3.10/site-packages/cartopy/mpl/geoaxes.py:403: UserWarning: The `map_projection` keyword argument is deprecated, use `projection` to instantiate a GeoAxes instead.\n",
      "  warnings.warn(\"The `map_projection` keyword argument is \"\n",
      "/Users/beckermr/mambaforge/envs/rubin-sims/lib/python3.10/site-packages/cartopy/mpl/geoaxes.py:403: UserWarning: The `map_projection` keyword argument is deprecated, use `projection` to instantiate a GeoAxes instead.\n",
      "  warnings.warn(\"The `map_projection` keyword argument is \"\n",
      "/Users/beckermr/mambaforge/envs/rubin-sims/lib/python3.10/site-packages/cartopy/mpl/geoaxes.py:403: UserWarning: The `map_projection` keyword argument is deprecated, use `projection` to instantiate a GeoAxes instead.\n",
      "  warnings.warn(\"The `map_projection` keyword argument is \"\n"
     ]
    },
    {
     "name": "stdout",
     "output_type": "stream",
     "text": [
      "[Parallel(n_jobs=8)]: Done 915 tasks      | elapsed: 55.2min\n"
     ]
    },
    {
     "name": "stderr",
     "output_type": "stream",
     "text": [
      "/Users/beckermr/mambaforge/envs/rubin-sims/lib/python3.10/site-packages/cartopy/mpl/geoaxes.py:403: UserWarning: The `map_projection` keyword argument is deprecated, use `projection` to instantiate a GeoAxes instead.\n",
      "  warnings.warn(\"The `map_projection` keyword argument is \"\n",
      "/Users/beckermr/mambaforge/envs/rubin-sims/lib/python3.10/site-packages/cartopy/mpl/geoaxes.py:403: UserWarning: The `map_projection` keyword argument is deprecated, use `projection` to instantiate a GeoAxes instead.\n",
      "  warnings.warn(\"The `map_projection` keyword argument is \"\n",
      "/Users/beckermr/mambaforge/envs/rubin-sims/lib/python3.10/site-packages/cartopy/mpl/geoaxes.py:403: UserWarning: The `map_projection` keyword argument is deprecated, use `projection` to instantiate a GeoAxes instead.\n",
      "  warnings.warn(\"The `map_projection` keyword argument is \"\n"
     ]
    },
    {
     "name": "stdout",
     "output_type": "stream",
     "text": [
      "[Parallel(n_jobs=8)]: Done 916 tasks      | elapsed: 55.2min\n"
     ]
    },
    {
     "name": "stderr",
     "output_type": "stream",
     "text": [
      "/Users/beckermr/mambaforge/envs/rubin-sims/lib/python3.10/site-packages/cartopy/mpl/geoaxes.py:403: UserWarning: The `map_projection` keyword argument is deprecated, use `projection` to instantiate a GeoAxes instead.\n",
      "  warnings.warn(\"The `map_projection` keyword argument is \"\n"
     ]
    },
    {
     "name": "stdout",
     "output_type": "stream",
     "text": [
      "[Parallel(n_jobs=8)]: Done 917 tasks      | elapsed: 55.3min\n"
     ]
    },
    {
     "name": "stderr",
     "output_type": "stream",
     "text": [
      "/Users/beckermr/mambaforge/envs/rubin-sims/lib/python3.10/site-packages/cartopy/mpl/geoaxes.py:403: UserWarning: The `map_projection` keyword argument is deprecated, use `projection` to instantiate a GeoAxes instead.\n",
      "  warnings.warn(\"The `map_projection` keyword argument is \"\n",
      "/Users/beckermr/mambaforge/envs/rubin-sims/lib/python3.10/site-packages/cartopy/mpl/geoaxes.py:403: UserWarning: The `map_projection` keyword argument is deprecated, use `projection` to instantiate a GeoAxes instead.\n",
      "  warnings.warn(\"The `map_projection` keyword argument is \"\n"
     ]
    },
    {
     "name": "stdout",
     "output_type": "stream",
     "text": [
      "[Parallel(n_jobs=8)]: Done 918 tasks      | elapsed: 55.3min\n"
     ]
    },
    {
     "name": "stderr",
     "output_type": "stream",
     "text": [
      "/Users/beckermr/mambaforge/envs/rubin-sims/lib/python3.10/site-packages/cartopy/mpl/geoaxes.py:403: UserWarning: The `map_projection` keyword argument is deprecated, use `projection` to instantiate a GeoAxes instead.\n",
      "  warnings.warn(\"The `map_projection` keyword argument is \"\n",
      "/Users/beckermr/mambaforge/envs/rubin-sims/lib/python3.10/site-packages/cartopy/mpl/geoaxes.py:403: UserWarning: The `map_projection` keyword argument is deprecated, use `projection` to instantiate a GeoAxes instead.\n",
      "  warnings.warn(\"The `map_projection` keyword argument is \"\n"
     ]
    },
    {
     "name": "stdout",
     "output_type": "stream",
     "text": [
      "[Parallel(n_jobs=8)]: Done 919 tasks      | elapsed: 55.3min\n",
      "[Parallel(n_jobs=8)]: Done 920 tasks      | elapsed: 55.4min\n"
     ]
    },
    {
     "name": "stderr",
     "output_type": "stream",
     "text": [
      "/Users/beckermr/mambaforge/envs/rubin-sims/lib/python3.10/site-packages/cartopy/mpl/geoaxes.py:403: UserWarning: The `map_projection` keyword argument is deprecated, use `projection` to instantiate a GeoAxes instead.\n",
      "  warnings.warn(\"The `map_projection` keyword argument is \"\n",
      "/Users/beckermr/mambaforge/envs/rubin-sims/lib/python3.10/site-packages/cartopy/mpl/geoaxes.py:403: UserWarning: The `map_projection` keyword argument is deprecated, use `projection` to instantiate a GeoAxes instead.\n",
      "  warnings.warn(\"The `map_projection` keyword argument is \"\n",
      "/Users/beckermr/mambaforge/envs/rubin-sims/lib/python3.10/site-packages/cartopy/mpl/geoaxes.py:403: UserWarning: The `map_projection` keyword argument is deprecated, use `projection` to instantiate a GeoAxes instead.\n",
      "  warnings.warn(\"The `map_projection` keyword argument is \"\n",
      "/Users/beckermr/mambaforge/envs/rubin-sims/lib/python3.10/site-packages/cartopy/mpl/geoaxes.py:403: UserWarning: The `map_projection` keyword argument is deprecated, use `projection` to instantiate a GeoAxes instead.\n",
      "  warnings.warn(\"The `map_projection` keyword argument is \"\n"
     ]
    },
    {
     "name": "stdout",
     "output_type": "stream",
     "text": [
      "[Parallel(n_jobs=8)]: Done 921 tasks      | elapsed: 55.6min\n"
     ]
    },
    {
     "name": "stderr",
     "output_type": "stream",
     "text": [
      "/Users/beckermr/mambaforge/envs/rubin-sims/lib/python3.10/site-packages/cartopy/mpl/geoaxes.py:403: UserWarning: The `map_projection` keyword argument is deprecated, use `projection` to instantiate a GeoAxes instead.\n",
      "  warnings.warn(\"The `map_projection` keyword argument is \"\n",
      "/Users/beckermr/mambaforge/envs/rubin-sims/lib/python3.10/site-packages/cartopy/mpl/geoaxes.py:403: UserWarning: The `map_projection` keyword argument is deprecated, use `projection` to instantiate a GeoAxes instead.\n",
      "  warnings.warn(\"The `map_projection` keyword argument is \"\n"
     ]
    },
    {
     "name": "stdout",
     "output_type": "stream",
     "text": [
      "[Parallel(n_jobs=8)]: Done 922 tasks      | elapsed: 55.6min\n"
     ]
    },
    {
     "name": "stderr",
     "output_type": "stream",
     "text": [
      "/Users/beckermr/mambaforge/envs/rubin-sims/lib/python3.10/site-packages/cartopy/mpl/geoaxes.py:403: UserWarning: The `map_projection` keyword argument is deprecated, use `projection` to instantiate a GeoAxes instead.\n",
      "  warnings.warn(\"The `map_projection` keyword argument is \"\n",
      "/Users/beckermr/mambaforge/envs/rubin-sims/lib/python3.10/site-packages/cartopy/mpl/geoaxes.py:403: UserWarning: The `map_projection` keyword argument is deprecated, use `projection` to instantiate a GeoAxes instead.\n",
      "  warnings.warn(\"The `map_projection` keyword argument is \"\n"
     ]
    },
    {
     "name": "stdout",
     "output_type": "stream",
     "text": [
      "[Parallel(n_jobs=8)]: Done 923 tasks      | elapsed: 55.7min\n"
     ]
    },
    {
     "name": "stderr",
     "output_type": "stream",
     "text": [
      "/Users/beckermr/mambaforge/envs/rubin-sims/lib/python3.10/site-packages/cartopy/mpl/geoaxes.py:403: UserWarning: The `map_projection` keyword argument is deprecated, use `projection` to instantiate a GeoAxes instead.\n",
      "  warnings.warn(\"The `map_projection` keyword argument is \"\n",
      "/Users/beckermr/mambaforge/envs/rubin-sims/lib/python3.10/site-packages/cartopy/mpl/geoaxes.py:403: UserWarning: The `map_projection` keyword argument is deprecated, use `projection` to instantiate a GeoAxes instead.\n",
      "  warnings.warn(\"The `map_projection` keyword argument is \"\n"
     ]
    },
    {
     "name": "stdout",
     "output_type": "stream",
     "text": [
      "[Parallel(n_jobs=8)]: Done 924 tasks      | elapsed: 55.8min\n"
     ]
    },
    {
     "name": "stderr",
     "output_type": "stream",
     "text": [
      "/Users/beckermr/mambaforge/envs/rubin-sims/lib/python3.10/site-packages/cartopy/mpl/geoaxes.py:403: UserWarning: The `map_projection` keyword argument is deprecated, use `projection` to instantiate a GeoAxes instead.\n",
      "  warnings.warn(\"The `map_projection` keyword argument is \"\n",
      "/Users/beckermr/mambaforge/envs/rubin-sims/lib/python3.10/site-packages/cartopy/mpl/geoaxes.py:403: UserWarning: The `map_projection` keyword argument is deprecated, use `projection` to instantiate a GeoAxes instead.\n",
      "  warnings.warn(\"The `map_projection` keyword argument is \"\n"
     ]
    },
    {
     "name": "stdout",
     "output_type": "stream",
     "text": [
      "[Parallel(n_jobs=8)]: Done 925 tasks      | elapsed: 55.8min\n"
     ]
    },
    {
     "name": "stderr",
     "output_type": "stream",
     "text": [
      "/Users/beckermr/mambaforge/envs/rubin-sims/lib/python3.10/site-packages/cartopy/mpl/geoaxes.py:403: UserWarning: The `map_projection` keyword argument is deprecated, use `projection` to instantiate a GeoAxes instead.\n",
      "  warnings.warn(\"The `map_projection` keyword argument is \"\n",
      "/Users/beckermr/mambaforge/envs/rubin-sims/lib/python3.10/site-packages/cartopy/mpl/geoaxes.py:403: UserWarning: The `map_projection` keyword argument is deprecated, use `projection` to instantiate a GeoAxes instead.\n",
      "  warnings.warn(\"The `map_projection` keyword argument is \"\n"
     ]
    },
    {
     "name": "stdout",
     "output_type": "stream",
     "text": [
      "[Parallel(n_jobs=8)]: Done 926 tasks      | elapsed: 55.8min\n"
     ]
    },
    {
     "name": "stderr",
     "output_type": "stream",
     "text": [
      "/Users/beckermr/mambaforge/envs/rubin-sims/lib/python3.10/site-packages/cartopy/mpl/geoaxes.py:403: UserWarning: The `map_projection` keyword argument is deprecated, use `projection` to instantiate a GeoAxes instead.\n",
      "  warnings.warn(\"The `map_projection` keyword argument is \"\n",
      "/Users/beckermr/mambaforge/envs/rubin-sims/lib/python3.10/site-packages/cartopy/mpl/geoaxes.py:403: UserWarning: The `map_projection` keyword argument is deprecated, use `projection` to instantiate a GeoAxes instead.\n",
      "  warnings.warn(\"The `map_projection` keyword argument is \"\n"
     ]
    },
    {
     "name": "stdout",
     "output_type": "stream",
     "text": [
      "[Parallel(n_jobs=8)]: Done 927 tasks      | elapsed: 55.9min\n",
      "[Parallel(n_jobs=8)]: Done 928 tasks      | elapsed: 55.9min\n"
     ]
    },
    {
     "name": "stderr",
     "output_type": "stream",
     "text": [
      "/Users/beckermr/mambaforge/envs/rubin-sims/lib/python3.10/site-packages/cartopy/mpl/geoaxes.py:403: UserWarning: The `map_projection` keyword argument is deprecated, use `projection` to instantiate a GeoAxes instead.\n",
      "  warnings.warn(\"The `map_projection` keyword argument is \"\n",
      "/Users/beckermr/mambaforge/envs/rubin-sims/lib/python3.10/site-packages/cartopy/mpl/geoaxes.py:403: UserWarning: The `map_projection` keyword argument is deprecated, use `projection` to instantiate a GeoAxes instead.\n",
      "  warnings.warn(\"The `map_projection` keyword argument is \"\n",
      "/Users/beckermr/mambaforge/envs/rubin-sims/lib/python3.10/site-packages/cartopy/mpl/geoaxes.py:403: UserWarning: The `map_projection` keyword argument is deprecated, use `projection` to instantiate a GeoAxes instead.\n",
      "  warnings.warn(\"The `map_projection` keyword argument is \"\n",
      "/Users/beckermr/mambaforge/envs/rubin-sims/lib/python3.10/site-packages/cartopy/mpl/geoaxes.py:403: UserWarning: The `map_projection` keyword argument is deprecated, use `projection` to instantiate a GeoAxes instead.\n",
      "  warnings.warn(\"The `map_projection` keyword argument is \"\n"
     ]
    },
    {
     "name": "stdout",
     "output_type": "stream",
     "text": [
      "[Parallel(n_jobs=8)]: Done 929 tasks      | elapsed: 56.2min\n",
      "[Parallel(n_jobs=8)]: Done 930 tasks      | elapsed: 56.2min\n"
     ]
    },
    {
     "name": "stderr",
     "output_type": "stream",
     "text": [
      "/Users/beckermr/mambaforge/envs/rubin-sims/lib/python3.10/site-packages/cartopy/mpl/geoaxes.py:403: UserWarning: The `map_projection` keyword argument is deprecated, use `projection` to instantiate a GeoAxes instead.\n",
      "  warnings.warn(\"The `map_projection` keyword argument is \"\n",
      "/Users/beckermr/mambaforge/envs/rubin-sims/lib/python3.10/site-packages/cartopy/mpl/geoaxes.py:403: UserWarning: The `map_projection` keyword argument is deprecated, use `projection` to instantiate a GeoAxes instead.\n",
      "  warnings.warn(\"The `map_projection` keyword argument is \"\n",
      "/Users/beckermr/mambaforge/envs/rubin-sims/lib/python3.10/site-packages/cartopy/mpl/geoaxes.py:403: UserWarning: The `map_projection` keyword argument is deprecated, use `projection` to instantiate a GeoAxes instead.\n",
      "  warnings.warn(\"The `map_projection` keyword argument is \"\n",
      "/Users/beckermr/mambaforge/envs/rubin-sims/lib/python3.10/site-packages/cartopy/mpl/geoaxes.py:403: UserWarning: The `map_projection` keyword argument is deprecated, use `projection` to instantiate a GeoAxes instead.\n",
      "  warnings.warn(\"The `map_projection` keyword argument is \"\n"
     ]
    },
    {
     "name": "stdout",
     "output_type": "stream",
     "text": [
      "[Parallel(n_jobs=8)]: Done 931 tasks      | elapsed: 56.3min\n"
     ]
    },
    {
     "name": "stderr",
     "output_type": "stream",
     "text": [
      "/Users/beckermr/mambaforge/envs/rubin-sims/lib/python3.10/site-packages/cartopy/mpl/geoaxes.py:403: UserWarning: The `map_projection` keyword argument is deprecated, use `projection` to instantiate a GeoAxes instead.\n",
      "  warnings.warn(\"The `map_projection` keyword argument is \"\n",
      "/Users/beckermr/mambaforge/envs/rubin-sims/lib/python3.10/site-packages/cartopy/mpl/geoaxes.py:403: UserWarning: The `map_projection` keyword argument is deprecated, use `projection` to instantiate a GeoAxes instead.\n",
      "  warnings.warn(\"The `map_projection` keyword argument is \"\n"
     ]
    },
    {
     "name": "stdout",
     "output_type": "stream",
     "text": [
      "[Parallel(n_jobs=8)]: Done 932 tasks      | elapsed: 56.3min\n"
     ]
    },
    {
     "name": "stderr",
     "output_type": "stream",
     "text": [
      "/Users/beckermr/mambaforge/envs/rubin-sims/lib/python3.10/site-packages/cartopy/mpl/geoaxes.py:403: UserWarning: The `map_projection` keyword argument is deprecated, use `projection` to instantiate a GeoAxes instead.\n",
      "  warnings.warn(\"The `map_projection` keyword argument is \"\n",
      "/Users/beckermr/mambaforge/envs/rubin-sims/lib/python3.10/site-packages/cartopy/mpl/geoaxes.py:403: UserWarning: The `map_projection` keyword argument is deprecated, use `projection` to instantiate a GeoAxes instead.\n",
      "  warnings.warn(\"The `map_projection` keyword argument is \"\n"
     ]
    },
    {
     "name": "stdout",
     "output_type": "stream",
     "text": [
      "[Parallel(n_jobs=8)]: Done 933 tasks      | elapsed: 56.3min\n"
     ]
    },
    {
     "name": "stderr",
     "output_type": "stream",
     "text": [
      "/Users/beckermr/mambaforge/envs/rubin-sims/lib/python3.10/site-packages/cartopy/mpl/geoaxes.py:403: UserWarning: The `map_projection` keyword argument is deprecated, use `projection` to instantiate a GeoAxes instead.\n",
      "  warnings.warn(\"The `map_projection` keyword argument is \"\n",
      "/Users/beckermr/mambaforge/envs/rubin-sims/lib/python3.10/site-packages/cartopy/mpl/geoaxes.py:403: UserWarning: The `map_projection` keyword argument is deprecated, use `projection` to instantiate a GeoAxes instead.\n",
      "  warnings.warn(\"The `map_projection` keyword argument is \"\n"
     ]
    },
    {
     "name": "stdout",
     "output_type": "stream",
     "text": [
      "[Parallel(n_jobs=8)]: Done 934 tasks      | elapsed: 56.3min\n"
     ]
    },
    {
     "name": "stderr",
     "output_type": "stream",
     "text": [
      "/Users/beckermr/mambaforge/envs/rubin-sims/lib/python3.10/site-packages/cartopy/mpl/geoaxes.py:403: UserWarning: The `map_projection` keyword argument is deprecated, use `projection` to instantiate a GeoAxes instead.\n",
      "  warnings.warn(\"The `map_projection` keyword argument is \"\n",
      "/Users/beckermr/mambaforge/envs/rubin-sims/lib/python3.10/site-packages/cartopy/mpl/geoaxes.py:403: UserWarning: The `map_projection` keyword argument is deprecated, use `projection` to instantiate a GeoAxes instead.\n",
      "  warnings.warn(\"The `map_projection` keyword argument is \"\n"
     ]
    },
    {
     "name": "stdout",
     "output_type": "stream",
     "text": [
      "[Parallel(n_jobs=8)]: Done 935 tasks      | elapsed: 56.4min\n"
     ]
    },
    {
     "name": "stderr",
     "output_type": "stream",
     "text": [
      "/Users/beckermr/mambaforge/envs/rubin-sims/lib/python3.10/site-packages/cartopy/mpl/geoaxes.py:403: UserWarning: The `map_projection` keyword argument is deprecated, use `projection` to instantiate a GeoAxes instead.\n",
      "  warnings.warn(\"The `map_projection` keyword argument is \"\n",
      "/Users/beckermr/mambaforge/envs/rubin-sims/lib/python3.10/site-packages/cartopy/mpl/geoaxes.py:403: UserWarning: The `map_projection` keyword argument is deprecated, use `projection` to instantiate a GeoAxes instead.\n",
      "  warnings.warn(\"The `map_projection` keyword argument is \"\n"
     ]
    },
    {
     "name": "stdout",
     "output_type": "stream",
     "text": [
      "[Parallel(n_jobs=8)]: Done 936 tasks      | elapsed: 56.4min\n"
     ]
    },
    {
     "name": "stderr",
     "output_type": "stream",
     "text": [
      "/Users/beckermr/mambaforge/envs/rubin-sims/lib/python3.10/site-packages/cartopy/mpl/geoaxes.py:403: UserWarning: The `map_projection` keyword argument is deprecated, use `projection` to instantiate a GeoAxes instead.\n",
      "  warnings.warn(\"The `map_projection` keyword argument is \"\n",
      "/Users/beckermr/mambaforge/envs/rubin-sims/lib/python3.10/site-packages/cartopy/mpl/geoaxes.py:403: UserWarning: The `map_projection` keyword argument is deprecated, use `projection` to instantiate a GeoAxes instead.\n",
      "  warnings.warn(\"The `map_projection` keyword argument is \"\n"
     ]
    },
    {
     "name": "stdout",
     "output_type": "stream",
     "text": [
      "[Parallel(n_jobs=8)]: Done 937 tasks      | elapsed: 56.6min\n"
     ]
    },
    {
     "name": "stderr",
     "output_type": "stream",
     "text": [
      "/Users/beckermr/mambaforge/envs/rubin-sims/lib/python3.10/site-packages/cartopy/mpl/geoaxes.py:403: UserWarning: The `map_projection` keyword argument is deprecated, use `projection` to instantiate a GeoAxes instead.\n",
      "  warnings.warn(\"The `map_projection` keyword argument is \"\n",
      "/Users/beckermr/mambaforge/envs/rubin-sims/lib/python3.10/site-packages/cartopy/mpl/geoaxes.py:403: UserWarning: The `map_projection` keyword argument is deprecated, use `projection` to instantiate a GeoAxes instead.\n",
      "  warnings.warn(\"The `map_projection` keyword argument is \"\n"
     ]
    },
    {
     "name": "stdout",
     "output_type": "stream",
     "text": [
      "[Parallel(n_jobs=8)]: Done 938 tasks      | elapsed: 56.6min\n"
     ]
    },
    {
     "name": "stderr",
     "output_type": "stream",
     "text": [
      "/Users/beckermr/mambaforge/envs/rubin-sims/lib/python3.10/site-packages/cartopy/mpl/geoaxes.py:403: UserWarning: The `map_projection` keyword argument is deprecated, use `projection` to instantiate a GeoAxes instead.\n",
      "  warnings.warn(\"The `map_projection` keyword argument is \"\n",
      "/Users/beckermr/mambaforge/envs/rubin-sims/lib/python3.10/site-packages/cartopy/mpl/geoaxes.py:403: UserWarning: The `map_projection` keyword argument is deprecated, use `projection` to instantiate a GeoAxes instead.\n",
      "  warnings.warn(\"The `map_projection` keyword argument is \"\n"
     ]
    },
    {
     "name": "stdout",
     "output_type": "stream",
     "text": [
      "[Parallel(n_jobs=8)]: Done 939 tasks      | elapsed: 56.7min\n"
     ]
    },
    {
     "name": "stderr",
     "output_type": "stream",
     "text": [
      "/Users/beckermr/mambaforge/envs/rubin-sims/lib/python3.10/site-packages/cartopy/mpl/geoaxes.py:403: UserWarning: The `map_projection` keyword argument is deprecated, use `projection` to instantiate a GeoAxes instead.\n",
      "  warnings.warn(\"The `map_projection` keyword argument is \"\n",
      "/Users/beckermr/mambaforge/envs/rubin-sims/lib/python3.10/site-packages/cartopy/mpl/geoaxes.py:403: UserWarning: The `map_projection` keyword argument is deprecated, use `projection` to instantiate a GeoAxes instead.\n",
      "  warnings.warn(\"The `map_projection` keyword argument is \"\n"
     ]
    },
    {
     "name": "stdout",
     "output_type": "stream",
     "text": [
      "[Parallel(n_jobs=8)]: Done 940 tasks      | elapsed: 56.7min\n"
     ]
    },
    {
     "name": "stderr",
     "output_type": "stream",
     "text": [
      "/Users/beckermr/mambaforge/envs/rubin-sims/lib/python3.10/site-packages/cartopy/mpl/geoaxes.py:403: UserWarning: The `map_projection` keyword argument is deprecated, use `projection` to instantiate a GeoAxes instead.\n",
      "  warnings.warn(\"The `map_projection` keyword argument is \"\n",
      "/Users/beckermr/mambaforge/envs/rubin-sims/lib/python3.10/site-packages/cartopy/mpl/geoaxes.py:403: UserWarning: The `map_projection` keyword argument is deprecated, use `projection` to instantiate a GeoAxes instead.\n",
      "  warnings.warn(\"The `map_projection` keyword argument is \"\n"
     ]
    },
    {
     "name": "stdout",
     "output_type": "stream",
     "text": [
      "[Parallel(n_jobs=8)]: Done 941 tasks      | elapsed: 56.7min\n",
      "[Parallel(n_jobs=8)]: Done 942 tasks      | elapsed: 56.8min\n"
     ]
    },
    {
     "name": "stderr",
     "output_type": "stream",
     "text": [
      "/Users/beckermr/mambaforge/envs/rubin-sims/lib/python3.10/site-packages/cartopy/mpl/geoaxes.py:403: UserWarning: The `map_projection` keyword argument is deprecated, use `projection` to instantiate a GeoAxes instead.\n",
      "  warnings.warn(\"The `map_projection` keyword argument is \"\n",
      "/Users/beckermr/mambaforge/envs/rubin-sims/lib/python3.10/site-packages/cartopy/mpl/geoaxes.py:403: UserWarning: The `map_projection` keyword argument is deprecated, use `projection` to instantiate a GeoAxes instead.\n",
      "  warnings.warn(\"The `map_projection` keyword argument is \"\n",
      "/Users/beckermr/mambaforge/envs/rubin-sims/lib/python3.10/site-packages/cartopy/mpl/geoaxes.py:403: UserWarning: The `map_projection` keyword argument is deprecated, use `projection` to instantiate a GeoAxes instead.\n",
      "  warnings.warn(\"The `map_projection` keyword argument is \"\n",
      "/Users/beckermr/mambaforge/envs/rubin-sims/lib/python3.10/site-packages/cartopy/mpl/geoaxes.py:403: UserWarning: The `map_projection` keyword argument is deprecated, use `projection` to instantiate a GeoAxes instead.\n",
      "  warnings.warn(\"The `map_projection` keyword argument is \"\n"
     ]
    },
    {
     "name": "stdout",
     "output_type": "stream",
     "text": [
      "[Parallel(n_jobs=8)]: Done 943 tasks      | elapsed: 56.8min\n"
     ]
    },
    {
     "name": "stderr",
     "output_type": "stream",
     "text": [
      "/Users/beckermr/mambaforge/envs/rubin-sims/lib/python3.10/site-packages/cartopy/mpl/geoaxes.py:403: UserWarning: The `map_projection` keyword argument is deprecated, use `projection` to instantiate a GeoAxes instead.\n",
      "  warnings.warn(\"The `map_projection` keyword argument is \"\n",
      "/Users/beckermr/mambaforge/envs/rubin-sims/lib/python3.10/site-packages/cartopy/mpl/geoaxes.py:403: UserWarning: The `map_projection` keyword argument is deprecated, use `projection` to instantiate a GeoAxes instead.\n",
      "  warnings.warn(\"The `map_projection` keyword argument is \"\n"
     ]
    },
    {
     "name": "stdout",
     "output_type": "stream",
     "text": [
      "[Parallel(n_jobs=8)]: Done 944 tasks      | elapsed: 56.8min\n"
     ]
    },
    {
     "name": "stderr",
     "output_type": "stream",
     "text": [
      "/Users/beckermr/mambaforge/envs/rubin-sims/lib/python3.10/site-packages/cartopy/mpl/geoaxes.py:403: UserWarning: The `map_projection` keyword argument is deprecated, use `projection` to instantiate a GeoAxes instead.\n",
      "  warnings.warn(\"The `map_projection` keyword argument is \"\n",
      "/Users/beckermr/mambaforge/envs/rubin-sims/lib/python3.10/site-packages/cartopy/mpl/geoaxes.py:403: UserWarning: The `map_projection` keyword argument is deprecated, use `projection` to instantiate a GeoAxes instead.\n",
      "  warnings.warn(\"The `map_projection` keyword argument is \"\n"
     ]
    },
    {
     "name": "stdout",
     "output_type": "stream",
     "text": [
      "[Parallel(n_jobs=8)]: Done 945 tasks      | elapsed: 57.1min\n",
      "[Parallel(n_jobs=8)]: Done 946 tasks      | elapsed: 57.2min\n"
     ]
    },
    {
     "name": "stderr",
     "output_type": "stream",
     "text": [
      "/Users/beckermr/mambaforge/envs/rubin-sims/lib/python3.10/site-packages/cartopy/mpl/geoaxes.py:403: UserWarning: The `map_projection` keyword argument is deprecated, use `projection` to instantiate a GeoAxes instead.\n",
      "  warnings.warn(\"The `map_projection` keyword argument is \"\n",
      "/Users/beckermr/mambaforge/envs/rubin-sims/lib/python3.10/site-packages/cartopy/mpl/geoaxes.py:403: UserWarning: The `map_projection` keyword argument is deprecated, use `projection` to instantiate a GeoAxes instead.\n",
      "  warnings.warn(\"The `map_projection` keyword argument is \"\n",
      "/Users/beckermr/mambaforge/envs/rubin-sims/lib/python3.10/site-packages/cartopy/mpl/geoaxes.py:403: UserWarning: The `map_projection` keyword argument is deprecated, use `projection` to instantiate a GeoAxes instead.\n",
      "  warnings.warn(\"The `map_projection` keyword argument is \"\n",
      "/Users/beckermr/mambaforge/envs/rubin-sims/lib/python3.10/site-packages/cartopy/mpl/geoaxes.py:403: UserWarning: The `map_projection` keyword argument is deprecated, use `projection` to instantiate a GeoAxes instead.\n",
      "  warnings.warn(\"The `map_projection` keyword argument is \"\n"
     ]
    },
    {
     "name": "stdout",
     "output_type": "stream",
     "text": [
      "[Parallel(n_jobs=8)]: Done 947 tasks      | elapsed: 57.2min\n",
      "[Parallel(n_jobs=8)]: Done 948 tasks      | elapsed: 57.2min\n"
     ]
    },
    {
     "name": "stderr",
     "output_type": "stream",
     "text": [
      "/Users/beckermr/mambaforge/envs/rubin-sims/lib/python3.10/site-packages/cartopy/mpl/geoaxes.py:403: UserWarning: The `map_projection` keyword argument is deprecated, use `projection` to instantiate a GeoAxes instead.\n",
      "  warnings.warn(\"The `map_projection` keyword argument is \"\n",
      "/Users/beckermr/mambaforge/envs/rubin-sims/lib/python3.10/site-packages/cartopy/mpl/geoaxes.py:403: UserWarning: The `map_projection` keyword argument is deprecated, use `projection` to instantiate a GeoAxes instead.\n",
      "  warnings.warn(\"The `map_projection` keyword argument is \"\n",
      "/Users/beckermr/mambaforge/envs/rubin-sims/lib/python3.10/site-packages/cartopy/mpl/geoaxes.py:403: UserWarning: The `map_projection` keyword argument is deprecated, use `projection` to instantiate a GeoAxes instead.\n",
      "  warnings.warn(\"The `map_projection` keyword argument is \"\n",
      "/Users/beckermr/mambaforge/envs/rubin-sims/lib/python3.10/site-packages/cartopy/mpl/geoaxes.py:403: UserWarning: The `map_projection` keyword argument is deprecated, use `projection` to instantiate a GeoAxes instead.\n",
      "  warnings.warn(\"The `map_projection` keyword argument is \"\n"
     ]
    },
    {
     "name": "stdout",
     "output_type": "stream",
     "text": [
      "[Parallel(n_jobs=8)]: Done 949 tasks      | elapsed: 57.3min\n"
     ]
    },
    {
     "name": "stderr",
     "output_type": "stream",
     "text": [
      "/Users/beckermr/mambaforge/envs/rubin-sims/lib/python3.10/site-packages/cartopy/mpl/geoaxes.py:403: UserWarning: The `map_projection` keyword argument is deprecated, use `projection` to instantiate a GeoAxes instead.\n",
      "  warnings.warn(\"The `map_projection` keyword argument is \"\n",
      "/Users/beckermr/mambaforge/envs/rubin-sims/lib/python3.10/site-packages/cartopy/mpl/geoaxes.py:403: UserWarning: The `map_projection` keyword argument is deprecated, use `projection` to instantiate a GeoAxes instead.\n",
      "  warnings.warn(\"The `map_projection` keyword argument is \"\n"
     ]
    },
    {
     "name": "stdout",
     "output_type": "stream",
     "text": [
      "[Parallel(n_jobs=8)]: Done 950 tasks      | elapsed: 57.3min\n"
     ]
    },
    {
     "name": "stderr",
     "output_type": "stream",
     "text": [
      "/Users/beckermr/mambaforge/envs/rubin-sims/lib/python3.10/site-packages/cartopy/mpl/geoaxes.py:403: UserWarning: The `map_projection` keyword argument is deprecated, use `projection` to instantiate a GeoAxes instead.\n",
      "  warnings.warn(\"The `map_projection` keyword argument is \"\n",
      "/Users/beckermr/mambaforge/envs/rubin-sims/lib/python3.10/site-packages/cartopy/mpl/geoaxes.py:403: UserWarning: The `map_projection` keyword argument is deprecated, use `projection` to instantiate a GeoAxes instead.\n",
      "  warnings.warn(\"The `map_projection` keyword argument is \"\n"
     ]
    },
    {
     "name": "stdout",
     "output_type": "stream",
     "text": [
      "[Parallel(n_jobs=8)]: Done 951 tasks      | elapsed: 57.3min\n"
     ]
    },
    {
     "name": "stderr",
     "output_type": "stream",
     "text": [
      "/Users/beckermr/mambaforge/envs/rubin-sims/lib/python3.10/site-packages/cartopy/mpl/geoaxes.py:403: UserWarning: The `map_projection` keyword argument is deprecated, use `projection` to instantiate a GeoAxes instead.\n",
      "  warnings.warn(\"The `map_projection` keyword argument is \"\n",
      "/Users/beckermr/mambaforge/envs/rubin-sims/lib/python3.10/site-packages/cartopy/mpl/geoaxes.py:403: UserWarning: The `map_projection` keyword argument is deprecated, use `projection` to instantiate a GeoAxes instead.\n",
      "  warnings.warn(\"The `map_projection` keyword argument is \"\n"
     ]
    },
    {
     "name": "stdout",
     "output_type": "stream",
     "text": [
      "[Parallel(n_jobs=8)]: Done 952 tasks      | elapsed: 57.4min\n"
     ]
    },
    {
     "name": "stderr",
     "output_type": "stream",
     "text": [
      "/Users/beckermr/mambaforge/envs/rubin-sims/lib/python3.10/site-packages/cartopy/mpl/geoaxes.py:403: UserWarning: The `map_projection` keyword argument is deprecated, use `projection` to instantiate a GeoAxes instead.\n",
      "  warnings.warn(\"The `map_projection` keyword argument is \"\n",
      "/Users/beckermr/mambaforge/envs/rubin-sims/lib/python3.10/site-packages/cartopy/mpl/geoaxes.py:403: UserWarning: The `map_projection` keyword argument is deprecated, use `projection` to instantiate a GeoAxes instead.\n",
      "  warnings.warn(\"The `map_projection` keyword argument is \"\n"
     ]
    },
    {
     "name": "stdout",
     "output_type": "stream",
     "text": [
      "[Parallel(n_jobs=8)]: Done 953 tasks      | elapsed: 57.6min\n",
      "[Parallel(n_jobs=8)]: Done 954 tasks      | elapsed: 57.6min\n"
     ]
    },
    {
     "name": "stderr",
     "output_type": "stream",
     "text": [
      "/Users/beckermr/mambaforge/envs/rubin-sims/lib/python3.10/site-packages/cartopy/mpl/geoaxes.py:403: UserWarning: The `map_projection` keyword argument is deprecated, use `projection` to instantiate a GeoAxes instead.\n",
      "  warnings.warn(\"The `map_projection` keyword argument is \"\n",
      "/Users/beckermr/mambaforge/envs/rubin-sims/lib/python3.10/site-packages/cartopy/mpl/geoaxes.py:403: UserWarning: The `map_projection` keyword argument is deprecated, use `projection` to instantiate a GeoAxes instead.\n",
      "  warnings.warn(\"The `map_projection` keyword argument is \"\n",
      "/Users/beckermr/mambaforge/envs/rubin-sims/lib/python3.10/site-packages/cartopy/mpl/geoaxes.py:403: UserWarning: The `map_projection` keyword argument is deprecated, use `projection` to instantiate a GeoAxes instead.\n",
      "  warnings.warn(\"The `map_projection` keyword argument is \"\n",
      "/Users/beckermr/mambaforge/envs/rubin-sims/lib/python3.10/site-packages/cartopy/mpl/geoaxes.py:403: UserWarning: The `map_projection` keyword argument is deprecated, use `projection` to instantiate a GeoAxes instead.\n",
      "  warnings.warn(\"The `map_projection` keyword argument is \"\n"
     ]
    },
    {
     "name": "stdout",
     "output_type": "stream",
     "text": [
      "[Parallel(n_jobs=8)]: Done 955 tasks      | elapsed: 57.7min\n"
     ]
    },
    {
     "name": "stderr",
     "output_type": "stream",
     "text": [
      "/Users/beckermr/mambaforge/envs/rubin-sims/lib/python3.10/site-packages/cartopy/mpl/geoaxes.py:403: UserWarning: The `map_projection` keyword argument is deprecated, use `projection` to instantiate a GeoAxes instead.\n",
      "  warnings.warn(\"The `map_projection` keyword argument is \"\n",
      "/Users/beckermr/mambaforge/envs/rubin-sims/lib/python3.10/site-packages/cartopy/mpl/geoaxes.py:403: UserWarning: The `map_projection` keyword argument is deprecated, use `projection` to instantiate a GeoAxes instead.\n",
      "  warnings.warn(\"The `map_projection` keyword argument is \"\n"
     ]
    },
    {
     "name": "stdout",
     "output_type": "stream",
     "text": [
      "[Parallel(n_jobs=8)]: Done 956 tasks      | elapsed: 57.8min\n"
     ]
    },
    {
     "name": "stderr",
     "output_type": "stream",
     "text": [
      "/Users/beckermr/mambaforge/envs/rubin-sims/lib/python3.10/site-packages/cartopy/mpl/geoaxes.py:403: UserWarning: The `map_projection` keyword argument is deprecated, use `projection` to instantiate a GeoAxes instead.\n",
      "  warnings.warn(\"The `map_projection` keyword argument is \"\n",
      "/Users/beckermr/mambaforge/envs/rubin-sims/lib/python3.10/site-packages/cartopy/mpl/geoaxes.py:403: UserWarning: The `map_projection` keyword argument is deprecated, use `projection` to instantiate a GeoAxes instead.\n",
      "  warnings.warn(\"The `map_projection` keyword argument is \"\n",
      "/Users/beckermr/mambaforge/envs/rubin-sims/lib/python3.10/site-packages/cartopy/mpl/geoaxes.py:403: UserWarning: The `map_projection` keyword argument is deprecated, use `projection` to instantiate a GeoAxes instead.\n",
      "  warnings.warn(\"The `map_projection` keyword argument is \"\n"
     ]
    },
    {
     "name": "stdout",
     "output_type": "stream",
     "text": [
      "[Parallel(n_jobs=8)]: Done 957 tasks      | elapsed: 57.8min\n"
     ]
    },
    {
     "name": "stderr",
     "output_type": "stream",
     "text": [
      "/Users/beckermr/mambaforge/envs/rubin-sims/lib/python3.10/site-packages/cartopy/mpl/geoaxes.py:403: UserWarning: The `map_projection` keyword argument is deprecated, use `projection` to instantiate a GeoAxes instead.\n",
      "  warnings.warn(\"The `map_projection` keyword argument is \"\n"
     ]
    },
    {
     "name": "stdout",
     "output_type": "stream",
     "text": [
      "[Parallel(n_jobs=8)]: Done 958 tasks      | elapsed: 57.8min\n"
     ]
    },
    {
     "name": "stderr",
     "output_type": "stream",
     "text": [
      "/Users/beckermr/mambaforge/envs/rubin-sims/lib/python3.10/site-packages/cartopy/mpl/geoaxes.py:403: UserWarning: The `map_projection` keyword argument is deprecated, use `projection` to instantiate a GeoAxes instead.\n",
      "  warnings.warn(\"The `map_projection` keyword argument is \"\n",
      "/Users/beckermr/mambaforge/envs/rubin-sims/lib/python3.10/site-packages/cartopy/mpl/geoaxes.py:403: UserWarning: The `map_projection` keyword argument is deprecated, use `projection` to instantiate a GeoAxes instead.\n",
      "  warnings.warn(\"The `map_projection` keyword argument is \"\n"
     ]
    },
    {
     "name": "stdout",
     "output_type": "stream",
     "text": [
      "[Parallel(n_jobs=8)]: Done 959 tasks      | elapsed: 57.8min\n"
     ]
    },
    {
     "name": "stderr",
     "output_type": "stream",
     "text": [
      "/Users/beckermr/mambaforge/envs/rubin-sims/lib/python3.10/site-packages/cartopy/mpl/geoaxes.py:403: UserWarning: The `map_projection` keyword argument is deprecated, use `projection` to instantiate a GeoAxes instead.\n",
      "  warnings.warn(\"The `map_projection` keyword argument is \"\n",
      "/Users/beckermr/mambaforge/envs/rubin-sims/lib/python3.10/site-packages/cartopy/mpl/geoaxes.py:403: UserWarning: The `map_projection` keyword argument is deprecated, use `projection` to instantiate a GeoAxes instead.\n",
      "  warnings.warn(\"The `map_projection` keyword argument is \"\n"
     ]
    },
    {
     "name": "stdout",
     "output_type": "stream",
     "text": [
      "[Parallel(n_jobs=8)]: Done 960 tasks      | elapsed: 57.9min\n"
     ]
    },
    {
     "name": "stderr",
     "output_type": "stream",
     "text": [
      "/Users/beckermr/mambaforge/envs/rubin-sims/lib/python3.10/site-packages/cartopy/mpl/geoaxes.py:403: UserWarning: The `map_projection` keyword argument is deprecated, use `projection` to instantiate a GeoAxes instead.\n",
      "  warnings.warn(\"The `map_projection` keyword argument is \"\n",
      "/Users/beckermr/mambaforge/envs/rubin-sims/lib/python3.10/site-packages/cartopy/mpl/geoaxes.py:403: UserWarning: The `map_projection` keyword argument is deprecated, use `projection` to instantiate a GeoAxes instead.\n",
      "  warnings.warn(\"The `map_projection` keyword argument is \"\n"
     ]
    },
    {
     "name": "stdout",
     "output_type": "stream",
     "text": [
      "[Parallel(n_jobs=8)]: Done 961 tasks      | elapsed: 58.1min\n"
     ]
    },
    {
     "name": "stderr",
     "output_type": "stream",
     "text": [
      "/Users/beckermr/mambaforge/envs/rubin-sims/lib/python3.10/site-packages/cartopy/mpl/geoaxes.py:403: UserWarning: The `map_projection` keyword argument is deprecated, use `projection` to instantiate a GeoAxes instead.\n",
      "  warnings.warn(\"The `map_projection` keyword argument is \"\n",
      "/Users/beckermr/mambaforge/envs/rubin-sims/lib/python3.10/site-packages/cartopy/mpl/geoaxes.py:403: UserWarning: The `map_projection` keyword argument is deprecated, use `projection` to instantiate a GeoAxes instead.\n",
      "  warnings.warn(\"The `map_projection` keyword argument is \"\n"
     ]
    },
    {
     "name": "stdout",
     "output_type": "stream",
     "text": [
      "[Parallel(n_jobs=8)]: Done 962 tasks      | elapsed: 58.1min\n"
     ]
    },
    {
     "name": "stderr",
     "output_type": "stream",
     "text": [
      "/Users/beckermr/mambaforge/envs/rubin-sims/lib/python3.10/site-packages/cartopy/mpl/geoaxes.py:403: UserWarning: The `map_projection` keyword argument is deprecated, use `projection` to instantiate a GeoAxes instead.\n",
      "  warnings.warn(\"The `map_projection` keyword argument is \"\n",
      "/Users/beckermr/mambaforge/envs/rubin-sims/lib/python3.10/site-packages/cartopy/mpl/geoaxes.py:403: UserWarning: The `map_projection` keyword argument is deprecated, use `projection` to instantiate a GeoAxes instead.\n",
      "  warnings.warn(\"The `map_projection` keyword argument is \"\n"
     ]
    },
    {
     "name": "stdout",
     "output_type": "stream",
     "text": [
      "[Parallel(n_jobs=8)]: Done 963 tasks      | elapsed: 58.2min\n"
     ]
    },
    {
     "name": "stderr",
     "output_type": "stream",
     "text": [
      "/Users/beckermr/mambaforge/envs/rubin-sims/lib/python3.10/site-packages/cartopy/mpl/geoaxes.py:403: UserWarning: The `map_projection` keyword argument is deprecated, use `projection` to instantiate a GeoAxes instead.\n",
      "  warnings.warn(\"The `map_projection` keyword argument is \"\n",
      "/Users/beckermr/mambaforge/envs/rubin-sims/lib/python3.10/site-packages/cartopy/mpl/geoaxes.py:403: UserWarning: The `map_projection` keyword argument is deprecated, use `projection` to instantiate a GeoAxes instead.\n",
      "  warnings.warn(\"The `map_projection` keyword argument is \"\n"
     ]
    },
    {
     "name": "stdout",
     "output_type": "stream",
     "text": [
      "[Parallel(n_jobs=8)]: Done 964 tasks      | elapsed: 58.2min\n",
      "[Parallel(n_jobs=8)]: Done 965 tasks      | elapsed: 58.3min\n"
     ]
    },
    {
     "name": "stderr",
     "output_type": "stream",
     "text": [
      "/Users/beckermr/mambaforge/envs/rubin-sims/lib/python3.10/site-packages/cartopy/mpl/geoaxes.py:403: UserWarning: The `map_projection` keyword argument is deprecated, use `projection` to instantiate a GeoAxes instead.\n",
      "  warnings.warn(\"The `map_projection` keyword argument is \"\n",
      "/Users/beckermr/mambaforge/envs/rubin-sims/lib/python3.10/site-packages/cartopy/mpl/geoaxes.py:403: UserWarning: The `map_projection` keyword argument is deprecated, use `projection` to instantiate a GeoAxes instead.\n",
      "  warnings.warn(\"The `map_projection` keyword argument is \"\n",
      "/Users/beckermr/mambaforge/envs/rubin-sims/lib/python3.10/site-packages/cartopy/mpl/geoaxes.py:403: UserWarning: The `map_projection` keyword argument is deprecated, use `projection` to instantiate a GeoAxes instead.\n",
      "  warnings.warn(\"The `map_projection` keyword argument is \"\n",
      "/Users/beckermr/mambaforge/envs/rubin-sims/lib/python3.10/site-packages/cartopy/mpl/geoaxes.py:403: UserWarning: The `map_projection` keyword argument is deprecated, use `projection` to instantiate a GeoAxes instead.\n",
      "  warnings.warn(\"The `map_projection` keyword argument is \"\n"
     ]
    },
    {
     "name": "stdout",
     "output_type": "stream",
     "text": [
      "[Parallel(n_jobs=8)]: Done 966 tasks      | elapsed: 58.3min\n"
     ]
    },
    {
     "name": "stderr",
     "output_type": "stream",
     "text": [
      "/Users/beckermr/mambaforge/envs/rubin-sims/lib/python3.10/site-packages/cartopy/mpl/geoaxes.py:403: UserWarning: The `map_projection` keyword argument is deprecated, use `projection` to instantiate a GeoAxes instead.\n",
      "  warnings.warn(\"The `map_projection` keyword argument is \"\n",
      "/Users/beckermr/mambaforge/envs/rubin-sims/lib/python3.10/site-packages/cartopy/mpl/geoaxes.py:403: UserWarning: The `map_projection` keyword argument is deprecated, use `projection` to instantiate a GeoAxes instead.\n",
      "  warnings.warn(\"The `map_projection` keyword argument is \"\n"
     ]
    },
    {
     "name": "stdout",
     "output_type": "stream",
     "text": [
      "[Parallel(n_jobs=8)]: Done 967 tasks      | elapsed: 58.3min\n"
     ]
    },
    {
     "name": "stderr",
     "output_type": "stream",
     "text": [
      "/Users/beckermr/mambaforge/envs/rubin-sims/lib/python3.10/site-packages/cartopy/mpl/geoaxes.py:403: UserWarning: The `map_projection` keyword argument is deprecated, use `projection` to instantiate a GeoAxes instead.\n",
      "  warnings.warn(\"The `map_projection` keyword argument is \"\n",
      "/Users/beckermr/mambaforge/envs/rubin-sims/lib/python3.10/site-packages/cartopy/mpl/geoaxes.py:403: UserWarning: The `map_projection` keyword argument is deprecated, use `projection` to instantiate a GeoAxes instead.\n",
      "  warnings.warn(\"The `map_projection` keyword argument is \"\n"
     ]
    },
    {
     "name": "stdout",
     "output_type": "stream",
     "text": [
      "[Parallel(n_jobs=8)]: Done 968 tasks      | elapsed: 58.4min\n"
     ]
    },
    {
     "name": "stderr",
     "output_type": "stream",
     "text": [
      "/Users/beckermr/mambaforge/envs/rubin-sims/lib/python3.10/site-packages/cartopy/mpl/geoaxes.py:403: UserWarning: The `map_projection` keyword argument is deprecated, use `projection` to instantiate a GeoAxes instead.\n",
      "  warnings.warn(\"The `map_projection` keyword argument is \"\n",
      "/Users/beckermr/mambaforge/envs/rubin-sims/lib/python3.10/site-packages/cartopy/mpl/geoaxes.py:403: UserWarning: The `map_projection` keyword argument is deprecated, use `projection` to instantiate a GeoAxes instead.\n",
      "  warnings.warn(\"The `map_projection` keyword argument is \"\n"
     ]
    },
    {
     "name": "stdout",
     "output_type": "stream",
     "text": [
      "[Parallel(n_jobs=8)]: Done 969 tasks      | elapsed: 58.6min\n"
     ]
    },
    {
     "name": "stderr",
     "output_type": "stream",
     "text": [
      "/Users/beckermr/mambaforge/envs/rubin-sims/lib/python3.10/site-packages/cartopy/mpl/geoaxes.py:403: UserWarning: The `map_projection` keyword argument is deprecated, use `projection` to instantiate a GeoAxes instead.\n",
      "  warnings.warn(\"The `map_projection` keyword argument is \"\n",
      "/Users/beckermr/mambaforge/envs/rubin-sims/lib/python3.10/site-packages/cartopy/mpl/geoaxes.py:403: UserWarning: The `map_projection` keyword argument is deprecated, use `projection` to instantiate a GeoAxes instead.\n",
      "  warnings.warn(\"The `map_projection` keyword argument is \"\n"
     ]
    },
    {
     "name": "stdout",
     "output_type": "stream",
     "text": [
      "[Parallel(n_jobs=8)]: Done 970 tasks      | elapsed: 58.6min\n"
     ]
    },
    {
     "name": "stderr",
     "output_type": "stream",
     "text": [
      "/Users/beckermr/mambaforge/envs/rubin-sims/lib/python3.10/site-packages/cartopy/mpl/geoaxes.py:403: UserWarning: The `map_projection` keyword argument is deprecated, use `projection` to instantiate a GeoAxes instead.\n",
      "  warnings.warn(\"The `map_projection` keyword argument is \"\n",
      "/Users/beckermr/mambaforge/envs/rubin-sims/lib/python3.10/site-packages/cartopy/mpl/geoaxes.py:403: UserWarning: The `map_projection` keyword argument is deprecated, use `projection` to instantiate a GeoAxes instead.\n",
      "  warnings.warn(\"The `map_projection` keyword argument is \"\n"
     ]
    },
    {
     "name": "stdout",
     "output_type": "stream",
     "text": [
      "[Parallel(n_jobs=8)]: Done 971 tasks      | elapsed: 58.7min\n"
     ]
    },
    {
     "name": "stderr",
     "output_type": "stream",
     "text": [
      "/Users/beckermr/mambaforge/envs/rubin-sims/lib/python3.10/site-packages/cartopy/mpl/geoaxes.py:403: UserWarning: The `map_projection` keyword argument is deprecated, use `projection` to instantiate a GeoAxes instead.\n",
      "  warnings.warn(\"The `map_projection` keyword argument is \"\n",
      "/Users/beckermr/mambaforge/envs/rubin-sims/lib/python3.10/site-packages/cartopy/mpl/geoaxes.py:403: UserWarning: The `map_projection` keyword argument is deprecated, use `projection` to instantiate a GeoAxes instead.\n",
      "  warnings.warn(\"The `map_projection` keyword argument is \"\n"
     ]
    },
    {
     "name": "stdout",
     "output_type": "stream",
     "text": [
      "[Parallel(n_jobs=8)]: Done 972 tasks      | elapsed: 58.7min\n"
     ]
    },
    {
     "name": "stderr",
     "output_type": "stream",
     "text": [
      "/Users/beckermr/mambaforge/envs/rubin-sims/lib/python3.10/site-packages/cartopy/mpl/geoaxes.py:403: UserWarning: The `map_projection` keyword argument is deprecated, use `projection` to instantiate a GeoAxes instead.\n",
      "  warnings.warn(\"The `map_projection` keyword argument is \"\n",
      "/Users/beckermr/mambaforge/envs/rubin-sims/lib/python3.10/site-packages/cartopy/mpl/geoaxes.py:403: UserWarning: The `map_projection` keyword argument is deprecated, use `projection` to instantiate a GeoAxes instead.\n",
      "  warnings.warn(\"The `map_projection` keyword argument is \"\n"
     ]
    },
    {
     "name": "stdout",
     "output_type": "stream",
     "text": [
      "[Parallel(n_jobs=8)]: Done 973 tasks      | elapsed: 58.7min\n"
     ]
    },
    {
     "name": "stderr",
     "output_type": "stream",
     "text": [
      "/Users/beckermr/mambaforge/envs/rubin-sims/lib/python3.10/site-packages/cartopy/mpl/geoaxes.py:403: UserWarning: The `map_projection` keyword argument is deprecated, use `projection` to instantiate a GeoAxes instead.\n",
      "  warnings.warn(\"The `map_projection` keyword argument is \"\n",
      "/Users/beckermr/mambaforge/envs/rubin-sims/lib/python3.10/site-packages/cartopy/mpl/geoaxes.py:403: UserWarning: The `map_projection` keyword argument is deprecated, use `projection` to instantiate a GeoAxes instead.\n",
      "  warnings.warn(\"The `map_projection` keyword argument is \"\n"
     ]
    },
    {
     "name": "stdout",
     "output_type": "stream",
     "text": [
      "[Parallel(n_jobs=8)]: Done 974 tasks      | elapsed: 58.8min\n"
     ]
    },
    {
     "name": "stderr",
     "output_type": "stream",
     "text": [
      "/Users/beckermr/mambaforge/envs/rubin-sims/lib/python3.10/site-packages/cartopy/mpl/geoaxes.py:403: UserWarning: The `map_projection` keyword argument is deprecated, use `projection` to instantiate a GeoAxes instead.\n",
      "  warnings.warn(\"The `map_projection` keyword argument is \"\n",
      "/Users/beckermr/mambaforge/envs/rubin-sims/lib/python3.10/site-packages/cartopy/mpl/geoaxes.py:403: UserWarning: The `map_projection` keyword argument is deprecated, use `projection` to instantiate a GeoAxes instead.\n",
      "  warnings.warn(\"The `map_projection` keyword argument is \"\n"
     ]
    },
    {
     "name": "stdout",
     "output_type": "stream",
     "text": [
      "[Parallel(n_jobs=8)]: Done 975 tasks      | elapsed: 58.8min\n"
     ]
    },
    {
     "name": "stderr",
     "output_type": "stream",
     "text": [
      "/Users/beckermr/mambaforge/envs/rubin-sims/lib/python3.10/site-packages/cartopy/mpl/geoaxes.py:403: UserWarning: The `map_projection` keyword argument is deprecated, use `projection` to instantiate a GeoAxes instead.\n",
      "  warnings.warn(\"The `map_projection` keyword argument is \"\n",
      "/Users/beckermr/mambaforge/envs/rubin-sims/lib/python3.10/site-packages/cartopy/mpl/geoaxes.py:403: UserWarning: The `map_projection` keyword argument is deprecated, use `projection` to instantiate a GeoAxes instead.\n",
      "  warnings.warn(\"The `map_projection` keyword argument is \"\n"
     ]
    },
    {
     "name": "stdout",
     "output_type": "stream",
     "text": [
      "[Parallel(n_jobs=8)]: Done 976 tasks      | elapsed: 58.9min\n"
     ]
    },
    {
     "name": "stderr",
     "output_type": "stream",
     "text": [
      "/Users/beckermr/mambaforge/envs/rubin-sims/lib/python3.10/site-packages/cartopy/mpl/geoaxes.py:403: UserWarning: The `map_projection` keyword argument is deprecated, use `projection` to instantiate a GeoAxes instead.\n",
      "  warnings.warn(\"The `map_projection` keyword argument is \"\n",
      "/Users/beckermr/mambaforge/envs/rubin-sims/lib/python3.10/site-packages/cartopy/mpl/geoaxes.py:403: UserWarning: The `map_projection` keyword argument is deprecated, use `projection` to instantiate a GeoAxes instead.\n",
      "  warnings.warn(\"The `map_projection` keyword argument is \"\n"
     ]
    },
    {
     "name": "stdout",
     "output_type": "stream",
     "text": [
      "[Parallel(n_jobs=8)]: Done 977 tasks      | elapsed: 59.1min\n"
     ]
    },
    {
     "name": "stderr",
     "output_type": "stream",
     "text": [
      "/Users/beckermr/mambaforge/envs/rubin-sims/lib/python3.10/site-packages/cartopy/mpl/geoaxes.py:403: UserWarning: The `map_projection` keyword argument is deprecated, use `projection` to instantiate a GeoAxes instead.\n",
      "  warnings.warn(\"The `map_projection` keyword argument is \"\n",
      "/Users/beckermr/mambaforge/envs/rubin-sims/lib/python3.10/site-packages/cartopy/mpl/geoaxes.py:403: UserWarning: The `map_projection` keyword argument is deprecated, use `projection` to instantiate a GeoAxes instead.\n",
      "  warnings.warn(\"The `map_projection` keyword argument is \"\n"
     ]
    },
    {
     "name": "stdout",
     "output_type": "stream",
     "text": [
      "[Parallel(n_jobs=8)]: Done 978 tasks      | elapsed: 59.1min\n"
     ]
    },
    {
     "name": "stderr",
     "output_type": "stream",
     "text": [
      "/Users/beckermr/mambaforge/envs/rubin-sims/lib/python3.10/site-packages/cartopy/mpl/geoaxes.py:403: UserWarning: The `map_projection` keyword argument is deprecated, use `projection` to instantiate a GeoAxes instead.\n",
      "  warnings.warn(\"The `map_projection` keyword argument is \"\n",
      "/Users/beckermr/mambaforge/envs/rubin-sims/lib/python3.10/site-packages/cartopy/mpl/geoaxes.py:403: UserWarning: The `map_projection` keyword argument is deprecated, use `projection` to instantiate a GeoAxes instead.\n",
      "  warnings.warn(\"The `map_projection` keyword argument is \"\n"
     ]
    },
    {
     "name": "stdout",
     "output_type": "stream",
     "text": [
      "[Parallel(n_jobs=8)]: Done 979 tasks      | elapsed: 59.2min\n"
     ]
    },
    {
     "name": "stderr",
     "output_type": "stream",
     "text": [
      "/Users/beckermr/mambaforge/envs/rubin-sims/lib/python3.10/site-packages/cartopy/mpl/geoaxes.py:403: UserWarning: The `map_projection` keyword argument is deprecated, use `projection` to instantiate a GeoAxes instead.\n",
      "  warnings.warn(\"The `map_projection` keyword argument is \"\n",
      "/Users/beckermr/mambaforge/envs/rubin-sims/lib/python3.10/site-packages/cartopy/mpl/geoaxes.py:403: UserWarning: The `map_projection` keyword argument is deprecated, use `projection` to instantiate a GeoAxes instead.\n",
      "  warnings.warn(\"The `map_projection` keyword argument is \"\n"
     ]
    },
    {
     "name": "stdout",
     "output_type": "stream",
     "text": [
      "[Parallel(n_jobs=8)]: Done 980 tasks      | elapsed: 59.2min\n",
      "[Parallel(n_jobs=8)]: Done 981 tasks      | elapsed: 59.2min\n"
     ]
    },
    {
     "name": "stderr",
     "output_type": "stream",
     "text": [
      "/Users/beckermr/mambaforge/envs/rubin-sims/lib/python3.10/site-packages/cartopy/mpl/geoaxes.py:403: UserWarning: The `map_projection` keyword argument is deprecated, use `projection` to instantiate a GeoAxes instead.\n",
      "  warnings.warn(\"The `map_projection` keyword argument is \"\n",
      "/Users/beckermr/mambaforge/envs/rubin-sims/lib/python3.10/site-packages/cartopy/mpl/geoaxes.py:403: UserWarning: The `map_projection` keyword argument is deprecated, use `projection` to instantiate a GeoAxes instead.\n",
      "  warnings.warn(\"The `map_projection` keyword argument is \"\n",
      "/Users/beckermr/mambaforge/envs/rubin-sims/lib/python3.10/site-packages/cartopy/mpl/geoaxes.py:403: UserWarning: The `map_projection` keyword argument is deprecated, use `projection` to instantiate a GeoAxes instead.\n",
      "  warnings.warn(\"The `map_projection` keyword argument is \"\n",
      "/Users/beckermr/mambaforge/envs/rubin-sims/lib/python3.10/site-packages/cartopy/mpl/geoaxes.py:403: UserWarning: The `map_projection` keyword argument is deprecated, use `projection` to instantiate a GeoAxes instead.\n",
      "  warnings.warn(\"The `map_projection` keyword argument is \"\n"
     ]
    },
    {
     "name": "stdout",
     "output_type": "stream",
     "text": [
      "[Parallel(n_jobs=8)]: Done 982 tasks      | elapsed: 59.3min\n"
     ]
    },
    {
     "name": "stderr",
     "output_type": "stream",
     "text": [
      "/Users/beckermr/mambaforge/envs/rubin-sims/lib/python3.10/site-packages/cartopy/mpl/geoaxes.py:403: UserWarning: The `map_projection` keyword argument is deprecated, use `projection` to instantiate a GeoAxes instead.\n",
      "  warnings.warn(\"The `map_projection` keyword argument is \"\n",
      "/Users/beckermr/mambaforge/envs/rubin-sims/lib/python3.10/site-packages/cartopy/mpl/geoaxes.py:403: UserWarning: The `map_projection` keyword argument is deprecated, use `projection` to instantiate a GeoAxes instead.\n",
      "  warnings.warn(\"The `map_projection` keyword argument is \"\n"
     ]
    },
    {
     "name": "stdout",
     "output_type": "stream",
     "text": [
      "[Parallel(n_jobs=8)]: Done 983 tasks      | elapsed: 59.3min\n"
     ]
    },
    {
     "name": "stderr",
     "output_type": "stream",
     "text": [
      "/Users/beckermr/mambaforge/envs/rubin-sims/lib/python3.10/site-packages/cartopy/mpl/geoaxes.py:403: UserWarning: The `map_projection` keyword argument is deprecated, use `projection` to instantiate a GeoAxes instead.\n",
      "  warnings.warn(\"The `map_projection` keyword argument is \"\n",
      "/Users/beckermr/mambaforge/envs/rubin-sims/lib/python3.10/site-packages/cartopy/mpl/geoaxes.py:403: UserWarning: The `map_projection` keyword argument is deprecated, use `projection` to instantiate a GeoAxes instead.\n",
      "  warnings.warn(\"The `map_projection` keyword argument is \"\n"
     ]
    },
    {
     "name": "stdout",
     "output_type": "stream",
     "text": [
      "[Parallel(n_jobs=8)]: Done 984 tasks      | elapsed: 59.4min\n"
     ]
    },
    {
     "name": "stderr",
     "output_type": "stream",
     "text": [
      "/Users/beckermr/mambaforge/envs/rubin-sims/lib/python3.10/site-packages/cartopy/mpl/geoaxes.py:403: UserWarning: The `map_projection` keyword argument is deprecated, use `projection` to instantiate a GeoAxes instead.\n",
      "  warnings.warn(\"The `map_projection` keyword argument is \"\n",
      "/Users/beckermr/mambaforge/envs/rubin-sims/lib/python3.10/site-packages/cartopy/mpl/geoaxes.py:403: UserWarning: The `map_projection` keyword argument is deprecated, use `projection` to instantiate a GeoAxes instead.\n",
      "  warnings.warn(\"The `map_projection` keyword argument is \"\n"
     ]
    },
    {
     "name": "stdout",
     "output_type": "stream",
     "text": [
      "[Parallel(n_jobs=8)]: Done 985 tasks      | elapsed: 59.6min\n"
     ]
    },
    {
     "name": "stderr",
     "output_type": "stream",
     "text": [
      "/Users/beckermr/mambaforge/envs/rubin-sims/lib/python3.10/site-packages/cartopy/mpl/geoaxes.py:403: UserWarning: The `map_projection` keyword argument is deprecated, use `projection` to instantiate a GeoAxes instead.\n",
      "  warnings.warn(\"The `map_projection` keyword argument is \"\n",
      "/Users/beckermr/mambaforge/envs/rubin-sims/lib/python3.10/site-packages/cartopy/mpl/geoaxes.py:403: UserWarning: The `map_projection` keyword argument is deprecated, use `projection` to instantiate a GeoAxes instead.\n",
      "  warnings.warn(\"The `map_projection` keyword argument is \"\n"
     ]
    },
    {
     "name": "stdout",
     "output_type": "stream",
     "text": [
      "[Parallel(n_jobs=8)]: Done 986 tasks      | elapsed: 59.6min\n"
     ]
    },
    {
     "name": "stderr",
     "output_type": "stream",
     "text": [
      "/Users/beckermr/mambaforge/envs/rubin-sims/lib/python3.10/site-packages/cartopy/mpl/geoaxes.py:403: UserWarning: The `map_projection` keyword argument is deprecated, use `projection` to instantiate a GeoAxes instead.\n",
      "  warnings.warn(\"The `map_projection` keyword argument is \"\n",
      "/Users/beckermr/mambaforge/envs/rubin-sims/lib/python3.10/site-packages/cartopy/mpl/geoaxes.py:403: UserWarning: The `map_projection` keyword argument is deprecated, use `projection` to instantiate a GeoAxes instead.\n",
      "  warnings.warn(\"The `map_projection` keyword argument is \"\n",
      "/Users/beckermr/mambaforge/envs/rubin-sims/lib/python3.10/site-packages/cartopy/mpl/geoaxes.py:403: UserWarning: The `map_projection` keyword argument is deprecated, use `projection` to instantiate a GeoAxes instead.\n",
      "  warnings.warn(\"The `map_projection` keyword argument is \"\n",
      "/Users/beckermr/mambaforge/envs/rubin-sims/lib/python3.10/site-packages/cartopy/mpl/geoaxes.py:403: UserWarning: The `map_projection` keyword argument is deprecated, use `projection` to instantiate a GeoAxes instead.\n",
      "  warnings.warn(\"The `map_projection` keyword argument is \"\n",
      "/Users/beckermr/mambaforge/envs/rubin-sims/lib/python3.10/site-packages/cartopy/mpl/geoaxes.py:403: UserWarning: The `map_projection` keyword argument is deprecated, use `projection` to instantiate a GeoAxes instead.\n",
      "  warnings.warn(\"The `map_projection` keyword argument is \"\n",
      "/Users/beckermr/mambaforge/envs/rubin-sims/lib/python3.10/site-packages/cartopy/mpl/geoaxes.py:403: UserWarning: The `map_projection` keyword argument is deprecated, use `projection` to instantiate a GeoAxes instead.\n",
      "  warnings.warn(\"The `map_projection` keyword argument is \"\n",
      "/Users/beckermr/mambaforge/envs/rubin-sims/lib/python3.10/site-packages/cartopy/mpl/geoaxes.py:403: UserWarning: The `map_projection` keyword argument is deprecated, use `projection` to instantiate a GeoAxes instead.\n",
      "  warnings.warn(\"The `map_projection` keyword argument is \"\n",
      "/Users/beckermr/mambaforge/envs/rubin-sims/lib/python3.10/site-packages/cartopy/mpl/geoaxes.py:403: UserWarning: The `map_projection` keyword argument is deprecated, use `projection` to instantiate a GeoAxes instead.\n",
      "  warnings.warn(\"The `map_projection` keyword argument is \"\n",
      "/Users/beckermr/mambaforge/envs/rubin-sims/lib/python3.10/site-packages/cartopy/mpl/geoaxes.py:403: UserWarning: The `map_projection` keyword argument is deprecated, use `projection` to instantiate a GeoAxes instead.\n",
      "  warnings.warn(\"The `map_projection` keyword argument is \"\n",
      "/Users/beckermr/mambaforge/envs/rubin-sims/lib/python3.10/site-packages/cartopy/mpl/geoaxes.py:403: UserWarning: The `map_projection` keyword argument is deprecated, use `projection` to instantiate a GeoAxes instead.\n",
      "  warnings.warn(\"The `map_projection` keyword argument is \"\n",
      "/Users/beckermr/mambaforge/envs/rubin-sims/lib/python3.10/site-packages/cartopy/mpl/geoaxes.py:403: UserWarning: The `map_projection` keyword argument is deprecated, use `projection` to instantiate a GeoAxes instead.\n",
      "  warnings.warn(\"The `map_projection` keyword argument is \"\n",
      "/Users/beckermr/mambaforge/envs/rubin-sims/lib/python3.10/site-packages/cartopy/mpl/geoaxes.py:403: UserWarning: The `map_projection` keyword argument is deprecated, use `projection` to instantiate a GeoAxes instead.\n",
      "  warnings.warn(\"The `map_projection` keyword argument is \"\n",
      "/Users/beckermr/mambaforge/envs/rubin-sims/lib/python3.10/site-packages/cartopy/mpl/geoaxes.py:403: UserWarning: The `map_projection` keyword argument is deprecated, use `projection` to instantiate a GeoAxes instead.\n",
      "  warnings.warn(\"The `map_projection` keyword argument is \"\n",
      "/Users/beckermr/mambaforge/envs/rubin-sims/lib/python3.10/site-packages/cartopy/mpl/geoaxes.py:403: UserWarning: The `map_projection` keyword argument is deprecated, use `projection` to instantiate a GeoAxes instead.\n",
      "  warnings.warn(\"The `map_projection` keyword argument is \"\n",
      "/Users/beckermr/mambaforge/envs/rubin-sims/lib/python3.10/site-packages/cartopy/mpl/geoaxes.py:403: UserWarning: The `map_projection` keyword argument is deprecated, use `projection` to instantiate a GeoAxes instead.\n",
      "  warnings.warn(\"The `map_projection` keyword argument is \"\n",
      "/Users/beckermr/mambaforge/envs/rubin-sims/lib/python3.10/site-packages/cartopy/mpl/geoaxes.py:403: UserWarning: The `map_projection` keyword argument is deprecated, use `projection` to instantiate a GeoAxes instead.\n",
      "  warnings.warn(\"The `map_projection` keyword argument is \"\n"
     ]
    },
    {
     "name": "stdout",
     "output_type": "stream",
     "text": [
      "[Parallel(n_jobs=8)]: Done 997 out of 1001 | elapsed: 60.3min remaining:   14.5s\n",
      "[Parallel(n_jobs=8)]: Done 1001 out of 1001 | elapsed: 60.4min finished\n"
     ]
    }
   ],
   "source": [
    "import tqdm\n",
    "\n",
    "roll_uniform_maps_arr = fitsio.read(\"roll_uniform_early_half_mjdp0_v3.4_10yrs_nside128_bins1000.fits\")\n",
    "baseline_maps_arr = fitsio.read(\"baseline_v3.4_10yrs_nside128_bins1000.fits\")\n",
    "xy = np.linspace(0, 3653, roll_uniform_maps_arr.shape[0]+1)[1:]/365.25\n",
    "\n",
    "vmax = max(\n",
    "    np.median(roll_uniform_maps_arr[-1, wfd_indx]),\n",
    "    np.median(baseline_maps_arr[-1, wfd_indx]),\n",
    ")\n",
    "\n",
    "\n",
    "def _plot_map(marr, ind, ax, title):\n",
    "    import skyproj\n",
    "    import skyproj.hpx_utils\n",
    "    import proplot as pplt\n",
    "\n",
    "    if ind == -1:\n",
    "        imap = marr[ind, :].copy() * 0\n",
    "\n",
    "    else:    \n",
    "        imap = marr[ind, :].copy()\n",
    "        msk = imap < 15\n",
    "        imap[msk] = 0\n",
    "        imap = imap / vmax * 10\n",
    "        imap[msk] = -1\n",
    "\n",
    "    lon, lat, xymap = skyproj.hpx_utils.hpxmap_to_xy(\n",
    "        imap,\n",
    "        [0, 360],\n",
    "        [-90, 90],\n",
    "        xsize=600,\n",
    "    )\n",
    "\n",
    "    cmap = pplt.constructor.Colormap(\n",
    "        \"marine\",\n",
    "        right=0.85,\n",
    "        left=0.15,\n",
    "    )\n",
    "    \n",
    "    cmap = pplt.constructor.Colormap(\n",
    "        [(1, 1, 1, 1)] + [\n",
    "            cmap(x)\n",
    "            for x in np.linspace(0, 1, 99)\n",
    "        ]\n",
    "    )\n",
    "        \n",
    "    m = ax.pcolormesh(\n",
    "        lon, lat, xymap,\n",
    "        cmap=cmap, \n",
    "        vmin=0, \n",
    "        vmax=10, \n",
    "        discrete=False,\n",
    "    )\n",
    "    ax.format(\n",
    "        title=\"%s rolling\" % title,\n",
    "    )\n",
    "    ax.invert_xaxis()\n",
    "    return m, cmap\n",
    "\n",
    "def _plot_ind_both(ind, bname):\n",
    "    import skyproj\n",
    "    import skyproj.hpx_utils\n",
    "    import proplot as pplt\n",
    "    \n",
    "\n",
    "    fig, axs = pplt.subplots(\n",
    "        nrows=1, ncols=2,\n",
    "        proj=\"moll\",\n",
    "        figsize=(9, 3),\n",
    "    )\n",
    "    \n",
    "    mvals = []\n",
    "    ax = axs[0, 0]\n",
    "    mvals.append(_plot_map(baseline_maps_arr, ind, ax, \"baseline\"))\n",
    "    ax = axs[0, 1]\n",
    "    mvals.append(_plot_map(roll_uniform_maps_arr, ind, ax, \"uniform/optimized\"))\n",
    "    \n",
    "    fig.colorbar(\n",
    "        mvals[0][0], \n",
    "        loc=\"l\", \n",
    "        title=\"r+i+z obs. time [LSST one-year equiv.]\",\n",
    "        length=0.8,\n",
    "        ticks=np.arange(11),\n",
    "    )\n",
    "    if ind == -1:\n",
    "        yr = 0.0\n",
    "    else:\n",
    "        yr = xy[ind]\n",
    "    fig.format(\n",
    "        suptitle=\"Rubin LSST WFD Survey at Year %5.2f\" % yr\n",
    "    )\n",
    "    fig.savefig(bname + \"_%04d.png\" % (ind+1), dpi=200)\n",
    "    # return fig\n",
    "\n",
    "base = \"comp_roll\"\n",
    "os.makedirs(base, exist_ok=True)\n",
    "os.system(f\"rm -r ./{base}/*\")\n",
    "\n",
    "# for ind in [0, 39]:\n",
    "#     fig = _plot_ind_both(ind, f\"{base}/{base}\")\n",
    "\n",
    "\n",
    "import joblib\n",
    "\n",
    "jobs = [\n",
    "    joblib.delayed(_plot_ind_both)(\n",
    "        ind, f\"{base}/{base}\"\n",
    "    )\n",
    "    for ind in [-1] + list(range(baseline_maps_arr.shape[0]))\n",
    "]\n",
    "\n",
    "with joblib.Parallel(n_jobs=8, backend=\"loky\", verbose=100) as exc:\n",
    "    exc(jobs)"
   ]
  },
  {
   "cell_type": "code",
   "execution_count": 8,
   "id": "b270f44d-53c6-4b50-b6fc-a765703bd385",
   "metadata": {
    "scrolled": true
   },
   "outputs": [
    {
     "name": "stdout",
     "output_type": "stream",
     "text": [
      "['_0100.', '_0400.', '_0700.', '_1000.']\n",
      "Moviepy - Building video comp_roll.mp4.\n",
      "Moviepy - Writing video comp_roll.mp4\n",
      "\n"
     ]
    },
    {
     "name": "stderr",
     "output_type": "stream",
     "text": [
      "                                                                                                                                                                          \r"
     ]
    },
    {
     "name": "stdout",
     "output_type": "stream",
     "text": [
      "Moviepy - Done !\n",
      "Moviepy - video ready comp_roll.mp4\n"
     ]
    }
   ],
   "source": [
    "import os\n",
    "import moviepy.video.io.ImageSequenceClip\n",
    "\n",
    "image_files = sorted([\n",
    "    os.path.join(base,img)\n",
    "    for img in os.listdir(base)\n",
    "])\n",
    "\n",
    "dind = roll_uniform_maps_arr.shape[0] // 10\n",
    "tails = [\n",
    "    \"_%04d.\" % (ind * dind)\n",
    "    for ind in [1, 4, 7, 10]\n",
    "]\n",
    "print(tails)\n",
    "\n",
    "n_extra = dind\n",
    "seconds_per_year = 4\n",
    "fps = dind / seconds_per_year\n",
    "new_image_files = []\n",
    "for fname in image_files:\n",
    "    if any(tail in fname for tail in tails):\n",
    "        new_image_files += [fname] * n_extra\n",
    "    else:\n",
    "        new_image_files.append(fname)\n",
    "\n",
    "clip = moviepy.video.io.ImageSequenceClip.ImageSequenceClip(new_image_files, fps=fps)\n",
    "clip.write_videofile(f'{base}.mp4')"
   ]
  },
  {
   "cell_type": "code",
   "execution_count": null,
   "id": "c4692c03-3f30-4dc7-9aad-5b51c5ae4368",
   "metadata": {},
   "outputs": [],
   "source": []
  }
 ],
 "metadata": {
  "kernelspec": {
   "display_name": "Python [conda env:rubin-sims]",
   "language": "python",
   "name": "conda-env-rubin-sims-py"
  },
  "language_info": {
   "codemirror_mode": {
    "name": "ipython",
    "version": 3
   },
   "file_extension": ".py",
   "mimetype": "text/x-python",
   "name": "python",
   "nbconvert_exporter": "python",
   "pygments_lexer": "ipython3",
   "version": "3.10.12"
  }
 },
 "nbformat": 4,
 "nbformat_minor": 5
}
