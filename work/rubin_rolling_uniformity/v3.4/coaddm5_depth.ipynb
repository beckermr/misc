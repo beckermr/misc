{
 "cells": [
  {
   "cell_type": "code",
   "execution_count": 1,
   "id": "5713c0a0-e31b-4bb2-b828-048b1adc963a",
   "metadata": {},
   "outputs": [],
   "source": [
    "%load_ext autoreload\n",
    "%autoreload 2"
   ]
  },
  {
   "cell_type": "code",
   "execution_count": 2,
   "id": "394f966d",
   "metadata": {},
   "outputs": [],
   "source": [
    "\n",
    "import proplot as pplt\n",
    "import numpy as np\n",
    "from rolling_plot_utils import (\n",
    "    plot_years_and_seasons,\n",
    "    get_season,\n",
    "    get_cmap_plus_white,\n",
    "    BASELINE_SURVEY_START_MJD,\n",
    "    MJD_2024,\n",
    "    YEAR,\n",
    "    get_sun_ra_at_mjd,\n",
    "    plot_sun_ra,\n",
    "    plot_rizexptime_fancy,\n",
    "    mad,\n",
    ")"
   ]
  },
  {
   "cell_type": "code",
   "execution_count": 9,
   "id": "6b94b02e",
   "metadata": {},
   "outputs": [
    {
     "name": "stdout",
     "output_type": "stream",
     "text": [
      "running 3 jobs\n",
      "[Parallel(n_jobs=4)]: Using backend LokyBackend with 4 concurrent workers.\n",
      "starting noroll_mjdp0_v3.4_10yrs.db\n",
      "starting roll_uniform_early_half_mjdp0_v3.4_10yrs.db\n",
      "starting baseline_v3.4_10yrs.db\n"
     ]
    },
    {
     "ename": "OSError",
     "evalue": "The throughput file /Users/beckermr/RUBIN_SIM_DATA_DIR/throughputs/baseline/total_u.dat does not exist",
     "output_type": "error",
     "traceback": [
      "\u001b[0;31m---------------------------------------------------------------------------\u001b[0m",
      "\u001b[0;31m_RemoteTraceback\u001b[0m                          Traceback (most recent call last)",
      "\u001b[0;31m_RemoteTraceback\u001b[0m: \n\"\"\"\nTraceback (most recent call last):\n  File \"/Users/beckermr/mambaforge/envs/rubin-sims/lib/python3.10/site-packages/rubin_sim/phot_utils/bandpass.py\", line 148, in read_throughput\n    f = open(filename, \"r\")\nFileNotFoundError: [Errno 2] No such file or directory: '/Users/beckermr/RUBIN_SIM_DATA_DIR/throughputs/baseline/total_u.dat'\n\nDuring handling of the above exception, another exception occurred:\n\nTraceback (most recent call last):\n  File \"/Users/beckermr/mambaforge/envs/rubin-sims/lib/python3.10/site-packages/rubin_sim/phot_utils/bandpass.py\", line 154, in read_throughput\n    f = gzip.open(filename + \".gz\", \"rt\")\n  File \"/Users/beckermr/mambaforge/envs/rubin-sims/lib/python3.10/gzip.py\", line 58, in open\n    binary_file = GzipFile(filename, gz_mode, compresslevel)\n  File \"/Users/beckermr/mambaforge/envs/rubin-sims/lib/python3.10/gzip.py\", line 174, in __init__\n    fileobj = self.myfileobj = builtins.open(filename, mode or 'rb')\nFileNotFoundError: [Errno 2] No such file or directory: '/Users/beckermr/RUBIN_SIM_DATA_DIR/throughputs/baseline/total_u.dat.gz'\n\nDuring handling of the above exception, another exception occurred:\n\nTraceback (most recent call last):\n  File \"/Users/beckermr/mambaforge/envs/rubin-sims/lib/python3.10/site-packages/joblib/externals/loky/process_executor.py\", line 463, in _process_worker\n    r = call_item()\n  File \"/Users/beckermr/mambaforge/envs/rubin-sims/lib/python3.10/site-packages/joblib/externals/loky/process_executor.py\", line 291, in __call__\n    return self.fn(*self.args, **self.kwargs)\n  File \"/Users/beckermr/mambaforge/envs/rubin-sims/lib/python3.10/site-packages/joblib/parallel.py\", line 589, in __call__\n    return [func(*args, **kwargs)\n  File \"/Users/beckermr/mambaforge/envs/rubin-sims/lib/python3.10/site-packages/joblib/parallel.py\", line 589, in <listcomp>\n    return [func(*args, **kwargs)\n  File \"/var/folders/41/j8jxg9p94cd_04wlhd_zn0lr0000gn/T/ipykernel_23359/3399264097.py\", line 21, in _process_file\n  File \"/Users/beckermr/mambaforge/envs/rubin-sims/lib/python3.10/site-packages/rubin_sim/maf/metrics/weak_lensing_systematics_metric.py\", line 42, in __init__\n    self.exgal_m5 = ExgalM5(m5_col=m5_col, units=units)\n  File \"/Users/beckermr/mambaforge/envs/rubin-sims/lib/python3.10/site-packages/rubin_sim/maf/metrics/exgal_m5.py\", line 34, in __init__\n    dust_properties = DustValues()\n  File \"/Users/beckermr/mambaforge/envs/rubin-sims/lib/python3.10/site-packages/rubin_sim/phot_utils/photometric_parameters.py\", line 40, in __init__\n    bandpass_dict[f].read_throughput(os.path.join(root_dir, f\"total_{f}.dat\"))\n  File \"/Users/beckermr/mambaforge/envs/rubin-sims/lib/python3.10/site-packages/rubin_sim/phot_utils/bandpass.py\", line 156, in read_throughput\n    raise IOError(\"The throughput file %s does not exist\" % (filename))\nOSError: The throughput file /Users/beckermr/RUBIN_SIM_DATA_DIR/throughputs/baseline/total_u.dat does not exist\n\"\"\"",
      "\nThe above exception was the direct cause of the following exception:\n",
      "\u001b[0;31mOSError\u001b[0m                                   Traceback (most recent call last)",
      "Cell \u001b[0;32mIn[9], line 69\u001b[0m\n\u001b[1;32m     66\u001b[0m     \u001b[38;5;28;01mwith\u001b[39;00m joblib\u001b[38;5;241m.\u001b[39mParallel(n_jobs\u001b[38;5;241m=\u001b[39m\u001b[38;5;241m4\u001b[39m, verbose\u001b[38;5;241m=\u001b[39m\u001b[38;5;241m100\u001b[39m, backend\u001b[38;5;241m=\u001b[39m\u001b[38;5;124m\"\u001b[39m\u001b[38;5;124mloky\u001b[39m\u001b[38;5;124m\"\u001b[39m) \u001b[38;5;28;01mas\u001b[39;00m par:\n\u001b[1;32m     67\u001b[0m         par(jobs)\n\u001b[0;32m---> 69\u001b[0m \u001b[43mmain\u001b[49m\u001b[43m(\u001b[49m\u001b[43m)\u001b[49m\n",
      "Cell \u001b[0;32mIn[9], line 67\u001b[0m, in \u001b[0;36mmain\u001b[0;34m()\u001b[0m\n\u001b[1;32m     65\u001b[0m \u001b[38;5;28mprint\u001b[39m(\u001b[38;5;124m\"\u001b[39m\u001b[38;5;124mrunning \u001b[39m\u001b[38;5;132;01m%d\u001b[39;00m\u001b[38;5;124m jobs\u001b[39m\u001b[38;5;124m\"\u001b[39m \u001b[38;5;241m%\u001b[39m \u001b[38;5;28mlen\u001b[39m(jobs), flush\u001b[38;5;241m=\u001b[39m\u001b[38;5;28;01mTrue\u001b[39;00m)\n\u001b[1;32m     66\u001b[0m \u001b[38;5;28;01mwith\u001b[39;00m joblib\u001b[38;5;241m.\u001b[39mParallel(n_jobs\u001b[38;5;241m=\u001b[39m\u001b[38;5;241m4\u001b[39m, verbose\u001b[38;5;241m=\u001b[39m\u001b[38;5;241m100\u001b[39m, backend\u001b[38;5;241m=\u001b[39m\u001b[38;5;124m\"\u001b[39m\u001b[38;5;124mloky\u001b[39m\u001b[38;5;124m\"\u001b[39m) \u001b[38;5;28;01mas\u001b[39;00m par:\n\u001b[0;32m---> 67\u001b[0m     \u001b[43mpar\u001b[49m\u001b[43m(\u001b[49m\u001b[43mjobs\u001b[49m\u001b[43m)\u001b[49m\n",
      "File \u001b[0;32m~/mambaforge/envs/rubin-sims/lib/python3.10/site-packages/joblib/parallel.py:1952\u001b[0m, in \u001b[0;36mParallel.__call__\u001b[0;34m(self, iterable)\u001b[0m\n\u001b[1;32m   1946\u001b[0m \u001b[38;5;66;03m# The first item from the output is blank, but it makes the interpreter\u001b[39;00m\n\u001b[1;32m   1947\u001b[0m \u001b[38;5;66;03m# progress until it enters the Try/Except block of the generator and\u001b[39;00m\n\u001b[1;32m   1948\u001b[0m \u001b[38;5;66;03m# reach the first `yield` statement. This starts the aynchronous\u001b[39;00m\n\u001b[1;32m   1949\u001b[0m \u001b[38;5;66;03m# dispatch of the tasks to the workers.\u001b[39;00m\n\u001b[1;32m   1950\u001b[0m \u001b[38;5;28mnext\u001b[39m(output)\n\u001b[0;32m-> 1952\u001b[0m \u001b[38;5;28;01mreturn\u001b[39;00m output \u001b[38;5;28;01mif\u001b[39;00m \u001b[38;5;28mself\u001b[39m\u001b[38;5;241m.\u001b[39mreturn_generator \u001b[38;5;28;01melse\u001b[39;00m \u001b[38;5;28;43mlist\u001b[39;49m\u001b[43m(\u001b[49m\u001b[43moutput\u001b[49m\u001b[43m)\u001b[49m\n",
      "File \u001b[0;32m~/mambaforge/envs/rubin-sims/lib/python3.10/site-packages/joblib/parallel.py:1595\u001b[0m, in \u001b[0;36mParallel._get_outputs\u001b[0;34m(self, iterator, pre_dispatch)\u001b[0m\n\u001b[1;32m   1592\u001b[0m     \u001b[38;5;28;01myield\u001b[39;00m\n\u001b[1;32m   1594\u001b[0m     \u001b[38;5;28;01mwith\u001b[39;00m \u001b[38;5;28mself\u001b[39m\u001b[38;5;241m.\u001b[39m_backend\u001b[38;5;241m.\u001b[39mretrieval_context():\n\u001b[0;32m-> 1595\u001b[0m         \u001b[38;5;28;01myield from\u001b[39;00m \u001b[38;5;28mself\u001b[39m\u001b[38;5;241m.\u001b[39m_retrieve()\n\u001b[1;32m   1597\u001b[0m \u001b[38;5;28;01mexcept\u001b[39;00m \u001b[38;5;167;01mGeneratorExit\u001b[39;00m:\n\u001b[1;32m   1598\u001b[0m     \u001b[38;5;66;03m# The generator has been garbage collected before being fully\u001b[39;00m\n\u001b[1;32m   1599\u001b[0m     \u001b[38;5;66;03m# consumed. This aborts the remaining tasks if possible and warn\u001b[39;00m\n\u001b[1;32m   1600\u001b[0m     \u001b[38;5;66;03m# the user if necessary.\u001b[39;00m\n\u001b[1;32m   1601\u001b[0m     \u001b[38;5;28mself\u001b[39m\u001b[38;5;241m.\u001b[39m_exception \u001b[38;5;241m=\u001b[39m \u001b[38;5;28;01mTrue\u001b[39;00m\n",
      "File \u001b[0;32m~/mambaforge/envs/rubin-sims/lib/python3.10/site-packages/joblib/parallel.py:1699\u001b[0m, in \u001b[0;36mParallel._retrieve\u001b[0;34m(self)\u001b[0m\n\u001b[1;32m   1692\u001b[0m \u001b[38;5;28;01mwhile\u001b[39;00m \u001b[38;5;28mself\u001b[39m\u001b[38;5;241m.\u001b[39m_wait_retrieval():\n\u001b[1;32m   1693\u001b[0m \n\u001b[1;32m   1694\u001b[0m     \u001b[38;5;66;03m# If the callback thread of a worker has signaled that its task\u001b[39;00m\n\u001b[1;32m   1695\u001b[0m     \u001b[38;5;66;03m# triggered an exception, or if the retrieval loop has raised an\u001b[39;00m\n\u001b[1;32m   1696\u001b[0m     \u001b[38;5;66;03m# exception (e.g. `GeneratorExit`), exit the loop and surface the\u001b[39;00m\n\u001b[1;32m   1697\u001b[0m     \u001b[38;5;66;03m# worker traceback.\u001b[39;00m\n\u001b[1;32m   1698\u001b[0m     \u001b[38;5;28;01mif\u001b[39;00m \u001b[38;5;28mself\u001b[39m\u001b[38;5;241m.\u001b[39m_aborting:\n\u001b[0;32m-> 1699\u001b[0m         \u001b[38;5;28;43mself\u001b[39;49m\u001b[38;5;241;43m.\u001b[39;49m\u001b[43m_raise_error_fast\u001b[49m\u001b[43m(\u001b[49m\u001b[43m)\u001b[49m\n\u001b[1;32m   1700\u001b[0m         \u001b[38;5;28;01mbreak\u001b[39;00m\n\u001b[1;32m   1702\u001b[0m     \u001b[38;5;66;03m# If the next job is not ready for retrieval yet, we just wait for\u001b[39;00m\n\u001b[1;32m   1703\u001b[0m     \u001b[38;5;66;03m# async callbacks to progress.\u001b[39;00m\n",
      "File \u001b[0;32m~/mambaforge/envs/rubin-sims/lib/python3.10/site-packages/joblib/parallel.py:1734\u001b[0m, in \u001b[0;36mParallel._raise_error_fast\u001b[0;34m(self)\u001b[0m\n\u001b[1;32m   1730\u001b[0m \u001b[38;5;66;03m# If this error job exists, immediatly raise the error by\u001b[39;00m\n\u001b[1;32m   1731\u001b[0m \u001b[38;5;66;03m# calling get_result. This job might not exists if abort has been\u001b[39;00m\n\u001b[1;32m   1732\u001b[0m \u001b[38;5;66;03m# called directly or if the generator is gc'ed.\u001b[39;00m\n\u001b[1;32m   1733\u001b[0m \u001b[38;5;28;01mif\u001b[39;00m error_job \u001b[38;5;129;01mis\u001b[39;00m \u001b[38;5;129;01mnot\u001b[39;00m \u001b[38;5;28;01mNone\u001b[39;00m:\n\u001b[0;32m-> 1734\u001b[0m     \u001b[43merror_job\u001b[49m\u001b[38;5;241;43m.\u001b[39;49m\u001b[43mget_result\u001b[49m\u001b[43m(\u001b[49m\u001b[38;5;28;43mself\u001b[39;49m\u001b[38;5;241;43m.\u001b[39;49m\u001b[43mtimeout\u001b[49m\u001b[43m)\u001b[49m\n",
      "File \u001b[0;32m~/mambaforge/envs/rubin-sims/lib/python3.10/site-packages/joblib/parallel.py:736\u001b[0m, in \u001b[0;36mBatchCompletionCallBack.get_result\u001b[0;34m(self, timeout)\u001b[0m\n\u001b[1;32m    730\u001b[0m backend \u001b[38;5;241m=\u001b[39m \u001b[38;5;28mself\u001b[39m\u001b[38;5;241m.\u001b[39mparallel\u001b[38;5;241m.\u001b[39m_backend\n\u001b[1;32m    732\u001b[0m \u001b[38;5;28;01mif\u001b[39;00m backend\u001b[38;5;241m.\u001b[39msupports_retrieve_callback:\n\u001b[1;32m    733\u001b[0m     \u001b[38;5;66;03m# We assume that the result has already been retrieved by the\u001b[39;00m\n\u001b[1;32m    734\u001b[0m     \u001b[38;5;66;03m# callback thread, and is stored internally. It's just waiting to\u001b[39;00m\n\u001b[1;32m    735\u001b[0m     \u001b[38;5;66;03m# be returned.\u001b[39;00m\n\u001b[0;32m--> 736\u001b[0m     \u001b[38;5;28;01mreturn\u001b[39;00m \u001b[38;5;28;43mself\u001b[39;49m\u001b[38;5;241;43m.\u001b[39;49m\u001b[43m_return_or_raise\u001b[49m\u001b[43m(\u001b[49m\u001b[43m)\u001b[49m\n\u001b[1;32m    738\u001b[0m \u001b[38;5;66;03m# For other backends, the main thread needs to run the retrieval step.\u001b[39;00m\n\u001b[1;32m    739\u001b[0m \u001b[38;5;28;01mtry\u001b[39;00m:\n",
      "File \u001b[0;32m~/mambaforge/envs/rubin-sims/lib/python3.10/site-packages/joblib/parallel.py:754\u001b[0m, in \u001b[0;36mBatchCompletionCallBack._return_or_raise\u001b[0;34m(self)\u001b[0m\n\u001b[1;32m    752\u001b[0m \u001b[38;5;28;01mtry\u001b[39;00m:\n\u001b[1;32m    753\u001b[0m     \u001b[38;5;28;01mif\u001b[39;00m \u001b[38;5;28mself\u001b[39m\u001b[38;5;241m.\u001b[39mstatus \u001b[38;5;241m==\u001b[39m TASK_ERROR:\n\u001b[0;32m--> 754\u001b[0m         \u001b[38;5;28;01mraise\u001b[39;00m \u001b[38;5;28mself\u001b[39m\u001b[38;5;241m.\u001b[39m_result\n\u001b[1;32m    755\u001b[0m     \u001b[38;5;28;01mreturn\u001b[39;00m \u001b[38;5;28mself\u001b[39m\u001b[38;5;241m.\u001b[39m_result\n\u001b[1;32m    756\u001b[0m \u001b[38;5;28;01mfinally\u001b[39;00m:\n",
      "\u001b[0;31mOSError\u001b[0m: The throughput file /Users/beckermr/RUBIN_SIM_DATA_DIR/throughputs/baseline/total_u.dat does not exist"
     ]
    }
   ],
   "source": [
    "import os\n",
    "import glob\n",
    "\n",
    "import numpy as np\n",
    "from rubin_sim import maf\n",
    "import fitsio\n",
    "import joblib\n",
    "\n",
    "from rubin_sim.maf import ExgalM5WithCuts\n",
    "\n",
    "\n",
    "def _process_file(filename):\n",
    "    nside = 128\n",
    "\n",
    "    runname = os.path.basename(filename).replace('.db', '')\n",
    "    oname = runname + \"_exgalm5withcuts_nside%d.fits\" % (nside)\n",
    "\n",
    "    if not os.path.exists(oname):\n",
    "        print(\"starting %s\" % os.path.basename(filename), flush=True)\n",
    "\n",
    "        metric = ExgalM5WithCuts()\n",
    "\n",
    "        slicer = maf.HealpixSlicer(nside=nside, use_cache=False)\n",
    "        sql = 'note not like \"%%DD%%\" and night <= 3653 '\n",
    "        bundle = maf.MetricBundle(metric, slicer, sql, run_name=runname)\n",
    "        bg = maf.MetricBundleGroup([bundle], filename, '.', None)\n",
    "        bg.run_all()\n",
    "        maps_arr = bundle.metric_values.copy().T\n",
    "\n",
    "        maps_arr = maps_arr.filled(fill_value=-9999)\n",
    "\n",
    "        fitsio.write(\n",
    "            oname,\n",
    "            maps_arr,\n",
    "            clobber=True,\n",
    "        )\n",
    "\n",
    "\n",
    "def main():\n",
    "    fnames = glob.glob(\n",
    "        os.path.expandvars(\n",
    "            os.path.join(\n",
    "                \"${RUBIN_SIM_DATA_DIR}\",\n",
    "                'matts_extra_sims',\n",
    "                '*.db',\n",
    "            )\n",
    "        )\n",
    "    )\n",
    "    sims = [\n",
    "        \"roll_uniform_early_half_mjdp0_v3.4_10yrs.db\",\n",
    "        \"baseline_v3.4_10yrs.db\",\n",
    "        \"noroll_mjdp0_v3.4_10yrs.db\",\n",
    "    ]\n",
    "    fnames = [\n",
    "        fname for fname in fnames\n",
    "        if any(fname.endswith(sim) for sim in sims)\n",
    "    ]\n",
    "    jobs = []\n",
    "    for fname in fnames:\n",
    "        jobs.append(\n",
    "            joblib.delayed(_process_file)(fname)\n",
    "        )\n",
    "\n",
    "\n",
    "    print(\"running %d jobs\" % len(jobs), flush=True)\n",
    "    with joblib.Parallel(n_jobs=4, verbose=100, backend=\"loky\") as par:\n",
    "        par(jobs)\n",
    "\n",
    "main()"
   ]
  }
 ],
 "metadata": {
  "kernelspec": {
   "display_name": "Python [conda env:rubin-sims]",
   "language": "python",
   "name": "conda-env-rubin-sims-py"
  },
  "language_info": {
   "codemirror_mode": {
    "name": "ipython",
    "version": 3
   },
   "file_extension": ".py",
   "mimetype": "text/x-python",
   "name": "python",
   "nbconvert_exporter": "python",
   "pygments_lexer": "ipython3",
   "version": "3.10.12"
  }
 },
 "nbformat": 4,
 "nbformat_minor": 5
}
