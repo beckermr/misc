{
 "cells": [
  {
   "cell_type": "code",
   "execution_count": 1,
   "metadata": {},
   "outputs": [],
   "source": [
    "import meds\n",
    "import numpy as np\n",
    "import galsim\n",
    "import fitsio\n",
    "\n",
    "import seaborn as sns\n",
    "import matplotlib.pyplot as plt\n",
    "\n",
    "%matplotlib notebook"
   ]
  },
  {
   "cell_type": "code",
   "execution_count": 2,
   "metadata": {},
   "outputs": [],
   "source": [
    "import os\n",
    "\n",
    "band = 'i'\n",
    "tilename = 'DES2122+0001'\n",
    "MEDS_DIR = 'outputs-%s' % tilename\n",
    "MEDSCONF = 'y3v02'\n",
    "\n",
    "meds_path = os.path.join(\n",
    "    MEDS_DIR,\n",
    "    'meds',\n",
    "    MEDSCONF,\n",
    "    tilename,\n",
    "    \"{tilename}_{band}_meds-{medsconf}.fits.fz\".format(\n",
    "        tilename=tilename,\n",
    "        band=band,\n",
    "        medsconf=MEDSCONF))\n",
    "\n",
    "yaml_path = os.path.join(\n",
    "    MEDS_DIR,\n",
    "    \"simple_des_y3_sims\",\n",
    "    MEDSCONF,\n",
    "    \"band_info_files\",\n",
    "    \"{tilename}_{band}_info.yaml\".format(\n",
    "        tilename=tilename, band=band))"
   ]
  },
  {
   "cell_type": "code",
   "execution_count": 3,
   "metadata": {},
   "outputs": [],
   "source": [
    "m = meds.MEDS(meds_path)\n",
    "ii = m.get_image_info()\n",
    "cat = m.get_cat()"
   ]
  },
  {
   "cell_type": "code",
   "execution_count": 4,
   "metadata": {},
   "outputs": [],
   "source": [
    "import yaml\n",
    "\n",
    "with open(yaml_path, \"r\") as fp:\n",
    "    info = yaml.load(fp, Loader=yaml.Loader)"
   ]
  },
  {
   "cell_type": "code",
   "execution_count": 5,
   "metadata": {},
   "outputs": [
    {
     "data": {
      "text/plain": [
       "(array([394, 395, 396, 397, 398, 399, 400, 401, 402, 403, 404, 405, 406,\n",
       "        424, 425, 426, 427, 428, 429, 430, 431, 432, 433, 434, 435, 436,\n",
       "        454, 455, 456, 457, 458, 459, 460, 461, 462, 463, 464, 465, 466,\n",
       "        484, 485, 486, 487, 488, 489, 490, 491, 492, 493, 494, 495, 496,\n",
       "        514, 515, 516, 517, 518, 519, 520, 521, 522, 523, 524, 525, 526,\n",
       "        544, 545, 546, 547, 548, 549, 550, 551, 552, 553, 554, 555, 556,\n",
       "        720, 750, 780, 810, 840, 870]),)"
      ]
     },
     "execution_count": 5,
     "metadata": {},
     "output_type": "execute_result"
    }
   ],
   "source": [
    "np.where(cat['file_id'][:, 1] > 0)"
   ]
  },
  {
   "cell_type": "code",
   "execution_count": 13,
   "metadata": {},
   "outputs": [],
   "source": [
    "iobj = 810\n",
    "iind = 1"
   ]
  },
  {
   "cell_type": "code",
   "execution_count": 14,
   "metadata": {},
   "outputs": [
    {
     "name": "stdout",
     "output_type": "stream",
     "text": [
      "file_id: 1\n",
      "image: D00232736_i_c21_r2357p03_immasked.fits.fz\n"
     ]
    }
   ],
   "source": [
    "# check the image info struct\n",
    "file_id = cat['file_id'][iobj, iind]\n",
    "assert file_id > 0\n",
    "print('file_id:', file_id)\n",
    "print('image:', os.path.basename(ii['image_path'][file_id]))\n",
    "\n",
    "for key in ['image_path', 'weight_path', 'bmask_path', 'bkg_path']:\n",
    "    assert ii[key][file_id] == info['src_info'][file_id-1][key].replace('$MEDS_DIR', MEDS_DIR)\n",
    "    \n",
    "assert np.allclose(ii['scale'][file_id], info['src_info'][file_id-1]['scale'])\n",
    "\n",
    "# check the WCS\n",
    "hd = fitsio.read_header(\n",
    "    ii['image_path'][file_id], ext=ii['image_ext'][file_id])\n",
    "hd = {k.upper(): hd[k] for k in hd if k is not None}\n",
    "gs_wcs = galsim.FitsWCS(header=hd)\n",
    "\n",
    "import json\n",
    "\n",
    "hs = json.loads(ii['wcs'][file_id])\n",
    "hd = {k.upper(): hd[k] for k in hd if k is not None}\n",
    "json_wcs = galsim.FitsWCS(header=hd)\n",
    "\n",
    "for x in range(10, 100, 10):\n",
    "    for y in range(11, 101, 10):\n",
    "        pos = galsim.PositionD(x=x, y=y)\n",
    "        gs_sky_pos = gs_wcs.toWorld(pos)\n",
    "        json_sky_pos = json_wcs.toWorld(pos)\n",
    "        \n",
    "        assert gs_sky_pos.ra/galsim.degrees == json_sky_pos.ra/galsim.degrees\n",
    "        assert gs_sky_pos.dec/galsim.degrees == json_sky_pos.dec/galsim.degrees"
   ]
  },
  {
   "cell_type": "code",
   "execution_count": 15,
   "metadata": {},
   "outputs": [
    {
     "name": "stdout",
     "output_type": "stream",
     "text": [
      "0.0006621254585368019 -0.26342903312930294 -0.263504692373773 -0.00038339557590828756\n",
      "0.0006621254727512158 -0.2634290330274667 -0.2635046923648243 -0.0003833955630971886\n"
     ]
    }
   ],
   "source": [
    "pos = galsim.PositionD(x=cat['orig_col'][iobj, iind]+1, y=cat['orig_row'][iobj, iind]+1)\n",
    "wcs = gs_wcs.local(pos)\n",
    "\n",
    "print(wcs.dudx, wcs.dudy, wcs.dvdx, wcs.dvdy)\n",
    "print(\n",
    "    cat['dudcol'][iobj, iind],\n",
    "    cat['dudrow'][iobj, iind],\n",
    "    cat['dvdcol'][iobj, iind],\n",
    "    cat['dvdrow'][iobj, iind])\n",
    "\n",
    "assert np.allclose(cat['dudrow'][iobj, iind], wcs.dudy)\n",
    "assert np.allclose(cat['dudcol'][iobj, iind], wcs.dudx)\n",
    "assert np.allclose(cat['dvdrow'][iobj, iind], wcs.dvdy)\n",
    "assert np.allclose(cat['dvdcol'][iobj, iind], wcs.dvdx)"
   ]
  },
  {
   "cell_type": "code",
   "execution_count": 16,
   "metadata": {},
   "outputs": [
    {
     "name": "stdout",
     "output_type": "stream",
     "text": [
      "321.0419769031627 0.3210775520395883\n",
      "galsim.PositionD(1021.6500543349639,314.4463263607472) 1021.6500543349581 314.44632636091893\n",
      "galsim.PositionD(1021.6500543349639,314.4463263607472) 1021.6500543349581 314.44632636091893\n"
     ]
    }
   ],
   "source": [
    "# check x, y\n",
    "sky_pos = galsim.CelestialCoord(\n",
    "    ra=cat['ra'][iobj] * galsim.degrees,\n",
    "    dec=cat['dec'][iobj] * galsim.degrees)\n",
    "print(cat['ra'][iobj], cat['dec'][iobj])\n",
    "pos = gs_wcs.toImage(sky_pos)\n",
    "print(pos, cat['orig_col'][iobj, iind]+1, cat['orig_row'][iobj, iind]+1)\n",
    "assert np.allclose(pos.x-1, cat['orig_col'][iobj, iind])\n",
    "assert np.allclose(pos.y-1, cat['orig_row'][iobj, iind])\n",
    "\n",
    "pos = json_wcs.toImage(sky_pos)\n",
    "print(pos, cat['orig_col'][iobj, iind]+1, cat['orig_row'][iobj, iind]+1)\n",
    "assert np.allclose(pos.x-1, cat['orig_col'][iobj, iind])\n",
    "assert np.allclose(pos.y-1, cat['orig_row'][iobj, iind])"
   ]
  },
  {
   "cell_type": "code",
   "execution_count": 33,
   "metadata": {},
   "outputs": [],
   "source": [
    "from matts_misc.simple_des_y3_sims.des_piff import DES_Piff\n",
    "psf_model = DES_Piff(os.path.expandvars(info['src_info'][file_id-1]['piff_path']))\n",
    "from matts_misc.simple_des_y3_sims.psf_wrapper import PSFWrapper\n",
    "\n",
    "psf_model = PSFWrapper(galsim.Gaussian(fwhm=0.9), gs_wcs)"
   ]
  },
  {
   "cell_type": "code",
   "execution_count": 36,
   "metadata": {
    "scrolled": false
   },
   "outputs": [
    {
     "data": {
      "image/png": "[encoded data removed]",
      "text/plain": [
       "<Figure size 1296x432 with 4 Axes>"
      ]
     },
     "metadata": {
      "needs_background": "light"
     },
     "output_type": "display_data"
    }
   ],
   "source": [
    "# check the psf\n",
    "pos = galsim.PositionD(x=cat['orig_col'][iobj, iind]+1, y=cat['orig_row'][iobj, iind]+1)\n",
    "wcs = gs_wcs.local(pos)\n",
    "\n",
    "im = psf_model.get_rec(row=pos.y-1, col=pos.x-1)[15:38, 15:38]\n",
    "\n",
    "m_im = m.get_cutout(iobj, iind, type='psf')[15:38, 15:38]\n",
    "\n",
    "sc = np.std(m_im[:, 0])\n",
    "\n",
    "fig, axs = plt.subplots(nrows=1, ncols=3, figsize=(18, 6))\n",
    "axs[0].imshow(m_im/sc)\n",
    "axs[1].imshow(im/sc)\n",
    "sns.heatmap(np.abs(m_im - im), ax=axs[2], square=True)\n",
    "\n",
    "assert np.allclose(m_im, im, rtol=0, atol=2e-5)"
   ]
  },
  {
   "cell_type": "code",
   "execution_count": 32,
   "metadata": {},
   "outputs": [
    {
     "data": {
      "text/plain": [
       "<matplotlib.axes._subplots.AxesSubplot at 0x11ded8630>"
      ]
     },
     "execution_count": 32,
     "metadata": {},
     "output_type": "execute_result"
    },
    {
     "data": {
      "image/png": "[encoded data removed]",
      "text/plain": [
       "<Figure size 432x288 with 2 Axes>"
      ]
     },
     "metadata": {
      "needs_background": "light"
     },
     "output_type": "display_data"
    }
   ],
   "source": [
    "plt.figure()\n",
    "sns.heatmap(np.clip(m_im/im -1, -0.2, 0.2))"
   ]
  },
  {
   "cell_type": "code",
   "execution_count": 19,
   "metadata": {},
   "outputs": [
    {
     "ename": "AssertionError",
     "evalue": "",
     "output_type": "error",
     "traceback": [
      "\u001b[0;31m---------------------------------------------------------------------------\u001b[0m",
      "\u001b[0;31mAssertionError\u001b[0m                            Traceback (most recent call last)",
      "\u001b[0;32m<ipython-input-19-5e9e610d59cc>\u001b[0m in \u001b[0;36m<module>\u001b[0;34m\u001b[0m\n\u001b[1;32m     53\u001b[0m \u001b[0msns\u001b[0m\u001b[0;34m.\u001b[0m\u001b[0mheatmap\u001b[0m\u001b[0;34m(\u001b[0m\u001b[0;34m(\u001b[0m\u001b[0mm_im\u001b[0m \u001b[0;34m-\u001b[0m \u001b[0mim\u001b[0m\u001b[0;34m)\u001b[0m\u001b[0;34m/\u001b[0m\u001b[0mnp\u001b[0m\u001b[0;34m.\u001b[0m\u001b[0mmax\u001b[0m\u001b[0;34m(\u001b[0m\u001b[0mnp\u001b[0m\u001b[0;34m.\u001b[0m\u001b[0mabs\u001b[0m\u001b[0;34m(\u001b[0m\u001b[0mm_im\u001b[0m\u001b[0;34m)\u001b[0m\u001b[0;34m)\u001b[0m\u001b[0;34m,\u001b[0m \u001b[0max\u001b[0m\u001b[0;34m=\u001b[0m\u001b[0maxs\u001b[0m\u001b[0;34m[\u001b[0m\u001b[0;36m2\u001b[0m\u001b[0;34m]\u001b[0m\u001b[0;34m,\u001b[0m \u001b[0msquare\u001b[0m\u001b[0;34m=\u001b[0m\u001b[0;32mTrue\u001b[0m\u001b[0;34m)\u001b[0m\u001b[0;34m\u001b[0m\u001b[0;34m\u001b[0m\u001b[0m\n\u001b[1;32m     54\u001b[0m \u001b[0;34m\u001b[0m\u001b[0m\n\u001b[0;32m---> 55\u001b[0;31m \u001b[0;32massert\u001b[0m \u001b[0mnp\u001b[0m\u001b[0;34m.\u001b[0m\u001b[0mallclose\u001b[0m\u001b[0;34m(\u001b[0m\u001b[0mm_im\u001b[0m\u001b[0;34m,\u001b[0m \u001b[0mim\u001b[0m\u001b[0;34m,\u001b[0m \u001b[0mrtol\u001b[0m\u001b[0;34m=\u001b[0m\u001b[0;36m1e-6\u001b[0m\u001b[0;34m,\u001b[0m \u001b[0matol\u001b[0m\u001b[0;34m=\u001b[0m\u001b[0;36m1e-5\u001b[0m\u001b[0;34m)\u001b[0m\u001b[0;34m\u001b[0m\u001b[0;34m\u001b[0m\u001b[0m\n\u001b[0m",
      "\u001b[0;31mAssertionError\u001b[0m: "
     ]
    },
    {
     "data": {
      "image/png": "[encoded data removed]",
      "text/plain": [
       "<Figure size 1296x432 with 4 Axes>"
      ]
     },
     "metadata": {
      "needs_background": "light"
     },
     "output_type": "display_data"
    }
   ],
   "source": [
    "# check the images\n",
    "pos = galsim.PositionD(x=cat['orig_col'][iobj, iind]+1, y=cat['orig_row'][iobj, iind]+1)\n",
    "wcs = gs_wcs.local(pos)\n",
    "\n",
    "gal = galsim.Exponential(half_light_radius=0.5).withFlux(\n",
    "    64000\n",
    ").shear(\n",
    "    g1=0.02, g2=0.0)\n",
    "obj = gal\n",
    "psf = psf_model.getPSF(pos)\n",
    "obj = galsim.Convolve([gal, psf])\n",
    "\n",
    "dx = pos.x - int(pos.x + 0.5)\n",
    "dy = pos.y - int(pos.y + 0.5)\n",
    "\n",
    "if cat['box_size'][iobj] % 2 == 0:\n",
    "    if pos.x > int(pos.x + 0.5):\n",
    "        dx -= 0.5\n",
    "    else:\n",
    "        dx += 0.5\n",
    "    if pos.y > int(pos.y + 0.5):\n",
    "        dy -= 0.5\n",
    "    else:\n",
    "        dy += 0.5\n",
    "\n",
    "im = obj.drawImage(\n",
    "    method='no_pixel', wcs=wcs, offset=(dx, dy), setup_only=True)\n",
    "dshape = im.array.shape[0]\n",
    "\n",
    "if (cat['box_size'][iobj] % 2) != (im.array.shape[0] % 2 != 0):\n",
    "    dshape += 1\n",
    "\n",
    "if dshape < cat['box_size'][iobj]:\n",
    "    dshape = cat['box_size'][iobj]\n",
    "    \n",
    "im = obj.drawImage(\n",
    "    nx=dshape, ny=dshape, \n",
    "    method='no_pixel', wcs=wcs, offset=(dx, dy))\n",
    "im = im.array\n",
    "\n",
    "if dshape != cat['box_size'][iobj]:\n",
    "    diff = (dshape - cat['box_size'][iobj]) // 2\n",
    "    im = im[diff:-diff, diff:-diff]\n",
    "\n",
    "im /= im.sum()\n",
    "\n",
    "m_im = m.get_cutout(iobj, iind, type='image')\n",
    "m_im /= m_im.sum()\n",
    "\n",
    "fig, axs = plt.subplots(nrows=1, ncols=3, figsize=(18, 6))\n",
    "axs[0].imshow(m_im)\n",
    "axs[1].imshow(im)\n",
    "sns.heatmap((m_im - im)/np.max(np.abs(m_im)), ax=axs[2], square=True)\n",
    "\n",
    "assert np.allclose(m_im, im, rtol=1e-6, atol=1e-5)"
   ]
  },
  {
   "cell_type": "code",
   "execution_count": null,
   "metadata": {},
   "outputs": [],
   "source": [
    "# m.close()"
   ]
  },
  {
   "cell_type": "code",
   "execution_count": null,
   "metadata": {},
   "outputs": [],
   "source": []
  }
 ],
 "metadata": {
  "kernelspec": {
   "display_name": "Python 3",
   "language": "python",
   "name": "python3"
  },
  "language_info": {
   "codemirror_mode": {
    "name": "ipython",
    "version": 3
   },
   "file_extension": ".py",
   "mimetype": "text/x-python",
   "name": "python",
   "nbconvert_exporter": "python",
   "pygments_lexer": "ipython3",
   "version": "3.6.7"
  }
 },
 "nbformat": 4,
 "nbformat_minor": 2
}
