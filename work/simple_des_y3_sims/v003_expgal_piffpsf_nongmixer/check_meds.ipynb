{
 "cells": [
  {
   "cell_type": "code",
   "execution_count": 1,
   "metadata": {},
   "outputs": [],
   "source": [
    "import meds\n",
    "import numpy as np\n",
    "import galsim\n",
    "import fitsio\n",
    "\n",
    "import seaborn as sns\n",
    "import matplotlib.pyplot as plt\n",
    "\n",
    "%matplotlib notebook"
   ]
  },
  {
   "cell_type": "code",
   "execution_count": 2,
   "metadata": {},
   "outputs": [],
   "source": [
    "import os\n",
    "\n",
    "band = 'i'\n",
    "tilename = 'DES2122+0001'\n",
    "MEDS_DIR = 'outputs-%s' % tilename\n",
    "MEDSCONF = 'y3v02'\n",
    "\n",
    "meds_path = os.path.join(\n",
    "    MEDS_DIR,\n",
    "    'meds',\n",
    "    MEDSCONF,\n",
    "    tilename,\n",
    "    \"{tilename}_{band}_meds-{medsconf}.fits.fz\".format(\n",
    "        tilename=tilename,\n",
    "        band=band,\n",
    "        medsconf=MEDSCONF))\n",
    "\n",
    "yaml_path = os.path.join(\n",
    "    MEDS_DIR,\n",
    "    \"simple_des_y3_sims\",\n",
    "    MEDSCONF,\n",
    "    \"band_info_files\",\n",
    "    \"{tilename}_{band}_info.yaml\".format(\n",
    "        tilename=tilename, band=band))"
   ]
  },
  {
   "cell_type": "code",
   "execution_count": 3,
   "metadata": {},
   "outputs": [],
   "source": [
    "m = meds.MEDS(meds_path)\n",
    "ii = m.get_image_info()\n",
    "cat = m.get_cat()"
   ]
  },
  {
   "cell_type": "code",
   "execution_count": 4,
   "metadata": {},
   "outputs": [],
   "source": [
    "import yaml\n",
    "\n",
    "with open(yaml_path, \"r\") as fp:\n",
    "    info = yaml.load(fp, Loader=yaml.Loader)"
   ]
  },
  {
   "cell_type": "code",
   "execution_count": 5,
   "metadata": {},
   "outputs": [
    {
     "data": {
      "text/plain": [
       "(array([  0,   1,   2,   3,   4,   5,   6,   7,   8,   9,  10,  11,  12,\n",
       "         13,  14,  15,  16,  17,  18,  19,  20,  21,  22,  23,  24,  25,\n",
       "         26,  27,  28,  29,  30,  31,  32,  33,  34,  35,  36,  37,  38,\n",
       "         39,  40,  41,  42,  43,  44,  45,  46,  47,  48,  49,  50,  51,\n",
       "         52,  53,  54,  55,  56,  57,  58,  59,  60,  61,  62,  63,  64,\n",
       "         65,  66,  67,  68,  69,  70,  71,  72,  73,  74,  75,  76,  77,\n",
       "         78,  79,  80,  81,  82,  83,  84,  85,  86,  87,  88,  89,  90,\n",
       "         91,  92,  93,  94,  95,  96,  97,  98,  99, 100, 101, 102, 103,\n",
       "        104, 105, 106, 107, 108, 109, 110, 111, 112, 113, 114, 115, 116,\n",
       "        117, 118, 119, 120, 121, 122, 123, 124, 125, 126, 127, 128, 129,\n",
       "        130, 131, 132, 133, 134, 135, 136, 137, 138, 139, 140, 141, 142,\n",
       "        143, 144, 145, 146, 147, 148, 149, 150, 151, 152, 153, 154, 155,\n",
       "        156, 157, 158, 159, 160, 161, 162, 163, 164, 165, 166, 167, 168,\n",
       "        169, 170, 171, 172, 173, 174, 175, 176, 177, 178, 179, 180, 181,\n",
       "        182, 183, 184, 185, 186, 187, 188, 189, 190, 191, 192, 193, 194,\n",
       "        195, 196, 197, 198, 199, 200, 201, 202, 203, 204, 205, 206, 207,\n",
       "        208, 209, 210, 211, 212, 213, 214, 215, 216, 217, 218, 219, 220,\n",
       "        221, 222, 223, 224, 225, 226, 227, 228, 229, 230, 231, 232, 233,\n",
       "        234, 235, 236, 237, 238, 239, 240, 241, 242, 243, 244, 245, 246,\n",
       "        247, 248, 249, 250, 251, 252, 253, 254, 255, 256, 257, 258, 259,\n",
       "        260, 261, 262, 263, 264, 265, 266, 267, 268, 269, 270, 271, 272,\n",
       "        273, 274, 275, 276, 277, 278, 279, 280, 281, 282, 283, 284, 285,\n",
       "        286, 287, 288, 289, 290, 291, 292, 293, 294, 295, 296, 297, 298,\n",
       "        299, 300, 301, 302, 303, 304, 305, 306, 307, 308, 309, 310, 311,\n",
       "        312, 313, 314, 315, 316, 317, 318, 319, 320, 321, 322, 323, 324,\n",
       "        325, 326, 327, 328, 329, 330, 331, 332, 333, 334, 335, 336, 337,\n",
       "        338, 339, 340, 341, 342, 343, 344, 345, 346, 347, 348, 349, 350,\n",
       "        351, 352, 353, 354, 355, 356, 357, 358, 359, 360, 361, 362, 363,\n",
       "        364, 365, 366, 367, 368, 369, 370, 371, 372, 373, 374, 375, 376,\n",
       "        377, 378, 379, 380, 381, 382, 383, 384, 385, 386, 387, 388, 389,\n",
       "        390, 391, 392, 393, 394, 395, 396, 397, 398, 399]),)"
      ]
     },
     "execution_count": 5,
     "metadata": {},
     "output_type": "execute_result"
    }
   ],
   "source": [
    "np.where(cat['file_id'][:, 1] > 0)"
   ]
  },
  {
   "cell_type": "code",
   "execution_count": 6,
   "metadata": {},
   "outputs": [],
   "source": [
    "iobj = 187\n",
    "iind = 1"
   ]
  },
  {
   "cell_type": "code",
   "execution_count": 7,
   "metadata": {},
   "outputs": [
    {
     "name": "stdout",
     "output_type": "stream",
     "text": [
      "file_id: 2\n",
      "image: D00232321_i_c54_r2357p01_immasked.fits.fz\n"
     ]
    }
   ],
   "source": [
    "# check the image info struct\n",
    "file_id = cat['file_id'][iobj, iind]\n",
    "assert file_id > 0\n",
    "print('file_id:', file_id)\n",
    "print('image:', os.path.basename(ii['image_path'][file_id]))\n",
    "\n",
    "for key in ['image_path', 'weight_path', 'bmask_path', 'bkg_path']:\n",
    "    assert ii[key][file_id] == info['src_info'][file_id-1][key].replace('$MEDS_DIR', MEDS_DIR)\n",
    "    \n",
    "assert np.allclose(ii['scale'][file_id], info['src_info'][file_id-1]['scale'])\n",
    "\n",
    "# check the WCS\n",
    "hd = fitsio.read_header(\n",
    "    ii['image_path'][file_id], ext=ii['image_ext'][file_id])\n",
    "hd = {k.upper(): hd[k] for k in hd if k is not None}\n",
    "gs_wcs = galsim.FitsWCS(header=hd)\n",
    "\n",
    "import json\n",
    "\n",
    "hs = json.loads(ii['wcs'][file_id])\n",
    "hd = {k.upper(): hd[k] for k in hd if k is not None}\n",
    "json_wcs = galsim.FitsWCS(header=hd)\n",
    "\n",
    "for x in range(10, 100, 10):\n",
    "    for y in range(11, 101, 10):\n",
    "        pos = galsim.PositionD(x=x, y=y)\n",
    "        gs_sky_pos = gs_wcs.toWorld(pos)\n",
    "        json_sky_pos = json_wcs.toWorld(pos)\n",
    "        \n",
    "        assert gs_sky_pos.ra/galsim.degrees == json_sky_pos.ra/galsim.degrees\n",
    "        assert gs_sky_pos.dec/galsim.degrees == json_sky_pos.dec/galsim.degrees"
   ]
  },
  {
   "cell_type": "code",
   "execution_count": 8,
   "metadata": {},
   "outputs": [
    {
     "name": "stdout",
     "output_type": "stream",
     "text": [
      "0.0009137579214742405 -0.2631519193077201 -0.26265876465998644 -0.0003178300878900828\n",
      "0.0009137579009979563 -0.26315191935546334 -0.26265876465085614 -0.0003178301066061786\n"
     ]
    }
   ],
   "source": [
    "pos = galsim.PositionD(x=cat['orig_col'][iobj, iind]+1, y=cat['orig_row'][iobj, iind]+1)\n",
    "wcs = gs_wcs.local(pos)\n",
    "\n",
    "print(wcs.dudx, wcs.dudy, wcs.dvdx, wcs.dvdy)\n",
    "print(\n",
    "    cat['dudcol'][iobj, iind],\n",
    "    cat['dudrow'][iobj, iind],\n",
    "    cat['dvdcol'][iobj, iind],\n",
    "    cat['dvdrow'][iobj, iind])\n",
    "\n",
    "assert np.allclose(cat['dudrow'][iobj, iind], wcs.dudy)\n",
    "assert np.allclose(cat['dudcol'][iobj, iind], wcs.dudx)\n",
    "assert np.allclose(cat['dvdrow'][iobj, iind], wcs.dvdy)\n",
    "assert np.allclose(cat['dvdcol'][iobj, iind], wcs.dvdx)"
   ]
  },
  {
   "cell_type": "code",
   "execution_count": 9,
   "metadata": {},
   "outputs": [
    {
     "name": "stdout",
     "output_type": "stream",
     "text": [
      "320.78014614949916 -0.0015769988975186898\n",
      "galsim.PositionD(1600.0476232913134,1765.5913356245824) 1600.0476232913297 1765.5913356248334\n",
      "galsim.PositionD(1600.0476232913134,1765.5913356245824) 1600.0476232913297 1765.5913356248334\n"
     ]
    }
   ],
   "source": [
    "# check x, y\n",
    "sky_pos = galsim.CelestialCoord(\n",
    "    ra=cat['ra'][iobj] * galsim.degrees,\n",
    "    dec=cat['dec'][iobj] * galsim.degrees)\n",
    "print(cat['ra'][iobj], cat['dec'][iobj])\n",
    "pos = gs_wcs.toImage(sky_pos)\n",
    "print(pos, cat['orig_col'][iobj, iind]+1, cat['orig_row'][iobj, iind]+1)\n",
    "assert np.allclose(pos.x-1, cat['orig_col'][iobj, iind])\n",
    "assert np.allclose(pos.y-1, cat['orig_row'][iobj, iind])\n",
    "\n",
    "pos = json_wcs.toImage(sky_pos)\n",
    "print(pos, cat['orig_col'][iobj, iind]+1, cat['orig_row'][iobj, iind]+1)\n",
    "assert np.allclose(pos.x-1, cat['orig_col'][iobj, iind])\n",
    "assert np.allclose(pos.y-1, cat['orig_row'][iobj, iind])"
   ]
  },
  {
   "cell_type": "code",
   "execution_count": 10,
   "metadata": {},
   "outputs": [],
   "source": [
    "from matts_misc.simple_des_y3_sims.des_piff import DES_Piff\n",
    "psf_model = DES_Piff(os.path.expandvars(info['src_info'][file_id-1]['piff_path']))\n",
    "from matts_misc.simple_des_y3_sims.psf_wrapper import PSFWrapper\n",
    "\n",
    "psf_model = PSFWrapper(psf_model, gs_wcs)"
   ]
  },
  {
   "cell_type": "code",
   "execution_count": 12,
   "metadata": {
    "scrolled": false
   },
   "outputs": [
    {
     "ename": "AssertionError",
     "evalue": "",
     "output_type": "error",
     "traceback": [
      "\u001b[0;31m---------------------------------------------------------------------------\u001b[0m",
      "\u001b[0;31mAssertionError\u001b[0m                            Traceback (most recent call last)",
      "\u001b[0;32m<ipython-input-12-55cc25a8820e>\u001b[0m in \u001b[0;36m<module>\u001b[0;34m\u001b[0m\n\u001b[1;32m     14\u001b[0m \u001b[0msns\u001b[0m\u001b[0;34m.\u001b[0m\u001b[0mheatmap\u001b[0m\u001b[0;34m(\u001b[0m\u001b[0mnp\u001b[0m\u001b[0;34m.\u001b[0m\u001b[0mabs\u001b[0m\u001b[0;34m(\u001b[0m\u001b[0mm_im\u001b[0m \u001b[0;34m-\u001b[0m \u001b[0mim\u001b[0m\u001b[0;34m)\u001b[0m\u001b[0;34m,\u001b[0m \u001b[0max\u001b[0m\u001b[0;34m=\u001b[0m\u001b[0maxs\u001b[0m\u001b[0;34m[\u001b[0m\u001b[0;36m2\u001b[0m\u001b[0;34m]\u001b[0m\u001b[0;34m,\u001b[0m \u001b[0msquare\u001b[0m\u001b[0;34m=\u001b[0m\u001b[0;32mTrue\u001b[0m\u001b[0;34m)\u001b[0m\u001b[0;34m\u001b[0m\u001b[0;34m\u001b[0m\u001b[0m\n\u001b[1;32m     15\u001b[0m \u001b[0;34m\u001b[0m\u001b[0m\n\u001b[0;32m---> 16\u001b[0;31m \u001b[0;32massert\u001b[0m \u001b[0mnp\u001b[0m\u001b[0;34m.\u001b[0m\u001b[0mallclose\u001b[0m\u001b[0;34m(\u001b[0m\u001b[0mm_im\u001b[0m\u001b[0;34m,\u001b[0m \u001b[0mim\u001b[0m\u001b[0;34m)\u001b[0m\u001b[0;34m\u001b[0m\u001b[0;34m\u001b[0m\u001b[0m\n\u001b[0m",
      "\u001b[0;31mAssertionError\u001b[0m: "
     ]
    },
    {
     "data": {
      "image/png": "[encoded data removed]",
      "text/plain": [
       "<Figure size 1296x432 with 4 Axes>"
      ]
     },
     "metadata": {
      "needs_background": "light"
     },
     "output_type": "display_data"
    }
   ],
   "source": [
    "# check the psf\n",
    "pos = galsim.PositionD(x=cat['orig_col'][iobj, iind]+1, y=cat['orig_row'][iobj, iind]+1)\n",
    "wcs = gs_wcs.local(pos)\n",
    "\n",
    "im = psf_model.get_rec(row=pos.y-1, col=pos.x-1)[15:38, 15:38]\n",
    "\n",
    "m_im = m.get_cutout(iobj, iind, type='psf')[15:38, 15:38]\n",
    "\n",
    "sc = np.std(m_im[:, 0])\n",
    "\n",
    "fig, axs = plt.subplots(nrows=1, ncols=3, figsize=(18, 6))\n",
    "axs[0].imshow(m_im/sc)\n",
    "axs[1].imshow(im/sc)\n",
    "sns.heatmap(np.abs(m_im - im), ax=axs[2], square=True)\n",
    "\n",
    "assert np.allclose(m_im, im)"
   ]
  },
  {
   "cell_type": "code",
   "execution_count": 13,
   "metadata": {},
   "outputs": [
    {
     "ename": "AssertionError",
     "evalue": "",
     "output_type": "error",
     "traceback": [
      "\u001b[0;31m---------------------------------------------------------------------------\u001b[0m",
      "\u001b[0;31mAssertionError\u001b[0m                            Traceback (most recent call last)",
      "\u001b[0;32m<ipython-input-13-5e9e610d59cc>\u001b[0m in \u001b[0;36m<module>\u001b[0;34m\u001b[0m\n\u001b[1;32m     53\u001b[0m \u001b[0msns\u001b[0m\u001b[0;34m.\u001b[0m\u001b[0mheatmap\u001b[0m\u001b[0;34m(\u001b[0m\u001b[0;34m(\u001b[0m\u001b[0mm_im\u001b[0m \u001b[0;34m-\u001b[0m \u001b[0mim\u001b[0m\u001b[0;34m)\u001b[0m\u001b[0;34m/\u001b[0m\u001b[0mnp\u001b[0m\u001b[0;34m.\u001b[0m\u001b[0mmax\u001b[0m\u001b[0;34m(\u001b[0m\u001b[0mnp\u001b[0m\u001b[0;34m.\u001b[0m\u001b[0mabs\u001b[0m\u001b[0;34m(\u001b[0m\u001b[0mm_im\u001b[0m\u001b[0;34m)\u001b[0m\u001b[0;34m)\u001b[0m\u001b[0;34m,\u001b[0m \u001b[0max\u001b[0m\u001b[0;34m=\u001b[0m\u001b[0maxs\u001b[0m\u001b[0;34m[\u001b[0m\u001b[0;36m2\u001b[0m\u001b[0;34m]\u001b[0m\u001b[0;34m,\u001b[0m \u001b[0msquare\u001b[0m\u001b[0;34m=\u001b[0m\u001b[0;32mTrue\u001b[0m\u001b[0;34m)\u001b[0m\u001b[0;34m\u001b[0m\u001b[0;34m\u001b[0m\u001b[0m\n\u001b[1;32m     54\u001b[0m \u001b[0;34m\u001b[0m\u001b[0m\n\u001b[0;32m---> 55\u001b[0;31m \u001b[0;32massert\u001b[0m \u001b[0mnp\u001b[0m\u001b[0;34m.\u001b[0m\u001b[0mallclose\u001b[0m\u001b[0;34m(\u001b[0m\u001b[0mm_im\u001b[0m\u001b[0;34m,\u001b[0m \u001b[0mim\u001b[0m\u001b[0;34m,\u001b[0m \u001b[0mrtol\u001b[0m\u001b[0;34m=\u001b[0m\u001b[0;36m1e-6\u001b[0m\u001b[0;34m,\u001b[0m \u001b[0matol\u001b[0m\u001b[0;34m=\u001b[0m\u001b[0;36m1e-5\u001b[0m\u001b[0;34m)\u001b[0m\u001b[0;34m\u001b[0m\u001b[0;34m\u001b[0m\u001b[0m\n\u001b[0m",
      "\u001b[0;31mAssertionError\u001b[0m: "
     ]
    },
    {
     "data": {
      "image/png": "[encoded data removed]",
      "text/plain": [
       "<Figure size 1296x432 with 4 Axes>"
      ]
     },
     "metadata": {
      "needs_background": "light"
     },
     "output_type": "display_data"
    }
   ],
   "source": [
    "# check the images\n",
    "pos = galsim.PositionD(x=cat['orig_col'][iobj, iind]+1, y=cat['orig_row'][iobj, iind]+1)\n",
    "wcs = gs_wcs.local(pos)\n",
    "\n",
    "gal = galsim.Exponential(half_light_radius=0.5).withFlux(\n",
    "    64000\n",
    ").shear(\n",
    "    g1=0.02, g2=0.0)\n",
    "obj = gal\n",
    "psf = psf_model.getPSF(pos)\n",
    "obj = galsim.Convolve([gal, psf])\n",
    "\n",
    "dx = pos.x - int(pos.x + 0.5)\n",
    "dy = pos.y - int(pos.y + 0.5)\n",
    "\n",
    "if cat['box_size'][iobj] % 2 == 0:\n",
    "    if pos.x > int(pos.x + 0.5):\n",
    "        dx -= 0.5\n",
    "    else:\n",
    "        dx += 0.5\n",
    "    if pos.y > int(pos.y + 0.5):\n",
    "        dy -= 0.5\n",
    "    else:\n",
    "        dy += 0.5\n",
    "\n",
    "im = obj.drawImage(\n",
    "    method='no_pixel', wcs=wcs, offset=(dx, dy), setup_only=True)\n",
    "dshape = im.array.shape[0]\n",
    "\n",
    "if (cat['box_size'][iobj] % 2) != (im.array.shape[0] % 2 != 0):\n",
    "    dshape += 1\n",
    "\n",
    "if dshape < cat['box_size'][iobj]:\n",
    "    dshape = cat['box_size'][iobj]\n",
    "    \n",
    "im = obj.drawImage(\n",
    "    nx=dshape, ny=dshape, \n",
    "    method='no_pixel', wcs=wcs, offset=(dx, dy))\n",
    "im = im.array\n",
    "\n",
    "if dshape != cat['box_size'][iobj]:\n",
    "    diff = (dshape - cat['box_size'][iobj]) // 2\n",
    "    im = im[diff:-diff, diff:-diff]\n",
    "\n",
    "im /= im.sum()\n",
    "\n",
    "m_im = m.get_cutout(iobj, iind, type='image')\n",
    "m_im /= m_im.sum()\n",
    "\n",
    "fig, axs = plt.subplots(nrows=1, ncols=3, figsize=(18, 6))\n",
    "axs[0].imshow(m_im)\n",
    "axs[1].imshow(im)\n",
    "sns.heatmap((m_im - im)/np.max(np.abs(m_im)), ax=axs[2], square=True)\n",
    "\n",
    "assert np.allclose(m_im, im, rtol=1e-6, atol=1e-5)"
   ]
  },
  {
   "cell_type": "code",
   "execution_count": null,
   "metadata": {},
   "outputs": [],
   "source": [
    "# m.close()"
   ]
  },
  {
   "cell_type": "code",
   "execution_count": null,
   "metadata": {},
   "outputs": [],
   "source": []
  }
 ],
 "metadata": {
  "kernelspec": {
   "display_name": "Python 3",
   "language": "python",
   "name": "python3"
  },
  "language_info": {
   "codemirror_mode": {
    "name": "ipython",
    "version": 3
   },
   "file_extension": ".py",
   "mimetype": "text/x-python",
   "name": "python",
   "nbconvert_exporter": "python",
   "pygments_lexer": "ipython3",
   "version": "3.6.7"
  }
 },
 "nbformat": 4,
 "nbformat_minor": 2
}
