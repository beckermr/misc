{
 "cells": [
  {
   "cell_type": "code",
   "execution_count": 1,
   "metadata": {},
   "outputs": [],
   "source": [
    "import numpy as np\n",
    "import matplotlib.pyplot as plt\n",
    "import seaborn as sns\n",
    "\n",
    "%matplotlib notebook\n",
    "sns.set()"
   ]
  },
  {
   "cell_type": "code",
   "execution_count": 2,
   "metadata": {},
   "outputs": [],
   "source": [
    "from ngmix.medsreaders import NGMixMEDS, MultiBandNGMixMEDS\n",
    "\n",
    "mbmeds = MultiBandNGMixMEDS([NGMixMEDS('outputs/meds/y3v02/DES2122+0001/DES2122+0001_r_meds-y3v02.fits.fz')])"
   ]
  },
  {
   "cell_type": "code",
   "execution_count": 12,
   "metadata": {},
   "outputs": [],
   "source": [
    "mbobs = mbmeds.get_mbobs(0)"
   ]
  },
  {
   "cell_type": "code",
   "execution_count": 13,
   "metadata": {},
   "outputs": [
    {
     "name": "stdout",
     "output_type": "stream",
     "text": [
      "0.0\n",
      "63505.62357234955\n",
      "64289.336188316345\n",
      "64314.4324760437\n",
      "63797.69507217407\n"
     ]
    }
   ],
   "source": [
    "for ol in mbobs:\n",
    "    for o in ol:\n",
    "        print(np.sum(o.image))"
   ]
  },
  {
   "cell_type": "code",
   "execution_count": null,
   "metadata": {},
   "outputs": [],
   "source": [
    "import fitsio\n",
    "from meds import MEDS"
   ]
  },
  {
   "cell_type": "code",
   "execution_count": null,
   "metadata": {},
   "outputs": [],
   "source": [
    "m = MEDS('outputs/meds/y3v02/DES2122+0001/DES2122+0001_r_meds-y3v02.fits.fz')"
   ]
  },
  {
   "cell_type": "code",
   "execution_count": null,
   "metadata": {},
   "outputs": [],
   "source": [
    "cat = m.get_cat()"
   ]
  },
  {
   "cell_type": "code",
   "execution_count": null,
   "metadata": {},
   "outputs": [],
   "source": [
    "ind = 0\n",
    "imind = 3"
   ]
  },
  {
   "cell_type": "code",
   "execution_count": null,
   "metadata": {},
   "outputs": [],
   "source": [
    "cat['orig_col'][ind, imind]"
   ]
  },
  {
   "cell_type": "code",
   "execution_count": null,
   "metadata": {},
   "outputs": [],
   "source": [
    "imdata = m.get_image_info()"
   ]
  },
  {
   "cell_type": "code",
   "execution_count": null,
   "metadata": {},
   "outputs": [],
   "source": [
    "cat['file_id'][ind, imind]"
   ]
  },
  {
   "cell_type": "code",
   "execution_count": null,
   "metadata": {},
   "outputs": [],
   "source": [
    "imdata['image_path'][cat['file_id'][ind, imind]]"
   ]
  },
  {
   "cell_type": "code",
   "execution_count": null,
   "metadata": {},
   "outputs": [],
   "source": [
    "import esutil"
   ]
  },
  {
   "cell_type": "code",
   "execution_count": null,
   "metadata": {},
   "outputs": [],
   "source": [
    "hd = fitsio.read_header(\n",
    "    imdata['image_path'][cat['file_id'][ind, imind]].strip(), ext=1)\n",
    "wcs = esutil.wcsutil.WCS({k.lower(): hd[k] for k in hd if k is not None})"
   ]
  },
  {
   "cell_type": "code",
   "execution_count": null,
   "metadata": {},
   "outputs": [],
   "source": [
    "wcs.image2sky(cat['orig_col'][ind, imind]+1, cat['orig_row'][ind, imind]+1)"
   ]
  },
  {
   "cell_type": "code",
   "execution_count": null,
   "metadata": {},
   "outputs": [],
   "source": [
    "cat['ra'][ind], cat['dec'][ind]"
   ]
  },
  {
   "cell_type": "code",
   "execution_count": null,
   "metadata": {},
   "outputs": [],
   "source": [
    "wcs.get_jacobian(cat['orig_col'][ind, imind]+1, cat['orig_row'][ind, imind]+1)"
   ]
  },
  {
   "cell_type": "code",
   "execution_count": null,
   "metadata": {},
   "outputs": [],
   "source": [
    "(cat['dudcol'][ind, imind],\n",
    " cat['dudrow'][ind, imind],\n",
    " cat['dvdcol'][ind, imind],\n",
    " cat['dvdrow'][ind, imind]) "
   ]
  },
  {
   "cell_type": "code",
   "execution_count": null,
   "metadata": {},
   "outputs": [],
   "source": [
    "im = fitsio.read(imdata['image_path'][cat['file_id'][ind, imind]].strip())\n",
    "\n",
    "im = im[\n",
    "    cat['orig_start_row'][ind, imind]:cat['orig_start_row'][ind, imind]+cat['box_size'][ind],\n",
    "    cat['orig_start_col'][ind, imind]:cat['orig_start_col'][ind, imind]+cat['box_size'][ind]]\n",
    "\n",
    "im /= im.sum()"
   ]
  },
  {
   "cell_type": "code",
   "execution_count": null,
   "metadata": {},
   "outputs": [],
   "source": [
    "mim = m.get_cutout(ind, imind)\n",
    "mim /= mim.sum()"
   ]
  },
  {
   "cell_type": "code",
   "execution_count": null,
   "metadata": {},
   "outputs": [],
   "source": [
    "mim.sum()"
   ]
  },
  {
   "cell_type": "code",
   "execution_count": null,
   "metadata": {},
   "outputs": [],
   "source": [
    "fig, axs = plt.subplots(nrows=1, ncols=3, figsize=(18, 6))\n",
    "axs[0].imshow(np.arcsinh(im))\n",
    "axs[0].grid(False)\n",
    "axs[1].imshow(np.arcsinh(mim))\n",
    "axs[1].grid(False)\n",
    "axs[2].imshow((mim - im)/im)\n",
    "axs[2].grid(False)"
   ]
  },
  {
   "cell_type": "code",
   "execution_count": null,
   "metadata": {},
   "outputs": [],
   "source": [
    "np.allclose(mim, im)"
   ]
  },
  {
   "cell_type": "code",
   "execution_count": null,
   "metadata": {},
   "outputs": [],
   "source": [
    "np.max(np.abs(mim - im))"
   ]
  },
  {
   "cell_type": "code",
   "execution_count": null,
   "metadata": {},
   "outputs": [],
   "source": [
    "import galsim\n",
    "from matts_misc.simple_des_y3_sims.psf_wrapper import PSFWrapper\n",
    "from matts_misc.simple_des_y3_sims.des_piff import DES_Piff"
   ]
  },
  {
   "cell_type": "code",
   "execution_count": null,
   "metadata": {},
   "outputs": [],
   "source": [
    "wcs = galsim.FitsWCS(imdata['image_path'][cat['file_id'][ind, imind]].strip(), hdu=1)"
   ]
  },
  {
   "cell_type": "code",
   "execution_count": null,
   "metadata": {},
   "outputs": [],
   "source": [
    "import os\n",
    "\n",
    "psf_path = os.path.join(\n",
    "    '/Users/Matt/DESDATA/y3_piff/y3a1-v29',\n",
    "    os.path.basename(imdata['image_path'][cat['file_id'][ind, imind]].strip()).split('_')[0][3:],\n",
    "    os.path.basename(imdata['image_path'][cat['file_id'][ind, imind]].strip()).replace('_immasked.fits.fz', '_piff.fits'))"
   ]
  },
  {
   "cell_type": "code",
   "execution_count": null,
   "metadata": {},
   "outputs": [],
   "source": [
    "import piff"
   ]
  },
  {
   "cell_type": "code",
   "execution_count": null,
   "metadata": {},
   "outputs": [],
   "source": [
    "psf = DES_Piff(psf_path)"
   ]
  },
  {
   "cell_type": "code",
   "execution_count": null,
   "metadata": {},
   "outputs": [],
   "source": [
    "mpsf = PSFWrapper(psf, wcs)"
   ]
  },
  {
   "cell_type": "code",
   "execution_count": null,
   "metadata": {},
   "outputs": [],
   "source": [
    "psf_im = mpsf.get_rec(cat['orig_row'][ind, imind], cat['orig_col'][ind, imind])"
   ]
  },
  {
   "cell_type": "code",
   "execution_count": null,
   "metadata": {},
   "outputs": [],
   "source": [
    "mpsf_im = m.get_cutout(ind, imind, type='psf')"
   ]
  },
  {
   "cell_type": "code",
   "execution_count": null,
   "metadata": {},
   "outputs": [],
   "source": [
    "fig, axs = plt.subplots(nrows=1, ncols=3, figsize=(18, 6))\n",
    "axs[0].imshow(np.arcsinh(psf_im))\n",
    "axs[0].grid(False)\n",
    "axs[1].imshow(np.arcsinh(mpsf_im))\n",
    "axs[1].grid(False)\n",
    "axs[2].imshow(np.arcsinh(mpsf_im - psf_im))\n",
    "axs[2].grid(False)"
   ]
  },
  {
   "cell_type": "code",
   "execution_count": null,
   "metadata": {},
   "outputs": [],
   "source": [
    "np.allclose(mpsf_im, psf_im)"
   ]
  },
  {
   "cell_type": "code",
   "execution_count": null,
   "metadata": {},
   "outputs": [],
   "source": [
    "fig, axs = plt.subplots(nrows=4, ncols=3, figsize=(12, 12))\n",
    "\n",
    "for ind, ax in zip(range(9), axs.ravel()):\n",
    "    sns.heatmap(m.get_cutout(ind, 1, type='psf'), square=True, ax=ax)"
   ]
  },
  {
   "cell_type": "code",
   "execution_count": null,
   "metadata": {},
   "outputs": [],
   "source": []
  }
 ],
 "metadata": {
  "kernelspec": {
   "display_name": "Python 3",
   "language": "python",
   "name": "python3"
  },
  "language_info": {
   "codemirror_mode": {
    "name": "ipython",
    "version": 3
   },
   "file_extension": ".py",
   "mimetype": "text/x-python",
   "name": "python",
   "nbconvert_exporter": "python",
   "pygments_lexer": "ipython3",
   "version": "3.6.7"
  }
 },
 "nbformat": 4,
 "nbformat_minor": 2
}
