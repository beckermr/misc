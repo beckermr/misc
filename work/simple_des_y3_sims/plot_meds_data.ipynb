{
 "cells": [
  {
   "cell_type": "code",
   "execution_count": 1,
   "metadata": {},
   "outputs": [],
   "source": [
    "import numpy as np\n",
    "import matplotlib.pyplot as plt\n",
    "import seaborn as sns\n",
    "\n",
    "%matplotlib notebook\n",
    "sns.set()"
   ]
  },
  {
   "cell_type": "code",
   "execution_count": 2,
   "metadata": {},
   "outputs": [],
   "source": [
    "import fitsio\n",
    "from meds import MEDS"
   ]
  },
  {
   "cell_type": "code",
   "execution_count": 3,
   "metadata": {},
   "outputs": [],
   "source": [
    "m = MEDS('outputs/y3v02/DES2122+0001/DES2122+0001_r_meds-y3v02.fits.fz')"
   ]
  },
  {
   "cell_type": "code",
   "execution_count": 4,
   "metadata": {},
   "outputs": [],
   "source": [
    "cat = m.get_cat()"
   ]
  },
  {
   "cell_type": "code",
   "execution_count": 5,
   "metadata": {},
   "outputs": [],
   "source": [
    "ind = 5\n",
    "imind = 3"
   ]
  },
  {
   "cell_type": "code",
   "execution_count": 6,
   "metadata": {},
   "outputs": [
    {
     "data": {
      "text/plain": [
       "701.0464466574938"
      ]
     },
     "execution_count": 6,
     "metadata": {},
     "output_type": "execute_result"
    }
   ],
   "source": [
    "cat['orig_col'][ind, imind]"
   ]
  },
  {
   "cell_type": "code",
   "execution_count": 7,
   "metadata": {},
   "outputs": [],
   "source": [
    "imdata = m.get_image_info()"
   ]
  },
  {
   "cell_type": "code",
   "execution_count": 8,
   "metadata": {},
   "outputs": [
    {
     "data": {
      "text/plain": [
       "57"
      ]
     },
     "execution_count": 8,
     "metadata": {},
     "output_type": "execute_result"
    }
   ],
   "source": [
    "cat['file_id'][ind, imind]"
   ]
  },
  {
   "cell_type": "code",
   "execution_count": 9,
   "metadata": {},
   "outputs": [
    {
     "data": {
      "text/plain": [
       "'outputs/y3v02/DES2122+0001/sources-r/OPS/finalcut/Y2A1/Y2-2175/20141013/D00367450/p01/red/immask/D00367450_r_c32_r2175p01_immasked.fits.fz'"
      ]
     },
     "execution_count": 9,
     "metadata": {},
     "output_type": "execute_result"
    }
   ],
   "source": [
    "imdata['image_path'][cat['file_id'][ind, imind]]"
   ]
  },
  {
   "cell_type": "code",
   "execution_count": 10,
   "metadata": {},
   "outputs": [],
   "source": [
    "import esutil"
   ]
  },
  {
   "cell_type": "code",
   "execution_count": 11,
   "metadata": {},
   "outputs": [],
   "source": [
    "hd = fitsio.read_header(\n",
    "    imdata['image_path'][cat['file_id'][ind, imind]].strip(), ext=1)\n",
    "wcs = esutil.wcsutil.WCS({k.lower(): hd[k] for k in hd if k is not None})"
   ]
  },
  {
   "cell_type": "code",
   "execution_count": 12,
   "metadata": {},
   "outputs": [
    {
     "data": {
      "text/plain": [
       "(320.44537387650917, 0.016713394256312842)"
      ]
     },
     "execution_count": 12,
     "metadata": {},
     "output_type": "execute_result"
    }
   ],
   "source": [
    "wcs.image2sky(cat['orig_col'][ind, imind]+1, cat['orig_row'][ind, imind]+1)"
   ]
  },
  {
   "cell_type": "code",
   "execution_count": 13,
   "metadata": {},
   "outputs": [
    {
     "data": {
      "text/plain": [
       "(320.44537387650917, 0.016713394256311985)"
      ]
     },
     "execution_count": 13,
     "metadata": {},
     "output_type": "execute_result"
    }
   ],
   "source": [
    "cat['ra'][ind], cat['dec'][ind]"
   ]
  },
  {
   "cell_type": "code",
   "execution_count": 14,
   "metadata": {},
   "outputs": [
    {
     "data": {
      "text/plain": [
       "(0.0005723445026215939,\n",
       " -0.2621341820600186,\n",
       " -0.2630635338244508,\n",
       " -0.0007158919734517877)"
      ]
     },
     "execution_count": 14,
     "metadata": {},
     "output_type": "execute_result"
    }
   ],
   "source": [
    "wcs.get_jacobian(cat['orig_col'][ind, imind]+1, cat['orig_row'][ind, imind]+1)"
   ]
  },
  {
   "cell_type": "code",
   "execution_count": 15,
   "metadata": {},
   "outputs": [
    {
     "data": {
      "text/plain": [
       "(0.0005723445026215939,\n",
       " -0.2621341820600186,\n",
       " -0.2630635338244508,\n",
       " -0.0007158919734517877)"
      ]
     },
     "execution_count": 15,
     "metadata": {},
     "output_type": "execute_result"
    }
   ],
   "source": [
    "(cat['dudcol'][ind, imind],\n",
    " cat['dudrow'][ind, imind],\n",
    " cat['dvdcol'][ind, imind],\n",
    " cat['dvdrow'][ind, imind]) "
   ]
  },
  {
   "cell_type": "code",
   "execution_count": 16,
   "metadata": {},
   "outputs": [],
   "source": [
    "im = fitsio.read(imdata['image_path'][cat['file_id'][ind, imind]].strip())\n",
    "\n",
    "im = im[\n",
    "    cat['orig_start_row'][ind, imind]:cat['orig_start_row'][ind, imind]+cat['box_size'][ind],\n",
    "    cat['orig_start_col'][ind, imind]:cat['orig_start_col'][ind, imind]+cat['box_size'][ind]]\n",
    "\n",
    "im /= im.sum()"
   ]
  },
  {
   "cell_type": "code",
   "execution_count": 17,
   "metadata": {},
   "outputs": [],
   "source": [
    "mim = m.get_cutout(ind, imind)\n",
    "mim /= mim.sum()"
   ]
  },
  {
   "cell_type": "code",
   "execution_count": 18,
   "metadata": {},
   "outputs": [
    {
     "data": {
      "text/plain": [
       "1.0"
      ]
     },
     "execution_count": 18,
     "metadata": {},
     "output_type": "execute_result"
    }
   ],
   "source": [
    "mim.sum()"
   ]
  },
  {
   "cell_type": "code",
   "execution_count": 19,
   "metadata": {},
   "outputs": [
    {
     "data": {
      "image/png": "[encoded data removed]",
      "text/plain": [
       "<Figure size 1296x432 with 3 Axes>"
      ]
     },
     "metadata": {
      "needs_background": "light"
     },
     "output_type": "display_data"
    }
   ],
   "source": [
    "fig, axs = plt.subplots(nrows=1, ncols=3, figsize=(18, 6))\n",
    "axs[0].imshow(np.arcsinh(im))\n",
    "axs[0].grid(False)\n",
    "axs[1].imshow(np.arcsinh(mim))\n",
    "axs[1].grid(False)\n",
    "axs[2].imshow((mim - im)/im)\n",
    "axs[2].grid(False)"
   ]
  },
  {
   "cell_type": "code",
   "execution_count": 20,
   "metadata": {},
   "outputs": [
    {
     "data": {
      "text/plain": [
       "False"
      ]
     },
     "execution_count": 20,
     "metadata": {},
     "output_type": "execute_result"
    }
   ],
   "source": [
    "np.allclose(mim, im)"
   ]
  },
  {
   "cell_type": "code",
   "execution_count": 21,
   "metadata": {},
   "outputs": [
    {
     "data": {
      "text/plain": [
       "0.00038528442"
      ]
     },
     "execution_count": 21,
     "metadata": {},
     "output_type": "execute_result"
    }
   ],
   "source": [
    "np.max(np.abs(mim - im))"
   ]
  },
  {
   "cell_type": "code",
   "execution_count": 22,
   "metadata": {},
   "outputs": [],
   "source": [
    "import galsim\n",
    "from matts_misc.simple_des_y3_sims.psf_wrapper import PSFWrapper\n",
    "from matts_misc.simple_des_y3_sims.des_piff import DES_Piff"
   ]
  },
  {
   "cell_type": "code",
   "execution_count": 23,
   "metadata": {},
   "outputs": [],
   "source": [
    "wcs = galsim.FitsWCS(imdata['image_path'][cat['file_id'][ind, imind]].strip(), hdu=1)"
   ]
  },
  {
   "cell_type": "code",
   "execution_count": 24,
   "metadata": {},
   "outputs": [],
   "source": [
    "import os\n",
    "\n",
    "psf_path = os.path.join(\n",
    "    '/Users/Matt/DESDATA/y3_piff/y3a1-v29',\n",
    "    os.path.basename(imdata['image_path'][cat['file_id'][ind, imind]].strip()).split('_')[0][3:],\n",
    "    os.path.basename(imdata['image_path'][cat['file_id'][ind, imind]].strip()).replace('_immasked.fits.fz', '_piff.fits'))"
   ]
  },
  {
   "cell_type": "code",
   "execution_count": 25,
   "metadata": {},
   "outputs": [],
   "source": [
    "import piff"
   ]
  },
  {
   "cell_type": "code",
   "execution_count": 26,
   "metadata": {},
   "outputs": [],
   "source": [
    "psf = DES_Piff(psf_path)"
   ]
  },
  {
   "cell_type": "code",
   "execution_count": 27,
   "metadata": {},
   "outputs": [],
   "source": [
    "mpsf = PSFWrapper(psf, wcs)"
   ]
  },
  {
   "cell_type": "code",
   "execution_count": 28,
   "metadata": {},
   "outputs": [],
   "source": [
    "psf_im = mpsf.get_rec(cat['orig_row'][ind, imind], cat['orig_col'][ind, imind])"
   ]
  },
  {
   "cell_type": "code",
   "execution_count": 29,
   "metadata": {},
   "outputs": [],
   "source": [
    "mpsf_im = m.get_cutout(ind, imind, type='psf')"
   ]
  },
  {
   "cell_type": "code",
   "execution_count": 30,
   "metadata": {},
   "outputs": [
    {
     "data": {
      "image/png": "[encoded data removed]",
      "text/plain": [
       "<Figure size 1296x432 with 3 Axes>"
      ]
     },
     "metadata": {
      "needs_background": "light"
     },
     "output_type": "display_data"
    }
   ],
   "source": [
    "fig, axs = plt.subplots(nrows=1, ncols=3, figsize=(18, 6))\n",
    "axs[0].imshow(np.arcsinh(psf_im))\n",
    "axs[0].grid(False)\n",
    "axs[1].imshow(np.arcsinh(mpsf_im))\n",
    "axs[1].grid(False)\n",
    "axs[2].imshow(np.arcsinh(mpsf_im - psf_im))\n",
    "axs[2].grid(False)"
   ]
  },
  {
   "cell_type": "code",
   "execution_count": 31,
   "metadata": {},
   "outputs": [
    {
     "data": {
      "text/plain": [
       "True"
      ]
     },
     "execution_count": 31,
     "metadata": {},
     "output_type": "execute_result"
    }
   ],
   "source": [
    "np.allclose(mpsf_im, psf_im)"
   ]
  },
  {
   "cell_type": "code",
   "execution_count": null,
   "metadata": {},
   "outputs": [],
   "source": [
    "fig, axs = plt.subplots(nrows=4, ncols=3, figsize=(12, 12))\n",
    "\n",
    "for ind, ax in zip(range(9), axs.ravel()):\n",
    "    sns.heatmap(m.get_cutout(ind, 1, type='psf'), square=True, ax=ax)"
   ]
  },
  {
   "cell_type": "code",
   "execution_count": null,
   "metadata": {},
   "outputs": [],
   "source": []
  }
 ],
 "metadata": {
  "kernelspec": {
   "display_name": "Python 3",
   "language": "python",
   "name": "python3"
  },
  "language_info": {
   "codemirror_mode": {
    "name": "ipython",
    "version": 3
   },
   "file_extension": ".py",
   "mimetype": "text/x-python",
   "name": "python",
   "nbconvert_exporter": "python",
   "pygments_lexer": "ipython3",
   "version": "3.6.7"
  }
 },
 "nbformat": 4,
 "nbformat_minor": 2
}
