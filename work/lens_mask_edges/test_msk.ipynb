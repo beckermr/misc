{
 "cells": [
  {
   "cell_type": "code",
   "execution_count": 1,
   "id": "32ccbe5b",
   "metadata": {},
   "outputs": [],
   "source": [
    "import proplot as pplt\n",
    "import numpy as np\n",
    "from mdet_tools import meas_m, meas_mbmeds, make_obs\n",
    "\n",
    "%load_ext autoreload\n",
    "%autoreload 2"
   ]
  },
  {
   "cell_type": "code",
   "execution_count": null,
   "id": "c8ad8698",
   "metadata": {
    "scrolled": false
   },
   "outputs": [
    {
     "name": "stderr",
     "output_type": "stream",
     "text": [
      "\r",
      "  0%|                                                   | 0/10 [00:00<?, ?it/s]"
     ]
    }
   ],
   "source": [
    "n_stars = 20\n",
    "m, merr, c, cerr, _, _ = meas_m(n_stars=n_stars, mask_width=4, seed=20, n_jobs=10)\n",
    "\n",
    "print(\"\\nstar density: %s [num per arcmin^2]\" % (n_stars / (235*0.20/60)**2))\n",
    "mstr = \"m +/- merr: %0.6f +/- %0.6f [10^(-3), 3sigma]\" % (m/1e-3, 3*merr/1e-3)\n",
    "print(mstr)\n",
    "\n",
    "cstr = \"c +/- cerr: %0.6f +/- %0.6f [10^(-5), 3sigma]\" % (c/1e-3, 3*cerr/1e-3)\n",
    "print(cstr)"
   ]
  },
  {
   "cell_type": "code",
   "execution_count": null,
   "id": "d871fd2b",
   "metadata": {},
   "outputs": [],
   "source": [
    "step = 0.01\n",
    "s = 100\n",
    "kwargs = {\"n_stars\": n_stars, \"seed\": s}\n",
    "d, mbobs = meas_mbmeds(make_obs(mcal_shear=(0, 0), **kwargs))\n",
    "d1p, mbobs1p = meas_mbmeds(make_obs(mcal_shear=(step, 0), **kwargs))\n",
    "d1m, mbobs1m = meas_mbmeds(make_obs(mcal_shear=(-step, 0), **kwargs))\n",
    "d = _cut_cat(d)\n",
    "d1p = _cut_cat(d1p)\n",
    "d1m = _cut_cat(d1m)\n",
    "\n",
    "fig, axs = pplt.subplots(nrows=1, ncols=3, sharex=3, sharey=3)\n",
    "axs[0].pcolormesh(mbobs[0][0].image)\n",
    "axs[0].plot(d[\"x\"], d[\"y\"], '.b')\n",
    "axs[0].set_title(mstr)\n",
    "\n",
    "axs[1].pcolormesh(mbobs1p[0][0].image)\n",
    "axs[1].plot(d1p[\"x\"], d1p[\"y\"], '.b')\n",
    "axs[1].set_title(\"mcal +g1\")\n",
    "\n",
    "axs[2].pcolormesh(mbobs1m[0][0].image)\n",
    "axs[2].plot(d1m[\"x\"], d1m[\"y\"], '.b')\n",
    "axs[2].set_title(\"mcal -g1\")\n",
    "\n",
    "axs.set_xlim(0, mbobs[0][0].image.shape[1])\n",
    "axs.set_ylim(0, mbobs[0][0].image.shape[0])"
   ]
  },
  {
   "cell_type": "code",
   "execution_count": null,
   "id": "911ab188",
   "metadata": {},
   "outputs": [],
   "source": []
  }
 ],
 "metadata": {
  "kernelspec": {
   "display_name": "Python [conda env:anl] *",
   "language": "python",
   "name": "conda-env-anl-py"
  },
  "language_info": {
   "codemirror_mode": {
    "name": "ipython",
    "version": 3
   },
   "file_extension": ".py",
   "mimetype": "text/x-python",
   "name": "python",
   "nbconvert_exporter": "python",
   "pygments_lexer": "ipython3",
   "version": "3.7.8"
  }
 },
 "nbformat": 4,
 "nbformat_minor": 5
}
