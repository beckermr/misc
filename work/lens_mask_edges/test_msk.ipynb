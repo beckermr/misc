{
 "cells": [
  {
   "cell_type": "code",
   "execution_count": 1,
   "id": "32ccbe5b",
   "metadata": {},
   "outputs": [],
   "source": [
    "import proplot as pplt\n",
    "import galsim\n",
    "import numpy as np\n",
    "import ngmix \n",
    "import metadetect\n",
    "import yaml"
   ]
  },
  {
   "cell_type": "code",
   "execution_count": 2,
   "id": "4adf29e5",
   "metadata": {},
   "outputs": [],
   "source": [
    "CONFIG = yaml.safe_load(\"\"\"\\\n",
    "  metacal:\n",
    "    psf: fitgauss\n",
    "    types: [noshear, 1p, 1m, 2p, 2m]\n",
    "    use_noise_image: True\n",
    "\n",
    "  psf:\n",
    "    lm_pars:\n",
    "      maxfev: 2000\n",
    "      ftol: 1.0e-05\n",
    "      xtol: 1.0e-05\n",
    "    model: gauss\n",
    "\n",
    "    # we try many times because if this fails we get no psf info\n",
    "    # for the entire patch\n",
    "    ntry: 10\n",
    "\n",
    "  sx:\n",
    "\n",
    "  weight:\n",
    "    fwhm: 1.2  # arcsec\n",
    "\n",
    "  meds:\n",
    "    box_padding: 2\n",
    "    box_type: iso_radius\n",
    "    max_box_size: 53\n",
    "    min_box_size: 33\n",
    "    rad_fac: 2\n",
    "    rad_min: 4\n",
    "\n",
    "  # check for an edge hit\n",
    "  bmask_flags: 1610612736  # 2**29 || 2**30\n",
    "\n",
    "\"\"\")"
   ]
  },
  {
   "cell_type": "code",
   "execution_count": 3,
   "id": "272d8384",
   "metadata": {},
   "outputs": [],
   "source": [
    "def make_obs(\n",
    "    *,\n",
    "    n_grid=6,\n",
    "    dim=235,\n",
    "    buff=20,\n",
    "    scale=0.2,\n",
    "    psf_fwhm=0.9,\n",
    "    hlr=0.5,\n",
    "    nse=1e-7,\n",
    "    star_dxdy=117,\n",
    "    star_rad=1,\n",
    "    n_stars=5,\n",
    "    seed=10,\n",
    "    shear=(0.02, 0.0),\n",
    "    mcal_shear=(0.0, 0.0)\n",
    "):\n",
    "    rng = np.random.RandomState(seed=seed)\n",
    "    n_gals = n_grid**2\n",
    "    tot_dim = dim + 2*buff\n",
    "    tot_cen = (tot_dim-1)/2\n",
    "    gloc = (np.arange(n_grid) + 0.5) * (dim / n_grid) - dim/2\n",
    "    gloc *= scale\n",
    "    dx, dy = np.meshgrid(gloc, gloc)\n",
    "    dx = dx.ravel() + rng.uniform(low=-0.5, high=0.5, size=n_gals) * scale\n",
    "    dy = dy.ravel() + rng.uniform(low=-0.5, high=0.5, size=n_gals) * scale\n",
    "    ds = np.arange(n_gals) / (n_gals-1) * 0 + 1\n",
    "    gals = galsim.Sum([\n",
    "        galsim.Exponential(\n",
    "            half_light_radius=hlr * _ds\n",
    "        ).shift(\n",
    "            _dx, _dy\n",
    "        ).shear(\n",
    "            g1=shear[0], g2=shear[1]\n",
    "        ).shear(\n",
    "            g1=mcal_shear[0], g2=mcal_shear[1]\n",
    "        )\n",
    "        for _ds, _dx, _dy in zip(ds, dx, dy)\n",
    "    ])\n",
    "    psf = galsim.Gaussian(fwhm=psf_fwhm)\n",
    "    objs = galsim.Convolve([gals, psf])\n",
    "    im = objs.drawImage(nx=tot_dim, ny=tot_dim, scale=scale).array\n",
    "    \n",
    "    im += rng.normal(size=im.shape, scale=nse)\n",
    "    nim = rng.normal(size=im.shape, scale=nse)\n",
    "    \n",
    "    psf_dim = 53\n",
    "    psf_cen = (psf_dim-1)/2\n",
    "    psf_im = psf.drawImage(nx=psf_dim, ny=psf_dim, scale=scale).array\n",
    "    \n",
    "    # make bmask\n",
    "    bmask = np.zeros_like(im, dtype=np.int32)\n",
    "    x, y = np.meshgrid(np.arange(tot_dim), np.arange(tot_dim))\n",
    "    sdata = []\n",
    "    for _ in range(n_stars):\n",
    "        sr2 = np.power(10.0, rng.uniform(low=star_rad, high=star_rad+0.2))**2\n",
    "        sx = rng.uniform(low=-star_dxdy, high=star_dxdy) + tot_cen\n",
    "        sy = rng.uniform(low=-star_dxdy, high=star_dxdy) + tot_cen\n",
    "        dr2 = (x - sx)**2 + (y - sy)**2\n",
    "        msk = dr2 < sr2\n",
    "        bmask[msk] |= 2**0\n",
    "        im[msk] = 0\n",
    "        sdata.append((sx, sy, np.sqrt(sr2)))\n",
    "    \n",
    "    psf_obs = ngmix.Observation(\n",
    "        image=psf_im,\n",
    "        weight=np.ones_like(psf_im)/ nse**2,\n",
    "        jacobian=ngmix.DiagonalJacobian(scale=scale, row=psf_cen, col=psf_cen)\n",
    "    )\n",
    "    wgt = np.ones_like(im) / nse**2\n",
    "    msk = bmask != 0\n",
    "    wgt[msk] = 0.0\n",
    "    mfrac = np.zeros_like(im)\n",
    "    mfrac[msk] = 1.0\n",
    "    obs = ngmix.Observation(\n",
    "        image=im,\n",
    "        noise=nim,\n",
    "        weight=wgt,\n",
    "        bmask=bmask,\n",
    "        ormask=bmask,\n",
    "        jacobian=ngmix.DiagonalJacobian(scale=scale, row=tot_cen, col=tot_cen),\n",
    "        psf=psf_obs\n",
    "    )\n",
    "    obs.mfrac = mfrac\n",
    "    mbobs = ngmix.MultiBandObsList()\n",
    "    obsl = ngmix.ObsList()\n",
    "    obsl.append(obs)\n",
    "    mbobs.append(obsl)\n",
    "    mbobs.meta[\"sdata\"] = sdata\n",
    "    return mbobs"
   ]
  },
  {
   "cell_type": "code",
   "execution_count": 4,
   "id": "d1c42417",
   "metadata": {},
   "outputs": [],
   "source": [
    "import copy\n",
    "from metadetect.detect import MEDSifier\n",
    "from ngmix.gaussmom import GaussMom\n",
    "import esutil\n",
    "\n",
    "def meas_mbmeds(mbobs, maskflags=1, meds_config=None):\n",
    "    # meas PSF\n",
    "    mom = GaussMom(fwhm=1.2, obs=mbobs[0][0].psf)\n",
    "    mom.go()\n",
    "    res = mom.result\n",
    "    psf_T = res['T']\n",
    "    \n",
    "    if meds_config is None:\n",
    "        meds_config = copy.deepcopy(CONFIG[\"meds\"])\n",
    "    mfier = MEDSifier(\n",
    "        mbobs, \n",
    "        sx_config=None, \n",
    "        meds_config=meds_config, \n",
    "        maskflags=maskflags\n",
    "    )\n",
    "    mbmeds = mfier.get_multiband_meds()\n",
    "    d = []\n",
    "    dt = [\n",
    "        (\"flags\", \"i4\"),\n",
    "        (\"g1\", \"f8\"),\n",
    "        (\"g2\", \"f8\"),\n",
    "        (\"s2n\", \"f8\"),\n",
    "        (\"x\", \"f8\"),\n",
    "        (\"y\", \"f8\"),\n",
    "        ('T_ratio', 'f8'),\n",
    "    ]\n",
    "    for i, _mbobs in enumerate(mbmeds.get_mbobs_list()):\n",
    "        if len(_mbobs) > 0 and len(_mbobs[0]) > 0:\n",
    "            obs = _mbobs[0][0]\n",
    "            cen = int((obs.bmask.shape[0]-1)/2)\n",
    "            mw = 4\n",
    "            if np.any((obs.bmask[cen-mw:cen+mw, cen-mw:cen+mw] & maskflags) != 0):\n",
    "                continue\n",
    "            mom = GaussMom(fwhm=1.2, obs=obs)\n",
    "            mom.go()\n",
    "            res = mom.result\n",
    "            if res[\"flags\"] == 0:\n",
    "                d.append((\n",
    "                    res[\"flags\"], \n",
    "                    res[\"e\"][0], res[\"e\"][1], \n",
    "                    res[\"s2n\"], \n",
    "                    mfier.cat[\"x\"][i], mfier.cat[\"y\"][i],\n",
    "                    res['T'] / psf_T\n",
    "                ))\n",
    "            else:\n",
    "                d.append((\n",
    "                    res[\"flags\"], \n",
    "                    -9999, -9999, \n",
    "                    -9999, \n",
    "                    mfier.cat[\"x\"][i], mfier.cat[\"y\"][i],\n",
    "                    -9999,\n",
    "                ))\n",
    "    return np.array(d, dtype=dt), mbobs\n",
    "    "
   ]
  },
  {
   "cell_type": "code",
   "execution_count": null,
   "id": "c8ad8698",
   "metadata": {
    "scrolled": false
   },
   "outputs": [
    {
     "name": "stderr",
     "output_type": "stream",
     "text": [
      "  1%|▏                                    | 501/100000 [00:20<49:49, 33.28it/s]"
     ]
    },
    {
     "name": "stdout",
     "output_type": "stream",
     "text": [
      "m +/- merr: 3.395359 +/- 18.529114 [10^(-3), 3sigma]\n",
      "c +/- cerr: -4.679658 +/- 94.906597 [10^(-5), 3sigma]\n"
     ]
    },
    {
     "name": "stderr",
     "output_type": "stream",
     "text": [
      "  1%|▎                                 | 1006/100000 [00:39<1:00:19, 27.35it/s]"
     ]
    },
    {
     "name": "stdout",
     "output_type": "stream",
     "text": [
      "m +/- merr: -2.721421 +/- 13.669464 [10^(-3), 3sigma]\n",
      "c +/- cerr: -4.024624 +/- 126.985741 [10^(-5), 3sigma]\n"
     ]
    },
    {
     "name": "stderr",
     "output_type": "stream",
     "text": [
      "  2%|▌                                 | 1505/100000 [00:58<1:09:17, 23.69it/s]"
     ]
    },
    {
     "name": "stdout",
     "output_type": "stream",
     "text": [
      "m +/- merr: -0.019216 +/- 47.639218 [10^(-3), 3sigma]\n",
      "c +/- cerr: -9.227274 +/- 78.852395 [10^(-5), 3sigma]\n"
     ]
    },
    {
     "name": "stderr",
     "output_type": "stream",
     "text": [
      "  2%|▋                                 | 2006/100000 [01:16<1:01:13, 26.67it/s]"
     ]
    },
    {
     "name": "stdout",
     "output_type": "stream",
     "text": [
      "m +/- merr: 1.186324 +/- 9.418117 [10^(-3), 3sigma]\n",
      "c +/- cerr: -20.199838 +/- 91.665075 [10^(-5), 3sigma]\n"
     ]
    },
    {
     "name": "stderr",
     "output_type": "stream",
     "text": [
      "  3%|▉                                   | 2507/100000 [01:35<58:17, 27.87it/s]"
     ]
    },
    {
     "name": "stdout",
     "output_type": "stream",
     "text": [
      "m +/- merr: 0.671330 +/- 14.947393 [10^(-3), 3sigma]\n",
      "c +/- cerr: -26.923278 +/- 766.924808 [10^(-5), 3sigma]\n"
     ]
    },
    {
     "name": "stderr",
     "output_type": "stream",
     "text": [
      "  3%|█                                 | 3005/100000 [01:54<1:07:42, 23.88it/s]"
     ]
    },
    {
     "name": "stdout",
     "output_type": "stream",
     "text": [
      "m +/- merr: -0.233237 +/- 7.095991 [10^(-3), 3sigma]\n",
      "c +/- cerr: -12.696702 +/- 64.039469 [10^(-5), 3sigma]\n"
     ]
    },
    {
     "name": "stderr",
     "output_type": "stream",
     "text": [
      "  4%|█▎                                  | 3512/100000 [02:13<53:59, 29.78it/s]"
     ]
    },
    {
     "name": "stdout",
     "output_type": "stream",
     "text": [
      "m +/- merr: -0.724981 +/- 8.455516 [10^(-3), 3sigma]\n",
      "c +/- cerr: -12.080078 +/- 113.041637 [10^(-5), 3sigma]\n"
     ]
    },
    {
     "name": "stderr",
     "output_type": "stream",
     "text": [
      "  4%|█▎                                | 4004/100000 [02:32<1:00:06, 26.62it/s]"
     ]
    },
    {
     "name": "stdout",
     "output_type": "stream",
     "text": [
      "m +/- merr: -1.656884 +/- 6.443540 [10^(-3), 3sigma]\n",
      "c +/- cerr: -47.118489 +/- 873.590566 [10^(-5), 3sigma]\n"
     ]
    },
    {
     "name": "stderr",
     "output_type": "stream",
     "text": [
      "  5%|█▌                                | 4506/100000 [02:51<1:09:17, 22.97it/s]"
     ]
    },
    {
     "name": "stdout",
     "output_type": "stream",
     "text": [
      "m +/- merr: -1.523478 +/- 14.030009 [10^(-3), 3sigma]\n",
      "c +/- cerr: -206.477622 +/- 81394.396845 [10^(-5), 3sigma]\n"
     ]
    },
    {
     "name": "stderr",
     "output_type": "stream",
     "text": [
      "  5%|█▊                                  | 5009/100000 [03:10<53:22, 29.66it/s]"
     ]
    },
    {
     "name": "stdout",
     "output_type": "stream",
     "text": [
      "m +/- merr: -1.208742 +/- 5.698628 [10^(-3), 3sigma]\n",
      "c +/- cerr: 233.432152 +/- 44361.068623 [10^(-5), 3sigma]\n"
     ]
    },
    {
     "name": "stderr",
     "output_type": "stream",
     "text": [
      "  6%|█▉                                  | 5506/100000 [03:28<53:51, 29.24it/s]"
     ]
    },
    {
     "name": "stdout",
     "output_type": "stream",
     "text": [
      "m +/- merr: -1.167996 +/- 8.601745 [10^(-3), 3sigma]\n",
      "c +/- cerr: 6.060335 +/- 243.901192 [10^(-5), 3sigma]\n"
     ]
    },
    {
     "name": "stderr",
     "output_type": "stream",
     "text": [
      "  6%|██                                | 6001/100000 [03:47<1:05:22, 23.96it/s]"
     ]
    },
    {
     "name": "stdout",
     "output_type": "stream",
     "text": [
      "m +/- merr: -0.955254 +/- 5.186763 [10^(-3), 3sigma]\n",
      "c +/- cerr: 2.853478 +/- 96.228329 [10^(-5), 3sigma]\n"
     ]
    },
    {
     "name": "stderr",
     "output_type": "stream",
     "text": [
      "  7%|██▏                               | 6506/100000 [04:06<1:02:26, 24.95it/s]"
     ]
    },
    {
     "name": "stdout",
     "output_type": "stream",
     "text": [
      "m +/- merr: 0.457301 +/- 11.722989 [10^(-3), 3sigma]\n",
      "c +/- cerr: 29.495623 +/- 607.005255 [10^(-5), 3sigma]\n"
     ]
    },
    {
     "name": "stderr",
     "output_type": "stream",
     "text": [
      "  7%|██▌                                 | 7007/100000 [04:25<57:41, 26.87it/s]"
     ]
    },
    {
     "name": "stdout",
     "output_type": "stream",
     "text": [
      "m +/- merr: 0.334435 +/- 4.848165 [10^(-3), 3sigma]\n",
      "c +/- cerr: 59.861481 +/- 6864.808602 [10^(-5), 3sigma]\n"
     ]
    },
    {
     "name": "stderr",
     "output_type": "stream",
     "text": [
      "  8%|██▋                                 | 7503/100000 [04:44<58:57, 26.15it/s]"
     ]
    },
    {
     "name": "stdout",
     "output_type": "stream",
     "text": [
      "m +/- merr: 0.121065 +/- 10.097012 [10^(-3), 3sigma]\n",
      "c +/- cerr: 15.331590 +/- 318.406428 [10^(-5), 3sigma]\n"
     ]
    },
    {
     "name": "stderr",
     "output_type": "stream",
     "text": [
      "  8%|██▋                               | 8006/100000 [05:03<1:01:13, 25.04it/s]"
     ]
    },
    {
     "name": "stdout",
     "output_type": "stream",
     "text": [
      "m +/- merr: 0.266726 +/- 4.436587 [10^(-3), 3sigma]\n",
      "c +/- cerr: 17.439865 +/- 186.248622 [10^(-5), 3sigma]\n"
     ]
    },
    {
     "name": "stderr",
     "output_type": "stream",
     "text": [
      "  9%|██▉                               | 8505/100000 [05:22<1:04:03, 23.80it/s]"
     ]
    },
    {
     "name": "stdout",
     "output_type": "stream",
     "text": [
      "m +/- merr: 0.313337 +/- 5.013566 [10^(-3), 3sigma]\n",
      "c +/- cerr: 12.466355 +/- 191.118152 [10^(-5), 3sigma]\n"
     ]
    },
    {
     "name": "stderr",
     "output_type": "stream",
     "text": [
      "  9%|███                               | 9004/100000 [05:41<1:03:40, 23.82it/s]"
     ]
    },
    {
     "name": "stdout",
     "output_type": "stream",
     "text": [
      "m +/- merr: 0.334694 +/- 4.543816 [10^(-3), 3sigma]\n",
      "c +/- cerr: 20.422902 +/- 142.783237 [10^(-5), 3sigma]\n"
     ]
    },
    {
     "name": "stderr",
     "output_type": "stream",
     "text": [
      " 10%|███▍                                | 9508/100000 [06:00<52:47, 28.57it/s]"
     ]
    },
    {
     "name": "stdout",
     "output_type": "stream",
     "text": [
      "m +/- merr: -0.118470 +/- 4.510888 [10^(-3), 3sigma]\n",
      "c +/- cerr: 7.087943 +/- 207.910590 [10^(-5), 3sigma]\n"
     ]
    },
    {
     "name": "stderr",
     "output_type": "stream",
     "text": [
      " 10%|███▎                             | 10004/100000 [06:19<1:07:56, 22.07it/s]"
     ]
    },
    {
     "name": "stdout",
     "output_type": "stream",
     "text": [
      "m +/- merr: 0.383900 +/- 4.362638 [10^(-3), 3sigma]\n",
      "c +/- cerr: 4.101687 +/- 162.733795 [10^(-5), 3sigma]\n"
     ]
    },
    {
     "name": "stderr",
     "output_type": "stream",
     "text": [
      " 11%|███▋                               | 10503/100000 [06:38<51:00, 29.24it/s]"
     ]
    },
    {
     "name": "stdout",
     "output_type": "stream",
     "text": [
      "m +/- merr: 0.972582 +/- 9.355034 [10^(-3), 3sigma]\n",
      "c +/- cerr: -9.535608 +/- 2980.887915 [10^(-5), 3sigma]\n"
     ]
    },
    {
     "name": "stderr",
     "output_type": "stream",
     "text": [
      " 11%|███▊                               | 11009/100000 [06:57<54:37, 27.15it/s]"
     ]
    },
    {
     "name": "stdout",
     "output_type": "stream",
     "text": [
      "m +/- merr: 1.223467 +/- 3.961102 [10^(-3), 3sigma]\n",
      "c +/- cerr: -17.836110 +/- 721.666940 [10^(-5), 3sigma]\n"
     ]
    },
    {
     "name": "stderr",
     "output_type": "stream",
     "text": [
      " 12%|███▊                             | 11505/100000 [07:16<1:04:30, 22.86it/s]"
     ]
    },
    {
     "name": "stdout",
     "output_type": "stream",
     "text": [
      "m +/- merr: 1.455919 +/- 6.606561 [10^(-3), 3sigma]\n",
      "c +/- cerr: -5.705809 +/- 448.290347 [10^(-5), 3sigma]\n"
     ]
    },
    {
     "name": "stderr",
     "output_type": "stream",
     "text": [
      " 12%|████▏                              | 12006/100000 [07:35<57:06, 25.68it/s]"
     ]
    },
    {
     "name": "stdout",
     "output_type": "stream",
     "text": [
      "m +/- merr: 1.652651 +/- 4.080690 [10^(-3), 3sigma]\n",
      "c +/- cerr: -3.515933 +/- 974.999252 [10^(-5), 3sigma]\n"
     ]
    },
    {
     "name": "stderr",
     "output_type": "stream",
     "text": [
      " 12%|████▏                            | 12500/100000 [07:54<1:27:00, 16.76it/s]"
     ]
    },
    {
     "name": "stdout",
     "output_type": "stream",
     "text": [
      "m +/- merr: 1.393135 +/- 4.056976 [10^(-3), 3sigma]\n",
      "c +/- cerr: -29.250547 +/- 417007.033430 [10^(-5), 3sigma]\n"
     ]
    },
    {
     "name": "stderr",
     "output_type": "stream",
     "text": [
      " 13%|████▌                              | 13012/100000 [08:13<49:01, 29.58it/s]"
     ]
    },
    {
     "name": "stdout",
     "output_type": "stream",
     "text": [
      "m +/- merr: 2.152923 +/- 3.952443 [10^(-3), 3sigma]\n",
      "c +/- cerr: -10.561068 +/- 190.483918 [10^(-5), 3sigma]\n"
     ]
    },
    {
     "name": "stderr",
     "output_type": "stream",
     "text": [
      " 14%|████▋                              | 13509/100000 [08:32<47:05, 30.61it/s]"
     ]
    },
    {
     "name": "stdout",
     "output_type": "stream",
     "text": [
      "m +/- merr: 1.910824 +/- 6.989912 [10^(-3), 3sigma]\n",
      "c +/- cerr: -15.775994 +/- 1878.728718 [10^(-5), 3sigma]\n"
     ]
    },
    {
     "name": "stderr",
     "output_type": "stream",
     "text": [
      " 14%|████▌                            | 14005/100000 [08:51<1:01:20, 23.36it/s]"
     ]
    },
    {
     "name": "stdout",
     "output_type": "stream",
     "text": [
      "m +/- merr: 1.747193 +/- 3.707633 [10^(-3), 3sigma]\n",
      "c +/- cerr: -6.051659 +/- 99.935993 [10^(-5), 3sigma]\n"
     ]
    },
    {
     "name": "stderr",
     "output_type": "stream",
     "text": [
      " 15%|█████                              | 14508/100000 [09:10<58:03, 24.54it/s]"
     ]
    },
    {
     "name": "stdout",
     "output_type": "stream",
     "text": [
      "m +/- merr: 1.716104 +/- 7.084769 [10^(-3), 3sigma]\n",
      "c +/- cerr: -11.756598 +/- 152.387209 [10^(-5), 3sigma]\n"
     ]
    },
    {
     "name": "stderr",
     "output_type": "stream",
     "text": [
      " 15%|█████▎                             | 15003/100000 [09:29<59:33, 23.78it/s]"
     ]
    },
    {
     "name": "stdout",
     "output_type": "stream",
     "text": [
      "m +/- merr: 1.772585 +/- 3.394259 [10^(-3), 3sigma]\n",
      "c +/- cerr: -4.627868 +/- 153.890411 [10^(-5), 3sigma]\n"
     ]
    },
    {
     "name": "stderr",
     "output_type": "stream",
     "text": [
      " 16%|█████▍                             | 15509/100000 [09:48<51:06, 27.55it/s]"
     ]
    },
    {
     "name": "stdout",
     "output_type": "stream",
     "text": [
      "m +/- merr: 1.930973 +/- 3.441081 [10^(-3), 3sigma]\n",
      "c +/- cerr: 1.113200 +/- 143.744298 [10^(-5), 3sigma]\n"
     ]
    },
    {
     "name": "stderr",
     "output_type": "stream",
     "text": [
      " 16%|█████▌                             | 16008/100000 [10:07<50:02, 27.97it/s]"
     ]
    },
    {
     "name": "stdout",
     "output_type": "stream",
     "text": [
      "m +/- merr: 1.998423 +/- 3.369295 [10^(-3), 3sigma]\n",
      "c +/- cerr: 0.740538 +/- 141.449832 [10^(-5), 3sigma]\n"
     ]
    },
    {
     "name": "stderr",
     "output_type": "stream",
     "text": [
      " 17%|█████▊                             | 16515/100000 [10:27<44:55, 30.98it/s]"
     ]
    },
    {
     "name": "stdout",
     "output_type": "stream",
     "text": [
      "m +/- merr: 2.134446 +/- 3.412900 [10^(-3), 3sigma]\n",
      "c +/- cerr: 1.175307 +/- 115.281110 [10^(-5), 3sigma]\n"
     ]
    },
    {
     "name": "stderr",
     "output_type": "stream",
     "text": [
      " 17%|█████▉                             | 17015/100000 [10:46<39:38, 34.89it/s]"
     ]
    },
    {
     "name": "stdout",
     "output_type": "stream",
     "text": [
      "m +/- merr: 2.245047 +/- 3.343388 [10^(-3), 3sigma]\n",
      "c +/- cerr: 4.057630 +/- 79.316332 [10^(-5), 3sigma]\n"
     ]
    },
    {
     "name": "stderr",
     "output_type": "stream",
     "text": [
      " 18%|██████▏                            | 17506/100000 [11:05<56:40, 24.26it/s]"
     ]
    },
    {
     "name": "stdout",
     "output_type": "stream",
     "text": [
      "m +/- merr: 2.084192 +/- 6.458516 [10^(-3), 3sigma]\n",
      "c +/- cerr: 3.131079 +/- 168.423803 [10^(-5), 3sigma]\n"
     ]
    },
    {
     "name": "stderr",
     "output_type": "stream",
     "text": [
      " 18%|██████▎                            | 18011/100000 [11:24<41:05, 33.26it/s]"
     ]
    },
    {
     "name": "stdout",
     "output_type": "stream",
     "text": [
      "m +/- merr: 2.030398 +/- 3.414214 [10^(-3), 3sigma]\n",
      "c +/- cerr: 3.896635 +/- 180.368052 [10^(-5), 3sigma]\n"
     ]
    },
    {
     "name": "stderr",
     "output_type": "stream",
     "text": [
      " 18%|██████                           | 18500/100000 [11:43<1:26:57, 15.62it/s]"
     ]
    },
    {
     "name": "stdout",
     "output_type": "stream",
     "text": [
      "m +/- merr: 2.111927 +/- 4.268931 [10^(-3), 3sigma]\n",
      "c +/- cerr: -0.866377 +/- 144.769358 [10^(-5), 3sigma]\n"
     ]
    },
    {
     "name": "stderr",
     "output_type": "stream",
     "text": [
      " 19%|██████▋                            | 19010/100000 [12:02<42:48, 31.54it/s]"
     ]
    },
    {
     "name": "stdout",
     "output_type": "stream",
     "text": [
      "m +/- merr: 2.041564 +/- 3.217885 [10^(-3), 3sigma]\n",
      "c +/- cerr: 6.249137 +/- 103.624020 [10^(-5), 3sigma]\n"
     ]
    },
    {
     "name": "stderr",
     "output_type": "stream",
     "text": [
      " 20%|██████▊                            | 19512/100000 [12:22<42:07, 31.84it/s]"
     ]
    },
    {
     "name": "stdout",
     "output_type": "stream",
     "text": [
      "m +/- merr: 1.815221 +/- 4.876941 [10^(-3), 3sigma]\n",
      "c +/- cerr: 0.362830 +/- 124.923112 [10^(-5), 3sigma]\n"
     ]
    },
    {
     "name": "stderr",
     "output_type": "stream",
     "text": [
      " 20%|███████                            | 20017/100000 [12:41<37:12, 35.82it/s]"
     ]
    },
    {
     "name": "stdout",
     "output_type": "stream",
     "text": [
      "m +/- merr: 1.705209 +/- 3.081469 [10^(-3), 3sigma]\n",
      "c +/- cerr: -5.707954 +/- 80.080202 [10^(-5), 3sigma]\n"
     ]
    },
    {
     "name": "stderr",
     "output_type": "stream",
     "text": [
      " 21%|███████▏                           | 20512/100000 [13:00<45:37, 29.04it/s]"
     ]
    },
    {
     "name": "stdout",
     "output_type": "stream",
     "text": [
      "m +/- merr: 2.005061 +/- 5.877732 [10^(-3), 3sigma]\n",
      "c +/- cerr: 2.506863 +/- 103.009610 [10^(-5), 3sigma]\n"
     ]
    },
    {
     "name": "stderr",
     "output_type": "stream",
     "text": [
      " 21%|███████▎                           | 21010/100000 [13:20<47:21, 27.80it/s]"
     ]
    },
    {
     "name": "stdout",
     "output_type": "stream",
     "text": [
      "m +/- merr: 1.950839 +/- 3.087751 [10^(-3), 3sigma]\n",
      "c +/- cerr: 18.190087 +/- 227.965435 [10^(-5), 3sigma]\n"
     ]
    },
    {
     "name": "stderr",
     "output_type": "stream",
     "text": [
      " 22%|███████▌                           | 21518/100000 [13:39<38:42, 33.79it/s]"
     ]
    },
    {
     "name": "stdout",
     "output_type": "stream",
     "text": [
      "m +/- merr: 2.011947 +/- 3.758110 [10^(-3), 3sigma]\n",
      "c +/- cerr: 17.317835 +/- 211.258907 [10^(-5), 3sigma]\n"
     ]
    },
    {
     "name": "stderr",
     "output_type": "stream",
     "text": [
      " 22%|███████▋                           | 22012/100000 [13:59<49:07, 26.46it/s]"
     ]
    },
    {
     "name": "stdout",
     "output_type": "stream",
     "text": [
      "m +/- merr: 1.938765 +/- 2.947924 [10^(-3), 3sigma]\n",
      "c +/- cerr: 205.495075 +/- 55025.961174 [10^(-5), 3sigma]\n"
     ]
    },
    {
     "name": "stderr",
     "output_type": "stream",
     "text": [
      " 23%|███████▉                           | 22514/100000 [14:18<40:31, 31.87it/s]"
     ]
    },
    {
     "name": "stdout",
     "output_type": "stream",
     "text": [
      "m +/- merr: 1.911039 +/- 3.542547 [10^(-3), 3sigma]\n",
      "c +/- cerr: 52.986407 +/- 16805.276201 [10^(-5), 3sigma]\n"
     ]
    },
    {
     "name": "stderr",
     "output_type": "stream",
     "text": [
      " 23%|████████                           | 23010/100000 [14:37<43:10, 29.72it/s]"
     ]
    },
    {
     "name": "stdout",
     "output_type": "stream",
     "text": [
      "m +/- merr: 1.812957 +/- 2.943066 [10^(-3), 3sigma]\n",
      "c +/- cerr: -564.269712 +/- 223089.610131 [10^(-5), 3sigma]\n"
     ]
    },
    {
     "name": "stderr",
     "output_type": "stream",
     "text": [
      " 24%|████████▏                          | 23514/100000 [14:57<42:42, 29.85it/s]"
     ]
    },
    {
     "name": "stdout",
     "output_type": "stream",
     "text": [
      "m +/- merr: 1.799697 +/- 2.998052 [10^(-3), 3sigma]\n",
      "c +/- cerr: 413.581029 +/- 37050.844182 [10^(-5), 3sigma]\n"
     ]
    },
    {
     "name": "stderr",
     "output_type": "stream",
     "text": [
      " 24%|████████▍                          | 24006/100000 [15:16<57:39, 21.97it/s]"
     ]
    },
    {
     "name": "stdout",
     "output_type": "stream",
     "text": [
      "m +/- merr: 1.931164 +/- 2.943495 [10^(-3), 3sigma]\n",
      "c +/- cerr: 68.459972 +/- 2581.194874 [10^(-5), 3sigma]\n"
     ]
    },
    {
     "name": "stderr",
     "output_type": "stream",
     "text": [
      " 25%|████████                         | 24502/100000 [15:36<1:13:10, 17.20it/s]"
     ]
    },
    {
     "name": "stdout",
     "output_type": "stream",
     "text": [
      "m +/- merr: 1.900065 +/- 3.094799 [10^(-3), 3sigma]\n",
      "c +/- cerr: 72.621177 +/- 5317.617958 [10^(-5), 3sigma]\n"
     ]
    },
    {
     "name": "stderr",
     "output_type": "stream",
     "text": [
      " 25%|████████▊                          | 25013/100000 [15:55<37:50, 33.03it/s]"
     ]
    },
    {
     "name": "stdout",
     "output_type": "stream",
     "text": [
      "m +/- merr: 1.824697 +/- 2.707289 [10^(-3), 3sigma]\n",
      "c +/- cerr: 61.433570 +/- 1370.425688 [10^(-5), 3sigma]\n"
     ]
    },
    {
     "name": "stderr",
     "output_type": "stream",
     "text": [
      " 26%|████████▍                        | 25502/100000 [16:14<1:08:32, 18.12it/s]"
     ]
    },
    {
     "name": "stdout",
     "output_type": "stream",
     "text": [
      "m +/- merr: 1.814976 +/- 3.478060 [10^(-3), 3sigma]\n",
      "c +/- cerr: 51.889007 +/- 894.368406 [10^(-5), 3sigma]\n"
     ]
    },
    {
     "name": "stderr",
     "output_type": "stream",
     "text": [
      " 26%|█████████                          | 26013/100000 [16:34<43:57, 28.05it/s]"
     ]
    },
    {
     "name": "stdout",
     "output_type": "stream",
     "text": [
      "m +/- merr: 1.769121 +/- 2.712817 [10^(-3), 3sigma]\n",
      "c +/- cerr: 228.587319 +/- 159963.820174 [10^(-5), 3sigma]\n"
     ]
    },
    {
     "name": "stderr",
     "output_type": "stream",
     "text": [
      " 27%|█████████▎                         | 26512/100000 [16:53<38:54, 31.48it/s]"
     ]
    },
    {
     "name": "stdout",
     "output_type": "stream",
     "text": [
      "m +/- merr: 1.758479 +/- 2.741819 [10^(-3), 3sigma]\n",
      "c +/- cerr: 345.711325 +/- 11101.052559 [10^(-5), 3sigma]\n"
     ]
    },
    {
     "name": "stderr",
     "output_type": "stream",
     "text": [
      " 27%|█████████▍                         | 27015/100000 [17:13<38:34, 31.54it/s]"
     ]
    },
    {
     "name": "stdout",
     "output_type": "stream",
     "text": [
      "m +/- merr: 1.986273 +/- 2.592399 [10^(-3), 3sigma]\n",
      "c +/- cerr: 177.454905 +/- 13122.147340 [10^(-5), 3sigma]\n"
     ]
    },
    {
     "name": "stderr",
     "output_type": "stream",
     "text": [
      " 28%|█████████▋                         | 27519/100000 [17:32<33:29, 36.07it/s]"
     ]
    },
    {
     "name": "stdout",
     "output_type": "stream",
     "text": [
      "m +/- merr: 1.944693 +/- 4.162104 [10^(-3), 3sigma]\n",
      "c +/- cerr: 318.038137 +/- 1532391.005733 [10^(-5), 3sigma]\n"
     ]
    },
    {
     "name": "stderr",
     "output_type": "stream",
     "text": [
      " 28%|█████████▊                         | 28015/100000 [17:52<35:56, 33.38it/s]"
     ]
    },
    {
     "name": "stdout",
     "output_type": "stream",
     "text": [
      "m +/- merr: 1.846781 +/- 2.468247 [10^(-3), 3sigma]\n",
      "c +/- cerr: -284.564842 +/- 281894.433527 [10^(-5), 3sigma]\n"
     ]
    },
    {
     "name": "stderr",
     "output_type": "stream",
     "text": [
      " 28%|█████████▍                       | 28500/100000 [18:11<1:15:18, 15.82it/s]"
     ]
    },
    {
     "name": "stdout",
     "output_type": "stream",
     "text": [
      "m +/- merr: 1.884259 +/- 2.792159 [10^(-3), 3sigma]\n",
      "c +/- cerr: -77.625969 +/- 7097.358256 [10^(-5), 3sigma]\n"
     ]
    },
    {
     "name": "stderr",
     "output_type": "stream",
     "text": [
      " 29%|██████████▏                        | 29008/100000 [18:30<43:15, 27.35it/s]"
     ]
    },
    {
     "name": "stdout",
     "output_type": "stream",
     "text": [
      "m +/- merr: 1.858683 +/- 2.510561 [10^(-3), 3sigma]\n",
      "c +/- cerr: -102.234961 +/- 28433.953923 [10^(-5), 3sigma]\n"
     ]
    },
    {
     "name": "stderr",
     "output_type": "stream",
     "text": [
      " 30%|██████████▎                        | 29507/100000 [18:50<55:06, 21.32it/s]"
     ]
    },
    {
     "name": "stdout",
     "output_type": "stream",
     "text": [
      "m +/- merr: 1.824503 +/- 3.261547 [10^(-3), 3sigma]\n",
      "c +/- cerr: -176.498383 +/- 556577.313327 [10^(-5), 3sigma]\n"
     ]
    },
    {
     "name": "stderr",
     "output_type": "stream",
     "text": [
      " 30%|██████████▌                        | 30017/100000 [19:09<34:38, 33.67it/s]"
     ]
    },
    {
     "name": "stdout",
     "output_type": "stream",
     "text": [
      "m +/- merr: 1.858137 +/- 2.520257 [10^(-3), 3sigma]\n",
      "c +/- cerr: -97.195648 +/- 3593.027591 [10^(-5), 3sigma]\n"
     ]
    },
    {
     "name": "stderr",
     "output_type": "stream",
     "text": [
      " 31%|██████████▋                        | 30519/100000 [19:28<35:36, 32.52it/s]"
     ]
    },
    {
     "name": "stdout",
     "output_type": "stream",
     "text": [
      "m +/- merr: 1.764179 +/- 2.621051 [10^(-3), 3sigma]\n",
      "c +/- cerr: -148.028959 +/- 189862.672300 [10^(-5), 3sigma]\n"
     ]
    },
    {
     "name": "stderr",
     "output_type": "stream",
     "text": [
      " 31%|██████████▊                        | 31018/100000 [19:48<36:02, 31.90it/s]"
     ]
    },
    {
     "name": "stdout",
     "output_type": "stream",
     "text": [
      "m +/- merr: 1.775167 +/- 2.467417 [10^(-3), 3sigma]\n",
      "c +/- cerr: -1303.080531 +/- 105525.425147 [10^(-5), 3sigma]\n"
     ]
    },
    {
     "name": "stderr",
     "output_type": "stream",
     "text": [
      " 32%|██████████▍                      | 31500/100000 [20:07<1:35:07, 12.00it/s]"
     ]
    },
    {
     "name": "stdout",
     "output_type": "stream",
     "text": [
      "m +/- merr: 1.766799 +/- 2.934305 [10^(-3), 3sigma]\n",
      "c +/- cerr: -124.593302 +/- 51482.660517 [10^(-5), 3sigma]\n"
     ]
    },
    {
     "name": "stderr",
     "output_type": "stream",
     "text": [
      " 32%|███████████▏                       | 32010/100000 [20:26<48:19, 23.45it/s]"
     ]
    },
    {
     "name": "stdout",
     "output_type": "stream",
     "text": [
      "m +/- merr: 1.776159 +/- 2.312708 [10^(-3), 3sigma]\n",
      "c +/- cerr: -1596.614976 +/- 270544.449584 [10^(-5), 3sigma]\n"
     ]
    },
    {
     "name": "stderr",
     "output_type": "stream",
     "text": [
      " 33%|███████████▍                       | 32517/100000 [20:45<35:15, 31.90it/s]"
     ]
    },
    {
     "name": "stdout",
     "output_type": "stream",
     "text": [
      "m +/- merr: 1.833375 +/- 2.742613 [10^(-3), 3sigma]\n",
      "c +/- cerr: 64.655679 +/- 125317.187969 [10^(-5), 3sigma]\n"
     ]
    },
    {
     "name": "stderr",
     "output_type": "stream",
     "text": [
      " 33%|██████████▉                      | 33000/100000 [21:04<1:16:39, 14.57it/s]"
     ]
    },
    {
     "name": "stdout",
     "output_type": "stream",
     "text": [
      "m +/- merr: 1.905481 +/- 2.475953 [10^(-3), 3sigma]\n",
      "c +/- cerr: 33.623032 +/- 852.156047 [10^(-5), 3sigma]\n"
     ]
    },
    {
     "name": "stderr",
     "output_type": "stream",
     "text": [
      " 34%|███████████▋                       | 33516/100000 [21:24<37:26, 29.59it/s]"
     ]
    },
    {
     "name": "stdout",
     "output_type": "stream",
     "text": [
      "m +/- merr: 1.769993 +/- 2.280131 [10^(-3), 3sigma]\n",
      "c +/- cerr: 47.234550 +/- 1233.221898 [10^(-5), 3sigma]\n"
     ]
    },
    {
     "name": "stderr",
     "output_type": "stream",
     "text": [
      " 34%|███████████▉                       | 34022/100000 [21:43<34:00, 32.33it/s]"
     ]
    },
    {
     "name": "stdout",
     "output_type": "stream",
     "text": [
      "m +/- merr: 1.919400 +/- 2.288617 [10^(-3), 3sigma]\n",
      "c +/- cerr: 178.183712 +/- 65754.524421 [10^(-5), 3sigma]\n"
     ]
    },
    {
     "name": "stderr",
     "output_type": "stream",
     "text": [
      " 35%|████████████                       | 34515/100000 [22:02<36:20, 30.03it/s]"
     ]
    },
    {
     "name": "stdout",
     "output_type": "stream",
     "text": [
      "m +/- merr: 1.946551 +/- 3.272722 [10^(-3), 3sigma]\n",
      "c +/- cerr: 393.739477 +/- 106477.285292 [10^(-5), 3sigma]\n"
     ]
    },
    {
     "name": "stderr",
     "output_type": "stream",
     "text": [
      " 35%|████████████▎                      | 35007/100000 [22:22<45:31, 23.80it/s]"
     ]
    },
    {
     "name": "stdout",
     "output_type": "stream",
     "text": [
      "m +/- merr: 2.062749 +/- 2.277411 [10^(-3), 3sigma]\n",
      "c +/- cerr: 148.734575 +/- 57757.476376 [10^(-5), 3sigma]\n"
     ]
    },
    {
     "name": "stderr",
     "output_type": "stream",
     "text": [
      " 36%|████████████▍                      | 35521/100000 [22:41<29:54, 35.93it/s]"
     ]
    },
    {
     "name": "stdout",
     "output_type": "stream",
     "text": [
      "m +/- merr: 2.080557 +/- 3.005336 [10^(-3), 3sigma]\n",
      "c +/- cerr: 36.676908 +/- 3284.557260 [10^(-5), 3sigma]\n"
     ]
    },
    {
     "name": "stderr",
     "output_type": "stream",
     "text": [
      " 36%|████████████▌                      | 36015/100000 [23:00<37:24, 28.50it/s]"
     ]
    },
    {
     "name": "stdout",
     "output_type": "stream",
     "text": [
      "m +/- merr: 2.194826 +/- 2.391860 [10^(-3), 3sigma]\n",
      "c +/- cerr: 21.483806 +/- 371.677299 [10^(-5), 3sigma]\n"
     ]
    },
    {
     "name": "stderr",
     "output_type": "stream",
     "text": [
      " 36%|████████████                     | 36500/100000 [23:20<1:24:04, 12.59it/s]"
     ]
    },
    {
     "name": "stdout",
     "output_type": "stream",
     "text": [
      "m +/- merr: 2.250694 +/- 3.186269 [10^(-3), 3sigma]\n",
      "c +/- cerr: 2.152155 +/- 1038.024081 [10^(-5), 3sigma]\n"
     ]
    },
    {
     "name": "stderr",
     "output_type": "stream",
     "text": [
      " 37%|████████████▉                      | 37014/100000 [23:39<35:23, 29.66it/s]"
     ]
    },
    {
     "name": "stdout",
     "output_type": "stream",
     "text": [
      "m +/- merr: 2.200688 +/- 2.073736 [10^(-3), 3sigma]\n",
      "c +/- cerr: 5.636988 +/- 126.297598 [10^(-5), 3sigma]\n"
     ]
    },
    {
     "name": "stderr",
     "output_type": "stream",
     "text": [
      " 38%|█████████████▏                     | 37515/100000 [23:58<33:49, 30.79it/s]"
     ]
    },
    {
     "name": "stdout",
     "output_type": "stream",
     "text": [
      "m +/- merr: 2.160368 +/- 2.172802 [10^(-3), 3sigma]\n",
      "c +/- cerr: 5.265936 +/- 177.417827 [10^(-5), 3sigma]\n"
     ]
    },
    {
     "name": "stderr",
     "output_type": "stream",
     "text": [
      " 38%|█████████████▎                     | 38019/100000 [24:17<28:25, 36.33it/s]"
     ]
    },
    {
     "name": "stdout",
     "output_type": "stream",
     "text": [
      "m +/- merr: 2.017284 +/- 2.203878 [10^(-3), 3sigma]\n",
      "c +/- cerr: 6.030840 +/- 108.946747 [10^(-5), 3sigma]\n"
     ]
    },
    {
     "name": "stderr",
     "output_type": "stream",
     "text": [
      " 39%|█████████████▍                     | 38512/100000 [24:37<39:28, 25.96it/s]"
     ]
    },
    {
     "name": "stdout",
     "output_type": "stream",
     "text": [
      "m +/- merr: 2.028906 +/- 2.944979 [10^(-3), 3sigma]\n",
      "c +/- cerr: 2.147221 +/- 132.524961 [10^(-5), 3sigma]\n"
     ]
    },
    {
     "name": "stderr",
     "output_type": "stream",
     "text": [
      " 39%|████████████▊                    | 39001/100000 [24:56<1:22:47, 12.28it/s]"
     ]
    },
    {
     "name": "stdout",
     "output_type": "stream",
     "text": [
      "m +/- merr: 1.982186 +/- 2.014416 [10^(-3), 3sigma]\n",
      "c +/- cerr: 4.033234 +/- 93.259550 [10^(-5), 3sigma]\n"
     ]
    },
    {
     "name": "stderr",
     "output_type": "stream",
     "text": [
      " 40%|█████████████▊                     | 39517/100000 [25:15<34:51, 28.92it/s]"
     ]
    },
    {
     "name": "stdout",
     "output_type": "stream",
     "text": [
      "m +/- merr: 1.978006 +/- 2.282054 [10^(-3), 3sigma]\n",
      "c +/- cerr: -0.414062 +/- 81.921529 [10^(-5), 3sigma]\n"
     ]
    },
    {
     "name": "stderr",
     "output_type": "stream",
     "text": [
      " 40%|██████████████                     | 40011/100000 [25:34<37:45, 26.48it/s]"
     ]
    },
    {
     "name": "stdout",
     "output_type": "stream",
     "text": [
      "m +/- merr: 2.069047 +/- 2.120437 [10^(-3), 3sigma]\n",
      "c +/- cerr: -0.722985 +/- 101.976229 [10^(-5), 3sigma]\n"
     ]
    },
    {
     "name": "stderr",
     "output_type": "stream",
     "text": [
      " 41%|██████████████▏                    | 40517/100000 [25:54<33:11, 29.87it/s]"
     ]
    },
    {
     "name": "stdout",
     "output_type": "stream",
     "text": [
      "m +/- merr: 2.222107 +/- 2.284163 [10^(-3), 3sigma]\n",
      "c +/- cerr: 7.761669 +/- 115.430333 [10^(-5), 3sigma]\n"
     ]
    },
    {
     "name": "stderr",
     "output_type": "stream",
     "text": [
      " 41%|██████████████▎                    | 41016/100000 [26:13<34:37, 28.39it/s]"
     ]
    },
    {
     "name": "stdout",
     "output_type": "stream",
     "text": [
      "m +/- merr: 2.100437 +/- 2.109610 [10^(-3), 3sigma]\n",
      "c +/- cerr: 11.041515 +/- 102.901685 [10^(-5), 3sigma]\n"
     ]
    },
    {
     "name": "stderr",
     "output_type": "stream",
     "text": [
      " 42%|██████████████▌                    | 41515/100000 [26:32<27:49, 35.03it/s]"
     ]
    },
    {
     "name": "stdout",
     "output_type": "stream",
     "text": [
      "m +/- merr: 1.961261 +/- 5.034810 [10^(-3), 3sigma]\n",
      "c +/- cerr: 4.880430 +/- 112.710005 [10^(-5), 3sigma]\n"
     ]
    },
    {
     "name": "stderr",
     "output_type": "stream",
     "text": [
      " 42%|██████████████▋                    | 42021/100000 [26:51<31:22, 30.79it/s]"
     ]
    },
    {
     "name": "stdout",
     "output_type": "stream",
     "text": [
      "m +/- merr: 1.962223 +/- 2.038464 [10^(-3), 3sigma]\n",
      "c +/- cerr: 6.980619 +/- 94.463376 [10^(-5), 3sigma]\n"
     ]
    },
    {
     "name": "stderr",
     "output_type": "stream",
     "text": [
      " 43%|██████████████▉                    | 42517/100000 [27:11<31:53, 30.04it/s]"
     ]
    },
    {
     "name": "stdout",
     "output_type": "stream",
     "text": [
      "m +/- merr: 1.993767 +/- 2.802366 [10^(-3), 3sigma]\n",
      "c +/- cerr: 2.374280 +/- 81.990255 [10^(-5), 3sigma]\n"
     ]
    },
    {
     "name": "stderr",
     "output_type": "stream",
     "text": [
      " 43%|███████████████                    | 43018/100000 [27:30<29:18, 32.40it/s]"
     ]
    },
    {
     "name": "stdout",
     "output_type": "stream",
     "text": [
      "m +/- merr: 1.974515 +/- 2.068411 [10^(-3), 3sigma]\n",
      "c +/- cerr: 0.819376 +/- 59.515526 [10^(-5), 3sigma]\n"
     ]
    },
    {
     "name": "stderr",
     "output_type": "stream",
     "text": [
      " 44%|███████████████▏                   | 43517/100000 [27:49<31:34, 29.82it/s]"
     ]
    },
    {
     "name": "stdout",
     "output_type": "stream",
     "text": [
      "m +/- merr: 1.820701 +/- 2.186536 [10^(-3), 3sigma]\n",
      "c +/- cerr: 0.643105 +/- 67.543132 [10^(-5), 3sigma]\n"
     ]
    },
    {
     "name": "stderr",
     "output_type": "stream",
     "text": [
      " 44%|███████████████▍                   | 44016/100000 [28:08<30:39, 30.44it/s]"
     ]
    },
    {
     "name": "stdout",
     "output_type": "stream",
     "text": [
      "m +/- merr: 1.872969 +/- 2.001789 [10^(-3), 3sigma]\n",
      "c +/- cerr: 1.747346 +/- 57.422606 [10^(-5), 3sigma]\n"
     ]
    },
    {
     "name": "stderr",
     "output_type": "stream",
     "text": [
      " 45%|███████████████▌                   | 44517/100000 [28:27<28:19, 32.64it/s]"
     ]
    },
    {
     "name": "stdout",
     "output_type": "stream",
     "text": [
      "m +/- merr: 1.871649 +/- 2.561761 [10^(-3), 3sigma]\n",
      "c +/- cerr: 2.668032 +/- 61.820799 [10^(-5), 3sigma]\n"
     ]
    },
    {
     "name": "stderr",
     "output_type": "stream",
     "text": [
      " 45%|███████████████▊                   | 45023/100000 [28:47<27:48, 32.95it/s]"
     ]
    },
    {
     "name": "stdout",
     "output_type": "stream",
     "text": [
      "m +/- merr: 1.997225 +/- 2.010648 [10^(-3), 3sigma]\n",
      "c +/- cerr: 1.020021 +/- 52.849641 [10^(-5), 3sigma]\n"
     ]
    },
    {
     "name": "stderr",
     "output_type": "stream",
     "text": [
      " 46%|███████████████▉                   | 45525/100000 [29:06<26:47, 33.90it/s]"
     ]
    },
    {
     "name": "stdout",
     "output_type": "stream",
     "text": [
      "m +/- merr: 1.964689 +/- 2.338969 [10^(-3), 3sigma]\n",
      "c +/- cerr: 3.573003 +/- 64.311527 [10^(-5), 3sigma]\n"
     ]
    },
    {
     "name": "stderr",
     "output_type": "stream",
     "text": [
      " 46%|████████████████                   | 46023/100000 [29:25<30:56, 29.07it/s]"
     ]
    },
    {
     "name": "stdout",
     "output_type": "stream",
     "text": [
      "m +/- merr: 1.931133 +/- 2.056585 [10^(-3), 3sigma]\n",
      "c +/- cerr: 4.397304 +/- 61.088996 [10^(-5), 3sigma]\n"
     ]
    },
    {
     "name": "stderr",
     "output_type": "stream",
     "text": [
      " 47%|████████████████▎                  | 46523/100000 [29:44<26:19, 33.87it/s]"
     ]
    },
    {
     "name": "stdout",
     "output_type": "stream",
     "text": [
      "m +/- merr: 1.957650 +/- 1.890277 [10^(-3), 3sigma]\n",
      "c +/- cerr: 5.402173 +/- 85.655163 [10^(-5), 3sigma]\n"
     ]
    },
    {
     "name": "stderr",
     "output_type": "stream",
     "text": [
      " 47%|████████████████▍                  | 47018/100000 [30:03<28:48, 30.65it/s]"
     ]
    },
    {
     "name": "stdout",
     "output_type": "stream",
     "text": [
      "m +/- merr: 1.790554 +/- 2.090101 [10^(-3), 3sigma]\n",
      "c +/- cerr: 5.066474 +/- 64.251610 [10^(-5), 3sigma]\n"
     ]
    },
    {
     "name": "stderr",
     "output_type": "stream",
     "text": [
      " 48%|███████████████▋                 | 47501/100000 [30:22<1:06:51, 13.09it/s]"
     ]
    },
    {
     "name": "stdout",
     "output_type": "stream",
     "text": [
      "m +/- merr: 1.855186 +/- 1.872742 [10^(-3), 3sigma]\n",
      "c +/- cerr: 2.830511 +/- 57.830809 [10^(-5), 3sigma]\n"
     ]
    },
    {
     "name": "stderr",
     "output_type": "stream",
     "text": [
      " 48%|████████████████▊                  | 48017/100000 [30:42<27:24, 31.61it/s]"
     ]
    },
    {
     "name": "stdout",
     "output_type": "stream",
     "text": [
      "m +/- merr: 1.775267 +/- 1.943393 [10^(-3), 3sigma]\n",
      "c +/- cerr: 3.995462 +/- 44.245171 [10^(-5), 3sigma]\n"
     ]
    },
    {
     "name": "stderr",
     "output_type": "stream",
     "text": [
      " 49%|████████████████▉                  | 48517/100000 [31:01<27:42, 30.97it/s]"
     ]
    },
    {
     "name": "stdout",
     "output_type": "stream",
     "text": [
      "m +/- merr: 1.834900 +/- 2.014441 [10^(-3), 3sigma]\n",
      "c +/- cerr: 3.540545 +/- 42.294467 [10^(-5), 3sigma]\n"
     ]
    },
    {
     "name": "stderr",
     "output_type": "stream",
     "text": [
      " 49%|█████████████████▏                 | 49016/100000 [31:20<29:56, 28.37it/s]"
     ]
    },
    {
     "name": "stdout",
     "output_type": "stream",
     "text": [
      "m +/- merr: 1.837118 +/- 1.940338 [10^(-3), 3sigma]\n",
      "c +/- cerr: 4.945879 +/- 42.500082 [10^(-5), 3sigma]\n"
     ]
    },
    {
     "name": "stderr",
     "output_type": "stream",
     "text": [
      " 50%|█████████████████▎                 | 49519/100000 [31:39<27:06, 31.04it/s]"
     ]
    },
    {
     "name": "stdout",
     "output_type": "stream",
     "text": [
      "m +/- merr: 1.910371 +/- 1.839921 [10^(-3), 3sigma]\n",
      "c +/- cerr: 4.551406 +/- 46.240544 [10^(-5), 3sigma]\n"
     ]
    },
    {
     "name": "stderr",
     "output_type": "stream",
     "text": [
      " 50%|█████████████████▌                 | 50022/100000 [31:59<26:55, 30.93it/s]"
     ]
    },
    {
     "name": "stdout",
     "output_type": "stream",
     "text": [
      "m +/- merr: 1.844557 +/- 1.891518 [10^(-3), 3sigma]\n",
      "c +/- cerr: 3.129681 +/- 36.958204 [10^(-5), 3sigma]\n"
     ]
    },
    {
     "name": "stderr",
     "output_type": "stream",
     "text": [
      " 51%|█████████████████▋                 | 50523/100000 [32:18<25:00, 32.97it/s]"
     ]
    },
    {
     "name": "stdout",
     "output_type": "stream",
     "text": [
      "m +/- merr: 1.809745 +/- 1.800527 [10^(-3), 3sigma]\n",
      "c +/- cerr: 3.710757 +/- 41.662138 [10^(-5), 3sigma]\n"
     ]
    },
    {
     "name": "stderr",
     "output_type": "stream",
     "text": [
      " 51%|█████████████████▊                 | 51020/100000 [32:37<26:10, 31.18it/s]"
     ]
    },
    {
     "name": "stdout",
     "output_type": "stream",
     "text": [
      "m +/- merr: 1.734277 +/- 1.799231 [10^(-3), 3sigma]\n",
      "c +/- cerr: 6.634078 +/- 46.061685 [10^(-5), 3sigma]\n"
     ]
    },
    {
     "name": "stderr",
     "output_type": "stream",
     "text": [
      " 52%|██████████████████                 | 51528/100000 [32:56<25:13, 32.02it/s]"
     ]
    },
    {
     "name": "stdout",
     "output_type": "stream",
     "text": [
      "m +/- merr: 1.848811 +/- 2.922675 [10^(-3), 3sigma]\n",
      "c +/- cerr: 6.384571 +/- 49.881778 [10^(-5), 3sigma]\n"
     ]
    },
    {
     "name": "stderr",
     "output_type": "stream",
     "text": [
      " 52%|██████████████████▏                | 52025/100000 [33:15<24:47, 32.26it/s]"
     ]
    },
    {
     "name": "stdout",
     "output_type": "stream",
     "text": [
      "m +/- merr: 1.935875 +/- 1.817616 [10^(-3), 3sigma]\n",
      "c +/- cerr: 5.684319 +/- 43.298200 [10^(-5), 3sigma]\n"
     ]
    },
    {
     "name": "stderr",
     "output_type": "stream",
     "text": [
      " 53%|██████████████████▍                | 52523/100000 [33:34<24:10, 32.72it/s]"
     ]
    },
    {
     "name": "stdout",
     "output_type": "stream",
     "text": [
      "m +/- merr: 1.881255 +/- 1.773188 [10^(-3), 3sigma]\n",
      "c +/- cerr: 7.742188 +/- 55.409311 [10^(-5), 3sigma]\n"
     ]
    },
    {
     "name": "stderr",
     "output_type": "stream",
     "text": [
      " 53%|██████████████████▌                | 53028/100000 [33:53<24:08, 32.44it/s]"
     ]
    },
    {
     "name": "stdout",
     "output_type": "stream",
     "text": [
      "m +/- merr: 1.859011 +/- 1.840906 [10^(-3), 3sigma]\n",
      "c +/- cerr: 10.266369 +/- 66.852006 [10^(-5), 3sigma]\n"
     ]
    },
    {
     "name": "stderr",
     "output_type": "stream",
     "text": [
      " 54%|██████████████████▋                | 53515/100000 [34:12<26:14, 29.52it/s]"
     ]
    },
    {
     "name": "stdout",
     "output_type": "stream",
     "text": [
      "m +/- merr: 1.831543 +/- 2.252059 [10^(-3), 3sigma]\n",
      "c +/- cerr: 9.347296 +/- 62.582342 [10^(-5), 3sigma]\n"
     ]
    },
    {
     "name": "stderr",
     "output_type": "stream",
     "text": [
      " 54%|██████████████████▉                | 54021/100000 [34:31<24:33, 31.20it/s]"
     ]
    },
    {
     "name": "stdout",
     "output_type": "stream",
     "text": [
      "m +/- merr: 1.882221 +/- 1.833323 [10^(-3), 3sigma]\n",
      "c +/- cerr: 6.418136 +/- 55.483668 [10^(-5), 3sigma]\n"
     ]
    },
    {
     "name": "stderr",
     "output_type": "stream",
     "text": [
      " 55%|███████████████████                | 54515/100000 [34:50<25:03, 30.25it/s]"
     ]
    },
    {
     "name": "stdout",
     "output_type": "stream",
     "text": [
      "m +/- merr: 1.882488 +/- 2.033412 [10^(-3), 3sigma]\n",
      "c +/- cerr: 5.940401 +/- 50.760016 [10^(-5), 3sigma]\n"
     ]
    },
    {
     "name": "stderr",
     "output_type": "stream",
     "text": [
      " 55%|███████████████████▎               | 55023/100000 [35:10<23:25, 32.00it/s]"
     ]
    },
    {
     "name": "stdout",
     "output_type": "stream",
     "text": [
      "m +/- merr: 2.036953 +/- 1.808195 [10^(-3), 3sigma]\n",
      "c +/- cerr: 6.629663 +/- 52.587706 [10^(-5), 3sigma]\n"
     ]
    },
    {
     "name": "stderr",
     "output_type": "stream",
     "text": [
      " 56%|███████████████████▍               | 55522/100000 [35:29<24:20, 30.45it/s]"
     ]
    },
    {
     "name": "stdout",
     "output_type": "stream",
     "text": [
      "m +/- merr: 2.023762 +/- 1.811647 [10^(-3), 3sigma]\n",
      "c +/- cerr: 5.969146 +/- 71.494935 [10^(-5), 3sigma]\n"
     ]
    },
    {
     "name": "stderr",
     "output_type": "stream",
     "text": [
      " 56%|███████████████████▌               | 56023/100000 [35:48<22:02, 33.26it/s]"
     ]
    },
    {
     "name": "stdout",
     "output_type": "stream",
     "text": [
      "m +/- merr: 1.994540 +/- 1.704482 [10^(-3), 3sigma]\n",
      "c +/- cerr: 5.067687 +/- 51.483037 [10^(-5), 3sigma]\n"
     ]
    },
    {
     "name": "stderr",
     "output_type": "stream",
     "text": [
      " 56%|███████████████████▊               | 56500/100000 [36:07<59:51, 12.11it/s]"
     ]
    },
    {
     "name": "stdout",
     "output_type": "stream",
     "text": [
      "m +/- merr: 1.913581 +/- 1.745032 [10^(-3), 3sigma]\n",
      "c +/- cerr: 3.931089 +/- 43.582717 [10^(-5), 3sigma]\n"
     ]
    },
    {
     "name": "stderr",
     "output_type": "stream",
     "text": [
      " 57%|███████████████████▉               | 57018/100000 [36:27<25:34, 28.00it/s]"
     ]
    },
    {
     "name": "stdout",
     "output_type": "stream",
     "text": [
      "m +/- merr: 1.896552 +/- 1.764963 [10^(-3), 3sigma]\n",
      "c +/- cerr: 5.453422 +/- 50.585922 [10^(-5), 3sigma]\n"
     ]
    },
    {
     "name": "stderr",
     "output_type": "stream",
     "text": [
      " 58%|████████████████████▏              | 57512/100000 [36:46<28:13, 25.10it/s]"
     ]
    },
    {
     "name": "stdout",
     "output_type": "stream",
     "text": [
      "m +/- merr: 1.791767 +/- 1.846124 [10^(-3), 3sigma]\n",
      "c +/- cerr: 2.525592 +/- 50.716998 [10^(-5), 3sigma]\n"
     ]
    },
    {
     "name": "stderr",
     "output_type": "stream",
     "text": [
      " 58%|████████████████████▎              | 58025/100000 [37:05<22:05, 31.67it/s]"
     ]
    },
    {
     "name": "stdout",
     "output_type": "stream",
     "text": [
      "m +/- merr: 1.846789 +/- 1.731191 [10^(-3), 3sigma]\n",
      "c +/- cerr: 2.957333 +/- 51.841328 [10^(-5), 3sigma]\n"
     ]
    },
    {
     "name": "stderr",
     "output_type": "stream",
     "text": [
      " 59%|████████████████████▍              | 58522/100000 [37:24<23:26, 29.49it/s]"
     ]
    },
    {
     "name": "stdout",
     "output_type": "stream",
     "text": [
      "m +/- merr: 1.826806 +/- 1.836075 [10^(-3), 3sigma]\n",
      "c +/- cerr: 3.061489 +/- 42.649809 [10^(-5), 3sigma]\n"
     ]
    },
    {
     "name": "stderr",
     "output_type": "stream",
     "text": [
      " 59%|████████████████████▋              | 59024/100000 [37:44<20:29, 33.33it/s]"
     ]
    },
    {
     "name": "stdout",
     "output_type": "stream",
     "text": [
      "m +/- merr: 1.802704 +/- 1.655977 [10^(-3), 3sigma]\n",
      "c +/- cerr: 4.227796 +/- 41.927245 [10^(-5), 3sigma]\n"
     ]
    },
    {
     "name": "stderr",
     "output_type": "stream",
     "text": [
      " 60%|████████████████████▊              | 59530/100000 [38:03<19:28, 34.64it/s]"
     ]
    },
    {
     "name": "stdout",
     "output_type": "stream",
     "text": [
      "m +/- merr: 1.803562 +/- 1.611010 [10^(-3), 3sigma]\n",
      "c +/- cerr: 6.304530 +/- 46.324204 [10^(-5), 3sigma]\n"
     ]
    },
    {
     "name": "stderr",
     "output_type": "stream",
     "text": [
      " 60%|█████████████████████              | 60015/100000 [38:21<24:23, 27.33it/s]"
     ]
    },
    {
     "name": "stdout",
     "output_type": "stream",
     "text": [
      "m +/- merr: 1.791530 +/- 1.654397 [10^(-3), 3sigma]\n",
      "c +/- cerr: 4.143495 +/- 36.555073 [10^(-5), 3sigma]\n"
     ]
    },
    {
     "name": "stderr",
     "output_type": "stream",
     "text": [
      " 61%|█████████████████████▏             | 60527/100000 [38:41<21:12, 31.02it/s]"
     ]
    },
    {
     "name": "stdout",
     "output_type": "stream",
     "text": [
      "m +/- merr: 1.765736 +/- 2.071904 [10^(-3), 3sigma]\n",
      "c +/- cerr: 3.179175 +/- 36.750294 [10^(-5), 3sigma]\n"
     ]
    },
    {
     "name": "stderr",
     "output_type": "stream",
     "text": [
      " 61%|█████████████████████▎             | 61020/100000 [39:00<22:17, 29.13it/s]"
     ]
    },
    {
     "name": "stdout",
     "output_type": "stream",
     "text": [
      "m +/- merr: 1.673579 +/- 1.696063 [10^(-3), 3sigma]\n",
      "c +/- cerr: 4.121319 +/- 35.461234 [10^(-5), 3sigma]\n"
     ]
    },
    {
     "name": "stderr",
     "output_type": "stream",
     "text": [
      " 62%|█████████████████████▌             | 61526/100000 [39:19<19:23, 33.07it/s]"
     ]
    },
    {
     "name": "stdout",
     "output_type": "stream",
     "text": [
      "m +/- merr: 1.604396 +/- 1.885920 [10^(-3), 3sigma]\n",
      "c +/- cerr: 5.354491 +/- 38.297547 [10^(-5), 3sigma]\n"
     ]
    },
    {
     "name": "stderr",
     "output_type": "stream",
     "text": [
      " 62%|█████████████████████▋             | 62020/100000 [39:37<20:22, 31.06it/s]"
     ]
    },
    {
     "name": "stdout",
     "output_type": "stream",
     "text": [
      "m +/- merr: 1.615407 +/- 1.740212 [10^(-3), 3sigma]\n",
      "c +/- cerr: 8.673110 +/- 40.462602 [10^(-5), 3sigma]\n"
     ]
    },
    {
     "name": "stderr",
     "output_type": "stream",
     "text": [
      " 63%|█████████████████████▉             | 62530/100000 [39:57<19:22, 32.23it/s]"
     ]
    },
    {
     "name": "stdout",
     "output_type": "stream",
     "text": [
      "m +/- merr: 1.586262 +/- 1.875339 [10^(-3), 3sigma]\n",
      "c +/- cerr: 8.664839 +/- 40.289294 [10^(-5), 3sigma]\n"
     ]
    },
    {
     "name": "stderr",
     "output_type": "stream",
     "text": [
      " 63%|██████████████████████             | 63018/100000 [40:16<21:09, 29.14it/s]"
     ]
    },
    {
     "name": "stdout",
     "output_type": "stream",
     "text": [
      "m +/- merr: 1.608780 +/- 1.608479 [10^(-3), 3sigma]\n",
      "c +/- cerr: 7.251378 +/- 35.265095 [10^(-5), 3sigma]\n"
     ]
    },
    {
     "name": "stderr",
     "output_type": "stream",
     "text": [
      " 64%|██████████████████████▏            | 63523/100000 [40:35<19:28, 31.21it/s]"
     ]
    },
    {
     "name": "stdout",
     "output_type": "stream",
     "text": [
      "m +/- merr: 1.650251 +/- 2.103358 [10^(-3), 3sigma]\n",
      "c +/- cerr: 6.918036 +/- 36.968784 [10^(-5), 3sigma]\n"
     ]
    },
    {
     "name": "stderr",
     "output_type": "stream",
     "text": [
      " 64%|██████████████████████▍            | 64017/100000 [40:54<21:26, 27.97it/s]"
     ]
    },
    {
     "name": "stdout",
     "output_type": "stream",
     "text": [
      "m +/- merr: 1.600882 +/- 1.646262 [10^(-3), 3sigma]\n",
      "c +/- cerr: 6.448677 +/- 36.076473 [10^(-5), 3sigma]\n"
     ]
    },
    {
     "name": "stderr",
     "output_type": "stream",
     "text": [
      " 65%|██████████████████████▌            | 64525/100000 [41:13<18:06, 32.66it/s]"
     ]
    },
    {
     "name": "stdout",
     "output_type": "stream",
     "text": [
      "m +/- merr: 1.565875 +/- 1.620327 [10^(-3), 3sigma]\n",
      "c +/- cerr: 6.886704 +/- 39.249535 [10^(-5), 3sigma]\n"
     ]
    },
    {
     "name": "stderr",
     "output_type": "stream",
     "text": [
      " 65%|██████████████████████▊            | 65000/100000 [41:32<50:42, 11.50it/s]"
     ]
    },
    {
     "name": "stdout",
     "output_type": "stream",
     "text": [
      "m +/- merr: 1.519421 +/- 1.687715 [10^(-3), 3sigma]\n",
      "c +/- cerr: 6.509761 +/- 40.667313 [10^(-5), 3sigma]\n"
     ]
    },
    {
     "name": "stderr",
     "output_type": "stream",
     "text": [
      " 66%|██████████████████████▉            | 65520/100000 [41:52<18:36, 30.89it/s]"
     ]
    },
    {
     "name": "stdout",
     "output_type": "stream",
     "text": [
      "m +/- merr: 1.411010 +/- 1.777491 [10^(-3), 3sigma]\n",
      "c +/- cerr: 6.780527 +/- 46.534009 [10^(-5), 3sigma]\n"
     ]
    },
    {
     "name": "stderr",
     "output_type": "stream",
     "text": [
      " 66%|███████████████████████            | 66028/100000 [42:12<18:30, 30.60it/s]"
     ]
    },
    {
     "name": "stdout",
     "output_type": "stream",
     "text": [
      "m +/- merr: 1.311695 +/- 1.589137 [10^(-3), 3sigma]\n",
      "c +/- cerr: 5.864669 +/- 46.158646 [10^(-5), 3sigma]\n"
     ]
    },
    {
     "name": "stderr",
     "output_type": "stream",
     "text": [
      " 67%|███████████████████████▎           | 66526/100000 [42:31<16:48, 33.21it/s]"
     ]
    },
    {
     "name": "stdout",
     "output_type": "stream",
     "text": [
      "m +/- merr: 1.292144 +/- 1.672425 [10^(-3), 3sigma]\n",
      "c +/- cerr: 6.451239 +/- 49.961640 [10^(-5), 3sigma]\n"
     ]
    },
    {
     "name": "stderr",
     "output_type": "stream",
     "text": [
      " 67%|███████████████████████▍           | 67018/100000 [42:50<18:00, 30.54it/s]"
     ]
    },
    {
     "name": "stdout",
     "output_type": "stream",
     "text": [
      "m +/- merr: 1.303164 +/- 1.635474 [10^(-3), 3sigma]\n",
      "c +/- cerr: 6.250953 +/- 47.763237 [10^(-5), 3sigma]\n"
     ]
    },
    {
     "name": "stderr",
     "output_type": "stream",
     "text": [
      " 68%|███████████████████████▋           | 67520/100000 [43:09<18:22, 29.46it/s]"
     ]
    },
    {
     "name": "stdout",
     "output_type": "stream",
     "text": [
      "m +/- merr: 1.220600 +/- 1.981205 [10^(-3), 3sigma]\n",
      "c +/- cerr: 5.445612 +/- 61.848669 [10^(-5), 3sigma]\n"
     ]
    },
    {
     "name": "stderr",
     "output_type": "stream",
     "text": [
      " 68%|███████████████████████▊           | 68000/100000 [43:29<59:02,  9.03it/s]"
     ]
    },
    {
     "name": "stdout",
     "output_type": "stream",
     "text": [
      "m +/- merr: 1.209563 +/- 1.518792 [10^(-3), 3sigma]\n",
      "c +/- cerr: 4.824807 +/- 45.559037 [10^(-5), 3sigma]\n"
     ]
    },
    {
     "name": "stderr",
     "output_type": "stream",
     "text": [
      " 69%|███████████████████████▉           | 68523/100000 [43:48<17:28, 30.03it/s]"
     ]
    },
    {
     "name": "stdout",
     "output_type": "stream",
     "text": [
      "m +/- merr: 1.189060 +/- 1.589431 [10^(-3), 3sigma]\n",
      "c +/- cerr: 5.869106 +/- 44.755489 [10^(-5), 3sigma]\n"
     ]
    },
    {
     "name": "stderr",
     "output_type": "stream",
     "text": [
      " 69%|████████████████████████▏          | 69027/100000 [44:08<15:45, 32.76it/s]"
     ]
    },
    {
     "name": "stdout",
     "output_type": "stream",
     "text": [
      "m +/- merr: 1.267385 +/- 1.598410 [10^(-3), 3sigma]\n",
      "c +/- cerr: 4.949204 +/- 42.737536 [10^(-5), 3sigma]\n"
     ]
    },
    {
     "name": "stderr",
     "output_type": "stream",
     "text": [
      " 70%|████████████████████████▎          | 69526/100000 [44:27<15:27, 32.85it/s]"
     ]
    },
    {
     "name": "stdout",
     "output_type": "stream",
     "text": [
      "m +/- merr: 1.289225 +/- 1.666149 [10^(-3), 3sigma]\n",
      "c +/- cerr: 6.058623 +/- 64.358211 [10^(-5), 3sigma]\n"
     ]
    },
    {
     "name": "stderr",
     "output_type": "stream",
     "text": [
      " 70%|████████████████████████▌          | 70024/100000 [44:46<16:26, 30.39it/s]"
     ]
    },
    {
     "name": "stdout",
     "output_type": "stream",
     "text": [
      "m +/- merr: 1.231729 +/- 1.545508 [10^(-3), 3sigma]\n",
      "c +/- cerr: 6.316501 +/- 48.817334 [10^(-5), 3sigma]\n"
     ]
    },
    {
     "name": "stderr",
     "output_type": "stream",
     "text": [
      " 71%|████████████████████████▋          | 70502/100000 [45:05<50:54,  9.66it/s]"
     ]
    },
    {
     "name": "stdout",
     "output_type": "stream",
     "text": [
      "m +/- merr: 1.137910 +/- 1.616343 [10^(-3), 3sigma]\n",
      "c +/- cerr: 4.154459 +/- 57.513310 [10^(-5), 3sigma]\n"
     ]
    },
    {
     "name": "stderr",
     "output_type": "stream",
     "text": [
      " 71%|████████████████████████▊          | 71032/100000 [45:25<14:10, 34.07it/s]"
     ]
    },
    {
     "name": "stdout",
     "output_type": "stream",
     "text": [
      "m +/- merr: 1.123457 +/- 1.566795 [10^(-3), 3sigma]\n",
      "c +/- cerr: 7.956329 +/- 52.703673 [10^(-5), 3sigma]\n"
     ]
    },
    {
     "name": "stderr",
     "output_type": "stream",
     "text": [
      " 72%|█████████████████████████          | 71528/100000 [45:44<14:33, 32.60it/s]"
     ]
    },
    {
     "name": "stdout",
     "output_type": "stream",
     "text": [
      "m +/- merr: 1.075017 +/- 1.737900 [10^(-3), 3sigma]\n",
      "c +/- cerr: 6.851804 +/- 54.159937 [10^(-5), 3sigma]\n"
     ]
    },
    {
     "name": "stderr",
     "output_type": "stream",
     "text": [
      " 72%|█████████████████████████▏         | 72028/100000 [46:03<14:14, 32.72it/s]"
     ]
    },
    {
     "name": "stdout",
     "output_type": "stream",
     "text": [
      "m +/- merr: 1.069541 +/- 1.590678 [10^(-3), 3sigma]\n",
      "c +/- cerr: 8.409149 +/- 50.921071 [10^(-5), 3sigma]\n"
     ]
    },
    {
     "name": "stderr",
     "output_type": "stream",
     "text": [
      " 73%|█████████████████████████▍         | 72530/100000 [46:22<14:10, 32.30it/s]"
     ]
    },
    {
     "name": "stdout",
     "output_type": "stream",
     "text": [
      "m +/- merr: 1.113230 +/- 1.570582 [10^(-3), 3sigma]\n",
      "c +/- cerr: 8.138405 +/- 54.458346 [10^(-5), 3sigma]\n"
     ]
    },
    {
     "name": "stderr",
     "output_type": "stream",
     "text": [
      " 73%|█████████████████████████▌         | 73002/100000 [46:41<50:12,  8.96it/s]"
     ]
    },
    {
     "name": "stdout",
     "output_type": "stream",
     "text": [
      "m +/- merr: 1.161183 +/- 1.527905 [10^(-3), 3sigma]\n",
      "c +/- cerr: 7.704208 +/- 42.276458 [10^(-5), 3sigma]\n"
     ]
    },
    {
     "name": "stderr",
     "output_type": "stream",
     "text": [
      " 74%|█████████████████████████▋         | 73520/100000 [47:00<14:32, 30.35it/s]"
     ]
    },
    {
     "name": "stdout",
     "output_type": "stream",
     "text": [
      "m +/- merr: 1.222397 +/- 2.024550 [10^(-3), 3sigma]\n",
      "c +/- cerr: 11.016636 +/- 56.939558 [10^(-5), 3sigma]\n"
     ]
    },
    {
     "name": "stderr",
     "output_type": "stream",
     "text": [
      " 74%|█████████████████████████▉         | 74026/100000 [47:19<13:48, 31.35it/s]"
     ]
    },
    {
     "name": "stdout",
     "output_type": "stream",
     "text": [
      "m +/- merr: 1.251915 +/- 1.393510 [10^(-3), 3sigma]\n",
      "c +/- cerr: 13.350837 +/- 58.211153 [10^(-5), 3sigma]\n"
     ]
    },
    {
     "name": "stderr",
     "output_type": "stream",
     "text": [
      " 75%|██████████████████████████         | 74524/100000 [47:38<13:43, 30.95it/s]"
     ]
    },
    {
     "name": "stdout",
     "output_type": "stream",
     "text": [
      "m +/- merr: 1.138688 +/- 1.572298 [10^(-3), 3sigma]\n",
      "c +/- cerr: 16.211013 +/- 71.510404 [10^(-5), 3sigma]\n"
     ]
    },
    {
     "name": "stderr",
     "output_type": "stream",
     "text": [
      " 75%|██████████████████████████▎        | 75033/100000 [47:57<13:25, 30.98it/s]"
     ]
    },
    {
     "name": "stdout",
     "output_type": "stream",
     "text": [
      "m +/- merr: 1.129528 +/- 1.546978 [10^(-3), 3sigma]\n",
      "c +/- cerr: 15.846516 +/- 77.655273 [10^(-5), 3sigma]\n"
     ]
    },
    {
     "name": "stderr",
     "output_type": "stream",
     "text": [
      " 76%|██████████████████████████▍        | 75529/100000 [48:16<12:09, 33.52it/s]"
     ]
    },
    {
     "name": "stdout",
     "output_type": "stream",
     "text": [
      "m +/- merr: 1.174085 +/- 1.588129 [10^(-3), 3sigma]\n",
      "c +/- cerr: 16.266063 +/- 86.820324 [10^(-5), 3sigma]\n"
     ]
    },
    {
     "name": "stderr",
     "output_type": "stream",
     "text": [
      " 76%|██████████████████████████▌        | 76030/100000 [48:35<12:34, 31.77it/s]"
     ]
    },
    {
     "name": "stdout",
     "output_type": "stream",
     "text": [
      "m +/- merr: 1.186857 +/- 1.535916 [10^(-3), 3sigma]\n",
      "c +/- cerr: 15.377113 +/- 75.139267 [10^(-5), 3sigma]\n"
     ]
    },
    {
     "name": "stderr",
     "output_type": "stream",
     "text": [
      " 77%|██████████████████████████▊        | 76524/100000 [48:54<12:35, 31.09it/s]"
     ]
    },
    {
     "name": "stdout",
     "output_type": "stream",
     "text": [
      "m +/- merr: 1.169774 +/- 1.526238 [10^(-3), 3sigma]\n",
      "c +/- cerr: 15.758427 +/- 80.051379 [10^(-5), 3sigma]\n"
     ]
    },
    {
     "name": "stderr",
     "output_type": "stream",
     "text": [
      " 77%|██████████████████████████▉        | 77029/100000 [49:13<11:38, 32.89it/s]"
     ]
    },
    {
     "name": "stdout",
     "output_type": "stream",
     "text": [
      "m +/- merr: 1.111116 +/- 1.550317 [10^(-3), 3sigma]\n",
      "c +/- cerr: 19.821927 +/- 110.590350 [10^(-5), 3sigma]\n"
     ]
    },
    {
     "name": "stderr",
     "output_type": "stream",
     "text": [
      " 78%|███████████████████████████▏       | 77527/100000 [49:32<11:12, 33.42it/s]"
     ]
    },
    {
     "name": "stdout",
     "output_type": "stream",
     "text": [
      "m +/- merr: 1.080111 +/- 1.523890 [10^(-3), 3sigma]\n",
      "c +/- cerr: 23.410903 +/- 165.980839 [10^(-5), 3sigma]\n"
     ]
    },
    {
     "name": "stderr",
     "output_type": "stream",
     "text": [
      " 78%|███████████████████████████▎       | 78025/100000 [49:51<11:41, 31.34it/s]"
     ]
    },
    {
     "name": "stdout",
     "output_type": "stream",
     "text": [
      "m +/- merr: 1.031805 +/- 1.465796 [10^(-3), 3sigma]\n",
      "c +/- cerr: 21.840812 +/- 113.198144 [10^(-5), 3sigma]\n"
     ]
    },
    {
     "name": "stderr",
     "output_type": "stream",
     "text": [
      " 79%|███████████████████████████▍       | 78534/100000 [50:11<10:46, 33.20it/s]"
     ]
    },
    {
     "name": "stdout",
     "output_type": "stream",
     "text": [
      "m +/- merr: 0.990141 +/- 1.687722 [10^(-3), 3sigma]\n",
      "c +/- cerr: 19.597255 +/- 105.649183 [10^(-5), 3sigma]\n"
     ]
    },
    {
     "name": "stderr",
     "output_type": "stream",
     "text": [
      " 79%|███████████████████████████▋       | 79023/100000 [50:29<11:20, 30.83it/s]"
     ]
    },
    {
     "name": "stdout",
     "output_type": "stream",
     "text": [
      "m +/- merr: 1.004592 +/- 1.425505 [10^(-3), 3sigma]\n",
      "c +/- cerr: 18.171557 +/- 95.674610 [10^(-5), 3sigma]\n"
     ]
    },
    {
     "name": "stderr",
     "output_type": "stream",
     "text": [
      " 80%|███████████████████████████▊       | 79522/100000 [50:48<10:54, 31.30it/s]"
     ]
    },
    {
     "name": "stdout",
     "output_type": "stream",
     "text": [
      "m +/- merr: 1.060608 +/- 1.566833 [10^(-3), 3sigma]\n",
      "c +/- cerr: 17.951614 +/- 81.914906 [10^(-5), 3sigma]\n"
     ]
    },
    {
     "name": "stderr",
     "output_type": "stream",
     "text": [
      " 80%|████████████████████████████       | 80024/100000 [51:07<10:37, 31.35it/s]"
     ]
    },
    {
     "name": "stdout",
     "output_type": "stream",
     "text": [
      "m +/- merr: 1.107585 +/- 1.516302 [10^(-3), 3sigma]\n",
      "c +/- cerr: 14.565292 +/- 70.771233 [10^(-5), 3sigma]\n"
     ]
    },
    {
     "name": "stderr",
     "output_type": "stream",
     "text": [
      " 81%|████████████████████████████▏      | 80528/100000 [51:26<09:50, 32.97it/s]"
     ]
    },
    {
     "name": "stdout",
     "output_type": "stream",
     "text": [
      "m +/- merr: 1.092664 +/- 1.532816 [10^(-3), 3sigma]\n",
      "c +/- cerr: 17.933568 +/- 95.460845 [10^(-5), 3sigma]\n"
     ]
    },
    {
     "name": "stderr",
     "output_type": "stream",
     "text": [
      " 81%|████████████████████████████▎      | 81036/100000 [51:45<09:28, 33.39it/s]"
     ]
    },
    {
     "name": "stdout",
     "output_type": "stream",
     "text": [
      "m +/- merr: 1.159893 +/- 1.517310 [10^(-3), 3sigma]\n",
      "c +/- cerr: 17.808226 +/- 80.656419 [10^(-5), 3sigma]\n"
     ]
    },
    {
     "name": "stderr",
     "output_type": "stream",
     "text": [
      " 82%|████████████████████████████▌      | 81526/100000 [52:04<09:54, 31.05it/s]"
     ]
    },
    {
     "name": "stdout",
     "output_type": "stream",
     "text": [
      "m +/- merr: 1.161236 +/- 1.552259 [10^(-3), 3sigma]\n",
      "c +/- cerr: 19.170990 +/- 92.440486 [10^(-5), 3sigma]\n"
     ]
    },
    {
     "name": "stderr",
     "output_type": "stream",
     "text": [
      " 82%|████████████████████████████▋      | 82030/100000 [52:23<09:26, 31.73it/s]"
     ]
    },
    {
     "name": "stdout",
     "output_type": "stream",
     "text": [
      "m +/- merr: 1.160132 +/- 1.499163 [10^(-3), 3sigma]\n",
      "c +/- cerr: 20.147418 +/- 80.926852 [10^(-5), 3sigma]\n"
     ]
    },
    {
     "name": "stderr",
     "output_type": "stream",
     "text": [
      " 83%|████████████████████████████▉      | 82530/100000 [52:42<08:41, 33.52it/s]"
     ]
    },
    {
     "name": "stdout",
     "output_type": "stream",
     "text": [
      "m +/- merr: 1.144002 +/- 1.513154 [10^(-3), 3sigma]\n",
      "c +/- cerr: 18.812651 +/- 78.490124 [10^(-5), 3sigma]\n"
     ]
    },
    {
     "name": "stderr",
     "output_type": "stream",
     "text": [
      " 83%|█████████████████████████████      | 83032/100000 [53:01<08:41, 32.53it/s]"
     ]
    },
    {
     "name": "stdout",
     "output_type": "stream",
     "text": [
      "m +/- merr: 1.155926 +/- 1.435818 [10^(-3), 3sigma]\n",
      "c +/- cerr: 21.057332 +/- 83.218444 [10^(-5), 3sigma]\n"
     ]
    },
    {
     "name": "stderr",
     "output_type": "stream",
     "text": [
      " 84%|█████████████████████████████▏     | 83527/100000 [53:20<08:11, 33.52it/s]"
     ]
    },
    {
     "name": "stdout",
     "output_type": "stream",
     "text": [
      "m +/- merr: 1.165832 +/- 1.480006 [10^(-3), 3sigma]\n",
      "c +/- cerr: 22.554886 +/- 81.569961 [10^(-5), 3sigma]\n"
     ]
    },
    {
     "name": "stderr",
     "output_type": "stream",
     "text": [
      " 84%|█████████████████████████████▍     | 84000/100000 [53:39<26:58,  9.88it/s]"
     ]
    },
    {
     "name": "stdout",
     "output_type": "stream",
     "text": [
      "m +/- merr: 1.094191 +/- 1.413743 [10^(-3), 3sigma]\n",
      "c +/- cerr: 24.153989 +/- 80.570353 [10^(-5), 3sigma]\n"
     ]
    },
    {
     "name": "stderr",
     "output_type": "stream",
     "text": [
      " 85%|█████████████████████████████▌     | 84501/100000 [53:58<33:03,  7.81it/s]"
     ]
    },
    {
     "name": "stdout",
     "output_type": "stream",
     "text": [
      "m +/- merr: 1.093180 +/- 1.390499 [10^(-3), 3sigma]\n",
      "c +/- cerr: 22.484536 +/- 75.225379 [10^(-5), 3sigma]\n"
     ]
    },
    {
     "name": "stderr",
     "output_type": "stream",
     "text": [
      " 85%|█████████████████████████████▊     | 85029/100000 [54:17<07:44, 32.25it/s]"
     ]
    },
    {
     "name": "stdout",
     "output_type": "stream",
     "text": [
      "m +/- merr: 1.077136 +/- 1.470689 [10^(-3), 3sigma]\n",
      "c +/- cerr: 26.485916 +/- 98.378555 [10^(-5), 3sigma]\n"
     ]
    },
    {
     "name": "stderr",
     "output_type": "stream",
     "text": [
      " 86%|█████████████████████████████▉     | 85532/100000 [54:36<07:17, 33.03it/s]"
     ]
    },
    {
     "name": "stdout",
     "output_type": "stream",
     "text": [
      "m +/- merr: 1.068209 +/- 1.521991 [10^(-3), 3sigma]\n",
      "c +/- cerr: 26.007379 +/- 88.715207 [10^(-5), 3sigma]\n"
     ]
    },
    {
     "name": "stderr",
     "output_type": "stream",
     "text": [
      " 86%|██████████████████████████████     | 86026/100000 [54:55<07:51, 29.63it/s]"
     ]
    },
    {
     "name": "stdout",
     "output_type": "stream",
     "text": [
      "m +/- merr: 1.018214 +/- 1.501021 [10^(-3), 3sigma]\n",
      "c +/- cerr: 29.917895 +/- 109.372925 [10^(-5), 3sigma]\n"
     ]
    },
    {
     "name": "stderr",
     "output_type": "stream",
     "text": [
      " 87%|██████████████████████████████▎    | 86534/100000 [55:14<06:53, 32.58it/s]"
     ]
    },
    {
     "name": "stdout",
     "output_type": "stream",
     "text": [
      "m +/- merr: 1.050795 +/- 1.486450 [10^(-3), 3sigma]\n",
      "c +/- cerr: 29.233776 +/- 136.006609 [10^(-5), 3sigma]\n"
     ]
    },
    {
     "name": "stderr",
     "output_type": "stream",
     "text": [
      " 87%|██████████████████████████████▍    | 87034/100000 [55:33<06:09, 35.07it/s]"
     ]
    },
    {
     "name": "stdout",
     "output_type": "stream",
     "text": [
      "m +/- merr: 1.061687 +/- 1.510799 [10^(-3), 3sigma]\n",
      "c +/- cerr: 30.078474 +/- 114.164401 [10^(-5), 3sigma]\n"
     ]
    },
    {
     "name": "stderr",
     "output_type": "stream",
     "text": [
      " 88%|██████████████████████████████▋    | 87527/100000 [55:52<06:42, 30.98it/s]"
     ]
    },
    {
     "name": "stdout",
     "output_type": "stream",
     "text": [
      "m +/- merr: 1.030257 +/- 1.523334 [10^(-3), 3sigma]\n",
      "c +/- cerr: 31.050796 +/- 122.661679 [10^(-5), 3sigma]\n"
     ]
    },
    {
     "name": "stderr",
     "output_type": "stream",
     "text": [
      " 88%|██████████████████████████████▊    | 88032/100000 [56:11<05:58, 33.34it/s]"
     ]
    },
    {
     "name": "stdout",
     "output_type": "stream",
     "text": [
      "m +/- merr: 1.022908 +/- 1.440059 [10^(-3), 3sigma]\n",
      "c +/- cerr: 32.000777 +/- 129.183181 [10^(-5), 3sigma]\n"
     ]
    },
    {
     "name": "stderr",
     "output_type": "stream",
     "text": [
      " 89%|██████████████████████████████▉    | 88535/100000 [56:30<05:35, 34.14it/s]"
     ]
    },
    {
     "name": "stdout",
     "output_type": "stream",
     "text": [
      "m +/- merr: 0.959314 +/- 1.946046 [10^(-3), 3sigma]\n",
      "c +/- cerr: 35.393973 +/- 164.777176 [10^(-5), 3sigma]\n"
     ]
    },
    {
     "name": "stderr",
     "output_type": "stream",
     "text": [
      " 89%|███████████████████████████████▏   | 89035/100000 [56:49<05:23, 33.92it/s]"
     ]
    },
    {
     "name": "stdout",
     "output_type": "stream",
     "text": [
      "m +/- merr: 1.045665 +/- 1.424676 [10^(-3), 3sigma]\n",
      "c +/- cerr: 39.502817 +/- 192.141407 [10^(-5), 3sigma]\n"
     ]
    },
    {
     "name": "stderr",
     "output_type": "stream",
     "text": [
      " 90%|███████████████████████████████▎   | 89531/100000 [57:08<05:15, 33.23it/s]"
     ]
    },
    {
     "name": "stdout",
     "output_type": "stream",
     "text": [
      "m +/- merr: 1.147339 +/- 1.961136 [10^(-3), 3sigma]\n",
      "c +/- cerr: 38.962748 +/- 385.264019 [10^(-5), 3sigma]\n"
     ]
    },
    {
     "name": "stderr",
     "output_type": "stream",
     "text": [
      " 90%|███████████████████████████████▍   | 89997/100000 [57:26<06:17, 26.52it/s]"
     ]
    }
   ],
   "source": [
    "import esutil as eu\n",
    "import tqdm\n",
    "import joblib\n",
    "import sys\n",
    "from mdet_tools import estimate_m_and_c\n",
    "from concurrent.futures import as_completed\n",
    "from loky import get_reusable_executor\n",
    "\n",
    "\n",
    "def _cut_cat(d):\n",
    "    return d[\n",
    "        (d[\"flags\"] == 0) \n",
    "        & (d[\"s2n\"] > 1e4)\n",
    "        & (d[\"T_ratio\"] > 1.2)\n",
    "    ]\n",
    "\n",
    "def _meas_m(n_stars, s, step):\n",
    "    kwargs = {\"n_stars\": n_stars, \"seed\": s}\n",
    "    _d, mbobs = meas_mbmeds(make_obs(shear=(0.02, 0.0), mcal_shear=(0, 0), **kwargs))\n",
    "    _d1p, mbobs1p = meas_mbmeds(make_obs(shear=(0.02, 0.0), mcal_shear=(step, 0), **kwargs))\n",
    "    _d1m, mbobs1m = meas_mbmeds(make_obs(shear=(0.02, 0.0), mcal_shear=(-step, 0), **kwargs))\n",
    "    _d = _cut_cat(_d)\n",
    "    _d1p = _cut_cat(_d1p)\n",
    "    _d1m = _cut_cat(_d1m)\n",
    "\n",
    "    if len(_d) > 0 and len(_d1p) > 0 and len(_d1m) > 0:\n",
    "        g1 = np.mean(_d[\"g1\"])\n",
    "        g1p = np.mean(_d1p[\"g1\"])\n",
    "        g1m = np.mean(_d1m[\"g1\"])\n",
    "        g2 = np.mean(_d[\"g2\"])\n",
    "        g2p = np.mean(_d1p[\"g2\"])\n",
    "        g2m = np.mean(_d1m[\"g2\"])\n",
    "        pres = (g1p, g1m, g1, g2p, g2m, g2)\n",
    "    else:\n",
    "        return None, None\n",
    "\n",
    "    kwargs = {\"n_stars\": n_stars, \"seed\": s}\n",
    "    _d, mbobs = meas_mbmeds(make_obs(shear=(-0.02, 0.0), mcal_shear=(0, 0), **kwargs))\n",
    "    _d1p, mbobs1p = meas_mbmeds(make_obs(shear=(-0.02, 0.0), mcal_shear=(step, 0), **kwargs))\n",
    "    _d1m, mbobs1m = meas_mbmeds(make_obs(shear=(-0.02, 0.0), mcal_shear=(-step, 0), **kwargs))\n",
    "    _d = _cut_cat(_d)\n",
    "    _d1p = _cut_cat(_d1p)\n",
    "    _d1m = _cut_cat(_d1m)\n",
    "\n",
    "    if len(_d) > 0 and len(_d1p) > 0 and len(_d1m) > 0:\n",
    "        g1 = np.mean(_d[\"g1\"])\n",
    "        g1p = np.mean(_d1p[\"g1\"])\n",
    "        g1m = np.mean(_d1m[\"g1\"])\n",
    "        g2 = np.mean(_d[\"g2\"])\n",
    "        g2p = np.mean(_d1p[\"g2\"])\n",
    "        g2m = np.mean(_d1m[\"g2\"])\n",
    "        mres = (g1p, g1m, g1, g2p, g2m, g2)\n",
    "    else:\n",
    "        return None, None\n",
    "    \n",
    "    return pres, mres\n",
    "\n",
    "\n",
    "def meas_m(n_stars, n_jobs=100, seed=10, step=0.01, n_print=500):\n",
    "    ds = []\n",
    "    d1ps = []\n",
    "    d1ms = []\n",
    "    ms = []\n",
    "    seeds = np.random.RandomState(seed=seed).randint(size=n_jobs, low=1, high=2**28)\n",
    "\n",
    "    exe = get_reusable_executor()\n",
    "    futs = [\n",
    "        exe.submit(_meas_m, n_stars, s, step)\n",
    "        for s in seeds\n",
    "    ]\n",
    "    pres = []\n",
    "    mres = []\n",
    "    n_done = 0\n",
    "    for fut in tqdm.tqdm(as_completed(futs), total=len(futs), ncols=79):\n",
    "        n_done += 1\n",
    "        try:\n",
    "            res = fut.result()\n",
    "            pres.append(res[0])\n",
    "            mres.append(res[1])\n",
    "        except Exception as e:\n",
    "            print(e)\n",
    "\n",
    "        if n_done % n_print == 0:\n",
    "            m, merr, c, cerr = estimate_m_and_c(\n",
    "                pres,\n",
    "                mres,\n",
    "                0.02,\n",
    "                jackknife=200 if n_done > 1000 else None,\n",
    "            )\n",
    "            mstr = \"m +/- merr: %0.6f +/- %0.6f [10^(-3), 3sigma]\" % (m/1e-3, 3*merr/1e-3)\n",
    "            tqdm.tqdm.write(mstr)\n",
    "\n",
    "            cstr = \"c +/- cerr: %0.6f +/- %0.6f [10^(-5), 3sigma]\" % (c/1e-3, 3*cerr/1e-3)\n",
    "            tqdm.tqdm.write(cstr)\n",
    "    \n",
    "    m, merr, c, cerr = estimate_m_and_c(\n",
    "        pres,\n",
    "        mres,\n",
    "        0.02,\n",
    "        jackknife=200 if n_jobs > 1000 else None,\n",
    "    )\n",
    "    \n",
    "    return m, merr, c, cerr\n",
    "\n",
    "n_stars = 20\n",
    "m, merr, c, cerr = meas_m(n_stars, seed=20, n_jobs=100000)\n",
    "\n",
    "print(\"\\nstar density: %s [num per arcmin^2]\" % (n_stars / (235*0.20/60)**2))\n",
    "mstr = \"m +/- merr: %0.6f +/- %0.6f [10^(-3), 3sigma]\" % (m/1e-3, 3*merr/1e-3)\n",
    "print(mstr)\n",
    "\n",
    "cstr = \"c +/- cerr: %0.6f +/- %0.6f [10^(-5), 3sigma]\" % (c/1e-3, 3*cerr/1e-3)\n",
    "print(cstr)"
   ]
  },
  {
   "cell_type": "code",
   "execution_count": null,
   "id": "d871fd2b",
   "metadata": {},
   "outputs": [],
   "source": [
    "step = 0.01\n",
    "s = 100\n",
    "kwargs = {\"n_stars\": n_stars, \"seed\": s}\n",
    "d, mbobs = meas_mbmeds(make_obs(mcal_shear=(0, 0), **kwargs))\n",
    "d1p, mbobs1p = meas_mbmeds(make_obs(mcal_shear=(step, 0), **kwargs))\n",
    "d1m, mbobs1m = meas_mbmeds(make_obs(mcal_shear=(-step, 0), **kwargs))\n",
    "d = _cut_cat(d)\n",
    "d1p = _cut_cat(d1p)\n",
    "d1m = _cut_cat(d1m)\n",
    "\n",
    "fig, axs = pplt.subplots(nrows=1, ncols=3, sharex=3, sharey=3)\n",
    "axs[0].pcolormesh(mbobs[0][0].image)\n",
    "axs[0].plot(d[\"x\"], d[\"y\"], '.b')\n",
    "axs[0].set_title(mstr)\n",
    "\n",
    "axs[1].pcolormesh(mbobs1p[0][0].image)\n",
    "axs[1].plot(d1p[\"x\"], d1p[\"y\"], '.b')\n",
    "axs[1].set_title(\"mcal +g1\")\n",
    "\n",
    "axs[2].pcolormesh(mbobs1m[0][0].image)\n",
    "axs[2].plot(d1m[\"x\"], d1m[\"y\"], '.b')\n",
    "axs[2].set_title(\"mcal -g1\")\n",
    "\n",
    "axs.set_xlim(0, mbobs[0][0].image.shape[1])\n",
    "axs.set_ylim(0, mbobs[0][0].image.shape[0])"
   ]
  },
  {
   "cell_type": "code",
   "execution_count": null,
   "id": "911ab188",
   "metadata": {},
   "outputs": [],
   "source": []
  }
 ],
 "metadata": {
  "kernelspec": {
   "display_name": "Python [conda env:bebop]",
   "language": "python",
   "name": "conda-env-bebop-py"
  },
  "language_info": {
   "codemirror_mode": {
    "name": "ipython",
    "version": 3
   },
   "file_extension": ".py",
   "mimetype": "text/x-python",
   "name": "python",
   "nbconvert_exporter": "python",
   "pygments_lexer": "ipython3",
   "version": "3.8.8"
  }
 },
 "nbformat": 4,
 "nbformat_minor": 5
}
