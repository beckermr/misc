{
 "cells": [
  {
   "cell_type": "code",
   "execution_count": 1,
   "id": "b57a6fa1",
   "metadata": {},
   "outputs": [],
   "source": [
    "%load_ext autoreload\n",
    "%autoreload 2\n",
    "\n",
    "import numpy as np\n",
    "import scipy\n",
    "import ngmix\n",
    "import galsim\n",
    "import functools\n",
    "\n",
    "import proplot as plot"
   ]
  },
  {
   "cell_type": "code",
   "execution_count": 2,
   "id": "2f7f48c8",
   "metadata": {},
   "outputs": [],
   "source": [
    "def gen_data(nse_fac):\n",
    "    rng = np.random.RandomState()\n",
    "\n",
    "    fwhm = 0.763\n",
    "    psf_fwhm = 0.9\n",
    "    image_size = 512\n",
    "    cen = (image_size - 1)/2\n",
    "    gs_wcs = galsim.ShearWCS(\n",
    "        0.21, galsim.Shear(g1=-0.1, g2=0.3)).jacobian()\n",
    "    psf_off = (1.5, -0.75)\n",
    "\n",
    "    gal = galsim.Exponential(\n",
    "        half_light_radius=fwhm,\n",
    "    ).shear(\n",
    "        g1=-0.1, g2=0.2\n",
    "    ).withFlux(\n",
    "        400)\n",
    "    psf = galsim.Gaussian(\n",
    "        fwhm=psf_fwhm\n",
    "    ).shear(\n",
    "        g1=0.3, g2=-0.15\n",
    "    )\n",
    "    im = galsim.Convolve([gal, psf]).drawImage(\n",
    "        nx=image_size,\n",
    "        ny=image_size,\n",
    "        wcs=gs_wcs).array\n",
    "    im_true = gal.drawImage(\n",
    "        nx=image_size,\n",
    "        ny=image_size,\n",
    "        wcs=gs_wcs,\n",
    "        method='no_pixel').array\n",
    "\n",
    "    noise = np.sqrt(np.sum(im**2)) / nse_fac\n",
    "    im += np.random.normal(scale=noise, size=im.shape)\n",
    "\n",
    "    wgt = np.ones_like(im) / noise**2\n",
    "    scale = np.sqrt(gs_wcs.pixelArea())\n",
    "\n",
    "    psf_im = psf.drawImage(\n",
    "        nx=53,\n",
    "        ny=53,\n",
    "        wcs=gs_wcs,\n",
    "        offset=psf_off).array\n",
    "\n",
    "    psf_obs = ngmix.Observation(\n",
    "        image=psf_im,\n",
    "        jacobian=ngmix.Jacobian(row=26+psf_off[1], col=26+psf_off[0], wcs=gs_wcs)\n",
    "    )\n",
    "\n",
    "    obs = ngmix.Observation(\n",
    "        image=im,\n",
    "        jacobian=ngmix.Jacobian(row=cen, col=cen, wcs=gs_wcs),\n",
    "        weight=wgt,\n",
    "        psf=psf_obs,\n",
    "    )\n",
    "\n",
    "    return obs, psf_obs, im_true, im"
   ]
  },
  {
   "cell_type": "code",
   "execution_count": 3,
   "id": "61da7244",
   "metadata": {},
   "outputs": [
    {
     "name": "stdout",
     "output_type": "stream",
     "text": [
      "399.99999933038265 200.9176881264471 262.93871104114675 0.9999999999999825 975032579669.2709 988676145517.0923 0.6574277806100471 0.5694781625631917 [0.03007626 0.07899592] [-0.11825885  0.23651763] [2.38586787e-12 2.40047114e-12]\n",
      "CPU times: user 2.84 s, sys: 322 ms, total: 3.16 s\n",
      "Wall time: 3.05 s\n"
     ]
    }
   ],
   "source": [
    "%%time\n",
    "\n",
    "obs, psf_obs, im_true, im = gen_data(1e12)\n",
    "fwhm = 2\n",
    "kmom = ngmix.ksigmamom.KSigmaMom(fwhm=fwhm)\n",
    "res_km = kmom.go(obs, return_kernels=True)\n",
    "res_gm = ngmix.gaussmom.GaussMom(fwhm=fwhm).go(obs)\n",
    "\n",
    "rkf = np.fft.ifftn(res_km['kernels']['fkf'])\n",
    "nrm = np.max(rkf.real)\n",
    "\n",
    "print(\n",
    "    obs.image.sum(), \n",
    "    res_gm['flux'], \n",
    "    res_km['flux'], \n",
    "    nrm,\n",
    "    res_km['flux']/res_km['flux_err'], \n",
    "    res_gm['flux']/res_gm['flux_err'],\n",
    "    res_gm['T'], \n",
    "    res_km['T'],     \n",
    "    res_gm['e'], \n",
    "    res_km['e'], \n",
    "    res_km[\"e_err\"]\n",
    ")"
   ]
  },
  {
   "cell_type": "code",
   "execution_count": 4,
   "id": "d6fdda5b",
   "metadata": {},
   "outputs": [
    {
     "name": "stdout",
     "output_type": "stream",
     "text": [
      " "
     ]
    }
   ],
   "source": [
    "%%prun\n",
    "\n",
    "kmom = ngmix.ksigmamom.KSigmaMom(fwhm=fwhm)\n",
    "res_km = kmom.go(obs)"
   ]
  },
  {
   "cell_type": "code",
   "execution_count": null,
   "id": "39537696",
   "metadata": {},
   "outputs": [],
   "source": [
    "kmom = ngmix.ksigmamom.KSigmaMom(fwhm=fwhm)\n",
    "res_km = kmom.go(obs, return_kernels=True)\n",
    "\n",
    "s = 53\n",
    "fig, axs = plot.subplots(ncols=4)\n",
    "for i, (nm, k) in enumerate(res_km['kernels'].items()):\n",
    "    rk = np.fft.ifftn(k).real\n",
    "    # rk = k.real\n",
    "    axs[i].imshow(np.fft.fftshift(rk)[s:-s, s:-s], cmap='rocket')\n",
    "    axs[i].grid(False)\n",
    "    axs[i].set_title(nm.replace('fk', 'M'))\n",
    "    \n",
    "fig, axs = plot.subplots()\n",
    "\n",
    "rk = np.fft.fftshift(np.fft.ifftn(res_km['kernels']['fkf']).real)\n",
    "cen = int((rk.shape[0]-1)/2)\n",
    "axs.semilogy(rk[:, cen])"
   ]
  },
  {
   "cell_type": "code",
   "execution_count": null,
   "id": "1ddad2e9",
   "metadata": {},
   "outputs": [],
   "source": [
    "%%timeit\n",
    "\n",
    "res_gm = ngmix.gaussmom.GaussMom(fwhm=fwhm).go(obs)"
   ]
  },
  {
   "cell_type": "code",
   "execution_count": null,
   "id": "98ad3e16",
   "metadata": {},
   "outputs": [],
   "source": []
  },
  {
   "cell_type": "code",
   "execution_count": null,
   "id": "f50fb0b6",
   "metadata": {},
   "outputs": [],
   "source": []
  },
  {
   "cell_type": "code",
   "execution_count": null,
   "id": "ce538676",
   "metadata": {},
   "outputs": [],
   "source": []
  },
  {
   "cell_type": "code",
   "execution_count": null,
   "id": "785bac69",
   "metadata": {},
   "outputs": [],
   "source": []
  },
  {
   "cell_type": "code",
   "execution_count": null,
   "id": "4d2d2971",
   "metadata": {},
   "outputs": [],
   "source": []
  },
  {
   "cell_type": "code",
   "execution_count": null,
   "id": "aedc300a",
   "metadata": {},
   "outputs": [],
   "source": []
  },
  {
   "cell_type": "code",
   "execution_count": null,
   "id": "0b7ed3eb",
   "metadata": {},
   "outputs": [],
   "source": []
  },
  {
   "cell_type": "code",
   "execution_count": null,
   "id": "31e950d9",
   "metadata": {},
   "outputs": [],
   "source": []
  },
  {
   "cell_type": "code",
   "execution_count": null,
   "id": "c0651f9a",
   "metadata": {},
   "outputs": [],
   "source": []
  },
  {
   "cell_type": "code",
   "execution_count": null,
   "id": "2ca93461",
   "metadata": {},
   "outputs": [],
   "source": []
  },
  {
   "cell_type": "code",
   "execution_count": null,
   "id": "40160211",
   "metadata": {},
   "outputs": [],
   "source": []
  },
  {
   "cell_type": "code",
   "execution_count": null,
   "id": "e1bcb121",
   "metadata": {},
   "outputs": [],
   "source": [
    "np.diag([1, 10])"
   ]
  },
  {
   "cell_type": "code",
   "execution_count": null,
   "id": "bacfed68",
   "metadata": {},
   "outputs": [],
   "source": []
  },
  {
   "cell_type": "code",
   "execution_count": null,
   "id": "6f5eb771",
   "metadata": {},
   "outputs": [],
   "source": [
    "def kern(k, sigma, n=4):\n",
    "    kmax2 = 2*n/sigma**2\n",
    "    k2 = k*k\n",
    "    msk = k2 < kmax2\n",
    "    karg = 1.0 - k2/kmax2\n",
    "    res = np.zeros_like(k)\n",
    "    res[msk] = np.power(karg[msk], 4)\n",
    "    return res\n",
    "\n",
    "def tkern(k, sigma):\n",
    "    z = k*sigma\n",
    "    res = np.zeros_like(k)\n",
    "    msk = np.abs(z) < 3\n",
    "    res[msk] = (1 - (z[msk] / 3) ** 2) ** 3\n",
    "    return res\n",
    "\n",
    "fig, axs = plot.subplots()\n",
    "\n",
    "sigma = 10\n",
    "k = np.linspace(-1, 1, 100)\n",
    "axs.plot(k, kern(k, sigma), label='ks')\n",
    "axs.plot(k, tkern(k, sigma), label='tw')\n",
    "axs.plot(k, np.exp(-0.5*k**2*sigma*sigma), label='gauss')\n",
    "axs.legend()"
   ]
  },
  {
   "cell_type": "code",
   "execution_count": null,
   "id": "09d7ab43",
   "metadata": {},
   "outputs": [],
   "source": [
    "np.sqrt(np.pi*2)"
   ]
  },
  {
   "cell_type": "code",
   "execution_count": null,
   "id": "cc979473",
   "metadata": {},
   "outputs": [],
   "source": []
  },
  {
   "cell_type": "code",
   "execution_count": null,
   "id": "c750f447",
   "metadata": {},
   "outputs": [],
   "source": []
  },
  {
   "cell_type": "code",
   "execution_count": null,
   "id": "415bb810",
   "metadata": {},
   "outputs": [],
   "source": []
  },
  {
   "cell_type": "code",
   "execution_count": null,
   "id": "e6f78d68",
   "metadata": {},
   "outputs": [],
   "source": [
    "def gen_data(nse_fac):\n",
    "    rng = np.random.RandomState()\n",
    "\n",
    "    fwhm = 0.763\n",
    "    psf_fwhm = 0.5\n",
    "    image_size = 203\n",
    "    cen = (image_size - 1)/2\n",
    "    gs_wcs = galsim.ShearWCS(\n",
    "        0.21, galsim.Shear(g1=-0, g2=0)).jacobian()\n",
    "    psf_off = (1.5, -0.75)\n",
    "\n",
    "    gal = galsim.Exponential(\n",
    "        half_light_radius=fwhm,\n",
    "    ).shear(\n",
    "        g1=-0.1, g2=0.1\n",
    "    ).withFlux(\n",
    "        400)\n",
    "    psf = galsim.Gaussian(\n",
    "        fwhm=psf_fwhm\n",
    "    ).shear(\n",
    "        g1=0.3, g2=-0.15\n",
    "    )\n",
    "    im = galsim.Convolve([gal, psf]).drawImage(\n",
    "        nx=image_size,\n",
    "        ny=image_size,\n",
    "        wcs=gs_wcs).array\n",
    "    im_true = gal.drawImage(\n",
    "        nx=image_size,\n",
    "        ny=image_size,\n",
    "        wcs=gs_wcs,\n",
    "        method='no_pixel').array\n",
    "\n",
    "    noise = np.sqrt(np.sum(im**2)) / nse_fac\n",
    "    im += np.random.normal(scale=noise, size=im.shape)\n",
    "\n",
    "    wgt = np.ones_like(im) / noise**2\n",
    "    scale = np.sqrt(gs_wcs.pixelArea())\n",
    "\n",
    "    psf_im = psf.drawImage(\n",
    "        nx=image_size,\n",
    "        ny=image_size,\n",
    "        wcs=gs_wcs,\n",
    "        offset=psf_off).array\n",
    "\n",
    "    psf_obs = ngmix.Observation(\n",
    "        image=psf_im,\n",
    "        jacobian=ngmix.Jacobian(row=cen+psf_off[1], col=cen+psf_off[0], wcs=gs_wcs)\n",
    "    )\n",
    "\n",
    "    obs = ngmix.Observation(\n",
    "        image=im,\n",
    "        jacobian=ngmix.Jacobian(row=cen, col=cen, wcs=gs_wcs),\n",
    "        weight=wgt,\n",
    "        psf=psf_obs,\n",
    "    )\n",
    "\n",
    "    return obs, psf_obs, im_true, im"
   ]
  },
  {
   "cell_type": "code",
   "execution_count": null,
   "id": "8e11a3d5",
   "metadata": {
    "scrolled": false
   },
   "outputs": [],
   "source": [
    "%%time\n",
    "\n",
    "obs, psf_obs, im_true, im = gen_data(1e5)\n",
    "fwhm = 1.7\n",
    "kmom = ngmix.prepsfmom.PrePSFKernelMom(kernel_size=fwhm)\n",
    "res_km = kmom.go(obs, return_kernels=True)\n",
    "res_gm = ngmix.gaussmom.GaussMom(fwhm=fwhm).go(obs)\n",
    "\n",
    "rkf = np.fft.ifftn(res_km['kernels']['fkf'])\n",
    "nrm = np.max(rkf.real)\n",
    "\n",
    "print(\n",
    "    obs.image.sum(), \n",
    "    res_gm['flux'], \n",
    "    res_km['flux'], \n",
    "    nrm,\n",
    "    res_km['flux']/res_km['flux_err'], \n",
    "    res_gm['flux']/res_gm['flux_err'],\n",
    ")\n"
   ]
  },
  {
   "cell_type": "code",
   "execution_count": null,
   "id": "339f9da5",
   "metadata": {},
   "outputs": [],
   "source": [
    "im[:-1, :-1].shape, np.fft.fftn(im[:-1, :-1]).shape"
   ]
  },
  {
   "cell_type": "code",
   "execution_count": null,
   "id": "76398e68",
   "metadata": {},
   "outputs": [],
   "source": [
    "fig, axs = plot.subplots(ncols=1)\n",
    "\n",
    "# axs.imshow(res_km['kernels']['fkf'].real)\n",
    "im = np.arcsinh((np.fft.fftshift(rkf.real)))\n",
    "s = 183\n",
    "axs[0].imshow(im[s:-s, s:-s], cmap='rocket')\n",
    "# axs[1].imshow(res_km['kernels']['fkf'].real)"
   ]
  },
  {
   "cell_type": "code",
   "execution_count": null,
   "id": "0a75c3d5",
   "metadata": {},
   "outputs": [],
   "source": [
    "im = galsim.Gaussian(fwhm=2).drawImage(nx=45, ny=45, method='no_pixel', scale=0.25).array\n",
    "\n",
    "fig, axs = plot.subplots()\n",
    "axs.imshow(np.arcsinh(im), cmap='rocket')"
   ]
  },
  {
   "cell_type": "code",
   "execution_count": null,
   "id": "3b6afbd7",
   "metadata": {},
   "outputs": [],
   "source": [
    "rkf[0, -1].real"
   ]
  },
  {
   "cell_type": "code",
   "execution_count": null,
   "id": "f7a2fce3",
   "metadata": {},
   "outputs": [],
   "source": [
    "res_km['kernels']['fkf'].real"
   ]
  },
  {
   "cell_type": "code",
   "execution_count": null,
   "id": "b3faa070",
   "metadata": {},
   "outputs": [],
   "source": [
    "dim = 2048\n",
    "s = 0.5\n",
    "p = 0.03\n",
    "\n",
    "xy = np.linspace(-dim/2*p, dim/2*p, dim)\n",
    "x, y = np.meshgrid(xy, xy)\n",
    "im = np.exp(-0.5 * (x**2 + y**2)/s/s)\n",
    "print(im.max(), im.sum())\n",
    "\n",
    "f = np.fft.fftfreq(dim, p)\n",
    "fx = f.reshape(1, -1)\n",
    "fy = f.reshape(-1, 1)\n",
    "f2 = fx*fx + fy*fy\n",
    "\n",
    "fim = np.exp(-2 * f2* s**2 * np.pi**2) * s * s * 2 * np.pi/p/p\n",
    "rim = np.fft.fftshift(np.fft.ifftn(fim).real)\n",
    "\n",
    "im_fft = np.fft.fftn(np.fft.fftshift(im))\n",
    "\n",
    "fig, axs = plot.subplots(ncols=3)\n",
    "\n",
    "axs[0].imshow(np.fft.fftshift(im_fft.real), cmap='rocket', vmin=0, vmax=fim.max())\n",
    "axs[1].imshow(np.fft.fftshift(fim), cmap='rocket', vmin=0, vmax=fim.max())\n",
    "m = axs[2].imshow(np.fft.fftshift(im_fft.real-fim), cmap='rocket', vmin=-1, vmax=1)\n",
    "axs[2].colorbar(m, loc='r')\n",
    "# axs[3].imshow(np.angle(im_fft)/2/np.pi, cmap='rocket')\n",
    "# axs[4].imshow(im, cmap='rocket', vmax=1, vmin=0)\n",
    "# axs[5].imshow(rim, cmap='rocket', vmax=1, vmin=0)"
   ]
  },
  {
   "cell_type": "code",
   "execution_count": null,
   "id": "8058902a",
   "metadata": {},
   "outputs": [],
   "source": [
    "fig, axs = plot.subplots()\n",
    "axs.plot(np.sqrt(f2).ravel(), im_fft.real.ravel()/fim.ravel(), ',')\n",
    "axs.set_xlim(0, 3)\n",
    "axs.set_ylim(0.5, 2)"
   ]
  },
  {
   "cell_type": "code",
   "execution_count": null,
   "id": "cff98c9b",
   "metadata": {},
   "outputs": [],
   "source": []
  },
  {
   "cell_type": "code",
   "execution_count": null,
   "id": "d9fe3a45",
   "metadata": {},
   "outputs": [],
   "source": []
  },
  {
   "cell_type": "code",
   "execution_count": null,
   "id": "0f471eb7",
   "metadata": {},
   "outputs": [],
   "source": [
    "np.max(im_fft.real)/np.max(fim)"
   ]
  },
  {
   "cell_type": "code",
   "execution_count": null,
   "id": "27ba09eb",
   "metadata": {},
   "outputs": [],
   "source": [
    "im_fft.real[0, 0], fim[0, 0], rim.max(), im.max()"
   ]
  },
  {
   "cell_type": "code",
   "execution_count": null,
   "id": "2a6e665e",
   "metadata": {},
   "outputs": [],
   "source": [
    "f = np.fft.fftfreq(49, 0.1)\n",
    "fx = f.reshape(1, -1)\n",
    "fy = f.reshape(-1, 1)\n",
    "f2 = fx**2 + fy**2\n",
    "\n",
    "fig, axs = plot.subplots()\n",
    "\n",
    "axs[0].imshow(np.fft.fftshift(np.fft.ifftn(np.exp(-0.5*f2*s*s)).real))"
   ]
  },
  {
   "cell_type": "code",
   "execution_count": null,
   "id": "4b64f7f7",
   "metadata": {},
   "outputs": [],
   "source": []
  },
  {
   "cell_type": "code",
   "execution_count": null,
   "id": "80d94c33",
   "metadata": {},
   "outputs": [],
   "source": [
    "fx"
   ]
  },
  {
   "cell_type": "code",
   "execution_count": null,
   "id": "49ea0f46",
   "metadata": {},
   "outputs": [],
   "source": [
    "(np.angle(im_fft)/2/np.pi)[0, :]"
   ]
  },
  {
   "cell_type": "code",
   "execution_count": null,
   "id": "9a82cc33",
   "metadata": {},
   "outputs": [],
   "source": [
    "f = np.fft.fftfreq(32)"
   ]
  },
  {
   "cell_type": "code",
   "execution_count": null,
   "id": "d15c7393",
   "metadata": {},
   "outputs": [],
   "source": [
    "np.fft.fftshift(f)"
   ]
  },
  {
   "cell_type": "code",
   "execution_count": null,
   "id": "d95489e7",
   "metadata": {},
   "outputs": [],
   "source": []
  },
  {
   "cell_type": "code",
   "execution_count": null,
   "id": "dd55ee9a",
   "metadata": {},
   "outputs": [],
   "source": [
    "rkf"
   ]
  },
  {
   "cell_type": "code",
   "execution_count": null,
   "id": "c5f56aef",
   "metadata": {},
   "outputs": [],
   "source": []
  },
  {
   "cell_type": "code",
   "execution_count": null,
   "id": "7684e120",
   "metadata": {},
   "outputs": [],
   "source": []
  },
  {
   "cell_type": "code",
   "execution_count": null,
   "id": "ee16d1d9",
   "metadata": {},
   "outputs": [],
   "source": []
  },
  {
   "cell_type": "code",
   "execution_count": null,
   "id": "60ed5c7a",
   "metadata": {},
   "outputs": [],
   "source": []
  },
  {
   "cell_type": "code",
   "execution_count": null,
   "id": "8a99f235",
   "metadata": {},
   "outputs": [],
   "source": []
  },
  {
   "cell_type": "code",
   "execution_count": null,
   "id": "f287c999",
   "metadata": {},
   "outputs": [],
   "source": []
  },
  {
   "cell_type": "code",
   "execution_count": null,
   "id": "c71594a8",
   "metadata": {},
   "outputs": [],
   "source": []
  },
  {
   "cell_type": "code",
   "execution_count": null,
   "id": "d6eaee91",
   "metadata": {},
   "outputs": [],
   "source": []
  },
  {
   "cell_type": "code",
   "execution_count": null,
   "id": "b3f49a38",
   "metadata": {},
   "outputs": [],
   "source": []
  },
  {
   "cell_type": "code",
   "execution_count": null,
   "id": "secure-protocol",
   "metadata": {},
   "outputs": [],
   "source": [
    "from ngmix.prepsfmom.gaussmom import _deconv_galsim, _zero_pad_image\n",
    "\n",
    "def _comput_shift_fft(xoff, yoff, dim):\n",
    "    f = np.fft.fftfreq(dim)\n",
    "    fx = f.reshape(1, -1)\n",
    "    fy = f.reshape(-1, 1)\n",
    "    kcen = 2.0 * np.pi * (fy * yoff + fx * xoff)\n",
    "    return np.cos(kcen) - 1j*np.sin(kcen)\n",
    "\n",
    "def _deconv_wiener(obs, psf_obs, pad_factor=4, reg=3):\n",
    "    # pick the larger size\n",
    "    if obs.image.shape[0] > psf_obs.image.shape[0]:\n",
    "        target_dim = int(obs.image.shape[0] * pad_factor)\n",
    "    else:\n",
    "        target_dim = int(psf_obs.image.shape[0] * pad_factor)\n",
    "\n",
    "    # pad the image and weight\n",
    "    # compute new profile center\n",
    "    im, im_pad_offset, im_pad_offset_end = _zero_pad_image(obs.image.copy(), target_dim)\n",
    "    jac = obs.jacobian\n",
    "    im_row0 = jac.row0 + im_pad_offset\n",
    "    im_col0 = jac.col0 + im_pad_offset\n",
    "    \n",
    "    # if we have a PSF, we pad and get the offset of the PSF center from\n",
    "    # the object center. this offset gets removed in the FFT so that objects\n",
    "    # stay in the same spot.\n",
    "    # We assume the Jacobian is centered at the object/PSF center.\n",
    "    psf_im, psf_pad_offset, _ = _zero_pad_image(\n",
    "        psf_obs.image.copy(), target_dim\n",
    "    )\n",
    "    psf_row0 = psf_obs.jacobian.row0 + psf_pad_offset\n",
    "    psf_col0 = psf_obs.jacobian.col0 + psf_pad_offset\n",
    "    psf_row_offset = psf_row0 - im_row0\n",
    "    psf_col_offset = psf_col0 - im_col0\n",
    "    \n",
    "    # do the deconv\n",
    "    imfft = np.fft.fftn(im)\n",
    "    psf_imfft = np.fft.fftn(psf_im)\n",
    "    \n",
    "    med_wgt = np.median(obs.weight)\n",
    "    wgt = obs.weight.copy()\n",
    "    wgt[wgt == 0] = med_wgt\n",
    "    nf = np.sum(1/wgt)\n",
    "    sf = np.abs(imfft)**2\n",
    "    g = (np.conj(psf_imfft) * sf) / (np.abs(psf_imfft)**2 * sf + reg*nf)\n",
    "\n",
    "    imfft *= g\n",
    "\n",
    "    # remove position shifts\n",
    "    imfft *= _comput_shift_fft(psf_col_offset, psf_row_offset, psf_im.shape[0])\n",
    "    imfft *= _comput_shift_fft(im_col0, im_row0, im.shape[0])\n",
    "\n",
    "    im_rev = np.fft.ifftn(imfft)\n",
    "\n",
    "    deconv_obs = ngmix.Observation(\n",
    "        image=im_rev[\n",
    "            im_pad_offset:im_rev.shape[0]-im_pad_offset_end, \n",
    "            im_pad_offset:im_rev.shape[1]-im_pad_offset_end\n",
    "        ].real,\n",
    "        weight=obs.weight.copy(),\n",
    "        jacobian=obs.jacobian,\n",
    "    )\n",
    "    return deconv_obs"
   ]
  },
  {
   "cell_type": "code",
   "execution_count": null,
   "id": "broke-experience",
   "metadata": {},
   "outputs": [],
   "source": [
    "def gen_data(nse_fac):\n",
    "    rng = np.random.RandomState()\n",
    "\n",
    "    fwhm = 1.6\n",
    "    psf_fwhm = 0.9\n",
    "    image_size = 48\n",
    "    cen = (image_size - 1)/2\n",
    "    gs_wcs = galsim.ShearWCS(\n",
    "        0.25, galsim.Shear(g1=-0, g2=0)).jacobian()\n",
    "    psf_off = (1.5, -0.75)\n",
    "\n",
    "    gal = galsim.Exponential(\n",
    "        half_light_radius=fwhm,\n",
    "    ).shear(\n",
    "        g1=-0.1, g2=0.1\n",
    "    ).withFlux(\n",
    "        400)\n",
    "    psf = galsim.Gaussian(\n",
    "        fwhm=psf_fwhm\n",
    "    ).shear(\n",
    "        g1=0.3, g2=-0.15\n",
    "    )\n",
    "    im = galsim.Convolve([gal, psf]).drawImage(\n",
    "        nx=image_size,\n",
    "        ny=image_size,\n",
    "        wcs=gs_wcs).array\n",
    "    im_true = gal.drawImage(\n",
    "        nx=image_size,\n",
    "        ny=image_size,\n",
    "        wcs=gs_wcs,\n",
    "        method='no_pixel').array\n",
    "\n",
    "    noise = np.sqrt(np.sum(im**2)) / nse_fac\n",
    "    im += np.random.normal(scale=noise, size=im.shape)\n",
    "\n",
    "    wgt = np.ones_like(im) / noise**2\n",
    "    scale = np.sqrt(gs_wcs.pixelArea())\n",
    "\n",
    "    psf_im = psf.drawImage(\n",
    "        nx=image_size,\n",
    "        ny=image_size,\n",
    "        wcs=gs_wcs,\n",
    "        offset=psf_off).array\n",
    "\n",
    "    obs = ngmix.Observation(\n",
    "        image=im,\n",
    "        jacobian=ngmix.Jacobian(row=cen, col=cen, wcs=gs_wcs),\n",
    "        weight=wgt,\n",
    "    )\n",
    "\n",
    "    psf_obs = ngmix.Observation(\n",
    "        image=psf_im,\n",
    "        jacobian=ngmix.Jacobian(row=cen+psf_off[1], col=cen+psf_off[0], wcs=gs_wcs)\n",
    "    )\n",
    "    return obs, psf_obs, im_true, im"
   ]
  },
  {
   "cell_type": "code",
   "execution_count": null,
   "id": "outdoor-developer",
   "metadata": {},
   "outputs": [],
   "source": [
    "vals = []\n",
    "for _ in range(100):\n",
    "    obs, psf_obs, im_true, im = gen_data(1e20)\n",
    "    c_obs = _deconv_custom(obs, psf_obs)\n",
    "    # gs_obs = _deconv_galsim(obs, psf_obs)\n",
    "    vals.append(c_obs.image.sum())\n",
    "print(np.mean(vals), np.std(vals), (np.mean(vals)-400)/np.std(vals))\n",
    "\n",
    "gs_obs = _deconv_galsim(obs, psf_obs)\n",
    "c_obs = _deconv_custom(obs, psf_obs)\n",
    "print(np.sum(c_obs.image))\n",
    "\n",
    "vmax = np.max(im_true)\n",
    "vmin = 0\n",
    "\n",
    "cut = 1\n",
    "fig, axs = plot.subplots(nrows=2, ncols=3)\n",
    "axs[0, 0].pcolormesh(im[cut:-cut, cut:-cut], vmax=vmax, vmin=vmin)\n",
    "axs[0, 1].pcolormesh(c_obs.image[cut:-cut, cut:-cut], vmax=vmax, vmin=vmin)\n",
    "axs[1, 0].pcolormesh(im_true[cut:-cut, cut:-cut], vmax=vmax, vmin=vmin)\n",
    "axs[1, 1].pcolormesh(c_obs.image[cut:-cut, cut:-cut] - im_true[cut:-cut, cut:-cut], vmax=vmax, vmin=vmin)\n",
    "axs[0, 2].pcolormesh(gs_obs.image[cut:-cut, cut:-cut], vmax=vmax, vmin=vmin)\n",
    "axs[1, 2].pcolormesh(gs_obs.image[cut:-cut, cut:-cut].real - im_true[cut:-cut, cut:-cut], vmax=vmax, vmin=vmin)"
   ]
  },
  {
   "cell_type": "code",
   "execution_count": null,
   "id": "substantial-hamilton",
   "metadata": {},
   "outputs": [],
   "source": []
  },
  {
   "cell_type": "code",
   "execution_count": null,
   "id": "ignored-default",
   "metadata": {},
   "outputs": [],
   "source": []
  },
  {
   "cell_type": "code",
   "execution_count": null,
   "id": "palestinian-configuration",
   "metadata": {},
   "outputs": [],
   "source": []
  },
  {
   "cell_type": "code",
   "execution_count": null,
   "id": "honey-fraud",
   "metadata": {},
   "outputs": [],
   "source": [
    "noise = 1e-3\n",
    "nse = np.random.normal(size=(101, 101), scale=noise)\n",
    "pf = 4\n",
    "pad_nse, _, _ = _zero_pad_image(nse, 101*pf)\n",
    "\n",
    "print(np.sqrt(np.mean(np.abs(np.fft.fftn(pad_nse))**2)), noise * np.sqrt(np.prod(pad_nse.shape)))\n"
   ]
  },
  {
   "cell_type": "code",
   "execution_count": null,
   "id": "checked-african",
   "metadata": {},
   "outputs": [],
   "source": []
  },
  {
   "cell_type": "code",
   "execution_count": null,
   "id": "polyphonic-fleet",
   "metadata": {},
   "outputs": [],
   "source": []
  },
  {
   "cell_type": "code",
   "execution_count": null,
   "id": "fixed-gilbert",
   "metadata": {},
   "outputs": [],
   "source": [
    "def _comput_shift_fft(xoff, yoff, dim):\n",
    "    f = np.fft.fftfreq(dim)\n",
    "    fx = f.reshape(1, -1)\n",
    "    fy = f.reshape(-1, 1)\n",
    "    kcen = 2.0 * np.pi * (fy * yoff + fx * xoff)\n",
    "    return np.cos(kcen) - 1j*np.sin(kcen)\n",
    "\n",
    "imfft = np.fft.fftn(im)\n",
    "psf_imfft = np.fft.fftn(psf_im)\n",
    "\n",
    "noise_floor = 3*np.sqrt(np.sum(1/wgt))\n",
    "print(noise_floor)\n",
    "zero_msk = (\n",
    "    (np.abs(psf_imfft) < 1e-3)\n",
    "    |(np.abs(imfft) < noise_floor)\n",
    ")\n",
    "\n",
    "if np.any(psf_zero_msk):\n",
    "    # rang = np.random.uniform(size=psf_imfft.shape, low=0, high=2.0*np.pi)\n",
    "    psf_imfft[zero_msk] = 1. # 1e-3*(np.cos(rang) + 1j * np.sin(rang))[zero_msk]\n",
    "#     imfft[zero_msk] *= psf_imfft[zero_msk]\n",
    "#     imfft[zero_msk] = (\n",
    "#         rng.normal(size=imfft.shape, scale=noise/np.sqrt(2)) \n",
    "#         + 1j * rng.normal(size=imfft.shape, scale=noise/np.sqrt(2))\n",
    "#     )[zero_msk]\n",
    "\n",
    "imfft /= psf_imfft\n",
    "\n",
    "imfft *= _comput_shift_fft(psf_off[0], psf_off[1], im.shape[0])\n",
    "imfft *= _comput_shift_fft(cen, cen, im.shape[0])\n",
    "\n",
    "im_rev = np.fft.ifftn(imfft)\n",
    "print(np.sum(im_rev), np.sum(deconv_obs.image))\n",
    "\n",
    "vmax = np.max(im_true)\n",
    "vmin = 0\n",
    "\n",
    "cut = 1\n",
    "fig, axs = plot.subplots(nrows=2, ncols=3)\n",
    "axs[0, 0].pcolormesh(im[cut:-cut, cut:-cut], vmax=vmax, vmin=vmin)\n",
    "axs[0, 1].pcolormesh(im_rev[cut:-cut, cut:-cut].real, vmax=vmax, vmin=vmin)\n",
    "axs[1, 0].pcolormesh(im_true[cut:-cut, cut:-cut], vmax=vmax, vmin=vmin)\n",
    "axs[1, 1].pcolormesh(im_rev[cut:-cut, cut:-cut].real - im_true[cut:-cut, cut:-cut], vmax=vmax, vmin=vmin)\n",
    "\n",
    "axs[0, 2].pcolormesh(deconv_obs.image[cut:-cut, cut:-cut], vmax=vmax, vmin=vmin)\n",
    "axs[1, 2].pcolormesh(deconv_obs.image[cut:-cut, cut:-cut].real - im_true[cut:-cut, cut:-cut], vmax=vmax, vmin=vmin)"
   ]
  },
  {
   "cell_type": "code",
   "execution_count": null,
   "id": "banned-rebate",
   "metadata": {},
   "outputs": [],
   "source": []
  },
  {
   "cell_type": "code",
   "execution_count": null,
   "id": "spanish-madness",
   "metadata": {},
   "outputs": [],
   "source": []
  },
  {
   "cell_type": "code",
   "execution_count": null,
   "id": "offshore-finance",
   "metadata": {},
   "outputs": [],
   "source": []
  },
  {
   "cell_type": "code",
   "execution_count": null,
   "id": "durable-wagon",
   "metadata": {},
   "outputs": [],
   "source": [
    "f = np.fft.fftfreq(im.shape[0])\n",
    "\n",
    "_cen = cen+1\n",
    "fx = f.reshape(1, -1)\n",
    "fy = f.reshape(-1, 1)\n",
    "kcen = 2.0 * np.pi * (fy*_cen + fx*_cen)\n",
    "cen_phase = np.cos(kcen) + 1j*np.sin(kcen)\n",
    "# do it once profile and once for the kernel\n",
    "\n",
    "imfft = np.fft.fftn(im)\n",
    "imfft *= cen_phase\n",
    "\n",
    "psf_imfft = np.fft.fftn(psf_im)\n",
    "kcen = 2.0 * np.pi * (fy*psf_off[1] + fx*psf_off[0])\n",
    "cen_phase = np.cos(kcen) + 1j*np.sin(kcen)\n",
    "psf_imfft *= cen_phase\n",
    "\n",
    "psf_zero_msk = np.abs(psf_imfft) < 1e-3 * np.max(np.abs(psf_imfft))\n",
    "if np.any(psf_zero_msk):\n",
    "    psf_imfft[psf_zero_msk] = 1.0\n",
    "    imfft[psf_zero_msk] = 0.0\n",
    "\n",
    "imfft /= psf_imfft\n",
    "\n",
    "im_rev = np.fft.ifftn(imfft)\n",
    "\n",
    "print(np.sum(im_rev))"
   ]
  },
  {
   "cell_type": "code",
   "execution_count": null,
   "id": "completed-lambda",
   "metadata": {},
   "outputs": [],
   "source": [
    "cut = 1\n",
    "fig, axs = plot.subplots(nrows=1, ncols=3)\n",
    "axs[0].pcolormesh(im_rev[cut:-cut, cut:-cut].real)\n",
    "axs[1].pcolormesh(im_true[cut:-cut, cut:-cut])\n",
    "axs[2].pcolormesh(im_rev[cut:-cut, cut:-cut].real - im_true[cut:-cut, cut:-cut])\n",
    "(\n",
    "    np.unravel_index(np.argmax(im_rev.real), im_rev.real.shape), np.sum(im_rev.real == np.max(im_rev.real)), \n",
    "    np.unravel_index(np.argmax(im_true), im_true.shape), np.sum(im_true == np.max(im_true)),\n",
    "    np.max(im_true), np.max(im_rev.real),\n",
    ")"
   ]
  },
  {
   "cell_type": "code",
   "execution_count": null,
   "id": "square-uruguay",
   "metadata": {},
   "outputs": [],
   "source": [
    "np.max(np.abs(im_rev.real)), np.min(np.abs(im_rev.real))"
   ]
  },
  {
   "cell_type": "code",
   "execution_count": null,
   "id": "connected-italian",
   "metadata": {},
   "outputs": [],
   "source": []
  },
  {
   "cell_type": "code",
   "execution_count": null,
   "id": "combined-concentrate",
   "metadata": {},
   "outputs": [],
   "source": []
  },
  {
   "cell_type": "code",
   "execution_count": null,
   "id": "coupled-roller",
   "metadata": {},
   "outputs": [],
   "source": []
  },
  {
   "cell_type": "code",
   "execution_count": null,
   "id": "possible-cable",
   "metadata": {},
   "outputs": [],
   "source": []
  },
  {
   "cell_type": "code",
   "execution_count": null,
   "id": "processed-contract",
   "metadata": {},
   "outputs": [],
   "source": []
  },
  {
   "cell_type": "code",
   "execution_count": null,
   "id": "f2e44095",
   "metadata": {},
   "outputs": [],
   "source": [
    "scale = 0.263\n",
    "dim = 128\n",
    "cen = (dim-1)/2\n",
    "jac = ngmix.DiagonalJacobian(scale=scale, row=cen+1.5, col=cen-1.2)\n",
    "\n",
    "g = ngmix.GMixModel([0, 0, -0.1, 0.1, ngmix.moments.fwhm_to_T(ngmix.moments.sigma_to_fwhm(1)), 1], \"gauss\")\n",
    "im_cen = g.make_image((dim, dim), jacobian=jac)\n",
    "\n",
    "obs = ngmix.Observation(\n",
    "    image=im_cen,\n",
    "    jacobian=jac,\n",
    "    weight=np.ones_like(im_cen) * 0 + 1e8,\n",
    ")"
   ]
  },
  {
   "cell_type": "code",
   "execution_count": null,
   "id": "082673d7",
   "metadata": {},
   "outputs": [],
   "source": [
    "%%time\n",
    "\n",
    "ppmom = ngmix.gaussmom.GaussMom(fwhm=1.2)\n",
    "res_gm = ppmom.go(obs)"
   ]
  },
  {
   "cell_type": "code",
   "execution_count": null,
   "id": "7bb292d0",
   "metadata": {},
   "outputs": [],
   "source": [
    "%%time\n",
    "\n",
    "ppmom = ngmix.prepsfmom.PrePSFGaussMom(fwhm=1.2)\n",
    "res_ppm = ppmom.go(obs, return_kernels=True)"
   ]
  },
  {
   "cell_type": "code",
   "execution_count": null,
   "id": "885a9db7",
   "metadata": {
    "scrolled": false
   },
   "outputs": [],
   "source": [
    "# # ppmom = ngmix.prepsfmom.PrePSFMom(pad_factor=1)\n",
    "# # res = ppmom.go(obs)\n",
    "# # print(res[\"flux\"], res[\"T\"], res[\"g1\"], res[\"g2\"])\n",
    "\n",
    "print(res_gm[\"flux\"], res_gm[\"T\"], res_gm[\"e\"][0], res_gm[\"e\"][1])\n",
    "print(res_ppm[\"flux\"], res_ppm[\"T\"], res_ppm[\"e1\"], res_ppm[\"e2\"])"
   ]
  },
  {
   "cell_type": "code",
   "execution_count": null,
   "id": "bd02206e",
   "metadata": {
    "scrolled": false
   },
   "outputs": [],
   "source": [
    "res_ppm"
   ]
  },
  {
   "cell_type": "code",
   "execution_count": null,
   "id": "ffcb5764",
   "metadata": {},
   "outputs": [],
   "source": [
    "np.linalg.eigvals(res_ppm[\"mom_cov\"])"
   ]
  },
  {
   "cell_type": "code",
   "execution_count": null,
   "id": "18f4206c",
   "metadata": {},
   "outputs": [],
   "source": [
    "imfft = np.fft.fftn(im)\n",
    "im_rev = np.fft.ifftn(imfft * res[\"kernels\"][4])\n",
    "\n",
    "print(np.fft.ifftn(imfft * res[\"kernels\"][4])[0, 0])\n",
    "\n",
    "\n",
    "print(np.unravel_index(np.argmax(im_rev, axis=None), im_rev.shape))\n",
    "\n",
    "fig, axs = plot.subplots()\n",
    "axs.pcolormesh(im_rev.real)"
   ]
  },
  {
   "cell_type": "code",
   "execution_count": null,
   "id": "2f15dab6",
   "metadata": {},
   "outputs": [],
   "source": [
    "im"
   ]
  },
  {
   "cell_type": "code",
   "execution_count": null,
   "id": "a6bc2401",
   "metadata": {},
   "outputs": [],
   "source": [
    "fig, axs = plot.subplots(nrows=1, ncols=2)\n",
    "axs[0].imshow(res[\"kernels\"][0], cmap='rocket')\n",
    "axs[1].imshow(res[\"im\"], cmap='rocket')\n",
    "\n",
    "k0 = res[\"kernels\"][0]\n",
    "im = res[\"im\"]\n",
    "\n",
    "k = res[\"kernels\"][1]\n",
    "print(\"uu:\", np.sum(im * k) / np.sum(im * k0), res[\"uu\"])\n",
    "\n",
    "k = res[\"kernels\"][2]\n",
    "print(\"uv:\", np.sum(im * k) / np.sum(im * k0), res[\"uv\"])\n",
    "\n",
    "k = res[\"kernels\"][3]\n",
    "print(\"vv:\", np.sum(im * k) / np.sum(im * k0), res[\"vv\"])"
   ]
  },
  {
   "cell_type": "code",
   "execution_count": null,
   "id": "525fe35c",
   "metadata": {},
   "outputs": [],
   "source": [
    "(res[\"uu\"] - res[\"vv\"] ) /(res[\"uu\"] + res[\"vv\"]), (2*res[\"uv\"]) /(res[\"uu\"] + res[\"vv\"]), res[\"e1\"], res[\"e2\"]"
   ]
  },
  {
   "cell_type": "code",
   "execution_count": null,
   "id": "5b544429",
   "metadata": {},
   "outputs": [],
   "source": [
    "np.sum(im * k0)"
   ]
  },
  {
   "cell_type": "code",
   "execution_count": null,
   "id": "d960cce6",
   "metadata": {},
   "outputs": [],
   "source": [
    "res[\"flux\"], res[\"vv\"]"
   ]
  },
  {
   "cell_type": "code",
   "execution_count": null,
   "id": "ce55291b",
   "metadata": {},
   "outputs": [],
   "source": []
  },
  {
   "cell_type": "code",
   "execution_count": null,
   "id": "de18d507",
   "metadata": {},
   "outputs": [],
   "source": [
    "@functools.lru_cache(maxsize=1024)\n",
    "def build_kernel_cache(dim, sigma, scale):\n",
    "    cen = (dim-1) / 2\n",
    "    x, y = np.meshgrid(np.arange(dim), np.arange(dim))\n",
    "    x = x.astype(np.float64)\n",
    "    y = y.astype(np.float64)\n",
    "    y -= cen\n",
    "    x -= cen\n",
    "    x *= scale\n",
    "    y *= scale\n",
    "\n",
    "    r2 = x**2 + y**2\n",
    "\n",
    "    h = sigma\n",
    "    sc2 = h**2\n",
    "\n",
    "    z = np.sqrt(r2/sc2)\n",
    "    msk = z < 3\n",
    "    kf = np.zeros((dim, dim))\n",
    "    kf[msk] = 35 / 96 * (1 - (z[msk] / 3) ** 2) ** 3 / h\n",
    "    \n",
    "    kxx = kf * x**2\n",
    "    kyy = kf * y**2\n",
    "    kxy = kf * x*y\n",
    "    \n",
    "    nrm = np.sum(kf)\n",
    "    \n",
    "    return {\n",
    "        \"rkxx\": kxx / nrm,\n",
    "        \"rkyy\": kyy / nrm,\n",
    "        \"rkxy\": kxy / nrm,\n",
    "        \"rkf\": kf / nrm,\n",
    "        \"fkxx\": np.fft.fftn(kxx / nrm),\n",
    "        \"fkyy\": np.fft.fftn(kyy / nrm),\n",
    "        \"fkxy\": np.fft.fftn(kxy / nrm),\n",
    "        \"fkf\": np.fft.fftn(kf / nrm),\n",
    "        \"scale\": scale,\n",
    "        \"dim\": dim,\n",
    "        \"sigma\": sigma,\n",
    "        \"cen\": cen,\n",
    "    }"
   ]
  },
  {
   "cell_type": "code",
   "execution_count": null,
   "id": "7f742344",
   "metadata": {},
   "outputs": [],
   "source": [
    "def measure_kernels(im, kernels, offset=None, wgt=None):\n",
    "    rnrm = np.sum(im * kernels[\"rkf\"])\n",
    "    rxx = np.sum(im * kernels[\"rkxx\"]) / rnrm\n",
    "    ryy = np.sum(im * kernels[\"rkyy\"]) / rnrm\n",
    "    rxy = np.sum(im * kernels[\"rkxy\"]) / rnrm\n",
    "\n",
    "    imfft = np.fft.fftn(im) * kernels[\"scale\"]**2\n",
    "    f = np.fft.fftfreq(kernels[\"dim\"], d=kernels[\"scale\"])\n",
    "    if offset is not None:\n",
    "        xcen = offset[0]\n",
    "        ycen = offset[1]\n",
    "        fx = f.reshape(1, -1)\n",
    "        fy = f.reshape(-1, 1)\n",
    "        kcen = 2.0 * np.pi * (fy*ycen + fx*xcen)\n",
    "        cen_phase = np.cos(kcen) - 1j*np.sin(kcen)\n",
    "        imfft *= cen_phase\n",
    "    \n",
    "    df = f[1] - f[0]\n",
    "    fnrm = np.sum(imfft * kernels[\"fkf\"])\n",
    "    fxx = np.sum(imfft * kernels[\"fkxx\"]) / fnrm\n",
    "    fyy = np.sum(imfft * kernels[\"fkyy\"]) / fnrm\n",
    "    fxy = np.sum(imfft * kernels[\"fkxy\"]) / fnrm\n",
    "    \n",
    "    if wgt is not None:\n",
    "        print(\"real std:\", np.sqrt(np.sum(1/wgt * kernels[\"rkf\"]**2)))\n",
    "        tot_var = np.sum(np.ones_like(im) /wgt)\n",
    "        print(\n",
    "            \"fourier std:\", (\n",
    "                np.sqrt(np.sum(tot_var * kernels[\"fkf\"]*kernels[\"fkf\"])).real \n",
    "                * kernels[\"scale\"]**2 \n",
    "                * df**2\n",
    "            ),\n",
    "        )\n",
    "\n",
    "    return (\n",
    "        (rnrm, rxx + ryy, (rxx - ryy) / (rxx + ryy), 2 * rxy / (rxx + ryy)),\n",
    "        ((fnrm * df**2).real, (fxx + fyy).real, ((fxx - fyy) / (fxx + fyy)).real, (2 * fxy / (fxx + fyy)).real),\n",
    "        (fnrm * df**2, fxx + fyy, (fxx - fyy) / (fxx + fyy), 2 * fxy / (fxx + fyy))\n",
    "    )"
   ]
  },
  {
   "cell_type": "code",
   "execution_count": null,
   "id": "1b61ee05",
   "metadata": {},
   "outputs": [],
   "source": [
    "offset = np.array([1.2121, -1.2345])\n",
    "g = ngmix.GMixModel([\n",
    "    offset[0], offset[1], \n",
    "    -0.1, 0.1, \n",
    "    ngmix.moments.fwhm_to_T(ngmix.moments.sigma_to_fwhm(1)), \n",
    "    1], \"gauss\")\n",
    "\n",
    "dim = 53\n",
    "scale = 0.15\n",
    "cen = (dim-1)/2\n",
    "jac = ngmix.DiagonalJacobian(scale=scale, row=cen, col=cen)\n",
    "im = g.make_image((dim, dim), jacobian=jac)\n",
    "\n",
    "g = ngmix.GMixModel([0, 0, -0.1, 0.1, ngmix.moments.fwhm_to_T(ngmix.moments.sigma_to_fwhm(1)), 1], \"gauss\")\n",
    "im_cen = g.make_image((dim, dim), jacobian=ngmix.DiagonalJacobian(scale=scale, row=cen, col=cen))"
   ]
  },
  {
   "cell_type": "code",
   "execution_count": null,
   "id": "b021dd59",
   "metadata": {},
   "outputs": [],
   "source": [
    "fig, axs = plot.subplots()\n",
    "axs.imshow(im, cmap='rocket')"
   ]
  },
  {
   "cell_type": "code",
   "execution_count": null,
   "id": "1799edb5",
   "metadata": {},
   "outputs": [],
   "source": [
    "%%time\n",
    "\n",
    "kernels = build_kernel_cache(dim, 0.55, scale)"
   ]
  },
  {
   "cell_type": "code",
   "execution_count": null,
   "id": "352a1779",
   "metadata": {},
   "outputs": [],
   "source": [
    "wgt = 1e6\n",
    "nse = np.random.RandomState().normal(size=im.shape) * np.sqrt(1/wgt)\n",
    "\n",
    "kernels = build_kernel_cache(dim, 0.55, scale)\n",
    "print(measure_kernels(im_cen + nse, kernels, offset=(0, 0), wgt=wgt)[0])\n",
    "\n",
    "kernels = build_kernel_cache(dim, 0.55, scale)\n",
    "print(measure_kernels(im, kernels, offset=offset)[1])"
   ]
  },
  {
   "cell_type": "code",
   "execution_count": null,
   "id": "2c79e0b7",
   "metadata": {},
   "outputs": [],
   "source": [
    "vals = []\n",
    "for _ in range(1000):\n",
    "    nse = np.random.RandomState().normal(size=im.shape) * np.sqrt(1/wgt)\n",
    "\n",
    "    kernels = build_kernel_cache(dim, 0.55, scale)\n",
    "    vals.append(measure_kernels(im_cen + nse, kernels, offset=(0, 0))[1][0])\n",
    "\n",
    "print(np.std(vals))"
   ]
  },
  {
   "cell_type": "code",
   "execution_count": null,
   "id": "432bda77",
   "metadata": {},
   "outputs": [],
   "source": []
  },
  {
   "cell_type": "code",
   "execution_count": null,
   "id": "11934ef8",
   "metadata": {},
   "outputs": [],
   "source": []
  },
  {
   "cell_type": "code",
   "execution_count": null,
   "id": "f987218d",
   "metadata": {},
   "outputs": [],
   "source": []
  },
  {
   "cell_type": "code",
   "execution_count": null,
   "id": "6fdf0a73",
   "metadata": {},
   "outputs": [],
   "source": []
  },
  {
   "cell_type": "code",
   "execution_count": null,
   "id": "202b64c2",
   "metadata": {},
   "outputs": [],
   "source": [
    "gal = galsim.Exponential(half_light_radius=0.5)\n",
    "psf = galsim.Gaussian(fwhm=0.9)\n",
    "obj = galsim.Convolve(gal, psf)"
   ]
  },
  {
   "cell_type": "code",
   "execution_count": null,
   "id": "5e8c31d1",
   "metadata": {
    "scrolled": false
   },
   "outputs": [],
   "source": [
    "im = obj.drawImage(scale=0.2)\n",
    "psf_im = psf.drawImage(scale=0.2)"
   ]
  },
  {
   "cell_type": "code",
   "execution_count": null,
   "id": "73359a51",
   "metadata": {},
   "outputs": [],
   "source": [
    "gim = galsim.InterpolatedImage(im, scale=0.2)\n",
    "gpsf_im = galsim.InterpolatedImage(psf_im, scale=0.2)"
   ]
  },
  {
   "cell_type": "code",
   "execution_count": null,
   "id": "6e179bf0",
   "metadata": {},
   "outputs": [],
   "source": [
    "x, y = np.meshgrid(np.arange(dim), np.arange(dim))\n",
    "x = x.astype(np.float64)\n",
    "y = y.astype(np.float64)\n",
    "y -= cen\n",
    "x -= cen\n",
    "x *= 0.2\n",
    "y *= 0.2\n",
    "\n",
    "r2 = x**2 + y**2\n",
    "\n",
    "h = 0.55\n",
    "sc2 = h**2\n",
    "\n",
    "z = np.sqrt(r2/sc2)\n",
    "msk = z < 3\n",
    "wf = np.zeros_like(x)\n",
    "\n",
    "wf[msk] = 35 / 96 * (1 - (z[msk] / 3) ** 2) ** 3 / h\n",
    "\n",
    "fig, axs = plot.subplots()\n",
    "axs.imshow(wf, cmap='rocket')"
   ]
  },
  {
   "cell_type": "code",
   "execution_count": null,
   "id": "b32be901",
   "metadata": {},
   "outputs": [],
   "source": [
    "gwf = galsim.InterpolatedImage(galsim.ImageF(wf), scale=0.2, )"
   ]
  },
  {
   "cell_type": "code",
   "execution_count": null,
   "id": "21ce533d",
   "metadata": {},
   "outputs": [],
   "source": [
    "fobj = galsim.Convolve([galsim.Deconvolve(gpsf_im), gim, gwf])"
   ]
  },
  {
   "cell_type": "code",
   "execution_count": null,
   "id": "c17552b6",
   "metadata": {},
   "outputs": [],
   "source": [
    "fig, axs = plot.subplots()\n",
    "axs.imshow(fobj.drawImage(method='no_pixel').array, cmap='rocket')\n",
    "\n"
   ]
  },
  {
   "cell_type": "code",
   "execution_count": null,
   "id": "f6e3b022",
   "metadata": {},
   "outputs": [],
   "source": []
  },
  {
   "cell_type": "code",
   "execution_count": null,
   "id": "42aac300",
   "metadata": {},
   "outputs": [],
   "source": []
  },
  {
   "cell_type": "code",
   "execution_count": null,
   "id": "696083c8",
   "metadata": {},
   "outputs": [],
   "source": [
    "def wfun_ksigma(k, scale=1.2, n=4):\n",
    "    sc = np.sqrt(2 * n)/scale\n",
    "    msk = k < sc\n",
    "    wk = np.zeros_like(k)\n",
    "    wk[msk] = np.power(1.0 - k[msk]*k[msk]/sc/sc, n)\n",
    "    return wk\n",
    "\n",
    "def wfun_unit(k):\n",
    "    return np.ones_like(k)"
   ]
  },
  {
   "cell_type": "code",
   "execution_count": null,
   "id": "deef93b5",
   "metadata": {},
   "outputs": [],
   "source": [
    "print(ngmix.moments.fwhm_to_T(ngmix.moments.sigma_to_fwhm(1)))\n",
    "\n",
    "g = ngmix.GMixModel([0, 0, 0.1, -0.3, ngmix.moments.fwhm_to_T(ngmix.moments.sigma_to_fwhm(1)), 1], \"gauss\")\n",
    "\n",
    "dim = 101\n",
    "scale = 0.1\n",
    "cen = (dim-1)/2\n",
    "jac = ngmix.DiagonalJacobian(scale=scale, row=cen, col=cen)\n",
    "im = g.make_image((dim, dim), jacobian=jac)\n",
    "im += np.ones_like(im) * np.random.normal(size=im.shape) * 0"
   ]
  },
  {
   "cell_type": "code",
   "execution_count": null,
   "id": "96598105",
   "metadata": {},
   "outputs": [],
   "source": [
    "fig, axs = plot.subplots()\n",
    "axs.imshow(im, cmap='rocket')"
   ]
  },
  {
   "cell_type": "code",
   "execution_count": null,
   "id": "59dd00a3",
   "metadata": {},
   "outputs": [],
   "source": [
    "imfft = np.fft.fftn(im)\n",
    "f = np.fft.fftfreq(im.shape[0], d=scale)\n",
    "\n",
    "xcen = cen\n",
    "ycen = cen\n",
    "\n",
    "fx = f.reshape(1, -1)\n",
    "fy = f.reshape(-1, 1)\n",
    "kcen = fy*ycen + fx*xcen\n",
    "cen_phase = np.cos(kcen) + 1j*np.sin(kcen)\n",
    "\n",
    "imfft_cen = imfft * cen_phase"
   ]
  },
  {
   "cell_type": "code",
   "execution_count": null,
   "id": "e16fc5e6",
   "metadata": {},
   "outputs": [],
   "source": [
    "fig, axs = plot.subplots(nrows=2, ncols=3)\n",
    "\n",
    "axs[0, 0].imshow(np.fft.fftshift((imfft.real)), cmap='rocket')\n",
    "axs[0, 1].imshow(np.fft.fftshift((imfft.imag)), cmap='rocket')\n",
    "axs[0, 2].imshow(np.fft.fftshift(np.abs(imfft)), cmap='rocket')\n",
    "\n",
    "axs[1, 0].imshow(np.fft.fftshift((imfft_cen.real)), cmap='rocket')\n",
    "axs[1, 1].imshow(np.fft.fftshift((imfft_cen.imag)), cmap='rocket')\n",
    "axs[1, 2].imshow(np.fft.fftshift(np.abs(imfft_cen)), cmap='rocket')"
   ]
  },
  {
   "cell_type": "code",
   "execution_count": null,
   "id": "62a577ce",
   "metadata": {},
   "outputs": [],
   "source": [
    "kmag = np.sqrt(fx*fx + fy*fy)\n",
    "wf = wfun_unit(kmag)\n",
    "\n",
    "df = f[1]-f[0]\n",
    "prof = imfft_cen\n",
    "nrm = df**2 * np.sum(prof * wf)\n",
    "print(\n",
    "    df**2 * np.sum(prof * wf),\n",
    "    df**2 * np.sum(prof * wf * (fx*fx + fy*fy)) / nrm,\n",
    "    df**2 * np.sum(prof * wf * (fx*fx - fy*fy)) / nrm,\n",
    "    df**2 * np.sum(prof * wf * (2*fx*fy)) / nrm,\n",
    ")"
   ]
  },
  {
   "cell_type": "code",
   "execution_count": null,
   "id": "0204a6c6",
   "metadata": {},
   "outputs": [],
   "source": [
    "prof = np.abs(imfft)\n",
    "nrm = np.sum(prof * wf)\n",
    "mxx = np.sum(prof * wf * (fx**2)) / nrm\n",
    "myy = np.sum(prof * wf * (fy**2)) / nrm\n",
    "mxy = np.sum(prof * wf * (fx*fy)) / nrm\n",
    "\n",
    "m = np.array([[mxx, mxy], [mxy, myy]])\n",
    "minv = np.linalg.inv(m)\n",
    "\n",
    "T = minv[0, 0] + minv[1, 1]\n",
    "e1 = (minv[0, 0] - minv[1, 1]) / T\n",
    "e2 = 2*minv[0, 1] / T\n",
    "\n",
    "print(m, \"\\n\", minv, \"\\n\", T, \"\\n\", (e1, e2), \"\\n\", ngmix.shape.e1e2_to_g1g2(e1, e2))"
   ]
  },
  {
   "cell_type": "code",
   "execution_count": null,
   "id": "f024b0ff",
   "metadata": {},
   "outputs": [],
   "source": [
    "x, y = np.meshgrid(np.arange(dim), np.arange(dim))\n",
    "x = x.astype(np.float64)\n",
    "y = y.astype(np.float64)\n",
    "y -= cen\n",
    "x -= cen\n",
    "x *= scale\n",
    "y *= scale\n",
    "\n",
    "nrm = np.sum(im) * scale**2\n",
    "enrm = np.sum(im * (x*x + y*y)) * scale**2\n",
    "e1 = np.sum(im * (x*x - y*y)) * scale**2 / enrm\n",
    "e2 = np.sum(im * (2*x*y)) * scale**2 / enrm\n",
    "print(\n",
    "    nrm,\n",
    "    enrm / nrm,\n",
    "    e1,\n",
    "    e2,\n",
    ")\n",
    "\n",
    "print(ngmix.shape.e1e2_to_g1g2(e1, e2))"
   ]
  },
  {
   "cell_type": "code",
   "execution_count": null,
   "id": "4bf457c7",
   "metadata": {},
   "outputs": [],
   "source": [
    "for x in [-15, -10, 1, 12]:\n",
    "    if -20 < x < -11:\n",
    "        print(\"yes\")\n",
    "    else:\n",
    "        print(\"no\")"
   ]
  },
  {
   "cell_type": "code",
   "execution_count": null,
   "id": "1a89e702",
   "metadata": {},
   "outputs": [],
   "source": [
    "(5 < 10) is True"
   ]
  },
  {
   "cell_type": "code",
   "execution_count": null,
   "id": "8e3694bc",
   "metadata": {},
   "outputs": [],
   "source": [
    "(5 < 10 > 2 < 4 > 6)"
   ]
  },
  {
   "cell_type": "code",
   "execution_count": null,
   "id": "c7bb65e8",
   "metadata": {},
   "outputs": [],
   "source": [
    "from ngmix.moments import fwhm_to_sigma\n",
    "\n",
    "fwhm_to_sigma(1.2)"
   ]
  },
  {
   "cell_type": "code",
   "execution_count": null,
   "id": "b20eff93",
   "metadata": {},
   "outputs": [],
   "source": []
  }
 ],
 "metadata": {
  "kernelspec": {
   "display_name": "Python [conda env:ngmix-dev] *",
   "language": "python",
   "name": "conda-env-ngmix-dev-py"
  },
  "language_info": {
   "codemirror_mode": {
    "name": "ipython",
    "version": 3
   },
   "file_extension": ".py",
   "mimetype": "text/x-python",
   "name": "python",
   "nbconvert_exporter": "python",
   "pygments_lexer": "ipython3",
   "version": "3.7.8"
  }
 },
 "nbformat": 4,
 "nbformat_minor": 5
}
