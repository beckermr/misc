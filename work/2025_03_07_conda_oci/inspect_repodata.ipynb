{
 "cells": [
  {
   "cell_type": "code",
   "execution_count": 1,
   "metadata": {},
   "outputs": [],
   "source": [
    "import orjson\n",
    "\n",
    "from conda_oci_utils import (\n",
    "    encode_conda_dist_to_oci_dist,\n",
    "    is_valid_oci_dist,\n",
    "    is_valid_conda_dist,\n",
    ")\n",
    "from conda_forge_metadata.repodata import fetch_repodata, all_labels"
   ]
  },
  {
   "cell_type": "code",
   "execution_count": 2,
   "metadata": {},
   "outputs": [
    {
     "name": "stderr",
     "output_type": "stream",
     "text": [
      "  7%|██▉                                      | 26/360 [00:00<00:02, 151.01it/s]"
     ]
    },
    {
     "name": "stdout",
     "output_type": "stream",
     "text": [
      "> invalid   oci dist: conda-forge/label/TEST/linux-64/cgdal:2.3.3-py27hf242f0b__1 (label: TEST)\n",
      "> invalid   oci dist: conda-forge/label/TEST/linux-64/cgdal:2.3.3-py36hf242f0b__1 (label: TEST)\n",
      "> invalid   oci dist: conda-forge/label/TEST/linux-64/cgdal:2.3.3-py37hf242f0b__1 (label: TEST)\n",
      "> invalid   oci dist: conda-forge/label/TEST/linux-64/clibgdal:2.3.3-hdb8f723__1 (label: TEST)\n",
      "> invalid   oci dist: conda-forge/label/TEST/osx-64/cgdal:2.3.3-py27h7eb7563__1 (label: TEST)\n",
      "> invalid   oci dist: conda-forge/label/TEST/osx-64/cgdal:2.3.3-py36h7eb7563__1 (label: TEST)\n",
      "> invalid   oci dist: conda-forge/label/TEST/osx-64/cgdal:2.3.3-py37h7eb7563__1 (label: TEST)\n",
      "> invalid   oci dist: conda-forge/label/TEST/osx-64/clibgdal:2.3.3-h16bfee5__1 (label: TEST)\n",
      "> invalid   oci dist: conda-forge/label/TEST/win-64/cgdal:2.3.3-py36hdf5ee75__1 (label: TEST)\n",
      "> invalid   oci dist: conda-forge/label/TEST/win-64/cgdal:2.3.3-py37hdf5ee75__1 (label: TEST)\n",
      "> invalid   oci dist: conda-forge/label/TEST/win-64/clibgdal:2.3.3-he26aab1__1 (label: TEST)\n",
      "> invalid conda dist: conda-forge/label/broken-and-invalid/linux-64/pyside2-2.0.0~alpha0-py27_0.tar.bz2 (label: broken-and-invalid)\n",
      "> invalid   oci dist: conda-forge/label/broken-and-invalid/linux-64/cpyside2:2.0.0~alpha0-py27__0 (label: broken-and-invalid)\n",
      "> invalid conda dist: conda-forge/label/broken-and-invalid/linux-64/pyside2-2.0.0~alpha0-py35_0.tar.bz2 (label: broken-and-invalid)\n",
      "> invalid   oci dist: conda-forge/label/broken-and-invalid/linux-64/cpyside2:2.0.0~alpha0-py35__0 (label: broken-and-invalid)\n",
      "> invalid conda dist: conda-forge/label/broken-and-invalid/linux-64/pyside2-2.0.0~alpha0-py36_0.tar.bz2 (label: broken-and-invalid)\n",
      "> invalid   oci dist: conda-forge/label/broken-and-invalid/linux-64/cpyside2:2.0.0~alpha0-py36__0 (label: broken-and-invalid)\n",
      "> invalid conda dist: conda-forge/label/broken-and-invalid/osx-64/pyside2-2.0.0~alpha0-py27_0.tar.bz2 (label: broken-and-invalid)\n",
      "> invalid   oci dist: conda-forge/label/broken-and-invalid/osx-64/cpyside2:2.0.0~alpha0-py27__0 (label: broken-and-invalid)\n",
      "> invalid conda dist: conda-forge/label/broken-and-invalid/osx-64/pyside2-2.0.0~alpha0-py35_0.tar.bz2 (label: broken-and-invalid)\n",
      "> invalid   oci dist: conda-forge/label/broken-and-invalid/osx-64/cpyside2:2.0.0~alpha0-py35__0 (label: broken-and-invalid)\n",
      "> invalid conda dist: conda-forge/label/broken-and-invalid/osx-64/pyside2-2.0.0~alpha0-py36_0.tar.bz2 (label: broken-and-invalid)\n",
      "> invalid   oci dist: conda-forge/label/broken-and-invalid/osx-64/cpyside2:2.0.0~alpha0-py36__0 (label: broken-and-invalid)\n"
     ]
    },
    {
     "name": "stderr",
     "output_type": "stream",
     "text": [
      "  7%|██▉                                      | 26/360 [00:01<00:02, 151.01it/s]"
     ]
    },
    {
     "name": "stdout",
     "output_type": "stream",
     "text": [
      "> invalid conda dist: conda-forge/label/cf201901/osx-64/lammps-2018.03.16-.tar.bz2 (label: cf201901)\n"
     ]
    },
    {
     "name": "stderr",
     "output_type": "stream",
     "text": [
      "  7%|██▉                                      | 26/360 [00:03<00:02, 151.01it/s]"
     ]
    },
    {
     "name": "stdout",
     "output_type": "stream",
     "text": [
      "> invalid conda dist: conda-forge/label/cf202003/osx-64/lammps-2018.03.16-.tar.bz2 (label: cf202003)\n"
     ]
    },
    {
     "name": "stderr",
     "output_type": "stream",
     "text": [
      "100%|█████████████████████████████████████████| 360/360 [00:23<00:00, 15.10it/s]"
     ]
    },
    {
     "name": "stdout",
     "output_type": "stream",
     "text": [
      "max oci name length: 93\n",
      "max oci tag length: 81\n"
     ]
    },
    {
     "name": "stderr",
     "output_type": "stream",
     "text": [
      "\n"
     ]
    }
   ],
   "source": [
    "import sys\n",
    "import tqdm\n",
    "\n",
    "labels = all_labels(use_remote_cache=True)\n",
    "\n",
    "max_name_len = 0\n",
    "max_tag_len = 0\n",
    "for label in tqdm.tqdm(labels, ncols=80, file=sys.stderr):\n",
    "    for subdir in [\n",
    "        \"linux-64\",\n",
    "        \"osx-64\",\n",
    "        \"noarch\",\n",
    "        \"win-64\",\n",
    "        \"linux-aarch64\",\n",
    "        \"osx-arm64\",\n",
    "        \"linux-ppc64le\",\n",
    "    ]:\n",
    "        rd = fetch_repodata([subdir], label=label)[0]\n",
    "        with open(rd) as f:\n",
    "            rd = orjson.loads(f.read())\n",
    "\n",
    "        for key in [\"packages\", \"packages.conda\"]:\n",
    "            for dist in rd[key]:\n",
    "                if label != \"main\":\n",
    "                    conda_dist = f\"conda-forge/label/{label}/{subdir}/{dist}\"\n",
    "                else:\n",
    "                    conda_dist = f\"conda-forge/{subdir}/{dist}\"\n",
    "\n",
    "                if not is_valid_conda_dist(conda_dist):\n",
    "                    tqdm.tqdm.write(f\"> invalid conda dist: {conda_dist} (label: {label})\")\n",
    "\n",
    "                oci_dist = encode_conda_dist_to_oci_dist(conda_dist)\n",
    "\n",
    "                if not is_valid_oci_dist(oci_dist):\n",
    "                    tqdm.tqdm.write(f\"> invalid   oci dist: {oci_dist} (label: {label})\")\n",
    "                else:\n",
    "                    name, tag = oci_dist.rsplit(\":\", maxsplit=1)\n",
    "                    # if len(name) > max_name_len:\n",
    "                    #     tqdm.tqdm.write(f\"current maximum oci name length: {len(name)}\")\n",
    "                    max_name_len = max(max_name_len, len(name))\n",
    "                    # if len(tag) > max_tag_len:\n",
    "                    #     tqdm.tqdm.write(f\"current maximum oci tag length: {len(tag)}\")\n",
    "                    max_tag_len = max(max_tag_len, len(tag))\n",
    "                    # tqdm.tqdm.write(f\"valid oci dist: {oci_dist} (label: {label})\")\n",
    "\n",
    "print(f\"max oci name length: {max_name_len}\")\n",
    "print(f\"max oci tag length: {max_tag_len}\")"
   ]
  },
  {
   "cell_type": "code",
   "execution_count": 3,
   "metadata": {},
   "outputs": [
    {
     "name": "stderr",
     "output_type": "stream",
     "text": [
      "main: 100%|███████████████████████████████████████| 3/3 [00:01<00:00,  1.91it/s]\n"
     ]
    },
    {
     "name": "stdout",
     "output_type": "stream",
     "text": [
      "max oci name length: 64\n",
      "max oci tag length: 48\n"
     ]
    },
    {
     "name": "stderr",
     "output_type": "stream",
     "text": [
      "msys2: 100%|█████████████████████████████████████| 3/3 [00:00<00:00, 504.28it/s]\n"
     ]
    },
    {
     "name": "stdout",
     "output_type": "stream",
     "text": [
      "max oci name length: 44\n",
      "max oci tag length: 21\n"
     ]
    },
    {
     "name": "stderr",
     "output_type": "stream",
     "text": [
      "r: 100%|██████████████████████████████████████████| 3/3 [00:00<00:00, 12.68it/s]"
     ]
    },
    {
     "name": "stdout",
     "output_type": "stream",
     "text": [
      "max oci name length: 41\n",
      "max oci tag length: 30\n"
     ]
    },
    {
     "name": "stderr",
     "output_type": "stream",
     "text": [
      "\n"
     ]
    }
   ],
   "source": [
    "import defaults_repodata\n",
    "\n",
    "for channel in defaults_repodata.DEFAULTS_CHANNELS:\n",
    "    labels = [\"main\", \"borken\", \"borked\"]\n",
    "    # does not work right now\n",
    "    # labels = defaults_repodata.all_labels(channel=channel)\n",
    "    # print(channel, labels)\n",
    "\n",
    "    max_name_len = 0\n",
    "    max_tag_len = 0\n",
    "    for label in tqdm.tqdm(labels, ncols=80, desc=channel):\n",
    "        for subdir in [\n",
    "            \"linux-64\",\n",
    "            \"osx-64\",\n",
    "            \"noarch\",\n",
    "            \"win-64\",\n",
    "            \"linux-aarch64\",\n",
    "            \"osx-arm64\",\n",
    "            \"linux-ppc64le\",\n",
    "        ]:\n",
    "            rd = defaults_repodata.fetch_repodata(channel, [subdir], label=label)[0]\n",
    "            with open(rd) as f:\n",
    "                rd = orjson.loads(f.read())\n",
    "\n",
    "            for key in [\"packages\", \"packages.conda\"]:\n",
    "                for dist in rd[key]:\n",
    "                    if label != \"main\":\n",
    "                        conda_dist = f\"{channel}/label/{label}/{subdir}/{dist}\"\n",
    "                    else:\n",
    "                        conda_dist = f\"{channel}/{subdir}/{dist}\"\n",
    "\n",
    "                    if (\n",
    "                        (not is_valid_conda_dist(conda_dist))\n",
    "                        and \"__anaconda_core_depends\" not in conda_dist\n",
    "                    ):\n",
    "                        tqdm.tqdm.write(f\"> invalid conda dist: {conda_dist} (label: {label})\")\n",
    "\n",
    "                    oci_dist = encode_conda_dist_to_oci_dist(conda_dist)\n",
    "\n",
    "                    if not is_valid_oci_dist(oci_dist):\n",
    "                        tqdm.tqdm.write(f\"> invalid   oci dist: {oci_dist} (label: {label})\")\n",
    "                    else:\n",
    "                        name, tag = oci_dist.rsplit(\":\", maxsplit=1)\n",
    "                        # if len(name) > max_name_len:\n",
    "                        #     tqdm.tqdm.write(f\"current maximum oci name length: {len(name)}\")\n",
    "                        max_name_len = max(max_name_len, len(name))\n",
    "                        # if len(tag) > max_tag_len:\n",
    "                        #     tqdm.tqdm.write(f\"current maximum oci tag length: {len(tag)}\")\n",
    "                        max_tag_len = max(max_tag_len, len(tag))\n",
    "                        # tqdm.tqdm.write(f\"valid oci dist: {oci_dist} (label: {label})\")\n",
    "\n",
    "    print(f\"max oci name length: {max_name_len}\")\n",
    "    print(f\"max oci tag length: {max_tag_len}\")"
   ]
  },
  {
   "cell_type": "code",
   "execution_count": null,
   "metadata": {},
   "outputs": [],
   "source": []
  }
 ],
 "metadata": {
  "kernelspec": {
   "display_name": "cf-dev",
   "language": "python",
   "name": "python3"
  },
  "language_info": {
   "codemirror_mode": {
    "name": "ipython",
    "version": 3
   },
   "file_extension": ".py",
   "mimetype": "text/x-python",
   "name": "python",
   "nbconvert_exporter": "python",
   "pygments_lexer": "ipython3",
   "version": "3.11.9"
  }
 },
 "nbformat": 4,
 "nbformat_minor": 2
}
