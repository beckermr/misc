{
 "cells": [
  {
   "cell_type": "code",
   "execution_count": 1,
   "metadata": {},
   "outputs": [],
   "source": [
    "import orjson\n",
    "\n",
    "from conda_oci_utils import (\n",
    "    encode_conda_dist_to_oci_dist,\n",
    "    is_valid_oci_dist,\n",
    "    is_valid_conda_dist,\n",
    ")\n",
    "from conda_forge_metadata.repodata import fetch_repodata, all_labels"
   ]
  },
  {
   "cell_type": "code",
   "execution_count": 2,
   "metadata": {},
   "outputs": [
    {
     "name": "stderr",
     "output_type": "stream",
     "text": [
      "  7%|██▊                                      | 25/358 [00:00<00:02, 124.44it/s]"
     ]
    },
    {
     "name": "stdout",
     "output_type": "stream",
     "text": [
      "invalid conda dist: pyside2-2.0.0~alpha0-py27_0.tar.bz2 (label broken-and-invalid)\n",
      "invalid conda dist: conda-forge/broken-and-invalid/linux-64/pyside2-2.0.0~alpha0-py27_0.tar.bz2 (label: broken-and-invalid)\n",
      "invalid oci dist: conda-forge/linux-64/cpyside2:2.0.0~alpha0-py27_U0-broken_Dand_Dinvalid (label: broken-and-invalid)\n",
      "invalid conda dist: pyside2-2.0.0~alpha0-py35_0.tar.bz2 (label broken-and-invalid)\n",
      "invalid conda dist: conda-forge/broken-and-invalid/linux-64/pyside2-2.0.0~alpha0-py35_0.tar.bz2 (label: broken-and-invalid)\n",
      "invalid oci dist: conda-forge/linux-64/cpyside2:2.0.0~alpha0-py35_U0-broken_Dand_Dinvalid (label: broken-and-invalid)\n",
      "invalid conda dist: pyside2-2.0.0~alpha0-py36_0.tar.bz2 (label broken-and-invalid)\n",
      "invalid conda dist: conda-forge/broken-and-invalid/linux-64/pyside2-2.0.0~alpha0-py36_0.tar.bz2 (label: broken-and-invalid)\n",
      "invalid oci dist: conda-forge/linux-64/cpyside2:2.0.0~alpha0-py36_U0-broken_Dand_Dinvalid (label: broken-and-invalid)\n",
      "invalid conda dist: pyside2-2.0.0~alpha0-py27_0.tar.bz2 (label broken-and-invalid)\n",
      "invalid conda dist: conda-forge/broken-and-invalid/osx-64/pyside2-2.0.0~alpha0-py27_0.tar.bz2 (label: broken-and-invalid)\n",
      "invalid oci dist: conda-forge/osx-64/cpyside2:2.0.0~alpha0-py27_U0-broken_Dand_Dinvalid (label: broken-and-invalid)\n",
      "invalid conda dist: pyside2-2.0.0~alpha0-py35_0.tar.bz2 (label broken-and-invalid)\n",
      "invalid conda dist: conda-forge/broken-and-invalid/osx-64/pyside2-2.0.0~alpha0-py35_0.tar.bz2 (label: broken-and-invalid)\n",
      "invalid oci dist: conda-forge/osx-64/cpyside2:2.0.0~alpha0-py35_U0-broken_Dand_Dinvalid (label: broken-and-invalid)\n",
      "invalid conda dist: pyside2-2.0.0~alpha0-py36_0.tar.bz2 (label broken-and-invalid)\n",
      "invalid conda dist: conda-forge/broken-and-invalid/osx-64/pyside2-2.0.0~alpha0-py36_0.tar.bz2 (label: broken-and-invalid)\n",
      "invalid oci dist: conda-forge/osx-64/cpyside2:2.0.0~alpha0-py36_U0-broken_Dand_Dinvalid (label: broken-and-invalid)\n"
     ]
    },
    {
     "name": "stderr",
     "output_type": "stream",
     "text": [
      "100%|█████████████████████████████████████████| 358/358 [00:34<00:00, 10.25it/s]"
     ]
    },
    {
     "name": "stdout",
     "output_type": "stream",
     "text": [
      "max oci name length: 71\n",
      "max oci tag length: 88\n"
     ]
    },
    {
     "name": "stderr",
     "output_type": "stream",
     "text": [
      "\n"
     ]
    }
   ],
   "source": [
    "import tqdm\n",
    "\n",
    "labels = all_labels(use_remote_cache=True)\n",
    "\n",
    "max_name_len = 0\n",
    "max_tag_len = 0\n",
    "for label in tqdm.tqdm(labels, ncols=80):\n",
    "    for subdir in [\n",
    "        \"linux-64\",\n",
    "        \"osx-64\",\n",
    "        \"noarch\",\n",
    "        \"win-64\",\n",
    "        \"linux-aarch64\",\n",
    "        \"osx-arm64\",\n",
    "        \"linux-ppc64le\",\n",
    "    ]:\n",
    "        rd = fetch_repodata([subdir], label=label)[0]\n",
    "        with open(rd) as f:\n",
    "            rd = orjson.loads(f.read())\n",
    "\n",
    "        for key in [\"packages\", \"packages.conda\"]:\n",
    "            for dist in rd[key]:\n",
    "                if not is_valid_conda_dist(dist):\n",
    "                    tqdm.tqdm.write(f\"invalid conda dist: {dist} (label {label})\")\n",
    "\n",
    "                if label != \"main\":\n",
    "                    conda_dist = f\"conda-forge/{label}/{subdir}/{dist}\"\n",
    "                else:\n",
    "                    conda_dist = f\"conda-forge/{subdir}/{dist}\"\n",
    "\n",
    "                if not is_valid_conda_dist(conda_dist):\n",
    "                    tqdm.tqdm.write(f\"invalid conda dist: {conda_dist} (label: {label})\")\n",
    "\n",
    "                oci_dist = encode_conda_dist_to_oci_dist(conda_dist)\n",
    "\n",
    "                if not is_valid_oci_dist(oci_dist):\n",
    "                    tqdm.tqdm.write(f\"invalid oci dist: {oci_dist} (label: {label})\")\n",
    "                else:\n",
    "                    name, tag = oci_dist.rsplit(\":\", maxsplit=1)\n",
    "                    # if len(name) > max_name_len:\n",
    "                    #     tqdm.tqdm.write(f\"current maximum oci name length: {len(name)}\")\n",
    "                    max_name_len = max(max_name_len, len(name))\n",
    "                    # if len(tag) > max_tag_len:\n",
    "                    #     tqdm.tqdm.write(f\"current maximum oci tag length: {len(tag)}\")\n",
    "                    max_tag_len = max(max_tag_len, len(tag))\n",
    "                    # tqdm.tqdm.write(f\"valid oci dist: {oci_dist} (label: {label})\")\n",
    "\n",
    "print(f\"max oci name length: {max_name_len}\")\n",
    "print(f\"max oci tag length: {max_tag_len}\")"
   ]
  },
  {
   "cell_type": "code",
   "execution_count": 4,
   "metadata": {},
   "outputs": [
    {
     "name": "stderr",
     "output_type": "stream",
     "text": [
      "main: 100%|███████████████████████████████████████| 3/3 [00:01<00:00,  1.57it/s]\n"
     ]
    },
    {
     "name": "stdout",
     "output_type": "stream",
     "text": [
      "max oci name length: 64\n",
      "max oci tag length: 48\n"
     ]
    },
    {
     "name": "stderr",
     "output_type": "stream",
     "text": [
      "msys2: 100%|██████████████████████████████████████| 3/3 [00:01<00:00,  1.91it/s]\n"
     ]
    },
    {
     "name": "stdout",
     "output_type": "stream",
     "text": [
      "max oci name length: 44\n",
      "max oci tag length: 21\n"
     ]
    },
    {
     "name": "stderr",
     "output_type": "stream",
     "text": [
      "r: 100%|██████████████████████████████████████████| 3/3 [00:07<00:00,  2.62s/it]"
     ]
    },
    {
     "name": "stdout",
     "output_type": "stream",
     "text": [
      "max oci name length: 41\n",
      "max oci tag length: 30\n"
     ]
    },
    {
     "name": "stderr",
     "output_type": "stream",
     "text": [
      "\n"
     ]
    }
   ],
   "source": [
    "import defaults_repodata\n",
    "\n",
    "for channel in defaults_repodata.DEFAULTS_CHANNELS:\n",
    "    labels = [\"main\", \"borken\", \"borked\"]\n",
    "    # does not work right now\n",
    "    # labels = defaults_repodata.all_labels(channel=channel)\n",
    "    # print(channel, labels)\n",
    "\n",
    "    max_name_len = 0\n",
    "    max_tag_len = 0\n",
    "    for label in tqdm.tqdm(labels, ncols=80, desc=channel):\n",
    "        for subdir in [\n",
    "            \"linux-64\",\n",
    "            \"osx-64\",\n",
    "            \"noarch\",\n",
    "            \"win-64\",\n",
    "            \"linux-aarch64\",\n",
    "            \"osx-arm64\",\n",
    "            \"linux-ppc64le\",\n",
    "        ]:\n",
    "            rd = defaults_repodata.fetch_repodata(channel, [subdir], label=label)[0]\n",
    "            with open(rd) as f:\n",
    "                rd = orjson.loads(f.read())\n",
    "\n",
    "            for key in [\"packages\", \"packages.conda\"]:\n",
    "                for dist in rd[key]:\n",
    "                    if (\n",
    "                        (not is_valid_conda_dist(dist))\n",
    "                        and \"__anaconda_core_depends\" not in dist\n",
    "                    ):\n",
    "                        tqdm.tqdm.write(f\"invalid conda dist: {dist} (label {label})\")\n",
    "\n",
    "                    if label != \"main\":\n",
    "                        conda_dist = f\"{channel}/{label}/{subdir}/{dist}\"\n",
    "                    else:\n",
    "                        conda_dist = f\"{channel}/{subdir}/{dist}\"\n",
    "\n",
    "                    if (\n",
    "                        (not is_valid_conda_dist(conda_dist))\n",
    "                        and \"__anaconda_core_depends\" not in conda_dist\n",
    "                    ):\n",
    "                        tqdm.tqdm.write(f\"invalid conda dist: {conda_dist} (label: {label})\")\n",
    "\n",
    "                    oci_dist = encode_conda_dist_to_oci_dist(conda_dist)\n",
    "\n",
    "                    if not is_valid_oci_dist(oci_dist):\n",
    "                        tqdm.tqdm.write(f\"invalid oci dist: {oci_dist} (label: {label})\")\n",
    "                    else:\n",
    "                        name, tag = oci_dist.rsplit(\":\", maxsplit=1)\n",
    "                        # if len(name) > max_name_len:\n",
    "                        #     tqdm.tqdm.write(f\"current maximum oci name length: {len(name)}\")\n",
    "                        max_name_len = max(max_name_len, len(name))\n",
    "                        # if len(tag) > max_tag_len:\n",
    "                        #     tqdm.tqdm.write(f\"current maximum oci tag length: {len(tag)}\")\n",
    "                        max_tag_len = max(max_tag_len, len(tag))\n",
    "                        # tqdm.tqdm.write(f\"valid oci dist: {oci_dist} (label: {label})\")\n",
    "\n",
    "    print(f\"max oci name length: {max_name_len}\")\n",
    "    print(f\"max oci tag length: {max_tag_len}\")"
   ]
  },
  {
   "cell_type": "code",
   "execution_count": null,
   "metadata": {},
   "outputs": [],
   "source": []
  }
 ],
 "metadata": {
  "kernelspec": {
   "display_name": "cf-dev",
   "language": "python",
   "name": "python3"
  },
  "language_info": {
   "codemirror_mode": {
    "name": "ipython",
    "version": 3
   },
   "file_extension": ".py",
   "mimetype": "text/x-python",
   "name": "python",
   "nbconvert_exporter": "python",
   "pygments_lexer": "ipython3",
   "version": "3.11.9"
  }
 },
 "nbformat": 4,
 "nbformat_minor": 2
}
