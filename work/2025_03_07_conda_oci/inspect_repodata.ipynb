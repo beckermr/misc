{
 "cells": [
  {
   "cell_type": "code",
   "execution_count": 2,
   "metadata": {},
   "outputs": [],
   "source": [
    "import orjson\n",
    "\n",
    "from conda_oci_utils import encode_conda_dist_to_oci_dist, is_valid_oci_dist, is_valid_conda_dist\n",
    "from conda_forge_metadata.repodata import fetch_repodata, all_labels"
   ]
  },
  {
   "cell_type": "code",
   "execution_count": 4,
   "metadata": {},
   "outputs": [
    {
     "name": "stderr",
     "output_type": "stream",
     "text": [
      "  7%|██▊                                      | 25/357 [00:00<00:02, 145.63it/s]"
     ]
    },
    {
     "name": "stdout",
     "output_type": "stream",
     "text": [
      "current maximum oci length: 48\n",
      "current maximum oci length: 58\n",
      "current maximum oci length: 62\n",
      "current maximum oci length: 69\n",
      "current maximum oci length: 74\n",
      "current maximum oci length: 75\n",
      "current maximum oci length: 77\n",
      "current maximum oci length: 78\n",
      "current maximum oci length: 112\n",
      "current maximum oci length: 117\n",
      "invalid conda dist: pyside2-2.0.0~alpha0-py27_0.tar.bz2 (label broken-and-invalid)\n",
      "invalid oci dist: conda-forge/linux-64/cpyside2:2.0.0~alpha0-py27__0 (label: broken-and-invalid)\n",
      "invalid conda dist: pyside2-2.0.0~alpha0-py35_0.tar.bz2 (label broken-and-invalid)\n",
      "invalid oci dist: conda-forge/linux-64/cpyside2:2.0.0~alpha0-py35__0 (label: broken-and-invalid)\n",
      "invalid conda dist: pyside2-2.0.0~alpha0-py36_0.tar.bz2 (label broken-and-invalid)\n",
      "invalid oci dist: conda-forge/linux-64/cpyside2:2.0.0~alpha0-py36__0 (label: broken-and-invalid)\n",
      "invalid conda dist: pyside2-2.0.0~alpha0-py27_0.tar.bz2 (label broken-and-invalid)\n",
      "invalid oci dist: conda-forge/osx-64/cpyside2:2.0.0~alpha0-py27__0 (label: broken-and-invalid)\n",
      "invalid conda dist: pyside2-2.0.0~alpha0-py35_0.tar.bz2 (label broken-and-invalid)\n",
      "invalid oci dist: conda-forge/osx-64/cpyside2:2.0.0~alpha0-py35__0 (label: broken-and-invalid)\n",
      "invalid conda dist: pyside2-2.0.0~alpha0-py36_0.tar.bz2 (label broken-and-invalid)\n",
      "invalid oci dist: conda-forge/osx-64/cpyside2:2.0.0~alpha0-py36__0 (label: broken-and-invalid)\n"
     ]
    },
    {
     "name": "stderr",
     "output_type": "stream",
     "text": [
      "100%|█████████████████████████████████████████| 357/357 [11:13<00:00,  1.89s/it]\n"
     ]
    }
   ],
   "source": [
    "import tqdm\n",
    "\n",
    "labels = all_labels(use_remote_cache=True)\n",
    "\n",
    "max_len = 0\n",
    "for label in tqdm.tqdm(labels, ncols=80):\n",
    "    # tqdm.tqdm.write(f\"Checking label: {label}\")\n",
    "    for subdir in [\n",
    "        \"linux-64\",\n",
    "        \"osx-64\",\n",
    "        \"noarch\",\n",
    "        \"win-64\",\n",
    "        \"linux-aarch64\",\n",
    "        \"osx-arm64\",\n",
    "        \"linux-ppc64le\",\n",
    "    ]:\n",
    "        rd = fetch_repodata([subdir], label=label)[0]\n",
    "        with open(rd) as f:\n",
    "            rd = orjson.loads(f.read())\n",
    "\n",
    "        for key in [\"packages\", \"packages.conda\"]:\n",
    "            for dist in rd[key]:\n",
    "                if not is_valid_conda_dist(dist):\n",
    "                    tqdm.tqdm.write(f\"invalid conda dist: {dist} (label {label})\")\n",
    "                oci_dist = encode_conda_dist_to_oci_dist(dist, channel=\"conda-forge\", subdir=subdir)\n",
    "                if not is_valid_oci_dist(oci_dist):\n",
    "                    tqdm.tqdm.write(f\"invalid oci dist: {oci_dist} (label: {label})\")\n",
    "                else:\n",
    "                    if len(oci_dist) > max_len:\n",
    "                        tqdm.tqdm.write(f\"current maximum oci length: {len(oci_dist)}\")\n",
    "                    max_len = max(max_len, len(oci_dist))\n",
    "                    # tqdm.tqdm.write(f\"valid oci dist: {oci_dist} (label: {label})\")\n"
   ]
  },
  {
   "cell_type": "code",
   "execution_count": null,
   "metadata": {},
   "outputs": [],
   "source": []
  }
 ],
 "metadata": {
  "kernelspec": {
   "display_name": "bot-dev",
   "language": "python",
   "name": "python3"
  },
  "language_info": {
   "codemirror_mode": {
    "name": "ipython",
    "version": 3
   },
   "file_extension": ".py",
   "mimetype": "text/x-python",
   "name": "python",
   "nbconvert_exporter": "python",
   "pygments_lexer": "ipython3",
   "version": "3.11.9"
  }
 },
 "nbformat": 4,
 "nbformat_minor": 2
}
