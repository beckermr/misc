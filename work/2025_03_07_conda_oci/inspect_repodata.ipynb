{
 "cells": [
  {
   "cell_type": "code",
   "execution_count": 2,
   "metadata": {},
   "outputs": [],
   "source": [
    "import orjson\n",
    "\n",
    "from conda_oci_utils import encode_conda_dist_to_oci_dist, is_valid_oci_dist\n",
    "from conda_forge_metadata.repodata import fetch_repodata"
   ]
  },
  {
   "cell_type": "code",
   "execution_count": null,
   "metadata": {},
   "outputs": [],
   "source": []
  },
  {
   "cell_type": "code",
   "execution_count": 9,
   "metadata": {},
   "outputs": [
    {
     "name": "stderr",
     "output_type": "stream",
     "text": [
      "100%|███████████████████████████████| 318986/318986 [00:00<00:00, 493703.72it/s]\n",
      "100%|███████████████████████████████| 257517/257517 [00:00<00:00, 445063.87it/s]\n",
      "100%|███████████████████████████████| 290686/290686 [00:00<00:00, 489847.08it/s]\n",
      "100%|███████████████████████████████| 212916/212916 [00:00<00:00, 427309.65it/s]\n",
      "100%|███████████████████████████████| 116762/116762 [00:00<00:00, 495570.67it/s]\n",
      "100%|███████████████████████████████| 138854/138854 [00:00<00:00, 471734.14it/s]\n",
      "100%|███████████████████████████████| 207031/207031 [00:00<00:00, 485742.10it/s]\n",
      "100%|███████████████████████████████| 167731/167731 [00:00<00:00, 461579.06it/s]\n",
      "100%|█████████████████████████████████| 76590/76590 [00:00<00:00, 475103.55it/s]\n",
      "100%|███████████████████████████████| 139276/139276 [00:00<00:00, 456825.36it/s]\n",
      "100%|█████████████████████████████████| 46473/46473 [00:00<00:00, 473731.14it/s]\n",
      "100%|███████████████████████████████| 147793/147793 [00:00<00:00, 462791.44it/s]\n",
      "100%|█████████████████████████████████| 71443/71443 [00:00<00:00, 482925.24it/s]\n",
      "100%|███████████████████████████████| 117722/117722 [00:00<00:00, 457526.66it/s]\n"
     ]
    }
   ],
   "source": [
    "import tqdm\n",
    "\n",
    "for subdir in [\n",
    "    \"linux-64\",\n",
    "    \"osx-64\",\n",
    "    \"noarch\",\n",
    "    \"win-64\",\n",
    "    \"linux-aarch64\",\n",
    "    \"osx-arm64\",\n",
    "    \"linux-ppc64le\",\n",
    "]:\n",
    "    rd = fetch_repodata([subdir])[0]\n",
    "    with open(rd) as f:\n",
    "        rd = orjson.loads(f.read())\n",
    "\n",
    "    for key in [\"packages\", \"packages.conda\"]:\n",
    "        for dist in tqdm.tqdm(rd[key], ncols=80):\n",
    "            oci_dist = encode_conda_dist_to_oci_dist(dist, channel=\"conda-forge\", subdir=subdir)\n",
    "            if not is_valid_oci_dist(oci_dist):\n",
    "                tqdm.write(f\"Invalid OCI dist: {oci_dist}\")\n"
   ]
  },
  {
   "cell_type": "code",
   "execution_count": null,
   "metadata": {},
   "outputs": [],
   "source": []
  }
 ],
 "metadata": {
  "kernelspec": {
   "display_name": "bot-dev",
   "language": "python",
   "name": "python3"
  },
  "language_info": {
   "codemirror_mode": {
    "name": "ipython",
    "version": 3
   },
   "file_extension": ".py",
   "mimetype": "text/x-python",
   "name": "python",
   "nbconvert_exporter": "python",
   "pygments_lexer": "ipython3",
   "version": "3.11.9"
  }
 },
 "nbformat": 4,
 "nbformat_minor": 2
}
