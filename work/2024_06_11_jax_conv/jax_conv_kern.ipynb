{
 "cells": [
  {
   "cell_type": "code",
   "execution_count": 18,
   "id": "d2d05027-6ba1-4fad-8a76-64b3fed1ec61",
   "metadata": {},
   "outputs": [
    {
     "data": {
      "text/plain": [
       "Array(0.27356064, dtype=float32)"
      ]
     },
     "execution_count": 18,
     "metadata": {},
     "output_type": "execute_result"
    }
   ],
   "source": [
    "import numpy as np\n",
    "import jax.numpy as jnp\n",
    "from jax import lax\n",
    "\n",
    "from diffstar.kernels.main_sequence_kernels import (\n",
    "    _lax_ms_sfh_scalar_kern_scan, \n",
    "    _sfr_eff_plaw, \n",
    "    MS_BOUNDING_SIGMOID_PDICT,\n",
    ")\n",
    "from diffstar.utils import _inverse_sigmoid, _jax_get_dt_array, _sigmoid\n",
    "from diffstar.kernels.main_sequence_kernels import DEFAULT_MS_PARAMS\n",
    "from diffmah.defaults import DEFAULT_MAH_PARAMS\n",
    "from diffstar.defaults import T_TABLE_MIN, TODAY\n",
    "from diffstar.defaults import FB\n",
    "\n",
    "lgt0 = jnp.log10(TODAY)\n",
    "\n",
    "t_form = 12.0 # time t at which we compute the value SFR(t)\n",
    "\n",
    "# define integration table of t' used to compute and sum up contributions to SFR(t) \n",
    "# from gas parcels accreted at earlier times t'<t\n",
    "t_table = jnp.linspace(T_TABLE_MIN, t_form, 20) \n",
    "\n",
    "_lax_ms_sfh_scalar_kern_scan(t_form, DEFAULT_MAH_PARAMS, DEFAULT_MS_PARAMS, lgt0, FB, t_table)\n",
    "# Array(0.27356067, dtype=float32)"
   ]
  },
  {
   "cell_type": "code",
   "execution_count": 37,
   "id": "7e9e60c9-7624-48eb-8890-999406866c39",
   "metadata": {},
   "outputs": [
    {
     "name": "stdout",
     "output_type": "stream",
     "text": [
      "scan: 0.27356064\n",
      "conv: 0.27356067\n"
     ]
    }
   ],
   "source": [
    "from jax import jit as jjit\n",
    "from jax import vmap\n",
    "from diffmah.defaults import MAH_K\n",
    "from diffmah.individual_halo_assembly import (\n",
    "    _calc_halo_history,\n",
    "    _rolling_plaw_vs_logt,\n",
    ")\n",
    "from diffstar.kernels.gas_consumption import _gas_conversion_kern\n",
    "\n",
    "\n",
    "_vmap_gas_conversion_kern = vmap(\n",
    "    _gas_conversion_kern,\n",
    "    in_axes=(None, 0, None, None, None)\n",
    ")\n",
    "\n",
    "\n",
    "@jjit\n",
    "def _lax_ms_sfh_scalar_kern_sum(t_form, mah_params, ms_params, lgt0, fb, t_table):\n",
    "    logmp, logtc, early, late = mah_params\n",
    "    all_mah_params = lgt0, logmp, logtc, MAH_K, early, late\n",
    "    lgt_form = jnp.log10(t_form)\n",
    "    log_mah_at_tform = _rolling_plaw_vs_logt(lgt_form, *all_mah_params)\n",
    "\n",
    "    sfr_eff_params = ms_params[:4]\n",
    "    sfr_eff = _sfr_eff_plaw(log_mah_at_tform, *sfr_eff_params)\n",
    "\n",
    "    tau_dep = ms_params[4]\n",
    "    tau_dep_max = MS_BOUNDING_SIGMOID_PDICT[\"tau_dep\"][3]\n",
    "\n",
    "    # compute inst. gas accretion\n",
    "    lgtacc = jnp.log10(t_table)\n",
    "    res = _calc_halo_history(lgtacc, *all_mah_params)\n",
    "    dmhdt_at_tacc, log_mah_at_tacc = res\n",
    "    dmgdt_inst = fb * dmhdt_at_tacc\n",
    "\n",
    "    # compute the consumption kernel\n",
    "    dt = t_table[1]-t_table[0]\n",
    "    kern = _vmap_gas_conversion_kern(t_form, t_table, dt, tau_dep, tau_dep_max)\n",
    "\n",
    "    # convolve\n",
    "    dmgas_dt = jnp.sum(dmgdt_inst * kern * dt)\n",
    "    sfr = dmgas_dt * sfr_eff\n",
    "    return sfr\n",
    "\n",
    "\n",
    "print(\"scan:\", _lax_ms_sfh_scalar_kern_scan(t_form, DEFAULT_MAH_PARAMS, DEFAULT_MS_PARAMS, lgt0, FB, t_table))\n",
    "print(\"conv:\", _lax_ms_sfh_scalar_kern_conv(t_form, DEFAULT_MAH_PARAMS, DEFAULT_MS_PARAMS, lgt0, FB, t_table))"
   ]
  },
  {
   "cell_type": "code",
   "execution_count": null,
   "id": "053e18d3-d04d-4a83-8f5d-ecb7370d48e6",
   "metadata": {},
   "outputs": [],
   "source": []
  },
  {
   "cell_type": "code",
   "execution_count": null,
   "id": "86dedcb0-7b15-46d3-b86a-f26d5bac678a",
   "metadata": {},
   "outputs": [],
   "source": []
  }
 ],
 "metadata": {
  "kernelspec": {
   "display_name": "Python [conda env:diffstuff]",
   "language": "python",
   "name": "conda-env-diffstuff-py"
  },
  "language_info": {
   "codemirror_mode": {
    "name": "ipython",
    "version": 3
   },
   "file_extension": ".py",
   "mimetype": "text/x-python",
   "name": "python",
   "nbconvert_exporter": "python",
   "pygments_lexer": "ipython3",
   "version": "3.12.4"
  }
 },
 "nbformat": 4,
 "nbformat_minor": 5
}
