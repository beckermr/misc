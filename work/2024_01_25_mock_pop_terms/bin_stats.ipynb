{
 "cells": [
  {
   "cell_type": "markdown",
   "id": "dd4d34a0-d90d-41ac-b256-ea255a76698c",
   "metadata": {},
   "source": [
    "## Mock Population Covariance w/ Fixed Subhalo Catalogs\n",
    "\n",
    "This notebook illustrates a \"feature\" of populating mocks using subhalo catalogs with a fixed number of objects.\n",
    "\n",
    "We'll use a relatively simple model of there being 10 objects in the catalog each with a probability of assignment to one of five bins of `[0.1, 0.2, 0.4, 0.2, 0.1]`. \n",
    "\n",
    "In the first case, we'll fix the number of objects to 10. In the second case, we'll let that total number vary using a Poisson distribution with a mean of 10. \n",
    "\n",
    "What we'll see is that in the first case there is a strong anti-correlation between the bins, whereas in the second case, the anti-correlation is approximately zero. It turns out this anti-correlation is exactly zero, but I cannot figure out the proof at the moment. "
   ]
  },
  {
   "cell_type": "code",
   "execution_count": 1,
   "id": "56e4748c-82b0-4766-838a-324120c6ff47",
   "metadata": {},
   "outputs": [],
   "source": [
    "import numpy as np"
   ]
  },
  {
   "cell_type": "code",
   "execution_count": 2,
   "id": "d4723fac-e900-4254-879c-1f9169af3ede",
   "metadata": {},
   "outputs": [],
   "source": [
    "def sim_sample(rng, n_mn=10, pvals=[0.1, 0.2, 0.4, 0.2, 0.1], poisson_tot=True):\n",
    "    if poisson_tot:\n",
    "        n = int(rng.poisson(lam=n_mn))\n",
    "    else:\n",
    "        n = int(n_mn)\n",
    "\n",
    "    h = rng.multinomial(n, pvals)\n",
    "    return h"
   ]
  },
  {
   "cell_type": "code",
   "execution_count": 3,
   "id": "4b97a12b-c5f4-4a13-bc40-bba52b7e1ba7",
   "metadata": {},
   "outputs": [
    {
     "name": "stdout",
     "output_type": "stream",
     "text": [
      "correlation matrix total fixed:\n",
      "[[ 1.         -0.16675678 -0.27026197 -0.16831935 -0.10741925]\n",
      " [-0.16675678  1.         -0.41093529 -0.24903522 -0.16360385]\n",
      " [-0.27026197 -0.41093529  1.         -0.40545936 -0.27528423]\n",
      " [-0.16831935 -0.24903522 -0.40545936  1.         -0.17071062]\n",
      " [-0.10741925 -0.16360385 -0.27528423 -0.17071062  1.        ]]\n",
      "mean total counts: 10.0\n",
      "std total counts: 0.0\n",
      "mean counts: [0.99856 2.00447 3.99759 1.99982 0.99956]\n",
      "std counts: [0.94513381 1.26538137 1.55027875 1.26517982 0.95129375]\n"
     ]
    }
   ],
   "source": [
    "rng = np.random.RandomState(seed=100)\n",
    "hs = np.array([\n",
    "    sim_sample(rng, poisson_tot=False)\n",
    "    for _ in range(100000)\n",
    "])\n",
    "\n",
    "print(\"correlation matrix total fixed:\")\n",
    "print(np.corrcoef(hs.T))\n",
    "print(\"mean total counts:\", hs.sum(axis=1).mean())\n",
    "print(\"std total counts:\", hs.sum(axis=1).std())\n",
    "print(\"mean counts:\", hs.mean(axis=0))\n",
    "print(\"std counts:\", hs.std(axis=0))"
   ]
  },
  {
   "cell_type": "code",
   "execution_count": 4,
   "id": "0ae20d6c-bbb8-4cac-bf50-7a60d31c5688",
   "metadata": {},
   "outputs": [
    {
     "name": "stdout",
     "output_type": "stream",
     "text": [
      "correlation matrix total varies:\n",
      "[[ 1.00000000e+00 -4.91487366e-03  1.47399865e-03 -3.31234180e-03\n",
      "   2.01407877e-03]\n",
      " [-4.91487366e-03  1.00000000e+00 -3.90916015e-03 -3.77722769e-03\n",
      "   2.40426177e-03]\n",
      " [ 1.47399865e-03 -3.90916015e-03  1.00000000e+00  4.34238386e-03\n",
      "  -4.48634761e-03]\n",
      " [-3.31234180e-03 -3.77722769e-03  4.34238386e-03  1.00000000e+00\n",
      "   5.42309807e-04]\n",
      " [ 2.01407877e-03  2.40426177e-03 -4.48634761e-03  5.42309807e-04\n",
      "   1.00000000e+00]]\n",
      "mean total counts: 10.00473\n",
      "std total counts: 3.1581493991101817\n",
      "mean counts: [0.9942  2.00269 4.00372 2.00302 1.0011 ]\n",
      "std counts: [1.00054303 1.41623542 2.00134109 1.41288035 1.00059922]\n"
     ]
    }
   ],
   "source": [
    "rng = np.random.RandomState(seed=100)\n",
    "hs = np.array([\n",
    "    sim_sample(rng, poisson_tot=True)\n",
    "    for _ in range(100000)\n",
    "])\n",
    "\n",
    "print(\"correlation matrix total varies:\")\n",
    "print(np.corrcoef(hs.T))\n",
    "print(\"mean total counts:\", hs.sum(axis=1).mean())\n",
    "print(\"std total counts:\", hs.sum(axis=1).std())\n",
    "print(\"mean counts:\", hs.mean(axis=0))\n",
    "print(\"std counts:\", hs.std(axis=0))"
   ]
  },
  {
   "cell_type": "code",
   "execution_count": null,
   "id": "caa7ee33-be8d-48b1-9a7a-a1523af11f42",
   "metadata": {},
   "outputs": [],
   "source": []
  }
 ],
 "metadata": {
  "kernelspec": {
   "display_name": "Python [conda env:work]",
   "language": "python",
   "name": "conda-env-work-py"
  },
  "language_info": {
   "codemirror_mode": {
    "name": "ipython",
    "version": 3
   },
   "file_extension": ".py",
   "mimetype": "text/x-python",
   "name": "python",
   "nbconvert_exporter": "python",
   "pygments_lexer": "ipython3",
   "version": "3.10.12"
  }
 },
 "nbformat": 4,
 "nbformat_minor": 5
}
