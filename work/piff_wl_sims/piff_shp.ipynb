{
 "cells": [
  {
   "cell_type": "code",
   "execution_count": 1,
   "metadata": {},
   "outputs": [],
   "source": [
    "import galsim\n",
    "import numpy as np\n",
    "import matplotlib.pyplot as plt\n",
    "\n",
    "%matplotlib notebook"
   ]
  },
  {
   "cell_type": "code",
   "execution_count": 2,
   "metadata": {},
   "outputs": [],
   "source": [
    "from montara.des_piff import DES_Piff"
   ]
  },
  {
   "cell_type": "code",
   "execution_count": 3,
   "metadata": {},
   "outputs": [],
   "source": [
    "pmod = DES_Piff('/Users/Matt/DESDATA/y3_piff/y3a1-v29/239273/D00239273_i_c21_r2362p01_piff.fits')"
   ]
  },
  {
   "cell_type": "code",
   "execution_count": 103,
   "metadata": {},
   "outputs": [],
   "source": [
    "pos = galsim.PositionD(x=17.6, y=20.8)\n",
    "psf = pmod.getPSF(pos, galsim.PixelScale(0.263))\n",
    "obs = pmod.getNGmixObs(pos, galsim.PixelScale(0.263))"
   ]
  },
  {
   "cell_type": "code",
   "execution_count": 129,
   "metadata": {},
   "outputs": [],
   "source": [
    "im = galsim.Convolve([\n",
    "    galsim.Deconvolve(galsim.Pixel(0.263)), \n",
    "    psf]).drawImage(nx=33, ny=33, scale=0.263, method='no_pixel').array\n",
    "im /= np.sum(im)"
   ]
  },
  {
   "cell_type": "code",
   "execution_count": 105,
   "metadata": {},
   "outputs": [],
   "source": [
    "obs.image = im"
   ]
  },
  {
   "cell_type": "code",
   "execution_count": 106,
   "metadata": {},
   "outputs": [
    {
     "data": {
      "text/plain": [
       "<matplotlib.image.AxesImage at 0x12ac85d10>"
      ]
     },
     "execution_count": 106,
     "metadata": {},
     "output_type": "execute_result"
    },
    {
     "data": {
      "image/png": "[encoded data removed]",
      "text/plain": [
       "<Figure size 576x576 with 1 Axes>"
      ]
     },
     "metadata": {
      "needs_background": "light"
     },
     "output_type": "display_data"
    }
   ],
   "source": [
    "plt.figure(figsize=(8, 8))\n",
    "plt.imshow(im)"
   ]
  },
  {
   "cell_type": "code",
   "execution_count": 128,
   "metadata": {},
   "outputs": [
    {
     "name": "stdout",
     "output_type": "stream",
     "text": [
      "\n",
      "flags:   0\n",
      "numiter: 602\n",
      "fdiff:   9.98703e-07\n",
      "\n",
      "[ 0.22270385 -0.00731392 -0.01670942  0.09772741  0.0039566   0.10457784\n",
      "  0.06684082  0.10612219 -0.00416981  0.5085817   0.07913173  0.50619493]\n"
     ]
    }
   ],
   "source": [
    "import ngmix\n",
    "from ngmix.bootstrap import EMRunner\n",
    "\n",
    "ngauss = 2    # number of gaussians to fit\n",
    "Tguess = 4.0  # Ixx+Iyy in units defined by the wcs\n",
    "ntry   = 5    # how many times to try with different random\n",
    "              # guesses based on Tguess\n",
    "\n",
    "em_pars={'maxiter':1000, 'tol':1.0e-6}\n",
    "\n",
    "runner=EMRunner(obs, Tguess, ngauss, em_pars)\n",
    "\n",
    "runner.go(ntry=ntry)\n",
    "\n",
    "fitter=runner.get_fitter()\n",
    "res=fitter.get_result()\n",
    "print(\"\"\"\n",
    "flags:   %(flags)d\n",
    "numiter: %(numiter)d\n",
    "fdiff:   %(fdiff)g\n",
    "\"\"\" % res)\n",
    "\n",
    "if res['flags'] != 0:\n",
    "    print('an error occured with flags:',res['flags'])\n",
    "else:\n",
    "\n",
    "    # get a ngmix.GMix object\n",
    "    gmix=runner.get_fitter().get_gmix()\n",
    "\n",
    "    # get the full parametrization as an array.  Note EM does\n",
    "    # not normalize the p values to give the total\n",
    "    # flux\n",
    "    #\n",
    "    # [ p1, row1, col1, irr1, irc1, icc1,\n",
    "    #   p2, row2, col2, irr2, irc2, icc2,\n",
    "    #   p3, row3, col3, irr3, irc3, icc3 ]\n",
    "\n",
    "    pars=gmix.get_full_pars()\n",
    "    print(pars)"
   ]
  },
  {
   "cell_type": "code",
   "execution_count": 108,
   "metadata": {},
   "outputs": [],
   "source": [
    "gm = runner.fitter.get_gmix()"
   ]
  },
  {
   "cell_type": "code",
   "execution_count": 109,
   "metadata": {},
   "outputs": [],
   "source": [
    "gm_gs = gm.make_galsim_object()"
   ]
  },
  {
   "cell_type": "code",
   "execution_count": 110,
   "metadata": {},
   "outputs": [
    {
     "data": {
      "text/plain": [
       "galsim.Sum([galsim.Transformation(galsim.Gaussian(sigma=0.31783196418472376, flux=0.222703839673744, gsparams=galsim.GSParams(128,8192,0.005,5.0,0.001,1e-05,1e-05,1,0.0001,1e-06,1e-06,1e-08,1e-05)), jac=[[1.0172831383013683, 0.0195772298911706], [0.0195772298911706, 0.983387250083221]], offset=galsim.PositionD(x=-0.016709424989104132, y=-0.0073139236041476225), flux_ratio=1.0, gsparams=galsim.GSParams(128,8192,0.005,5.0,0.001,1e-05,1e-05,1,0.0001,1e-06,1e-06,1e-08,1e-05), propagate_gsparams=True), galsim.Transformation(galsim.Gaussian(sigma=0.7079394023598625, flux=0.06684082542702247, gsparams=galsim.GSParams(128,8192,0.005,5.0,0.001,1e-05,1e-05,1,0.0001,1e-06,1e-06,1e-08,1e-05)), jac=[[1.0019060374053448, 0.07870225907977058], [0.07870225907977058, 1.0042798506235366]], offset=galsim.PositionD(x=-0.004169805264636683, y=0.10612217851542213), flux_ratio=1.0, gsparams=galsim.GSParams(128,8192,0.005,5.0,0.001,1e-05,1e-05,1,0.0001,1e-06,1e-06,1e-08,1e-05), propagate_gsparams=True)], gsparams=galsim.GSParams(128,8192,0.005,5.0,0.001,1e-05,1e-05,1,0.0001,1e-06,1e-06,1e-08,1e-05), propagate_gsparams=True)"
      ]
     },
     "execution_count": 110,
     "metadata": {},
     "output_type": "execute_result"
    }
   ],
   "source": [
    "gm_gs"
   ]
  },
  {
   "cell_type": "code",
   "execution_count": 113,
   "metadata": {},
   "outputs": [],
   "source": [
    "im_gs = gm_gs.drawImage(nx=33, ny=33, scale=0.263, method='no_pixel').array\n",
    "im_gs /= np.sum(im_gs)"
   ]
  },
  {
   "cell_type": "code",
   "execution_count": 114,
   "metadata": {},
   "outputs": [
    {
     "data": {
      "text/plain": [
       "<matplotlib.axes._subplots.AxesSubplot at 0x11125d790>"
      ]
     },
     "execution_count": 114,
     "metadata": {},
     "output_type": "execute_result"
    },
    {
     "data": {
      "image/png": "[encoded data removed]",
      "text/plain": [
       "<Figure size 576x576 with 2 Axes>"
      ]
     },
     "metadata": {
      "needs_background": "light"
     },
     "output_type": "display_data"
    }
   ],
   "source": [
    "import seaborn as sns\n",
    "\n",
    "plt.figure(figsize=(8, 8))\n",
    "sns.heatmap((im_gs - im) / np.max(im))"
   ]
  },
  {
   "cell_type": "code",
   "execution_count": 127,
   "metadata": {},
   "outputs": [
    {
     "data": {
      "text/plain": [
       "<ErrorbarContainer object of 3 artists>"
      ]
     },
     "execution_count": 127,
     "metadata": {},
     "output_type": "execute_result"
    },
    {
     "data": {
      "image/png": "[encoded data removed]",
      "text/plain": [
       "<Figure size 432x288 with 1 Axes>"
      ]
     },
     "metadata": {
      "needs_background": "light"
     },
     "output_type": "display_data"
    }
   ],
   "source": [
    "row = 17\n",
    "plt.figure()\n",
    "plt.plot(np.arange(33), im_gs[row, :])\n",
    "plt.plot(np.arange(33), im[row, :], 'o', color='r')\n",
    "plt.errorbar(np.arange(33), im[row, :], yerr=1.0 / np.sqrt(obs.weight[row, :]), color='r', fmt='.')"
   ]
  },
  {
   "cell_type": "code",
   "execution_count": 131,
   "metadata": {},
   "outputs": [
    {
     "data": {
      "text/plain": [
       "<matplotlib.image.AxesImage at 0x12c1ddc10>"
      ]
     },
     "execution_count": 131,
     "metadata": {},
     "output_type": "execute_result"
    },
    {
     "data": {
      "image/png": "[encoded data removed]",
      "text/plain": [
       "<Figure size 576x576 with 1 Axes>"
      ]
     },
     "metadata": {
      "needs_background": "light"
     },
     "output_type": "display_data"
    }
   ],
   "source": [
    "plt.figure(figsize=(8, 8))\n",
    "plt.imshow(np.arcsinh(im_gs))"
   ]
  },
  {
   "cell_type": "code",
   "execution_count": null,
   "metadata": {},
   "outputs": [],
   "source": []
  }
 ],
 "metadata": {
  "kernelspec": {
   "display_name": "Python 2",
   "language": "python",
   "name": "python2"
  },
  "language_info": {
   "codemirror_mode": {
    "name": "ipython",
    "version": 2
   },
   "file_extension": ".py",
   "mimetype": "text/x-python",
   "name": "python",
   "nbconvert_exporter": "python",
   "pygments_lexer": "ipython2",
   "version": "2.7.15"
  }
 },
 "nbformat": 4,
 "nbformat_minor": 2
}
