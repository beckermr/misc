{
 "cells": [
  {
   "cell_type": "code",
   "execution_count": 1,
   "id": "a0d53d07",
   "metadata": {},
   "outputs": [],
   "source": [
    "import scipy\n",
    "import fitsio\n",
    "import smatch\n",
    "import proplot as pplt\n",
    "import matplotlib.pyplot as plt\n",
    "import numpy as np\n",
    "import hpgeom\n",
    "import numba\n",
    "import tqdm\n",
    "\n",
    "%load_ext autoreload\n",
    "%autoreload 2\n",
    "\n",
    "%matplotlib inline"
   ]
  },
  {
   "cell_type": "code",
   "execution_count": 2,
   "id": "995e7706",
   "metadata": {},
   "outputs": [],
   "source": [
    "_ed = fitsio.read(\"des_exposure_data.fits\")"
   ]
  },
  {
   "cell_type": "code",
   "execution_count": 3,
   "id": "7c089a27",
   "metadata": {},
   "outputs": [],
   "source": [
    "_ed = np.sort(_ed, order=\"mjd_obs\")"
   ]
  },
  {
   "cell_type": "code",
   "execution_count": 4,
   "id": "800dbf2c",
   "metadata": {},
   "outputs": [
    {
     "data": {
      "text/plain": [
       "(100802,)"
      ]
     },
     "execution_count": 4,
     "metadata": {},
     "output_type": "execute_result"
    }
   ],
   "source": [
    "_ed.shape"
   ]
  },
  {
   "cell_type": "code",
   "execution_count": 5,
   "id": "8549b61c",
   "metadata": {},
   "outputs": [
    {
     "data": {
      "image/png": "[encoded data removed]",
      "text/plain": [
       "Figure(nrows=1, ncols=1, refwidth=2.5)"
      ]
     },
     "metadata": {
      "image/png": {
       "height": 282,
       "width": 305
      }
     },
     "output_type": "display_data"
    }
   ],
   "source": [
    "fig, axs = pplt.subplots()\n",
    "\n",
    "axs.hist(_ed[\"mjd_obs\"], bins=500);"
   ]
  },
  {
   "cell_type": "code",
   "execution_count": null,
   "id": "7b3fbeb7",
   "metadata": {},
   "outputs": [],
   "source": [
    "from silly_cal.models import nights_with_mirror\n",
    "\n",
    "nside = 1024\n",
    "nside = 512\n",
    "\n",
    "bmsk = (_ed[\"band\"] == \"r\") | (_ed[\"band\"] == \"r\")\n",
    "fd = nights_with_mirror.gen_fake_data(\n",
    "    # edata=_ed[bmsk],\n",
    "    edata=_ed[(_ed[\"mjd_obs\"] < 57200) & bmsk],\n",
    "    # edata=_ed[(_ed[\"mjd_obs\"] > 57900) & bmsk],\n",
    "    # edata=_ed[(_ed[\"mjd_obs\"] > 57500) & (_ed[\"mjd_obs\"] < 57900) & (_ed[\"band\"] == \"r\")],\n",
    "    nside=nside,\n",
    "    seed=None,\n",
    "    target_nstar=20e6,\n",
    "    period=365,\n",
    ")"
   ]
  },
  {
   "cell_type": "code",
   "execution_count": null,
   "id": "0232ab05",
   "metadata": {},
   "outputs": [],
   "source": [
    "fig, axs = pplt.subplots(figsize=(8, 2))\n",
    "\n",
    "axs.plot(fd[\"data\"][\"night\"], fd[\"data\"][\"true_zp\"], \".\", markersize=2)\n",
    "yv = fd[\"data\"][\"true_zp_night\"][fd[\"data\"][\"inv_unight\"]]\n",
    "axs.plot(fd[\"data\"][\"night\"], yv, \",\", color=\"r\")\n",
    "\n",
    "# axs.format(ylim=(-1.5, 0.2), xlim=(0, 50))"
   ]
  },
  {
   "cell_type": "markdown",
   "id": "fd13b5b6",
   "metadata": {},
   "source": [
    "## Optimize the Loss"
   ]
  },
  {
   "cell_type": "code",
   "execution_count": null,
   "id": "94c20246",
   "metadata": {},
   "outputs": [],
   "source": [
    "# from silly_cal.optimizers import run_amsgrad, run_laprop\n",
    "\n",
    "# from functools import partial\n",
    "\n",
    "# pars = nights_with_mirror.gen_guess(fd[\"opt_kwargs\"], eps=1e-2)\n",
    "# grad = np.zeros_like(pars)\n",
    "# nt = numba.get_num_threads()\n",
    "# tgrads = np.zeros((nt, grad.shape[0]), dtype=np.float64)\n",
    "\n",
    "# def ofun(pars):\n",
    "#     return nights_with_mirror.value_and_grad(pars, grad, tgrads, **fd[\"opt_kwargs\"])\n",
    "\n",
    "# ores = run_laprop(ofun, pars, 1e-3, 10000)\n",
    "# ores"
   ]
  },
  {
   "cell_type": "code",
   "execution_count": null,
   "id": "7c0abb2d",
   "metadata": {
    "scrolled": false
   },
   "outputs": [],
   "source": [
    "from scipy.optimize import minimize\n",
    "from functools import partial\n",
    "\n",
    "pars = nights_with_mirror.gen_guess(fd[\"opt_kwargs\"], eps=1e-2)\n",
    "grad = np.zeros_like(pars)\n",
    "nt = numba.get_num_threads()\n",
    "tgrads = np.zeros((nt, grad.shape[0]), dtype=np.float64)\n",
    "\n",
    "def ofun(pars):\n",
    "    return nights_with_mirror.value_and_grad(pars, grad, tgrads, **fd[\"opt_kwargs\"])[0]\n",
    "\n",
    "def ofun_jac(pars):\n",
    "    return nights_with_mirror.value_and_grad(pars, grad, tgrads, **fd[\"opt_kwargs\"])[1].copy()\n",
    "\n",
    "res = minimize(\n",
    "    ofun, pars, method=\"L-BFGS-B\", jac=ofun_jac, options=dict(disp=10),\n",
    ")\n",
    "res = minimize(\n",
    "    ofun, res[\"x\"], method=\"L-BFGS-B\", jac=ofun_jac, options=dict(disp=10),\n",
    ")\n",
    "res"
   ]
  },
  {
   "cell_type": "code",
   "execution_count": null,
   "id": "edcf4c77",
   "metadata": {},
   "outputs": [],
   "source": [
    "fdd = fd[\"data\"]"
   ]
  },
  {
   "cell_type": "code",
   "execution_count": null,
   "id": "75868466",
   "metadata": {},
   "outputs": [],
   "source": [
    "fdd[\"true_tel_eff\"], res[\"x\"][0:fdd[\"true_tel_eff\"].shape[0]]"
   ]
  },
  {
   "cell_type": "code",
   "execution_count": null,
   "id": "b4d802b2",
   "metadata": {},
   "outputs": [],
   "source": [
    "import matplotlib.pyplot as plt\n",
    "import numpy as np\n",
    "import healsparse as hsp\n",
    "\n",
    "import skyproj"
   ]
  },
  {
   "cell_type": "code",
   "execution_count": null,
   "id": "32e86b4c",
   "metadata": {},
   "outputs": [],
   "source": [
    "hmap = hsp.HealSparseMap.make_empty(32, nside, np.float64)"
   ]
  },
  {
   "cell_type": "code",
   "execution_count": null,
   "id": "c540398e",
   "metadata": {},
   "outputs": [],
   "source": [
    "est_star = res[\"x\"][fd[\"opt_kwargs\"][\"nyear\"] + fd[\"opt_kwargs\"][\"nnight\"]+fd[\"opt_kwargs\"][\"nexp\"]:]\n",
    "\n",
    "dstar = est_star - fdd[\"true_star\"]\n",
    "\n",
    "hmap.update_values_pix(fdd[\"true_star_nest_ind\"], dstar)"
   ]
  },
  {
   "cell_type": "code",
   "execution_count": null,
   "id": "8978a57d",
   "metadata": {},
   "outputs": [],
   "source": [
    "from mattspy.stats import mad\n",
    "\n",
    "np.mean(dstar), mad(dstar)"
   ]
  },
  {
   "cell_type": "code",
   "execution_count": null,
   "id": "34449d49",
   "metadata": {},
   "outputs": [],
   "source": [
    "fig, axs = plt.subplots(ncols=2, nrows=2, figsize=(16, 12), squeeze=False)\n",
    "\n",
    "mn_map = hmap.degrade(64, reduction=\"mean\")\n",
    "sd_map = hmap.degrade(64, reduction=\"std\")\n",
    "mean_sd = np.median(sd_map.get_values_pix(sd_map.valid_pixels))\n",
    "\n",
    "sp = skyproj.McBrydeSkyproj(ax=axs[0, 0])\n",
    "sp.draw_hspmap(mn_map * 1e3, cmap=\"rocket\")\n",
    "sp.draw_inset_colorbar(label=\"$\\Delta mag$ [mmag]\")\n",
    "\n",
    "sp = skyproj.McBrydeSkyproj(ax=axs[0, 1])\n",
    "sp.draw_hspmap(mn_map / mean_sd, cmap=\"rocket\")\n",
    "sp.draw_inset_colorbar(label=\"$\\Delta mag/RMS$\")\n",
    "\n",
    "sp = skyproj.McBrydeSkyproj(ax=axs[1, 0])\n",
    "sp.draw_hspmap(sd_map / 1e-3, cmap=\"rocket\")\n",
    "sp.draw_inset_colorbar(label=\"RMS [mmag]\")\n",
    "\n",
    "axs[1, 1].set_visible(False)"
   ]
  },
  {
   "cell_type": "code",
   "execution_count": null,
   "id": "67e22eba",
   "metadata": {},
   "outputs": [],
   "source": []
  }
 ],
 "metadata": {
  "kernelspec": {
   "display_name": "Python [conda env:work]",
   "language": "python",
   "name": "conda-env-work-py"
  },
  "language_info": {
   "codemirror_mode": {
    "name": "ipython",
    "version": 3
   },
   "file_extension": ".py",
   "mimetype": "text/x-python",
   "name": "python",
   "nbconvert_exporter": "python",
   "pygments_lexer": "ipython3",
   "version": "3.10.10"
  }
 },
 "nbformat": 4,
 "nbformat_minor": 5
}
