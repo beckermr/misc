{
 "cells": [
  {
   "cell_type": "code",
   "execution_count": null,
   "metadata": {},
   "outputs": [],
   "source": [
    "import numpy as np\n",
    "import galsim\n",
    "import ngmix\n",
    "import proplot as plot\n",
    "import json"
   ]
  },
  {
   "cell_type": "code",
   "execution_count": null,
   "metadata": {},
   "outputs": [],
   "source": [
    "from blend_code import run_sim, make_objs\n",
    "\n",
    "top = True\n",
    "blend = True\n",
    "\n",
    "rng = np.random.RandomState(seed=3453425342)\n",
    "im = make_objs(rng=rng, blend=blend, shear=0.2, top=top)[0]\n",
    "fig, axs = plot.subplots()\n",
    "\n",
    "cut = 7\n",
    "axs.imshow(np.arcsinh(im[cut:-cut, cut:-cut]), cmap='rocket_r')\n",
    "axs.format(grid=False, xticks=[], yticks=[])"
   ]
  },
  {
   "cell_type": "code",
   "execution_count": null,
   "metadata": {},
   "outputs": [],
   "source": [
    "top = False"
   ]
  },
  {
   "cell_type": "code",
   "execution_count": null,
   "metadata": {},
   "outputs": [],
   "source": [
    "with open(f\"data_blendTrue_shear0.02_top{top}.json\", \"r\") as fp:\n",
    "    datap = json.load(fp)\n",
    "    \n",
    "with open(f\"data_blendTrue_shear-0.02_top{top}.json\", \"r\") as fp:\n",
    "    datam = json.load(fp)\n",
    "\n",
    "Rblend = (np.array(datap['g1'])/np.array(datap['R11']) - np.array(datam['g1'])/np.array(datam['R11']))/0.04\n",
    "print(Rblend)"
   ]
  },
  {
   "cell_type": "code",
   "execution_count": null,
   "metadata": {},
   "outputs": [],
   "source": [
    "with open(f\"data_blendFalse_shear0.02_top{top}.json\", \"r\") as fp:\n",
    "    datap = json.load(fp)\n",
    "    \n",
    "with open(f\"data_blendFalse_shear-0.02_top{top}.json\", \"r\") as fp:\n",
    "    datam = json.load(fp)\n",
    "\n",
    "R = (np.array(datap['g1'])/np.array(datap['R11']) - np.array(datam['g1'])/np.array(datam['R11']))/0.04\n",
    "print(R)"
   ]
  },
  {
   "cell_type": "code",
   "execution_count": null,
   "metadata": {},
   "outputs": [],
   "source": [
    "plot.rc.style = 'seaborn-talk'\n",
    "\n",
    "fig, axs = plot.subplots(nrows=2, ncols=2, sharex=0, sharey=0)\n",
    "\n",
    "ax = axs[0, 0]\n",
    "rng = np.random.RandomState(seed=3453425342)\n",
    "im = make_objs(rng=rng, blend=False, shear=0.2, top=top)[0]\n",
    "\n",
    "cut = 7\n",
    "ax.imshow(np.arcsinh(im[cut:-cut, cut:-cut]), cmap='rocket_r')\n",
    "ax.format(grid=False, xticks=[], yticks=[])\n",
    "\n",
    "ax = axs[1, 0]\n",
    "rng = np.random.RandomState(seed=3453425342)\n",
    "im = make_objs(rng=rng, blend=True, shear=0.2, top=top)[0]\n",
    "\n",
    "cut = 7\n",
    "ax.imshow(np.arcsinh(im[cut:-cut, cut:-cut]), cmap='rocket_r')\n",
    "ax.format(grid=False, xticks=[], yticks=[])\n",
    "\n",
    "ax = axs[0, 1]\n",
    "ax.plot([0.75, 0.75], [0, R[0]], color='k')\n",
    "ax.format(xlim=[0, 1], ylim=[0, 1.2], xlabel='redshift', ylabel='response to shear')\n",
    "\n",
    "ax = axs[1, 1]\n",
    "ax.plot([0.75, 0.75], [0, Rblend[0]], color='k')\n",
    "ax.plot([0.25, 0.25], [0, Rblend[1]], color='k')\n",
    "ax.format(xlim=[0, 1], ylim=[0, 1.2], xlabel='redshift', ylabel='response to shear')"
   ]
  },
  {
   "cell_type": "code",
   "execution_count": null,
   "metadata": {},
   "outputs": [],
   "source": [
    "fig.save(\"blendexample.pdf\")"
   ]
  },
  {
   "cell_type": "code",
   "execution_count": null,
   "metadata": {},
   "outputs": [],
   "source": []
  }
 ],
 "metadata": {
  "kernelspec": {
   "display_name": "Python [conda env:anl] *",
   "language": "python",
   "name": "conda-env-anl-py"
  },
  "language_info": {
   "codemirror_mode": {
    "name": "ipython",
    "version": 3
   },
   "file_extension": ".py",
   "mimetype": "text/x-python",
   "name": "python",
   "nbconvert_exporter": "python",
   "pygments_lexer": "ipython3",
   "version": "3.7.8"
  }
 },
 "nbformat": 4,
 "nbformat_minor": 4
}
